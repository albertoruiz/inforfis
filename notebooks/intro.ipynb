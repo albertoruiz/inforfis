{
 "cells": [
  {
   "cell_type": "markdown",
   "metadata": {},
   "source": [
    "Informática - 1º de Física\n",
    "<br>\n",
    "**Introducción a la Programación**\n",
    "<br>\n",
    "<p style=\"color:#808080\"> <small><small>\n",
    "18/09/2018\n",
    "</small></small></p>"
   ]
  },
  {
   "cell_type": "markdown",
   "metadata": {},
   "source": [
    "## Tema 1. Primeros pasos"
   ]
  },
  {
   "cell_type": "markdown",
   "metadata": {},
   "source": [
    "El punto de partida es instalar en nuestro ordenador el lenguaje de programación que vamos a utilizar y algunas herramientas auxiliares. Una vez hecho esto, existen diferentes formas de trabajar:\n",
    "\n",
    "- Editor y terminal.\n",
    "\n",
    "- IDE (entorno integrado de programación).\n",
    "\n",
    "- Notebook interactivo.\n",
    "\n",
    "En su momento haremos ejercicios para familiarizarnos con las dos primeras pero la mayoría de las explicaciones las haremos utilizando los notebooks. De esta manera podemos crear documentos de referencia con todo lo que vamos aprendiendo.\n",
    "\n",
    "A partir de aquí suponemos que conocemos los comandos de edición básicos de los notebooks, que se explican en la primera clase de prácticas. (También se puede echar un vistazo a la opción \"Help -> Notebook Help\" de la barra de menú superior.)\n",
    "\n",
    "Se recomienda crear una carpeta en tu ordenador para guardar todos los documentos que se vayan creando en la asignatura."
   ]
  },
  {
   "cell_type": "markdown",
   "metadata": {
    "heading_collapsed": true
   },
   "source": [
    "### aritmética elemental"
   ]
  },
  {
   "cell_type": "markdown",
   "metadata": {
    "hidden": true
   },
   "source": [
    "Igual que una calculadora, un ordenador es capaz de hacer operaciones aritméticas:"
   ]
  },
  {
   "cell_type": "code",
   "execution_count": 1,
   "metadata": {
    "hidden": true
   },
   "outputs": [
    {
     "data": {
      "text/plain": [
       "5"
      ]
     },
     "execution_count": 1,
     "metadata": {},
     "output_type": "execute_result"
    }
   ],
   "source": [
    "3+2"
   ]
  },
  {
   "cell_type": "markdown",
   "metadata": {
    "hidden": true
   },
   "source": [
    "Los símbolos de las operaciones son más o menos intuitivos: `+`, `-`, `*`, `/`, y la precedencia es la usual en matemáticas."
   ]
  },
  {
   "cell_type": "code",
   "execution_count": 2,
   "metadata": {
    "hidden": true
   },
   "outputs": [
    {
     "data": {
      "text/plain": [
       "17"
      ]
     },
     "execution_count": 2,
     "metadata": {},
     "output_type": "execute_result"
    }
   ],
   "source": [
    "2 + 3 * 5"
   ]
  },
  {
   "cell_type": "markdown",
   "metadata": {
    "hidden": true
   },
   "source": [
    "Los espacios no influyen. Usamos paréntesis para agrupar de la forma deseada:"
   ]
  },
  {
   "cell_type": "code",
   "execution_count": 3,
   "metadata": {
    "hidden": true
   },
   "outputs": [
    {
     "data": {
      "text/plain": [
       "21"
      ]
     },
     "execution_count": 3,
     "metadata": {},
     "output_type": "execute_result"
    }
   ],
   "source": [
    "(2+3) *  5-4"
   ]
  },
  {
   "cell_type": "markdown",
   "metadata": {
    "hidden": true
   },
   "source": [
    "La potencia se expresa con el símbolo `**`."
   ]
  },
  {
   "cell_type": "code",
   "execution_count": 4,
   "metadata": {
    "hidden": true
   },
   "outputs": [
    {
     "data": {
      "text/plain": [
       "1024"
      ]
     },
     "execution_count": 4,
     "metadata": {},
     "output_type": "execute_result"
    }
   ],
   "source": [
    "2**10"
   ]
  },
  {
   "cell_type": "markdown",
   "metadata": {
    "hidden": true
   },
   "source": [
    "En programación es muy importante distinguir entre números enteros y números reales. Los enteros son matemáticamente exactos, mientras que los reales son aproximaciones con una cantidad finita de decimales."
   ]
  },
  {
   "cell_type": "code",
   "execution_count": 5,
   "metadata": {
    "hidden": true
   },
   "outputs": [
    {
     "data": {
      "text/plain": [
       "1.4142135623730951"
      ]
     },
     "execution_count": 5,
     "metadata": {},
     "output_type": "execute_result"
    }
   ],
   "source": [
    "2**(1/2)"
   ]
  },
  {
   "cell_type": "markdown",
   "metadata": {
    "hidden": true
   },
   "source": [
    "En algunos lenguajes los enteros tienen un tamaño limitado, como ocurre en las calculadoras. Pero en Python los enteros pueden ser de cualquier tamaño. El único límite es la memoria disponible en el ordenador."
   ]
  },
  {
   "cell_type": "code",
   "execution_count": 6,
   "metadata": {
    "hidden": true
   },
   "outputs": [
    {
     "data": {
      "text/plain": [
       "6147102592468651336192412089282069174074558674790952240521262267958019995940288912789820651282318338938794713404346722691907328564818184457431599939243408750167870757463938171866175799570066146915175087199725900885179188001"
      ]
     },
     "execution_count": 6,
     "metadata": {},
     "output_type": "execute_result"
    }
   ],
   "source": [
    "13**200"
   ]
  },
  {
   "cell_type": "markdown",
   "metadata": {
    "hidden": true
   },
   "source": [
    "El símbolo de división `/` se refiere a la división real:"
   ]
  },
  {
   "cell_type": "code",
   "execution_count": 7,
   "metadata": {
    "hidden": true
   },
   "outputs": [
    {
     "data": {
      "text/plain": [
       "5.0"
      ]
     },
     "execution_count": 7,
     "metadata": {},
     "output_type": "execute_result"
    }
   ],
   "source": [
    "10 / 2"
   ]
  },
  {
   "cell_type": "code",
   "execution_count": 8,
   "metadata": {
    "hidden": true
   },
   "outputs": [
    {
     "data": {
      "text/plain": [
       "5.5"
      ]
     },
     "execution_count": 8,
     "metadata": {},
     "output_type": "execute_result"
    }
   ],
   "source": [
    "11 / 2"
   ]
  },
  {
   "cell_type": "markdown",
   "metadata": {
    "hidden": true
   },
   "source": [
    "El cociente y el resto de la división entera utilizan respectívamente los símbolos `//` y `%`: "
   ]
  },
  {
   "cell_type": "code",
   "execution_count": 9,
   "metadata": {
    "hidden": true
   },
   "outputs": [
    {
     "data": {
      "text/plain": [
       "5"
      ]
     },
     "execution_count": 9,
     "metadata": {},
     "output_type": "execute_result"
    }
   ],
   "source": [
    "11 // 2"
   ]
  },
  {
   "cell_type": "code",
   "execution_count": 10,
   "metadata": {
    "hidden": true
   },
   "outputs": [
    {
     "data": {
      "text/plain": [
       "1"
      ]
     },
     "execution_count": 10,
     "metadata": {},
     "output_type": "execute_result"
    }
   ],
   "source": [
    "11 % 2"
   ]
  },
  {
   "cell_type": "markdown",
   "metadata": {
    "hidden": true
   },
   "source": [
    "Los números reales que se utilizan normalmente son aproximaciones de \"coma flotante\" de \"doble precisión\" (64bits) que tienen 15 decimales y un exponente hasta $\\pm 308$.\n",
    "\n",
    "La notación científica $a\\times 10^b$ se expresa $a$ `e` $b$. "
   ]
  },
  {
   "cell_type": "code",
   "execution_count": 11,
   "metadata": {
    "hidden": true
   },
   "outputs": [
    {
     "data": {
      "text/plain": [
       "5.143000477600881e+93"
      ]
     },
     "execution_count": 11,
     "metadata": {},
     "output_type": "execute_result"
    }
   ],
   "source": [
    "2.37e18 ** 5.1"
   ]
  },
  {
   "cell_type": "markdown",
   "metadata": {
    "hidden": true
   },
   "source": [
    "Debido a que los números reales tienen un número fijo de decimales las operaciones pueden producir errores de redondeo:"
   ]
  },
  {
   "cell_type": "code",
   "execution_count": 12,
   "metadata": {
    "hidden": true
   },
   "outputs": [
    {
     "data": {
      "text/plain": [
       "3.3333333333333335"
      ]
     },
     "execution_count": 12,
     "metadata": {},
     "output_type": "execute_result"
    }
   ],
   "source": [
    "10/3"
   ]
  },
  {
   "cell_type": "code",
   "execution_count": 13,
   "metadata": {
    "hidden": true
   },
   "outputs": [
    {
     "data": {
      "text/plain": [
       "0.30000000000000004"
      ]
     },
     "execution_count": 13,
     "metadata": {},
     "output_type": "execute_result"
    }
   ],
   "source": [
    "0.1 + 0.2"
   ]
  },
  {
   "cell_type": "markdown",
   "metadata": {
    "heading_collapsed": true
   },
   "source": [
    "### bibliotecas de funciones"
   ]
  },
  {
   "cell_type": "markdown",
   "metadata": {
    "hidden": true
   },
   "source": [
    "El lenguaje Python posee un número enorme de funciones y operaciones disponibles que están organizadas en una gran biblioteca estructurada por \"módulos\". Por ejemplo, las funciones matemáticas (trigonométricas, logaritmos, etc.) se guardan en el módulo `math`.\n",
    "\n",
    "Para utilizar funciones de un módulo debemos \"importarlas\" (hacerlas visibles) con una instrucción como la siguiente:"
   ]
  },
  {
   "cell_type": "code",
   "execution_count": 14,
   "metadata": {
    "collapsed": true,
    "hidden": true
   },
   "outputs": [],
   "source": [
    "from math import pi, sin, sqrt"
   ]
  },
  {
   "cell_type": "code",
   "execution_count": 15,
   "metadata": {
    "hidden": true
   },
   "outputs": [
    {
     "data": {
      "text/plain": [
       "0.49999999999999994"
      ]
     },
     "execution_count": 15,
     "metadata": {},
     "output_type": "execute_result"
    }
   ],
   "source": [
    "sin(pi/6)"
   ]
  },
  {
   "cell_type": "markdown",
   "metadata": {
    "hidden": true
   },
   "source": [
    "Se pueden importar todas de una vez haciendo `from math import *` pero no se recomienda. La forma adecuada de acceder a todas las funciones de un módulo es utilizar un prefijo:"
   ]
  },
  {
   "cell_type": "code",
   "execution_count": 16,
   "metadata": {
    "collapsed": true,
    "hidden": true
   },
   "outputs": [],
   "source": [
    "import math"
   ]
  },
  {
   "cell_type": "code",
   "execution_count": 17,
   "metadata": {
    "hidden": true
   },
   "outputs": [
    {
     "data": {
      "text/plain": [
       "1.0"
      ]
     },
     "execution_count": 17,
     "metadata": {},
     "output_type": "execute_result"
    }
   ],
   "source": [
    "math.cos(0)"
   ]
  },
  {
   "cell_type": "code",
   "execution_count": 18,
   "metadata": {
    "collapsed": true,
    "hidden": true
   },
   "outputs": [],
   "source": [
    "import math as m"
   ]
  },
  {
   "cell_type": "code",
   "execution_count": 19,
   "metadata": {
    "hidden": true
   },
   "outputs": [
    {
     "data": {
      "text/plain": [
       "2.302585092994046"
      ]
     },
     "execution_count": 19,
     "metadata": {},
     "output_type": "execute_result"
    }
   ],
   "source": [
    "m.log(10)"
   ]
  },
  {
   "cell_type": "markdown",
   "metadata": {
    "hidden": true
   },
   "source": [
    "Es muy conveniente estar familiarizado con las funciones disponibles en los módulos relacionados con nuestro ámbito de aplicación (principalmente `numpy`, `scipy`, `matplotlib` y `pandas`). No hay que aprender nada de memoria sino tener a mano la documentación, que está disponible online  (p. ej. [aquí tenemos](\n",
    "https://docs.python.org/3/library/math.html) las funciones disponibles en `math`) y localmente con la función `help`. En el menú \"Help\" del notebook hay enlaces a los módulos más importantes. En cualquier caso una búsqueda en google nos lleva rápidamente a la función deseada."
   ]
  },
  {
   "cell_type": "markdown",
   "metadata": {
    "hidden": true
   },
   "source": [
    "Con lo visto hasta ahora podemos usar el lenguaje Python como una calculadora. A partir de aquí iremos introduciendo la capacidad de programar las operaciones. "
   ]
  },
  {
   "cell_type": "markdown",
   "metadata": {
    "heading_collapsed": true
   },
   "source": [
    "### secuencia de instrucciones"
   ]
  },
  {
   "cell_type": "markdown",
   "metadata": {
    "hidden": true
   },
   "source": [
    "Python evalúa una detrás de otra todas las expresiones que encuentra. Pero el notebook solo muestra el resultado de la última que aparece en la celda:"
   ]
  },
  {
   "cell_type": "code",
   "execution_count": 20,
   "metadata": {
    "hidden": true
   },
   "outputs": [
    {
     "data": {
      "text/plain": [
       "10"
      ]
     },
     "execution_count": 20,
     "metadata": {},
     "output_type": "execute_result"
    }
   ],
   "source": [
    "1 + 1\n",
    "\n",
    "2 + 3\n",
    "\n",
    "5 * 2"
   ]
  },
  {
   "cell_type": "markdown",
   "metadata": {
    "hidden": true
   },
   "source": [
    "Si queremos ver todos los resultados utilizamos la función `print`:"
   ]
  },
  {
   "cell_type": "code",
   "execution_count": 21,
   "metadata": {
    "hidden": true
   },
   "outputs": [
    {
     "name": "stdout",
     "output_type": "stream",
     "text": [
      "2\n",
      "5\n",
      "10\n"
     ]
    }
   ],
   "source": [
    "print(1 + 1)\n",
    "\n",
    "print(2 + 3)\n",
    "\n",
    "print(5 * 2)"
   ]
  },
  {
   "cell_type": "markdown",
   "metadata": {
    "heading_collapsed": true
   },
   "source": [
    "### nombres"
   ]
  },
  {
   "cell_type": "markdown",
   "metadata": {
    "hidden": true
   },
   "source": [
    "Un aspecto fundamental en la programación consiste en ponerle nombres a los números y otros tipos de datos con los que estamos trabajando. Para ello, Python (y la mayoría de lenguajes) usa el símbolo `=`. Por ejemplo, si hacemos lo siguiente"
   ]
  },
  {
   "cell_type": "code",
   "execution_count": 22,
   "metadata": {
    "collapsed": true,
    "hidden": true
   },
   "outputs": [],
   "source": [
    "a = 5\n",
    "\n",
    "z = 1/2 + 3*a"
   ]
  },
  {
   "cell_type": "markdown",
   "metadata": {
    "hidden": true
   },
   "source": [
    "entonces los nombres `a` y `z` queda definidos con los siguientes valores:"
   ]
  },
  {
   "cell_type": "code",
   "execution_count": 23,
   "metadata": {
    "hidden": true
   },
   "outputs": [
    {
     "data": {
      "text/plain": [
       "5"
      ]
     },
     "execution_count": 23,
     "metadata": {},
     "output_type": "execute_result"
    }
   ],
   "source": [
    "a"
   ]
  },
  {
   "cell_type": "code",
   "execution_count": 24,
   "metadata": {
    "hidden": true
   },
   "outputs": [
    {
     "data": {
      "text/plain": [
       "15.5"
      ]
     },
     "execution_count": 24,
     "metadata": {},
     "output_type": "execute_result"
    }
   ],
   "source": [
    "z"
   ]
  },
  {
   "cell_type": "markdown",
   "metadata": {
    "hidden": true
   },
   "source": [
    "La elección del signo `=` no es muy afortunada, ya que esta acción no tiene mucho que ver con el concepto de igualdad matemática. (Otros lenguajes usan signos más intuitivos como `<-` o `:=` para esta operación.)\n",
    "\n",
    "Cuando veamos expresiones como `z = 1/2 + 3*a`  no tenemos que pensar en ningún momento en ecuaciones matemáticas. Nada más lejos de la realidad. Simplemente se da un nombre al **resultado** de evaluar la expresión. Podríamos decir que estamos \"definiendo\" un nombre, pero este término también puede inducir a confusión, ya que el nombre queda asignado al valor final de la expresión, y no a la expresión en sí. Cada vez que aparezca `z` en el programa se sustituirá automáticamente por `15.5`. No se sustituye por `1/2 + 3*a`. \n",
    "\n",
    "Este matiz es importante debido a que los nombres se pueden redefinir. Observa la siguiente secuencia de definiciones:"
   ]
  },
  {
   "cell_type": "code",
   "execution_count": 25,
   "metadata": {
    "hidden": true
   },
   "outputs": [
    {
     "data": {
      "text/plain": [
       "10"
      ]
     },
     "execution_count": 25,
     "metadata": {},
     "output_type": "execute_result"
    }
   ],
   "source": [
    "a = 5\n",
    "\n",
    "b = 2*a\n",
    "\n",
    "a = 7\n",
    "\n",
    "b"
   ]
  },
  {
   "cell_type": "markdown",
   "metadata": {
    "hidden": true
   },
   "source": [
    "Recuerda que las expresiones se evalúan una detrás de otra. La última de ellas, `b` tiene el valor `10` a pesar de que se ha definido como `b = 2*a` y que justo antes se ha redefinido `a` como `a=7`. El cambio en un nombre no afecta a los demás que dependen de él. No se recalcula nada. "
   ]
  },
  {
   "cell_type": "markdown",
   "metadata": {
    "hidden": true
   },
   "source": [
    "Más adelante explicaremos cómo hacer verdaderas definiciones en las que unos símbolos dependen de otros. Por el momento podemos pensar en la idea de almacenar en memoria un dato que podemos recuperar cómodamente mediante un nombre."
   ]
  },
  {
   "cell_type": "markdown",
   "metadata": {
    "hidden": true
   },
   "source": [
    "En algunos lenguajes se dice que hemos \"almacenado un valor en una variable\", o que hemos \"asignado un valor\". Tampoco es lo ideal porque la palabra \"variable\" puede inducir a confusión con las variables matemáticas. (Y no causa buena impresión almacenar constantes como por ejemplo el número $\\pi$ dentro variables...)"
   ]
  },
  {
   "cell_type": "markdown",
   "metadata": {
    "hidden": true
   },
   "source": [
    "No hay ningún problema en redefinir una variable usando su valor anterior. Esto puede dar lugar a expresiones aparentemente absurdas como:"
   ]
  },
  {
   "cell_type": "code",
   "execution_count": 26,
   "metadata": {
    "collapsed": true,
    "hidden": true
   },
   "outputs": [],
   "source": [
    "b = b + 5"
   ]
  },
  {
   "cell_type": "markdown",
   "metadata": {
    "hidden": true
   },
   "source": [
    "Simplemente tenemos que recordar que lo anterior no es una ecuación sino una redefinición, cuyo efecto es sustituir del valor de `b`, que antes era `10`, por `15`. "
   ]
  },
  {
   "cell_type": "markdown",
   "metadata": {
    "hidden": true
   },
   "source": [
    "Esta operación se puede abreviar como `b += 5`."
   ]
  },
  {
   "cell_type": "markdown",
   "metadata": {
    "hidden": true
   },
   "source": [
    "Cuando se redefine un nombre el valor que tenía previamente se olvida de forma irrecuperable."
   ]
  },
  {
   "cell_type": "markdown",
   "metadata": {
    "hidden": true
   },
   "source": [
    "Para hacer una definición el nombre (cualquier palabra que empiece por una letra) se pone a la izquierda del signo `=` y a la derecha se pone la expresión deseada, donde pueden aparecer nombres previamente definidos. Por tanto, lo siguiente es incorrecto:"
   ]
  },
  {
   "cell_type": "code",
   "execution_count": 27,
   "metadata": {
    "hidden": true
   },
   "outputs": [
    {
     "ename": "SyntaxError",
     "evalue": "can't assign to operator (<ipython-input-27-a6067e38b1ca>, line 1)",
     "output_type": "error",
     "traceback": [
      "\u001b[0;36m  File \u001b[0;32m\"<ipython-input-27-a6067e38b1ca>\"\u001b[0;36m, line \u001b[0;32m1\u001b[0m\n\u001b[0;31m    1 + 1 = c\u001b[0m\n\u001b[0m             ^\u001b[0m\n\u001b[0;31mSyntaxError\u001b[0m\u001b[0;31m:\u001b[0m can't assign to operator\n"
     ]
    }
   ],
   "source": [
    "1 + 1 = c"
   ]
  },
  {
   "cell_type": "code",
   "execution_count": 49,
   "metadata": {
    "hidden": true
   },
   "outputs": [
    {
     "ename": "NameError",
     "evalue": "name 'x' is not defined",
     "output_type": "error",
     "traceback": [
      "\u001b[0;31m---------------------------------------------------------------------------\u001b[0m",
      "\u001b[0;31mNameError\u001b[0m                                 Traceback (most recent call last)",
      "\u001b[0;32m<ipython-input-49-075774fc7812>\u001b[0m in \u001b[0;36m<module>\u001b[0;34m()\u001b[0m\n\u001b[0;32m----> 1\u001b[0;31m \u001b[0mc\u001b[0m \u001b[0;34m=\u001b[0m \u001b[0;36m3\u001b[0m\u001b[0;34m*\u001b[0m\u001b[0mx\u001b[0m \u001b[0;34m+\u001b[0m \u001b[0;36m5\u001b[0m\u001b[0;34m\u001b[0m\u001b[0m\n\u001b[0m",
      "\u001b[0;31mNameError\u001b[0m: name 'x' is not defined"
     ]
    }
   ],
   "source": [
    "c = 3*x + 5"
   ]
  },
  {
   "cell_type": "markdown",
   "metadata": {
    "hidden": true
   },
   "source": [
    "Es conveniente elegir nombres descriptivos o abreviaturas para indicar el papel que juega cada dato en el programa."
   ]
  },
  {
   "cell_type": "code",
   "execution_count": 50,
   "metadata": {
    "collapsed": true,
    "hidden": true
   },
   "outputs": [],
   "source": [
    "masa = 10\n",
    "velocidad_inicial = 8.5\n",
    "pos = 5\n",
    "\n",
    "α  = pi/4"
   ]
  },
  {
   "cell_type": "markdown",
   "metadata": {
    "hidden": true
   },
   "source": [
    "Es una cuestión de gusto personal, pero siempre se recomienda la claridad y la sencillez."
   ]
  },
  {
   "cell_type": "markdown",
   "metadata": {
    "heading_collapsed": true
   },
   "source": [
    "### estado de la computación"
   ]
  },
  {
   "cell_type": "markdown",
   "metadata": {
    "hidden": true
   },
   "source": [
    "Cuando el ordenador \"ejecuta\" un programa (o Python evalúa celdas de código) ocurre lo siguiente:\n",
    "\n",
    "- En todo momento existe un *estado* de la computación, que es simplemente un conjunto de datos con sus correspondientes nombres (inicialmente vacío).\n",
    "\n",
    "- Algunas instrucciones cambian elementos del estado. Otras no, aunque sí actúan sobre el \"mundo exterior\" (por ejemplo, mostrando algo en la pantalla). El efecto producido por una instrucción depende del estado anterior.\n",
    "\n",
    "Una computación es la secuencia de estados producida por las sucesivas instrucciones del programa. El *resultado* de la computación es el estado final."
   ]
  },
  {
   "cell_type": "markdown",
   "metadata": {
    "hidden": true
   },
   "source": [
    "Por ejemplo:"
   ]
  },
  {
   "cell_type": "code",
   "execution_count": 2,
   "metadata": {
    "hidden": true
   },
   "outputs": [
    {
     "name": "stdout",
     "output_type": "stream",
     "text": [
      "10\n"
     ]
    },
    {
     "data": {
      "text/plain": [
       "-5"
      ]
     },
     "execution_count": 2,
     "metadata": {},
     "output_type": "execute_result"
    }
   ],
   "source": [
    "# Instrucción       Estado\n",
    "                #   {}\n",
    "a = 5\n",
    "                #   { a:5 }\n",
    "b = 2*a\n",
    "                #   { a:5 , b:10 }\n",
    "print(b)\n",
    "                #   { a:5 , b:10 }\n",
    "a = 7\n",
    "                #   { a:7 , b:10 }\n",
    "b += 2\n",
    "                #   { a:7 , b:12 }\n",
    "a+b\n",
    "                #   { a:7 , b:12 }\n",
    "a-b\n",
    "                #   { a:7 , b:12 }"
   ]
  },
  {
   "cell_type": "markdown",
   "metadata": {
    "hidden": true
   },
   "source": [
    "La instrucción `print` de la línea 7 escribe `10` en la pantalla (o notebook). La línea 13 realiza una operación pero no tiene ningún efecto observable. El resultado se descarta. La línea 15 sí imprime el resultado `-5` por ser la última (esto es un convenio de los notebooks para ahorrar la instrucción `print`)."
   ]
  },
  {
   "cell_type": "markdown",
   "metadata": {
    "heading_collapsed": true
   },
   "source": [
    "### tipos de datos"
   ]
  },
  {
   "cell_type": "markdown",
   "metadata": {
    "hidden": true
   },
   "source": [
    "Un concepto esencial en programación es el de **tipo** de un dato. Intuitivamente, podemos pensar en un conjunto de valores. Un buen ejemplo son los tipos numéricos, que tratan de imitar a los conjuntos matemáticos usuales $\\mathbb Z$, $\\mathbb Q$, $\\mathbb R$, $\\mathbb C$, etc."
   ]
  },
  {
   "cell_type": "markdown",
   "metadata": {
    "hidden": true
   },
   "source": [
    "Hasta el momento hemos visto datos enteros (tipo `int`) y reales (tipo `float`) pero los ordenadores pueden \n",
    "trabajar con muchos otros tipos de información. La función `type` sirve para consultar de qué tipo es un dato:"
   ]
  },
  {
   "cell_type": "code",
   "execution_count": 51,
   "metadata": {
    "hidden": true
   },
   "outputs": [
    {
     "data": {
      "text/plain": [
       "int"
      ]
     },
     "execution_count": 51,
     "metadata": {},
     "output_type": "execute_result"
    }
   ],
   "source": [
    "type(b)"
   ]
  },
  {
   "cell_type": "code",
   "execution_count": 52,
   "metadata": {
    "hidden": true
   },
   "outputs": [
    {
     "data": {
      "text/plain": [
       "float"
      ]
     },
     "execution_count": 52,
     "metadata": {},
     "output_type": "execute_result"
    }
   ],
   "source": [
    "type(-2/3)"
   ]
  },
  {
   "cell_type": "markdown",
   "metadata": {
    "heading_collapsed": true
   },
   "source": [
    "### números complejos"
   ]
  },
  {
   "cell_type": "markdown",
   "metadata": {
    "hidden": true
   },
   "source": [
    "La operaciones con complejos están disponibles en el módulo [cmath](https://docs.python.org/3.6/library/cmath.html?highlight=cmath#module-cmath). Las constantes imaginarias se introducen añadiendo la letra `j`:"
   ]
  },
  {
   "cell_type": "code",
   "execution_count": 53,
   "metadata": {
    "collapsed": true,
    "hidden": true
   },
   "outputs": [],
   "source": [
    "import cmath"
   ]
  },
  {
   "cell_type": "code",
   "execution_count": 54,
   "metadata": {
    "hidden": true
   },
   "outputs": [
    {
     "data": {
      "text/plain": [
       "(-9+0j)"
      ]
     },
     "execution_count": 54,
     "metadata": {},
     "output_type": "execute_result"
    }
   ],
   "source": [
    "3j ** 2"
   ]
  },
  {
   "cell_type": "code",
   "execution_count": 55,
   "metadata": {
    "hidden": true
   },
   "outputs": [
    {
     "data": {
      "text/plain": [
       "5j"
      ]
     },
     "execution_count": 55,
     "metadata": {},
     "output_type": "execute_result"
    }
   ],
   "source": [
    "cmath.sqrt(-25)"
   ]
  },
  {
   "cell_type": "code",
   "execution_count": 56,
   "metadata": {
    "hidden": true
   },
   "outputs": [
    {
     "data": {
      "text/plain": [
       "(-4.189625690968807-9.109227893755337j)"
      ]
     },
     "execution_count": 56,
     "metadata": {},
     "output_type": "execute_result"
    }
   ],
   "source": [
    "a = 2+3j\n",
    "\n",
    "cmath.cos(a)"
   ]
  },
  {
   "cell_type": "code",
   "execution_count": 57,
   "metadata": {
    "hidden": true
   },
   "outputs": [
    {
     "data": {
      "text/plain": [
       "(1-1.4210854715202004e-14j)"
      ]
     },
     "execution_count": 57,
     "metadata": {},
     "output_type": "execute_result"
    }
   ],
   "source": [
    "cmath.cos(a)**2 + cmath.sin(a)**2"
   ]
  },
  {
   "cell_type": "code",
   "execution_count": 58,
   "metadata": {
    "hidden": true
   },
   "outputs": [
    {
     "data": {
      "text/plain": [
       "complex"
      ]
     },
     "execution_count": 58,
     "metadata": {},
     "output_type": "execute_result"
    }
   ],
   "source": [
    "type(a)"
   ]
  },
  {
   "cell_type": "markdown",
   "metadata": {
    "heading_collapsed": true
   },
   "source": [
    "### operaciones lógicas"
   ]
  },
  {
   "cell_type": "markdown",
   "metadata": {
    "hidden": true
   },
   "source": [
    " `>`, `<`, `>=`, `<=`, `==`, `!=`, `and`, `or`, `not`."
   ]
  },
  {
   "cell_type": "markdown",
   "metadata": {
    "hidden": true
   },
   "source": [
    "Un tipo de datos esencial en programación es el tipo `bool` (lógico), que solo puede tomar dos valores: `True` o `False`. Aparece como resultado de operaciones de comparación. Por ejemplo:"
   ]
  },
  {
   "cell_type": "code",
   "execution_count": 59,
   "metadata": {
    "hidden": true,
    "scrolled": true
   },
   "outputs": [
    {
     "data": {
      "text/plain": [
       "bool"
      ]
     },
     "execution_count": 59,
     "metadata": {},
     "output_type": "execute_result"
    }
   ],
   "source": [
    "type(1 > 2)"
   ]
  },
  {
   "cell_type": "code",
   "execution_count": 60,
   "metadata": {
    "hidden": true
   },
   "outputs": [
    {
     "data": {
      "text/plain": [
       "True"
      ]
     },
     "execution_count": 60,
     "metadata": {},
     "output_type": "execute_result"
    }
   ],
   "source": [
    "3 < 10"
   ]
  },
  {
   "cell_type": "code",
   "execution_count": 61,
   "metadata": {
    "hidden": true
   },
   "outputs": [
    {
     "data": {
      "text/plain": [
       "False"
      ]
     },
     "execution_count": 61,
     "metadata": {},
     "output_type": "execute_result"
    }
   ],
   "source": [
    "b - 3 == 8 + 7"
   ]
  },
  {
   "cell_type": "markdown",
   "metadata": {
    "hidden": true
   },
   "source": [
    "Las operaciones de comparación se expresan con símbolos más o menos autoexplicativos: `>`, `<`, `>=`, `<=`, `==`, `!=` y, como veremos, se usan para tomar decisiones en los programas. Dados dos números comprueban si la condición es cierta o no.\n",
    "\n",
    "Observa que el símbolo `==` que se usa para comprobar si dos números son iguales se escribe con dos signos de igual seguidos para distinguirlo del operador `=` de asignación.\n",
    "\n",
    "A pesar de su aspecto, las operaciones de comparación no establecen una relación matemática entre las variables. La sentencia anterior no define una ecuación que el ordenador tenga que resolver. Es simplemente una expresión que se evalúa y produce un resultado que en este caso no es numérico sino lógico (verdadero o falso)."
   ]
  },
  {
   "cell_type": "markdown",
   "metadata": {
    "hidden": true
   },
   "source": [
    "Los valores lógicos se pueden combinar mediante las conectivas `and`, `or`, `not` de la lógica proposicional. Por ejemplo:"
   ]
  },
  {
   "cell_type": "code",
   "execution_count": 62,
   "metadata": {
    "hidden": true
   },
   "outputs": [
    {
     "data": {
      "text/plain": [
       "True"
      ]
     },
     "execution_count": 62,
     "metadata": {},
     "output_type": "execute_result"
    }
   ],
   "source": [
    "3 < 4 or 2+2 == 5"
   ]
  },
  {
   "cell_type": "code",
   "execution_count": 63,
   "metadata": {
    "hidden": true
   },
   "outputs": [
    {
     "data": {
      "text/plain": [
       "False"
      ]
     },
     "execution_count": 63,
     "metadata": {},
     "output_type": "execute_result"
    }
   ],
   "source": [
    "b == 13 and (b < 0 or not 2+2==5)"
   ]
  },
  {
   "cell_type": "markdown",
   "metadata": {
    "hidden": true
   },
   "source": [
    "La precedencia de los operadores lógicos es la usual: primero se evalúan las comparaciones, a continuación `not`, después `and` y finalmente `or`."
   ]
  },
  {
   "cell_type": "code",
   "execution_count": 64,
   "metadata": {
    "hidden": true
   },
   "outputs": [
    {
     "data": {
      "text/plain": [
       "True"
      ]
     },
     "execution_count": 64,
     "metadata": {},
     "output_type": "execute_result"
    }
   ],
   "source": [
    "not True and False or True"
   ]
  },
  {
   "cell_type": "code",
   "execution_count": 65,
   "metadata": {
    "hidden": true
   },
   "outputs": [
    {
     "data": {
      "text/plain": [
       "False"
      ]
     },
     "execution_count": 65,
     "metadata": {},
     "output_type": "execute_result"
    }
   ],
   "source": [
    "not (True and (False or True))"
   ]
  },
  {
   "cell_type": "markdown",
   "metadata": {
    "hidden": true
   },
   "source": [
    "Finalmente, es importante señalar que nunca se deben hacer comparaciones de igualdad exacta con números de tipo `float` aunque lo permita el lenguaje:"
   ]
  },
  {
   "cell_type": "code",
   "execution_count": 66,
   "metadata": {
    "hidden": true
   },
   "outputs": [
    {
     "data": {
      "text/plain": [
       "True"
      ]
     },
     "execution_count": 66,
     "metadata": {},
     "output_type": "execute_result"
    }
   ],
   "source": [
    "0.2 + 0.5 == 0.7"
   ]
  },
  {
   "cell_type": "code",
   "execution_count": 67,
   "metadata": {
    "hidden": true
   },
   "outputs": [
    {
     "data": {
      "text/plain": [
       "False"
      ]
     },
     "execution_count": 67,
     "metadata": {},
     "output_type": "execute_result"
    }
   ],
   "source": [
    "0.2 + 0.1 == 0.3"
   ]
  },
  {
   "cell_type": "markdown",
   "metadata": {
    "hidden": true
   },
   "source": [
    "Este último resultado inesperado (y erróneo) se debe al carácter aproximado de los números reales informáticos y a la imposibilidad de representar exactamente muchos números racionales en la base de numeración binaria utilizada internamente.\n",
    "Como veremos después, la comparación de números reales debe hacerse estableciendo una tolerancia sobre su diferencia absoluta o relativa, según convenga.\n",
    "\n",
    "El procesador opera con los números de coma flotante de una forma muy razonable, con un compromiso entre precisión y velocidad adecuado para la mayoría de las aplicaciones. Pero olvidar la naturaleza aproximada de la computación numérica puede conducir a errores en el programa que se manifiestan cuando menos te lo esperas.\n",
    "\n",
    "\n"
   ]
  },
  {
   "cell_type": "markdown",
   "metadata": {
    "heading_collapsed": true
   },
   "source": [
    "### cadenas de caracteres"
   ]
  },
  {
   "cell_type": "markdown",
   "metadata": {
    "hidden": true
   },
   "source": [
    "El otro tipo de datos muy importante es la cadena de caracteres (`str`). Se trata simplemente de una secuencia de letras, números o cualquier otro símbolo. En las aplicaciones científicas se usa normalmente para mostrar mensajes al usuario humano, o para introducir la información a los programas. "
   ]
  },
  {
   "cell_type": "code",
   "execution_count": 68,
   "metadata": {
    "hidden": true
   },
   "outputs": [
    {
     "data": {
      "text/plain": [
       "'Hola Alberto'"
      ]
     },
     "execution_count": 68,
     "metadata": {},
     "output_type": "execute_result"
    }
   ],
   "source": [
    "nombre = \"Alberto\"\n",
    "\n",
    "saludo = 'Hola ' + nombre\n",
    "\n",
    "saludo"
   ]
  },
  {
   "cell_type": "code",
   "execution_count": 69,
   "metadata": {
    "hidden": true
   },
   "outputs": [
    {
     "data": {
      "text/plain": [
       "str"
      ]
     },
     "execution_count": 69,
     "metadata": {},
     "output_type": "execute_result"
    }
   ],
   "source": [
    "type(nombre)"
   ]
  },
  {
   "cell_type": "code",
   "execution_count": 70,
   "metadata": {
    "hidden": true
   },
   "outputs": [
    {
     "data": {
      "text/plain": [
       "'El número pi es π = 3.1416'"
      ]
     },
     "execution_count": 70,
     "metadata": {},
     "output_type": "execute_result"
    }
   ],
   "source": [
    "'El número pi es π = {:.4f}'.format(pi)"
   ]
  },
  {
   "cell_type": "markdown",
   "metadata": {
    "hidden": true
   },
   "source": [
    "Una cadena de caracteres es un simple texto entre comillas que en principio no tiene ningún significado para el ordenador. Más adelante veremos algunas operaciones útiles para manipular cadenas pero en este curso nos centraremos principalmente en operaciones numéricas."
   ]
  },
  {
   "cell_type": "markdown",
   "metadata": {
    "hidden": true
   },
   "source": [
    "Por comodidad algunas operaciones que en realidad son distintas se representan con el mismo símbolo. Por ejemplo, el signo `+` se utiliza para sumar diferentes tipo de números (lo cual implica un trabajo interno especial para cada caso) y también para concatenar cadenas."
   ]
  },
  {
   "cell_type": "markdown",
   "metadata": {
    "hidden": true
   },
   "source": [
    "Finalmente, vamos a presentar brevemente algunos tipos numéricos especializados para hacernos una idea de las herramientas disponibles para la computación científica."
   ]
  },
  {
   "cell_type": "markdown",
   "metadata": {
    "hidden": true
   },
   "source": [
    "Los apartados marcados con asterisco pueden omitirse en una primera lectura."
   ]
  },
  {
   "cell_type": "markdown",
   "metadata": {
    "heading_collapsed": true
   },
   "source": [
    "### racionales *"
   ]
  },
  {
   "cell_type": "markdown",
   "metadata": {
    "hidden": true
   },
   "source": [
    "El módulo [fractions](https://docs.python.org/3.6/library/fractions.html) proporciona números racionales exactos. Son útiles en teoría de números pero no se utilizan mucho en ciencias experimentales."
   ]
  },
  {
   "cell_type": "code",
   "execution_count": 2,
   "metadata": {
    "collapsed": true,
    "hidden": true
   },
   "outputs": [],
   "source": [
    "from fractions import Fraction"
   ]
  },
  {
   "cell_type": "code",
   "execution_count": 3,
   "metadata": {
    "collapsed": true,
    "hidden": true
   },
   "outputs": [],
   "source": [
    "x = Fraction(13,1001)"
   ]
  },
  {
   "cell_type": "code",
   "execution_count": 4,
   "metadata": {
    "hidden": true
   },
   "outputs": [
    {
     "data": {
      "text/plain": [
       "Fraction(1, 77)"
      ]
     },
     "execution_count": 4,
     "metadata": {},
     "output_type": "execute_result"
    }
   ],
   "source": [
    "x"
   ]
  },
  {
   "cell_type": "code",
   "execution_count": 5,
   "metadata": {
    "hidden": true
   },
   "outputs": [
    {
     "data": {
      "text/plain": [
       "Fraction(20164349390700187, 173388585653764096)"
      ]
     },
     "execution_count": 5,
     "metadata": {},
     "output_type": "execute_result"
    }
   ],
   "source": [
    "Fraction(7,8)**17 + x"
   ]
  },
  {
   "cell_type": "markdown",
   "metadata": {
    "heading_collapsed": true
   },
   "source": [
    "### precisión arbitraria *"
   ]
  },
  {
   "cell_type": "markdown",
   "metadata": {
    "hidden": true
   },
   "source": [
    "La aritmética de coma flotante con precisión arbitraria se puede conseguir (entre otros) con el módulo [mpmath](http://mpmath.org/). Esto permite elegir el número de decimales deseado en los cálculos."
   ]
  },
  {
   "cell_type": "code",
   "execution_count": 45,
   "metadata": {
    "hidden": true
   },
   "outputs": [
    {
     "data": {
      "text/plain": [
       "mpf('1.618033988749894848204586834365638117720309179805762862135448622705260462818902449707207204189391137492')"
      ]
     },
     "execution_count": 45,
     "metadata": {},
     "output_type": "execute_result"
    }
   ],
   "source": [
    "from mpmath import mp\n",
    "mp.dps = 100\n",
    "\n",
    "(1+mp.sqrt(5))/2"
   ]
  },
  {
   "cell_type": "markdown",
   "metadata": {
    "hidden": true
   },
   "source": [
    "La función `mp.mpf` construye números de este tipo para usarlos en la artimética normal. Pero hay que tener cuidado. Observa la diferencia:"
   ]
  },
  {
   "cell_type": "code",
   "execution_count": 47,
   "metadata": {
    "hidden": true
   },
   "outputs": [
    {
     "data": {
      "text/plain": [
       "mpf('0.333333333333333314829616256247390992939472198486328125')"
      ]
     },
     "execution_count": 47,
     "metadata": {},
     "output_type": "execute_result"
    }
   ],
   "source": [
    "mp.mpf(1/3)"
   ]
  },
  {
   "cell_type": "code",
   "execution_count": 48,
   "metadata": {
    "hidden": true
   },
   "outputs": [
    {
     "data": {
      "text/plain": [
       "mpf('0.3333333333333333333333333333333333333333333333333333333333333333333333333333333333333333333333333333345')"
      ]
     },
     "execution_count": 48,
     "metadata": {},
     "output_type": "execute_result"
    }
   ],
   "source": [
    "mp.mpf(1)/3"
   ]
  },
  {
   "cell_type": "markdown",
   "metadata": {
    "hidden": true
   },
   "source": [
    "En ciencias experimentales no necesitamos normalmente una precisión tan enorme. Además, estos números no llevan la cuenta del número de dígitos exactos que van quedando después de cada operación. "
   ]
  },
  {
   "cell_type": "markdown",
   "metadata": {
    "heading_collapsed": true
   },
   "source": [
    "### magnitudes físicas *"
   ]
  },
  {
   "cell_type": "markdown",
   "metadata": {
    "hidden": true
   },
   "source": [
    "El módulo [uncertainties](http://pythonhosted.org/uncertainties/) automatiza la propagación de errores. Las magnitudes físicas se pueden manejar mediante [pint](http://pint.readthedocs.io/en/0.8/tutorial.html). Estas herramientas son muy útiles para analizar datos de los laboratorios de física. Más adelante veremos algunos ejemplos de uso."
   ]
  },
  {
   "cell_type": "markdown",
   "metadata": {
    "heading_collapsed": true
   },
   "source": [
    "### Ejercicios"
   ]
  },
  {
   "cell_type": "markdown",
   "metadata": {
    "hidden": true
   },
   "source": [
    "- La [razón áurea](https://en.wikipedia.org/wiki/Golden_ratio) es el número\n",
    "\n",
    " $$g = \\frac{1+\\sqrt{5}}{2} $$\n",
    "\n",
    " Evalúa $g$ usando los números de coma flotante estándar de doble precisión (`float`) y comprueba si la aproximación obtenida verifica la ecuación \n",
    "\n",
    " $$\\frac{g+1}{g} = g$$\n",
    "\n",
    "\n",
    "- Escribe expresiones para transformar grados [Fahrenheit](https://en.wikipedia.org/wiki/Fahrenheit) en centígrados y comprueba su funcionamiento con unos cuantos valores.\n",
    "\n",
    " $$C = \\frac{F-32}{1.8}$$\n",
    "\n",
    " (No te preocupes por ahora por la entrada de datos. Puedes almacenar directamente el valor de interés en una variable, o si quieres puedes usar la función `input`.)\n",
    "\n",
    "\n",
    "- Escribe expresiones para calcular las soluciones de una ecuación de segundo grado y comprueba su funcionamiento en unos cuantos casos de prueba.\n",
    "\n",
    "\n",
    "- Expresa en Python la fórmula del período de un péndulo de longitud $l$ (para el caso de oscilaciones pequeñas) y evalúala para $l=1m$ y $l=5cm$ .\n",
    "\n",
    " $$ T_0 = 2\\pi \\sqrt{\\frac{l}{g}} $$\n",
    "\n",
    " En general, si la amplitud de las oscilaciones es $\\phi$, el período puede aproximarse mediante: \n",
    " \n",
    " $$ T = T_0\\left(1 + \\frac{1}{16}\\phi^2 + \\frac{11}{3072}\\phi^4  + \\ldots \\right)$$\n",
    "\n",
    " Compara el tamaño de la corrección para oscilaciones de $\\phi=10$ y $\\phi=30$ grados.\n",
    "\n",
    "\n",
    "\n",
    "- Utiliza las operaciones numéricas de tipo `complex` para comprobar que\n",
    "\n",
    " $$e^{i\\pi}+1=0$$\n",
    "\n",
    "\n",
    "- Escribe un programa para resolver la [ecuación de tercer grado](https://en.wikipedia.org/wiki/Cubic_function)."
   ]
  }
 ],
 "metadata": {
  "hide_input": false,
  "kernelspec": {
   "display_name": "Python 3",
   "language": "python",
   "name": "python3"
  },
  "language_info": {
   "codemirror_mode": {
    "name": "ipython",
    "version": 3
   },
   "file_extension": ".py",
   "mimetype": "text/x-python",
   "name": "python",
   "nbconvert_exporter": "python",
   "pygments_lexer": "ipython3",
   "version": "3.6.3"
  },
  "varInspector": {
   "cols": {
    "lenName": 16,
    "lenType": 16,
    "lenVar": 40
   },
   "kernels_config": {
    "python": {
     "delete_cmd_postfix": "",
     "delete_cmd_prefix": "del ",
     "library": "var_list.py",
     "varRefreshCmd": "print(var_dic_list())"
    },
    "r": {
     "delete_cmd_postfix": ") ",
     "delete_cmd_prefix": "rm(",
     "library": "var_list.r",
     "varRefreshCmd": "cat(var_dic_list()) "
    }
   },
   "types_to_exclude": [
    "module",
    "function",
    "builtin_function_or_method",
    "instance",
    "_Feature"
   ],
   "window_display": false
  }
 },
 "nbformat": 4,
 "nbformat_minor": 2
}
