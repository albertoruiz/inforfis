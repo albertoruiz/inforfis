{
 "cells": [
  {
   "cell_type": "markdown",
   "metadata": {},
   "source": [
    "# Tarea 3\n",
    "\n",
    "Nombre:  **Xxxxx Yyyyy Zzzzzz** \n",
    "\n",
    "X/10/2020\n",
    "\n",
    "Resuelve los siguientes ejercicios usando únicamente los conceptos explicados en clase hasta ahora."
   ]
  },
  {
   "cell_type": "code",
   "execution_count": 1,
   "metadata": {},
   "outputs": [],
   "source": [
    "import numpy as np"
   ]
  },
  {
   "cell_type": "markdown",
   "metadata": {},
   "source": [
    "1) Calcula la suma siguiente:\n",
    "\n",
    "\n",
    "\n",
    "$$\\sum_{k=1}^{100} (-1)^k \\; k^3$$"
   ]
  },
  {
   "cell_type": "code",
   "execution_count": 2,
   "metadata": {},
   "outputs": [
    {
     "data": {
      "text/plain": [
       "507500"
      ]
     },
     "execution_count": 2,
     "metadata": {},
     "output_type": "execute_result"
    }
   ],
   "source": [
    "k = np.arange(1,101)\n",
    "np.sum( (-1)**k * k**3 )"
   ]
  },
  {
   "cell_type": "markdown",
   "metadata": {},
   "source": [
    "2) Define la función\n",
    "\n",
    "$$S(n) = \\sum_{k=0}^n k^2 $$\n",
    "\n",
    "y comprueba para varios valores de $n$ la identidad $S(n) = n(n+1)(2n+1)/6$."
   ]
  },
  {
   "cell_type": "code",
   "execution_count": 3,
   "metadata": {},
   "outputs": [
    {
     "name": "stdout",
     "output_type": "stream",
     "text": [
      "0 True\n",
      "1 True\n",
      "5 True\n",
      "14 True\n",
      "30 True\n",
      "55 True\n",
      "91 True\n",
      "140 True\n",
      "204 True\n",
      "285 True\n"
     ]
    }
   ],
   "source": [
    "def S(n):\n",
    "    k = np.arange(0,n+1)\n",
    "    t = k**2\n",
    "    return np.sum( t )\n",
    "\n",
    "def R(n):\n",
    "    return n*(n+1)*(2*n+1) // 6\n",
    "\n",
    "for n in np.arange(10):\n",
    "    print( S(n), S(n)==R(n))"
   ]
  },
  {
   "cell_type": "markdown",
   "metadata": {},
   "source": [
    "3) Define la función factorial:\n",
    "\n",
    "$$n! = \\prod_{k=1}^{n} k $$\n",
    "\n",
    "y apoyándote en ella define una función para calcular los [coeficientes binomiales](https://en.wikipedia.org/wiki/Binomial_coefficient)."
   ]
  },
  {
   "cell_type": "code",
   "execution_count": 4,
   "metadata": {},
   "outputs": [],
   "source": [
    "# Esta forma de calcular el factorial y los coeficientes binomiales es un ejemplo de programación\n",
    "# básico pero no sirve para casos realistas\n",
    "\n",
    "def F(n):\n",
    "    return np.product(np.arange(1,n+1))"
   ]
  },
  {
   "cell_type": "code",
   "execution_count": 5,
   "metadata": {},
   "outputs": [
    {
     "data": {
      "text/plain": [
       "(120, 1307674368000)"
      ]
     },
     "execution_count": 5,
     "metadata": {},
     "output_type": "execute_result"
    }
   ],
   "source": [
    "F(5), F(15)"
   ]
  },
  {
   "cell_type": "code",
   "execution_count": 6,
   "metadata": {},
   "outputs": [
    {
     "data": {
      "text/plain": [
       "-8764578968847253504"
      ]
     },
     "execution_count": 6,
     "metadata": {},
     "output_type": "execute_result"
    }
   ],
   "source": [
    "#Para números grandes el resultado es incorrecto. Piensa en cómo arreglarlo...\n",
    "F(30)"
   ]
  },
  {
   "cell_type": "code",
   "execution_count": 7,
   "metadata": {},
   "outputs": [],
   "source": [
    "def B(n,k):\n",
    "    return F(n)//F(k)//F(n-k)"
   ]
  },
  {
   "cell_type": "code",
   "execution_count": 8,
   "metadata": {},
   "outputs": [
    {
     "data": {
      "text/plain": [
       "10"
      ]
     },
     "execution_count": 8,
     "metadata": {},
     "output_type": "execute_result"
    }
   ],
   "source": [
    "B(5,3)"
   ]
  },
  {
   "cell_type": "markdown",
   "metadata": {},
   "source": [
    "4) Define una función que admita como argumentos los coeficientes $a$, $b$, $c$ de una ecuación de segundo grado $ax^2+bx+c=0$ y obtenga como resultado sus dos soluciones. Calcula una sola vez el valor de la ráiz cuadrada. Comprueba su funcionamiento con al menos 3 ecuaciones diferentes."
   ]
  },
  {
   "cell_type": "code",
   "execution_count": 9,
   "metadata": {},
   "outputs": [
    {
     "name": "stdout",
     "output_type": "stream",
     "text": [
      "(2.0, 1.0)\n",
      "(1.0, 1.0)\n",
      "((6.123233995736766e-17+1j), (-6.123233995736766e-17-1j))\n"
     ]
    }
   ],
   "source": [
    "def ecu(a,b,c):\n",
    "    R  = (b**2-4*a*c)**0.5\n",
    "    x1 = (-b + R) / 2/a\n",
    "    x2 = (-b - R) / (2*a)\n",
    "    return x1,x2\n",
    "\n",
    "print( ecu(2,-6,4) )\n",
    "print( ecu(1,-2,1) )\n",
    "print( ecu(1,0,1) )"
   ]
  },
  {
   "cell_type": "markdown",
   "metadata": {},
   "source": [
    "5) Define una función que calcule el período de un péndulo de longitud $l$ (metros) y amplitud $\\phi$ (grados). Utiliza la fórmula de la tarea anterior y usa variables locales para almacenar  $T_0$ y la corrección. Prueba su funcionamiento con dos valores de $l$ y dos de $\\phi$ (total 4 pruebas)."
   ]
  },
  {
   "cell_type": "code",
   "execution_count": 10,
   "metadata": {},
   "outputs": [],
   "source": [
    "def period(l,phi):\n",
    "    g    = 9.8\n",
    "    T0   = 2*np.pi * np.sqrt(l/g)\n",
    "    corr = 1 + 1/16*phi**2 + 11/3072*phi**4\n",
    "    return T0*corr"
   ]
  },
  {
   "cell_type": "code",
   "execution_count": 11,
   "metadata": {},
   "outputs": [
    {
     "data": {
      "text/plain": [
       "0.44901265617826497"
      ]
     },
     "execution_count": 11,
     "metadata": {},
     "output_type": "execute_result"
    }
   ],
   "source": [
    "period(0.05, np.radians(5))"
   ]
  },
  {
   "cell_type": "code",
   "execution_count": 12,
   "metadata": {},
   "outputs": [
    {
     "data": {
      "text/plain": [
       "0.45660978562543336"
      ]
     },
     "execution_count": 12,
     "metadata": {},
     "output_type": "execute_result"
    }
   ],
   "source": [
    "period(0.05, np.radians(30))"
   ]
  },
  {
   "cell_type": "code",
   "execution_count": 13,
   "metadata": {},
   "outputs": [
    {
     "data": {
      "text/plain": [
       "2.0020124435967483"
      ]
     },
     "execution_count": 13,
     "metadata": {},
     "output_type": "execute_result"
    }
   ],
   "source": [
    "period(0.994, np.radians(5))"
   ]
  },
  {
   "cell_type": "code",
   "execution_count": 14,
   "metadata": {},
   "outputs": [
    {
     "data": {
      "text/plain": [
       "2.0358857598152738"
      ]
     },
     "execution_count": 14,
     "metadata": {},
     "output_type": "execute_result"
    }
   ],
   "source": [
    "period(0.994, np.radians(30))"
   ]
  },
  {
   "cell_type": "markdown",
   "metadata": {},
   "source": [
    "6) Escribe una función para calcular el área de un triángulo **a partir de las longitudes de sus lados** ([fórmula de Heron](https://en.wikipedia.org/wiki/Heron%27s_formula)). Muestra su funcionamiento en varios casos de prueba. ¿Qué ocurre cuando las longitudes dadas no forman un triángulo?"
   ]
  },
  {
   "cell_type": "code",
   "execution_count": 15,
   "metadata": {},
   "outputs": [
    {
     "name": "stdout",
     "output_type": "stream",
     "text": [
      "6.0\n",
      "24.0\n"
     ]
    },
    {
     "data": {
      "text/plain": [
       "(6.092540900222253e-15+99.498743710662j)"
      ]
     },
     "execution_count": 15,
     "metadata": {},
     "output_type": "execute_result"
    }
   ],
   "source": [
    "def heron(a,b,c):\n",
    "    s = (a+b+c)/2\n",
    "    return (s*(s-a)*(s-b)*(s-c))**0.5\n",
    "\n",
    "print( heron(3, 4, 5) )\n",
    "print( heron(4, 13, 15))\n",
    "\n",
    "# con triángulos imposibles puede dar un resultado imaginario\n",
    "heron(1,1,20)"
   ]
  },
  {
   "cell_type": "markdown",
   "metadata": {},
   "source": [
    "7) Define la función\n",
    "\n",
    "$$\\Phi(t) = \\frac{1}{\\sqrt{2\\pi}}\\int_{0}^t e^{-\\frac{1}{2}x^2} dx$$\n",
    "\n",
    "aproximando la integral mediante la regla del trapecio con $n$ tramos. Compara el resultado que obtienes para $\\Phi(0.46)$ con su valor real."
   ]
  },
  {
   "cell_type": "code",
   "execution_count": 16,
   "metadata": {},
   "outputs": [],
   "source": [
    "import numpy as np\n",
    "\n",
    "def f(x):\n",
    "    return np.exp(-x**2/2)\n",
    "\n",
    "n=30\n",
    "a=0\n",
    "b=0.46"
   ]
  },
  {
   "cell_type": "code",
   "execution_count": 17,
   "metadata": {},
   "outputs": [
    {
     "name": "stdout",
     "output_type": "stream",
     "text": [
      "0.17723842825997263\n"
     ]
    }
   ],
   "source": [
    "d = (b-a)/(n-1)\n",
    "x = np.arange(a,b,d)\n",
    "\n",
    "r = sum( f(x) + f(x+d) )/2 * d\n",
    "\n",
    "print(r/np.sqrt(2*np.pi))"
   ]
  },
  {
   "cell_type": "code",
   "execution_count": 21,
   "metadata": {},
   "outputs": [
    {
     "name": "stdout",
     "output_type": "stream",
     "text": [
      "0.17723842825997257\n"
     ]
    }
   ],
   "source": [
    "x = np.linspace(a,b,n)\n",
    "d = x[1] -x[0]\n",
    "\n",
    "w = np.zeros(n)\n",
    "w[1:n] = 2\n",
    "w[0] = 1\n",
    "w[n-1] = 1\n",
    "\n",
    "print( f(x) @ w * d/2 / np.sqrt(2*np.pi) )"
   ]
  },
  {
   "cell_type": "code",
   "execution_count": 19,
   "metadata": {},
   "outputs": [
    {
     "name": "stdout",
     "output_type": "stream",
     "text": [
      "0.17724362050967069\n"
     ]
    }
   ],
   "source": [
    "d = (b-a)/(n-1)\n",
    "x = np.arange(a,b,d)\n",
    "\n",
    "r = sum( f(x+d/2) )\n",
    "\n",
    "print(r*d/np.sqrt(2*np.pi))"
   ]
  },
  {
   "cell_type": "code",
   "execution_count": 20,
   "metadata": {},
   "outputs": [
    {
     "data": {
      "text/plain": [
       "array([1.77241890e-01, 1.96778027e-15])"
      ]
     },
     "execution_count": 20,
     "metadata": {},
     "output_type": "execute_result"
    }
   ],
   "source": [
    "from scipy.integrate import quad\n",
    "\n",
    "quad(f,a,b) / np.sqrt(2*np.pi)"
   ]
  }
 ],
 "metadata": {
  "hide_input": false,
  "kernelspec": {
   "display_name": "Python 3",
   "language": "python",
   "name": "python3"
  },
  "language_info": {
   "codemirror_mode": {
    "name": "ipython",
    "version": 3
   },
   "file_extension": ".py",
   "mimetype": "text/x-python",
   "name": "python",
   "nbconvert_exporter": "python",
   "pygments_lexer": "ipython3",
   "version": "3.6.4"
  },
  "varInspector": {
   "cols": {
    "lenName": 16,
    "lenType": 16,
    "lenVar": 40
   },
   "kernels_config": {
    "python": {
     "delete_cmd_postfix": "",
     "delete_cmd_prefix": "del ",
     "library": "var_list.py",
     "varRefreshCmd": "print(var_dic_list())"
    },
    "r": {
     "delete_cmd_postfix": ") ",
     "delete_cmd_prefix": "rm(",
     "library": "var_list.r",
     "varRefreshCmd": "cat(var_dic_list()) "
    }
   },
   "types_to_exclude": [
    "module",
    "function",
    "builtin_function_or_method",
    "instance",
    "_Feature"
   ],
   "window_display": false
  }
 },
 "nbformat": 4,
 "nbformat_minor": 2
}
