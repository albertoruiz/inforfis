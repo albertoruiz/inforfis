{
 "cells": [
  {
   "cell_type": "markdown",
   "metadata": {},
   "source": [
    "# Tarea 5\n",
    "\n",
    "Nombre:  **Nombre Apellido Apellido** \n",
    "\n",
    "Resuelve los siguientes ejercicios, usando únicamente los conceptos explicados en clase hasta ahora."
   ]
  },
  {
   "cell_type": "markdown",
   "metadata": {},
   "source": [
    "1) Construye una lista con **tripletas pitagóricas** de números naturales $(a,b,c)$ tales que $a^2+b^2=c^2$. El resultado debe ser una lista parecida a esta: \\[(3, 4, 5), (5, 12, 13),  (6, 8, 10),  (7, 24, 25), (8, 15, 17), ... \\]. Incluye solo las tripletas con $a < b$ y hasta un cierto valor máximo de $c$."
   ]
  },
  {
   "cell_type": "code",
   "execution_count": null,
   "metadata": {},
   "outputs": [],
   "source": []
  },
  {
   "cell_type": "markdown",
   "metadata": {},
   "source": [
    "2) Escribe una función para calcular el área de un triángulo **a partir de las longitudes de sus lados** ([fórmula de Heron](https://en.wikipedia.org/wiki/Heron%27s_formula)). "
   ]
  },
  {
   "cell_type": "code",
   "execution_count": 8,
   "metadata": {},
   "outputs": [
    {
     "name": "stdout",
     "output_type": "stream",
     "text": [
      "6.0\n",
      "24.0\n"
     ]
    }
   ],
   "source": [
    "# una vez definida, debe funcionar así:\n",
    "\n",
    "print( heron(3, 4, 5) )\n",
    "\n",
    "print( heron(4, 13, 15) )"
   ]
  },
  {
   "cell_type": "markdown",
   "metadata": {},
   "source": [
    "3) Escribe una función para calcular el área de un triángulo **a partir de las coordenadas de sus vértices**. Puedes apoyarte en el ejercicio anterior."
   ]
  },
  {
   "cell_type": "code",
   "execution_count": 17,
   "metadata": {},
   "outputs": [
    {
     "data": {
      "text/plain": [
       "6.0"
      ]
     },
     "execution_count": 17,
     "metadata": {},
     "output_type": "execute_result"
    }
   ],
   "source": [
    "# una vez definida debe funcionar así:\n",
    "\n",
    "p = np.array( [3,4] )\n",
    "q = np.array( [3,7] )\n",
    "r = np.array( [7,4] )\n",
    "\n",
    "area(p, q, r)"
   ]
  }
 ],
 "metadata": {
  "hide_input": false,
  "kernelspec": {
   "display_name": "Python 3",
   "language": "python",
   "name": "python3"
  },
  "language_info": {
   "codemirror_mode": {
    "name": "ipython",
    "version": 3
   },
   "file_extension": ".py",
   "mimetype": "text/x-python",
   "name": "python",
   "nbconvert_exporter": "python",
   "pygments_lexer": "ipython3",
   "version": "3.6.4"
  },
  "varInspector": {
   "cols": {
    "lenName": 16,
    "lenType": 16,
    "lenVar": 40
   },
   "kernels_config": {
    "python": {
     "delete_cmd_postfix": "",
     "delete_cmd_prefix": "del ",
     "library": "var_list.py",
     "varRefreshCmd": "print(var_dic_list())"
    },
    "r": {
     "delete_cmd_postfix": ") ",
     "delete_cmd_prefix": "rm(",
     "library": "var_list.r",
     "varRefreshCmd": "cat(var_dic_list()) "
    }
   },
   "types_to_exclude": [
    "module",
    "function",
    "builtin_function_or_method",
    "instance",
    "_Feature"
   ],
   "window_display": false
  }
 },
 "nbformat": 4,
 "nbformat_minor": 2
}
