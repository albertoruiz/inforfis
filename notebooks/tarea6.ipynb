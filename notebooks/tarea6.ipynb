{
 "cells": [
  {
   "cell_type": "markdown",
   "metadata": {},
   "source": [
    "# Tarea 6\n",
    "\n",
    "Nombre:  **Nombre Apellido Apellido** \n",
    "\n",
    "Resuelve los siguientes ejercicios, usando únicamente los conceptos explicados en clase hasta ahora."
   ]
  },
  {
   "cell_type": "markdown",
   "metadata": {},
   "source": [
    "1) [Euler demostró](https://en.wikipedia.org/wiki/Basel_problem) que\n",
    "\n",
    "$$\\sum_{k=1}^\\infty \\frac{1}{k^2} = \\frac{\\pi^2}{6} = 1.64493 \\ldots$$\n",
    "\n",
    "Comprueba que las sumas parciales se van aproximando al valor real, e intenta determinar cuántos términos son necesarios para conseguir una diferencia absoluta menor que 0.001."
   ]
  },
  {
   "cell_type": "code",
   "execution_count": null,
   "metadata": {},
   "outputs": [],
   "source": []
  },
  {
   "cell_type": "markdown",
   "metadata": {},
   "source": [
    "2) Escribe una función que encuentre el segundo mayor elemento de un array de enteros."
   ]
  },
  {
   "cell_type": "code",
   "execution_count": 1,
   "metadata": {},
   "outputs": [],
   "source": [
    "# p. ej. si llamamos \"segun\" a la función pedida y\n",
    "# x = np.array( [1, 3, 2, 10, -5, 8, 3] )\n",
    "# segun(x) debe contestar 8"
   ]
  },
  {
   "cell_type": "markdown",
   "metadata": {},
   "source": [
    "3) Determina mediante simulación qué suceso es más probable: **a)** obtener al menos un seis al lanzar 6 dados, **b)** obtener al menos 2 seises al lanzar 12 dados. **c)** obtener al menos 3 seises al lanzar 18 dados. ([Problema de Newton-Pepys](https://en.wikipedia.org/wiki/Newton%E2%80%93Pepys_problem).)\n",
    "\n"
   ]
  },
  {
   "cell_type": "code",
   "execution_count": 3,
   "metadata": {},
   "outputs": [
    {
     "data": {
      "text/plain": [
       "array([1, 0, 2])"
      ]
     },
     "execution_count": 3,
     "metadata": {},
     "output_type": "execute_result"
    }
   ],
   "source": [
    "# para cada experimento, con np.random.randint puedes generar una matriz\n",
    "# de n filas (número de repeticiones) y d columnas (número de dados)\n",
    "\n",
    "# Una pista:\n",
    "\n",
    "m = np.array([[2,3,4],\n",
    "              [1,2,5],\n",
    "              [3,3,1]])\n",
    "\n",
    "np.sum(m==3, axis=1)"
   ]
  }
 ],
 "metadata": {
  "hide_input": false,
  "kernelspec": {
   "display_name": "Python 3",
   "language": "python",
   "name": "python3"
  },
  "language_info": {
   "codemirror_mode": {
    "name": "ipython",
    "version": 3
   },
   "file_extension": ".py",
   "mimetype": "text/x-python",
   "name": "python",
   "nbconvert_exporter": "python",
   "pygments_lexer": "ipython3",
   "version": "3.6.4"
  },
  "varInspector": {
   "cols": {
    "lenName": 16,
    "lenType": 16,
    "lenVar": 40
   },
   "kernels_config": {
    "python": {
     "delete_cmd_postfix": "",
     "delete_cmd_prefix": "del ",
     "library": "var_list.py",
     "varRefreshCmd": "print(var_dic_list())"
    },
    "r": {
     "delete_cmd_postfix": ") ",
     "delete_cmd_prefix": "rm(",
     "library": "var_list.r",
     "varRefreshCmd": "cat(var_dic_list()) "
    }
   },
   "types_to_exclude": [
    "module",
    "function",
    "builtin_function_or_method",
    "instance",
    "_Feature"
   ],
   "window_display": false
  }
 },
 "nbformat": 4,
 "nbformat_minor": 2
}
