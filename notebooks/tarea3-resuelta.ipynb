{
 "cells": [
  {
   "cell_type": "markdown",
   "metadata": {},
   "source": [
    "Errores típicos:\n",
    "\n",
    "- Intentar usar una función no definida.\n",
    "\n",
    "- No definir una función y usar la de un ejercicio anterior.\n",
    "\n",
    "Recomendaciones:\n",
    "\n",
    "- Reinicia el kernel en cada ejercicio y define todas las variables y funciones expresamente para que no se confundan con las de ejercicios anteriores.\n",
    "\n",
    "- Define un símbolo cada vez y comprueba que tiene los valores esperados. Se puede insertar `print(lo que sea)` en cada una, y luego quitarlos o comentarlos."
   ]
  },
  {
   "cell_type": "markdown",
   "metadata": {},
   "source": [
    "# Tarea 3\n",
    "\n",
    "Nombre:  **Nombre Apellido Apellido** \n",
    "\n",
    "Resuelve los siguientes ejercicios, usando únicamente los conceptos explicados en clase hasta ahora."
   ]
  },
  {
   "cell_type": "markdown",
   "metadata": {},
   "source": [
    "1) Calcula la suma siguiente:\n",
    "\n"
   ]
  },
  {
   "cell_type": "markdown",
   "metadata": {},
   "source": [
    "$$\\sum_{k=1}^{100} (-1)^k \\; k^3$$"
   ]
  },
  {
   "cell_type": "code",
   "execution_count": 1,
   "metadata": {},
   "outputs": [
    {
     "data": {
      "text/plain": [
       "507500"
      ]
     },
     "execution_count": 1,
     "metadata": {},
     "output_type": "execute_result"
    }
   ],
   "source": [
    "import numpy as np\n",
    "\n",
    "k = np.arange(1,101)\n",
    "np.sum( (-1)**k * k**3 )"
   ]
  },
  {
   "cell_type": "code",
   "execution_count": 2,
   "metadata": {},
   "outputs": [
    {
     "name": "stdout",
     "output_type": "stream",
     "text": [
      "[  1   2   3   4   5   6   7   8   9  10  11  12  13  14  15  16  17  18\n",
      "  19  20  21  22  23  24  25  26  27  28  29  30  31  32  33  34  35  36\n",
      "  37  38  39  40  41  42  43  44  45  46  47  48  49  50  51  52  53  54\n",
      "  55  56  57  58  59  60  61  62  63  64  65  66  67  68  69  70  71  72\n",
      "  73  74  75  76  77  78  79  80  81  82  83  84  85  86  87  88  89  90\n",
      "  91  92  93  94  95  96  97  98  99 100]\n",
      "[     -1       8     -27      64    -125     216    -343     512    -729\n",
      "    1000   -1331    1728   -2197    2744   -3375    4096   -4913    5832\n",
      "   -6859    8000   -9261   10648  -12167   13824  -15625   17576  -19683\n",
      "   21952  -24389   27000  -29791   32768  -35937   39304  -42875   46656\n",
      "  -50653   54872  -59319   64000  -68921   74088  -79507   85184  -91125\n",
      "   97336 -103823  110592 -117649  125000 -132651  140608 -148877  157464\n",
      " -166375  175616 -185193  195112 -205379  216000 -226981  238328 -250047\n",
      "  262144 -274625  287496 -300763  314432 -328509  343000 -357911  373248\n",
      " -389017  405224 -421875  438976 -456533  474552 -493039  512000 -531441\n",
      "  551368 -571787  592704 -614125  636056 -658503  681472 -704969  729000\n",
      " -753571  778688 -804357  830584 -857375  884736 -912673  941192 -970299\n",
      " 1000000]\n",
      "507500\n"
     ]
    }
   ],
   "source": [
    "# paso a paso\n",
    "\n",
    "k = np.arange(1,100+1)\n",
    "print(k)\n",
    "\n",
    "elem =  (-1)**k * k**3\n",
    "print(elem)\n",
    "\n",
    "s = np.sum(elem) \n",
    "print(s)"
   ]
  },
  {
   "cell_type": "markdown",
   "metadata": {},
   "source": [
    "2) Define la función\n",
    "\n",
    "$$S(n) = \\sum_{k=0}^n k^2 $$\n",
    "\n",
    "y comprueba para varios valores de $n$ la identidad $S(n) = n(n+1)(2n+1)/6$."
   ]
  },
  {
   "cell_type": "code",
   "execution_count": 1,
   "metadata": {},
   "outputs": [
    {
     "name": "stdout",
     "output_type": "stream",
     "text": [
      "55 55.0\n",
      "1785 1785.0\n"
     ]
    }
   ],
   "source": [
    "import numpy as np\n",
    "\n",
    "def S(n):\n",
    "    k = np.arange(0,n+1)\n",
    "    return np.sum( k**2 )\n",
    "\n",
    "n = 5\n",
    "print( S(n),   n*(n+1)*(2*n+1) / 6 )\n",
    "\n",
    "n = 17\n",
    "print( S(n),   n*(n+1)*(2*n+1) / 6 )"
   ]
  },
  {
   "cell_type": "code",
   "execution_count": 1,
   "metadata": {},
   "outputs": [
    {
     "name": "stdout",
     "output_type": "stream",
     "text": [
      "0 True\n",
      "1 True\n",
      "5 True\n",
      "14 True\n",
      "30 True\n",
      "55 True\n",
      "91 True\n",
      "140 True\n",
      "204 True\n",
      "285 True\n"
     ]
    }
   ],
   "source": [
    "import numpy as np\n",
    "\n",
    "def S(n):\n",
    "    k = np.arange(0,n+1)\n",
    "    return np.sum( k**2 )\n",
    "\n",
    "def R(n):\n",
    "    return n*(n+1)*(2*n+1) // 6\n",
    "\n",
    "for n in np.arange(10):\n",
    "    print( S(n), S(n)==R(n))"
   ]
  },
  {
   "cell_type": "markdown",
   "metadata": {},
   "source": [
    "3) Define una función que admite como argumento los coeficientes $a$, $b$, $c$ de una ecuación de segundo grado $ax^2+bx+c=0$ y obtiene como resultado sus dos soluciones."
   ]
  },
  {
   "cell_type": "code",
   "execution_count": 1,
   "metadata": {},
   "outputs": [
    {
     "name": "stdout",
     "output_type": "stream",
     "text": [
      "(2.0, 1.0)\n",
      "(1.0, 1.0)\n",
      "((6.123233995736766e-17+1j), (-6.123233995736766e-17-1j))\n"
     ]
    }
   ],
   "source": [
    "def ecu(a,b,c):\n",
    "    x1 = (-b + (b**2-4*a*c)**0.5) / 2/a\n",
    "    x2 = (-b - (b**2-4*a*c)**0.5) / (2*a)\n",
    "    return x1,x2\n",
    "\n",
    "print( ecu(2,-6,4) )\n",
    "print( ecu(1,-2,1) )\n",
    "print( ecu(1,0,1) )"
   ]
  },
  {
   "cell_type": "markdown",
   "metadata": {},
   "source": [
    "4) Resuelve con el método de Newton la ecuación\n",
    "\n",
    "$$ M = x - \\varepsilon \\sin(x)$$\n",
    "\n",
    "para $M=\\frac{3}{4}\\pi$ ,  $\\varepsilon=0.8$, partiendo de $x_0=1.5$."
   ]
  },
  {
   "cell_type": "code",
   "execution_count": 1,
   "metadata": {},
   "outputs": [
    {
     "name": "stdout",
     "output_type": "stream",
     "text": [
      "[1.5        3.25341586 2.7038383  2.69889879 2.69889638 2.69889638\n",
      " 2.69889638 2.69889638 2.69889638 2.69889638]\n",
      "La solución es: 2.6988963844574974\n"
     ]
    }
   ],
   "source": [
    "import numpy as np\n",
    "\n",
    "def f(x):\n",
    "    return x - e*np.sin(x) - M\n",
    "    \n",
    "def fp(x):\n",
    "    return 1 - e*np.cos(x)\n",
    "\n",
    "M = 3*np.pi/4\n",
    "e = 0.8\n",
    "\n",
    "\n",
    "n = 10\n",
    "# creamos espacio para guardar las aproximaciones\n",
    "X = np.zeros(n)\n",
    "\n",
    "X[0] = 1.5\n",
    "\n",
    "for k in range(n-1):\n",
    "    X[k+1] = X[k] - f( X[k] ) / fp( X[k] )\n",
    "\n",
    "print(X)\n",
    "\n",
    "print('La solución es:',X[n-1])"
   ]
  },
  {
   "cell_type": "code",
   "execution_count": 1,
   "metadata": {},
   "outputs": [
    {
     "name": "stdout",
     "output_type": "stream",
     "text": [
      "[1.5        3.25341586 2.7038383  2.69889879 2.69889638 2.69889638\n",
      " 2.69889638 2.69889638 2.69889638 2.69889638]\n",
      "La solución es: 2.6988963844574974\n"
     ]
    }
   ],
   "source": [
    "import numpy as np\n",
    "import numdifftools as nd\n",
    "\n",
    "def f(x):\n",
    "    return x - e*np.sin(x) - M\n",
    "    \n",
    "fp = nd.Derivative(f)\n",
    "\n",
    "M = 3*np.pi/4\n",
    "e = 0.8\n",
    "\n",
    "\n",
    "n = 10\n",
    "# creamos espacio para guardar las aproximaciones\n",
    "X = np.zeros(n)\n",
    "\n",
    "X[0] = 1.5\n",
    "\n",
    "for k in range(n-1):\n",
    "    X[k+1] = X[k] - f( X[k] ) / fp( X[k] )\n",
    "\n",
    "print(X)\n",
    "\n",
    "print('La solución es:',X[n-1])"
   ]
  },
  {
   "cell_type": "markdown",
   "metadata": {},
   "source": [
    "5) Dada la función\n",
    "\n",
    "$$\\Phi(t) = \\frac{1}{\\sqrt{2\\pi}}\\int_{0}^t e^{-\\frac{1}{2}x^2} dx$$\n",
    "\n",
    "calcula una aproximación a $\\Phi(0.46)$ mediante la regla del trapecio (aproximando la curva mediante unos cuantos tramos rectos)."
   ]
  },
  {
   "cell_type": "code",
   "execution_count": 1,
   "metadata": {},
   "outputs": [
    {
     "name": "stdout",
     "output_type": "stream",
     "text": [
      "0.17720594614100488\n"
     ]
    }
   ],
   "source": [
    "import numpy as np\n",
    "\n",
    "def fun(x):\n",
    "    return np.exp(-x**2/2)\n",
    "\n",
    "a = 0\n",
    "b = 0.46\n",
    "x = np.linspace(a,b,10)\n",
    "d = x[1] -x[0]\n",
    "w = [1,2,2,2,2,2,2,2,2,1]\n",
    "\n",
    "print( fun(x) @ w * d/2 / np.sqrt(2*np.pi) )"
   ]
  },
  {
   "cell_type": "code",
   "execution_count": 2,
   "metadata": {},
   "outputs": [
    {
     "name": "stdout",
     "output_type": "stream",
     "text": [
      "0.17722703656162475\n"
     ]
    }
   ],
   "source": [
    "# automatizando la construcción de w para cualquier n\n",
    "\n",
    "import numpy as np\n",
    "\n",
    "def fun(x):\n",
    "    return np.exp(-x**2/2)\n",
    "\n",
    "n = 15\n",
    "a = 0\n",
    "b = 0.46\n",
    "x = np.linspace(a,b,n)\n",
    "d = x[1] -x[0]\n",
    "\n",
    "w =  np.zeros(n) + 2\n",
    "w[0] = 1; w[n-1] = 1\n",
    "\n",
    "print( fun(x) @ w * d/2 / np.sqrt(2*np.pi) )"
   ]
  },
  {
   "cell_type": "code",
   "execution_count": 3,
   "metadata": {},
   "outputs": [
    {
     "data": {
      "text/plain": [
       "array([1.77241890e-01, 1.96778027e-15])"
      ]
     },
     "execution_count": 3,
     "metadata": {},
     "output_type": "execute_result"
    }
   ],
   "source": [
    "# lo comprobamos con un método de integración más preciso\n",
    "\n",
    "from scipy.integrate import quad\n",
    "\n",
    "quad(fun,0,0.46) / np.sqrt(2*np.pi)"
   ]
  },
  {
   "cell_type": "code",
   "execution_count": 4,
   "metadata": {},
   "outputs": [
    {
     "data": {
      "text/plain": [
       "array([1, 2, 2, 2, 2, 2, 2, 2, 2, 2, 2, 2, 1])"
      ]
     },
     "execution_count": 4,
     "metadata": {},
     "output_type": "execute_result"
    }
   ],
   "source": [
    "# los coeficientes w también se podrían calcular así:\n",
    "n = 13\n",
    "w = np.full(n,2)\n",
    "w[0] = w[n-1] = 1\n",
    "w"
   ]
  },
  {
   "cell_type": "markdown",
   "metadata": {},
   "source": [
    "o así:"
   ]
  },
  {
   "cell_type": "code",
   "execution_count": 5,
   "metadata": {},
   "outputs": [
    {
     "data": {
      "text/plain": [
       "[1, 2, 2, 2, 2, 2, 2, 2, 2, 2, 2, 2, 1]"
      ]
     },
     "execution_count": 5,
     "metadata": {},
     "output_type": "execute_result"
    }
   ],
   "source": [
    "[1] + [2]*(n-2) + [1]"
   ]
  },
  {
   "cell_type": "markdown",
   "metadata": {},
   "source": [
    "(Lo explicaremos en clase.)"
   ]
  }
 ],
 "metadata": {
  "hide_input": false,
  "kernelspec": {
   "display_name": "Python 3",
   "language": "python",
   "name": "python3"
  },
  "language_info": {
   "codemirror_mode": {
    "name": "ipython",
    "version": 3
   },
   "file_extension": ".py",
   "mimetype": "text/x-python",
   "name": "python",
   "nbconvert_exporter": "python",
   "pygments_lexer": "ipython3",
   "version": "3.6.3"
  },
  "varInspector": {
   "cols": {
    "lenName": 16,
    "lenType": 16,
    "lenVar": 40
   },
   "kernels_config": {
    "python": {
     "delete_cmd_postfix": "",
     "delete_cmd_prefix": "del ",
     "library": "var_list.py",
     "varRefreshCmd": "print(var_dic_list())"
    },
    "r": {
     "delete_cmd_postfix": ") ",
     "delete_cmd_prefix": "rm(",
     "library": "var_list.r",
     "varRefreshCmd": "cat(var_dic_list()) "
    }
   },
   "types_to_exclude": [
    "module",
    "function",
    "builtin_function_or_method",
    "instance",
    "_Feature"
   ],
   "window_display": false
  }
 },
 "nbformat": 4,
 "nbformat_minor": 2
}
