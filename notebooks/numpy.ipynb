{
 "cells": [
  {
   "cell_type": "markdown",
   "metadata": {},
   "source": [
    "Informática - 1º de Física\n",
    "<br>\n",
    "**Introducción a la Programación**\n",
    "<br>\n",
    "<p style=\"color:#808080\"> <small><small>\n",
    "22/10/2019\n",
    "</small></small></p>"
   ]
  },
  {
   "cell_type": "markdown",
   "metadata": {},
   "source": [
    "## Tema 5. Arrays"
   ]
  },
  {
   "cell_type": "markdown",
   "metadata": {},
   "source": [
    "Como anticipamos al hablar de los contenedores, el [array](https://en.wikipedia.org/wiki/Array_data_type) es el tipo de dato fundamental para la computación científica."
   ]
  },
  {
   "cell_type": "markdown",
   "metadata": {},
   "source": [
    "Es una estructura multidimensional cuyos elementos se especifican con una secuencia de índices. Un array de dimensión 1 es como un vector, cuyos elementos se especifican como `a[j]`. Un array de dimensión 2 es como una matriz, cuyos elementos se especifican con dos índices: `a[i,j]` (i-ésima fila, j-ésima columna). Un array de dimensión 3 admite tres índices `a[i,j,k]` (fila, columna, capa). Y así sucesivamente. Esta referencia a elementos de un array con el corchete se llama indexado.\n",
    "\n",
    "La característica fundamental de los arrays es que podemos operar con todos sus elementos de forma automática sin bucles ni indexado explícito. Esto permite expresar los algoritmos de análisis de datos de forma muy elegante."
   ]
  },
  {
   "cell_type": "markdown",
   "metadata": {},
   "source": [
    "Las operaciones con arrays están disponibles en el módulo [numpy](https://en.wikipedia.org/wiki/NumPy), que es el corazón del ecosistema de computación científica de Python ([scipy](https://www.scipy.org/)), y una de las causas de la gran popularidad que ha adquirido este lenguaje.\n",
    "\n",
    "Estas funciones pueden agruparse en las siguientes categorías:\n",
    "\n",
    "- creación de arrays\n",
    "\n",
    "- inspección de estructura\n",
    "\n",
    "- operaciones \"vectorizadas\" con *broadcasting* automático\n",
    "\n",
    "- reducción por filas o columnas\n",
    "\n",
    "- *slicing* (troceado) y reconfiguración\n",
    "\n",
    "- *masks* (selección de elementos en base a condiciones lógicas)\n",
    "\n",
    "- álgebra lineal"
   ]
  },
  {
   "cell_type": "markdown",
   "metadata": {},
   "source": [
    "### Operaciones básicas"
   ]
  },
  {
   "cell_type": "markdown",
   "metadata": {},
   "source": [
    "A continuación mostramos algunos ejemplos de uso de las funciones más importantes. La tradición es usar el prefijo `np` para indicar las funciones que trabajan con arrays. "
   ]
  },
  {
   "cell_type": "code",
   "execution_count": 1,
   "metadata": {},
   "outputs": [],
   "source": [
    "import numpy as np"
   ]
  },
  {
   "cell_type": "markdown",
   "metadata": {},
   "source": [
    "Construcción a partir de listas (u otros contenedores):"
   ]
  },
  {
   "cell_type": "code",
   "execution_count": 2,
   "metadata": {},
   "outputs": [],
   "source": [
    "v = np.array([2,-3,7])"
   ]
  },
  {
   "cell_type": "code",
   "execution_count": 3,
   "metadata": {},
   "outputs": [
    {
     "data": {
      "text/plain": [
       "-3"
      ]
     },
     "execution_count": 3,
     "metadata": {},
     "output_type": "execute_result"
    }
   ],
   "source": [
    "v[1]"
   ]
  },
  {
   "cell_type": "code",
   "execution_count": 4,
   "metadata": {},
   "outputs": [],
   "source": [
    "m = np.array([[5,3, 2,10],\n",
    "              [2,0, 7, 0],\n",
    "              [1,1,-3, 6]])"
   ]
  },
  {
   "cell_type": "code",
   "execution_count": 5,
   "metadata": {},
   "outputs": [
    {
     "data": {
      "text/plain": [
       "7"
      ]
     },
     "execution_count": 5,
     "metadata": {},
     "output_type": "execute_result"
    }
   ],
   "source": [
    "m[1,2]"
   ]
  },
  {
   "cell_type": "code",
   "execution_count": 6,
   "metadata": {},
   "outputs": [
    {
     "data": {
      "text/plain": [
       "array([ 1,  1, -3,  6])"
      ]
     },
     "execution_count": 6,
     "metadata": {},
     "output_type": "execute_result"
    }
   ],
   "source": [
    "m[2]"
   ]
  },
  {
   "cell_type": "markdown",
   "metadata": {},
   "source": [
    "Inspección de su tipo y estructura:"
   ]
  },
  {
   "cell_type": "code",
   "execution_count": 7,
   "metadata": {},
   "outputs": [
    {
     "data": {
      "text/plain": [
       "numpy.ndarray"
      ]
     },
     "execution_count": 7,
     "metadata": {},
     "output_type": "execute_result"
    }
   ],
   "source": [
    "type(m)"
   ]
  },
  {
   "cell_type": "code",
   "execution_count": 8,
   "metadata": {},
   "outputs": [
    {
     "data": {
      "text/plain": [
       "dtype('int64')"
      ]
     },
     "execution_count": 8,
     "metadata": {},
     "output_type": "execute_result"
    }
   ],
   "source": [
    "m.dtype"
   ]
  },
  {
   "cell_type": "code",
   "execution_count": 9,
   "metadata": {},
   "outputs": [
    {
     "data": {
      "text/plain": [
       "(3, 4)"
      ]
     },
     "execution_count": 9,
     "metadata": {},
     "output_type": "execute_result"
    }
   ],
   "source": [
    "m.shape"
   ]
  },
  {
   "cell_type": "code",
   "execution_count": 10,
   "metadata": {},
   "outputs": [
    {
     "data": {
      "text/plain": [
       "2"
      ]
     },
     "execution_count": 10,
     "metadata": {},
     "output_type": "execute_result"
    }
   ],
   "source": [
    "m.ndim"
   ]
  },
  {
   "cell_type": "code",
   "execution_count": 11,
   "metadata": {},
   "outputs": [
    {
     "data": {
      "text/plain": [
       "3"
      ]
     },
     "execution_count": 11,
     "metadata": {},
     "output_type": "execute_result"
    }
   ],
   "source": [
    "len(m)"
   ]
  },
  {
   "cell_type": "code",
   "execution_count": 12,
   "metadata": {},
   "outputs": [
    {
     "data": {
      "text/plain": [
       "12"
      ]
     },
     "execution_count": 12,
     "metadata": {},
     "output_type": "execute_result"
    }
   ],
   "source": [
    "m.size"
   ]
  },
  {
   "cell_type": "markdown",
   "metadata": {},
   "source": [
    "Operaciones elemento a elemento automáticas:"
   ]
  },
  {
   "cell_type": "code",
   "execution_count": 13,
   "metadata": {},
   "outputs": [
    {
     "data": {
      "text/plain": [
       "array([20,  0, 35])"
      ]
     },
     "execution_count": 13,
     "metadata": {},
     "output_type": "execute_result"
    }
   ],
   "source": [
    "v * np.array([10,0,5])"
   ]
  },
  {
   "cell_type": "code",
   "execution_count": 14,
   "metadata": {},
   "outputs": [
    {
     "data": {
      "text/plain": [
       "array([[ 27,  17,  12,  52],\n",
       "       [ 12,   2,  37,   2],\n",
       "       [  7,   7, -13,  32]])"
      ]
     },
     "execution_count": 14,
     "metadata": {},
     "output_type": "execute_result"
    }
   ],
   "source": [
    "5*m + 2"
   ]
  },
  {
   "cell_type": "markdown",
   "metadata": {},
   "source": [
    "Constructores especiales:"
   ]
  },
  {
   "cell_type": "code",
   "execution_count": 15,
   "metadata": {},
   "outputs": [
    {
     "data": {
      "text/plain": [
       "array([[0., 0., 0.],\n",
       "       [0., 0., 0.]])"
      ]
     },
     "execution_count": 15,
     "metadata": {},
     "output_type": "execute_result"
    }
   ],
   "source": [
    "np.zeros([2,3])"
   ]
  },
  {
   "cell_type": "code",
   "execution_count": 16,
   "metadata": {},
   "outputs": [
    {
     "data": {
      "text/plain": [
       "array([1., 1., 1., 1.])"
      ]
     },
     "execution_count": 16,
     "metadata": {},
     "output_type": "execute_result"
    }
   ],
   "source": [
    "np.ones([4])"
   ]
  },
  {
   "cell_type": "code",
   "execution_count": 17,
   "metadata": {},
   "outputs": [
    {
     "data": {
      "text/plain": [
       "array([0. , 0.5, 1. , 1.5, 2. , 2.5, 3. , 3.5, 4. , 4.5, 5. ])"
      ]
     },
     "execution_count": 17,
     "metadata": {},
     "output_type": "execute_result"
    }
   ],
   "source": [
    "np.linspace(0,5,11)"
   ]
  },
  {
   "cell_type": "code",
   "execution_count": 18,
   "metadata": {},
   "outputs": [
    {
     "data": {
      "text/plain": [
       "array([0, 1, 2, 3, 4, 5, 6, 7, 8, 9])"
      ]
     },
     "execution_count": 18,
     "metadata": {},
     "output_type": "execute_result"
    }
   ],
   "source": [
    "np.arange(10)"
   ]
  },
  {
   "cell_type": "code",
   "execution_count": 19,
   "metadata": {},
   "outputs": [
    {
     "data": {
      "text/plain": [
       "array([1. , 1.5, 2. , 2.5, 3. , 3.5, 4. , 4.5, 5. , 5.5, 6. , 6.5, 7. ,\n",
       "       7.5, 8. , 8.5, 9. , 9.5])"
      ]
     },
     "execution_count": 19,
     "metadata": {},
     "output_type": "execute_result"
    }
   ],
   "source": [
    "np.arange(1,10,0.5)"
   ]
  },
  {
   "cell_type": "code",
   "execution_count": 20,
   "metadata": {},
   "outputs": [
    {
     "data": {
      "text/plain": [
       "array([[1., 0., 0., 0., 0., 0., 0.],\n",
       "       [0., 1., 0., 0., 0., 0., 0.],\n",
       "       [0., 0., 1., 0., 0., 0., 0.],\n",
       "       [0., 0., 0., 1., 0., 0., 0.],\n",
       "       [0., 0., 0., 0., 1., 0., 0.],\n",
       "       [0., 0., 0., 0., 0., 1., 0.],\n",
       "       [0., 0., 0., 0., 0., 0., 1.]])"
      ]
     },
     "execution_count": 20,
     "metadata": {},
     "output_type": "execute_result"
    }
   ],
   "source": [
    "np.eye(7)"
   ]
  },
  {
   "cell_type": "markdown",
   "metadata": {},
   "source": [
    "Iteración, a lo largo de la primera dimensión:"
   ]
  },
  {
   "cell_type": "code",
   "execution_count": 21,
   "metadata": {},
   "outputs": [
    {
     "name": "stdout",
     "output_type": "stream",
     "text": [
      "1.0\n",
      "1.0\n",
      "1.0\n",
      "1.0\n"
     ]
    }
   ],
   "source": [
    "for e in np.ones(4):\n",
    "    print(e)"
   ]
  },
  {
   "cell_type": "code",
   "execution_count": 22,
   "metadata": {},
   "outputs": [
    {
     "name": "stdout",
     "output_type": "stream",
     "text": [
      "[ 5  3  2 10]\n",
      "[2 0 7 0]\n",
      "[ 1  1 -3  6]\n"
     ]
    }
   ],
   "source": [
    "for e in m:\n",
    "    print(e)"
   ]
  },
  {
   "cell_type": "code",
   "execution_count": 23,
   "metadata": {},
   "outputs": [
    {
     "data": {
      "text/plain": [
       "array([ 8,  4,  6, 16])"
      ]
     },
     "execution_count": 23,
     "metadata": {},
     "output_type": "execute_result"
    }
   ],
   "source": [
    "sum(m)"
   ]
  },
  {
   "cell_type": "code",
   "execution_count": 24,
   "metadata": {},
   "outputs": [
    {
     "data": {
      "text/plain": [
       "array([20,  9,  5])"
      ]
     },
     "execution_count": 24,
     "metadata": {},
     "output_type": "execute_result"
    }
   ],
   "source": [
    "np.sum(m,axis=1)"
   ]
  },
  {
   "cell_type": "markdown",
   "metadata": {},
   "source": [
    "Operaciones matriciales:"
   ]
  },
  {
   "cell_type": "code",
   "execution_count": 25,
   "metadata": {},
   "outputs": [
    {
     "data": {
      "text/plain": [
       "array([[ 5,  2,  1],\n",
       "       [ 3,  0,  1],\n",
       "       [ 2,  7, -3],\n",
       "       [10,  0,  6]])"
      ]
     },
     "execution_count": 25,
     "metadata": {},
     "output_type": "execute_result"
    }
   ],
   "source": [
    "m.T"
   ]
  },
  {
   "cell_type": "code",
   "execution_count": 26,
   "metadata": {},
   "outputs": [],
   "source": [
    "v = np.array([3,2,-5,8])"
   ]
  },
  {
   "cell_type": "markdown",
   "metadata": {},
   "source": [
    "El operador `@` (abreviatura de la función [np.dot](https://docs.scipy.org/doc/numpy-1.15.0/reference/generated/numpy.dot.html)) es el producto de matrices, el producto matriz-vector y, en general, realiza la [contracción](https://en.wikipedia.org/wiki/Tensor_contraction) de dos arrays multidimensionales."
   ]
  },
  {
   "cell_type": "code",
   "execution_count": 27,
   "metadata": {},
   "outputs": [
    {
     "data": {
      "text/plain": [
       "array([ 91, -29,  68])"
      ]
     },
     "execution_count": 27,
     "metadata": {},
     "output_type": "execute_result"
    }
   ],
   "source": [
    "m @ v"
   ]
  },
  {
   "cell_type": "code",
   "execution_count": 28,
   "metadata": {},
   "outputs": [
    {
     "data": {
      "text/plain": [
       "array([[ 50,  30,  20, 100],\n",
       "       [  0,   0,   0,   0],\n",
       "       [  1,   1,  -3,   6]])"
      ]
     },
     "execution_count": 28,
     "metadata": {},
     "output_type": "execute_result"
    }
   ],
   "source": [
    "np.diag([10,0,1]) @ m"
   ]
  },
  {
   "cell_type": "markdown",
   "metadata": {},
   "source": [
    "Funciones matemáticas optimizadas para arrays, elemento a elemento:"
   ]
  },
  {
   "cell_type": "code",
   "execution_count": 29,
   "metadata": {},
   "outputs": [
    {
     "data": {
      "text/plain": [
       "array([0.        , 0.21666156, 0.43332312, 0.64998469, 0.86664625,\n",
       "       1.08330781, 1.29996937, 1.51663094, 1.7332925 , 1.94995406,\n",
       "       2.16661562, 2.38327719, 2.59993875, 2.81660031, 3.03326187,\n",
       "       3.24992343, 3.466585  , 3.68324656, 3.89990812, 4.11656968,\n",
       "       4.33323125, 4.54989281, 4.76655437, 4.98321593, 5.1998775 ,\n",
       "       5.41653906, 5.63320062, 5.84986218, 6.06652374, 6.28318531])"
      ]
     },
     "execution_count": 29,
     "metadata": {},
     "output_type": "execute_result"
    }
   ],
   "source": [
    "x = np.linspace(0,2*np.pi,30)\n",
    "\n",
    "x"
   ]
  },
  {
   "cell_type": "code",
   "execution_count": 30,
   "metadata": {},
   "outputs": [
    {
     "data": {
      "text/plain": [
       "array([ 1.        ,  1.12254586,  1.06727539,  0.87270255,  0.60038006,\n",
       "        0.32232498,  0.10669282,  0.00439546,  0.03917335,  0.20298123,\n",
       "        0.45755084,  0.74183837,  0.9839623 ,  1.1153946 ,  1.08473957,\n",
       "        0.86850154,  0.47679154, -0.04714542, -0.63356055, -1.19782715,\n",
       "       -1.65497221, -1.93447969, -1.99267137, -1.82040717, -1.44469911,\n",
       "       -0.92394405, -0.33764588,  0.22749718,  0.69260498,  1.        ])"
      ]
     },
     "execution_count": 30,
     "metadata": {},
     "output_type": "execute_result"
    }
   ],
   "source": [
    "y = np.sin(x) + np.cos(2*x)\n",
    "y"
   ]
  },
  {
   "cell_type": "markdown",
   "metadata": {},
   "source": [
    "Los arrays son el tipo de datos que normalmente se utiliza para producir gráficas, como veremos en detalle en el siguiente capítulo."
   ]
  },
  {
   "cell_type": "code",
   "execution_count": 31,
   "metadata": {},
   "outputs": [],
   "source": [
    "import matplotlib.pyplot as plt\n",
    "%matplotlib inline"
   ]
  },
  {
   "cell_type": "code",
   "execution_count": 32,
   "metadata": {},
   "outputs": [
    {
     "data": {
      "image/png": "[encoded data removed]",
      "text/plain": [
       "<Figure size 432x288 with 1 Axes>"
      ]
     },
     "metadata": {
      "needs_background": "light"
     },
     "output_type": "display_data"
    }
   ],
   "source": [
    "plt.plot(x,y);"
   ]
  },
  {
   "cell_type": "markdown",
   "metadata": {},
   "source": [
    "Reconfiguración de los elementos:"
   ]
  },
  {
   "cell_type": "code",
   "execution_count": 33,
   "metadata": {},
   "outputs": [
    {
     "data": {
      "text/plain": [
       "array([[[ 0,  1],\n",
       "        [ 2,  3]],\n",
       "\n",
       "       [[ 4,  5],\n",
       "        [ 6,  7]],\n",
       "\n",
       "       [[ 8,  9],\n",
       "        [10, 11]]])"
      ]
     },
     "execution_count": 33,
     "metadata": {},
     "output_type": "execute_result"
    }
   ],
   "source": [
    "np.arange(12).reshape(3,2,2)"
   ]
  },
  {
   "cell_type": "code",
   "execution_count": 34,
   "metadata": {},
   "outputs": [
    {
     "data": {
      "text/plain": [
       "array([[0],\n",
       "       [1],\n",
       "       [2],\n",
       "       [3],\n",
       "       [4]])"
      ]
     },
     "execution_count": 34,
     "metadata": {},
     "output_type": "execute_result"
    }
   ],
   "source": [
    "np.arange(5).reshape(-1,1)"
   ]
  },
  {
   "cell_type": "markdown",
   "metadata": {},
   "source": [
    "### Matrices por bloques"
   ]
  },
  {
   "cell_type": "code",
   "execution_count": 35,
   "metadata": {
    "scrolled": true
   },
   "outputs": [
    {
     "data": {
      "text/plain": [
       "array([[  5,   3,   2,  10],\n",
       "       [  2,   0,   7,   0],\n",
       "       [  1,   1,  -3,   6],\n",
       "       [100, 200, 300, 400],\n",
       "       [  0,  10,   0,   1]])"
      ]
     },
     "execution_count": 35,
     "metadata": {},
     "output_type": "execute_result"
    }
   ],
   "source": [
    "np.append(m,[[100,200,300,400],\n",
    "             [0,  10,  0,  1] ],axis=0)"
   ]
  },
  {
   "cell_type": "code",
   "execution_count": 36,
   "metadata": {},
   "outputs": [
    {
     "data": {
      "text/plain": [
       "array([[0., 0., 0., 1., 1.],\n",
       "       [0., 0., 0., 1., 1.],\n",
       "       [0., 0., 0., 1., 1.]])"
      ]
     },
     "execution_count": 36,
     "metadata": {},
     "output_type": "execute_result"
    }
   ],
   "source": [
    "np.hstack([np.zeros([3,3]),np.ones([3,2])])"
   ]
  },
  {
   "cell_type": "code",
   "execution_count": 37,
   "metadata": {},
   "outputs": [
    {
     "data": {
      "text/plain": [
       "array([[1., 0., 0.],\n",
       "       [0., 1., 0.],\n",
       "       [0., 0., 1.],\n",
       "       [5., 5., 5.],\n",
       "       [5., 5., 5.]])"
      ]
     },
     "execution_count": 37,
     "metadata": {},
     "output_type": "execute_result"
    }
   ],
   "source": [
    "np.vstack([np.eye(3),5*np.ones([2,3])])"
   ]
  },
  {
   "cell_type": "markdown",
   "metadata": {},
   "source": [
    "numpy proporciona un tipo especial `matrix` para los arrays de 2 dimensiones pero [se recomienda no usarlo](https://stackoverflow.com/questions/4151128/what-are-the-differences-between-numpy-arrays-and-matrices-which-one-should-i-u) o usarlo con cuidado. Por ejemplo, `bmat` puede ser más cómodo que una combinación de `vstack` y `hstack`. Si lo usamos siempre podemos convertir el resultado en un array normal."
   ]
  },
  {
   "cell_type": "code",
   "execution_count": 38,
   "metadata": {},
   "outputs": [
    {
     "data": {
      "text/plain": [
       "matrix([[ 0.,  1.,  2.,  3.,  0.,  0.,  0.],\n",
       "        [ 4.,  5.,  6.,  7.,  0.,  0.,  0.],\n",
       "        [ 8.,  9., 10., 11.,  0.,  0.,  0.],\n",
       "        [ 1.,  0.,  0.,  1.,  1.,  1.,  1.],\n",
       "        [ 0.,  1.,  0.,  1.,  1.,  1.,  1.],\n",
       "        [ 0.,  0.,  1.,  1.,  1.,  1.,  1.]])"
      ]
     },
     "execution_count": 38,
     "metadata": {},
     "output_type": "execute_result"
    }
   ],
   "source": [
    "m = np.arange(12).reshape([3,4])\n",
    "\n",
    "M = np.bmat([[m,         np.zeros([3,3])]\n",
    "            ,[np.eye(3), np.ones([3,4]) ]])\n",
    "M"
   ]
  },
  {
   "cell_type": "code",
   "execution_count": 39,
   "metadata": {},
   "outputs": [
    {
     "data": {
      "text/plain": [
       "array([[ 0.,  1.,  2.,  3.,  0.,  0.,  0.],\n",
       "       [ 4.,  5.,  6.,  7.,  0.,  0.,  0.],\n",
       "       [ 8.,  9., 10., 11.,  0.,  0.,  0.],\n",
       "       [ 1.,  0.,  0.,  1.,  1.,  1.,  1.],\n",
       "       [ 0.,  1.,  0.,  1.,  1.,  1.,  1.],\n",
       "       [ 0.,  0.,  1.,  1.,  1.,  1.,  1.]])"
      ]
     },
     "execution_count": 39,
     "metadata": {},
     "output_type": "execute_result"
    }
   ],
   "source": [
    "np.array(M)"
   ]
  },
  {
   "cell_type": "markdown",
   "metadata": {},
   "source": [
    "### Automatic broadcasting"
   ]
  },
  {
   "cell_type": "markdown",
   "metadata": {},
   "source": [
    "Las operaciones elemento a elemento argumentos con las mismas dimensiones. Pero si alguna dimensión es igual a uno, se sobreentiende que los elementos se replican en esa dimensión para coincidir con el otro array."
   ]
  },
  {
   "cell_type": "code",
   "execution_count": 40,
   "metadata": {},
   "outputs": [],
   "source": [
    "m = np.array([[1, 2, 3, 4]\n",
    "             ,[5, 6, 7, 8]\n",
    "             ,[9,10,11,12]])"
   ]
  },
  {
   "cell_type": "code",
   "execution_count": 41,
   "metadata": {},
   "outputs": [
    {
     "data": {
      "text/plain": [
       "array([[11, 12, 13, 14],\n",
       "       [25, 26, 27, 28],\n",
       "       [39, 40, 41, 42]])"
      ]
     },
     "execution_count": 41,
     "metadata": {},
     "output_type": "execute_result"
    }
   ],
   "source": [
    "m + [[10],\n",
    "     [20],\n",
    "     [30]]"
   ]
  },
  {
   "cell_type": "code",
   "execution_count": 42,
   "metadata": {},
   "outputs": [
    {
     "data": {
      "text/plain": [
       "array([[101, 202, 303, 404],\n",
       "       [105, 206, 307, 408],\n",
       "       [109, 210, 311, 412]])"
      ]
     },
     "execution_count": 42,
     "metadata": {},
     "output_type": "execute_result"
    }
   ],
   "source": [
    "m + [100,200,300,400]"
   ]
  },
  {
   "cell_type": "code",
   "execution_count": 43,
   "metadata": {},
   "outputs": [
    {
     "data": {
      "text/plain": [
       "array([[101, 102, 103, 104],\n",
       "       [201, 202, 203, 204],\n",
       "       [301, 302, 303, 304]])"
      ]
     },
     "execution_count": 43,
     "metadata": {},
     "output_type": "execute_result"
    }
   ],
   "source": [
    "np.array([[1,2,3,4]])   + np.array([[100],\n",
    "                                    [200],\n",
    "                                    [300]])"
   ]
  },
  {
   "cell_type": "markdown",
   "metadata": {},
   "source": [
    "### Slices"
   ]
  },
  {
   "cell_type": "markdown",
   "metadata": {},
   "source": [
    "Extracción de elementos y \"submatrices\" o \"subarrays\", seleccionando intervalos de filas, columnas, etc.:"
   ]
  },
  {
   "cell_type": "code",
   "execution_count": 44,
   "metadata": {},
   "outputs": [
    {
     "data": {
      "text/plain": [
       "array([[ 0,  1,  2,  3,  4,  5,  6],\n",
       "       [ 7,  8,  9, 10, 11, 12, 13],\n",
       "       [14, 15, 16, 17, 18, 19, 20],\n",
       "       [21, 22, 23, 24, 25, 26, 27],\n",
       "       [28, 29, 30, 31, 32, 33, 34],\n",
       "       [35, 36, 37, 38, 39, 40, 41]])"
      ]
     },
     "execution_count": 44,
     "metadata": {},
     "output_type": "execute_result"
    }
   ],
   "source": [
    "m = np.arange(42).reshape(6,7)\n",
    "m"
   ]
  },
  {
   "cell_type": "code",
   "execution_count": 45,
   "metadata": {},
   "outputs": [
    {
     "data": {
      "text/plain": [
       "9"
      ]
     },
     "execution_count": 45,
     "metadata": {},
     "output_type": "execute_result"
    }
   ],
   "source": [
    "m[1,2]"
   ]
  },
  {
   "cell_type": "code",
   "execution_count": 46,
   "metadata": {},
   "outputs": [
    {
     "data": {
      "text/plain": [
       "array([[15, 16, 17],\n",
       "       [22, 23, 24],\n",
       "       [29, 30, 31]])"
      ]
     },
     "execution_count": 46,
     "metadata": {},
     "output_type": "execute_result"
    }
   ],
   "source": [
    "m[2:5,1:4]"
   ]
  },
  {
   "cell_type": "code",
   "execution_count": 47,
   "metadata": {},
   "outputs": [
    {
     "data": {
      "text/plain": [
       "array([[ 4,  5,  6],\n",
       "       [11, 12, 13],\n",
       "       [18, 19, 20]])"
      ]
     },
     "execution_count": 47,
     "metadata": {},
     "output_type": "execute_result"
    }
   ],
   "source": [
    "m[:3, 4:]"
   ]
  },
  {
   "cell_type": "code",
   "execution_count": 48,
   "metadata": {},
   "outputs": [
    {
     "data": {
      "text/plain": [
       "array([[ 7,  8,  9, 10, 11, 12, 13],\n",
       "       [ 0,  1,  2,  3,  4,  5,  6],\n",
       "       [ 0,  1,  2,  3,  4,  5,  6],\n",
       "       [14, 15, 16, 17, 18, 19, 20],\n",
       "       [ 7,  8,  9, 10, 11, 12, 13]])"
      ]
     },
     "execution_count": 48,
     "metadata": {},
     "output_type": "execute_result"
    }
   ],
   "source": [
    "m[[1,0,0,2,1],:]"
   ]
  },
  {
   "cell_type": "markdown",
   "metadata": {},
   "source": [
    "Los índices negativos indican que se empieza a contar desde el final."
   ]
  },
  {
   "cell_type": "code",
   "execution_count": 49,
   "metadata": {},
   "outputs": [
    {
     "data": {
      "text/plain": [
       "array([[ 5,  6],\n",
       "       [12, 13],\n",
       "       [19, 20]])"
      ]
     },
     "execution_count": 49,
     "metadata": {},
     "output_type": "execute_result"
    }
   ],
   "source": [
    "# las dos últimas columnas y todas las filas menos las tres últimas.\n",
    "m[:-3,-2:]"
   ]
  },
  {
   "cell_type": "code",
   "execution_count": 50,
   "metadata": {},
   "outputs": [
    {
     "data": {
      "text/plain": [
       "array([ 5, 12, 19, 26, 33, 40])"
      ]
     },
     "execution_count": 50,
     "metadata": {},
     "output_type": "execute_result"
    }
   ],
   "source": [
    "# la penúltima columna\n",
    "m[:,-2]"
   ]
  },
  {
   "cell_type": "code",
   "execution_count": 51,
   "metadata": {},
   "outputs": [
    {
     "data": {
      "text/plain": [
       "array([[ 5],\n",
       "       [12],\n",
       "       [19],\n",
       "       [26],\n",
       "       [33],\n",
       "       [40]])"
      ]
     },
     "execution_count": 51,
     "metadata": {},
     "output_type": "execute_result"
    }
   ],
   "source": [
    "# la penúltima columna pero como array 2D (matriz), para que se vea como un vector columna\n",
    "m[:,[-2]]"
   ]
  },
  {
   "cell_type": "markdown",
   "metadata": {},
   "source": [
    "### Masks"
   ]
  },
  {
   "cell_type": "markdown",
   "metadata": {},
   "source": [
    "Son arrays de valores lógicos."
   ]
  },
  {
   "cell_type": "markdown",
   "metadata": {},
   "source": [
    "Extracción de elementos que cumplen una condición:"
   ]
  },
  {
   "cell_type": "code",
   "execution_count": 52,
   "metadata": {},
   "outputs": [
    {
     "data": {
      "text/plain": [
       "array([0, 1, 2, 3, 4, 5, 6, 7, 8, 9])"
      ]
     },
     "execution_count": 52,
     "metadata": {},
     "output_type": "execute_result"
    }
   ],
   "source": [
    "n = np.arange(10)\n",
    "\n",
    "n"
   ]
  },
  {
   "cell_type": "code",
   "execution_count": 53,
   "metadata": {},
   "outputs": [
    {
     "data": {
      "text/plain": [
       "array([ True,  True,  True,  True,  True, False, False, False, False,\n",
       "       False])"
      ]
     },
     "execution_count": 53,
     "metadata": {},
     "output_type": "execute_result"
    }
   ],
   "source": [
    "n < 5"
   ]
  },
  {
   "cell_type": "code",
   "execution_count": 54,
   "metadata": {},
   "outputs": [
    {
     "data": {
      "text/plain": [
       "array([0, 1, 2, 3, 4])"
      ]
     },
     "execution_count": 54,
     "metadata": {},
     "output_type": "execute_result"
    }
   ],
   "source": [
    "n[n<5]"
   ]
  },
  {
   "cell_type": "markdown",
   "metadata": {},
   "source": [
    "Reducción de arrays lógicos:"
   ]
  },
  {
   "cell_type": "code",
   "execution_count": 55,
   "metadata": {},
   "outputs": [
    {
     "data": {
      "text/plain": [
       "False"
      ]
     },
     "execution_count": 55,
     "metadata": {},
     "output_type": "execute_result"
    }
   ],
   "source": [
    "np.all( n > 3 )"
   ]
  },
  {
   "cell_type": "code",
   "execution_count": 56,
   "metadata": {},
   "outputs": [
    {
     "data": {
      "text/plain": [
       "True"
      ]
     },
     "execution_count": 56,
     "metadata": {},
     "output_type": "execute_result"
    }
   ],
   "source": [
    "np.any( n == 2 )"
   ]
  },
  {
   "cell_type": "markdown",
   "metadata": {},
   "source": [
    "Operaciones similares a list comprehensions:"
   ]
  },
  {
   "cell_type": "code",
   "execution_count": 57,
   "metadata": {},
   "outputs": [
    {
     "data": {
      "text/plain": [
       "array([121, 144])"
      ]
     },
     "execution_count": 57,
     "metadata": {},
     "output_type": "execute_result"
    }
   ],
   "source": [
    "k = np.arange(1,101)\n",
    "\n",
    "(k ** 2)[(k>10) & (k**3 < 2000)]"
   ]
  },
  {
   "cell_type": "markdown",
   "metadata": {},
   "source": [
    "### Funciones con instrucciones de control"
   ]
  },
  {
   "cell_type": "markdown",
   "metadata": {},
   "source": [
    "Cuando la función que deseamos representar contiene instrucciones `if`, `for`, etc., y no solo operaciones matemáticas, entonces no funcionará automáticamente sobre secuencias. Por ejemplo:\n",
    "\n",
    "$$f(x) = \\begin{cases}sin(x), & x\\leq \\frac{\\pi}{2}\\\\e^{\\left(\\frac{\\pi}{2}-x\\right)}, &x> \\frac{\\pi}{2}\\end{cases}$$"
   ]
  },
  {
   "cell_type": "code",
   "execution_count": 58,
   "metadata": {},
   "outputs": [],
   "source": [
    "import numpy             as np\n",
    "import matplotlib.pyplot as plt\n",
    "%matplotlib inline"
   ]
  },
  {
   "cell_type": "code",
   "execution_count": 59,
   "metadata": {},
   "outputs": [],
   "source": [
    "def f(x):\n",
    "    if x<= np.pi/2:\n",
    "        return np.sin(x)\n",
    "    else:\n",
    "        return np.exp(np.pi/2-x)"
   ]
  },
  {
   "cell_type": "code",
   "execution_count": 60,
   "metadata": {},
   "outputs": [
    {
     "data": {
      "text/plain": [
       "0.48229289997028746"
      ]
     },
     "execution_count": 60,
     "metadata": {},
     "output_type": "execute_result"
    }
   ],
   "source": [
    "f(2.3)"
   ]
  },
  {
   "cell_type": "code",
   "execution_count": 61,
   "metadata": {},
   "outputs": [],
   "source": [
    "D = np.linspace(0,5,100)"
   ]
  },
  {
   "cell_type": "code",
   "execution_count": 62,
   "metadata": {},
   "outputs": [],
   "source": [
    "# descomentando la siguiente línea dará error\n",
    "# plt.plot(D, f(D))"
   ]
  },
  {
   "cell_type": "markdown",
   "metadata": {},
   "source": [
    "Lo más sencillo es crear una secuencia evaluando explícitamente cada elemento:"
   ]
  },
  {
   "cell_type": "code",
   "execution_count": 63,
   "metadata": {},
   "outputs": [
    {
     "data": {
      "image/png": "[encoded data removed]",
      "text/plain": [
       "<Figure size 432x288 with 1 Axes>"
      ]
     },
     "metadata": {
      "needs_background": "light"
     },
     "output_type": "display_data"
    }
   ],
   "source": [
    "plt.plot( D, [f(x) for x in D] );"
   ]
  },
  {
   "cell_type": "markdown",
   "metadata": {},
   "source": [
    "Hay otra forma de definir una función a trozos para que funcione sobre secuencias. Se basa en una característica \"mágica\" de numpy, que en convierte automáticamente el valor lógico True en 1 y False en 0:"
   ]
  },
  {
   "cell_type": "code",
   "execution_count": 64,
   "metadata": {},
   "outputs": [],
   "source": [
    "def g(x):\n",
    "    return np.sin(x) * (x<=np.pi/2)  +   np.exp(np.pi/2-x) * (x>np.pi/2)"
   ]
  },
  {
   "cell_type": "code",
   "execution_count": 65,
   "metadata": {},
   "outputs": [
    {
     "data": {
      "image/png": "[encoded data removed]",
      "text/plain": [
       "<Figure size 432x288 with 1 Axes>"
      ]
     },
     "metadata": {
      "needs_background": "light"
     },
     "output_type": "display_data"
    }
   ],
   "source": [
    "plt.plot(D, g(D));"
   ]
  },
  {
   "cell_type": "markdown",
   "metadata": {},
   "source": [
    "### Lectura desde archivo"
   ]
  },
  {
   "cell_type": "markdown",
   "metadata": {},
   "source": [
    "Los arrays se pueden guardar en ficheros de [texto plano](https://docs.scipy.org/doc/numpy-1.13.0/reference/generated/numpy.savetxt.html#numpy.savetxt) o en un [formato comprimido especial](https://docs.scipy.org/doc/numpy-1.13.0/reference/generated/numpy.savez_compressed.html#numpy.savez_compressed) para su uso posterior."
   ]
  },
  {
   "cell_type": "markdown",
   "metadata": {},
   "source": [
    "En la carpeta `datos` hay un archivo de texto con una tabla de números. Puedes abrirlo con jupyter para echar un vistazo."
   ]
  },
  {
   "cell_type": "code",
   "execution_count": 66,
   "metadata": {},
   "outputs": [
    {
     "data": {
      "text/plain": [
       "array([[1.8287e+04, 6.0998e-02, 1.7620e+01],\n",
       "       [5.6910e+03, 1.8983e-02, 1.5000e+01],\n",
       "       [2.6382e+04, 8.8000e-02, 1.8590e+01],\n",
       "       [5.9960e+03, 2.0000e-02, 1.5540e+01],\n",
       "       [1.9202e+04, 6.4051e-02, 1.5300e+01],\n",
       "       [2.3684e+04, 7.9000e-02, 1.6560e+01],\n",
       "       [1.1702e+04, 3.9034e-02, 1.7140e+01],\n",
       "       [1.7284e+04, 5.7653e-02, 1.3500e+01],\n",
       "       [1.3491e+04, 4.5000e-02, 1.7800e+01],\n",
       "       [1.0566e+04, 3.5244e-02, 1.5250e+01],\n",
       "       [1.4718e+04, 4.9094e-02, 1.5600e+01],\n",
       "       [1.3491e+04, 4.5000e-02, 1.4520e+01],\n",
       "       [1.6325e+04, 5.4453e-02, 1.5300e+01],\n",
       "       [2.0686e+04, 6.9000e-02, 1.6800e+01],\n",
       "       [1.8080e+03, 6.0310e-03, 1.1160e+01],\n",
       "       [7.6030e+03, 2.5361e-02, 1.5180e+01],\n",
       "       [1.0180e+03, 3.3950e-03, 1.2240e+01],\n",
       "       [3.2100e+02, 1.0710e-03, 1.3000e+01],\n",
       "       [3.1060e+03, 1.0360e-02, 1.2490e+01],\n",
       "       [9.4260e+03, 3.1442e-02, 1.4530e+01],\n",
       "       [7.4640e+03, 2.4897e-02, 1.5210e+01],\n",
       "       [1.5143e+04, 5.0512e-02, 1.7400e+01],\n",
       "       [4.0700e+02, 1.3580e-03, 1.0870e+01],\n",
       "       [7.2570e+03, 2.4207e-02, 1.4600e+01],\n",
       "       [9.1930e+03, 3.0664e-02, 1.5100e+01],\n",
       "       [1.2137e+04, 4.0485e-02, 1.4750e+01],\n",
       "       [4.2640e+03, 1.4224e-02, 1.4980e+01],\n",
       "       [4.3810e+03, 1.4615e-02, 1.4150e+01],\n",
       "       [2.2484e+04, 7.5000e-02, 1.7430e+01],\n",
       "       [1.5162e+04, 5.0575e-02, 1.6500e+01],\n",
       "       [3.0000e+04, 1.0100e-01, 1.8900e+01],\n",
       "       [1.2981e+04, 4.3300e-02, 1.5230e+01],\n",
       "       [8.8030e+03, 2.9364e-02, 1.4900e+01]])"
      ]
     },
     "execution_count": 66,
     "metadata": {},
     "output_type": "execute_result"
    }
   ],
   "source": [
    "hubble = np.loadtxt('datos/hubble-0.txt')\n",
    "hubble"
   ]
  },
  {
   "cell_type": "markdown",
   "metadata": {},
   "source": [
    "Las filas son casos observados y las columnas son las variables medidas."
   ]
  },
  {
   "cell_type": "code",
   "execution_count": 67,
   "metadata": {},
   "outputs": [
    {
     "data": {
      "image/png": "[encoded data removed]",
      "text/plain": [
       "<Figure size 432x288 with 1 Axes>"
      ]
     },
     "metadata": {
      "needs_background": "light"
     },
     "output_type": "display_data"
    }
   ],
   "source": [
    "vel = hubble[:,0]\n",
    "mag = hubble[:,2]\n",
    "\n",
    "# también podemos dar nombre a las columnas así:\n",
    "# vel, reds, mag = hubble.T\n",
    "\n",
    "plt.plot(vel,mag,'.')\n",
    "plt.xlabel('velocidad (Km/s)')\n",
    "plt.ylabel('Magnitud');"
   ]
  },
  {
   "cell_type": "markdown",
   "metadata": {},
   "source": [
    "Hay otra versión de los mismos datos que contiene comentarios y una cabecera con los nombres de las columnas. Comienza así:\n",
    "\n",
    "    # https://ned.ipac.caltech.edu/cgi-bin/objsearch?refcode=1996AJ....112.2398H&search_type=Search&of=pre_text\n",
    "    V(km/s) Redshift Magnitud\n",
    "    # v        z       m\n",
    "    18287  0.060998  17.62\n",
    "    5691   0.018983  15.00 \n",
    "    26382  0.088000  18.59\n",
    "    ...\n",
    "\n",
    "Se puede leer saltando filas:"
   ]
  },
  {
   "cell_type": "code",
   "execution_count": 68,
   "metadata": {},
   "outputs": [
    {
     "data": {
      "text/plain": [
       "array([[1.8287e+04, 6.0998e-02, 1.7620e+01],\n",
       "       [5.6910e+03, 1.8983e-02, 1.5000e+01],\n",
       "       [2.6382e+04, 8.8000e-02, 1.8590e+01],\n",
       "       [5.9960e+03, 2.0000e-02, 1.5540e+01],\n",
       "       [1.9202e+04, 6.4051e-02, 1.5300e+01],\n",
       "       [2.3684e+04, 7.9000e-02, 1.6560e+01],\n",
       "       [1.1702e+04, 3.9034e-02, 1.7140e+01],\n",
       "       [1.7284e+04, 5.7653e-02, 1.3500e+01],\n",
       "       [1.3491e+04, 4.5000e-02, 1.7800e+01],\n",
       "       [1.0566e+04, 3.5244e-02, 1.5250e+01],\n",
       "       [1.4718e+04, 4.9094e-02, 1.5600e+01],\n",
       "       [1.3491e+04, 4.5000e-02, 1.4520e+01],\n",
       "       [1.6325e+04, 5.4453e-02, 1.5300e+01],\n",
       "       [2.0686e+04, 6.9000e-02, 1.6800e+01],\n",
       "       [1.8080e+03, 6.0310e-03, 1.1160e+01],\n",
       "       [7.6030e+03, 2.5361e-02, 1.5180e+01],\n",
       "       [1.0180e+03, 3.3950e-03, 1.2240e+01],\n",
       "       [3.2100e+02, 1.0710e-03, 1.3000e+01],\n",
       "       [3.1060e+03, 1.0360e-02, 1.2490e+01],\n",
       "       [9.4260e+03, 3.1442e-02, 1.4530e+01],\n",
       "       [7.4640e+03, 2.4897e-02, 1.5210e+01],\n",
       "       [1.5143e+04, 5.0512e-02, 1.7400e+01],\n",
       "       [4.0700e+02, 1.3580e-03, 1.0870e+01],\n",
       "       [7.2570e+03, 2.4207e-02, 1.4600e+01],\n",
       "       [9.1930e+03, 3.0664e-02, 1.5100e+01],\n",
       "       [1.2137e+04, 4.0485e-02, 1.4750e+01],\n",
       "       [4.2640e+03, 1.4224e-02, 1.4980e+01],\n",
       "       [4.3810e+03, 1.4615e-02, 1.4150e+01],\n",
       "       [2.2484e+04, 7.5000e-02, 1.7430e+01],\n",
       "       [1.5162e+04, 5.0575e-02, 1.6500e+01],\n",
       "       [3.0000e+04, 1.0100e-01, 1.8900e+01],\n",
       "       [1.2981e+04, 4.3300e-02, 1.5230e+01],\n",
       "       [8.8030e+03, 2.9364e-02, 1.4900e+01]])"
      ]
     },
     "execution_count": 68,
     "metadata": {},
     "output_type": "execute_result"
    }
   ],
   "source": [
    "hubble = np.loadtxt('datos/hubble.txt', skiprows=2)\n",
    "hubble"
   ]
  },
  {
   "cell_type": "markdown",
   "metadata": {},
   "source": [
    "La función `np.loadtxt` admite también archivos remotos, que pueden incluso estar comprimidos:"
   ]
  },
  {
   "cell_type": "code",
   "execution_count": 69,
   "metadata": {},
   "outputs": [
    {
     "data": {
      "text/plain": [
       "(33, 3)"
      ]
     },
     "execution_count": 69,
     "metadata": {},
     "output_type": "execute_result"
    }
   ],
   "source": [
    "hubble = np.loadtxt('http://robot.inf.um.es/material/data/hubble.txt.bz2', skiprows=2)\n",
    "hubble.shape"
   ]
  },
  {
   "cell_type": "markdown",
   "metadata": {},
   "source": [
    "Finalmente, el módulo `pandas` proporciona el tipo \"dataframe\", muy utilizado en análisis de datos y que estudiaremos más adelante."
   ]
  },
  {
   "cell_type": "code",
   "execution_count": 70,
   "metadata": {},
   "outputs": [
    {
     "data": {
      "text/html": [
       "<div>\n",
       "<style scoped>\n",
       "    .dataframe tbody tr th:only-of-type {\n",
       "        vertical-align: middle;\n",
       "    }\n",
       "\n",
       "    .dataframe tbody tr th {\n",
       "        vertical-align: top;\n",
       "    }\n",
       "\n",
       "    .dataframe thead th {\n",
       "        text-align: right;\n",
       "    }\n",
       "</style>\n",
       "<table border=\"1\" class=\"dataframe\">\n",
       "  <thead>\n",
       "    <tr style=\"text-align: right;\">\n",
       "      <th></th>\n",
       "      <th>V(km/s)</th>\n",
       "      <th>Redshift</th>\n",
       "      <th>Magnitud</th>\n",
       "    </tr>\n",
       "  </thead>\n",
       "  <tbody>\n",
       "    <tr>\n",
       "      <th>0</th>\n",
       "      <td>18287</td>\n",
       "      <td>0.060998</td>\n",
       "      <td>17.62</td>\n",
       "    </tr>\n",
       "    <tr>\n",
       "      <th>1</th>\n",
       "      <td>5691</td>\n",
       "      <td>0.018983</td>\n",
       "      <td>15.00</td>\n",
       "    </tr>\n",
       "    <tr>\n",
       "      <th>2</th>\n",
       "      <td>26382</td>\n",
       "      <td>0.088000</td>\n",
       "      <td>18.59</td>\n",
       "    </tr>\n",
       "    <tr>\n",
       "      <th>3</th>\n",
       "      <td>5996</td>\n",
       "      <td>0.020000</td>\n",
       "      <td>15.54</td>\n",
       "    </tr>\n",
       "    <tr>\n",
       "      <th>4</th>\n",
       "      <td>19202</td>\n",
       "      <td>0.064051</td>\n",
       "      <td>15.30</td>\n",
       "    </tr>\n",
       "    <tr>\n",
       "      <th>5</th>\n",
       "      <td>23684</td>\n",
       "      <td>0.079000</td>\n",
       "      <td>16.56</td>\n",
       "    </tr>\n",
       "    <tr>\n",
       "      <th>6</th>\n",
       "      <td>11702</td>\n",
       "      <td>0.039034</td>\n",
       "      <td>17.14</td>\n",
       "    </tr>\n",
       "    <tr>\n",
       "      <th>7</th>\n",
       "      <td>17284</td>\n",
       "      <td>0.057653</td>\n",
       "      <td>13.50</td>\n",
       "    </tr>\n",
       "    <tr>\n",
       "      <th>8</th>\n",
       "      <td>13491</td>\n",
       "      <td>0.045000</td>\n",
       "      <td>17.80</td>\n",
       "    </tr>\n",
       "    <tr>\n",
       "      <th>9</th>\n",
       "      <td>10566</td>\n",
       "      <td>0.035244</td>\n",
       "      <td>15.25</td>\n",
       "    </tr>\n",
       "    <tr>\n",
       "      <th>10</th>\n",
       "      <td>14718</td>\n",
       "      <td>0.049094</td>\n",
       "      <td>15.60</td>\n",
       "    </tr>\n",
       "    <tr>\n",
       "      <th>11</th>\n",
       "      <td>13491</td>\n",
       "      <td>0.045000</td>\n",
       "      <td>14.52</td>\n",
       "    </tr>\n",
       "    <tr>\n",
       "      <th>12</th>\n",
       "      <td>16325</td>\n",
       "      <td>0.054453</td>\n",
       "      <td>15.30</td>\n",
       "    </tr>\n",
       "    <tr>\n",
       "      <th>13</th>\n",
       "      <td>20686</td>\n",
       "      <td>0.069000</td>\n",
       "      <td>16.80</td>\n",
       "    </tr>\n",
       "    <tr>\n",
       "      <th>14</th>\n",
       "      <td>1808</td>\n",
       "      <td>0.006031</td>\n",
       "      <td>11.16</td>\n",
       "    </tr>\n",
       "    <tr>\n",
       "      <th>15</th>\n",
       "      <td>7603</td>\n",
       "      <td>0.025361</td>\n",
       "      <td>15.18</td>\n",
       "    </tr>\n",
       "    <tr>\n",
       "      <th>16</th>\n",
       "      <td>1018</td>\n",
       "      <td>0.003395</td>\n",
       "      <td>12.24</td>\n",
       "    </tr>\n",
       "    <tr>\n",
       "      <th>17</th>\n",
       "      <td>321</td>\n",
       "      <td>0.001071</td>\n",
       "      <td>13.00</td>\n",
       "    </tr>\n",
       "    <tr>\n",
       "      <th>18</th>\n",
       "      <td>3106</td>\n",
       "      <td>0.010360</td>\n",
       "      <td>12.49</td>\n",
       "    </tr>\n",
       "    <tr>\n",
       "      <th>19</th>\n",
       "      <td>9426</td>\n",
       "      <td>0.031442</td>\n",
       "      <td>14.53</td>\n",
       "    </tr>\n",
       "    <tr>\n",
       "      <th>20</th>\n",
       "      <td>7464</td>\n",
       "      <td>0.024897</td>\n",
       "      <td>15.21</td>\n",
       "    </tr>\n",
       "    <tr>\n",
       "      <th>21</th>\n",
       "      <td>15143</td>\n",
       "      <td>0.050512</td>\n",
       "      <td>17.40</td>\n",
       "    </tr>\n",
       "    <tr>\n",
       "      <th>22</th>\n",
       "      <td>407</td>\n",
       "      <td>0.001358</td>\n",
       "      <td>10.87</td>\n",
       "    </tr>\n",
       "    <tr>\n",
       "      <th>23</th>\n",
       "      <td>7257</td>\n",
       "      <td>0.024207</td>\n",
       "      <td>14.60</td>\n",
       "    </tr>\n",
       "    <tr>\n",
       "      <th>24</th>\n",
       "      <td>9193</td>\n",
       "      <td>0.030664</td>\n",
       "      <td>15.10</td>\n",
       "    </tr>\n",
       "    <tr>\n",
       "      <th>25</th>\n",
       "      <td>12137</td>\n",
       "      <td>0.040485</td>\n",
       "      <td>14.75</td>\n",
       "    </tr>\n",
       "    <tr>\n",
       "      <th>26</th>\n",
       "      <td>4264</td>\n",
       "      <td>0.014224</td>\n",
       "      <td>14.98</td>\n",
       "    </tr>\n",
       "    <tr>\n",
       "      <th>27</th>\n",
       "      <td>4381</td>\n",
       "      <td>0.014615</td>\n",
       "      <td>14.15</td>\n",
       "    </tr>\n",
       "    <tr>\n",
       "      <th>28</th>\n",
       "      <td>22484</td>\n",
       "      <td>0.075000</td>\n",
       "      <td>17.43</td>\n",
       "    </tr>\n",
       "    <tr>\n",
       "      <th>29</th>\n",
       "      <td>15162</td>\n",
       "      <td>0.050575</td>\n",
       "      <td>16.50</td>\n",
       "    </tr>\n",
       "    <tr>\n",
       "      <th>30</th>\n",
       "      <td>30000</td>\n",
       "      <td>0.101000</td>\n",
       "      <td>18.90</td>\n",
       "    </tr>\n",
       "    <tr>\n",
       "      <th>31</th>\n",
       "      <td>12981</td>\n",
       "      <td>0.043300</td>\n",
       "      <td>15.23</td>\n",
       "    </tr>\n",
       "    <tr>\n",
       "      <th>32</th>\n",
       "      <td>8803</td>\n",
       "      <td>0.029364</td>\n",
       "      <td>14.90</td>\n",
       "    </tr>\n",
       "  </tbody>\n",
       "</table>\n",
       "</div>"
      ],
      "text/plain": [
       "    V(km/s)  Redshift  Magnitud\n",
       "0     18287  0.060998     17.62\n",
       "1      5691  0.018983     15.00\n",
       "2     26382  0.088000     18.59\n",
       "3      5996  0.020000     15.54\n",
       "4     19202  0.064051     15.30\n",
       "5     23684  0.079000     16.56\n",
       "6     11702  0.039034     17.14\n",
       "7     17284  0.057653     13.50\n",
       "8     13491  0.045000     17.80\n",
       "9     10566  0.035244     15.25\n",
       "10    14718  0.049094     15.60\n",
       "11    13491  0.045000     14.52\n",
       "12    16325  0.054453     15.30\n",
       "13    20686  0.069000     16.80\n",
       "14     1808  0.006031     11.16\n",
       "15     7603  0.025361     15.18\n",
       "16     1018  0.003395     12.24\n",
       "17      321  0.001071     13.00\n",
       "18     3106  0.010360     12.49\n",
       "19     9426  0.031442     14.53\n",
       "20     7464  0.024897     15.21\n",
       "21    15143  0.050512     17.40\n",
       "22      407  0.001358     10.87\n",
       "23     7257  0.024207     14.60\n",
       "24     9193  0.030664     15.10\n",
       "25    12137  0.040485     14.75\n",
       "26     4264  0.014224     14.98\n",
       "27     4381  0.014615     14.15\n",
       "28    22484  0.075000     17.43\n",
       "29    15162  0.050575     16.50\n",
       "30    30000  0.101000     18.90\n",
       "31    12981  0.043300     15.23\n",
       "32     8803  0.029364     14.90"
      ]
     },
     "execution_count": 70,
     "metadata": {},
     "output_type": "execute_result"
    }
   ],
   "source": [
    "import pandas as pd\n",
    "\n",
    "df = pd.read_table('https://robot.inf.um.es/material/data/ConstanteHubbleDatos-1.txt', sep='\\s+', comment='#')\n",
    "df"
   ]
  },
  {
   "cell_type": "markdown",
   "metadata": {},
   "source": [
    "Más adelante estudiaremos los dataframes. Por ahora convertimos los datos a un array normal."
   ]
  },
  {
   "cell_type": "markdown",
   "metadata": {},
   "source": [
    "### Números pseudoaleatorios"
   ]
  },
  {
   "cell_type": "markdown",
   "metadata": {},
   "source": [
    "`numpy` permite generar arrays de números pseudoaleatorios con diferentes tipos de distribuciones (uniforme, normal, etc.)."
   ]
  },
  {
   "cell_type": "code",
   "execution_count": 71,
   "metadata": {},
   "outputs": [
    {
     "data": {
      "text/plain": [
       "array([[4, 6, 3, 2],\n",
       "       [6, 4, 6, 4],\n",
       "       [2, 1, 3, 1]])"
      ]
     },
     "execution_count": 71,
     "metadata": {},
     "output_type": "execute_result"
    }
   ],
   "source": [
    "# enteros uniformemente distribuidos en un intervalo\n",
    "np.random.randint(1, 6+1, (3,4))"
   ]
  },
  {
   "cell_type": "code",
   "execution_count": 72,
   "metadata": {},
   "outputs": [
    {
     "data": {
      "text/plain": [
       "array([[0.15278249, 0.14725746, 0.46402098, 0.28462104],\n",
       "       [0.51469229, 0.71833553, 0.12442294, 0.26481661],\n",
       "       [0.52881923, 0.58728578, 0.92578308, 0.5020842 ]])"
      ]
     },
     "execution_count": 72,
     "metadata": {},
     "output_type": "execute_result"
    }
   ],
   "source": [
    "# reales entre cero y 1, uniformemente distribuidos\n",
    "np.random.rand(3,4)"
   ]
  },
  {
   "cell_type": "code",
   "execution_count": 73,
   "metadata": {},
   "outputs": [
    {
     "data": {
      "text/plain": [
       "array([[-2.0476375 , -0.38715381, -0.54101471, -3.0257696 , -0.46167074],\n",
       "       [-0.21144265,  0.85252216,  0.82542108,  1.57314849, -1.87000395]])"
      ]
     },
     "execution_count": 73,
     "metadata": {},
     "output_type": "execute_result"
    }
   ],
   "source": [
    "# reales con distribución normal (gaussiana) con media cero y varianza 1\n",
    "np.random.randn(2,5)"
   ]
  },
  {
   "cell_type": "markdown",
   "metadata": {},
   "source": [
    "### Estadística descriptiva"
   ]
  },
  {
   "cell_type": "markdown",
   "metadata": {},
   "source": [
    "`numpy` proporciona funciones de estadística descriptiva para calcular características de conjuntos de datos tales como la media, mediana, desviación típica, máximo y mínimo, etc. Todas estas funciones de \"reducción\" de arrays pueden actuar sobre el array completo, por filas o por columnas, dependiendo del argumento opcional `axis`."
   ]
  },
  {
   "cell_type": "code",
   "execution_count": 74,
   "metadata": {},
   "outputs": [
    {
     "data": {
      "text/plain": [
       "array([[3, 8, 7],\n",
       "       [4, 0, 8],\n",
       "       [3, 1, 5],\n",
       "       [2, 7, 2],\n",
       "       [7, 3, 6]])"
      ]
     },
     "execution_count": 74,
     "metadata": {},
     "output_type": "execute_result"
    }
   ],
   "source": [
    "m = np.random.randint(0,10, (5,3))\n",
    "m"
   ]
  },
  {
   "cell_type": "code",
   "execution_count": 75,
   "metadata": {},
   "outputs": [
    {
     "data": {
      "text/plain": [
       "(4.4, 8, 0, 4.0, 2.5508168626278658, 6.506666666666669)"
      ]
     },
     "execution_count": 75,
     "metadata": {},
     "output_type": "execute_result"
    }
   ],
   "source": [
    "np.mean(m), np.max(m), np.min(m), np.median(m), np.std(m), np.var(m)"
   ]
  },
  {
   "cell_type": "code",
   "execution_count": 76,
   "metadata": {},
   "outputs": [
    {
     "data": {
      "text/plain": [
       "66"
      ]
     },
     "execution_count": 76,
     "metadata": {},
     "output_type": "execute_result"
    }
   ],
   "source": [
    "np.sum(m)"
   ]
  },
  {
   "cell_type": "code",
   "execution_count": 77,
   "metadata": {},
   "outputs": [
    {
     "data": {
      "text/plain": [
       "array([19, 19, 28])"
      ]
     },
     "execution_count": 77,
     "metadata": {},
     "output_type": "execute_result"
    }
   ],
   "source": [
    "np.sum(m, axis=0)"
   ]
  },
  {
   "cell_type": "code",
   "execution_count": 78,
   "metadata": {},
   "outputs": [
    {
     "data": {
      "text/plain": [
       "array([18, 12,  9, 11, 16])"
      ]
     },
     "execution_count": 78,
     "metadata": {},
     "output_type": "execute_result"
    }
   ],
   "source": [
    "np.sum(m, axis=1)"
   ]
  },
  {
   "cell_type": "markdown",
   "metadata": {},
   "source": [
    "Además de las funciones `np.max` y `np.min`, tenemos `np.argmax` y `np.argmin`, que devuelven respectivamente el **índice** del máximo o mínimo elemento."
   ]
  },
  {
   "cell_type": "code",
   "execution_count": 79,
   "metadata": {},
   "outputs": [
    {
     "data": {
      "text/plain": [
       "2"
      ]
     },
     "execution_count": 79,
     "metadata": {},
     "output_type": "execute_result"
    }
   ],
   "source": [
    "np.argmax( [2,-4,8,0,7,5] )"
   ]
  },
  {
   "cell_type": "markdown",
   "metadata": {},
   "source": [
    "### Caso de estudio: Teorema central del límite *"
   ]
  },
  {
   "cell_type": "markdown",
   "metadata": {},
   "source": [
    "Como ejemplo, podemos estudiar la distribución de puntuaciones al lanzar varios dados."
   ]
  },
  {
   "cell_type": "code",
   "execution_count": 1,
   "metadata": {},
   "outputs": [],
   "source": [
    "import numpy as np\n",
    "import matplotlib.pyplot as plt\n",
    "%matplotlib inline"
   ]
  },
  {
   "cell_type": "code",
   "execution_count": 2,
   "metadata": {
    "scrolled": false
   },
   "outputs": [
    {
     "data": {
      "text/plain": [
       "array([[3, 6, 2, 5],\n",
       "       [3, 6, 3, 3],\n",
       "       [6, 2, 3, 4],\n",
       "       [6, 4, 3, 4],\n",
       "       [5, 3, 5, 1],\n",
       "       [2, 5, 4, 5],\n",
       "       [1, 5, 1, 6],\n",
       "       [3, 1, 5, 4],\n",
       "       [1, 6, 3, 6],\n",
       "       [1, 5, 3, 2]])"
      ]
     },
     "execution_count": 2,
     "metadata": {},
     "output_type": "execute_result"
    }
   ],
   "source": [
    "ndados  =   4 # int(input('Número de dados:'))\n",
    "tiradas = 200 # int(input('Número de tiradas:'))\n",
    "dados = np.random.randint(1,6+1,(tiradas,ndados))\n",
    "dados[:10]"
   ]
  },
  {
   "cell_type": "code",
   "execution_count": 3,
   "metadata": {},
   "outputs": [
    {
     "data": {
      "text/plain": [
       "array([16, 15, 15, 17, 14, 16, 13, 13, 16, 11])"
      ]
     },
     "execution_count": 3,
     "metadata": {},
     "output_type": "execute_result"
    }
   ],
   "source": [
    "s = np.sum(dados,axis=1)\n",
    "s[:10]"
   ]
  },
  {
   "cell_type": "code",
   "execution_count": 4,
   "metadata": {},
   "outputs": [
    {
     "data": {
      "image/png": "[encoded data removed]",
      "text/plain": [
       "<Figure size 432x288 with 1 Axes>"
      ]
     },
     "metadata": {
      "needs_background": "light"
     },
     "output_type": "display_data"
    }
   ],
   "source": [
    "plt.hist(s);"
   ]
  },
  {
   "cell_type": "markdown",
   "metadata": {},
   "source": [
    "Comparamos con la teoría:"
   ]
  },
  {
   "cell_type": "code",
   "execution_count": 5,
   "metadata": {},
   "outputs": [],
   "source": [
    "from scipy.stats import norm, randint"
   ]
  },
  {
   "cell_type": "code",
   "execution_count": 6,
   "metadata": {},
   "outputs": [
    {
     "data": {
      "text/plain": [
       "(3.5, 1.707825127659933, 2.9166666666666665)"
      ]
     },
     "execution_count": 6,
     "metadata": {},
     "output_type": "execute_result"
    }
   ],
   "source": [
    "dado = randint(low=1, high=7)\n",
    "dado.mean(), dado.std(), dado.var()"
   ]
  },
  {
   "cell_type": "code",
   "execution_count": 7,
   "metadata": {},
   "outputs": [
    {
     "name": "stdout",
     "output_type": "stream",
     "text": [
      "Media: teoría = 14.000, experimento = 14.385\n"
     ]
    }
   ],
   "source": [
    "mu  = s.mean()\n",
    "tmu = dado.mean()*ndados\n",
    "print(f'Media: teoría = {tmu:.3f}, experimento = {mu:.3f}')"
   ]
  },
  {
   "cell_type": "code",
   "execution_count": 8,
   "metadata": {},
   "outputs": [
    {
     "name": "stdout",
     "output_type": "stream",
     "text": [
      "Desviación. teoría = 3.4157, experimento = 3.3670\n"
     ]
    }
   ],
   "source": [
    "sigma = s.std()\n",
    "tsigma = np.sqrt(ndados) * dado.std()\n",
    "print(f'Desviación. teoría = {tsigma:.4f}, experimento = {sigma:.4f}')"
   ]
  },
  {
   "cell_type": "code",
   "execution_count": 9,
   "metadata": {},
   "outputs": [
    {
     "data": {
      "image/png": "[encoded data removed]",
      "text/plain": [
       "<Figure size 432x288 with 1 Axes>"
      ]
     },
     "metadata": {
      "needs_background": "light"
     },
     "output_type": "display_data"
    }
   ],
   "source": [
    "x = np.linspace(ndados,6*ndados,100)\n",
    "\n",
    "plt.hist(s,bins=np.arange(ndados,6*ndados)+0.5, density=True, edgecolor='black');\n",
    "\n",
    "plt.plot(x,norm.pdf(x,tmu,tsigma),lw=3)\n",
    "plt.plot(x,norm.pdf(x,mu,sigma),lw=1, color='gray')\n",
    "plt.xticks(np.arange(ndados,6*ndados+1));"
   ]
  },
  {
   "cell_type": "markdown",
   "metadata": {},
   "source": [
    "Veremos otros ejemplos de estas funciones en el tema dedicado al análisis de datos."
   ]
  },
  {
   "cell_type": "markdown",
   "metadata": {},
   "source": [
    "### Caso de estudio: estimación de la probabilidad de un suceso"
   ]
  },
  {
   "cell_type": "markdown",
   "metadata": {},
   "source": [
    "Deseamos estimar mediante simulación la probabilidad de obtener una puntuación mayor de 8 al lanzar dos dados."
   ]
  },
  {
   "cell_type": "markdown",
   "metadata": {},
   "source": [
    "El valor real es:"
   ]
  },
  {
   "cell_type": "code",
   "execution_count": 1,
   "metadata": {},
   "outputs": [
    {
     "data": {
      "text/plain": [
       "0.2777777777777778"
      ]
     },
     "execution_count": 1,
     "metadata": {},
     "output_type": "execute_result"
    }
   ],
   "source": [
    "sum([1 for i in range(1,7) for j in range(1,7) if i + j > 8])/36"
   ]
  },
  {
   "cell_type": "markdown",
   "metadata": {},
   "source": [
    "La frecuencia de éxitos en un número grande de simulaciones del experimento será un valor parecido al real."
   ]
  },
  {
   "cell_type": "code",
   "execution_count": 2,
   "metadata": {},
   "outputs": [],
   "source": [
    "N = 1000"
   ]
  },
  {
   "cell_type": "markdown",
   "metadata": {},
   "source": [
    "Repetimos el lanzamiento simulado de los dados en un bucle, acumulando en una variable los éxitos."
   ]
  },
  {
   "cell_type": "code",
   "execution_count": 3,
   "metadata": {},
   "outputs": [
    {
     "name": "stdout",
     "output_type": "stream",
     "text": [
      "0.273\n"
     ]
    }
   ],
   "source": [
    "import numpy as np\n",
    "\n",
    "total = 0\n",
    "for k in range(N):\n",
    "    d1 = np.random.randint(1,6+1)\n",
    "    d2 = np.random.randint(1,6+1)\n",
    "    if d1 + d2 > 8:\n",
    "        total = total + 1\n",
    "print(total/1000)"
   ]
  },
  {
   "cell_type": "markdown",
   "metadata": {},
   "source": [
    "Es conveniente separar la simulación del experimento de su ejecución repetida, para poder adaptarlo fácilmente a otros problemas parecidos."
   ]
  },
  {
   "cell_type": "code",
   "execution_count": 4,
   "metadata": {},
   "outputs": [
    {
     "name": "stdout",
     "output_type": "stream",
     "text": [
      "0.268\n"
     ]
    }
   ],
   "source": [
    "def exper():\n",
    "    d1 = np.random.randint(1,6+1)\n",
    "    d2 = np.random.randint(1,6+1)\n",
    "    return d1 + d2 > 8\n",
    "\n",
    "total = 0\n",
    "for k in range(N):\n",
    "    if exper():\n",
    "        total = total + 1\n",
    "print(total/1000)"
   ]
  },
  {
   "cell_type": "markdown",
   "metadata": {},
   "source": [
    "Es equivalente a esta definición, más elegante:"
   ]
  },
  {
   "cell_type": "code",
   "execution_count": 5,
   "metadata": {},
   "outputs": [
    {
     "data": {
      "text/plain": [
       "0.256"
      ]
     },
     "execution_count": 5,
     "metadata": {},
     "output_type": "execute_result"
    }
   ],
   "source": [
    "np.mean([exper() for _ in range(1000)])"
   ]
  },
  {
   "cell_type": "markdown",
   "metadata": {},
   "source": [
    "Esto funciona porque en las operaciones aritméticas numpy convierte automáticamente los valores lógicos True y False en 1 y 0."
   ]
  },
  {
   "cell_type": "markdown",
   "metadata": {},
   "source": [
    "En este ejemplo el resultado se puede obtener de forma directa con operaciones de arrays:"
   ]
  },
  {
   "cell_type": "code",
   "execution_count": 6,
   "metadata": {},
   "outputs": [
    {
     "name": "stdout",
     "output_type": "stream",
     "text": [
      "[[5 4]\n",
      " [2 6]\n",
      " [4 6]\n",
      " ...\n",
      " [6 1]\n",
      " [1 2]\n",
      " [2 4]]\n"
     ]
    }
   ],
   "source": [
    "dados = np.random.randint(1,6+1, (1000,2))\n",
    "\n",
    "print(dados)"
   ]
  },
  {
   "cell_type": "markdown",
   "metadata": {},
   "source": [
    "Podemos recorrer cada fila de esta forma, nombrando sus dos elementos:"
   ]
  },
  {
   "cell_type": "code",
   "execution_count": 7,
   "metadata": {},
   "outputs": [
    {
     "name": "stdout",
     "output_type": "stream",
     "text": [
      "0.28\n"
     ]
    }
   ],
   "source": [
    "total = 0\n",
    "for d1,d2 in dados:\n",
    "    if d1 + d2 > 8:\n",
    "        total = total + 1\n",
    "print(total/1000)"
   ]
  },
  {
   "cell_type": "markdown",
   "metadata": {},
   "source": [
    "Pero es mucho mejor utilizar una máscara:"
   ]
  },
  {
   "cell_type": "code",
   "execution_count": 8,
   "metadata": {},
   "outputs": [
    {
     "data": {
      "text/plain": [
       "0.28"
      ]
     },
     "execution_count": 8,
     "metadata": {},
     "output_type": "execute_result"
    }
   ],
   "source": [
    "puntos = np.sum(dados, axis=1)\n",
    "\n",
    "éxitos = puntos > 8\n",
    "\n",
    "np.mean(éxitos)"
   ]
  },
  {
   "cell_type": "markdown",
   "metadata": {},
   "source": [
    "### Álgebra lineal"
   ]
  },
  {
   "cell_type": "markdown",
   "metadata": {},
   "source": [
    "El submódulo `linalg` ofrece las operaciones usuales de álgebra lineal."
   ]
  },
  {
   "cell_type": "code",
   "execution_count": 88,
   "metadata": {},
   "outputs": [],
   "source": [
    "import scipy.linalg as la"
   ]
  },
  {
   "cell_type": "markdown",
   "metadata": {},
   "source": [
    "Por ejemplo, podemos calcular fácilmente el módulo de un vector:"
   ]
  },
  {
   "cell_type": "code",
   "execution_count": 89,
   "metadata": {},
   "outputs": [
    {
     "data": {
      "text/plain": [
       "7.416198487095663"
      ]
     },
     "execution_count": 89,
     "metadata": {},
     "output_type": "execute_result"
    }
   ],
   "source": [
    "la.norm([1,2,3,4,5])"
   ]
  },
  {
   "cell_type": "markdown",
   "metadata": {},
   "source": [
    "o el determinante de una matriz:"
   ]
  },
  {
   "cell_type": "code",
   "execution_count": 90,
   "metadata": {},
   "outputs": [
    {
     "data": {
      "text/plain": [
       "-2.0"
      ]
     },
     "execution_count": 90,
     "metadata": {},
     "output_type": "execute_result"
    }
   ],
   "source": [
    "la.det([[1,2],\n",
    "        [3,4]])"
   ]
  },
  {
   "cell_type": "markdown",
   "metadata": {},
   "source": [
    "Observa que muchas de las funciones que trabajan con arrays admiten también otros contenedores como listas o tuplas, que son transformadas automáticamente en arrays."
   ]
  },
  {
   "cell_type": "markdown",
   "metadata": {},
   "source": [
    "Un problema muy importante es la resolución de sistemas de ecuaciones lineales. Si tenemos que resolver un sistema como"
   ]
  },
  {
   "cell_type": "markdown",
   "metadata": {},
   "source": [
    "$$\n",
    "\\begin{align*}\n",
    "x + 2y &= 3\\\\\n",
    "3x+4y  &= 5\n",
    "\\end{align*}\n",
    "$$"
   ]
  },
  {
   "cell_type": "markdown",
   "metadata": {},
   "source": [
    "Lo expresamos en forma matricial $AX=B$ y podemos resolverlo con la inversa de $A$, o directamente con `solve`.\n",
    "\n",
    "$$\\begin{bmatrix}1 & 2 \\\\ 3 & 4\\end{bmatrix} X = \\begin{bmatrix}3 \\\\ 5 \\end{bmatrix}\n",
    "$$"
   ]
  },
  {
   "cell_type": "code",
   "execution_count": 91,
   "metadata": {},
   "outputs": [],
   "source": [
    "m = np.array([[1,2],\n",
    "              [3,4]])"
   ]
  },
  {
   "cell_type": "code",
   "execution_count": 92,
   "metadata": {},
   "outputs": [
    {
     "data": {
      "text/plain": [
       "array([[1, 2],\n",
       "       [3, 4]])"
      ]
     },
     "execution_count": 92,
     "metadata": {},
     "output_type": "execute_result"
    }
   ],
   "source": [
    "m"
   ]
  },
  {
   "cell_type": "code",
   "execution_count": 93,
   "metadata": {},
   "outputs": [
    {
     "data": {
      "text/plain": [
       "array([[-2. ,  1. ],\n",
       "       [ 1.5, -0.5]])"
      ]
     },
     "execution_count": 93,
     "metadata": {},
     "output_type": "execute_result"
    }
   ],
   "source": [
    "la.inv(m)"
   ]
  },
  {
   "cell_type": "code",
   "execution_count": 94,
   "metadata": {},
   "outputs": [
    {
     "data": {
      "text/plain": [
       "array([-1.,  2.])"
      ]
     },
     "execution_count": 94,
     "metadata": {},
     "output_type": "execute_result"
    }
   ],
   "source": [
    "la.inv(m) @ np.array([3,5])"
   ]
  },
  {
   "cell_type": "markdown",
   "metadata": {},
   "source": [
    "Es mejor (más eficiente y numéricamente estable) usar la función `solve`:"
   ]
  },
  {
   "cell_type": "code",
   "execution_count": 95,
   "metadata": {},
   "outputs": [
    {
     "data": {
      "text/plain": [
       "array([-1.,  2.])"
      ]
     },
     "execution_count": 95,
     "metadata": {},
     "output_type": "execute_result"
    }
   ],
   "source": [
    "la.solve(m,[3,5])"
   ]
  },
  {
   "cell_type": "markdown",
   "metadata": {},
   "source": [
    "La solución se debería mostrar como una columna, pero en Python los arrays de una dimensión se imprimen como una fila porque no siempre representan vectores matemáticos. Si lo preferimos podemos usar matrices de una sola columna."
   ]
  },
  {
   "cell_type": "code",
   "execution_count": 96,
   "metadata": {},
   "outputs": [
    {
     "data": {
      "text/plain": [
       "array([[-1.],\n",
       "       [ 2.]])"
      ]
     },
     "execution_count": 96,
     "metadata": {},
     "output_type": "execute_result"
    }
   ],
   "source": [
    "x = la.solve(m,[[3],\n",
    "                [5]])\n",
    "\n",
    "x"
   ]
  },
  {
   "cell_type": "code",
   "execution_count": 97,
   "metadata": {},
   "outputs": [
    {
     "data": {
      "text/plain": [
       "array([[3.],\n",
       "       [5.]])"
      ]
     },
     "execution_count": 97,
     "metadata": {},
     "output_type": "execute_result"
    }
   ],
   "source": [
    "m @ x"
   ]
  },
  {
   "cell_type": "markdown",
   "metadata": {},
   "source": [
    "Si el lado derecho de la ecuación matricial $A X = B$ es una matriz, la solución $X$ también lo será."
   ]
  },
  {
   "cell_type": "markdown",
   "metadata": {},
   "source": [
    "### Computación matricial *"
   ]
  },
  {
   "cell_type": "markdown",
   "metadata": {},
   "source": [
    "Python proporciona una [amplia colección](https://docs.scipy.org/doc/scipy/reference/linalg.html) de funciones de álgebra lineal numérica."
   ]
  },
  {
   "cell_type": "code",
   "execution_count": 98,
   "metadata": {},
   "outputs": [
    {
     "data": {
      "text/plain": [
       "(array([-0.23606798,  4.23606798]), array([[-0.85065081,  0.52573111],\n",
       "        [ 0.52573111,  0.85065081]]))"
      ]
     },
     "execution_count": 98,
     "metadata": {},
     "output_type": "execute_result"
    }
   ],
   "source": [
    "la.eigh([[1,2],\n",
    "         [2,3]])"
   ]
  },
  {
   "cell_type": "code",
   "execution_count": 99,
   "metadata": {},
   "outputs": [
    {
     "data": {
      "text/plain": [
       "(array([ 4.74165739+0.j, -2.74165739+0.j]), array([[ 0.47140452, -0.47140452],\n",
       "        [ 0.8819171 ,  0.8819171 ]]))"
      ]
     },
     "execution_count": 99,
     "metadata": {},
     "output_type": "execute_result"
    }
   ],
   "source": [
    "la.eig([[1,2],\n",
    "        [7,1]])"
   ]
  },
  {
   "cell_type": "code",
   "execution_count": 100,
   "metadata": {},
   "outputs": [
    {
     "data": {
      "text/plain": [
       "array([[1.        , 1.41421356],\n",
       "       [1.73205081, 2.        ]])"
      ]
     },
     "execution_count": 100,
     "metadata": {},
     "output_type": "execute_result"
    }
   ],
   "source": [
    "np.sqrt([[1,2],\n",
    "         [3,4]])"
   ]
  },
  {
   "cell_type": "code",
   "execution_count": 101,
   "metadata": {},
   "outputs": [
    {
     "data": {
      "text/plain": [
       "array([[0.77007615, 0.63795197],\n",
       "       [0.63795197, 2.36495608]])"
      ]
     },
     "execution_count": 101,
     "metadata": {},
     "output_type": "execute_result"
    }
   ],
   "source": [
    "r = la.sqrtm([[1,2],\n",
    "              [2,6]])\n",
    "r"
   ]
  },
  {
   "cell_type": "code",
   "execution_count": 102,
   "metadata": {},
   "outputs": [
    {
     "data": {
      "text/plain": [
       "array([[1., 2.],\n",
       "       [2., 6.]])"
      ]
     },
     "execution_count": 102,
     "metadata": {},
     "output_type": "execute_result"
    }
   ],
   "source": [
    "r @ r"
   ]
  },
  {
   "cell_type": "markdown",
   "metadata": {},
   "source": [
    "### Caso de estudio: mínimos cuadrados *"
   ]
  },
  {
   "cell_type": "markdown",
   "metadata": {},
   "source": [
    "Como ejemplo de uso de las herramientas de álgebra lineal realizaremos el ajuste de un modelo polinomial a unas observaciones ficticias. Encontraremos la solución de mínimo error cuadrático a un sistema de ecuaciones sobredeterminado.\n",
    "\n",
    "En primer lugar generamos unos datos de prueba artificiales que simulan observaciones contaminadas con ruido de una función no lineal."
   ]
  },
  {
   "cell_type": "code",
   "execution_count": 103,
   "metadata": {
    "scrolled": true
   },
   "outputs": [
    {
     "data": {
      "image/png": "[encoded data removed]",
      "text/plain": [
       "<Figure size 432x288 with 1 Axes>"
      ]
     },
     "metadata": {
      "needs_background": "light"
     },
     "output_type": "display_data"
    }
   ],
   "source": [
    "import matplotlib.pyplot as plt\n",
    "%matplotlib inline\n",
    "\n",
    "x = np.linspace(0,2,30)\n",
    "\n",
    "y = np.sin(x) + 0.05*np.random.randn(x.size)\n",
    "\n",
    "plt.plot(x,y,'.');"
   ]
  },
  {
   "cell_type": "markdown",
   "metadata": {},
   "source": [
    "Vamos a ajustar un modelo del tipo $y = ax^2 + bx + c$. Los coeficientes desconocidos $a$, $b$ y $c$ se pueden obtener resolviendo un sistema de ecuaciones lineales."
   ]
  },
  {
   "cell_type": "markdown",
   "metadata": {},
   "source": [
    "La matriz de coeficientes tiene potencias de $x$ hasta el grado que nos interesa."
   ]
  },
  {
   "cell_type": "code",
   "execution_count": 104,
   "metadata": {},
   "outputs": [
    {
     "data": {
      "text/plain": [
       "array([[0.        , 0.        , 1.        ],\n",
       "       [0.00475624, 0.06896552, 1.        ],\n",
       "       [0.01902497, 0.13793103, 1.        ],\n",
       "       [0.04280618, 0.20689655, 1.        ],\n",
       "       [0.07609988, 0.27586207, 1.        ],\n",
       "       [0.11890606, 0.34482759, 1.        ],\n",
       "       [0.17122473, 0.4137931 , 1.        ],\n",
       "       [0.23305589, 0.48275862, 1.        ],\n",
       "       [0.30439952, 0.55172414, 1.        ],\n",
       "       [0.38525565, 0.62068966, 1.        ],\n",
       "       [0.47562426, 0.68965517, 1.        ],\n",
       "       [0.57550535, 0.75862069, 1.        ],\n",
       "       [0.68489893, 0.82758621, 1.        ],\n",
       "       [0.80380499, 0.89655172, 1.        ],\n",
       "       [0.93222354, 0.96551724, 1.        ],\n",
       "       [1.07015458, 1.03448276, 1.        ],\n",
       "       [1.2175981 , 1.10344828, 1.        ],\n",
       "       [1.3745541 , 1.17241379, 1.        ],\n",
       "       [1.54102259, 1.24137931, 1.        ],\n",
       "       [1.71700357, 1.31034483, 1.        ],\n",
       "       [1.90249703, 1.37931034, 1.        ],\n",
       "       [2.09750297, 1.44827586, 1.        ],\n",
       "       [2.3020214 , 1.51724138, 1.        ],\n",
       "       [2.51605232, 1.5862069 , 1.        ],\n",
       "       [2.73959572, 1.65517241, 1.        ],\n",
       "       [2.97265161, 1.72413793, 1.        ],\n",
       "       [3.21521998, 1.79310345, 1.        ],\n",
       "       [3.46730083, 1.86206897, 1.        ],\n",
       "       [3.72889417, 1.93103448, 1.        ],\n",
       "       [4.        , 2.        , 1.        ]])"
      ]
     },
     "execution_count": 104,
     "metadata": {},
     "output_type": "execute_result"
    }
   ],
   "source": [
    "A = np.vstack([x**2, x, np.ones(x.size)]).T\n",
    "\n",
    "A"
   ]
  },
  {
   "cell_type": "markdown",
   "metadata": {},
   "source": [
    "En realidad es una matriz de Vandermonde:"
   ]
  },
  {
   "cell_type": "code",
   "execution_count": 105,
   "metadata": {},
   "outputs": [
    {
     "data": {
      "text/plain": [
       "array([[0.        , 0.        , 1.        ],\n",
       "       [0.00475624, 0.06896552, 1.        ],\n",
       "       [0.01902497, 0.13793103, 1.        ],\n",
       "       [0.04280618, 0.20689655, 1.        ],\n",
       "       [0.07609988, 0.27586207, 1.        ],\n",
       "       [0.11890606, 0.34482759, 1.        ],\n",
       "       [0.17122473, 0.4137931 , 1.        ],\n",
       "       [0.23305589, 0.48275862, 1.        ],\n",
       "       [0.30439952, 0.55172414, 1.        ],\n",
       "       [0.38525565, 0.62068966, 1.        ],\n",
       "       [0.47562426, 0.68965517, 1.        ],\n",
       "       [0.57550535, 0.75862069, 1.        ],\n",
       "       [0.68489893, 0.82758621, 1.        ],\n",
       "       [0.80380499, 0.89655172, 1.        ],\n",
       "       [0.93222354, 0.96551724, 1.        ],\n",
       "       [1.07015458, 1.03448276, 1.        ],\n",
       "       [1.2175981 , 1.10344828, 1.        ],\n",
       "       [1.3745541 , 1.17241379, 1.        ],\n",
       "       [1.54102259, 1.24137931, 1.        ],\n",
       "       [1.71700357, 1.31034483, 1.        ],\n",
       "       [1.90249703, 1.37931034, 1.        ],\n",
       "       [2.09750297, 1.44827586, 1.        ],\n",
       "       [2.3020214 , 1.51724138, 1.        ],\n",
       "       [2.51605232, 1.5862069 , 1.        ],\n",
       "       [2.73959572, 1.65517241, 1.        ],\n",
       "       [2.97265161, 1.72413793, 1.        ],\n",
       "       [3.21521998, 1.79310345, 1.        ],\n",
       "       [3.46730083, 1.86206897, 1.        ],\n",
       "       [3.72889417, 1.93103448, 1.        ],\n",
       "       [4.        , 2.        , 1.        ]])"
      ]
     },
     "execution_count": 105,
     "metadata": {},
     "output_type": "execute_result"
    }
   ],
   "source": [
    "np.vander(x,3)"
   ]
  },
  {
   "cell_type": "markdown",
   "metadata": {},
   "source": [
    "El lado derecho del sistema es directamente el vector con los valores de $y$, la variable independiente del modelo."
   ]
  },
  {
   "cell_type": "code",
   "execution_count": 106,
   "metadata": {},
   "outputs": [
    {
     "data": {
      "text/plain": [
       "array([0.03619536, 0.15675109, 0.15578338, 0.21939481, 0.36199439,\n",
       "       0.39664728, 0.37003777, 0.39840517, 0.6186203 , 0.63404092,\n",
       "       0.63267579, 0.67526091, 0.84242001, 0.8107241 , 0.86098337,\n",
       "       0.79982071, 0.92569116, 0.88329751, 0.97193837, 0.96211213,\n",
       "       0.9895031 , 0.9893262 , 1.03471593, 1.06238736, 1.01287946,\n",
       "       1.03431495, 1.01779297, 0.99859211, 0.83401213, 0.89934844])"
      ]
     },
     "execution_count": 106,
     "metadata": {},
     "output_type": "execute_result"
    }
   ],
   "source": [
    "B = np.array(y)\n",
    "\n",
    "B"
   ]
  },
  {
   "cell_type": "markdown",
   "metadata": {},
   "source": [
    "El sistema que hay que resolver está sobredeterminado: tiene solo tres incógnitas y tantas ecuaciones como observaciones de la función.\n",
    "\n",
    "$$A \\begin{bmatrix}a\\\\b\\\\c\\end{bmatrix}= B$$\n",
    "\n",
    "La solución de [mínimo error cuadrático](https://en.wikipedia.org/wiki/Least_squares) para los coeficientes del modelo se obtiene de manera directa:"
   ]
  },
  {
   "cell_type": "code",
   "execution_count": 107,
   "metadata": {},
   "outputs": [
    {
     "data": {
      "text/plain": [
       "array([-0.38523742,  1.23548022,  0.00654795])"
      ]
     },
     "execution_count": 107,
     "metadata": {},
     "output_type": "execute_result"
    }
   ],
   "source": [
    "sol = la.lstsq(A,B)[0]\n",
    "\n",
    "sol"
   ]
  },
  {
   "cell_type": "code",
   "execution_count": 108,
   "metadata": {},
   "outputs": [
    {
     "data": {
      "image/png": "[encoded data removed]",
      "text/plain": [
       "<Figure size 432x288 with 1 Axes>"
      ]
     },
     "metadata": {
      "needs_background": "light"
     },
     "output_type": "display_data"
    }
   ],
   "source": [
    "ye = A @ sol\n",
    "\n",
    "plt.plot(x,y,'.',x,ye,'r');"
   ]
  },
  {
   "cell_type": "markdown",
   "metadata": {},
   "source": [
    "Se puede experimentar con polinomios de mayor o menor grado."
   ]
  },
  {
   "cell_type": "markdown",
   "metadata": {},
   "source": [
    "Una forma de llegar a esta solución es resolver las \"ecuaciones normales\" del sistema\n",
    "$Ax=b$. Como está sobredeterminado, vamos a minimizar el error cuadrático $E=||Ax-b||^2$, que es matemáticamente tratable. Hay que resolver\n",
    "\n",
    "$$\\frac{\\partial E}{\\partial x_k} =0 $$\n",
    "\n",
    "Se puede comprobar que la solución es\n",
    "\n",
    "$$x = A^+ b$$\n",
    "\n",
    "donde $A^+$ es la [pseudoinversa](https://en.wikipedia.org/wiki/Moore%E2%80%93Penrose_inverse) de $A$:\n",
    "\n",
    "$$A^+ = (A^TA)^{-1}A^T$$\n"
   ]
  },
  {
   "cell_type": "code",
   "execution_count": 109,
   "metadata": {},
   "outputs": [
    {
     "data": {
      "text/plain": [
       "array([-0.38523742,  1.23548022,  0.00654795])"
      ]
     },
     "execution_count": 109,
     "metadata": {},
     "output_type": "execute_result"
    }
   ],
   "source": [
    "la.inv(A.T @ A) @ A.T @ B"
   ]
  },
  {
   "cell_type": "code",
   "execution_count": 110,
   "metadata": {},
   "outputs": [
    {
     "data": {
      "text/plain": [
       "array([-0.38523742,  1.23548022,  0.00654795])"
      ]
     },
     "execution_count": 110,
     "metadata": {},
     "output_type": "execute_result"
    }
   ],
   "source": [
    "la.pinv(A) @ B"
   ]
  },
  {
   "cell_type": "markdown",
   "metadata": {},
   "source": [
    "En el tema dedicado al análisis de datos se muestra un ejemplo de ajuste de un modelo lineal por mínimos cuadrados usando el módulo `sklearn`."
   ]
  },
  {
   "cell_type": "markdown",
   "metadata": {},
   "source": [
    "### Implementación eficiente *"
   ]
  },
  {
   "cell_type": "markdown",
   "metadata": {},
   "source": [
    "Las operaciones de `numpy` están \"optimizadas\" (escritas internamente en código C eficiente)."
   ]
  },
  {
   "cell_type": "code",
   "execution_count": 111,
   "metadata": {},
   "outputs": [],
   "source": [
    "x = np.random.rand(10**8)"
   ]
  },
  {
   "cell_type": "code",
   "execution_count": 112,
   "metadata": {},
   "outputs": [
    {
     "data": {
      "text/plain": [
       "array([0.01828711, 0.04182024, 0.03138312, ..., 0.47677616, 0.87720235,\n",
       "       0.90113391])"
      ]
     },
     "execution_count": 112,
     "metadata": {},
     "output_type": "execute_result"
    }
   ],
   "source": [
    "x"
   ]
  },
  {
   "cell_type": "code",
   "execution_count": 113,
   "metadata": {},
   "outputs": [
    {
     "name": "stdout",
     "output_type": "stream",
     "text": [
      "CPU times: user 61.5 ms, sys: 343 µs, total: 61.9 ms\n",
      "Wall time: 61.1 ms\n"
     ]
    },
    {
     "data": {
      "text/plain": [
       "0.49996613872871737"
      ]
     },
     "execution_count": 113,
     "metadata": {},
     "output_type": "execute_result"
    }
   ],
   "source": [
    "%%time\n",
    "\n",
    "np.mean(x)"
   ]
  },
  {
   "cell_type": "code",
   "execution_count": 114,
   "metadata": {},
   "outputs": [
    {
     "name": "stdout",
     "output_type": "stream",
     "text": [
      "61.7 ms ± 5.64 ms per loop (mean ± std. dev. of 7 runs, 10 loops each)\n"
     ]
    }
   ],
   "source": [
    "%%timeit\n",
    "\n",
    "np.mean(x)"
   ]
  },
  {
   "cell_type": "code",
   "execution_count": 115,
   "metadata": {},
   "outputs": [
    {
     "name": "stdout",
     "output_type": "stream",
     "text": [
      "65.1 ms ± 6.11 ms per loop (mean ± std. dev. of 7 runs, 10 loops each)\n"
     ]
    }
   ],
   "source": [
    "%%timeit\n",
    "\n",
    "x @ x"
   ]
  },
  {
   "cell_type": "markdown",
   "metadata": {},
   "source": [
    "Si la misma operación se realiza \"manualmente\" con instrucciones normales de Python requiere mucho más tiempo:"
   ]
  },
  {
   "cell_type": "code",
   "execution_count": 116,
   "metadata": {},
   "outputs": [
    {
     "name": "stdout",
     "output_type": "stream",
     "text": [
      "0.4999661387285872\n",
      "CPU times: user 17.4 s, sys: 0 ns, total: 17.4 s\n",
      "Wall time: 17.4 s\n"
     ]
    }
   ],
   "source": [
    "%%time\n",
    "\n",
    "s = 0\n",
    "for e in x:\n",
    "    s += e\n",
    "print(s/len(x))"
   ]
  },
  {
   "cell_type": "markdown",
   "metadata": {},
   "source": [
    "Por tanto, si usamos los módulos apropiados los programas en Python no tienen por qué ser más lentos que los de otros lenguajes de programación. Python es \"glue code\", un pegamento para combinar bibliotecas de funciones, escritas en cualquier lenguaje, que resuelven eficientemente problemas específicos."
   ]
  },
  {
   "cell_type": "markdown",
   "metadata": {},
   "source": [
    "### Ejemplo de repaso"
   ]
  },
  {
   "cell_type": "markdown",
   "metadata": {},
   "source": [
    "En el notebook [dist.ipynb](dist.ipynb) se muestran diferentes formas de definir una función para calcular la distancia entre dos puntos."
   ]
  },
  {
   "cell_type": "markdown",
   "metadata": {},
   "source": [
    "### Ejercicios"
   ]
  },
  {
   "cell_type": "markdown",
   "metadata": {},
   "source": [
    "- Resuelve el sistema:\n",
    "\n",
    "$$ \n",
    "\\begin{align*}\n",
    "x + 2y + 5z + 4w&= 24\\\\\n",
    "y-z  &= 1 \\\\\n",
    "2x+2y &= 6 \\\\\n",
    "-x+2y+3w &= 15\n",
    "\\end{align*}\n",
    "$$\n",
    "\n",
    "\n",
    "- Escribe una función para calcular la distancia entre dos puntos de $\\mathbb R^n$.\n",
    "\n",
    "\n",
    "- Escribe un programa que calcule la letra del DNI ([aquí explican la forma de hacerlo](http://www.cespedes.org/dni2nif/)).\n",
    "\n",
    "\n",
    "- Escribe un programa que encuentre el segundo mayor número contenido dentro de un array de enteros.\n",
    "\n",
    "\n",
    "- Escribe una función que admita un array 2D $m$ y un escalar $s$ y extraiga las filas de $m$ cuya suma sea mayor $s$.\n",
    "\n",
    "\n",
    "- A partir de los datos experimentales contenidos en `datos/hubble.txt` calcula el valor medio de redshift de las observaciones con velocidad < 5000Km/s.\n",
    "\n",
    "\n",
    "- Escribe una función para ordenar un array de enteros de menor a mayor.\n",
    "\n",
    "\n",
    "- Escribe una función para calcular el [producto vectorial](http://en.wikipedia.org/wiki/Cross_product) de dos vectores.\n",
    "\n",
    "\n",
    "- Escribe una función para calcular los coeficientes $l=(a,b,c)$, de la ecuación de la recta $ax+by+c=0$ que pasa por dos puntos $P=(x_1,y_1)$, $Q=(x_2,y_2)$ dados.\n",
    "\n",
    "\n",
    "- Escribe una función para calcular el punto de intersección de dos rectas con coeficientes $l=(a,b,c)$ y  $l'=(a',b',c')$.\n",
    "\n",
    "\n",
    "- Escribe una función para calcular la distancia de un punto $P=(x,y)$ a una recta $l=(a,b,c)$ y la proyección de P en la recta.\n",
    "\n",
    "\n",
    "- Escribe una función para calcular la recta paralela a una recta $l$ que pasa por un punto $P$. Escribe una función para calcular la recta perpendicular a una recta $l$ que pasa por un punto $P$.\n",
    "\n",
    "\n",
    "- Dado un triángulo definido por sus tres vértices $P$, $Q$ y $R$ calcula la longitud de una base $b$ y su correspondientes altura $h$ y comprueba que el área obtenida mediante la fórmula habitual $A=bh/2$ coincide con la de Herón.\n",
    "\n",
    "\n",
    "- Calcula una aproximación numérica a la siguiente integral usando una [aproximación lineal a trozos](http://en.wikipedia.org/wiki/Trapezoidal_rule) con 20 intervalos:\n",
    "\n",
    "  $$ \\int_0^1 e^{-2x^2}\\cos(3\\pi x) dx $$\n",
    "\n",
    "\n",
    "\n",
    "- Escribe una función para calcular la desviación típica de un conjunto de números.\n",
    "\n",
    "\n",
    "- Un polinomio $p(x)$ de grado $n$ se puede representar mediante un vector de coeficientes de dimensión $n+1$. Escribe funciones para: **a)** calcular (los coeficientes de) la derivada del polinomio. **b)** calcular (los coeficientes de) la integral del polinomio. **c)** evaluar un polinomio en un valor concreto de $x$. **d)** multiplicar dos polinomios.\n",
    "\n",
    "\n",
    "- Simula el lanzamiento de 5 dados mil veces, y comprueba gráficamente que la distribución de resultados de la puntuación total es aproximadamente normal.\n",
    "\n",
    "\n",
    "- Determina mediante simulación qué suceso es más probable: **a)** obtener al menos un seis al lanzar 6 dados, **b)** obtener al menos 2 seises al lanzar 12 dados. **c)** obtener al menos 3 seises al lanzar 18 dados.\n"
   ]
  }
 ],
 "metadata": {
  "hide_input": false,
  "kernelspec": {
   "display_name": "Python 3",
   "language": "python",
   "name": "python3"
  },
  "language_info": {
   "codemirror_mode": {
    "name": "ipython",
    "version": 3
   },
   "file_extension": ".py",
   "mimetype": "text/x-python",
   "name": "python",
   "nbconvert_exporter": "python",
   "pygments_lexer": "ipython3",
   "version": "3.6.4"
  },
  "varInspector": {
   "cols": {
    "lenName": 16,
    "lenType": 16,
    "lenVar": 40
   },
   "kernels_config": {
    "python": {
     "delete_cmd_postfix": "",
     "delete_cmd_prefix": "del ",
     "library": "var_list.py",
     "varRefreshCmd": "print(var_dic_list())"
    },
    "r": {
     "delete_cmd_postfix": ") ",
     "delete_cmd_prefix": "rm(",
     "library": "var_list.r",
     "varRefreshCmd": "cat(var_dic_list()) "
    }
   },
   "types_to_exclude": [
    "module",
    "function",
    "builtin_function_or_method",
    "instance",
    "_Feature"
   ],
   "window_display": false
  }
 },
 "nbformat": 4,
 "nbformat_minor": 2
}
