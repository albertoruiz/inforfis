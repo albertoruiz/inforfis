{
 "cells": [
  {
   "cell_type": "markdown",
   "metadata": {},
   "source": [
    "Informática - 1º de Física\n",
    "<br>\n",
    "**Introducción a la Programación**\n",
    "<br>\n",
    "<p style=\"color:#808080\"> <small><small>\n",
    "24/10/2018\n",
    "</small></small></p>"
   ]
  },
  {
   "cell_type": "markdown",
   "metadata": {},
   "source": [
    "## Tema 5. Arrays"
   ]
  },
  {
   "cell_type": "markdown",
   "metadata": {},
   "source": [
    "Como anticipamos al hablar de los contenedores, el [array](https://en.wikipedia.org/wiki/Array_data_type) es el tipo de dato fundamental para la computación científica."
   ]
  },
  {
   "cell_type": "markdown",
   "metadata": {},
   "source": [
    "Es una estructura multidimensional cuyos elementos se especifican con una secuencia de índices. Un array de dimensión 1 es como un vector, cuyos elementos se especifican como `a[j]`. Un array de dimensión 2 es como una matriz, cuyos elementos se especifican con dos índices: `a[i,j]` (i-ésima fila, j-ésima columna). Un array de dimensión 3 admite tres índices `a[i,j,k]` (fila, columna, capa). Y así sucesivamente. Esta referencia a elementos de un array con el corchete se llama indexado.\n",
    "\n",
    "La característica fundamental de los arrays es que podemos operar con todos sus elementos de forma automática sin bucles ni indexado explícito. Esto permite expresar los algoritmos de análisis de datos de forma muy elegante."
   ]
  },
  {
   "cell_type": "markdown",
   "metadata": {},
   "source": [
    "Las operaciones con arrays están disponibles en el módulo [numpy](https://en.wikipedia.org/wiki/NumPy), que es el corazón del ecosistema de computación científica de Python ([scipy](https://www.scipy.org/)), y una de las causas de la gran popularidad que ha adquirido este lenguaje.\n",
    "\n",
    "Estas funciones pueden agruparse en las siguientes categorías:\n",
    "\n",
    "- creación de arrays\n",
    "\n",
    "- inspección de estructura\n",
    "\n",
    "- operaciones \"vectorizadas\" con *broadcasting* automático\n",
    "\n",
    "- *slicing* (troceado) y reconfiguración\n",
    "\n",
    "- *masks* (selección de elementos en base a condiciones lógicas)\n",
    "\n",
    "- álgebra lineal"
   ]
  },
  {
   "cell_type": "markdown",
   "metadata": {
    "heading_collapsed": true
   },
   "source": [
    "### Motivación"
   ]
  },
  {
   "cell_type": "markdown",
   "metadata": {
    "hidden": true
   },
   "source": [
    "Recordemos el ejercicio en el que se nos pedía definir una función para calcular la distancia entre dos puntos. Si los argumentos se almacenan en tuplas o listas es necesario extraer y operar explícitamente con las coordenadas. Utilizando arrays se consigue una definición mucho [más directa y sencilla](dist.ipynb)."
   ]
  },
  {
   "cell_type": "markdown",
   "metadata": {
    "heading_collapsed": true
   },
   "source": [
    "### Operaciones básicas"
   ]
  },
  {
   "cell_type": "markdown",
   "metadata": {
    "hidden": true
   },
   "source": [
    "A continuación mostramos algunos ejemplos de uso de las funciones más importantes. La tradición es usar el prefijo `np` para indicar las funciones que trabajan con arrays. "
   ]
  },
  {
   "cell_type": "code",
   "execution_count": 1,
   "metadata": {
    "hidden": true
   },
   "outputs": [],
   "source": [
    "import numpy as np"
   ]
  },
  {
   "cell_type": "markdown",
   "metadata": {
    "hidden": true
   },
   "source": [
    "Construcción a partir de listas (u otros contenedores):"
   ]
  },
  {
   "cell_type": "code",
   "execution_count": 2,
   "metadata": {
    "hidden": true
   },
   "outputs": [],
   "source": [
    "v = np.array([2,-3,7])"
   ]
  },
  {
   "cell_type": "code",
   "execution_count": 3,
   "metadata": {
    "hidden": true
   },
   "outputs": [
    {
     "data": {
      "text/plain": [
       "-3"
      ]
     },
     "execution_count": 3,
     "metadata": {},
     "output_type": "execute_result"
    }
   ],
   "source": [
    "v[1]"
   ]
  },
  {
   "cell_type": "code",
   "execution_count": 4,
   "metadata": {
    "hidden": true
   },
   "outputs": [],
   "source": [
    "m = np.array([[5,3, 2,10],\n",
    "              [2,0, 7, 0],\n",
    "              [1,1,-3, 6]])"
   ]
  },
  {
   "cell_type": "code",
   "execution_count": 5,
   "metadata": {
    "hidden": true
   },
   "outputs": [
    {
     "data": {
      "text/plain": [
       "7"
      ]
     },
     "execution_count": 5,
     "metadata": {},
     "output_type": "execute_result"
    }
   ],
   "source": [
    "m[1,2]"
   ]
  },
  {
   "cell_type": "code",
   "execution_count": 6,
   "metadata": {
    "hidden": true
   },
   "outputs": [
    {
     "data": {
      "text/plain": [
       "array([ 1,  1, -3,  6])"
      ]
     },
     "execution_count": 6,
     "metadata": {},
     "output_type": "execute_result"
    }
   ],
   "source": [
    "m[2]"
   ]
  },
  {
   "cell_type": "markdown",
   "metadata": {
    "hidden": true
   },
   "source": [
    "Inspección de su tipo y estructura:"
   ]
  },
  {
   "cell_type": "code",
   "execution_count": 7,
   "metadata": {
    "hidden": true
   },
   "outputs": [
    {
     "data": {
      "text/plain": [
       "numpy.ndarray"
      ]
     },
     "execution_count": 7,
     "metadata": {},
     "output_type": "execute_result"
    }
   ],
   "source": [
    "type(m)"
   ]
  },
  {
   "cell_type": "code",
   "execution_count": 8,
   "metadata": {
    "hidden": true
   },
   "outputs": [
    {
     "data": {
      "text/plain": [
       "dtype('int64')"
      ]
     },
     "execution_count": 8,
     "metadata": {},
     "output_type": "execute_result"
    }
   ],
   "source": [
    "m.dtype"
   ]
  },
  {
   "cell_type": "code",
   "execution_count": 9,
   "metadata": {
    "hidden": true
   },
   "outputs": [
    {
     "data": {
      "text/plain": [
       "(3, 4)"
      ]
     },
     "execution_count": 9,
     "metadata": {},
     "output_type": "execute_result"
    }
   ],
   "source": [
    "m.shape"
   ]
  },
  {
   "cell_type": "code",
   "execution_count": 10,
   "metadata": {
    "hidden": true
   },
   "outputs": [
    {
     "data": {
      "text/plain": [
       "2"
      ]
     },
     "execution_count": 10,
     "metadata": {},
     "output_type": "execute_result"
    }
   ],
   "source": [
    "m.ndim"
   ]
  },
  {
   "cell_type": "code",
   "execution_count": 11,
   "metadata": {
    "hidden": true
   },
   "outputs": [
    {
     "data": {
      "text/plain": [
       "3"
      ]
     },
     "execution_count": 11,
     "metadata": {},
     "output_type": "execute_result"
    }
   ],
   "source": [
    "len(m)"
   ]
  },
  {
   "cell_type": "code",
   "execution_count": 12,
   "metadata": {
    "hidden": true
   },
   "outputs": [
    {
     "data": {
      "text/plain": [
       "12"
      ]
     },
     "execution_count": 12,
     "metadata": {},
     "output_type": "execute_result"
    }
   ],
   "source": [
    "m.size"
   ]
  },
  {
   "cell_type": "markdown",
   "metadata": {
    "hidden": true
   },
   "source": [
    "Operaciones elemento a elemento automáticas:"
   ]
  },
  {
   "cell_type": "code",
   "execution_count": 13,
   "metadata": {
    "hidden": true
   },
   "outputs": [
    {
     "data": {
      "text/plain": [
       "array([20,  0, 35])"
      ]
     },
     "execution_count": 13,
     "metadata": {},
     "output_type": "execute_result"
    }
   ],
   "source": [
    "v * np.array([10,0,5])"
   ]
  },
  {
   "cell_type": "code",
   "execution_count": 14,
   "metadata": {
    "hidden": true
   },
   "outputs": [
    {
     "data": {
      "text/plain": [
       "array([[ 27,  17,  12,  52],\n",
       "       [ 12,   2,  37,   2],\n",
       "       [  7,   7, -13,  32]])"
      ]
     },
     "execution_count": 14,
     "metadata": {},
     "output_type": "execute_result"
    }
   ],
   "source": [
    "5*m + 2"
   ]
  },
  {
   "cell_type": "markdown",
   "metadata": {
    "hidden": true
   },
   "source": [
    "Constructores especiales:"
   ]
  },
  {
   "cell_type": "code",
   "execution_count": 15,
   "metadata": {
    "hidden": true
   },
   "outputs": [
    {
     "data": {
      "text/plain": [
       "array([[0., 0., 0.],\n",
       "       [0., 0., 0.]])"
      ]
     },
     "execution_count": 15,
     "metadata": {},
     "output_type": "execute_result"
    }
   ],
   "source": [
    "np.zeros([2,3])"
   ]
  },
  {
   "cell_type": "code",
   "execution_count": 16,
   "metadata": {
    "hidden": true
   },
   "outputs": [
    {
     "data": {
      "text/plain": [
       "array([1., 1., 1., 1.])"
      ]
     },
     "execution_count": 16,
     "metadata": {},
     "output_type": "execute_result"
    }
   ],
   "source": [
    "np.ones([4])"
   ]
  },
  {
   "cell_type": "code",
   "execution_count": 17,
   "metadata": {
    "hidden": true
   },
   "outputs": [
    {
     "data": {
      "text/plain": [
       "array([0. , 0.5, 1. , 1.5, 2. , 2.5, 3. , 3.5, 4. , 4.5, 5. ])"
      ]
     },
     "execution_count": 17,
     "metadata": {},
     "output_type": "execute_result"
    }
   ],
   "source": [
    "np.linspace(0,5,11)"
   ]
  },
  {
   "cell_type": "code",
   "execution_count": 18,
   "metadata": {
    "hidden": true
   },
   "outputs": [
    {
     "data": {
      "text/plain": [
       "array([0, 1, 2, 3, 4, 5, 6, 7, 8, 9])"
      ]
     },
     "execution_count": 18,
     "metadata": {},
     "output_type": "execute_result"
    }
   ],
   "source": [
    "np.arange(10)"
   ]
  },
  {
   "cell_type": "code",
   "execution_count": 19,
   "metadata": {
    "hidden": true
   },
   "outputs": [
    {
     "data": {
      "text/plain": [
       "array([1. , 1.5, 2. , 2.5, 3. , 3.5, 4. , 4.5, 5. , 5.5, 6. , 6.5, 7. ,\n",
       "       7.5, 8. , 8.5, 9. , 9.5])"
      ]
     },
     "execution_count": 19,
     "metadata": {},
     "output_type": "execute_result"
    }
   ],
   "source": [
    "np.arange(1,10,0.5)"
   ]
  },
  {
   "cell_type": "code",
   "execution_count": 20,
   "metadata": {
    "hidden": true
   },
   "outputs": [
    {
     "data": {
      "text/plain": [
       "array([[1., 0., 0., 0., 0., 0., 0.],\n",
       "       [0., 1., 0., 0., 0., 0., 0.],\n",
       "       [0., 0., 1., 0., 0., 0., 0.],\n",
       "       [0., 0., 0., 1., 0., 0., 0.],\n",
       "       [0., 0., 0., 0., 1., 0., 0.],\n",
       "       [0., 0., 0., 0., 0., 1., 0.],\n",
       "       [0., 0., 0., 0., 0., 0., 1.]])"
      ]
     },
     "execution_count": 20,
     "metadata": {},
     "output_type": "execute_result"
    }
   ],
   "source": [
    "np.eye(7)"
   ]
  },
  {
   "cell_type": "markdown",
   "metadata": {
    "hidden": true
   },
   "source": [
    "Iteración, a lo largo de la primera dimensión:"
   ]
  },
  {
   "cell_type": "code",
   "execution_count": 21,
   "metadata": {
    "hidden": true
   },
   "outputs": [
    {
     "name": "stdout",
     "output_type": "stream",
     "text": [
      "1.0\n",
      "1.0\n",
      "1.0\n",
      "1.0\n"
     ]
    }
   ],
   "source": [
    "for e in np.ones(4):\n",
    "    print(e)"
   ]
  },
  {
   "cell_type": "code",
   "execution_count": 22,
   "metadata": {
    "hidden": true
   },
   "outputs": [
    {
     "name": "stdout",
     "output_type": "stream",
     "text": [
      "[ 5  3  2 10]\n",
      "[2 0 7 0]\n",
      "[ 1  1 -3  6]\n"
     ]
    }
   ],
   "source": [
    "for e in m:\n",
    "    print(e)"
   ]
  },
  {
   "cell_type": "code",
   "execution_count": 23,
   "metadata": {
    "hidden": true
   },
   "outputs": [
    {
     "data": {
      "text/plain": [
       "array([ 8,  4,  6, 16])"
      ]
     },
     "execution_count": 23,
     "metadata": {},
     "output_type": "execute_result"
    }
   ],
   "source": [
    "sum(m)"
   ]
  },
  {
   "cell_type": "code",
   "execution_count": 24,
   "metadata": {
    "hidden": true
   },
   "outputs": [
    {
     "data": {
      "text/plain": [
       "array([20,  9,  5])"
      ]
     },
     "execution_count": 24,
     "metadata": {},
     "output_type": "execute_result"
    }
   ],
   "source": [
    "np.sum(m,axis=1)"
   ]
  },
  {
   "cell_type": "markdown",
   "metadata": {
    "hidden": true
   },
   "source": [
    "Operaciones matriciales:"
   ]
  },
  {
   "cell_type": "code",
   "execution_count": 25,
   "metadata": {
    "hidden": true
   },
   "outputs": [
    {
     "data": {
      "text/plain": [
       "array([[ 5,  2,  1],\n",
       "       [ 3,  0,  1],\n",
       "       [ 2,  7, -3],\n",
       "       [10,  0,  6]])"
      ]
     },
     "execution_count": 25,
     "metadata": {},
     "output_type": "execute_result"
    }
   ],
   "source": [
    "m.T"
   ]
  },
  {
   "cell_type": "code",
   "execution_count": 26,
   "metadata": {
    "hidden": true
   },
   "outputs": [],
   "source": [
    "v = np.array([3,2,-5,8])"
   ]
  },
  {
   "cell_type": "markdown",
   "metadata": {
    "hidden": true
   },
   "source": [
    "El operador `@` (abreviatura de la función [np.dot](https://docs.scipy.org/doc/numpy-1.15.0/reference/generated/numpy.dot.html)) es el producto de matrices, el producto matriz-vector y, en general, realiza la [contracción](https://en.wikipedia.org/wiki/Tensor_contraction) de dos arrays multidimensionales."
   ]
  },
  {
   "cell_type": "code",
   "execution_count": 27,
   "metadata": {
    "hidden": true
   },
   "outputs": [
    {
     "data": {
      "text/plain": [
       "array([ 91, -29,  68])"
      ]
     },
     "execution_count": 27,
     "metadata": {},
     "output_type": "execute_result"
    }
   ],
   "source": [
    "m @ v"
   ]
  },
  {
   "cell_type": "code",
   "execution_count": 28,
   "metadata": {
    "hidden": true
   },
   "outputs": [
    {
     "data": {
      "text/plain": [
       "array([[ 50,  30,  20, 100],\n",
       "       [  0,   0,   0,   0],\n",
       "       [  1,   1,  -3,   6]])"
      ]
     },
     "execution_count": 28,
     "metadata": {},
     "output_type": "execute_result"
    }
   ],
   "source": [
    "np.diag([10,0,1]) @ m"
   ]
  },
  {
   "cell_type": "markdown",
   "metadata": {
    "hidden": true
   },
   "source": [
    "Funciones matemáticas optimizadas para arrays, elemento a elemento:"
   ]
  },
  {
   "cell_type": "code",
   "execution_count": 29,
   "metadata": {
    "hidden": true
   },
   "outputs": [
    {
     "data": {
      "text/plain": [
       "array([0.        , 0.21666156, 0.43332312, 0.64998469, 0.86664625,\n",
       "       1.08330781, 1.29996937, 1.51663094, 1.7332925 , 1.94995406,\n",
       "       2.16661562, 2.38327719, 2.59993875, 2.81660031, 3.03326187,\n",
       "       3.24992343, 3.466585  , 3.68324656, 3.89990812, 4.11656968,\n",
       "       4.33323125, 4.54989281, 4.76655437, 4.98321593, 5.1998775 ,\n",
       "       5.41653906, 5.63320062, 5.84986218, 6.06652374, 6.28318531])"
      ]
     },
     "execution_count": 29,
     "metadata": {},
     "output_type": "execute_result"
    }
   ],
   "source": [
    "x = np.linspace(0,2*np.pi,30)\n",
    "\n",
    "x"
   ]
  },
  {
   "cell_type": "code",
   "execution_count": 30,
   "metadata": {
    "hidden": true
   },
   "outputs": [
    {
     "data": {
      "text/plain": [
       "array([ 1.        ,  1.12254586,  1.06727539,  0.87270255,  0.60038006,\n",
       "        0.32232498,  0.10669282,  0.00439546,  0.03917335,  0.20298123,\n",
       "        0.45755084,  0.74183837,  0.9839623 ,  1.1153946 ,  1.08473957,\n",
       "        0.86850154,  0.47679154, -0.04714542, -0.63356055, -1.19782715,\n",
       "       -1.65497221, -1.93447969, -1.99267137, -1.82040717, -1.44469911,\n",
       "       -0.92394405, -0.33764588,  0.22749718,  0.69260498,  1.        ])"
      ]
     },
     "execution_count": 30,
     "metadata": {},
     "output_type": "execute_result"
    }
   ],
   "source": [
    "y = np.sin(x) + np.cos(2*x)\n",
    "y"
   ]
  },
  {
   "cell_type": "markdown",
   "metadata": {
    "hidden": true
   },
   "source": [
    "Los arrays son el tipo de datos que normalmente se utiliza para producir gráficas, como veremos en detalle en el siguiente capítulo."
   ]
  },
  {
   "cell_type": "code",
   "execution_count": 31,
   "metadata": {
    "hidden": true
   },
   "outputs": [],
   "source": [
    "import matplotlib.pyplot as plt\n",
    "%matplotlib inline"
   ]
  },
  {
   "cell_type": "code",
   "execution_count": 32,
   "metadata": {
    "hidden": true
   },
   "outputs": [
    {
     "data": {
      "image/png": "[encoded data removed]",
      "text/plain": [
       "<matplotlib.figure.Figure at 0x7f8814064390>"
      ]
     },
     "metadata": {},
     "output_type": "display_data"
    }
   ],
   "source": [
    "plt.plot(x,y);"
   ]
  },
  {
   "cell_type": "markdown",
   "metadata": {
    "hidden": true
   },
   "source": [
    "Reconfiguración de los elementos:"
   ]
  },
  {
   "cell_type": "code",
   "execution_count": 33,
   "metadata": {
    "hidden": true
   },
   "outputs": [
    {
     "data": {
      "text/plain": [
       "array([[[ 0,  1],\n",
       "        [ 2,  3]],\n",
       "\n",
       "       [[ 4,  5],\n",
       "        [ 6,  7]],\n",
       "\n",
       "       [[ 8,  9],\n",
       "        [10, 11]]])"
      ]
     },
     "execution_count": 33,
     "metadata": {},
     "output_type": "execute_result"
    }
   ],
   "source": [
    "np.arange(12).reshape(3,2,2)"
   ]
  },
  {
   "cell_type": "code",
   "execution_count": 34,
   "metadata": {
    "hidden": true
   },
   "outputs": [
    {
     "data": {
      "text/plain": [
       "array([[0],\n",
       "       [1],\n",
       "       [2],\n",
       "       [3],\n",
       "       [4]])"
      ]
     },
     "execution_count": 34,
     "metadata": {},
     "output_type": "execute_result"
    }
   ],
   "source": [
    "np.arange(5).reshape(-1,1)"
   ]
  },
  {
   "cell_type": "markdown",
   "metadata": {
    "heading_collapsed": true
   },
   "source": [
    "### Matrices por bloques"
   ]
  },
  {
   "cell_type": "code",
   "execution_count": 35,
   "metadata": {
    "hidden": true,
    "scrolled": true
   },
   "outputs": [
    {
     "data": {
      "text/plain": [
       "array([[  5,   3,   2,  10],\n",
       "       [  2,   0,   7,   0],\n",
       "       [  1,   1,  -3,   6],\n",
       "       [100, 200, 300, 400],\n",
       "       [  0,  10,   0,   1]])"
      ]
     },
     "execution_count": 35,
     "metadata": {},
     "output_type": "execute_result"
    }
   ],
   "source": [
    "np.append(m,[[100,200,300,400],\n",
    "             [0,  10,  0,  1] ],axis=0)"
   ]
  },
  {
   "cell_type": "code",
   "execution_count": 36,
   "metadata": {
    "hidden": true
   },
   "outputs": [
    {
     "data": {
      "text/plain": [
       "array([[0., 0., 0., 1., 1.],\n",
       "       [0., 0., 0., 1., 1.],\n",
       "       [0., 0., 0., 1., 1.]])"
      ]
     },
     "execution_count": 36,
     "metadata": {},
     "output_type": "execute_result"
    }
   ],
   "source": [
    "np.hstack([np.zeros([3,3]),np.ones([3,2])])"
   ]
  },
  {
   "cell_type": "code",
   "execution_count": 37,
   "metadata": {
    "hidden": true
   },
   "outputs": [
    {
     "data": {
      "text/plain": [
       "array([[1., 0., 0.],\n",
       "       [0., 1., 0.],\n",
       "       [0., 0., 1.],\n",
       "       [5., 5., 5.],\n",
       "       [5., 5., 5.]])"
      ]
     },
     "execution_count": 37,
     "metadata": {},
     "output_type": "execute_result"
    }
   ],
   "source": [
    "np.vstack([np.eye(3),5*np.ones([2,3])])"
   ]
  },
  {
   "cell_type": "markdown",
   "metadata": {
    "hidden": true
   },
   "source": [
    "numpy proporciona un tipo especial `matrix` para los arrays de 2 dimensiones pero [se recomienda no usarlo](https://stackoverflow.com/questions/4151128/what-are-the-differences-between-numpy-arrays-and-matrices-which-one-should-i-u) o usarlo con cuidado. Por ejemplo, `bmat` puede ser más cómodo que una combinación de `vstack` y `hstack`. Si lo usamos siempre podemos convertir el resultado en un array normal."
   ]
  },
  {
   "cell_type": "code",
   "execution_count": 38,
   "metadata": {
    "hidden": true
   },
   "outputs": [
    {
     "data": {
      "text/plain": [
       "matrix([[ 0.,  1.,  2.,  3.,  0.,  0.,  0.],\n",
       "        [ 4.,  5.,  6.,  7.,  0.,  0.,  0.],\n",
       "        [ 8.,  9., 10., 11.,  0.,  0.,  0.],\n",
       "        [ 1.,  0.,  0.,  1.,  1.,  1.,  1.],\n",
       "        [ 0.,  1.,  0.,  1.,  1.,  1.,  1.],\n",
       "        [ 0.,  0.,  1.,  1.,  1.,  1.,  1.]])"
      ]
     },
     "execution_count": 38,
     "metadata": {},
     "output_type": "execute_result"
    }
   ],
   "source": [
    "m = np.arange(12).reshape([3,4])\n",
    "\n",
    "M = np.bmat([[m,         np.zeros([3,3])]\n",
    "            ,[np.eye(3), np.ones([3,4]) ]])\n",
    "M"
   ]
  },
  {
   "cell_type": "code",
   "execution_count": 39,
   "metadata": {
    "hidden": true
   },
   "outputs": [
    {
     "data": {
      "text/plain": [
       "array([[ 0.,  1.,  2.,  3.,  0.,  0.,  0.],\n",
       "       [ 4.,  5.,  6.,  7.,  0.,  0.,  0.],\n",
       "       [ 8.,  9., 10., 11.,  0.,  0.,  0.],\n",
       "       [ 1.,  0.,  0.,  1.,  1.,  1.,  1.],\n",
       "       [ 0.,  1.,  0.,  1.,  1.,  1.,  1.],\n",
       "       [ 0.,  0.,  1.,  1.,  1.,  1.,  1.]])"
      ]
     },
     "execution_count": 39,
     "metadata": {},
     "output_type": "execute_result"
    }
   ],
   "source": [
    "np.array(M)"
   ]
  },
  {
   "cell_type": "markdown",
   "metadata": {
    "heading_collapsed": true
   },
   "source": [
    "### Automatic broadcasting"
   ]
  },
  {
   "cell_type": "markdown",
   "metadata": {
    "hidden": true
   },
   "source": [
    "Las operaciones elemento a elemento argumentos con las mismas dimensiones. Pero si alguna dimensión es igual a uno, se sobreentiende que los elementos se replican en esa dimensión para coincidir con el otro array."
   ]
  },
  {
   "cell_type": "code",
   "execution_count": 40,
   "metadata": {
    "hidden": true
   },
   "outputs": [],
   "source": [
    "m = np.array([[1, 2, 3, 4]\n",
    "             ,[5, 6, 7, 8]\n",
    "             ,[9,10,11,12]])"
   ]
  },
  {
   "cell_type": "code",
   "execution_count": 41,
   "metadata": {
    "hidden": true
   },
   "outputs": [
    {
     "data": {
      "text/plain": [
       "array([[11, 12, 13, 14],\n",
       "       [25, 26, 27, 28],\n",
       "       [39, 40, 41, 42]])"
      ]
     },
     "execution_count": 41,
     "metadata": {},
     "output_type": "execute_result"
    }
   ],
   "source": [
    "m + [[10],\n",
    "     [20],\n",
    "     [30]]"
   ]
  },
  {
   "cell_type": "code",
   "execution_count": 42,
   "metadata": {
    "hidden": true
   },
   "outputs": [
    {
     "data": {
      "text/plain": [
       "array([[101, 202, 303, 404],\n",
       "       [105, 206, 307, 408],\n",
       "       [109, 210, 311, 412]])"
      ]
     },
     "execution_count": 42,
     "metadata": {},
     "output_type": "execute_result"
    }
   ],
   "source": [
    "m + [100,200,300,400]"
   ]
  },
  {
   "cell_type": "code",
   "execution_count": 43,
   "metadata": {
    "hidden": true
   },
   "outputs": [
    {
     "data": {
      "text/plain": [
       "array([[101, 102, 103, 104],\n",
       "       [201, 202, 203, 204],\n",
       "       [301, 302, 303, 304]])"
      ]
     },
     "execution_count": 43,
     "metadata": {},
     "output_type": "execute_result"
    }
   ],
   "source": [
    "np.array([[1,2,3,4]])   + np.array([[100],\n",
    "                                    [200],\n",
    "                                    [300]])"
   ]
  },
  {
   "cell_type": "markdown",
   "metadata": {
    "heading_collapsed": true
   },
   "source": [
    "### Slices"
   ]
  },
  {
   "cell_type": "markdown",
   "metadata": {
    "hidden": true
   },
   "source": [
    "Extracción de elementos y \"submatrices\" o \"subarrays\", seleccionando intervalos de filas, columnas, etc.:"
   ]
  },
  {
   "cell_type": "code",
   "execution_count": 44,
   "metadata": {
    "hidden": true
   },
   "outputs": [
    {
     "data": {
      "text/plain": [
       "array([[ 0,  1,  2,  3,  4,  5,  6],\n",
       "       [ 7,  8,  9, 10, 11, 12, 13],\n",
       "       [14, 15, 16, 17, 18, 19, 20],\n",
       "       [21, 22, 23, 24, 25, 26, 27],\n",
       "       [28, 29, 30, 31, 32, 33, 34],\n",
       "       [35, 36, 37, 38, 39, 40, 41]])"
      ]
     },
     "execution_count": 44,
     "metadata": {},
     "output_type": "execute_result"
    }
   ],
   "source": [
    "m = np.arange(42).reshape(6,7)\n",
    "m"
   ]
  },
  {
   "cell_type": "code",
   "execution_count": 45,
   "metadata": {
    "hidden": true
   },
   "outputs": [
    {
     "data": {
      "text/plain": [
       "9"
      ]
     },
     "execution_count": 45,
     "metadata": {},
     "output_type": "execute_result"
    }
   ],
   "source": [
    "m[1,2]"
   ]
  },
  {
   "cell_type": "code",
   "execution_count": 46,
   "metadata": {
    "hidden": true
   },
   "outputs": [
    {
     "data": {
      "text/plain": [
       "array([[15, 16, 17],\n",
       "       [22, 23, 24],\n",
       "       [29, 30, 31]])"
      ]
     },
     "execution_count": 46,
     "metadata": {},
     "output_type": "execute_result"
    }
   ],
   "source": [
    "m[2:5,1:4]"
   ]
  },
  {
   "cell_type": "code",
   "execution_count": 47,
   "metadata": {
    "hidden": true
   },
   "outputs": [
    {
     "data": {
      "text/plain": [
       "array([[ 4,  5,  6],\n",
       "       [11, 12, 13],\n",
       "       [18, 19, 20]])"
      ]
     },
     "execution_count": 47,
     "metadata": {},
     "output_type": "execute_result"
    }
   ],
   "source": [
    "m[:3, 4:]"
   ]
  },
  {
   "cell_type": "code",
   "execution_count": 48,
   "metadata": {
    "hidden": true
   },
   "outputs": [
    {
     "data": {
      "text/plain": [
       "array([[ 7,  8,  9, 10, 11, 12, 13],\n",
       "       [ 0,  1,  2,  3,  4,  5,  6],\n",
       "       [ 0,  1,  2,  3,  4,  5,  6],\n",
       "       [14, 15, 16, 17, 18, 19, 20],\n",
       "       [ 7,  8,  9, 10, 11, 12, 13]])"
      ]
     },
     "execution_count": 48,
     "metadata": {},
     "output_type": "execute_result"
    }
   ],
   "source": [
    "m[[1,0,0,2,1],:]"
   ]
  },
  {
   "cell_type": "markdown",
   "metadata": {
    "hidden": true
   },
   "source": [
    "Los índices negativos indican que se empieza a contar desde el final."
   ]
  },
  {
   "cell_type": "code",
   "execution_count": 49,
   "metadata": {
    "hidden": true
   },
   "outputs": [
    {
     "data": {
      "text/plain": [
       "array([[ 5,  6],\n",
       "       [12, 13],\n",
       "       [19, 20]])"
      ]
     },
     "execution_count": 49,
     "metadata": {},
     "output_type": "execute_result"
    }
   ],
   "source": [
    "# las dos últimas columnas y todas las filas menos las tres últimas.\n",
    "m[:-3,-2:]"
   ]
  },
  {
   "cell_type": "code",
   "execution_count": 50,
   "metadata": {
    "hidden": true
   },
   "outputs": [
    {
     "data": {
      "text/plain": [
       "array([ 5, 12, 19, 26, 33, 40])"
      ]
     },
     "execution_count": 50,
     "metadata": {},
     "output_type": "execute_result"
    }
   ],
   "source": [
    "# la penúltima columna\n",
    "m[:,-2]"
   ]
  },
  {
   "cell_type": "code",
   "execution_count": 51,
   "metadata": {
    "hidden": true
   },
   "outputs": [
    {
     "data": {
      "text/plain": [
       "array([[ 5],\n",
       "       [12],\n",
       "       [19],\n",
       "       [26],\n",
       "       [33],\n",
       "       [40]])"
      ]
     },
     "execution_count": 51,
     "metadata": {},
     "output_type": "execute_result"
    }
   ],
   "source": [
    "# la penúltima columna pero como array 2D (matriz), para que se vea como un vector columna\n",
    "m[:,[-2]]"
   ]
  },
  {
   "cell_type": "markdown",
   "metadata": {
    "heading_collapsed": true
   },
   "source": [
    "### Masks"
   ]
  },
  {
   "cell_type": "markdown",
   "metadata": {
    "hidden": true
   },
   "source": [
    "Extracción de elementos que cumplen una condición:"
   ]
  },
  {
   "cell_type": "code",
   "execution_count": 52,
   "metadata": {
    "hidden": true
   },
   "outputs": [
    {
     "data": {
      "text/plain": [
       "array([0, 1, 2, 3, 4, 5, 6, 7, 8, 9])"
      ]
     },
     "execution_count": 52,
     "metadata": {},
     "output_type": "execute_result"
    }
   ],
   "source": [
    "n = np.arange(10)\n",
    "\n",
    "n"
   ]
  },
  {
   "cell_type": "code",
   "execution_count": 53,
   "metadata": {
    "hidden": true
   },
   "outputs": [
    {
     "data": {
      "text/plain": [
       "array([ True,  True,  True,  True,  True, False, False, False, False,\n",
       "       False])"
      ]
     },
     "execution_count": 53,
     "metadata": {},
     "output_type": "execute_result"
    }
   ],
   "source": [
    "n < 5"
   ]
  },
  {
   "cell_type": "code",
   "execution_count": 54,
   "metadata": {
    "hidden": true
   },
   "outputs": [
    {
     "data": {
      "text/plain": [
       "array([0, 1, 2, 3, 4])"
      ]
     },
     "execution_count": 54,
     "metadata": {},
     "output_type": "execute_result"
    }
   ],
   "source": [
    "n[n<5]"
   ]
  },
  {
   "cell_type": "code",
   "execution_count": 55,
   "metadata": {
    "hidden": true
   },
   "outputs": [
    {
     "data": {
      "text/plain": [
       "array([121, 144])"
      ]
     },
     "execution_count": 55,
     "metadata": {},
     "output_type": "execute_result"
    }
   ],
   "source": [
    "k = np.arange(1,101)\n",
    "\n",
    "(k ** 2)[(k>10) & (k**3 < 2000)]"
   ]
  },
  {
   "cell_type": "markdown",
   "metadata": {
    "heading_collapsed": true
   },
   "source": [
    "### Lectura desde archivo"
   ]
  },
  {
   "cell_type": "markdown",
   "metadata": {
    "hidden": true
   },
   "source": [
    "Los arrays se pueden guardar en ficheros de [texto plano](https://docs.scipy.org/doc/numpy-1.13.0/reference/generated/numpy.savetxt.html#numpy.savetxt) o en un [formato comprimido especial](https://docs.scipy.org/doc/numpy-1.13.0/reference/generated/numpy.savez_compressed.html#numpy.savez_compressed) para su uso posterior."
   ]
  },
  {
   "cell_type": "markdown",
   "metadata": {
    "hidden": true
   },
   "source": [
    "En la carpeta `datos` hay un archivo de texto con una tabla de números. Puedes abrirlo con jupyter para echar un vistazo."
   ]
  },
  {
   "cell_type": "code",
   "execution_count": 56,
   "metadata": {
    "hidden": true
   },
   "outputs": [
    {
     "data": {
      "text/plain": [
       "array([[1.8287e+04, 6.0998e-02, 1.7620e+01],\n",
       "       [5.6910e+03, 1.8983e-02, 1.5000e+01],\n",
       "       [2.6382e+04, 8.8000e-02, 1.8590e+01],\n",
       "       [5.9960e+03, 2.0000e-02, 1.5540e+01],\n",
       "       [1.9202e+04, 6.4051e-02, 1.5300e+01],\n",
       "       [2.3684e+04, 7.9000e-02, 1.6560e+01],\n",
       "       [1.1702e+04, 3.9034e-02, 1.7140e+01],\n",
       "       [1.7284e+04, 5.7653e-02, 1.3500e+01],\n",
       "       [1.3491e+04, 4.5000e-02, 1.7800e+01],\n",
       "       [1.0566e+04, 3.5244e-02, 1.5250e+01],\n",
       "       [1.4718e+04, 4.9094e-02, 1.5600e+01],\n",
       "       [1.3491e+04, 4.5000e-02, 1.4520e+01],\n",
       "       [1.6325e+04, 5.4453e-02, 1.5300e+01],\n",
       "       [2.0686e+04, 6.9000e-02, 1.6800e+01],\n",
       "       [1.8080e+03, 6.0310e-03, 1.1160e+01],\n",
       "       [7.6030e+03, 2.5361e-02, 1.5180e+01],\n",
       "       [1.0180e+03, 3.3950e-03, 1.2240e+01],\n",
       "       [3.2100e+02, 1.0710e-03, 1.3000e+01],\n",
       "       [3.1060e+03, 1.0360e-02, 1.2490e+01],\n",
       "       [9.4260e+03, 3.1442e-02, 1.4530e+01],\n",
       "       [7.4640e+03, 2.4897e-02, 1.5210e+01],\n",
       "       [1.5143e+04, 5.0512e-02, 1.7400e+01],\n",
       "       [4.0700e+02, 1.3580e-03, 1.0870e+01],\n",
       "       [7.2570e+03, 2.4207e-02, 1.4600e+01],\n",
       "       [9.1930e+03, 3.0664e-02, 1.5100e+01],\n",
       "       [1.2137e+04, 4.0485e-02, 1.4750e+01],\n",
       "       [4.2640e+03, 1.4224e-02, 1.4980e+01],\n",
       "       [4.3810e+03, 1.4615e-02, 1.4150e+01],\n",
       "       [2.2484e+04, 7.5000e-02, 1.7430e+01],\n",
       "       [1.5162e+04, 5.0575e-02, 1.6500e+01],\n",
       "       [3.0000e+04, 1.0100e-01, 1.8900e+01],\n",
       "       [1.2981e+04, 4.3300e-02, 1.5230e+01],\n",
       "       [8.8030e+03, 2.9364e-02, 1.4900e+01]])"
      ]
     },
     "execution_count": 56,
     "metadata": {},
     "output_type": "execute_result"
    }
   ],
   "source": [
    "hubble = np.loadtxt('datos/hubble-0.txt')\n",
    "hubble"
   ]
  },
  {
   "cell_type": "markdown",
   "metadata": {
    "hidden": true
   },
   "source": [
    "Hay otra versión de los mismos datos que contiene comentarios y una cabecera con los nombres de las columnas. Comienza así:\n",
    "\n",
    "    # https://ned.ipac.caltech.edu/cgi-bin/objsearch?refcode=1996AJ....112.2398H&search_type=Search&of=pre_text\n",
    "    V(km/s) Redshift Magnitud\n",
    "    # v        z       m\n",
    "    18287  0.060998  17.62\n",
    "    5691   0.018983  15.00 \n",
    "    26382  0.088000  18.59\n",
    "    ...\n",
    "\n",
    "Se puede leer saltando filas:"
   ]
  },
  {
   "cell_type": "code",
   "execution_count": 57,
   "metadata": {
    "hidden": true
   },
   "outputs": [
    {
     "data": {
      "text/plain": [
       "array([[1.8287e+04, 6.0998e-02, 1.7620e+01],\n",
       "       [5.6910e+03, 1.8983e-02, 1.5000e+01],\n",
       "       [2.6382e+04, 8.8000e-02, 1.8590e+01],\n",
       "       [5.9960e+03, 2.0000e-02, 1.5540e+01],\n",
       "       [1.9202e+04, 6.4051e-02, 1.5300e+01],\n",
       "       [2.3684e+04, 7.9000e-02, 1.6560e+01],\n",
       "       [1.1702e+04, 3.9034e-02, 1.7140e+01],\n",
       "       [1.7284e+04, 5.7653e-02, 1.3500e+01],\n",
       "       [1.3491e+04, 4.5000e-02, 1.7800e+01],\n",
       "       [1.0566e+04, 3.5244e-02, 1.5250e+01],\n",
       "       [1.4718e+04, 4.9094e-02, 1.5600e+01],\n",
       "       [1.3491e+04, 4.5000e-02, 1.4520e+01],\n",
       "       [1.6325e+04, 5.4453e-02, 1.5300e+01],\n",
       "       [2.0686e+04, 6.9000e-02, 1.6800e+01],\n",
       "       [1.8080e+03, 6.0310e-03, 1.1160e+01],\n",
       "       [7.6030e+03, 2.5361e-02, 1.5180e+01],\n",
       "       [1.0180e+03, 3.3950e-03, 1.2240e+01],\n",
       "       [3.2100e+02, 1.0710e-03, 1.3000e+01],\n",
       "       [3.1060e+03, 1.0360e-02, 1.2490e+01],\n",
       "       [9.4260e+03, 3.1442e-02, 1.4530e+01],\n",
       "       [7.4640e+03, 2.4897e-02, 1.5210e+01],\n",
       "       [1.5143e+04, 5.0512e-02, 1.7400e+01],\n",
       "       [4.0700e+02, 1.3580e-03, 1.0870e+01],\n",
       "       [7.2570e+03, 2.4207e-02, 1.4600e+01],\n",
       "       [9.1930e+03, 3.0664e-02, 1.5100e+01],\n",
       "       [1.2137e+04, 4.0485e-02, 1.4750e+01],\n",
       "       [4.2640e+03, 1.4224e-02, 1.4980e+01],\n",
       "       [4.3810e+03, 1.4615e-02, 1.4150e+01],\n",
       "       [2.2484e+04, 7.5000e-02, 1.7430e+01],\n",
       "       [1.5162e+04, 5.0575e-02, 1.6500e+01],\n",
       "       [3.0000e+04, 1.0100e-01, 1.8900e+01],\n",
       "       [1.2981e+04, 4.3300e-02, 1.5230e+01],\n",
       "       [8.8030e+03, 2.9364e-02, 1.4900e+01]])"
      ]
     },
     "execution_count": 57,
     "metadata": {},
     "output_type": "execute_result"
    }
   ],
   "source": [
    "hubble = np.loadtxt('datos/hubble.txt', skiprows=2)\n",
    "hubble"
   ]
  },
  {
   "cell_type": "markdown",
   "metadata": {
    "hidden": true
   },
   "source": [
    "El módulo `pandas` proporciona el tipo \"dataframe\", muy utilizado en análisis de datos. Permite leer conjuntos de datos almacenados en archivos que pueden estar incluso en una máquina remota."
   ]
  },
  {
   "cell_type": "code",
   "execution_count": 58,
   "metadata": {
    "hidden": true
   },
   "outputs": [
    {
     "data": {
      "text/html": [
       "<div>\n",
       "<style scoped>\n",
       "    .dataframe tbody tr th:only-of-type {\n",
       "        vertical-align: middle;\n",
       "    }\n",
       "\n",
       "    .dataframe tbody tr th {\n",
       "        vertical-align: top;\n",
       "    }\n",
       "\n",
       "    .dataframe thead th {\n",
       "        text-align: right;\n",
       "    }\n",
       "</style>\n",
       "<table border=\"1\" class=\"dataframe\">\n",
       "  <thead>\n",
       "    <tr style=\"text-align: right;\">\n",
       "      <th></th>\n",
       "      <th>V(km/s)</th>\n",
       "      <th>Redshift</th>\n",
       "      <th>Magnitud</th>\n",
       "    </tr>\n",
       "  </thead>\n",
       "  <tbody>\n",
       "    <tr>\n",
       "      <th>0</th>\n",
       "      <td>18287</td>\n",
       "      <td>0.060998</td>\n",
       "      <td>17.62</td>\n",
       "    </tr>\n",
       "    <tr>\n",
       "      <th>1</th>\n",
       "      <td>5691</td>\n",
       "      <td>0.018983</td>\n",
       "      <td>15.00</td>\n",
       "    </tr>\n",
       "    <tr>\n",
       "      <th>2</th>\n",
       "      <td>26382</td>\n",
       "      <td>0.088000</td>\n",
       "      <td>18.59</td>\n",
       "    </tr>\n",
       "    <tr>\n",
       "      <th>3</th>\n",
       "      <td>5996</td>\n",
       "      <td>0.020000</td>\n",
       "      <td>15.54</td>\n",
       "    </tr>\n",
       "    <tr>\n",
       "      <th>4</th>\n",
       "      <td>19202</td>\n",
       "      <td>0.064051</td>\n",
       "      <td>15.30</td>\n",
       "    </tr>\n",
       "    <tr>\n",
       "      <th>5</th>\n",
       "      <td>23684</td>\n",
       "      <td>0.079000</td>\n",
       "      <td>16.56</td>\n",
       "    </tr>\n",
       "    <tr>\n",
       "      <th>6</th>\n",
       "      <td>11702</td>\n",
       "      <td>0.039034</td>\n",
       "      <td>17.14</td>\n",
       "    </tr>\n",
       "    <tr>\n",
       "      <th>7</th>\n",
       "      <td>17284</td>\n",
       "      <td>0.057653</td>\n",
       "      <td>13.50</td>\n",
       "    </tr>\n",
       "    <tr>\n",
       "      <th>8</th>\n",
       "      <td>13491</td>\n",
       "      <td>0.045000</td>\n",
       "      <td>17.80</td>\n",
       "    </tr>\n",
       "    <tr>\n",
       "      <th>9</th>\n",
       "      <td>10566</td>\n",
       "      <td>0.035244</td>\n",
       "      <td>15.25</td>\n",
       "    </tr>\n",
       "    <tr>\n",
       "      <th>10</th>\n",
       "      <td>14718</td>\n",
       "      <td>0.049094</td>\n",
       "      <td>15.60</td>\n",
       "    </tr>\n",
       "    <tr>\n",
       "      <th>11</th>\n",
       "      <td>13491</td>\n",
       "      <td>0.045000</td>\n",
       "      <td>14.52</td>\n",
       "    </tr>\n",
       "    <tr>\n",
       "      <th>12</th>\n",
       "      <td>16325</td>\n",
       "      <td>0.054453</td>\n",
       "      <td>15.30</td>\n",
       "    </tr>\n",
       "    <tr>\n",
       "      <th>13</th>\n",
       "      <td>20686</td>\n",
       "      <td>0.069000</td>\n",
       "      <td>16.80</td>\n",
       "    </tr>\n",
       "    <tr>\n",
       "      <th>14</th>\n",
       "      <td>1808</td>\n",
       "      <td>0.006031</td>\n",
       "      <td>11.16</td>\n",
       "    </tr>\n",
       "    <tr>\n",
       "      <th>15</th>\n",
       "      <td>7603</td>\n",
       "      <td>0.025361</td>\n",
       "      <td>15.18</td>\n",
       "    </tr>\n",
       "    <tr>\n",
       "      <th>16</th>\n",
       "      <td>1018</td>\n",
       "      <td>0.003395</td>\n",
       "      <td>12.24</td>\n",
       "    </tr>\n",
       "    <tr>\n",
       "      <th>17</th>\n",
       "      <td>321</td>\n",
       "      <td>0.001071</td>\n",
       "      <td>13.00</td>\n",
       "    </tr>\n",
       "    <tr>\n",
       "      <th>18</th>\n",
       "      <td>3106</td>\n",
       "      <td>0.010360</td>\n",
       "      <td>12.49</td>\n",
       "    </tr>\n",
       "    <tr>\n",
       "      <th>19</th>\n",
       "      <td>9426</td>\n",
       "      <td>0.031442</td>\n",
       "      <td>14.53</td>\n",
       "    </tr>\n",
       "    <tr>\n",
       "      <th>20</th>\n",
       "      <td>7464</td>\n",
       "      <td>0.024897</td>\n",
       "      <td>15.21</td>\n",
       "    </tr>\n",
       "    <tr>\n",
       "      <th>21</th>\n",
       "      <td>15143</td>\n",
       "      <td>0.050512</td>\n",
       "      <td>17.40</td>\n",
       "    </tr>\n",
       "    <tr>\n",
       "      <th>22</th>\n",
       "      <td>407</td>\n",
       "      <td>0.001358</td>\n",
       "      <td>10.87</td>\n",
       "    </tr>\n",
       "    <tr>\n",
       "      <th>23</th>\n",
       "      <td>7257</td>\n",
       "      <td>0.024207</td>\n",
       "      <td>14.60</td>\n",
       "    </tr>\n",
       "    <tr>\n",
       "      <th>24</th>\n",
       "      <td>9193</td>\n",
       "      <td>0.030664</td>\n",
       "      <td>15.10</td>\n",
       "    </tr>\n",
       "    <tr>\n",
       "      <th>25</th>\n",
       "      <td>12137</td>\n",
       "      <td>0.040485</td>\n",
       "      <td>14.75</td>\n",
       "    </tr>\n",
       "    <tr>\n",
       "      <th>26</th>\n",
       "      <td>4264</td>\n",
       "      <td>0.014224</td>\n",
       "      <td>14.98</td>\n",
       "    </tr>\n",
       "    <tr>\n",
       "      <th>27</th>\n",
       "      <td>4381</td>\n",
       "      <td>0.014615</td>\n",
       "      <td>14.15</td>\n",
       "    </tr>\n",
       "    <tr>\n",
       "      <th>28</th>\n",
       "      <td>22484</td>\n",
       "      <td>0.075000</td>\n",
       "      <td>17.43</td>\n",
       "    </tr>\n",
       "    <tr>\n",
       "      <th>29</th>\n",
       "      <td>15162</td>\n",
       "      <td>0.050575</td>\n",
       "      <td>16.50</td>\n",
       "    </tr>\n",
       "    <tr>\n",
       "      <th>30</th>\n",
       "      <td>30000</td>\n",
       "      <td>0.101000</td>\n",
       "      <td>18.90</td>\n",
       "    </tr>\n",
       "    <tr>\n",
       "      <th>31</th>\n",
       "      <td>12981</td>\n",
       "      <td>0.043300</td>\n",
       "      <td>15.23</td>\n",
       "    </tr>\n",
       "    <tr>\n",
       "      <th>32</th>\n",
       "      <td>8803</td>\n",
       "      <td>0.029364</td>\n",
       "      <td>14.90</td>\n",
       "    </tr>\n",
       "  </tbody>\n",
       "</table>\n",
       "</div>"
      ],
      "text/plain": [
       "    V(km/s)  Redshift  Magnitud\n",
       "0     18287  0.060998     17.62\n",
       "1      5691  0.018983     15.00\n",
       "2     26382  0.088000     18.59\n",
       "3      5996  0.020000     15.54\n",
       "4     19202  0.064051     15.30\n",
       "5     23684  0.079000     16.56\n",
       "6     11702  0.039034     17.14\n",
       "7     17284  0.057653     13.50\n",
       "8     13491  0.045000     17.80\n",
       "9     10566  0.035244     15.25\n",
       "10    14718  0.049094     15.60\n",
       "11    13491  0.045000     14.52\n",
       "12    16325  0.054453     15.30\n",
       "13    20686  0.069000     16.80\n",
       "14     1808  0.006031     11.16\n",
       "15     7603  0.025361     15.18\n",
       "16     1018  0.003395     12.24\n",
       "17      321  0.001071     13.00\n",
       "18     3106  0.010360     12.49\n",
       "19     9426  0.031442     14.53\n",
       "20     7464  0.024897     15.21\n",
       "21    15143  0.050512     17.40\n",
       "22      407  0.001358     10.87\n",
       "23     7257  0.024207     14.60\n",
       "24     9193  0.030664     15.10\n",
       "25    12137  0.040485     14.75\n",
       "26     4264  0.014224     14.98\n",
       "27     4381  0.014615     14.15\n",
       "28    22484  0.075000     17.43\n",
       "29    15162  0.050575     16.50\n",
       "30    30000  0.101000     18.90\n",
       "31    12981  0.043300     15.23\n",
       "32     8803  0.029364     14.90"
      ]
     },
     "execution_count": 58,
     "metadata": {},
     "output_type": "execute_result"
    }
   ],
   "source": [
    "import pandas as pd\n",
    "\n",
    "df = pd.read_table('https://robot.inf.um.es/material/data/ConstanteHubbleDatos-1.txt', sep='\\s+', comment='#')\n",
    "df"
   ]
  },
  {
   "cell_type": "markdown",
   "metadata": {
    "hidden": true
   },
   "source": [
    "Más adelante estudiaremos los dataframes. Por ahora convertimos los datos a un array normal."
   ]
  },
  {
   "cell_type": "code",
   "execution_count": 59,
   "metadata": {
    "hidden": true
   },
   "outputs": [
    {
     "data": {
      "text/plain": [
       "array([[1.8287e+04, 6.0998e-02, 1.7620e+01],\n",
       "       [5.6910e+03, 1.8983e-02, 1.5000e+01],\n",
       "       [2.6382e+04, 8.8000e-02, 1.8590e+01],\n",
       "       [5.9960e+03, 2.0000e-02, 1.5540e+01],\n",
       "       [1.9202e+04, 6.4051e-02, 1.5300e+01],\n",
       "       [2.3684e+04, 7.9000e-02, 1.6560e+01],\n",
       "       [1.1702e+04, 3.9034e-02, 1.7140e+01],\n",
       "       [1.7284e+04, 5.7653e-02, 1.3500e+01],\n",
       "       [1.3491e+04, 4.5000e-02, 1.7800e+01],\n",
       "       [1.0566e+04, 3.5244e-02, 1.5250e+01],\n",
       "       [1.4718e+04, 4.9094e-02, 1.5600e+01],\n",
       "       [1.3491e+04, 4.5000e-02, 1.4520e+01],\n",
       "       [1.6325e+04, 5.4453e-02, 1.5300e+01],\n",
       "       [2.0686e+04, 6.9000e-02, 1.6800e+01],\n",
       "       [1.8080e+03, 6.0310e-03, 1.1160e+01],\n",
       "       [7.6030e+03, 2.5361e-02, 1.5180e+01],\n",
       "       [1.0180e+03, 3.3950e-03, 1.2240e+01],\n",
       "       [3.2100e+02, 1.0710e-03, 1.3000e+01],\n",
       "       [3.1060e+03, 1.0360e-02, 1.2490e+01],\n",
       "       [9.4260e+03, 3.1442e-02, 1.4530e+01],\n",
       "       [7.4640e+03, 2.4897e-02, 1.5210e+01],\n",
       "       [1.5143e+04, 5.0512e-02, 1.7400e+01],\n",
       "       [4.0700e+02, 1.3580e-03, 1.0870e+01],\n",
       "       [7.2570e+03, 2.4207e-02, 1.4600e+01],\n",
       "       [9.1930e+03, 3.0664e-02, 1.5100e+01],\n",
       "       [1.2137e+04, 4.0485e-02, 1.4750e+01],\n",
       "       [4.2640e+03, 1.4224e-02, 1.4980e+01],\n",
       "       [4.3810e+03, 1.4615e-02, 1.4150e+01],\n",
       "       [2.2484e+04, 7.5000e-02, 1.7430e+01],\n",
       "       [1.5162e+04, 5.0575e-02, 1.6500e+01],\n",
       "       [3.0000e+04, 1.0100e-01, 1.8900e+01],\n",
       "       [1.2981e+04, 4.3300e-02, 1.5230e+01],\n",
       "       [8.8030e+03, 2.9364e-02, 1.4900e+01]])"
      ]
     },
     "execution_count": 59,
     "metadata": {},
     "output_type": "execute_result"
    }
   ],
   "source": [
    "hubble = np.array(df)\n",
    "hubble"
   ]
  },
  {
   "cell_type": "code",
   "execution_count": 60,
   "metadata": {
    "hidden": true
   },
   "outputs": [
    {
     "data": {
      "image/png": "[encoded data removed]",
      "text/plain": [
       "<matplotlib.figure.Figure at 0x7f87f6f43940>"
      ]
     },
     "metadata": {},
     "output_type": "display_data"
    }
   ],
   "source": [
    "vel = hubble[:,0]\n",
    "mag = hubble[:,2]\n",
    "\n",
    "# vel, reds, mag = hubble.T\n",
    "\n",
    "plt.plot(vel,mag,'.')\n",
    "plt.xlabel('velocidad (Km/s)')\n",
    "plt.ylabel('Magnitud');"
   ]
  },
  {
   "cell_type": "markdown",
   "metadata": {
    "heading_collapsed": true
   },
   "source": [
    "### Números pseudoaleatorios y estadística elemental"
   ]
  },
  {
   "cell_type": "markdown",
   "metadata": {
    "hidden": true
   },
   "source": [
    "`numpy` permite generar arrays de números pseudoaleatorios con diferentes tipos de distribuciones (uniforme, normal, etc.)."
   ]
  },
  {
   "cell_type": "code",
   "execution_count": 61,
   "metadata": {
    "hidden": true
   },
   "outputs": [
    {
     "data": {
      "text/plain": [
       "array([[2, 4, 5, 6],\n",
       "       [4, 1, 5, 2],\n",
       "       [5, 1, 1, 3]])"
      ]
     },
     "execution_count": 61,
     "metadata": {},
     "output_type": "execute_result"
    }
   ],
   "source": [
    "# enteros uniformemente distribuidos en un intervalo\n",
    "np.random.randint(1, 6+1, (3,4))"
   ]
  },
  {
   "cell_type": "code",
   "execution_count": 62,
   "metadata": {
    "hidden": true
   },
   "outputs": [
    {
     "data": {
      "text/plain": [
       "array([[0.63225108, 0.39305685, 0.2838703 , 0.61068599],\n",
       "       [0.55791494, 0.09458905, 0.06672618, 0.00612782],\n",
       "       [0.68145922, 0.6302291 , 0.22507138, 0.96791662]])"
      ]
     },
     "execution_count": 62,
     "metadata": {},
     "output_type": "execute_result"
    }
   ],
   "source": [
    "# reales entre cero y 1, uniformemente distribuidos\n",
    "np.random.rand(3,4)"
   ]
  },
  {
   "cell_type": "code",
   "execution_count": 63,
   "metadata": {
    "hidden": true
   },
   "outputs": [
    {
     "data": {
      "text/plain": [
       "array([[-0.51074656,  0.07720359, -0.70761554,  0.39408842,  0.32663207],\n",
       "       [-0.72583019,  2.39364114, -0.03810896, -0.59105807, -0.34061362]])"
      ]
     },
     "execution_count": 63,
     "metadata": {},
     "output_type": "execute_result"
    }
   ],
   "source": [
    "# reales con distribución normal (gaussiana) con media cero y varianza 1\n",
    "np.random.randn(2,5)"
   ]
  },
  {
   "cell_type": "markdown",
   "metadata": {
    "hidden": true
   },
   "source": [
    "Tiene también funciones de estadística descriptiva para calcular características de conjuntos de datos tales como la media, mediana, desviación típica, máximo y mínimo, etc. Todas estas funciones de \"reducción\" de arrays pueden actuar sobre el array completo, por filas o por columnas, dependiendo del argumento opcional `axis`."
   ]
  },
  {
   "cell_type": "code",
   "execution_count": 64,
   "metadata": {
    "hidden": true
   },
   "outputs": [
    {
     "data": {
      "text/plain": [
       "array([[6, 1, 9],\n",
       "       [2, 4, 0],\n",
       "       [6, 8, 1],\n",
       "       [9, 6, 6],\n",
       "       [1, 5, 5]])"
      ]
     },
     "execution_count": 64,
     "metadata": {},
     "output_type": "execute_result"
    }
   ],
   "source": [
    "m = np.random.randint(0,10, (5,3))\n",
    "m"
   ]
  },
  {
   "cell_type": "code",
   "execution_count": 65,
   "metadata": {
    "hidden": true
   },
   "outputs": [
    {
     "data": {
      "text/plain": [
       "(4.6, 9, 0, 5.0, 2.893671255228094, 8.373333333333333)"
      ]
     },
     "execution_count": 65,
     "metadata": {},
     "output_type": "execute_result"
    }
   ],
   "source": [
    "np.mean(m), np.max(m), np.min(m), np.median(m), np.std(m), np.var(m)"
   ]
  },
  {
   "cell_type": "code",
   "execution_count": 66,
   "metadata": {
    "hidden": true
   },
   "outputs": [
    {
     "data": {
      "text/plain": [
       "69"
      ]
     },
     "execution_count": 66,
     "metadata": {},
     "output_type": "execute_result"
    }
   ],
   "source": [
    "np.sum(m)"
   ]
  },
  {
   "cell_type": "code",
   "execution_count": 67,
   "metadata": {
    "hidden": true
   },
   "outputs": [
    {
     "data": {
      "text/plain": [
       "array([24, 24, 21])"
      ]
     },
     "execution_count": 67,
     "metadata": {},
     "output_type": "execute_result"
    }
   ],
   "source": [
    "np.sum(m, axis=0)"
   ]
  },
  {
   "cell_type": "code",
   "execution_count": 68,
   "metadata": {
    "hidden": true
   },
   "outputs": [
    {
     "data": {
      "text/plain": [
       "array([16,  6, 15, 21, 11])"
      ]
     },
     "execution_count": 68,
     "metadata": {},
     "output_type": "execute_result"
    }
   ],
   "source": [
    "np.sum(m, axis=1)"
   ]
  },
  {
   "cell_type": "markdown",
   "metadata": {
    "hidden": true
   },
   "source": [
    "Como ejemplo, podemos estudiar la distribución de puntuaciones al lanzar varios dados."
   ]
  },
  {
   "cell_type": "code",
   "execution_count": 69,
   "metadata": {
    "hidden": true
   },
   "outputs": [
    {
     "data": {
      "text/plain": [
       "array([[2, 1, 4, 4],\n",
       "       [1, 3, 5, 3],\n",
       "       [3, 4, 1, 3],\n",
       "       [5, 6, 6, 1],\n",
       "       [3, 4, 4, 1],\n",
       "       [1, 3, 5, 1],\n",
       "       [4, 3, 5, 4],\n",
       "       [6, 6, 5, 1],\n",
       "       [6, 3, 1, 1],\n",
       "       [1, 2, 3, 5]])"
      ]
     },
     "execution_count": 69,
     "metadata": {},
     "output_type": "execute_result"
    }
   ],
   "source": [
    "ndados  =   4 # int(input('Número de dados:'))\n",
    "tiradas = 200 # int(input('Número de tiradas:'))\n",
    "dados = np.random.randint(1,6+1,(tiradas,ndados))\n",
    "dados[:10]"
   ]
  },
  {
   "cell_type": "code",
   "execution_count": 70,
   "metadata": {
    "hidden": true
   },
   "outputs": [
    {
     "data": {
      "text/plain": [
       "array([11, 12, 11, 18, 12, 10, 16, 18, 11, 11])"
      ]
     },
     "execution_count": 70,
     "metadata": {},
     "output_type": "execute_result"
    }
   ],
   "source": [
    "s = np.sum(dados,axis=1)\n",
    "s[:10]"
   ]
  },
  {
   "cell_type": "code",
   "execution_count": 71,
   "metadata": {
    "hidden": true
   },
   "outputs": [
    {
     "data": {
      "image/png": "[encoded data removed]",
      "text/plain": [
       "<matplotlib.figure.Figure at 0x7f87f6464d68>"
      ]
     },
     "metadata": {},
     "output_type": "display_data"
    }
   ],
   "source": [
    "plt.hist(s,bins=np.arange(ndados,6*ndados)+0.5);"
   ]
  },
  {
   "cell_type": "markdown",
   "metadata": {
    "hidden": true
   },
   "source": [
    "Comparamos con la teoría:"
   ]
  },
  {
   "cell_type": "code",
   "execution_count": 72,
   "metadata": {
    "hidden": true
   },
   "outputs": [],
   "source": [
    "from scipy.stats import norm, randint"
   ]
  },
  {
   "cell_type": "code",
   "execution_count": 73,
   "metadata": {
    "hidden": true
   },
   "outputs": [
    {
     "name": "stdout",
     "output_type": "stream",
     "text": [
      "teoría: 14.0, experimento: 14.00\n"
     ]
    }
   ],
   "source": [
    "mu = s.mean()\n",
    "print('teoría: {}, experimento: {:.2f}'.format(3.5*ndados, mu))"
   ]
  },
  {
   "cell_type": "code",
   "execution_count": 74,
   "metadata": {
    "hidden": true
   },
   "outputs": [
    {
     "name": "stdout",
     "output_type": "stream",
     "text": [
      "teoría: 3.415650255319866, experimento: 3.10\n"
     ]
    }
   ],
   "source": [
    "sigma = s.std()\n",
    "tsigma_1_dado = randint(low=1,high=7).std()  # = np.sqrt(35)/np.sqrt(12)\n",
    "tsigma = np.sqrt(ndados) * tsigma_1_dado\n",
    "print('teoría: {}, experimento: {:.2f}'.format(tsigma, sigma ))"
   ]
  },
  {
   "cell_type": "code",
   "execution_count": 75,
   "metadata": {
    "hidden": true
   },
   "outputs": [
    {
     "data": {
      "image/png": "[encoded data removed]",
      "text/plain": [
       "<matplotlib.figure.Figure at 0x7f87ee3c7c88>"
      ]
     },
     "metadata": {},
     "output_type": "display_data"
    }
   ],
   "source": [
    "x = np.linspace(ndados,6*ndados,100)\n",
    "\n",
    "plt.hist(s,bins=np.arange(ndados,6*ndados)+0.5, density=True);\n",
    "\n",
    "plt.plot(x,norm.pdf(x,mu,sigma),lw=3);"
   ]
  },
  {
   "cell_type": "markdown",
   "metadata": {
    "hidden": true
   },
   "source": [
    "Veremos otros ejemplos de estas funciones en el tema dedicado al análisis de datos."
   ]
  },
  {
   "cell_type": "markdown",
   "metadata": {
    "heading_collapsed": true
   },
   "source": [
    "### Álgebra lineal"
   ]
  },
  {
   "cell_type": "markdown",
   "metadata": {
    "hidden": true
   },
   "source": [
    "El submódulo `linalg` ofrece las operaciones usuales de álgebra lineal."
   ]
  },
  {
   "cell_type": "code",
   "execution_count": 76,
   "metadata": {
    "hidden": true
   },
   "outputs": [],
   "source": [
    "import scipy.linalg as la"
   ]
  },
  {
   "cell_type": "markdown",
   "metadata": {
    "hidden": true
   },
   "source": [
    "Por ejemplo, podemos calcular fácilmente el módulo de un vector:"
   ]
  },
  {
   "cell_type": "code",
   "execution_count": 77,
   "metadata": {
    "hidden": true
   },
   "outputs": [
    {
     "data": {
      "text/plain": [
       "7.416198487095663"
      ]
     },
     "execution_count": 77,
     "metadata": {},
     "output_type": "execute_result"
    }
   ],
   "source": [
    "la.norm([1,2,3,4,5])"
   ]
  },
  {
   "cell_type": "markdown",
   "metadata": {
    "hidden": true
   },
   "source": [
    "o el determinante de una matriz:"
   ]
  },
  {
   "cell_type": "code",
   "execution_count": 78,
   "metadata": {
    "hidden": true
   },
   "outputs": [
    {
     "data": {
      "text/plain": [
       "-2.0"
      ]
     },
     "execution_count": 78,
     "metadata": {},
     "output_type": "execute_result"
    }
   ],
   "source": [
    "la.det([[1,2],\n",
    "        [3,4]])"
   ]
  },
  {
   "cell_type": "markdown",
   "metadata": {
    "hidden": true
   },
   "source": [
    "Observa que muchas de las funciones que trabajan con arrays admiten también otros contenedores como listas o tuplas, que son transformadas automáticamente en arrays."
   ]
  },
  {
   "cell_type": "markdown",
   "metadata": {
    "hidden": true
   },
   "source": [
    "Un problema muy importante es la resolución de sistemas de ecuaciones lineales. Si tenemos que resolver un sistema como"
   ]
  },
  {
   "cell_type": "markdown",
   "metadata": {
    "hidden": true
   },
   "source": [
    "$$\n",
    "\\begin{align*}\n",
    "x + 2y &= 3\\\\\n",
    "3x+4y  &= 5\n",
    "\\end{align*}\n",
    "$$"
   ]
  },
  {
   "cell_type": "markdown",
   "metadata": {
    "hidden": true
   },
   "source": [
    "Lo expresamos en forma matricial $AX=B$ y podemos resolverlo con la inversa de $A$, o directamente con `solve`."
   ]
  },
  {
   "cell_type": "code",
   "execution_count": 79,
   "metadata": {
    "hidden": true
   },
   "outputs": [],
   "source": [
    "m = np.array([[1,2],\n",
    "              [3,4]])"
   ]
  },
  {
   "cell_type": "code",
   "execution_count": 80,
   "metadata": {
    "hidden": true
   },
   "outputs": [
    {
     "data": {
      "text/plain": [
       "array([[1, 2],\n",
       "       [3, 4]])"
      ]
     },
     "execution_count": 80,
     "metadata": {},
     "output_type": "execute_result"
    }
   ],
   "source": [
    "m"
   ]
  },
  {
   "cell_type": "code",
   "execution_count": 81,
   "metadata": {
    "hidden": true
   },
   "outputs": [
    {
     "data": {
      "text/plain": [
       "array([[-2. ,  1. ],\n",
       "       [ 1.5, -0.5]])"
      ]
     },
     "execution_count": 81,
     "metadata": {},
     "output_type": "execute_result"
    }
   ],
   "source": [
    "la.inv(m)"
   ]
  },
  {
   "cell_type": "code",
   "execution_count": 82,
   "metadata": {
    "hidden": true
   },
   "outputs": [
    {
     "data": {
      "text/plain": [
       "array([-1.,  2.])"
      ]
     },
     "execution_count": 82,
     "metadata": {},
     "output_type": "execute_result"
    }
   ],
   "source": [
    "la.inv(m) @ np.array([3,5])"
   ]
  },
  {
   "cell_type": "markdown",
   "metadata": {
    "hidden": true
   },
   "source": [
    "Es mejor (más eficiente y numéricamente estable) usar la función `solve`:"
   ]
  },
  {
   "cell_type": "code",
   "execution_count": 83,
   "metadata": {
    "hidden": true
   },
   "outputs": [
    {
     "data": {
      "text/plain": [
       "array([-1.,  2.])"
      ]
     },
     "execution_count": 83,
     "metadata": {},
     "output_type": "execute_result"
    }
   ],
   "source": [
    "la.solve(m,[3,5])"
   ]
  },
  {
   "cell_type": "markdown",
   "metadata": {
    "hidden": true
   },
   "source": [
    "La solución se debería mostrar como una columna, pero en Python los arrays de una dimensión se imprimen como una fila porque no siempre representan vectores matemáticos. Si lo preferimos podemos usar matrices de una sola columna."
   ]
  },
  {
   "cell_type": "code",
   "execution_count": 84,
   "metadata": {
    "hidden": true
   },
   "outputs": [
    {
     "data": {
      "text/plain": [
       "array([[-1.],\n",
       "       [ 2.]])"
      ]
     },
     "execution_count": 84,
     "metadata": {},
     "output_type": "execute_result"
    }
   ],
   "source": [
    "x = la.solve(m,[[3],\n",
    "                [5]])\n",
    "\n",
    "x"
   ]
  },
  {
   "cell_type": "code",
   "execution_count": 85,
   "metadata": {
    "hidden": true
   },
   "outputs": [
    {
     "data": {
      "text/plain": [
       "array([[3.],\n",
       "       [5.]])"
      ]
     },
     "execution_count": 85,
     "metadata": {},
     "output_type": "execute_result"
    }
   ],
   "source": [
    "m @ x"
   ]
  },
  {
   "cell_type": "markdown",
   "metadata": {
    "hidden": true
   },
   "source": [
    "Si el lado derecho de la ecuación matricial $A X = B$ es una matriz, la solución $X$ también lo será."
   ]
  },
  {
   "cell_type": "markdown",
   "metadata": {
    "heading_collapsed": true
   },
   "source": [
    "### Computación matricial *"
   ]
  },
  {
   "cell_type": "markdown",
   "metadata": {
    "hidden": true
   },
   "source": [
    "Python proporciona una [amplia colección](https://docs.scipy.org/doc/scipy/reference/linalg.html) de funciones de álgebra lineal numérica."
   ]
  },
  {
   "cell_type": "code",
   "execution_count": 86,
   "metadata": {
    "hidden": true
   },
   "outputs": [
    {
     "data": {
      "text/plain": [
       "(array([-0.23606798,  4.23606798]), array([[-0.85065081,  0.52573111],\n",
       "        [ 0.52573111,  0.85065081]]))"
      ]
     },
     "execution_count": 86,
     "metadata": {},
     "output_type": "execute_result"
    }
   ],
   "source": [
    "la.eigh([[1,2],\n",
    "         [2,3]])"
   ]
  },
  {
   "cell_type": "code",
   "execution_count": 87,
   "metadata": {
    "hidden": true
   },
   "outputs": [
    {
     "data": {
      "text/plain": [
       "(array([ 4.74165739+0.j, -2.74165739+0.j]), array([[ 0.47140452, -0.47140452],\n",
       "        [ 0.8819171 ,  0.8819171 ]]))"
      ]
     },
     "execution_count": 87,
     "metadata": {},
     "output_type": "execute_result"
    }
   ],
   "source": [
    "la.eig([[1,2],\n",
    "        [7,1]])"
   ]
  },
  {
   "cell_type": "code",
   "execution_count": 88,
   "metadata": {
    "hidden": true
   },
   "outputs": [
    {
     "data": {
      "text/plain": [
       "array([[1.        , 1.41421356],\n",
       "       [1.73205081, 2.        ]])"
      ]
     },
     "execution_count": 88,
     "metadata": {},
     "output_type": "execute_result"
    }
   ],
   "source": [
    "np.sqrt([[1,2],\n",
    "         [3,4]])"
   ]
  },
  {
   "cell_type": "code",
   "execution_count": 89,
   "metadata": {
    "hidden": true
   },
   "outputs": [
    {
     "data": {
      "text/plain": [
       "array([[0.77007615, 0.63795197],\n",
       "       [0.63795197, 2.36495608]])"
      ]
     },
     "execution_count": 89,
     "metadata": {},
     "output_type": "execute_result"
    }
   ],
   "source": [
    "r = la.sqrtm([[1,2],\n",
    "              [2,6]])\n",
    "r"
   ]
  },
  {
   "cell_type": "code",
   "execution_count": 90,
   "metadata": {
    "hidden": true
   },
   "outputs": [
    {
     "data": {
      "text/plain": [
       "array([[1., 2.],\n",
       "       [2., 6.]])"
      ]
     },
     "execution_count": 90,
     "metadata": {},
     "output_type": "execute_result"
    }
   ],
   "source": [
    "r @ r"
   ]
  },
  {
   "cell_type": "markdown",
   "metadata": {
    "heading_collapsed": true
   },
   "source": [
    "### Caso de estudio: mínimos cuadrados *"
   ]
  },
  {
   "cell_type": "markdown",
   "metadata": {
    "hidden": true
   },
   "source": [
    "Como ejemplo de uso de las herramientas de álgebra lineal realizaremos el ajuste de un modelo polinomial a unas observaciones ficticias. Encontraremos la solución de mínimo error cuadrático a un sistema de ecuaciones sobredeterminado.\n",
    "\n",
    "En primer lugar generamos unos datos de prueba artificiales que simulan observaciones contaminadas con ruido de una función no lineal."
   ]
  },
  {
   "cell_type": "code",
   "execution_count": 91,
   "metadata": {
    "hidden": true,
    "scrolled": true
   },
   "outputs": [
    {
     "data": {
      "image/png": "[encoded data removed]",
      "text/plain": [
       "<matplotlib.figure.Figure at 0x7f8814064400>"
      ]
     },
     "metadata": {},
     "output_type": "display_data"
    }
   ],
   "source": [
    "import matplotlib.pyplot as plt\n",
    "%matplotlib inline\n",
    "\n",
    "x = np.linspace(0,2,30)\n",
    "\n",
    "y = np.sin(x) + 0.05*np.random.randn(x.size)\n",
    "\n",
    "plt.plot(x,y,'.');"
   ]
  },
  {
   "cell_type": "markdown",
   "metadata": {
    "hidden": true
   },
   "source": [
    "Vamos a ajustar un modelo del tipo $y = ax^2 + bx + c$. Los coeficientes desconocidos $a$, $b$ y $c$ se pueden obtener resolviendo un sistema de ecuaciones lineales."
   ]
  },
  {
   "cell_type": "markdown",
   "metadata": {
    "hidden": true
   },
   "source": [
    "La matriz de coeficientes tiene potencias de $x$ hasta el grado que nos interesa."
   ]
  },
  {
   "cell_type": "code",
   "execution_count": 92,
   "metadata": {
    "hidden": true
   },
   "outputs": [
    {
     "data": {
      "text/plain": [
       "array([[0.        , 0.        , 1.        ],\n",
       "       [0.00475624, 0.06896552, 1.        ],\n",
       "       [0.01902497, 0.13793103, 1.        ],\n",
       "       [0.04280618, 0.20689655, 1.        ],\n",
       "       [0.07609988, 0.27586207, 1.        ],\n",
       "       [0.11890606, 0.34482759, 1.        ],\n",
       "       [0.17122473, 0.4137931 , 1.        ],\n",
       "       [0.23305589, 0.48275862, 1.        ],\n",
       "       [0.30439952, 0.55172414, 1.        ],\n",
       "       [0.38525565, 0.62068966, 1.        ],\n",
       "       [0.47562426, 0.68965517, 1.        ],\n",
       "       [0.57550535, 0.75862069, 1.        ],\n",
       "       [0.68489893, 0.82758621, 1.        ],\n",
       "       [0.80380499, 0.89655172, 1.        ],\n",
       "       [0.93222354, 0.96551724, 1.        ],\n",
       "       [1.07015458, 1.03448276, 1.        ],\n",
       "       [1.2175981 , 1.10344828, 1.        ],\n",
       "       [1.3745541 , 1.17241379, 1.        ],\n",
       "       [1.54102259, 1.24137931, 1.        ],\n",
       "       [1.71700357, 1.31034483, 1.        ],\n",
       "       [1.90249703, 1.37931034, 1.        ],\n",
       "       [2.09750297, 1.44827586, 1.        ],\n",
       "       [2.3020214 , 1.51724138, 1.        ],\n",
       "       [2.51605232, 1.5862069 , 1.        ],\n",
       "       [2.73959572, 1.65517241, 1.        ],\n",
       "       [2.97265161, 1.72413793, 1.        ],\n",
       "       [3.21521998, 1.79310345, 1.        ],\n",
       "       [3.46730083, 1.86206897, 1.        ],\n",
       "       [3.72889417, 1.93103448, 1.        ],\n",
       "       [4.        , 2.        , 1.        ]])"
      ]
     },
     "execution_count": 92,
     "metadata": {},
     "output_type": "execute_result"
    }
   ],
   "source": [
    "A = np.vstack([x**2, x, np.ones(x.size)]).T\n",
    "\n",
    "A"
   ]
  },
  {
   "cell_type": "markdown",
   "metadata": {
    "hidden": true
   },
   "source": [
    "En realidad es una matriz de Vandermonde:"
   ]
  },
  {
   "cell_type": "code",
   "execution_count": 93,
   "metadata": {
    "hidden": true
   },
   "outputs": [
    {
     "data": {
      "text/plain": [
       "array([[0.        , 0.        , 1.        ],\n",
       "       [0.00475624, 0.06896552, 1.        ],\n",
       "       [0.01902497, 0.13793103, 1.        ],\n",
       "       [0.04280618, 0.20689655, 1.        ],\n",
       "       [0.07609988, 0.27586207, 1.        ],\n",
       "       [0.11890606, 0.34482759, 1.        ],\n",
       "       [0.17122473, 0.4137931 , 1.        ],\n",
       "       [0.23305589, 0.48275862, 1.        ],\n",
       "       [0.30439952, 0.55172414, 1.        ],\n",
       "       [0.38525565, 0.62068966, 1.        ],\n",
       "       [0.47562426, 0.68965517, 1.        ],\n",
       "       [0.57550535, 0.75862069, 1.        ],\n",
       "       [0.68489893, 0.82758621, 1.        ],\n",
       "       [0.80380499, 0.89655172, 1.        ],\n",
       "       [0.93222354, 0.96551724, 1.        ],\n",
       "       [1.07015458, 1.03448276, 1.        ],\n",
       "       [1.2175981 , 1.10344828, 1.        ],\n",
       "       [1.3745541 , 1.17241379, 1.        ],\n",
       "       [1.54102259, 1.24137931, 1.        ],\n",
       "       [1.71700357, 1.31034483, 1.        ],\n",
       "       [1.90249703, 1.37931034, 1.        ],\n",
       "       [2.09750297, 1.44827586, 1.        ],\n",
       "       [2.3020214 , 1.51724138, 1.        ],\n",
       "       [2.51605232, 1.5862069 , 1.        ],\n",
       "       [2.73959572, 1.65517241, 1.        ],\n",
       "       [2.97265161, 1.72413793, 1.        ],\n",
       "       [3.21521998, 1.79310345, 1.        ],\n",
       "       [3.46730083, 1.86206897, 1.        ],\n",
       "       [3.72889417, 1.93103448, 1.        ],\n",
       "       [4.        , 2.        , 1.        ]])"
      ]
     },
     "execution_count": 93,
     "metadata": {},
     "output_type": "execute_result"
    }
   ],
   "source": [
    "np.vander(x,3)"
   ]
  },
  {
   "cell_type": "markdown",
   "metadata": {
    "hidden": true
   },
   "source": [
    "El lado derecho del sistema es directamente el vector con los valores de $y$, la variable independiente del modelo."
   ]
  },
  {
   "cell_type": "code",
   "execution_count": 94,
   "metadata": {
    "hidden": true
   },
   "outputs": [
    {
     "data": {
      "text/plain": [
       "array([-0.01089194, -0.05002781,  0.14438755,  0.23321438,  0.24912585,\n",
       "        0.42718221,  0.39068768,  0.42883862,  0.39952868,  0.59928149,\n",
       "        0.66911244,  0.66849864,  0.76899767,  0.82438379,  0.75787608,\n",
       "        0.97426299,  0.90973483,  0.89793358,  0.90562047,  1.00248502,\n",
       "        0.97858407,  1.00887694,  0.96677834,  0.94238644,  0.89593173,\n",
       "        1.07292545,  0.98686882,  0.91170468,  0.87648756,  0.87310266])"
      ]
     },
     "execution_count": 94,
     "metadata": {},
     "output_type": "execute_result"
    }
   ],
   "source": [
    "B = np.array(y)\n",
    "\n",
    "B"
   ]
  },
  {
   "cell_type": "markdown",
   "metadata": {
    "hidden": true
   },
   "source": [
    "El sistema que hay que resolver está sobredeterminado: tiene solo tres incógnitas y tantas ecuaciones como observaciones de la función.\n",
    "\n",
    "$$A \\begin{bmatrix}a\\\\b\\\\c\\end{bmatrix}= B$$\n",
    "\n",
    "La solución de [mínimo error cuadrático](https://en.wikipedia.org/wiki/Least_squares) para los coeficientes del modelo se obtiene de manera directa:"
   ]
  },
  {
   "cell_type": "code",
   "execution_count": 95,
   "metadata": {
    "hidden": true
   },
   "outputs": [
    {
     "data": {
      "text/plain": [
       "array([-0.43488464,  1.34942711, -0.06945428])"
      ]
     },
     "execution_count": 95,
     "metadata": {},
     "output_type": "execute_result"
    }
   ],
   "source": [
    "sol = la.lstsq(A,B)[0]\n",
    "\n",
    "sol"
   ]
  },
  {
   "cell_type": "code",
   "execution_count": 96,
   "metadata": {
    "hidden": true
   },
   "outputs": [
    {
     "data": {
      "image/png": "[encoded data removed]",
      "text/plain": [
       "<matplotlib.figure.Figure at 0x7f87e5702b70>"
      ]
     },
     "metadata": {},
     "output_type": "display_data"
    }
   ],
   "source": [
    "ye = A @ sol\n",
    "\n",
    "plt.plot(x,y,'.',x,ye,'r');"
   ]
  },
  {
   "cell_type": "markdown",
   "metadata": {
    "hidden": true
   },
   "source": [
    "Se puede experimentar con polinomios de mayor o menor grado."
   ]
  },
  {
   "cell_type": "markdown",
   "metadata": {
    "hidden": true
   },
   "source": [
    "Una forma de llegar a esta solución es resolver las \"ecuaciones normales\" del sistema\n",
    "$Ax=b$. Como está sobredeterminado, vamos a minimizar el error cuadrático $E=||Ax-b||^2$, que es matemáticamente tratable. Hay que resolver\n",
    "\n",
    "$$\\frac{\\partial E}{\\partial x_k} =0 $$\n",
    "\n",
    "Se puede comprobar que la solución es\n",
    "\n",
    "$$x = A^+ b$$\n",
    "\n",
    "donde $A^+$ es la [pseudoinversa](https://en.wikipedia.org/wiki/Moore%E2%80%93Penrose_inverse) de $A$:\n",
    "\n",
    "$$A^+ = (A^TA)^{-1}A^T$$\n"
   ]
  },
  {
   "cell_type": "code",
   "execution_count": 97,
   "metadata": {
    "hidden": true
   },
   "outputs": [
    {
     "data": {
      "text/plain": [
       "array([-0.43488464,  1.34942711, -0.06945428])"
      ]
     },
     "execution_count": 97,
     "metadata": {},
     "output_type": "execute_result"
    }
   ],
   "source": [
    "la.inv(A.T @ A) @ A.T @ B"
   ]
  },
  {
   "cell_type": "code",
   "execution_count": 98,
   "metadata": {
    "hidden": true
   },
   "outputs": [
    {
     "data": {
      "text/plain": [
       "array([-0.43488464,  1.34942711, -0.06945428])"
      ]
     },
     "execution_count": 98,
     "metadata": {},
     "output_type": "execute_result"
    }
   ],
   "source": [
    "la.pinv(A) @ B"
   ]
  },
  {
   "cell_type": "markdown",
   "metadata": {
    "hidden": true
   },
   "source": [
    "En el tema dedicado al análisis de datos se muestra un ejemplo de ajuste de un modelo lineal por mínimos cuadrados usando el módulo `sklearn`."
   ]
  },
  {
   "cell_type": "markdown",
   "metadata": {
    "heading_collapsed": true
   },
   "source": [
    "### Implementación eficiente *"
   ]
  },
  {
   "cell_type": "markdown",
   "metadata": {
    "hidden": true
   },
   "source": [
    "Las operaciones de `numpy` están \"optimizadas\" (escritas internamente en código C eficiente)."
   ]
  },
  {
   "cell_type": "code",
   "execution_count": 99,
   "metadata": {
    "hidden": true
   },
   "outputs": [],
   "source": [
    "x = np.random.rand(10**8)"
   ]
  },
  {
   "cell_type": "code",
   "execution_count": 100,
   "metadata": {
    "hidden": true
   },
   "outputs": [
    {
     "data": {
      "text/plain": [
       "array([0.01708727, 0.90757547, 0.63794752, ..., 0.85557397, 0.34530545,\n",
       "       0.24796739])"
      ]
     },
     "execution_count": 100,
     "metadata": {},
     "output_type": "execute_result"
    }
   ],
   "source": [
    "x"
   ]
  },
  {
   "cell_type": "code",
   "execution_count": 101,
   "metadata": {
    "hidden": true
   },
   "outputs": [
    {
     "name": "stdout",
     "output_type": "stream",
     "text": [
      "CPU times: user 60.4 ms, sys: 90 µs, total: 60.5 ms\n",
      "Wall time: 59.7 ms\n"
     ]
    },
    {
     "data": {
      "text/plain": [
       "0.49997325065409876"
      ]
     },
     "execution_count": 101,
     "metadata": {},
     "output_type": "execute_result"
    }
   ],
   "source": [
    "%%time\n",
    "\n",
    "np.mean(x)"
   ]
  },
  {
   "cell_type": "code",
   "execution_count": 102,
   "metadata": {
    "hidden": true
   },
   "outputs": [
    {
     "name": "stdout",
     "output_type": "stream",
     "text": [
      "67.9 ms ± 7.74 ms per loop (mean ± std. dev. of 7 runs, 10 loops each)\n"
     ]
    }
   ],
   "source": [
    "%%timeit\n",
    "\n",
    "np.mean(x)"
   ]
  },
  {
   "cell_type": "code",
   "execution_count": 103,
   "metadata": {
    "hidden": true
   },
   "outputs": [
    {
     "name": "stdout",
     "output_type": "stream",
     "text": [
      "62.7 ms ± 5.37 ms per loop (mean ± std. dev. of 7 runs, 10 loops each)\n"
     ]
    }
   ],
   "source": [
    "%%timeit\n",
    "\n",
    "x @ x"
   ]
  },
  {
   "cell_type": "markdown",
   "metadata": {
    "hidden": true
   },
   "source": [
    "Si la misma operación se realiza \"manualmente\" con instrucciones normales de Python requiere mucho más tiempo:"
   ]
  },
  {
   "cell_type": "code",
   "execution_count": 104,
   "metadata": {
    "hidden": true
   },
   "outputs": [
    {
     "name": "stdout",
     "output_type": "stream",
     "text": [
      "0.4999732506542118\n",
      "CPU times: user 19.3 s, sys: 0 ns, total: 19.3 s\n",
      "Wall time: 19.3 s\n"
     ]
    }
   ],
   "source": [
    "%%time\n",
    "\n",
    "s = 0\n",
    "for e in x:\n",
    "    s += e\n",
    "print(s/len(x))"
   ]
  },
  {
   "cell_type": "markdown",
   "metadata": {
    "hidden": true
   },
   "source": [
    "Por tanto, si usamos los módulos apropiados los programas en Python no tienen por qué ser más lentos que los de otros lenguajes de programación. Python es \"glue code\", un pegamento para combinar bibliotecas de funciones, escritas en cualquier lenguaje, que resuelven eficientemente problemas específicos."
   ]
  },
  {
   "cell_type": "markdown",
   "metadata": {
    "heading_collapsed": true
   },
   "source": [
    "### Ejercicios"
   ]
  },
  {
   "cell_type": "markdown",
   "metadata": {
    "hidden": true
   },
   "source": [
    "- Resuelve el sistema:\n",
    "\n",
    "$$ \n",
    "\\begin{align*}\n",
    "x + 2y + 5z + 4w&= 24\\\\\n",
    "y-z  &= 1 \\\\\n",
    "2x+2y &= 6 \\\\\n",
    "-x+2y+3w &= 15\n",
    "\\end{align*}\n",
    "$$\n",
    "\n",
    "\n",
    "- Escribe una función para calcular la distancia entre dos puntos de $\\mathbb R^n$.\n",
    "\n",
    "\n",
    "- Escribe un programa que calcule la letra del DNI ([aquí explican la forma de hacerlo](http://www.cespedes.org/dni2nif/)).\n",
    "\n",
    "\n",
    "- Escribe un programa que encuentre el segundo mayor número contenido dentro de un array de enteros.\n",
    "\n",
    "\n",
    "- Escribe una función que admita un array 2D $m$ y un escalar $s$ y extraiga las filas de $m$ cuya suma sea mayor $s$.\n",
    "\n",
    "\n",
    "- A partir de los datos experimentales contenidos en `datos/hubble.txt` calcula el valor medio de redshift de las observaciones con velocidad < 5Km/s.\n",
    "\n",
    "\n",
    "- Escribe una función para ordenar un array de enteros de menor a mayor.\n",
    "\n",
    "\n",
    "- Escribe una función para calcular el [producto vectorial](http://en.wikipedia.org/wiki/Cross_product) de dos vectores.\n",
    "\n",
    "\n",
    "- Escribe una función para calcular los coeficientes $l=(a,b,c)$, de la ecuación de la recta $ax+by+c=0$ que pasa por dos puntos $P=(x_1,y_1)$, $Q=(x_2,y_2)$ dados.\n",
    "\n",
    "\n",
    "- Escribe una función para calcular el punto de intersección de dos rectas con coeficientes $l=(a,b,c)$ y  $l'=(a',b',c')$.\n",
    "\n",
    "\n",
    "- Escribe una función para calcular la distancia de un punto $P=(x,y)$ a una recta $l=(a,b,c)$ y la proyección de P en la recta.\n",
    "\n",
    "\n",
    "- Escribe una función para calcular la recta paralela a una recta $l$ que pasa por un punto $P$. Escribe una función para calcular la recta perpendicular a una recta $l$ que pasa por un punto $P$.\n",
    "\n",
    "\n",
    "- Dado un triángulo definido por sus tres vértices $P$, $Q$ y $R$ calcula la longitud de una base $b$ y su correspondientes altura $h$ y comprueba que el área obtenida mediante la fórmula habitual $A=bh/2$ coincide con la de Herón.\n",
    "\n",
    "\n",
    "- Calcula una aproximación numérica a la siguiente integral usando una [aproximación lineal a trozos](http://en.wikipedia.org/wiki/Trapezoidal_rule) con 20 intervalos:\n",
    "\n",
    "  $$ \\int_0^1 e^{-2x^2}\\cos(3\\pi x) dx $$\n",
    "\n",
    "\n",
    "\n",
    "- Escribe una función para calcular la desviación típica de un conjunto de números.\n",
    "\n",
    "\n",
    "- Un polinomio $p(x)$ de grado $n$ se puede representar mediante un vector de coeficientes de dimensión $n+1$. Escribe funciones para: **a)** calcular (los coeficientes de) la derivada del polinomio. **b)** calcular (los coeficientes de) la integral del polinomio. **c)** evaluar un polinomio en un valor concreto de $x$. **d)** multiplicar dos polinomios.\n",
    "\n",
    "\n",
    "- Simula el lanzamiento de 5 dados mil veces, y comprueba gráficamente que la distribución de resultados de la puntuación total es aproximadamente normal.\n",
    "\n",
    "\n",
    "- Determina mediante simulación qué suceso es más probable: **a)** obtener al menos un seis al lanzar 6 dados, **b)** obtener al menos 2 seises al lanzar 12 dados. **c)** obtener al menos 3 seises al lanzar 18 dados.\n"
   ]
  }
 ],
 "metadata": {
  "hide_input": false,
  "kernelspec": {
   "display_name": "Python 3",
   "language": "python",
   "name": "python3"
  },
  "language_info": {
   "codemirror_mode": {
    "name": "ipython",
    "version": 3
   },
   "file_extension": ".py",
   "mimetype": "text/x-python",
   "name": "python",
   "nbconvert_exporter": "python",
   "pygments_lexer": "ipython3",
   "version": "3.6.3"
  },
  "varInspector": {
   "cols": {
    "lenName": 16,
    "lenType": 16,
    "lenVar": 40
   },
   "kernels_config": {
    "python": {
     "delete_cmd_postfix": "",
     "delete_cmd_prefix": "del ",
     "library": "var_list.py",
     "varRefreshCmd": "print(var_dic_list())"
    },
    "r": {
     "delete_cmd_postfix": ") ",
     "delete_cmd_prefix": "rm(",
     "library": "var_list.r",
     "varRefreshCmd": "cat(var_dic_list()) "
    }
   },
   "types_to_exclude": [
    "module",
    "function",
    "builtin_function_or_method",
    "instance",
    "_Feature"
   ],
   "window_display": false
  }
 },
 "nbformat": 4,
 "nbformat_minor": 2
}
