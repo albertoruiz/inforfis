{
 "cells": [
  {
   "cell_type": "markdown",
   "metadata": {},
   "source": [
    "<img src=\"graph/escudoUM.png\" width=\"120px\" class=\"pull-right\" style=\"display: inline-block; margin: 10px;\">\n",
    "\n",
    "\n",
    "# Introducción a la Informática\n",
    "\n",
    "<big><strong>Grado en Física, 2018-2019</strong></big>\n",
    "<br>\n",
    "1<sup>er</sup> curso, 1<sup>er</sup> cuatrimestre\n",
    "\n",
    "Prof. **_Alberto Ruiz García_** \n",
    "<br>\n",
    "http://dis.um.es/~alberto\n",
    "\n",
    "[Calendario](https://www.um.es/documents/14152/10096322/Primero-C1+curso2018-19.pdf)"
   ]
  },
  {
   "cell_type": "markdown",
   "metadata": {},
   "source": [
    "## Introducción a la programación\n",
    "\n",
    "\n",
    "\n",
    "\n",
    "\n",
    "- [Tema 0](inforfis.ipynb). Presentación\n",
    "\n",
    "- [Tema 1](intro.ipynb). Evaluación de expresiones\n",
    "\n",
    "- [Tema 2](control.ipynb). Control\n",
    "\n",
    "- [Tema 3](contenedores.ipynb). Contenedores\n",
    "\n",
    "- [Tema 4](funciones.ipynb). Funciones\n",
    "\n",
    "- [Tema 5](numpy.ipynb). Arrays\n",
    "\n",
    "- [Tema 6](matplotlib.ipynb). Gráficas\n",
    "\n",
    "- [Tema 7](recursion.ipynb). Definiciones recursivas\n",
    "\n",
    "\n",
    "\n",
    "## Computación científica\n",
    "\n",
    "- [Cálculo numérico](scipy.ipynb)\n",
    "\n",
    "- [Integración numérica](euler.ipynb)\n",
    "\n",
    "- [Procesos iterativos](mandelbrot.ipynb)\n",
    "\n",
    "- [Caos determinista](chaos.ipynb)\n",
    "\n",
    "- [Cálculo simbólico](sympy.ipynb)\n",
    "\n",
    "- [Análisis de datos](pandas.ipynb)\n",
    "\n",
    "- [Magnitudes físicas](uncertainties.ipynb)\n",
    "\n",
    "- [Introducción a R](https://mybinder.org/v2/gl/rruizz%2Finforfis/R?filepath=notebooks/index.ipynb)\n",
    "\n",
    "\n",
    "## Ejercicios\n",
    "\n",
    "- [Guión de prácticas](guioninfor.ipynb)\n",
    "\n",
    "- [Ejercicios resueltos](ejercicios.ipynb)\n"
   ]
  },
  {
   "cell_type": "markdown",
   "metadata": {},
   "source": [
    "## Más"
   ]
  },
  {
   "cell_type": "markdown",
   "metadata": {},
   "source": [
    "- [Introducción a Fortran](fortran.ipynb)"
   ]
  }
 ],
 "metadata": {
  "hide_input": false,
  "kernelspec": {
   "display_name": "Python 3",
   "language": "python",
   "name": "python3"
  },
  "language_info": {
   "codemirror_mode": {
    "name": "ipython",
    "version": 3
   },
   "file_extension": ".py",
   "mimetype": "text/x-python",
   "name": "python",
   "nbconvert_exporter": "python",
   "pygments_lexer": "ipython3",
   "version": "3.6.3"
  },
  "varInspector": {
   "cols": {
    "lenName": 16,
    "lenType": 16,
    "lenVar": 40
   },
   "kernels_config": {
    "python": {
     "delete_cmd_postfix": "",
     "delete_cmd_prefix": "del ",
     "library": "var_list.py",
     "varRefreshCmd": "print(var_dic_list())"
    },
    "r": {
     "delete_cmd_postfix": ") ",
     "delete_cmd_prefix": "rm(",
     "library": "var_list.r",
     "varRefreshCmd": "cat(var_dic_list()) "
    }
   },
   "types_to_exclude": [
    "module",
    "function",
    "builtin_function_or_method",
    "instance",
    "_Feature"
   ],
   "window_display": false
  }
 },
 "nbformat": 4,
 "nbformat_minor": 2
}
