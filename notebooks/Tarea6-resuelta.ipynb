{
 "cells": [
  {
   "cell_type": "markdown",
   "metadata": {},
   "source": [
    "# Tarea 6\n",
    "\n",
    "Nombre:  **Nombre Apellido Apellido** \n",
    "\n",
    "x/10/2020"
   ]
  },
  {
   "cell_type": "markdown",
   "metadata": {},
   "source": [
    "## Repaso"
   ]
  },
  {
   "cell_type": "markdown",
   "metadata": {},
   "source": [
    "Estudia detenidamente el capítulo de arrays (notebook [numpy.ipynb](numpy.ipynb)). (Los apartados con asterisco pueden saltarse en una primera lectura.) En [este notebook](dist.ipynb) se hay otro breve repaso."
   ]
  },
  {
   "cell_type": "markdown",
   "metadata": {},
   "source": [
    "## Ejercicios"
   ]
  },
  {
   "cell_type": "markdown",
   "metadata": {},
   "source": [
    "Resuelve los siguientes ejercicios, usando únicamente los conceptos explicados en clase hasta ahora."
   ]
  },
  {
   "cell_type": "markdown",
   "metadata": {},
   "source": [
    "**1**) Resuelve el sistema:\n",
    "\n",
    "$$ \n",
    "\\begin{align*}\n",
    "x + 2y + 5z + 4w&= 24\\\\\n",
    "y-z  &= 1 \\\\\n",
    "2x+2y &= 6 \\\\\n",
    "-x+2y+3w &= 15\n",
    "\\end{align*}\n",
    "$$"
   ]
  },
  {
   "cell_type": "markdown",
   "metadata": {},
   "source": [
    "Simplemente hay que crear la matriz de coeficientes y el término independiente y aplicar la función `numpy.linalg.solve`."
   ]
  },
  {
   "cell_type": "code",
   "execution_count": 1,
   "metadata": {},
   "outputs": [],
   "source": [
    "import numpy as np\n",
    "\n",
    "A = np.array([[1,2,5,4],\n",
    "              [0,1,-1,0],\n",
    "              [2,2,0,0],\n",
    "              [-1,2,0,3]])\n",
    "\n",
    "B = np.array([[24],\n",
    "              [1],\n",
    "              [6],\n",
    "              [15]])"
   ]
  },
  {
   "cell_type": "code",
   "execution_count": 2,
   "metadata": {},
   "outputs": [
    {
     "data": {
      "text/plain": [
       "array([[ 2.00000000e+00],\n",
       "       [ 1.00000000e+00],\n",
       "       [-7.10542736e-16],\n",
       "       [ 5.00000000e+00]])"
      ]
     },
     "execution_count": 2,
     "metadata": {},
     "output_type": "execute_result"
    }
   ],
   "source": [
    "X = np.linalg.solve(A,B)\n",
    "X"
   ]
  },
  {
   "cell_type": "markdown",
   "metadata": {},
   "source": [
    "Siempre es conveniente comprobar que la solución efectivamente resuelve el sistema."
   ]
  },
  {
   "cell_type": "code",
   "execution_count": 3,
   "metadata": {},
   "outputs": [
    {
     "data": {
      "text/plain": [
       "array([[24.],\n",
       "       [ 1.],\n",
       "       [ 6.],\n",
       "       [15.]])"
      ]
     },
     "execution_count": 3,
     "metadata": {},
     "output_type": "execute_result"
    }
   ],
   "source": [
    "A @ X"
   ]
  },
  {
   "cell_type": "markdown",
   "metadata": {},
   "source": [
    "El término independiente se puede expresar también como un array 1D. En este caso los vectores X y B se muestran como \"filas\"."
   ]
  },
  {
   "cell_type": "markdown",
   "metadata": {},
   "source": [
    "El sistema se puede resolver también haciendo $x = A^{-1} B$, utilizando `np.linalg.inv`, pero es mejor utilizar `np.linalg.solve`."
   ]
  },
  {
   "cell_type": "markdown",
   "metadata": {},
   "source": [
    "Si en vez de usar np.array creamos las matrices con `np.matrix` entonces los operadores aritméticos realizan operaciones matriciales (no \"elemento a elemento\") y la solución se obtendría con `x=A**(-1) * B`. De nuevo se recomienda no hacer esto."
   ]
  },
  {
   "cell_type": "markdown",
   "metadata": {},
   "source": [
    "<hr style=\"height:2px\">\n",
    "\n",
    "**2**) Resuelve el sistema de ecuaciones lineales $Ax=b$ cuya matriz de coeficientes $A$ y vector $b$ están almacenados en un fichero de texto plano situado en  http://robot.inf.um.es/material/datos-SL.txt que puedes leer con `np.loadtxt`. En este fichero hay un array de dimensiones 10x11.  Las 10 primeras columnas contienen los elementos de $A$ y la última columna es $b$."
   ]
  },
  {
   "cell_type": "code",
   "execution_count": 4,
   "metadata": {},
   "outputs": [
    {
     "data": {
      "text/plain": [
       "array([ 1.00000000e+00,  3.00000000e+00, -2.00000000e+00, -2.00000000e+00,\n",
       "       -3.00000000e+00,  2.00000000e+00,  3.12322606e-16, -3.00000000e+00,\n",
       "        2.00000000e+00, -2.00000000e+00])"
      ]
     },
     "execution_count": 4,
     "metadata": {},
     "output_type": "execute_result"
    }
   ],
   "source": [
    "import numpy as np\n",
    "\n",
    "datos = np.loadtxt('http://robot.inf.um.es/material/datos-SL.txt')\n",
    "\n",
    "# todas las filas, primeras 10 columnas (de 0 a 9)\n",
    "A = datos[:, :10]\n",
    "\n",
    "# todas las filas, última columna\n",
    "b = datos[:, -1]\n",
    "\n",
    "x = np.linalg.solve(A,b)\n",
    "\n",
    "x"
   ]
  },
  {
   "cell_type": "code",
   "execution_count": 5,
   "metadata": {},
   "outputs": [
    {
     "data": {
      "text/plain": [
       "1.6898746926621696e-14"
      ]
     },
     "execution_count": 5,
     "metadata": {},
     "output_type": "execute_result"
    }
   ],
   "source": [
    "np.linalg.norm( A@x - b )"
   ]
  },
  {
   "cell_type": "markdown",
   "metadata": {},
   "source": [
    "<hr style=\"height:2px\">\n",
    "\n",
    "**3**) Define una función para calcular la letra del DNI ([aquí explican la forma de hacerlo](http://www.cespedes.org/dni2nif/))."
   ]
  },
  {
   "cell_type": "code",
   "execution_count": 6,
   "metadata": {},
   "outputs": [
    {
     "data": {
      "text/plain": [
       "'G'"
      ]
     },
     "execution_count": 6,
     "metadata": {},
     "output_type": "execute_result"
    }
   ],
   "source": [
    "def letra_dni(dni):\n",
    "    letras = 'TRWAGMYFPDXBNJZSQVHLCKE'\n",
    "    return letras[ dni % 23 ]\n",
    "\n",
    "letra_dni(50345118)"
   ]
  },
  {
   "cell_type": "markdown",
   "metadata": {},
   "source": [
    "<hr style=\"height:2px\">\n",
    "\n",
    "**4**) Escribe una función para calcular la desviación típica de un conjunto de números apoyándote en `np.mean`."
   ]
  },
  {
   "cell_type": "markdown",
   "metadata": {},
   "source": [
    "Preparamos unos datos de comprobación"
   ]
  },
  {
   "cell_type": "code",
   "execution_count": 7,
   "metadata": {},
   "outputs": [
    {
     "data": {
      "text/plain": [
       "array([4, 6, 3, 4, 4, 2, 7, 1, 4, 3])"
      ]
     },
     "execution_count": 7,
     "metadata": {},
     "output_type": "execute_result"
    }
   ],
   "source": [
    "a = np.random.randint(0,10,10)\n",
    "a"
   ]
  },
  {
   "cell_type": "markdown",
   "metadata": {},
   "source": [
    "Y vemos lo que tiene que responder nuestra función:"
   ]
  },
  {
   "cell_type": "code",
   "execution_count": 8,
   "metadata": {},
   "outputs": [
    {
     "data": {
      "text/plain": [
       "1.661324772583615"
      ]
     },
     "execution_count": 8,
     "metadata": {},
     "output_type": "execute_result"
    }
   ],
   "source": [
    "np.std(a)"
   ]
  },
  {
   "cell_type": "markdown",
   "metadata": {},
   "source": [
    "Una primera versión calcula la media de los cuadrados de las desviaciones respecto a la media, y usa variables locales para ir guardando resultados intermedios:"
   ]
  },
  {
   "cell_type": "code",
   "execution_count": 9,
   "metadata": {},
   "outputs": [
    {
     "data": {
      "text/plain": [
       "1.661324772583615"
      ]
     },
     "execution_count": 9,
     "metadata": {},
     "output_type": "execute_result"
    }
   ],
   "source": [
    "def desvi(v):\n",
    "    m = np.mean(v)\n",
    "    d = (v-m)**2\n",
    "    v = np.mean(d)\n",
    "    return np.sqrt(v)\n",
    "\n",
    "desvi(a)"
   ]
  },
  {
   "cell_type": "markdown",
   "metadata": {},
   "source": [
    "La siguiente versión es más elegante:"
   ]
  },
  {
   "cell_type": "code",
   "execution_count": 10,
   "metadata": {},
   "outputs": [
    {
     "data": {
      "text/plain": [
       "1.6613247725836149"
      ]
     },
     "execution_count": 10,
     "metadata": {},
     "output_type": "execute_result"
    }
   ],
   "source": [
    "def desvi(v):\n",
    "    return np.sqrt( np.mean(v**2) - np.mean(v)**2 )\n",
    "\n",
    "desvi(a)"
   ]
  },
  {
   "cell_type": "markdown",
   "metadata": {},
   "source": [
    "<hr style=\"height:2px\">\n",
    "\n",
    "**5**) Define una función que encuentre el segundo mayor elemento de un array de enteros. (Por ejemplo, si llamamos `segun` a la función pedida, y `x = np.array( [1, 3, 2, 10, -5, 8, 3] )`, entonces `segun(x)` debe responder `8`."
   ]
  },
  {
   "cell_type": "code",
   "execution_count": 11,
   "metadata": {},
   "outputs": [],
   "source": [
    "def segun(v):\n",
    "    return np.max( v[ v < np.max(v) ] )"
   ]
  },
  {
   "cell_type": "code",
   "execution_count": 12,
   "metadata": {},
   "outputs": [
    {
     "data": {
      "text/plain": [
       "8"
      ]
     },
     "execution_count": 12,
     "metadata": {},
     "output_type": "execute_result"
    }
   ],
   "source": [
    "x = np.array( [1, 3, 2, 10, -5, 8, 3] )\n",
    "\n",
    "segun(x)"
   ]
  },
  {
   "cell_type": "code",
   "execution_count": 13,
   "metadata": {},
   "outputs": [
    {
     "data": {
      "text/plain": [
       "8"
      ]
     },
     "execution_count": 13,
     "metadata": {},
     "output_type": "execute_result"
    }
   ],
   "source": [
    "def segun(v):\n",
    "    m         = np.max(v)\n",
    "    mask      = v < m\n",
    "    otros     = v[mask]\n",
    "    resultado = np.max(otros)\n",
    "    return resultado\n",
    "\n",
    "segun(x)"
   ]
  },
  {
   "cell_type": "markdown",
   "metadata": {},
   "source": [
    "También sería correcto ordenar el array y coger el penúltimo elemento, pero es matar moscas a cañonazos."
   ]
  },
  {
   "cell_type": "code",
   "execution_count": 14,
   "metadata": {},
   "outputs": [
    {
     "data": {
      "text/plain": [
       "8"
      ]
     },
     "execution_count": 14,
     "metadata": {},
     "output_type": "execute_result"
    }
   ],
   "source": [
    "sorted(x)[-2]"
   ]
  },
  {
   "cell_type": "markdown",
   "metadata": {},
   "source": [
    "En el enunciado no se especifica lo que debe responder la función cuando el máximo elemento está repetido. Hay que tomar una decisión y comprobar que la función construida resuelve esas situaciones como nosotros queremos."
   ]
  },
  {
   "cell_type": "markdown",
   "metadata": {},
   "source": [
    "<hr style=\"height:2px\">\n",
    "\n",
    "**6**) A partir de los datos experimentales contenidos en `datos/hubble.txt` calcula el valor medio de redshift de las observaciones con velocidad < 5000 Km/s. (El archivo está en la subcarpeta datos de estos apuntes y la forma de leer estos datos está explicada en el notebook numpy.ipybn.)"
   ]
  },
  {
   "cell_type": "code",
   "execution_count": 15,
   "metadata": {},
   "outputs": [
    {
     "data": {
      "text/plain": [
       "(33, 3)"
      ]
     },
     "execution_count": 15,
     "metadata": {},
     "output_type": "execute_result"
    }
   ],
   "source": [
    "# Abre el archivo para comprobar que tiene una \"cabecera\"\n",
    "# y qué variable es cada columna.\n",
    "\n",
    "# Asegúrate también de que se leen las 33 medidas\n",
    "medidas = np.loadtxt('datos/hubble.txt',skiprows=2)\n",
    "\n",
    "medidas.shape"
   ]
  },
  {
   "cell_type": "code",
   "execution_count": 16,
   "metadata": {},
   "outputs": [],
   "source": [
    "#Podemos separar las columnas así:\n",
    "\n",
    "vel = medidas[:,0]\n",
    "rs  = medidas[:,1]\n",
    "mag = medidas[:,2]"
   ]
  },
  {
   "cell_type": "code",
   "execution_count": 17,
   "metadata": {},
   "outputs": [],
   "source": [
    "# pero esto es más cómodo:\n",
    "\n",
    "vel, rs, mag = medidas.T"
   ]
  },
  {
   "cell_type": "code",
   "execution_count": 18,
   "metadata": {},
   "outputs": [
    {
     "data": {
      "text/plain": [
       "0.007293428571428571"
      ]
     },
     "execution_count": 18,
     "metadata": {},
     "output_type": "execute_result"
    }
   ],
   "source": [
    "np.mean( rs[ vel<5000 ] )"
   ]
  },
  {
   "cell_type": "markdown",
   "metadata": {},
   "source": [
    "<hr style=\"height:2px\">\n",
    "\n",
    "**7**) Escribe una función que admita un array 2D $m$ y un escalar $s$ y extraiga las columnas de $m$ cuya suma sea mayor de un cierto $s$ dado."
   ]
  },
  {
   "cell_type": "code",
   "execution_count": 19,
   "metadata": {},
   "outputs": [],
   "source": [
    "def bigcols(m,s):\n",
    "    sc   = np.sum(m, axis=0)\n",
    "    mask = sc > s\n",
    "    return m[:, mask]"
   ]
  },
  {
   "cell_type": "code",
   "execution_count": 20,
   "metadata": {},
   "outputs": [
    {
     "data": {
      "text/plain": [
       "array([[7, 8, 1, 4, 0, 5, 9, 3, 5, 7],\n",
       "       [7, 6, 1, 1, 9, 4, 6, 4, 6, 4],\n",
       "       [6, 5, 4, 4, 1, 5, 8, 6, 0, 7],\n",
       "       [4, 4, 6, 3, 1, 8, 0, 2, 8, 6],\n",
       "       [6, 0, 5, 7, 3, 2, 6, 5, 2, 7]])"
      ]
     },
     "execution_count": 20,
     "metadata": {},
     "output_type": "execute_result"
    }
   ],
   "source": [
    "# preparamos un array 2D de prueba\n",
    "\n",
    "a = np.random.randint(0,10,(5,10))\n",
    "a"
   ]
  },
  {
   "cell_type": "code",
   "execution_count": 21,
   "metadata": {},
   "outputs": [
    {
     "data": {
      "text/plain": [
       "array([[7, 9, 7],\n",
       "       [7, 6, 4],\n",
       "       [6, 8, 7],\n",
       "       [4, 0, 6],\n",
       "       [6, 6, 7]])"
      ]
     },
     "execution_count": 21,
     "metadata": {},
     "output_type": "execute_result"
    }
   ],
   "source": [
    "bigcols(a, 25)"
   ]
  },
  {
   "cell_type": "markdown",
   "metadata": {},
   "source": [
    "<hr style=\"height:2px\">\n",
    "\n",
    "**8)** Genera $n$ números aleatorios normales y compara gráficamente su histograma con la densidad de probabilidad real."
   ]
  },
  {
   "cell_type": "code",
   "execution_count": 22,
   "metadata": {},
   "outputs": [],
   "source": [
    "import numpy as np\n",
    "import matplotlib.pyplot as plt\n",
    "from scipy.stats import norm\n",
    "\n",
    "n = 1000\n",
    "s = np.random.randn(n)\n",
    "plt.hist(s, density=True);\n",
    "\n",
    "x = np.linspace(-4,4,100)\n",
    "plt.plot(x, norm.pdf(x));"
   ]
  },
  {
   "cell_type": "markdown",
   "metadata": {},
   "source": [
    "<hr style=\"height:2px\">\n",
    "\n",
    "**9**) Simula el lanzamiento de 5 dados mil veces, y comprueba gráficamente que la distribución de resultados de la puntuación total es aproximadamente normal."
   ]
  },
  {
   "cell_type": "code",
   "execution_count": 23,
   "metadata": {},
   "outputs": [
    {
     "data": {
      "image/png": "[encoded data removed]",
      "text/plain": [
       "<Figure size 432x288 with 1 Axes>"
      ]
     },
     "metadata": {
      "needs_background": "light"
     },
     "output_type": "display_data"
    }
   ],
   "source": [
    "dados = np.random.randint(1,6+1,(1000,5))\n",
    "total = np.sum(dados,axis=1)\n",
    "plt.hist(total, density=True);\n",
    "m = np.mean(total)\n",
    "s = np.std(total)\n",
    "x = np.linspace(5,30)\n",
    "plt.plot( x, norm.pdf(x,m,s) );"
   ]
  },
  {
   "cell_type": "markdown",
   "metadata": {},
   "source": [
    "<hr style=\"height:2px\">\n",
    "\n",
    "**10)** Determina mediante simulación qué suceso es más probable: **a)** obtener al menos un seis al lanzar 6 dados, **b)** obtener al menos 2 seises al lanzar 12 dados. **c)** obtener al menos 3 seises al lanzar 18 dados. ([Problema de Newton-Pepys](https://en.wikipedia.org/wiki/Newton%E2%80%93Pepys_problem).)"
   ]
  },
  {
   "cell_type": "code",
   "execution_count": 24,
   "metadata": {},
   "outputs": [
    {
     "data": {
      "text/plain": [
       "array([1, 0, 2])"
      ]
     },
     "execution_count": 24,
     "metadata": {},
     "output_type": "execute_result"
    }
   ],
   "source": [
    "# para cada experimento, con np.random.randint puedes generar una matriz\n",
    "# de n filas (número de repeticiones) y d columnas (número de dados)\n",
    "\n",
    "# Una pista:\n",
    "\n",
    "m = np.array([[2,3,4],\n",
    "              [1,2,5],\n",
    "              [3,3,1]])\n",
    "\n",
    "np.sum(m==3, axis=1)"
   ]
  },
  {
   "cell_type": "code",
   "execution_count": 25,
   "metadata": {},
   "outputs": [],
   "source": [
    "def exper(numdados, ganar, repeticiones):\n",
    "    x = np.random.randint(1,7,(repeticiones, numdados))\n",
    "    seises = np.sum(x==6, axis=1)\n",
    "    return np.mean( seises >= ganar )"
   ]
  },
  {
   "cell_type": "code",
   "execution_count": 26,
   "metadata": {},
   "outputs": [
    {
     "data": {
      "text/plain": [
       "0.664962"
      ]
     },
     "execution_count": 26,
     "metadata": {},
     "output_type": "execute_result"
    }
   ],
   "source": [
    "exper(6,1,1000000)"
   ]
  },
  {
   "cell_type": "code",
   "execution_count": 27,
   "metadata": {},
   "outputs": [
    {
     "data": {
      "text/plain": [
       "0.619482"
      ]
     },
     "execution_count": 27,
     "metadata": {},
     "output_type": "execute_result"
    }
   ],
   "source": [
    "exper(12,2,1000000)"
   ]
  },
  {
   "cell_type": "code",
   "execution_count": 28,
   "metadata": {},
   "outputs": [
    {
     "data": {
      "text/plain": [
       "0.595796"
      ]
     },
     "execution_count": 28,
     "metadata": {},
     "output_type": "execute_result"
    }
   ],
   "source": [
    "exper(18,3,1000000)"
   ]
  },
  {
   "cell_type": "markdown",
   "metadata": {},
   "source": [
    "Recuerda que numpy convierte los valores lógicos de una máscara en unos y ceros en las operaciones aritméticas."
   ]
  },
  {
   "cell_type": "markdown",
   "metadata": {},
   "source": [
    "<hr style=\"height:2px\">\n",
    "\n",
    "**11**) Escribe una función para calcular la distancia entre dos puntos de $\\mathbb R^n$."
   ]
  },
  {
   "cell_type": "markdown",
   "metadata": {},
   "source": [
    "Está resuelto en el  [notebook de repaso](dist.ipynb) indicado al principio."
   ]
  },
  {
   "cell_type": "markdown",
   "metadata": {},
   "source": [
    "<hr style=\"height:2px\">\n",
    "\n",
    "**12**) Escribe una función para calcular el [producto vectorial](http://en.wikipedia.org/wiki/Cross_product) de dos vectores."
   ]
  },
  {
   "cell_type": "code",
   "execution_count": 29,
   "metadata": {},
   "outputs": [],
   "source": [
    "# lo más sencillo aquí es escribir explícitamente los componentes\n",
    "\n",
    "def cross(p,q):\n",
    "    x1,y1,z1 = p\n",
    "    x2,y2,z2 = q\n",
    "    return np.array([ y1*z2-y2*z1, x2*z1-x1*z2, x1*y2-x2*y1])"
   ]
  },
  {
   "cell_type": "code",
   "execution_count": 30,
   "metadata": {},
   "outputs": [
    {
     "data": {
      "text/plain": [
       "array([-26,  27, -11])"
      ]
     },
     "execution_count": 30,
     "metadata": {},
     "output_type": "execute_result"
    }
   ],
   "source": [
    "u = (1,3,5)\n",
    "v = (5,4,-2)\n",
    "\n",
    "cross(u,v)"
   ]
  },
  {
   "cell_type": "code",
   "execution_count": 31,
   "metadata": {},
   "outputs": [
    {
     "data": {
      "text/plain": [
       "array([-26,  27, -11])"
      ]
     },
     "execution_count": 31,
     "metadata": {},
     "output_type": "execute_result"
    }
   ],
   "source": [
    "# comprobamos con numpy\n",
    "\n",
    "np.cross(u,v)"
   ]
  },
  {
   "cell_type": "markdown",
   "metadata": {},
   "source": [
    "<hr style=\"height:2px\">\n",
    "\n",
    "**13**) Escribe una función para calcular los coeficientes $l=(a,b,c)$, de la ecuación de la recta $ax+by+c=0$ que pasa por dos puntos $P=(x_1,y_1)$, $Q=(x_2,y_2)$ dados."
   ]
  },
  {
   "cell_type": "code",
   "execution_count": 32,
   "metadata": {},
   "outputs": [],
   "source": [
    "# suponemos que la recta no es completamente vertical\n",
    "def recta(p,q):\n",
    "    x1,y1 = p\n",
    "    x2,y2 = q\n",
    "    A = np.array([[x1,1],\n",
    "                  [x2,1]])\n",
    "    B = y1,y2\n",
    "    \n",
    "    m,b = np.linalg.solve(A,B)\n",
    "    \n",
    "    return m,-1,b"
   ]
  },
  {
   "cell_type": "code",
   "execution_count": 33,
   "metadata": {},
   "outputs": [
    {
     "data": {
      "text/plain": [
       "(0.25, -1, 2.75)"
      ]
     },
     "execution_count": 33,
     "metadata": {},
     "output_type": "execute_result"
    }
   ],
   "source": [
    "R = (1,3)\n",
    "S = (5,4)\n",
    "\n",
    "l = recta(R,S)\n",
    "\n",
    "l"
   ]
  },
  {
   "cell_type": "code",
   "execution_count": 34,
   "metadata": {},
   "outputs": [
    {
     "data": {
      "text/plain": [
       "(0.0, 0.0)"
      ]
     },
     "execution_count": 34,
     "metadata": {},
     "output_type": "execute_result"
    }
   ],
   "source": [
    "l @ np.append(R,1), l @ np.append(S,1)"
   ]
  },
  {
   "cell_type": "markdown",
   "metadata": {},
   "source": [
    "Hay que añadir una condición para resolver el caso vertical. (En realidad hay una forma más general de hacer esto utilizando coordenadas homogéneas...)"
   ]
  },
  {
   "cell_type": "markdown",
   "metadata": {},
   "source": [
    "<hr style=\"height:2px\">\n",
    "\n",
    "**14**) Escribe una función para calcular el punto de intersección de dos rectas con coeficientes $l=(a,b,c)$ y  $l'=(a',b',c')$."
   ]
  },
  {
   "cell_type": "markdown",
   "metadata": {},
   "source": [
    "<hr style=\"height:2px\">\n",
    "\n",
    "**15**) Escribe una función para ordenar un array de enteros de menor a mayor."
   ]
  },
  {
   "cell_type": "markdown",
   "metadata": {},
   "source": [
    "<hr style=\"height:2px\">\n",
    "\n",
    "**16)** Un polinomio $p(x)$ de grado $n$ se puede representar mediante un vector de coeficientes de dimensión $n+1$. Escribe funciones para: **a)** calcular (los coeficientes de) la derivada del polinomio. **b)** calcular (los coeficientes de) la integral del polinomio. **c)** evaluar un polinomio en un valor concreto de $x$. **d)** multiplicar dos polinomios."
   ]
  }
 ],
 "metadata": {
  "hide_input": false,
  "kernelspec": {
   "display_name": "Python 3",
   "language": "python",
   "name": "python3"
  },
  "language_info": {
   "codemirror_mode": {
    "name": "ipython",
    "version": 3
   },
   "file_extension": ".py",
   "mimetype": "text/x-python",
   "name": "python",
   "nbconvert_exporter": "python",
   "pygments_lexer": "ipython3",
   "version": "3.6.4"
  },
  "varInspector": {
   "cols": {
    "lenName": 16,
    "lenType": 16,
    "lenVar": 40
   },
   "kernels_config": {
    "python": {
     "delete_cmd_postfix": "",
     "delete_cmd_prefix": "del ",
     "library": "var_list.py",
     "varRefreshCmd": "print(var_dic_list())"
    },
    "r": {
     "delete_cmd_postfix": ") ",
     "delete_cmd_prefix": "rm(",
     "library": "var_list.r",
     "varRefreshCmd": "cat(var_dic_list()) "
    }
   },
   "types_to_exclude": [
    "module",
    "function",
    "builtin_function_or_method",
    "instance",
    "_Feature"
   ],
   "window_display": false
  }
 },
 "nbformat": 4,
 "nbformat_minor": 2
}
