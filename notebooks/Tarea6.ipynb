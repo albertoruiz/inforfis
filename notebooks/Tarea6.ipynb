{
 "cells": [
  {
   "cell_type": "markdown",
   "metadata": {},
   "source": [
    "# Tarea 6\n",
    "\n",
    "Nombre:  **Nombre Apellido Apellido** \n",
    "\n",
    "x/10/2020"
   ]
  },
  {
   "cell_type": "markdown",
   "metadata": {},
   "source": [
    "## Repaso"
   ]
  },
  {
   "cell_type": "markdown",
   "metadata": {},
   "source": [
    "Estudia detenidamente el capítulo de arrays (notebook [numpy.ipynb](numpy.ipynb)). (Los apartados con asterisco pueden saltarse en una primera lectura.) En [este notebook](dist.ipynb) se hay otro breve repaso."
   ]
  },
  {
   "cell_type": "markdown",
   "metadata": {},
   "source": [
    "## Ejercicios"
   ]
  },
  {
   "cell_type": "markdown",
   "metadata": {},
   "source": [
    "Resuelve los siguientes ejercicios, usando únicamente los conceptos explicados en clase hasta ahora."
   ]
  },
  {
   "cell_type": "markdown",
   "metadata": {},
   "source": [
    "**1**) Resuelve el sistema:\n",
    "\n",
    "$$ \n",
    "\\begin{align*}\n",
    "x + 2y + 5z + 4w&= 24\\\\\n",
    "y-z  &= 1 \\\\\n",
    "2x+2y &= 6 \\\\\n",
    "-x+2y+3w &= 15\n",
    "\\end{align*}\n",
    "$$"
   ]
  },
  {
   "cell_type": "markdown",
   "metadata": {},
   "source": [
    "**2**) Resuelve el sistema de ecuaciones lineales $Ax=b$ cuya matriz de coeficientes $A$ y vector $b$ están almacenados en un fichero de texto plano situado en  http://robot.inf.um.es/material/datos-SL.txt que puedes leer con `np.loadtxt`. En este fichero hay un array de dimensiones 10x11.  Las 10 primeras columnas contienen los elementos de $A$ y la última columna es $b$."
   ]
  },
  {
   "cell_type": "markdown",
   "metadata": {},
   "source": [
    "**3**) Define una función para calcular la letra del DNI ([aquí explican la forma de hacerlo](http://www.cespedes.org/dni2nif/))."
   ]
  },
  {
   "cell_type": "markdown",
   "metadata": {},
   "source": [
    "**4**) Escribe una función para calcular la desviación típica de un conjunto de números apoyándote en `np.mean`."
   ]
  },
  {
   "cell_type": "markdown",
   "metadata": {},
   "source": [
    "**5**) Define una función que encuentre el segundo mayor elemento de un array de enteros. (Por ejemplo, si llamamos `segun` a la función pedida, y `x = np.array( [1, 3, 2, 10, -5, 8, 3] )`, entonces `segun(x)` debe responder `8`."
   ]
  },
  {
   "cell_type": "markdown",
   "metadata": {},
   "source": [
    "**6**) A partir de los datos experimentales contenidos en `datos/hubble.txt` calcula el valor medio de redshift de las observaciones con velocidad < 5000 Km/s. (El archivo está en la subcarpeta datos de estos apuntes y la forma de leer estos datos está explicada en el notebook numpy.ipybn.)"
   ]
  },
  {
   "cell_type": "markdown",
   "metadata": {},
   "source": [
    "**7**) Escribe una función que admita un array 2D $m$ y un escalar $s$ y extraiga las columnas de $m$ cuya suma sea mayor de un cierto $s$ dado."
   ]
  },
  {
   "cell_type": "markdown",
   "metadata": {},
   "source": [
    "**8)** Genera $n$ números aleatorios normales y compara gráficamente su histograma con la densidad de probabilidad real."
   ]
  },
  {
   "cell_type": "markdown",
   "metadata": {},
   "source": [
    "**9**) Simula el lanzamiento de 5 dados mil veces, y comprueba gráficamente que la distribución de resultados de la puntuación total es aproximadamente normal."
   ]
  },
  {
   "cell_type": "markdown",
   "metadata": {},
   "source": [
    "**10)** Determina mediante simulación qué suceso es más probable: **a)** obtener al menos un seis al lanzar 6 dados, **b)** obtener al menos 2 seises al lanzar 12 dados. **c)** obtener al menos 3 seises al lanzar 18 dados. ([Problema de Newton-Pepys](https://en.wikipedia.org/wiki/Newton%E2%80%93Pepys_problem).)"
   ]
  },
  {
   "cell_type": "code",
   "execution_count": 3,
   "metadata": {},
   "outputs": [
    {
     "data": {
      "text/plain": [
       "array([1, 0, 2])"
      ]
     },
     "execution_count": 3,
     "metadata": {},
     "output_type": "execute_result"
    }
   ],
   "source": [
    "# para cada experimento, con np.random.randint puedes generar una matriz\n",
    "# de n filas (número de repeticiones) y d columnas (número de dados)\n",
    "\n",
    "# Una pista:\n",
    "\n",
    "m = np.array([[2,3,4],\n",
    "              [1,2,5],\n",
    "              [3,3,1]])\n",
    "\n",
    "np.sum(m==3, axis=1)"
   ]
  },
  {
   "cell_type": "markdown",
   "metadata": {},
   "source": [
    "**11**) Escribe una función para calcular la distancia entre dos puntos de $\\mathbb R^n$."
   ]
  },
  {
   "cell_type": "markdown",
   "metadata": {},
   "source": [
    "**12**) Escribe una función para calcular el [producto vectorial](http://en.wikipedia.org/wiki/Cross_product) de dos vectores."
   ]
  },
  {
   "cell_type": "markdown",
   "metadata": {},
   "source": [
    "**13**) Escribe una función para calcular los coeficientes $l=(a,b,c)$, de la ecuación de la recta $ax+by+c=0$ que pasa por dos puntos $P=(x_1,y_1)$, $Q=(x_2,y_2)$ dados."
   ]
  },
  {
   "cell_type": "markdown",
   "metadata": {},
   "source": [
    "**14**) Escribe una función para calcular el punto de intersección de dos rectas con coeficientes $l=(a,b,c)$ y  $l'=(a',b',c')$."
   ]
  },
  {
   "cell_type": "markdown",
   "metadata": {},
   "source": [
    "**15**) Escribe una función para ordenar un array de enteros de menor a mayor."
   ]
  },
  {
   "cell_type": "markdown",
   "metadata": {},
   "source": [
    "**16)** Un polinomio $p(x)$ de grado $n$ se puede representar mediante un vector de coeficientes de dimensión $n+1$. Escribe funciones para: **a)** calcular (los coeficientes de) la derivada del polinomio. **b)** calcular (los coeficientes de) la integral del polinomio. **c)** evaluar un polinomio en un valor concreto de $x$. **d)** multiplicar dos polinomios."
   ]
  }
 ],
 "metadata": {
  "hide_input": false,
  "kernelspec": {
   "display_name": "Python 3",
   "language": "python",
   "name": "python3"
  },
  "language_info": {
   "codemirror_mode": {
    "name": "ipython",
    "version": 3
   },
   "file_extension": ".py",
   "mimetype": "text/x-python",
   "name": "python",
   "nbconvert_exporter": "python",
   "pygments_lexer": "ipython3",
   "version": "3.6.4"
  },
  "varInspector": {
   "cols": {
    "lenName": 16,
    "lenType": 16,
    "lenVar": 40
   },
   "kernels_config": {
    "python": {
     "delete_cmd_postfix": "",
     "delete_cmd_prefix": "del ",
     "library": "var_list.py",
     "varRefreshCmd": "print(var_dic_list())"
    },
    "r": {
     "delete_cmd_postfix": ") ",
     "delete_cmd_prefix": "rm(",
     "library": "var_list.r",
     "varRefreshCmd": "cat(var_dic_list()) "
    }
   },
   "types_to_exclude": [
    "module",
    "function",
    "builtin_function_or_method",
    "instance",
    "_Feature"
   ],
   "window_display": false
  }
 },
 "nbformat": 4,
 "nbformat_minor": 2
}
