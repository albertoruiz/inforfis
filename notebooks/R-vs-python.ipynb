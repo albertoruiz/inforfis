{
 "cells": [
  {
   "cell_type": "markdown",
   "metadata": {},
   "source": [
    "Informática - 1º de Física\n",
    "<br>\n",
    "**Computación Científica**\n",
    "<br>\n",
    "<p style=\"color:#808080\"> <small><small>\n",
    "23/11/2018\n",
    "</small></small></p>"
   ]
  },
  {
   "cell_type": "markdown",
   "metadata": {},
   "source": [
    "# Python - R"
   ]
  },
  {
   "cell_type": "markdown",
   "metadata": {},
   "source": [
    "En la siguiente tabla se compara la sintaxis de las construcciones de programación básicas en Python y R."
   ]
  },
  {
   "cell_type": "markdown",
   "metadata": {},
   "source": [
    "    PYTHON                       R\n",
    "    -------------------------------------------------\n",
    "\n",
    "    x = 3                        x <- 3\n",
    "    \n",
    "    True, False                  T, F\n",
    "                                 TRUE, FALSE\n",
    "    \n",
    "    **                           ^\n",
    "    //                           %/%\n",
    "    %                            %%\n",
    "    @                            %*%\n",
    "    \n",
    "    \n",
    "    v = [2,3,4]\n",
    "    v = np.array([2,3,4])        v <- c(2,3,4)\n",
    "    \n",
    "    z = 2+3j                     z <- 2+3i\n",
    "    \n",
    "                                 1:5\n",
    "    range(5)                     seq(5)\n",
    "        0,1,2,3,4                    1,2,3,4,5\n",
    "        \n",
    "    np.arange(4,7,0.5)           seq(4,7,by=0.5)\n",
    "        4 4.5 5 5.5 6 6.5            4 4.5 5 5.5 6 6.5 7\n",
    "        \n",
    "    np.linspace(2,3,11)          seq(2,3,length=11)\n",
    "                     2 2.1 2.2 ... 2.9 3\n",
    "    \n",
    "    \n",
    "    m = np.array( [[1,2,3],      m <- matrix( c(1,2,3,\n",
    "                   [4,5,6]] )                   4,5,6), 2, 3, byrow=T)\n",
    "                   \n",
    "    m.shape                      nrow(m), ncol(m), dim(m)\n",
    "    \n",
    "    m.T                          t(m)\n",
    "    \n",
    "    hstack, vstack               cbind, rbind\n",
    "    \n",
    "    np.linalg.solve              solve\n",
    "    \n",
    "    m[:,2]                       m[,3]\n",
    "    \n",
    "    np.random.randn             rnorm\n",
    "    np.random.rand              runif\n",
    "    np.random.randint           sample(1:6, 10, replace=T)\n",
    "    \n",
    "    if cond:                     if (cond) {\n",
    "        B1                           B1\n",
    "    else:                        } else {\n",
    "        B2                           B2\n",
    "                                 }\n",
    "                                 \n",
    "    while cond:                  while (cond) {\n",
    "        B                            B\n",
    "                                 }\n",
    "                                 \n",
    "    for k in s:                 for (k in s) {\n",
    "        B                            B\n",
    "                                 }\n",
    "                                 \n",
    "    def fun(x,y):               fun <- function(x,y) {\n",
    "        B                           B\n",
    "        return v                    v\n",
    "                                 }\n",
    "                                 \n",
    "    global x                    x <<- 3\n",
    "    x = 3\n",
    "    \n",
    "    {'a': 3, b: '4'}            list(a=3, b=4)\n",
    "    \n",
    "    [ f(x) for x in s if p(x) ] sapply( Filter(p, s) ,f)\n"
   ]
  }
 ],
 "metadata": {
  "hide_input": false,
  "kernelspec": {
   "display_name": "Python 3",
   "language": "python",
   "name": "python3"
  },
  "language_info": {
   "codemirror_mode": {
    "name": "ipython",
    "version": 3
   },
   "file_extension": ".py",
   "mimetype": "text/x-python",
   "name": "python",
   "nbconvert_exporter": "python",
   "pygments_lexer": "ipython3",
   "version": "3.6.3"
  },
  "varInspector": {
   "cols": {
    "lenName": 16,
    "lenType": 16,
    "lenVar": 40
   },
   "kernels_config": {
    "python": {
     "delete_cmd_postfix": "",
     "delete_cmd_prefix": "del ",
     "library": "var_list.py",
     "varRefreshCmd": "print(var_dic_list())"
    },
    "r": {
     "delete_cmd_postfix": ") ",
     "delete_cmd_prefix": "rm(",
     "library": "var_list.r",
     "varRefreshCmd": "cat(var_dic_list()) "
    }
   },
   "types_to_exclude": [
    "module",
    "function",
    "builtin_function_or_method",
    "instance",
    "_Feature"
   ],
   "window_display": false
  }
 },
 "nbformat": 4,
 "nbformat_minor": 2
}
