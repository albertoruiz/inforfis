{
 "cells": [
  {
   "cell_type": "markdown",
   "metadata": {},
   "source": [
    "Informática - 1º de Física\n",
    "<br>\n",
    "**Introducción a la Programación**\n",
    "<br>\n",
    "<p style=\"color:#808080\"> <small><small>\n",
    "28/1/2019\n",
    "</small></small></p>"
   ]
  },
  {
   "cell_type": "markdown",
   "metadata": {},
   "source": [
    "# Ejercicios resueltos"
   ]
  },
  {
   "cell_type": "markdown",
   "metadata": {},
   "source": [
    "Los pasos a seguir para resolver un ejercicio de programación son los siguientes:\n",
    "\n",
    "- **Lee detenidamente** el enunciado, tratando de entender perfectamente lo que se pide. En caso de duda, opta por la interpretación más simple. Las soluciones correctas suelen requerir muy pocas líneas de código.\n",
    "\n",
    "\n",
    "- Expresa con tus propias palabras el objetivo a conseguir y explica brevemente cómo vas a estructurar la solución.\n",
    "\n",
    "\n",
    "- Prepara dos o tres **casos de prueba** sencillos, cuyo resultado es conocido, y escribe el programa que los pone a prueba, suponiendo que ya estuviera escrita la solución.\n",
    "\n",
    "\n",
    "- Finalmente, escribe el código de las funciones requeridas, incluyendo breves comentarios sobre la tarea que tratan de resolver. En principio busca una solución correcta aunque el método de resolución utilizado no te guste mucho.\n",
    "\n",
    "\n",
    "- Comprueba que se obtiene el resultado esperado en los casos de prueba.\n",
    "\n",
    "\n",
    "Si tienes tiempo:\n",
    "\n",
    "\n",
    "- Si la solución te parece poco elegante o es muy  ineficiente intenta simplificarla.\n",
    "\n",
    "\n",
    "- Comprueba que produce errores comprensibles cuando los datos de entrada son incorrectos."
   ]
  },
  {
   "cell_type": "markdown",
   "metadata": {},
   "source": [
    "A veces presentamos varias soluciones para explicar ciertos conceptos de programación, pero en los exámenes es suficiente con una."
   ]
  },
  {
   "cell_type": "markdown",
   "metadata": {
    "heading_collapsed": true
   },
   "source": [
    "## 1)\n",
    "\n",
    "<span style=\"color:darkblue\">Resuelve el sistema:</span>\n",
    "\n",
    "$$ \n",
    "\\begin{align*}\n",
    "x + 2y + 5z + 4w&= 24\\\\\n",
    "y-z  &= 1 \\\\\n",
    "2x+2y &= 6 \\\\\n",
    "-x+2y+3w &= 15\n",
    "\\end{align*}\n",
    "$$\n"
   ]
  },
  {
   "cell_type": "markdown",
   "metadata": {
    "hidden": true
   },
   "source": [
    "Simplemente hay que crear la matriz de coeficientes y el término independiente y aplicar la función `numpy.linalg.solve`."
   ]
  },
  {
   "cell_type": "code",
   "execution_count": 16,
   "metadata": {
    "collapsed": true,
    "hidden": true
   },
   "outputs": [],
   "source": [
    "import numpy as np\n",
    "\n",
    "A = np.array([[1,2,5,4],\n",
    "              [0,1,-1,0],\n",
    "              [2,2,0,0],\n",
    "              [-1,2,0,3]])\n",
    "\n",
    "B = np.array([[24],\n",
    "              [1],\n",
    "              [6],\n",
    "              [15]])"
   ]
  },
  {
   "cell_type": "code",
   "execution_count": 17,
   "metadata": {
    "hidden": true
   },
   "outputs": [
    {
     "data": {
      "text/plain": [
       "array([[  2.00000000e+00],\n",
       "       [  1.00000000e+00],\n",
       "       [ -7.10542736e-16],\n",
       "       [  5.00000000e+00]])"
      ]
     },
     "execution_count": 17,
     "metadata": {},
     "output_type": "execute_result"
    }
   ],
   "source": [
    "X = np.linalg.solve(A,B)\n",
    "X"
   ]
  },
  {
   "cell_type": "markdown",
   "metadata": {
    "hidden": true
   },
   "source": [
    "Siempre es conveniente comprobar que la solución efectivamente resuelve el sistema."
   ]
  },
  {
   "cell_type": "code",
   "execution_count": 18,
   "metadata": {
    "hidden": true
   },
   "outputs": [
    {
     "data": {
      "text/plain": [
       "array([[ 24.],\n",
       "       [  1.],\n",
       "       [  6.],\n",
       "       [ 15.]])"
      ]
     },
     "execution_count": 18,
     "metadata": {},
     "output_type": "execute_result"
    }
   ],
   "source": [
    "A @ X"
   ]
  },
  {
   "cell_type": "markdown",
   "metadata": {
    "heading_collapsed": true
   },
   "source": [
    "## 2)\n",
    "\n",
    " <span style=\"color:darkblue\">Escribe una función para comprobar si todos los elementos de una lista son iguales.</span>"
   ]
  },
  {
   "cell_type": "markdown",
   "metadata": {
    "hidden": true
   },
   "source": [
    "Esto puede hacerse de muchas formas. Una posibilidad es usar un bucle (línea 2)  para recorrer los elementos y ver si cada uno es diferente del anterior (línea 3). Si esto ocurre alguna vez sabremos seguro que la respuesta es negativa, por lo que terminamos de forma anticipada el bucle haciendo que la función responda `False` (línea 4). Si no encontramos ninguna diferencia, una vez terminado el bucle la función responde `True` (línea 5)."
   ]
  },
  {
   "cell_type": "code",
   "execution_count": 20,
   "metadata": {
    "hidden": true
   },
   "outputs": [
    {
     "name": "stdout",
     "output_type": "stream",
     "text": [
      "True\n",
      "False\n"
     ]
    }
   ],
   "source": [
    "def todosiguales(x):\n",
    "    for k in range(1,len(x)):\n",
    "        if x[k] != x[k-1]:\n",
    "            return False\n",
    "    return True\n",
    "\n",
    "print(todosiguales([3,3,3,3,3,3,3]))\n",
    "print(todosiguales([3,3,3,2,3,3,3]))"
   ]
  },
  {
   "cell_type": "markdown",
   "metadata": {
    "hidden": true
   },
   "source": [
    "Se recorren los índices desde k=1 (el segundo elemento) hasta el último (línea 2). Si empezamos por el primero (k=0) la primera comparación fallaría porque no hay un elemento anterior."
   ]
  },
  {
   "cell_type": "markdown",
   "metadata": {
    "hidden": true
   },
   "source": [
    "Otra forma de hacerlo es comparar todos los elementos con el primero:"
   ]
  },
  {
   "cell_type": "code",
   "execution_count": 21,
   "metadata": {
    "hidden": true
   },
   "outputs": [
    {
     "name": "stdout",
     "output_type": "stream",
     "text": [
      "True\n",
      "False\n"
     ]
    }
   ],
   "source": [
    "def todosiguales(x):\n",
    "    a = x[0]\n",
    "    for e in x:\n",
    "        if e != a:\n",
    "            return False\n",
    "    return True\n",
    "\n",
    "print(todosiguales([3,3,3,3,3,3,3]))\n",
    "print(todosiguales([3,3,3,2,3,3,3]))"
   ]
  },
  {
   "cell_type": "markdown",
   "metadata": {
    "hidden": true
   },
   "source": [
    "Otra forma más directa de hacerlo, sin necesidad de bucles, es utilizar `numpy`. Primero convertimos el argumento de la función en un array para que las operaciones se apliquen a todos los elementos de forma automática. Luego comparamos todos los elementos con el primero en una única instrucción, y mediante `all` averiguamos si todos los elementos del vector lógico obtenido son verdaderos."
   ]
  },
  {
   "cell_type": "code",
   "execution_count": 22,
   "metadata": {
    "hidden": true
   },
   "outputs": [
    {
     "name": "stdout",
     "output_type": "stream",
     "text": [
      "True\n",
      "False\n"
     ]
    }
   ],
   "source": [
    "import numpy as np\n",
    "\n",
    "def todosiguales(x):\n",
    "    a = np.array(x)\n",
    "    return all(a == a[0])\n",
    "\n",
    "print(todosiguales([3,3,3,3,3,3,3]))\n",
    "print(todosiguales([3,3,3,2,3,3,3]))"
   ]
  },
  {
   "cell_type": "markdown",
   "metadata": {
    "hidden": true
   },
   "source": [
    "Estas dos últimas soluciones fallarían con una lista vacía."
   ]
  },
  {
   "cell_type": "markdown",
   "metadata": {
    "heading_collapsed": true
   },
   "source": [
    "## 3)\n",
    "\n",
    " <span style=\"color:darkblue\">Escribe una función para calcular el segundo mayor elemento de una lista.</span>"
   ]
  },
  {
   "cell_type": "markdown",
   "metadata": {
    "hidden": true
   },
   "source": [
    "Este ejercicio es muy simple si nos apoyamos en la función `max` disponible en Python."
   ]
  },
  {
   "cell_type": "code",
   "execution_count": 28,
   "metadata": {
    "hidden": true
   },
   "outputs": [
    {
     "data": {
      "text/plain": [
       "30"
      ]
     },
     "execution_count": 28,
     "metadata": {},
     "output_type": "execute_result"
    }
   ],
   "source": [
    "max([2,3,-5,11,6,30,2])"
   ]
  },
  {
   "cell_type": "code",
   "execution_count": 29,
   "metadata": {
    "hidden": true
   },
   "outputs": [
    {
     "name": "stdout",
     "output_type": "stream",
     "text": [
      "11\n"
     ]
    }
   ],
   "source": [
    "def max2(x):\n",
    "    m = max(x)\n",
    "    m2 = max([e for e in x if e != m])\n",
    "    return m2\n",
    "\n",
    "print(max2([2,3,-5,11,6,30,2]))"
   ]
  },
  {
   "cell_type": "markdown",
   "metadata": {
    "hidden": true
   },
   "source": [
    "Si no tuviéramos la función `max` la podríamos definir nosotros fácilmente. La idea es recorrer los elementos y cada vez que encontremos uno mayor que el máximo encontrado hasta ahora, lo \"actualizamos\"."
   ]
  },
  {
   "cell_type": "code",
   "execution_count": 33,
   "metadata": {
    "hidden": true
   },
   "outputs": [
    {
     "data": {
      "text/plain": [
       "10"
      ]
     },
     "execution_count": 33,
     "metadata": {},
     "output_type": "execute_result"
    }
   ],
   "source": [
    "def mimax(x):\n",
    "    r = x[0]\n",
    "    for e in x:\n",
    "        if e > r:\n",
    "            r = e\n",
    "    return r\n",
    "\n",
    "mimax([2,3,10,-5,8])"
   ]
  },
  {
   "cell_type": "markdown",
   "metadata": {
    "hidden": true
   },
   "source": [
    "Esta solución puede trasladarse directamente a cualquier lenguaje.\n",
    "\n",
    "En Python la función pedida puede simplificarse mucho ya que disponemos de conjuntos y de la función `sorted`, para ordenar un contenedor. Podemos convertir la lista en un conjunto y ordenar los elementos (ya que los conjunto en Python no tienen por qué estar ordenados). El resultado es el penúltimo elemento, al que puede accederse con un índice negativo."
   ]
  },
  {
   "cell_type": "code",
   "execution_count": 35,
   "metadata": {
    "hidden": true
   },
   "outputs": [
    {
     "name": "stdout",
     "output_type": "stream",
     "text": [
      "11\n"
     ]
    }
   ],
   "source": [
    "def max2(x):\n",
    "    s = sorted(set(x))\n",
    "    return s[-2]\n",
    "\n",
    "print(max2([2,3,-5,11,6,30,2]))"
   ]
  },
  {
   "cell_type": "markdown",
   "metadata": {
    "heading_collapsed": true
   },
   "source": [
    "## 4)\n",
    "\n",
    "<span style=\"color:darkblue\">Calcula</span>\n",
    "\n",
    "$$ S = \\sum_{k=1}^{30} (3k^5-8k^2) $$"
   ]
  },
  {
   "cell_type": "markdown",
   "metadata": {
    "hidden": true
   },
   "source": [
    "Lo más directo es usar una *list comprehension*:"
   ]
  },
  {
   "cell_type": "code",
   "execution_count": 36,
   "metadata": {
    "hidden": true
   },
   "outputs": [
    {
     "data": {
      "text/plain": [
       "401886635"
      ]
     },
     "execution_count": 36,
     "metadata": {},
     "output_type": "execute_result"
    }
   ],
   "source": [
    "S = sum([3*k**5-8*k**2 for k in range(1,30+1)])\n",
    "S"
   ]
  },
  {
   "cell_type": "markdown",
   "metadata": {
    "hidden": true
   },
   "source": [
    "Y también es muy simple un bucle acumulador:"
   ]
  },
  {
   "cell_type": "code",
   "execution_count": 37,
   "metadata": {
    "hidden": true
   },
   "outputs": [
    {
     "data": {
      "text/plain": [
       "401886635"
      ]
     },
     "execution_count": 37,
     "metadata": {},
     "output_type": "execute_result"
    }
   ],
   "source": [
    "S = 0\n",
    "for k in range(1,30+1):\n",
    "    S += 3*k**5-8*k**2\n",
    "\n",
    "S"
   ]
  },
  {
   "cell_type": "markdown",
   "metadata": {
    "heading_collapsed": true
   },
   "source": [
    "## 5)\n",
    "\n",
    "<span style=\"color:darkblue\"> Escribe una función para calcular la aproximación de Stirling a la función factorial y calcula el error relativo que consigue para $ 1 \\leq n \\leq 15$. </span>\n",
    "\n",
    "$$n! \\simeq \\sqrt{2\\pi n} \\,\\left( \\frac{n}{e}\\right)^n $$\n"
   ]
  },
  {
   "cell_type": "markdown",
   "metadata": {
    "hidden": true
   },
   "source": [
    "Lo más sencillo es definir una función para el factorial exacto y otra para la aproximación."
   ]
  },
  {
   "cell_type": "code",
   "execution_count": 1,
   "metadata": {
    "collapsed": true,
    "hidden": true
   },
   "outputs": [],
   "source": [
    "from math import pi, exp, sqrt, e\n",
    "\n",
    "def fact(n):\n",
    "    p = 1\n",
    "    for k in range(1, n+1):\n",
    "        p*=k\n",
    "    return p\n",
    "\n",
    "def stirling(n):\n",
    "    return sqrt(2*pi*n)*(n/e)**n"
   ]
  },
  {
   "cell_type": "markdown",
   "metadata": {
    "hidden": true
   },
   "source": [
    "Con un bucle mostramos la información que nos piden."
   ]
  },
  {
   "cell_type": "code",
   "execution_count": 4,
   "metadata": {
    "hidden": true
   },
   "outputs": [
    {
     "name": "stdout",
     "output_type": "stream",
     "text": [
      " 1  7.79%   1  0.9 \n",
      " 2  4.05%   2  1.9 \n",
      " 3  2.73%   6  5.8 \n",
      " 4  2.06%   24  23.5 \n",
      " 5  1.65%   120  118.0 \n",
      " 6  1.38%   720  710.1 \n",
      " 7  1.18%   5040  4980.4 \n",
      " 8  1.04%   40320  39902.4 \n",
      " 9  0.92%   362880  359536.9 \n",
      "10  0.83%   3628800  3598695.6 \n",
      "11  0.75%   39916800  39615625.1 \n",
      "12  0.69%   479001600  475687486.5 \n",
      "13  0.64%   6227020800  6187239475.2 \n",
      "14  0.59%   87178291200  86661001740.6 \n",
      "15  0.55%   1307674368000  1300430722199.5 \n"
     ]
    }
   ],
   "source": [
    "for k in range(1,15+1):\n",
    "    a = fact(k)\n",
    "    b = stirling(k)\n",
    "    err = 100*abs(a-b)/a\n",
    "    print('{:2}  {:.2f}%   {}  {:.1f} '.format(k,err,a,b))"
   ]
  },
  {
   "cell_type": "markdown",
   "metadata": {
    "heading_collapsed": true
   },
   "source": [
    "## 6)\n",
    "\n",
    "<span style=\"color:darkblue\">Comprueba para unos cuantos valores de $n$ la siguiente igualdad:</span>\n",
    "\n",
    "$$\\sum_{k=1}^n k^3  = \\left(\\sum_{k=1}^n k\\right)^2$$"
   ]
  },
  {
   "cell_type": "markdown",
   "metadata": {
    "hidden": true
   },
   "source": [
    "Este ejercicio es esencialmente idéntico al siguiente."
   ]
  },
  {
   "cell_type": "markdown",
   "metadata": {
    "heading_collapsed": true
   },
   "source": [
    "## 7)\n",
    "\n",
    "<span style=\"color:darkblue\">Define en Python la siguiente función:</span>\n",
    "\n",
    "$$ s(p,n) = \\sum_{k=1}^n k^p $$\n",
    "\n",
    "<span style=\"color:darkblue\">y comprueba la igualdad $\\;s(1,n)\\,^2= s(3,n)\\;$ para $ 1 \\leq  n \\leq 100 $</span>"
   ]
  },
  {
   "cell_type": "markdown",
   "metadata": {
    "hidden": true
   },
   "source": [
    "Lo más sencillo es usar la forma más avanzada de construir listas de Python:"
   ]
  },
  {
   "cell_type": "code",
   "execution_count": 1,
   "metadata": {
    "hidden": true
   },
   "outputs": [],
   "source": [
    "def s(p,n):\n",
    "    return sum( [k**p for k in range(1,n+1)] )"
   ]
  },
  {
   "cell_type": "markdown",
   "metadata": {
    "hidden": true
   },
   "source": [
    "Aunque también se puede definir de la forma tradicional con un acumulador:"
   ]
  },
  {
   "cell_type": "code",
   "execution_count": 2,
   "metadata": {
    "hidden": true
   },
   "outputs": [],
   "source": [
    "def s(p,n):\n",
    "    suma = 0\n",
    "    for k in range(1,n+1):\n",
    "        suma += k**p\n",
    "    return suma"
   ]
  },
  {
   "cell_type": "markdown",
   "metadata": {
    "hidden": true
   },
   "source": [
    "Luego comprobamos el rango de valores deseado en un bucle. Primero vemos que no hay errores con unos cuantos casos:"
   ]
  },
  {
   "cell_type": "code",
   "execution_count": 3,
   "metadata": {
    "hidden": true
   },
   "outputs": [
    {
     "name": "stdout",
     "output_type": "stream",
     "text": [
      "True\n",
      "True\n",
      "True\n",
      "True\n",
      "True\n",
      "True\n",
      "True\n",
      "True\n",
      "True\n"
     ]
    }
   ],
   "source": [
    "for n in range(1,10):\n",
    "    print( s(3,n) == s(1,n)**2 )"
   ]
  },
  {
   "cell_type": "markdown",
   "metadata": {
    "hidden": true
   },
   "source": [
    "Para comprobar un conjunto grande es preferible imprimir solo los casos de fallo. No debería haber ninguno."
   ]
  },
  {
   "cell_type": "code",
   "execution_count": 4,
   "metadata": {
    "hidden": true
   },
   "outputs": [],
   "source": [
    "for n in range(1,100+1):\n",
    "    if s(3,n) != s(1,n)**2:\n",
    "        print('no se cumple para n = ',n)"
   ]
  },
  {
   "cell_type": "markdown",
   "metadata": {
    "hidden": true
   },
   "source": [
    "Otra posibilidad es crear una lista con todas las comparaciones y comprobar si todos sus elementos son verdaderos:"
   ]
  },
  {
   "cell_type": "code",
   "execution_count": 5,
   "metadata": {
    "hidden": true
   },
   "outputs": [
    {
     "data": {
      "text/plain": [
       "True"
      ]
     },
     "execution_count": 5,
     "metadata": {},
     "output_type": "execute_result"
    }
   ],
   "source": [
    "all( [s(3,n) == s(1,n)**2  for n in range(1,101)] )"
   ]
  },
  {
   "cell_type": "markdown",
   "metadata": {
    "heading_collapsed": true
   },
   "source": [
    "## 8)\n",
    "\n",
    "<span style=\"color:darkblue\">Escribe una función `nzeros(v,n)` para determinar si un vector de enteros `v` contiene exactamente `n` ceros. Por ejemplo:</span>\n",
    "\n",
    "    nzeros( [5,0,2,7] , 2 )         --> False\n",
    "    nzeros( [1,0,0,-3,0,8,12] , 3 ) --> True"
   ]
  },
  {
   "cell_type": "markdown",
   "metadata": {
    "hidden": true
   },
   "source": [
    "Esto se puede hacer de muchas formas. La primera de ellas usa los elementos de programación más básicos. Las demás aprovechan características más avanzadas de Python."
   ]
  },
  {
   "cell_type": "code",
   "execution_count": 1,
   "metadata": {
    "hidden": true
   },
   "outputs": [],
   "source": [
    "def nzeros(v,n):\n",
    "    z = 0\n",
    "    for x in v:\n",
    "        if x==0:\n",
    "            z += 1\n",
    "    return z==n\n",
    "\n",
    "\n",
    "def nzeros(v,n):\n",
    "    import numpy as np\n",
    "    return sum(np.array(v) == 0) == n\n",
    "\n",
    "\n",
    "def nzeros(v,n):\n",
    "    return v.count(0) == n\n",
    "\n",
    "\n",
    "def nzeros(v,n):\n",
    "    from collections import Counter\n",
    "    return Counter(v)[0] == n"
   ]
  },
  {
   "cell_type": "markdown",
   "metadata": {
    "hidden": true
   },
   "source": [
    "Con cualquiera de ellas el resultado es el mismo:"
   ]
  },
  {
   "cell_type": "code",
   "execution_count": 2,
   "metadata": {
    "hidden": true
   },
   "outputs": [
    {
     "data": {
      "text/plain": [
       "(False, True)"
      ]
     },
     "execution_count": 2,
     "metadata": {},
     "output_type": "execute_result"
    }
   ],
   "source": [
    "nzeros( [5,0,2,7] , 2 )  , nzeros([1,0,0,-3,0,8,12] , 3 ) "
   ]
  },
  {
   "cell_type": "markdown",
   "metadata": {
    "heading_collapsed": true
   },
   "source": [
    "## 9)\n",
    "\n",
    "<span style=\"color:darkblue\">Escribe un programa para encontrar una solución numérica a la ecuación trascendente de Kepler</span>\n",
    "\n",
    "$$E=M+e \\sin(E)$$\n",
    "\n",
    "<span style=\"color:darkblue\">para el caso $M=0.6$ y $e=0.2$.</span>"
   ]
  },
  {
   "cell_type": "markdown",
   "metadata": {
    "hidden": true
   },
   "source": [
    "Lo más simple es utilizar `fsolve`."
   ]
  },
  {
   "cell_type": "code",
   "execution_count": 22,
   "metadata": {
    "hidden": true
   },
   "outputs": [],
   "source": [
    "from scipy.optimize import fsolve\n",
    "from math import sin\n",
    "import numpy as np"
   ]
  },
  {
   "cell_type": "code",
   "execution_count": 23,
   "metadata": {
    "hidden": true
   },
   "outputs": [
    {
     "data": {
      "text/plain": [
       "array([0.73396359])"
      ]
     },
     "execution_count": 23,
     "metadata": {},
     "output_type": "execute_result"
    }
   ],
   "source": [
    "e = 0.2\n",
    "M = 0.6\n",
    "\n",
    "def f(x):\n",
    "    return -x + M + e*sin(x)\n",
    "\n",
    "x0 = 0.5 # por ejemplo\n",
    "\n",
    "fsolve(f,x0)"
   ]
  },
  {
   "cell_type": "markdown",
   "metadata": {
    "hidden": true
   },
   "source": [
    "También puede resolverse por aproximaciones sucesivas:"
   ]
  },
  {
   "cell_type": "code",
   "execution_count": 3,
   "metadata": {
    "hidden": true
   },
   "outputs": [
    {
     "name": "stdout",
     "output_type": "stream",
     "text": [
      "0.7129284946790071\n",
      "0.7308103662956242\n",
      "0.7334946560386303\n",
      "0.7338939371638594\n",
      "0.7339532468376839\n",
      "0.7339620549428323\n",
      "0.733963362998126\n",
      "0.7339635572511255\n",
      "0.7339635860986845\n",
      "0.7339635903826933\n"
     ]
    }
   ],
   "source": [
    "E = M\n",
    "for _ in range(10):\n",
    "    E = M+e*sin(E)\n",
    "    print(E)"
   ]
  },
  {
   "cell_type": "markdown",
   "metadata": {
    "heading_collapsed": true
   },
   "source": [
    "## 10)\n",
    "\n",
    "<span style=\"color:darkblue\">Escribe una función para calcular el número de pasos que da la sucesión Collatz hasta llegar a 1 partiendo de un número dado.</span>\n",
    "\n",
    "$$ g(n)= \\begin{cases}\n",
    "                n/2,   & \\text{si } n \\text { es par}\\\\\n",
    "                3n+1,  & \\text{si } n \\text { es impar}\n",
    "             \\end{cases} $$\n",
    "\n",
    "<span style=\"color:darkblue\">Por ejemplo, `collatz(3)` $= 7$, ya que partiendo de 3 la secuencia es 10, 5, 16, 8, 4, 2, 1.</span>\n",
    "  "
   ]
  },
  {
   "cell_type": "markdown",
   "metadata": {
    "hidden": true
   },
   "source": [
    "Para simplificar la solución es buena idea definir una función para calcular el elemento siguiente (la función $g$ del enunciado), y luego usarla en la función principal."
   ]
  },
  {
   "cell_type": "code",
   "execution_count": 40,
   "metadata": {
    "hidden": true
   },
   "outputs": [
    {
     "data": {
      "text/plain": [
       "(16, 4)"
      ]
     },
     "execution_count": 40,
     "metadata": {},
     "output_type": "execute_result"
    }
   ],
   "source": [
    "def g(n):\n",
    "    if n%2 == 0:\n",
    "        return n//2\n",
    "    else:\n",
    "        return 3*n+1\n",
    "    \n",
    "g(5), g(8)"
   ]
  },
  {
   "cell_type": "markdown",
   "metadata": {
    "hidden": true
   },
   "source": [
    "Como no sabemos el número de repeticiones necesarias es adecuado usar un bucle `while`."
   ]
  },
  {
   "cell_type": "code",
   "execution_count": 47,
   "metadata": {
    "hidden": true
   },
   "outputs": [
    {
     "data": {
      "text/plain": [
       "(7, 111)"
      ]
     },
     "execution_count": 47,
     "metadata": {},
     "output_type": "execute_result"
    }
   ],
   "source": [
    "def collatz(n):\n",
    "    pasos = 0\n",
    "    while n != 1:\n",
    "        n = g(n)\n",
    "        pasos += 1\n",
    "    return pasos\n",
    "\n",
    "collatz(3), collatz(27)"
   ]
  },
  {
   "cell_type": "markdown",
   "metadata": {
    "hidden": true
   },
   "source": [
    "Se puede añadir un `print(n)` dentro del bucle para comprobar que la secuencia es correcta (y quitarlo, o comentarlo, al final)."
   ]
  },
  {
   "cell_type": "markdown",
   "metadata": {
    "hidden": true
   },
   "source": [
    "---\n",
    "\n",
    "La solución anterior es muy clara y funciona perfectamente, pero es oportuno hacer una observación: el argumento `n` de `collatz` se modifica dentro de la función. Esto es algo que podría ser cuestionable: las funciones deben \"portarse bien\", produciendo un resultado sin modificar las demás variables. En este caso no hay ningún problema, porque los números son objetos inmutables y los cambios realizados son invisibles fuera de la función:"
   ]
  },
  {
   "cell_type": "code",
   "execution_count": 49,
   "metadata": {
    "hidden": true
   },
   "outputs": [
    {
     "name": "stdout",
     "output_type": "stream",
     "text": [
      "26\n",
      "33\n"
     ]
    }
   ],
   "source": [
    "m = 33\n",
    "print(collatz(m))\n",
    "print(m)"
   ]
  },
  {
   "cell_type": "markdown",
   "metadata": {
    "hidden": true
   },
   "source": [
    "Aunque pasamos a la función el nombre `m`, el argumento `n` recibido por la función es su valor, no el nombre. Por tanto `m` sigue teniendo el mismo valor después de la llamada. Los argumentos se comportan como variables locales y los cambios que se hagan dentro de la función no afectan fuera.\n",
    "\n",
    "Pero esto no sería así en el caso de un argumento mutable como por ejemplo una lista o un array. Si añadimos o cambiambos elementos dentro de una función sí se verían afectados. Por eso es mejor acostumbrarse a no modificar los argumentos.\n",
    "\n",
    "No cuesta nada usar una variable local para guardar los sucesivos valores:"
   ]
  },
  {
   "cell_type": "code",
   "execution_count": 50,
   "metadata": {
    "hidden": true
   },
   "outputs": [
    {
     "data": {
      "text/plain": [
       "(7, 111)"
      ]
     },
     "execution_count": 50,
     "metadata": {},
     "output_type": "execute_result"
    }
   ],
   "source": [
    "def collatz(n):\n",
    "    pasos = 0\n",
    "    x = n\n",
    "    while x != 1:\n",
    "        pasos += 1\n",
    "        x = g(x)\n",
    "        #print(x)\n",
    "    return pasos\n",
    "\n",
    "collatz(3), collatz(27)"
   ]
  },
  {
   "cell_type": "markdown",
   "metadata": {
    "hidden": true
   },
   "source": [
    "En realidad es una cuestión de estilo. Si sabemos lo que estamos haciendo no hay problema en aprovechar el argumento como variable local.\n",
    "\n",
    "En otros lenguajes de programación el comportamiento en estos casos puede ser diferente."
   ]
  },
  {
   "cell_type": "markdown",
   "metadata": {
    "heading_collapsed": true
   },
   "source": [
    "## 11)\n",
    "\n",
    "<span style=\"color:darkblue\">Escribe una función `fibo(a,b,n)` para calcular el término n de la sucesión generalizada de Fibonacci definida como</span>\n",
    "\n",
    "$$ f(a,b,n)= \\begin{cases}\n",
    "            a,   & \\text{si } n=0 \\\\\n",
    "            b,   & \\text{si } n=1 \\\\\n",
    "            f(a,b,n-1) + f(a,b,n-2),   & \\text{si } n\\geq 2 \\\\\n",
    "         \\end{cases} $$\n",
    "\n",
    "<span style=\"color:darkblue\">Por ejemplo, `fibo(2,5,4)` $= 19$.</span>"
   ]
  },
  {
   "cell_type": "markdown",
   "metadata": {
    "hidden": true
   },
   "source": [
    "La sucesión empieza con los $a$ y $b$ deseados y luego cada elemento es la suma de los dos anteriores.\n",
    "\n",
    "Una solución recursiva es inmediata, muy parecida a la mostrada en el capítulo de recursión para la sucesión de Fibonacci normal. (No nos preocupamos de comprobar que `n` sea un entero no negativo.)"
   ]
  },
  {
   "cell_type": "code",
   "execution_count": 54,
   "metadata": {
    "hidden": true
   },
   "outputs": [
    {
     "data": {
      "text/plain": [
       "(5, 19)"
      ]
     },
     "execution_count": 54,
     "metadata": {},
     "output_type": "execute_result"
    }
   ],
   "source": [
    "def fibo(a,b,n):\n",
    "    if n==0:\n",
    "        return a\n",
    "    if n==1:\n",
    "        return b    \n",
    "    return fibo(a,b,n-1) + fibo(a,b,n-2)\n",
    "    \n",
    "fibo(0,1,5), fibo(2,5,4)"
   ]
  },
  {
   "cell_type": "markdown",
   "metadata": {
    "hidden": true
   },
   "source": [
    "---\n",
    "\n",
    "El único problema es el coste computacional explosivo para valores moderados de `n` causado por la doble recursión. La alternativa es iterar guardando solo los dos últimos elementos (`u` último y `p` penúltimo)."
   ]
  },
  {
   "cell_type": "code",
   "execution_count": 61,
   "metadata": {
    "hidden": true
   },
   "outputs": [
    {
     "data": {
      "text/plain": [
       "(5, 19, 78488829223)"
      ]
     },
     "execution_count": 61,
     "metadata": {},
     "output_type": "execute_result"
    }
   ],
   "source": [
    "def fibo(a,b,n):\n",
    "    if n==0: return a\n",
    "    if n==1: return b\n",
    "    u = b\n",
    "    p = a\n",
    "    for k in range(2,n+1):\n",
    "        s = p+u\n",
    "        p = u\n",
    "        u = s\n",
    "    return u\n",
    "        \n",
    "fibo(0,1,5), fibo(2,5,4), fibo(2,5,50)"
   ]
  },
  {
   "cell_type": "markdown",
   "metadata": {
    "hidden": true
   },
   "source": [
    "Esto se puede simplificar mucho si usamos los argumentos como variable local (está permitido al ser números simples) y la asignación se hace en paralelo:"
   ]
  },
  {
   "cell_type": "code",
   "execution_count": 60,
   "metadata": {
    "hidden": true
   },
   "outputs": [
    {
     "data": {
      "text/plain": [
       "(5, 19, 78488829223)"
      ]
     },
     "execution_count": 60,
     "metadata": {},
     "output_type": "execute_result"
    }
   ],
   "source": [
    "def fibo(a,b,n):\n",
    "    if n==0: return a\n",
    "    if n==1: return b\n",
    "    for k in range(2,n+1):\n",
    "        a , b = b , a+b\n",
    "    return b\n",
    "        \n",
    "fibo(0,1,5), fibo(2,5,4), fibo(2,5,50)"
   ]
  },
  {
   "cell_type": "markdown",
   "metadata": {
    "hidden": true
   },
   "source": [
    "Más simple todavía, con recursión simple:"
   ]
  },
  {
   "cell_type": "code",
   "execution_count": 64,
   "metadata": {
    "hidden": true
   },
   "outputs": [
    {
     "data": {
      "text/plain": [
       "(5, 19, 78488829223)"
      ]
     },
     "execution_count": 64,
     "metadata": {},
     "output_type": "execute_result"
    }
   ],
   "source": [
    "def fibo(a,b,n):\n",
    "    if n==0: return a\n",
    "    return fibo(b,a+b,n-1)\n",
    "\n",
    "fibo(0,1,5), fibo(2,5,4), fibo(2,5,50)"
   ]
  },
  {
   "cell_type": "markdown",
   "metadata": {
    "heading_collapsed": true
   },
   "source": [
    "## 12)\n",
    "\n",
    "<span style=\"color:darkblue\"> Escribe una función `separa(d)` para expresar una determinada cantidad `d` con billetes y monedas de euro (considera solo los valores 50, 20, 10, 5, 2, 1). Por ejemplo:</span>\n",
    "\n",
    "    separa(5)  --> [5]\n",
    "    separa(18) --> [10,5,2,1]\n",
    "    separa(49) --> [20,20,5,2,2]"
   ]
  },
  {
   "cell_type": "code",
   "execution_count": 1,
   "metadata": {
    "hidden": true
   },
   "outputs": [
    {
     "data": {
      "text/plain": [
       "([20, 20, 5, 2, 2], [10, 5, 2, 1], [])"
      ]
     },
     "execution_count": 1,
     "metadata": {},
     "output_type": "execute_result"
    }
   ],
   "source": [
    "# Solución de Eloísa Ralui\n",
    "\n",
    "M = [50,20,10,5,2,1]\n",
    "\n",
    "def separa(d):\n",
    "    resto = d\n",
    "    mon = []\n",
    "    for m in M:\n",
    "        while resto >= m:\n",
    "            resto -= m\n",
    "            mon.append(m)\n",
    "    return mon\n",
    "\n",
    "separa(49), separa(18), separa(0)"
   ]
  },
  {
   "cell_type": "markdown",
   "metadata": {
    "heading_collapsed": true
   },
   "source": [
    "## 13)\n",
    "\n",
    " <span style=\"color:darkblue\">Escribe una función para calcular la distancia entre dos puntos de $\\mathbb R^n$.</span>"
   ]
  },
  {
   "cell_type": "markdown",
   "metadata": {
    "hidden": true
   },
   "source": [
    "Interpretamos que se trata de calcular la distancia entre puntos en un espacio de $n$ dimensiones, donde $n$ puede ser cualquier número. Los puntos se tienen que \"representar informáticamente\" de alguna manera. Tiene sentido usar algún tipo de contenedor para almacenar sus coordenadas. Podríamos usar tuplas o listas, pero es mejor usar arrays ya que admiten automáticamente las operaciones matemáticas.\n",
    "\n",
    "Tenemos que escribir una función que admite dos argumentos, que serán arrays unidimensionales, y calcular como resultado un número (escalar). Una posibilidad es usar un bucle que recorra los elementos e ir sumando las diferencias al cuadrado de todas las coordenadas."
   ]
  },
  {
   "cell_type": "code",
   "execution_count": 1,
   "metadata": {
    "collapsed": true,
    "hidden": true
   },
   "outputs": [],
   "source": [
    "import numpy as np\n",
    "\n",
    "def dist(x,y):\n",
    "    d = 0\n",
    "    for k in range(len(x)):\n",
    "        d += (x[k]-y[k])**2\n",
    "    return np.sqrt(d)"
   ]
  },
  {
   "cell_type": "markdown",
   "metadata": {
    "hidden": true
   },
   "source": [
    "Unos casos de prueba sencillos pueden ser:"
   ]
  },
  {
   "cell_type": "code",
   "execution_count": 2,
   "metadata": {
    "hidden": true
   },
   "outputs": [
    {
     "data": {
      "text/plain": [
       "1.0"
      ]
     },
     "execution_count": 2,
     "metadata": {},
     "output_type": "execute_result"
    }
   ],
   "source": [
    "u = np.array([0,0])\n",
    "v = np.array([1,0])\n",
    "\n",
    "dist(u,v)"
   ]
  },
  {
   "cell_type": "code",
   "execution_count": 3,
   "metadata": {
    "hidden": true
   },
   "outputs": [
    {
     "data": {
      "text/plain": [
       "1.4142135623730951"
      ]
     },
     "execution_count": 3,
     "metadata": {},
     "output_type": "execute_result"
    }
   ],
   "source": [
    "u = np.array([1,2,3,4])\n",
    "v = np.array([0,2,3,5])\n",
    "\n",
    "dist(u,v)"
   ]
  },
  {
   "cell_type": "code",
   "execution_count": 4,
   "metadata": {
    "hidden": true
   },
   "outputs": [
    {
     "data": {
      "text/plain": [
       "7.0710678118654755"
      ]
     },
     "execution_count": 4,
     "metadata": {},
     "output_type": "execute_result"
    }
   ],
   "source": [
    "dist([0,5,0],[5,0,0])"
   ]
  },
  {
   "cell_type": "markdown",
   "metadata": {
    "hidden": true
   },
   "source": [
    "Parece que funciona bien. El ejercicio podría darse por terminado.\n",
    "\n",
    "Esta solución tiene un pequeño defecto: a veces no detecta datos inconsistentes. La siguiente llamada a la función debería producir un error:"
   ]
  },
  {
   "cell_type": "code",
   "execution_count": 5,
   "metadata": {
    "hidden": true
   },
   "outputs": [
    {
     "data": {
      "text/plain": [
       "2.2360679774997898"
      ]
     },
     "execution_count": 5,
     "metadata": {},
     "output_type": "execute_result"
    }
   ],
   "source": [
    "dist([1,2,3],[3,3,3,3,3,3,3])"
   ]
  },
  {
   "cell_type": "markdown",
   "metadata": {
    "hidden": true
   },
   "source": [
    "En cualquier caso, podemos simplificar la solución utilizando algunas herramientas de álgebra lineal disponibles en `numpy`. Podemos, por ejemplo, definir una función auxilar para calcular el módulo de un vector, lo que simplificaría bastante el problema. Esto puede hacerse con un bucle parecido al anterior, pero es más directo aprovechar el producto escalar, teniendo en cuenta que $\\vec v \\cdot \\vec v = ||\\vec v||^2$."
   ]
  },
  {
   "cell_type": "code",
   "execution_count": 6,
   "metadata": {
    "collapsed": true,
    "hidden": true
   },
   "outputs": [],
   "source": [
    "def módulo(v):\n",
    "    return np.sqrt(v @ v)"
   ]
  },
  {
   "cell_type": "code",
   "execution_count": 7,
   "metadata": {
    "hidden": true
   },
   "outputs": [
    {
     "data": {
      "text/plain": [
       "3.872983346207417"
      ]
     },
     "execution_count": 7,
     "metadata": {},
     "output_type": "execute_result"
    }
   ],
   "source": [
    "módulo(np.ones([15]))"
   ]
  },
  {
   "cell_type": "code",
   "execution_count": 8,
   "metadata": {
    "collapsed": true,
    "hidden": true
   },
   "outputs": [],
   "source": [
    "def dist2(x,y):\n",
    "    return módulo(x-y)"
   ]
  },
  {
   "cell_type": "code",
   "execution_count": 9,
   "metadata": {
    "hidden": true
   },
   "outputs": [
    {
     "data": {
      "text/plain": [
       "1.0"
      ]
     },
     "execution_count": 9,
     "metadata": {},
     "output_type": "execute_result"
    }
   ],
   "source": [
    "u = np.array([0,0])\n",
    "v = np.array([1,0])\n",
    "\n",
    "dist2(u,v)"
   ]
  },
  {
   "cell_type": "code",
   "execution_count": 10,
   "metadata": {
    "hidden": true
   },
   "outputs": [
    {
     "data": {
      "text/plain": [
       "1.4142135623730951"
      ]
     },
     "execution_count": 10,
     "metadata": {},
     "output_type": "execute_result"
    }
   ],
   "source": [
    "u = np.array([1,2,3,4])\n",
    "v = np.array([0,2,3,5])\n",
    "\n",
    "dist2(u,v)"
   ]
  },
  {
   "cell_type": "markdown",
   "metadata": {
    "hidden": true
   },
   "source": [
    "Uno de los argumentos tiene que ser expresamente un array, ya que `@` no acepta dos listas."
   ]
  },
  {
   "cell_type": "code",
   "execution_count": 11,
   "metadata": {
    "hidden": true
   },
   "outputs": [
    {
     "data": {
      "text/plain": [
       "7.0710678118654755"
      ]
     },
     "execution_count": 11,
     "metadata": {},
     "output_type": "execute_result"
    }
   ],
   "source": [
    "dist2(np.array([0,5,0]),[5,0,0])"
   ]
  },
  {
   "cell_type": "markdown",
   "metadata": {
    "hidden": true
   },
   "source": [
    "Esta versión sí detecta que los vectores son de dimensiones diferentes."
   ]
  },
  {
   "cell_type": "code",
   "execution_count": 12,
   "metadata": {
    "hidden": true
   },
   "outputs": [
    {
     "ename": "ValueError",
     "evalue": "operands could not be broadcast together with shapes (3,) (5,) ",
     "output_type": "error",
     "traceback": [
      "\u001b[0;31m---------------------------------------------------------------------------\u001b[0m",
      "\u001b[0;31mValueError\u001b[0m                                Traceback (most recent call last)",
      "\u001b[0;32m<ipython-input-12-64e2baa5f8d3>\u001b[0m in \u001b[0;36m<module>\u001b[0;34m()\u001b[0m\n\u001b[0;32m----> 1\u001b[0;31m \u001b[0mdist2\u001b[0m\u001b[0;34m(\u001b[0m\u001b[0mnp\u001b[0m\u001b[0;34m.\u001b[0m\u001b[0marray\u001b[0m\u001b[0;34m(\u001b[0m\u001b[0;34m[\u001b[0m\u001b[0;36m1\u001b[0m\u001b[0;34m,\u001b[0m\u001b[0;36m2\u001b[0m\u001b[0;34m,\u001b[0m\u001b[0;36m3\u001b[0m\u001b[0;34m]\u001b[0m\u001b[0;34m)\u001b[0m\u001b[0;34m,\u001b[0m\u001b[0;34m[\u001b[0m\u001b[0;36m3\u001b[0m\u001b[0;34m,\u001b[0m\u001b[0;36m3\u001b[0m\u001b[0;34m,\u001b[0m\u001b[0;36m3\u001b[0m\u001b[0;34m,\u001b[0m\u001b[0;36m3\u001b[0m\u001b[0;34m,\u001b[0m\u001b[0;36m3\u001b[0m\u001b[0;34m]\u001b[0m\u001b[0;34m)\u001b[0m\u001b[0;34m\u001b[0m\u001b[0m\n\u001b[0m",
      "\u001b[0;32m<ipython-input-8-5bc2bc8eb9bd>\u001b[0m in \u001b[0;36mdist2\u001b[0;34m(x, y)\u001b[0m\n\u001b[1;32m      1\u001b[0m \u001b[0;32mdef\u001b[0m \u001b[0mdist2\u001b[0m\u001b[0;34m(\u001b[0m\u001b[0mx\u001b[0m\u001b[0;34m,\u001b[0m\u001b[0my\u001b[0m\u001b[0;34m)\u001b[0m\u001b[0;34m:\u001b[0m\u001b[0;34m\u001b[0m\u001b[0m\n\u001b[0;32m----> 2\u001b[0;31m     \u001b[0;32mreturn\u001b[0m \u001b[0mmódulo\u001b[0m\u001b[0;34m(\u001b[0m\u001b[0mx\u001b[0m\u001b[0;34m-\u001b[0m\u001b[0my\u001b[0m\u001b[0;34m)\u001b[0m\u001b[0;34m\u001b[0m\u001b[0m\n\u001b[0m",
      "\u001b[0;31mValueError\u001b[0m: operands could not be broadcast together with shapes (3,) (5,) "
     ]
    }
   ],
   "source": [
    "dist2(np.array([1,2,3]),[3,3,3,3,3])"
   ]
  },
  {
   "cell_type": "markdown",
   "metadata": {
    "hidden": true
   },
   "source": [
    "En realidad el módulo de un vector (*norm*) está disponible en el submódulo de álgebra lineal, así que otra posibilidad es:"
   ]
  },
  {
   "cell_type": "code",
   "execution_count": 13,
   "metadata": {
    "collapsed": true,
    "hidden": true
   },
   "outputs": [],
   "source": [
    "def dist3(u,v):\n",
    "    return np.linalg.norm(u-v)"
   ]
  },
  {
   "cell_type": "code",
   "execution_count": 14,
   "metadata": {
    "hidden": true
   },
   "outputs": [
    {
     "data": {
      "text/plain": [
       "1.0"
      ]
     },
     "execution_count": 14,
     "metadata": {},
     "output_type": "execute_result"
    }
   ],
   "source": [
    "u = np.array([0,0])\n",
    "v = np.array([1,0])\n",
    "\n",
    "dist3(u,v)"
   ]
  },
  {
   "cell_type": "code",
   "execution_count": 15,
   "metadata": {
    "hidden": true
   },
   "outputs": [
    {
     "data": {
      "text/plain": [
       "1.4142135623730951"
      ]
     },
     "execution_count": 15,
     "metadata": {},
     "output_type": "execute_result"
    }
   ],
   "source": [
    "u = np.array([1,2,3,4])\n",
    "v = np.array([0,2,3,5])\n",
    "\n",
    "dist3(u,v)"
   ]
  },
  {
   "cell_type": "markdown",
   "metadata": {
    "hidden": true
   },
   "source": [
    "En [este notebook](dist.ipynb) hay una explicación parecida de este problema."
   ]
  },
  {
   "cell_type": "markdown",
   "metadata": {
    "heading_collapsed": true
   },
   "source": [
    "## 14)\n",
    "\n",
    "<span style=\"color:darkblue\">Escribe una función informática que calcule la suma de distancias al cuadrado de una variable a unos datos.</span>\n",
    "\n",
    "$$ EC(x)  = \\sum_{k=1}^n (x-d_i)^2 $$\n",
    "\n",
    "<span style=\"color:darkblue\">Dibuja su gráfica en un intervalo que incluya los datos y estima (aproximadamente) el valor de la variable que minimiza la función. Comprueba que coincide con la media de los datos.</span>"
   ]
  },
  {
   "cell_type": "markdown",
   "metadata": {
    "hidden": true
   },
   "source": [
    "En primer lugar preparamos unos datos de prueba."
   ]
  },
  {
   "cell_type": "code",
   "execution_count": 1,
   "metadata": {
    "collapsed": true,
    "hidden": true
   },
   "outputs": [],
   "source": [
    "misdatos = [2.9, 5, 8, 12.3]"
   ]
  },
  {
   "cell_type": "markdown",
   "metadata": {
    "hidden": true
   },
   "source": [
    "La función que nos piden tiene claramente una variable, $x$, que será un argumento. Los datos dependerán de cada problema. Se podría acceder a ellos en una variable global pero es preferible pasarlos también como argumento.\n",
    "\n",
    "La función se puede definir fácilmente mediante una \"list comprehension\", que realiza automáticamente un bucle."
   ]
  },
  {
   "cell_type": "code",
   "execution_count": 2,
   "metadata": {
    "collapsed": true,
    "hidden": true
   },
   "outputs": [],
   "source": [
    "def error_cuad(Datos, x):\n",
    "    d2 = [ (d - x)**2 for d in Datos ] \n",
    "    r = sum( d2 )\n",
    "    return r"
   ]
  },
  {
   "cell_type": "code",
   "execution_count": 3,
   "metadata": {
    "hidden": true
   },
   "outputs": [
    {
     "data": {
      "text/plain": [
       "100.30000000000001"
      ]
     },
     "execution_count": 3,
     "metadata": {},
     "output_type": "execute_result"
    }
   ],
   "source": [
    "error_cuad( misdatos ,   3.5)"
   ]
  },
  {
   "cell_type": "code",
   "execution_count": 4,
   "metadata": {
    "hidden": true
   },
   "outputs": [
    {
     "data": {
      "text/plain": [
       "13"
      ]
     },
     "execution_count": 4,
     "metadata": {},
     "output_type": "execute_result"
    }
   ],
   "source": [
    "error_cuad( [1, 6], 3 )"
   ]
  },
  {
   "cell_type": "markdown",
   "metadata": {
    "hidden": true
   },
   "source": [
    "También se puede meter todo en una única expresión, pero al no haber resultados intermedios es más difícil encontrar posibles errores. "
   ]
  },
  {
   "cell_type": "code",
   "execution_count": 5,
   "metadata": {
    "collapsed": true,
    "hidden": true
   },
   "outputs": [],
   "source": [
    "def error_cuad(Datos, x):\n",
    "    return sum ( [ (d - x)**2 for d in Datos ] )"
   ]
  },
  {
   "cell_type": "markdown",
   "metadata": {
    "hidden": true
   },
   "source": [
    "Por supuesto, el ejercicio también se puede resolver con un bucle normal:"
   ]
  },
  {
   "cell_type": "code",
   "execution_count": 6,
   "metadata": {
    "collapsed": true,
    "hidden": true
   },
   "outputs": [],
   "source": [
    "def error_cuad(Datos, x):\n",
    "    r = 0\n",
    "    for d in Datos:\n",
    "        r += (d - x)**2\n",
    "    return r"
   ]
  },
  {
   "cell_type": "code",
   "execution_count": 7,
   "metadata": {
    "hidden": true
   },
   "outputs": [
    {
     "data": {
      "text/plain": [
       "13"
      ]
     },
     "execution_count": 7,
     "metadata": {},
     "output_type": "execute_result"
    }
   ],
   "source": [
    "error_cuad( [1, 6] , 3 )"
   ]
  },
  {
   "cell_type": "markdown",
   "metadata": {
    "hidden": true
   },
   "source": [
    "Para dibujar la gráfica necesitamos matplotlib, y también vamos a usar numpy para generar fácilmente el conjunto de valores para la variable."
   ]
  },
  {
   "cell_type": "code",
   "execution_count": 8,
   "metadata": {
    "collapsed": true,
    "hidden": true
   },
   "outputs": [],
   "source": [
    "import matplotlib.pyplot as  plt\n",
    "%matplotlib inline\n",
    "\n",
    "import numpy as np"
   ]
  },
  {
   "cell_type": "markdown",
   "metadata": {
    "hidden": true
   },
   "source": [
    "Usamos `X` mayúscula para la secuencia completa y `x` minúscula para cada uno de los elementos. (Si esto te resulta visualmente confuso no hay problema en elegir nombres que se distingan mejor)."
   ]
  },
  {
   "cell_type": "code",
   "execution_count": 9,
   "metadata": {
    "collapsed": true,
    "hidden": true
   },
   "outputs": [],
   "source": [
    "X = np.linspace(-3,15,100)"
   ]
  },
  {
   "cell_type": "code",
   "execution_count": 10,
   "metadata": {
    "collapsed": true,
    "hidden": true
   },
   "outputs": [],
   "source": [
    "E = [ error_cuad(misdatos, x) for x in X ]"
   ]
  },
  {
   "cell_type": "code",
   "execution_count": 11,
   "metadata": {
    "hidden": true
   },
   "outputs": [
    {
     "data": {
      "image/png": "[encoded data removed]",
      "text/plain": [
       "<matplotlib.figure.Figure at 0x7feef362ad30>"
      ]
     },
     "metadata": {},
     "output_type": "display_data"
    }
   ],
   "source": [
    "plt.plot(X,E);\n",
    "plt.xlabel('variable'); plt.ylabel('error cuadrático');\n",
    "plt.plot(misdatos,[50 for x in misdatos],'.',markerSize=10);"
   ]
  },
  {
   "cell_type": "markdown",
   "metadata": {
    "hidden": true
   },
   "source": [
    "A ojo vemos que el mínimo cae entre 5 y 8. Vamos a imprimir el valor en ese intervalo:"
   ]
  },
  {
   "cell_type": "code",
   "execution_count": 12,
   "metadata": {
    "hidden": true
   },
   "outputs": [
    {
     "name": "stdout",
     "output_type": "stream",
     "text": [
      "5.0 66.7\n",
      "5.1 65.1\n",
      "5.2 63.58\n",
      "5.3 62.14\n",
      "5.4 60.78\n",
      "5.5 59.5\n",
      "5.6 58.3\n",
      "5.7 57.18\n",
      "5.8 56.14\n",
      "5.9 55.18\n",
      "6.0 54.3\n",
      "6.1 53.5\n",
      "6.2 52.78\n",
      "6.3 52.14\n",
      "6.4 51.58\n",
      "6.5 51.1\n",
      "6.6 50.7\n",
      "6.7 50.38\n",
      "6.8 50.14\n",
      "6.9 49.98\n",
      "7.0 49.9\n",
      "7.1 49.9\n",
      "7.2 49.98\n",
      "7.3 50.14\n",
      "7.4 50.38\n",
      "7.5 50.7\n",
      "7.6 51.1\n",
      "7.7 51.58\n",
      "7.8 52.14\n",
      "7.9 52.78\n"
     ]
    }
   ],
   "source": [
    "for a in np.arange(5,8,0.1):\n",
    "    print(a, error_cuad( misdatos , a))"
   ]
  },
  {
   "cell_type": "markdown",
   "metadata": {
    "hidden": true
   },
   "source": [
    "El mínimo parece estar entre 7.0 y 7.1. Tiene sentido:"
   ]
  },
  {
   "cell_type": "code",
   "execution_count": 13,
   "metadata": {
    "hidden": true
   },
   "outputs": [
    {
     "data": {
      "text/plain": [
       "7.0500000000000007"
      ]
     },
     "execution_count": 13,
     "metadata": {},
     "output_type": "execute_result"
    }
   ],
   "source": [
    "np.mean(misdatos)"
   ]
  },
  {
   "cell_type": "markdown",
   "metadata": {
    "hidden": true
   },
   "source": [
    "En [este notebook](functionQ.ipynb) hay otra explicación de este problema."
   ]
  },
  {
   "cell_type": "markdown",
   "metadata": {
    "heading_collapsed": true
   },
   "source": [
    "## 15)\n",
    "\n",
    "<span style=\"color:darkblue\">Deduce sin utilizar el ordenador el resultado que imprimirá el siguiente código:</span>\n",
    "\n",
    "    z = 0\n",
    "    for x in range(5):\n",
    "        z = z+x\n",
    "        while z > 0:\n",
    "            z = z-1\n",
    "        print(x+z)"
   ]
  },
  {
   "cell_type": "markdown",
   "metadata": {
    "hidden": true
   },
   "source": [
    "Cuando seguimos paso a paso los valores que van tomando las variables nos damos cuenta de que, en todas la repeticiones del bucle `for`, el bucle interno `while` disminuirá de uno en uno el valor de `z` (que inicialmente coincidirá con `x`) hasta hacerlo cero. Por tanto simplemente se imprimirá el valor de `x` en cada repetición (0,1,2,3,4 en líneas sucesivas)."
   ]
  },
  {
   "cell_type": "markdown",
   "metadata": {
    "hidden": true
   },
   "source": [
    "Vamos a comprobarlo..."
   ]
  },
  {
   "cell_type": "code",
   "execution_count": 7,
   "metadata": {
    "hidden": true
   },
   "outputs": [
    {
     "name": "stdout",
     "output_type": "stream",
     "text": [
      "0\n",
      "1\n",
      "2\n",
      "3\n",
      "4\n"
     ]
    }
   ],
   "source": [
    "z = 0\n",
    "for x in range(5):\n",
    "    z = z+x\n",
    "    while z > 0:\n",
    "        z = z-1\n",
    "    print(x+z)"
   ]
  },
  {
   "cell_type": "markdown",
   "metadata": {
    "heading_collapsed": true
   },
   "source": [
    "## 16)\n",
    "\n",
    "<span style=\"color:darkblue\">Define una función para determinar si una lista de enteros es decreciente. P. ej.:</span>\n",
    "\n",
    "    decre( [50,22,37] )      --->  False\n",
    "    decre( [11,8,2,-3,-10] ) --->  True\n",
    "    decre( [5,4,4,1] )       --->  False"
   ]
  },
  {
   "cell_type": "markdown",
   "metadata": {
    "hidden": true
   },
   "source": [
    "Una forma simple de resolver este problema es recorrer la lista comparando cada elemento con el siguiente. Si encontramos **un solo caso** no decreciente ya sabemos definitivamente que el resultado que tiene que producir la función es falso. Si esto no se produce **después de explorar toda la lista**, ésta será decreciente."
   ]
  },
  {
   "cell_type": "code",
   "execution_count": 1,
   "metadata": {
    "hidden": true
   },
   "outputs": [],
   "source": [
    "def decre(x):\n",
    "    for k in range(len(x)-1):\n",
    "        if x[k] <= x[k+1]:\n",
    "            return False\n",
    "    return True"
   ]
  },
  {
   "cell_type": "code",
   "execution_count": 8,
   "metadata": {
    "hidden": true
   },
   "outputs": [
    {
     "data": {
      "text/plain": [
       "(False, True, False)"
      ]
     },
     "execution_count": 8,
     "metadata": {},
     "output_type": "execute_result"
    }
   ],
   "source": [
    "decre([50,22,37]) , decre([11,8,2,-3,-10]) , decre([5,4,4,1])"
   ]
  },
  {
   "cell_type": "markdown",
   "metadata": {
    "hidden": true
   },
   "source": [
    "El extremo superior de la secuencia de índices debe ser **uno menos** que la longitud de la lista para que en el último paso `x[k+1]` no se salga fuera. "
   ]
  },
  {
   "cell_type": "markdown",
   "metadata": {
    "hidden": true
   },
   "source": [
    "Un error muy común es poner `return True` en la parte `else` del `if`. Haciendo esto, basta que el primer elemento sea mayor que el segundo para que la función termine con resultado `True`, sin seguir explorando el resto de los elementos. `return True` debe ir fuera del bucle, para que se llegue ahí solo si no se ha escapado anticipadamente."
   ]
  },
  {
   "cell_type": "markdown",
   "metadata": {
    "hidden": true
   },
   "source": [
    "Otra posibilidad es incrementar una variable cuando se cumpla la condición y consultar su valor al final de bucle."
   ]
  },
  {
   "cell_type": "markdown",
   "metadata": {
    "heading_collapsed": true
   },
   "source": [
    "## 17)\n",
    "\n",
    "<span style=\"color:darkblue\">Define una función para determinar si una lista de enteros es el comienzo de una progresión geométrica. P. ej.:</span>\n",
    "\n",
    "    pg( [17,8,11] )      --->  False\n",
    "    pg( [5,20,80] )      --->  True\n",
    "    pg( [3,15,30,60] )   --->  False"
   ]
  },
  {
   "cell_type": "markdown",
   "metadata": {
    "hidden": true
   },
   "source": [
    "Este ejercicio es muy parecido al anterior: todos los elementos (a partir del segundo) deben cumplir una condición. Si alguno falla, podemos terminar inmediatamente con respuesta negativa. Pero hay que esperar a comprobar todos para responder positivamente.\n",
    "\n",
    "Una forma de plantearlo es calcular con los dos primeros elementos el valor que debería tener la razón de la progresión, y comprobar en un bucle que el resto de los elementos cumplen esa misma razón."
   ]
  },
  {
   "cell_type": "code",
   "execution_count": 1,
   "metadata": {
    "hidden": true
   },
   "outputs": [],
   "source": [
    "# La función recibe como argumento una lista que suponemos contiene números enteros\n",
    "def pg(xs):\n",
    "    # Una lista vacía o con un solo elemento es (trivialmente) el principio de una progresión geométrica\n",
    "    if len(xs) < 2:\n",
    "        return True\n",
    "    \n",
    "    # Calculamos la hipotética razón.\n",
    "    # No hay riesgo de salirnos de la lista\n",
    "    # porque si llegamos aquí tiene al menos 2 elementos.\n",
    "    # Usamos cociente de división entera para usar siempre\n",
    "    # aritmética entera, exacta.\n",
    "    r = xs[1] // xs[0]\n",
    "    \n",
    "    # Recorremos hasta el penúltimo, para que xs[k+1] no se salga\n",
    "    for k in range(len(xs)-1):\n",
    "        if xs[k+1] != xs[k]*r:\n",
    "            return False  # Terminamos inmediatamente, no se cumple en alguno\n",
    "\n",
    "    # Si después de probar todos llegamos aquí, tenemos éxito.\n",
    "    return True"
   ]
  },
  {
   "cell_type": "code",
   "execution_count": 4,
   "metadata": {
    "hidden": true,
    "scrolled": true
   },
   "outputs": [
    {
     "data": {
      "text/plain": [
       "(False, True, False)"
      ]
     },
     "execution_count": 4,
     "metadata": {},
     "output_type": "execute_result"
    }
   ],
   "source": [
    "pg([17,8,11]),  pg([5,20,80]), pg([3,15,30,60])"
   ]
  },
  {
   "cell_type": "markdown",
   "metadata": {
    "hidden": true
   },
   "source": [
    "La solución anterior es perfectamente válida pero podemos simplificar un poco el bucle con ayuda de la función zip. Sirve para emparejar dos contenedores y, en nuestro caso, la usaremos para emparejar la lista de entrada con ella misma sin el primer elemento, lo que permite recorrer cómodamente elementos consecutivos:"
   ]
  },
  {
   "cell_type": "code",
   "execution_count": 9,
   "metadata": {
    "hidden": true
   },
   "outputs": [],
   "source": [
    "def pgz(xs):\n",
    "    \n",
    "    if len(xs) < 2:\n",
    "        return True\n",
    "    \n",
    "    r = xs[1] // xs[0]\n",
    "    \n",
    "    for a, b in zip(xs,xs[1:]):\n",
    "        if b != a*r:\n",
    "            return False\n",
    "    return True"
   ]
  },
  {
   "cell_type": "code",
   "execution_count": 10,
   "metadata": {
    "hidden": true
   },
   "outputs": [
    {
     "data": {
      "text/plain": [
       "(False, True, False)"
      ]
     },
     "execution_count": 10,
     "metadata": {},
     "output_type": "execute_result"
    }
   ],
   "source": [
    "pgz([17,8,11]),  pgz([5,20,80]), pgz([3,15,30,60])"
   ]
  }
 ],
 "metadata": {
  "hide_input": false,
  "kernelspec": {
   "display_name": "Python 3",
   "language": "python",
   "name": "python3"
  },
  "language_info": {
   "codemirror_mode": {
    "name": "ipython",
    "version": 3
   },
   "file_extension": ".py",
   "mimetype": "text/x-python",
   "name": "python",
   "nbconvert_exporter": "python",
   "pygments_lexer": "ipython3",
   "version": "3.6.4"
  },
  "varInspector": {
   "cols": {
    "lenName": 16,
    "lenType": 16,
    "lenVar": 40
   },
   "kernels_config": {
    "python": {
     "delete_cmd_postfix": "",
     "delete_cmd_prefix": "del ",
     "library": "var_list.py",
     "varRefreshCmd": "print(var_dic_list())"
    },
    "r": {
     "delete_cmd_postfix": ") ",
     "delete_cmd_prefix": "rm(",
     "library": "var_list.r",
     "varRefreshCmd": "cat(var_dic_list()) "
    }
   },
   "types_to_exclude": [
    "module",
    "function",
    "builtin_function_or_method",
    "instance",
    "_Feature"
   ],
   "window_display": false
  }
 },
 "nbformat": 4,
 "nbformat_minor": 2
}
