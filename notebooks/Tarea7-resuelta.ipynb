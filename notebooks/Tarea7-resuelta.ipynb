{
 "cells": [
  {
   "cell_type": "markdown",
   "metadata": {},
   "source": [
    "# Tarea 7\n",
    "\n",
    "Nombre:  **Nombre Apellido Apellido** \n",
    "\n",
    "x/11/2020"
   ]
  },
  {
   "cell_type": "markdown",
   "metadata": {},
   "source": [
    "## Repaso"
   ]
  },
  {
   "cell_type": "markdown",
   "metadata": {},
   "source": [
    "Antes de empezar es necesario que repases las soluciones de **ejercicios anteriores** en los que hayas tenido dificultades y consultes al profesor cualquier duda que tengas. En la tarea de hoy debes incluir un apartado que explique estas dificultades y cómo las has resuelto."
   ]
  },
  {
   "cell_type": "markdown",
   "metadata": {},
   "source": [
    "## Ejercicios"
   ]
  },
  {
   "cell_type": "markdown",
   "metadata": {},
   "source": [
    "Resuelve los siguientes ejercicios, usando únicamente los conceptos explicados en clase hasta ahora."
   ]
  },
  {
   "cell_type": "markdown",
   "metadata": {},
   "source": [
    "**1)** Añade perturbaciones aleatorias y otras modificaciones al árbol recursivo para conseguir un aspecto más natural."
   ]
  },
  {
   "cell_type": "markdown",
   "metadata": {},
   "source": [
    "**2)** Dibuja un copo de nieve de Koch."
   ]
  },
  {
   "cell_type": "markdown",
   "metadata": {},
   "source": [
    "**3)** Simula una órbita parecida a la de la luna. Sitúa la posición inicial a 384Mm y la velocidad inicial 1Km/s. El parámetro gravitacional de la Tierra es $\\mu = GM =  3.986 \\times 10^{14} (m^3/s^2)$. Con esos datos completará una órbita en 26 días aproximadamente; puedes aumentar ligeramente la velocidad para que el período se aproxime más a la realidad (27.3 días). También se puede deducir la velocidad y el radio de una órbita circular que tenga el período deseado, y comprobar que la trayectoria obtenida con esos valores  es la esperada."
   ]
  },
  {
   "cell_type": "code",
   "execution_count": 1,
   "metadata": {},
   "outputs": [
    {
     "data": {
      "image/png": "[encoded data removed]",
      "text/plain": [
       "<Figure size 432x432 with 1 Axes>"
      ]
     },
     "metadata": {
      "needs_background": "light"
     },
     "output_type": "display_data"
    }
   ],
   "source": [
    "import numpy as np\n",
    "import matplotlib.pyplot as plt\n",
    "%matplotlib inline\n",
    "\n",
    "from scipy.integrate import odeint\n",
    "\n",
    "# SI\n",
    "ua = 150e9          # m\n",
    "yr = 365*24*60*60   # s\n",
    "day = 24*60*60      # s\n",
    "\n",
    "mu = 3.986E14   # GM Tierra   (m^3/s^2)\n",
    "\n",
    "def sdot(z,t):\n",
    "    x,y,vx,vy = z\n",
    "    d = (x**2 + y**2)**(1/2)\n",
    "    k = -mu/d**3\n",
    "    ax = k*x\n",
    "    ay = k*y\n",
    "    return vx,vy,ax,ay\n",
    "\n",
    "t = np.arange(0,25*day,day)\n",
    "\n",
    "# condiciones iniciales\n",
    "x0  = 384000000  # distancia tierra-luna (m)\n",
    "y0  = 0\n",
    "vx0 = 0\n",
    "vy0 = 1000       # velocidad de la luna en su órbita (m/s)\n",
    "\n",
    "x,y,vx,vy = odeint(sdot,[x0,y0,vx0,vy0],t).T\n",
    "\n",
    "plt.figure(figsize=(6,6))\n",
    "plt.plot(x,y,'.-');\n",
    "plt.plot([0],[0],'.',markersize=20)\n",
    "plt.plot(vx,vy)\n",
    "plt.axis('equal');"
   ]
  },
  {
   "cell_type": "markdown",
   "metadata": {},
   "source": [
    "**4)** Crea una animación [parecida a ésta](https://robot.inf.um.es/material/inforfis/graph/caja.mp4), situando una barrera dentro de una caja llena de partículas."
   ]
  },
  {
   "cell_type": "markdown",
   "metadata": {},
   "source": [
    "**5)** Escribe funciones para calcular el máximo común divisor de dos números a) por fuerza bruta, b) mediante divisiones sucesivas (iterativamente) c) mediante divisiones sucesivas (recursivamente)."
   ]
  },
  {
   "cell_type": "code",
   "execution_count": 2,
   "metadata": {},
   "outputs": [],
   "source": [
    "def mcd1(a,b):\n",
    "    for n in range(a,0,-1):\n",
    "        if a%n == 0 and b%n == 0:\n",
    "            return n"
   ]
  },
  {
   "cell_type": "code",
   "execution_count": 3,
   "metadata": {},
   "outputs": [
    {
     "data": {
      "text/plain": [
       "25"
      ]
     },
     "execution_count": 3,
     "metadata": {},
     "output_type": "execute_result"
    }
   ],
   "source": [
    "mcd1(75,50)"
   ]
  },
  {
   "cell_type": "code",
   "execution_count": 4,
   "metadata": {},
   "outputs": [],
   "source": [
    "def mcd2(a,b):\n",
    "    r = a%b\n",
    "    while r!=0:\n",
    "        a,b = b,r\n",
    "        r = a%b\n",
    "    return b"
   ]
  },
  {
   "cell_type": "code",
   "execution_count": 5,
   "metadata": {},
   "outputs": [
    {
     "data": {
      "text/plain": [
       "25"
      ]
     },
     "execution_count": 5,
     "metadata": {},
     "output_type": "execute_result"
    }
   ],
   "source": [
    "mcd2(50,75)"
   ]
  },
  {
   "cell_type": "code",
   "execution_count": 6,
   "metadata": {},
   "outputs": [],
   "source": [
    "def mcd3(a,b):\n",
    "    #print(a,b)\n",
    "    if b==0:\n",
    "        return a\n",
    "    else:\n",
    "        return mcd3(b, a%b)"
   ]
  },
  {
   "cell_type": "code",
   "execution_count": 7,
   "metadata": {},
   "outputs": [
    {
     "data": {
      "text/plain": [
       "(6, 1)"
      ]
     },
     "execution_count": 7,
     "metadata": {},
     "output_type": "execute_result"
    }
   ],
   "source": [
    "mcd3(12,18), mcd3(80,71)"
   ]
  },
  {
   "cell_type": "markdown",
   "metadata": {},
   "source": [
    "**6)** Escribe una función que construya una lista con todos los divisores de un número y apóyate en ella para definir funciones que determinen a) si un número es primo b) si un número es [perfecto](https://en.wikipedia.org/wiki/Perfect_number)."
   ]
  },
  {
   "cell_type": "code",
   "execution_count": 8,
   "metadata": {},
   "outputs": [],
   "source": [
    "def divis(n):\n",
    "    return [k for k in range(1,n+1) if n%k==0]"
   ]
  },
  {
   "cell_type": "code",
   "execution_count": 9,
   "metadata": {},
   "outputs": [
    {
     "data": {
      "text/plain": [
       "([1, 2, 3, 4, 6, 12], [1, 3, 5, 15])"
      ]
     },
     "execution_count": 9,
     "metadata": {},
     "output_type": "execute_result"
    }
   ],
   "source": [
    "divis(12), divis(15)"
   ]
  },
  {
   "cell_type": "code",
   "execution_count": 10,
   "metadata": {},
   "outputs": [],
   "source": [
    "def primo(n):\n",
    "    return divis(n) == [1,n]"
   ]
  },
  {
   "cell_type": "code",
   "execution_count": 11,
   "metadata": {},
   "outputs": [
    {
     "data": {
      "text/plain": [
       "(False, True)"
      ]
     },
     "execution_count": 11,
     "metadata": {},
     "output_type": "execute_result"
    }
   ],
   "source": [
    "primo(14), primo(19)"
   ]
  },
  {
   "cell_type": "code",
   "execution_count": 12,
   "metadata": {},
   "outputs": [],
   "source": [
    "def perfecto(n):\n",
    "    return sum(divis(n)) == 2*n"
   ]
  },
  {
   "cell_type": "code",
   "execution_count": 13,
   "metadata": {},
   "outputs": [
    {
     "data": {
      "text/plain": [
       "(False, True)"
      ]
     },
     "execution_count": 13,
     "metadata": {},
     "output_type": "execute_result"
    }
   ],
   "source": [
    "perfecto(27), perfecto(28)"
   ]
  },
  {
   "cell_type": "markdown",
   "metadata": {},
   "source": [
    "**7)** Los primeros valores de la función $n^2+n+41$ para $n=0,1,2,\\ldots$ son primos: 41, 43, 47, 53,... ¿Cuál es el primer $n$ que produce un número compuesto?"
   ]
  },
  {
   "cell_type": "code",
   "execution_count": 14,
   "metadata": {},
   "outputs": [
    {
     "name": "stdout",
     "output_type": "stream",
     "text": [
      "0 41\n",
      "1 43\n",
      "2 47\n",
      "3 53\n",
      "4 61\n",
      "5 71\n",
      "6 83\n",
      "7 97\n",
      "8 113\n",
      "9 131\n",
      "10 151\n",
      "11 173\n",
      "12 197\n",
      "13 223\n",
      "14 251\n",
      "15 281\n",
      "16 313\n",
      "17 347\n",
      "18 383\n",
      "19 421\n",
      "20 461\n",
      "21 503\n",
      "22 547\n",
      "23 593\n",
      "24 641\n",
      "25 691\n",
      "26 743\n",
      "27 797\n",
      "28 853\n",
      "29 911\n",
      "30 971\n",
      "31 1033\n",
      "32 1097\n",
      "33 1163\n",
      "34 1231\n",
      "35 1301\n",
      "36 1373\n",
      "37 1447\n",
      "38 1523\n",
      "39 1601\n",
      "Falla con n=40, 1681 es compuesto\n"
     ]
    }
   ],
   "source": [
    "for n in range(100):\n",
    "    p = n**2+n+41\n",
    "    if not primo(p):\n",
    "        print(f'Falla con n={n}, {p} es compuesto')\n",
    "        break\n",
    "    else:\n",
    "        print(n,p)"
   ]
  },
  {
   "cell_type": "markdown",
   "metadata": {},
   "source": [
    "**8)** Encuentra el [número perfecto](https://en.wikipedia.org/wiki/Perfect_number) más grande que puedas."
   ]
  },
  {
   "cell_type": "code",
   "execution_count": 15,
   "metadata": {},
   "outputs": [
    {
     "name": "stdout",
     "output_type": "stream",
     "text": [
      "0\n",
      "6\n",
      "28\n",
      "496\n",
      "8128\n"
     ]
    }
   ],
   "source": [
    "# por fuerza bruta... pongo un límite pequeño\n",
    "# para no perder mucho tiempo.\n",
    "for k in range(10000):\n",
    "    if perfecto(k):\n",
    "        print(k)"
   ]
  },
  {
   "cell_type": "markdown",
   "metadata": {},
   "source": [
    "**9)** Escribe una función para construir una lista con la secuencia [Collatz](https://en.wikipedia.org/wiki/Collatz_conjecture) que empieza en el argumento $n$. Intenta hacerlo mediante una definición recursiva. Encuentra el $n<1000$ que produce la secuencia más larga."
   ]
  },
  {
   "cell_type": "code",
   "execution_count": 16,
   "metadata": {},
   "outputs": [],
   "source": [
    "def coll(n):\n",
    "    if n <= 1:\n",
    "        sig = []\n",
    "    elif n%2 == 0:\n",
    "        sig = coll(n//2)\n",
    "    else:\n",
    "        sig = coll(3*n+1)\n",
    "    return [n] + sig"
   ]
  },
  {
   "cell_type": "code",
   "execution_count": 17,
   "metadata": {
    "scrolled": false
   },
   "outputs": [
    {
     "data": {
      "text/plain": [
       "[17, 52, 26, 13, 40, 20, 10, 5, 16, 8, 4, 2, 1]"
      ]
     },
     "execution_count": 17,
     "metadata": {},
     "output_type": "execute_result"
    }
   ],
   "source": [
    "coll(17)"
   ]
  },
  {
   "cell_type": "code",
   "execution_count": 18,
   "metadata": {},
   "outputs": [
    {
     "data": {
      "text/plain": [
       "(179, 871)"
      ]
     },
     "execution_count": 18,
     "metadata": {},
     "output_type": "execute_result"
    }
   ],
   "source": [
    "max([(len(coll(k)),k) for k in range(1000)])"
   ]
  },
  {
   "cell_type": "code",
   "execution_count": 19,
   "metadata": {
    "scrolled": false
   },
   "outputs": [
    {
     "data": {
      "text/plain": [
       "[871,\n",
       " 2614,\n",
       " 1307,\n",
       " 3922,\n",
       " 1961,\n",
       " 5884,\n",
       " 2942,\n",
       " 1471,\n",
       " 4414,\n",
       " 2207,\n",
       " 6622,\n",
       " 3311,\n",
       " 9934,\n",
       " 4967,\n",
       " 14902,\n",
       " 7451,\n",
       " 22354,\n",
       " 11177,\n",
       " 33532,\n",
       " 16766,\n",
       " 8383,\n",
       " 25150,\n",
       " 12575,\n",
       " 37726,\n",
       " 18863,\n",
       " 56590,\n",
       " 28295,\n",
       " 84886,\n",
       " 42443,\n",
       " 127330,\n",
       " 63665,\n",
       " 190996,\n",
       " 95498,\n",
       " 47749,\n",
       " 143248,\n",
       " 71624,\n",
       " 35812,\n",
       " 17906,\n",
       " 8953,\n",
       " 26860,\n",
       " 13430,\n",
       " 6715,\n",
       " 20146,\n",
       " 10073,\n",
       " 30220,\n",
       " 15110,\n",
       " 7555,\n",
       " 22666,\n",
       " 11333,\n",
       " 34000,\n",
       " 17000,\n",
       " 8500,\n",
       " 4250,\n",
       " 2125,\n",
       " 6376,\n",
       " 3188,\n",
       " 1594,\n",
       " 797,\n",
       " 2392,\n",
       " 1196,\n",
       " 598,\n",
       " 299,\n",
       " 898,\n",
       " 449,\n",
       " 1348,\n",
       " 674,\n",
       " 337,\n",
       " 1012,\n",
       " 506,\n",
       " 253,\n",
       " 760,\n",
       " 380,\n",
       " 190,\n",
       " 95,\n",
       " 286,\n",
       " 143,\n",
       " 430,\n",
       " 215,\n",
       " 646,\n",
       " 323,\n",
       " 970,\n",
       " 485,\n",
       " 1456,\n",
       " 728,\n",
       " 364,\n",
       " 182,\n",
       " 91,\n",
       " 274,\n",
       " 137,\n",
       " 412,\n",
       " 206,\n",
       " 103,\n",
       " 310,\n",
       " 155,\n",
       " 466,\n",
       " 233,\n",
       " 700,\n",
       " 350,\n",
       " 175,\n",
       " 526,\n",
       " 263,\n",
       " 790,\n",
       " 395,\n",
       " 1186,\n",
       " 593,\n",
       " 1780,\n",
       " 890,\n",
       " 445,\n",
       " 1336,\n",
       " 668,\n",
       " 334,\n",
       " 167,\n",
       " 502,\n",
       " 251,\n",
       " 754,\n",
       " 377,\n",
       " 1132,\n",
       " 566,\n",
       " 283,\n",
       " 850,\n",
       " 425,\n",
       " 1276,\n",
       " 638,\n",
       " 319,\n",
       " 958,\n",
       " 479,\n",
       " 1438,\n",
       " 719,\n",
       " 2158,\n",
       " 1079,\n",
       " 3238,\n",
       " 1619,\n",
       " 4858,\n",
       " 2429,\n",
       " 7288,\n",
       " 3644,\n",
       " 1822,\n",
       " 911,\n",
       " 2734,\n",
       " 1367,\n",
       " 4102,\n",
       " 2051,\n",
       " 6154,\n",
       " 3077,\n",
       " 9232,\n",
       " 4616,\n",
       " 2308,\n",
       " 1154,\n",
       " 577,\n",
       " 1732,\n",
       " 866,\n",
       " 433,\n",
       " 1300,\n",
       " 650,\n",
       " 325,\n",
       " 976,\n",
       " 488,\n",
       " 244,\n",
       " 122,\n",
       " 61,\n",
       " 184,\n",
       " 92,\n",
       " 46,\n",
       " 23,\n",
       " 70,\n",
       " 35,\n",
       " 106,\n",
       " 53,\n",
       " 160,\n",
       " 80,\n",
       " 40,\n",
       " 20,\n",
       " 10,\n",
       " 5,\n",
       " 16,\n",
       " 8,\n",
       " 4,\n",
       " 2,\n",
       " 1]"
      ]
     },
     "execution_count": 19,
     "metadata": {},
     "output_type": "execute_result"
    }
   ],
   "source": [
    "coll(871)"
   ]
  },
  {
   "cell_type": "code",
   "execution_count": 20,
   "metadata": {},
   "outputs": [],
   "source": [
    "import matplotlib.pyplot as plt\n",
    "%matplotlib inline"
   ]
  },
  {
   "cell_type": "code",
   "execution_count": 21,
   "metadata": {
    "scrolled": false
   },
   "outputs": [
    {
     "data": {
      "image/png": "[encoded data removed]",
      "text/plain": [
       "<Figure size 432x288 with 1 Axes>"
      ]
     },
     "metadata": {
      "needs_background": "light"
     },
     "output_type": "display_data"
    }
   ],
   "source": [
    "plt.plot(coll(871));"
   ]
  }
 ],
 "metadata": {
  "hide_input": false,
  "kernelspec": {
   "display_name": "Python 3",
   "language": "python",
   "name": "python3"
  },
  "language_info": {
   "codemirror_mode": {
    "name": "ipython",
    "version": 3
   },
   "file_extension": ".py",
   "mimetype": "text/x-python",
   "name": "python",
   "nbconvert_exporter": "python",
   "pygments_lexer": "ipython3",
   "version": "3.6.4"
  },
  "varInspector": {
   "cols": {
    "lenName": 16,
    "lenType": 16,
    "lenVar": 40
   },
   "kernels_config": {
    "python": {
     "delete_cmd_postfix": "",
     "delete_cmd_prefix": "del ",
     "library": "var_list.py",
     "varRefreshCmd": "print(var_dic_list())"
    },
    "r": {
     "delete_cmd_postfix": ") ",
     "delete_cmd_prefix": "rm(",
     "library": "var_list.r",
     "varRefreshCmd": "cat(var_dic_list()) "
    }
   },
   "types_to_exclude": [
    "module",
    "function",
    "builtin_function_or_method",
    "instance",
    "_Feature"
   ],
   "window_display": false
  }
 },
 "nbformat": 4,
 "nbformat_minor": 2
}
