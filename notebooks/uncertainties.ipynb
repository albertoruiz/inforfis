{
 "cells": [
  {
   "cell_type": "markdown",
   "metadata": {},
   "source": [
    "Informática - 1º de Física\n",
    "<br>\n",
    "**Computación Científica**\n",
    "<br>\n",
    "<p style=\"color:#808080\"> <small><small>\n",
    "29/10/2018\n",
    "</small></small></p>\n",
    "\n",
    "## Magnitudes Físicas"
   ]
  },
  {
   "cell_type": "markdown",
   "metadata": {
    "heading_collapsed": true
   },
   "source": [
    "### Incertidumbre"
   ]
  },
  {
   "cell_type": "markdown",
   "metadata": {
    "hidden": true
   },
   "source": [
    "El módulo [uncertainties](http://pythonhosted.org/uncertainties/) automatiza la propagación de errores:"
   ]
  },
  {
   "cell_type": "code",
   "execution_count": 1,
   "metadata": {
    "hidden": true
   },
   "outputs": [],
   "source": [
    "from uncertainties import ufloat"
   ]
  },
  {
   "cell_type": "code",
   "execution_count": 2,
   "metadata": {
    "hidden": true
   },
   "outputs": [],
   "source": [
    "x = ufloat(1.345387, 0.004)"
   ]
  },
  {
   "cell_type": "code",
   "execution_count": 3,
   "metadata": {
    "hidden": true
   },
   "outputs": [
    {
     "data": {
      "text/plain": [
       "1.345387+/-0.004"
      ]
     },
     "execution_count": 3,
     "metadata": {},
     "output_type": "execute_result"
    }
   ],
   "source": [
    "x"
   ]
  },
  {
   "cell_type": "code",
   "execution_count": 4,
   "metadata": {
    "hidden": true
   },
   "outputs": [
    {
     "data": {
      "text/plain": [
       "10.050330898845+/-0.053815480000000006"
      ]
     },
     "execution_count": 4,
     "metadata": {},
     "output_type": "execute_result"
    }
   ],
   "source": [
    "5*x**2 + 1"
   ]
  },
  {
   "cell_type": "markdown",
   "metadata": {
    "hidden": true
   },
   "source": [
    "Definimos funciones para mostrar 2 cifras significativas en la incertidumbre, siguiendo las recomendaciones establecidas."
   ]
  },
  {
   "cell_type": "code",
   "execution_count": 5,
   "metadata": {
    "hidden": true
   },
   "outputs": [],
   "source": [
    "def pretty(x):\n",
    "    print('{:.2uS}'.format(x))\n",
    "    \n",
    "def prettyl(x):\n",
    "    print('{:.2uP}'.format(x))"
   ]
  },
  {
   "cell_type": "code",
   "execution_count": 6,
   "metadata": {
    "hidden": true
   },
   "outputs": [
    {
     "name": "stdout",
     "output_type": "stream",
     "text": [
      "1.3454±0.0040\n"
     ]
    }
   ],
   "source": [
    "prettyl( x )"
   ]
  },
  {
   "cell_type": "code",
   "execution_count": 7,
   "metadata": {
    "hidden": true
   },
   "outputs": [
    {
     "name": "stdout",
     "output_type": "stream",
     "text": [
      "1.3454(40)\n"
     ]
    }
   ],
   "source": [
    "pretty( x )"
   ]
  },
  {
   "cell_type": "code",
   "execution_count": 8,
   "metadata": {
    "hidden": true
   },
   "outputs": [
    {
     "name": "stdout",
     "output_type": "stream",
     "text": [
      "10.050(54)\n"
     ]
    }
   ],
   "source": [
    "pretty( 5*x**2 +1 )"
   ]
  },
  {
   "cell_type": "markdown",
   "metadata": {
    "hidden": true
   },
   "source": [
    "Este módulo tiene en cuenta la covarianza entre variables para manejar correctamente sus posibles dependencias. En el siguiente ejemplo `y` y `z` son aparentemente iguales, en magnitud e incertidumbre, pero se comportan de forma distinta al operar con `x`. Aquí `y` es independiente de `x`, mientras que `z` es una fracción de la misma magnitud `x`."
   ]
  },
  {
   "cell_type": "code",
   "execution_count": 9,
   "metadata": {
    "hidden": true
   },
   "outputs": [
    {
     "name": "stdout",
     "output_type": "stream",
     "text": [
      "2.000±0.020\n",
      "1.000±0.010\n",
      "1.000±0.010\n",
      "3.000±0.022\n",
      "1.000±0.022\n",
      "3.000±0.030\n",
      "1.000±0.010\n"
     ]
    }
   ],
   "source": [
    "x = ufloat(2, 0.02)\n",
    "y = ufloat(1, 0.01)\n",
    "z = x/2\n",
    "\n",
    "prettyl(x)\n",
    "prettyl(y)\n",
    "prettyl(z)\n",
    "prettyl( x + y )\n",
    "prettyl( x - y )\n",
    "prettyl( x + z )\n",
    "prettyl( x - z )"
   ]
  },
  {
   "cell_type": "markdown",
   "metadata": {
    "hidden": true
   },
   "source": [
    "La incertidumbre se puede introducir de forma más bonita con la siguiente función auxiliar:"
   ]
  },
  {
   "cell_type": "code",
   "execution_count": 10,
   "metadata": {
    "hidden": true
   },
   "outputs": [],
   "source": [
    "# Python admite símbolos unicode\n",
    "\n",
    "# Ctrl-May-U + 025b\n",
    "def ɛ(v):\n",
    "    return v*ufloat(0,1)"
   ]
  },
  {
   "cell_type": "markdown",
   "metadata": {
    "hidden": true
   },
   "source": [
    "Sirve para \"añadir\" un error o incertidumbre absoluta a una magnitud."
   ]
  },
  {
   "cell_type": "code",
   "execution_count": 11,
   "metadata": {
    "hidden": true
   },
   "outputs": [
    {
     "name": "stdout",
     "output_type": "stream",
     "text": [
      "1.3454(40)\n"
     ]
    }
   ],
   "source": [
    "x = 1.345387 + ɛ(0.004)\n",
    "\n",
    "pretty( x )"
   ]
  },
  {
   "cell_type": "code",
   "execution_count": 12,
   "metadata": {
    "hidden": true
   },
   "outputs": [
    {
     "name": "stdout",
     "output_type": "stream",
     "text": [
      "1.810(11)\n"
     ]
    }
   ],
   "source": [
    "pretty( x**2 )"
   ]
  },
  {
   "cell_type": "markdown",
   "metadata": {
    "hidden": true
   },
   "source": [
    "Cada magnitud debe tener su propio ɛ para que los errores sean independientes."
   ]
  },
  {
   "cell_type": "markdown",
   "metadata": {
    "hidden": true
   },
   "source": [
    "Es más práctico usar la siguiente función, que crea cómodamente valores con un error relativo expresado en %."
   ]
  },
  {
   "cell_type": "code",
   "execution_count": 13,
   "metadata": {
    "hidden": true
   },
   "outputs": [],
   "source": [
    "def mag(v,ep):\n",
    "    return v * (1 + ɛ(ep/100))"
   ]
  },
  {
   "cell_type": "code",
   "execution_count": 14,
   "metadata": {
    "hidden": true
   },
   "outputs": [
    {
     "data": {
      "text/plain": [
       "25.0+/-0.75"
      ]
     },
     "execution_count": 14,
     "metadata": {},
     "output_type": "execute_result"
    }
   ],
   "source": [
    "mag(25,3)"
   ]
  },
  {
   "cell_type": "code",
   "execution_count": 15,
   "metadata": {
    "hidden": true
   },
   "outputs": [],
   "source": [
    "# otro símbolo útil\n",
    "\n",
    "import numpy as np\n",
    "\n",
    "# 03c0\n",
    "π = np.pi"
   ]
  },
  {
   "cell_type": "code",
   "execution_count": 16,
   "metadata": {
    "hidden": true
   },
   "outputs": [
    {
     "name": "stdout",
     "output_type": "stream",
     "text": [
      "78.5(3.1)\n"
     ]
    }
   ],
   "source": [
    "r = mag(5 , 2)\n",
    "\n",
    "pretty( π * r**2 )"
   ]
  },
  {
   "cell_type": "markdown",
   "metadata": {
    "hidden": true
   },
   "source": [
    "Un pequeño inconveniente es que las funciones matemáticas hay que importarlas del módulo `uncertainties`."
   ]
  },
  {
   "cell_type": "code",
   "execution_count": 17,
   "metadata": {
    "hidden": true
   },
   "outputs": [
    {
     "name": "stdout",
     "output_type": "stream",
     "text": [
      "1.1599(17)\n"
     ]
    }
   ],
   "source": [
    "from uncertainties.umath import sqrt\n",
    "\n",
    "pretty( sqrt (1.345387 + ɛ(0.004)) )"
   ]
  },
  {
   "cell_type": "markdown",
   "metadata": {
    "hidden": true
   },
   "source": [
    "Por suerte los operadores funcionan automáticamente."
   ]
  },
  {
   "cell_type": "code",
   "execution_count": 18,
   "metadata": {
    "hidden": true
   },
   "outputs": [
    {
     "name": "stdout",
     "output_type": "stream",
     "text": [
      "1.1599(17)\n"
     ]
    }
   ],
   "source": [
    "pretty( (1.345387 + ɛ(0.004))**(1/2) )"
   ]
  },
  {
   "cell_type": "markdown",
   "metadata": {
    "heading_collapsed": true
   },
   "source": [
    "### Unidades físicas"
   ]
  },
  {
   "cell_type": "markdown",
   "metadata": {
    "hidden": true
   },
   "source": [
    "Hay [varios paquetes](https://socialcompare.com/en/comparison/python-units-quantities-packages-383avix4) para manejar magnitudes físicas, una posibilidad es [pint](http://pint.readthedocs.io/en/0.8/tutorial.html)."
   ]
  },
  {
   "cell_type": "code",
   "execution_count": 19,
   "metadata": {
    "hidden": true
   },
   "outputs": [],
   "source": [
    "from pint import UnitRegistry\n",
    "u = UnitRegistry()"
   ]
  },
  {
   "cell_type": "code",
   "execution_count": 20,
   "metadata": {
    "hidden": true
   },
   "outputs": [
    {
     "data": {
      "text/html": [
       "5400.0 kilometer/hour"
      ],
      "text/latex": [
       "$5400.0\\ \\frac{\\mathrm{kilometer}}{\\mathrm{hour}}$"
      ],
      "text/plain": [
       "<Quantity(5400.0, 'kilometer / hour')>"
      ]
     },
     "execution_count": 20,
     "metadata": {},
     "output_type": "execute_result"
    }
   ],
   "source": [
    "(3*u.meter / (2*u.millisecond)).to(u.kilometer/u.hour)"
   ]
  },
  {
   "cell_type": "markdown",
   "metadata": {
    "hidden": true
   },
   "source": [
    "Podemos combinar de forma natural las unidades físicas y la incertidumbre:"
   ]
  },
  {
   "cell_type": "code",
   "execution_count": 21,
   "metadata": {
    "hidden": true
   },
   "outputs": [
    {
     "data": {
      "text/html": [
       "2.0000+/-0.0030 kilogram"
      ],
      "text/latex": [
       "$2.0000+/-0.0030\\ \\mathrm{kilogram}$"
      ],
      "text/plain": [
       "<Quantity(2.0000+/-0.0030, 'kilogram')>"
      ]
     },
     "execution_count": 21,
     "metadata": {},
     "output_type": "execute_result"
    }
   ],
   "source": [
    "2*u.kilogram + ɛ(3*u.gram)"
   ]
  },
  {
   "cell_type": "code",
   "execution_count": 22,
   "metadata": {
    "hidden": true
   },
   "outputs": [
    {
     "data": {
      "text/html": [
       "2.00+/-0.10 meter/second"
      ],
      "text/latex": [
       "$2.00+/-0.10\\ \\frac{\\mathrm{meter}}{\\mathrm{second}}$"
      ],
      "text/plain": [
       "<Quantity(2.00+/-0.10, 'meter / second')>"
      ]
     },
     "execution_count": 22,
     "metadata": {},
     "output_type": "execute_result"
    }
   ],
   "source": [
    "mag( 2*u.meter/u.sec , 5)"
   ]
  },
  {
   "cell_type": "markdown",
   "metadata": {
    "hidden": true
   },
   "source": [
    "Como ejemplo, definimos una función normal y corriente de Python para calcular la energía cinética de un cuerpo."
   ]
  },
  {
   "cell_type": "code",
   "execution_count": 23,
   "metadata": {
    "hidden": true
   },
   "outputs": [],
   "source": [
    "def kin(m,v):\n",
    "    return 1/2*m*v**2"
   ]
  },
  {
   "cell_type": "code",
   "execution_count": 24,
   "metadata": {
    "hidden": true
   },
   "outputs": [
    {
     "data": {
      "text/plain": [
       "9.0"
      ]
     },
     "execution_count": 24,
     "metadata": {},
     "output_type": "execute_result"
    }
   ],
   "source": [
    "kin(2,3)"
   ]
  },
  {
   "cell_type": "markdown",
   "metadata": {
    "hidden": true
   },
   "source": [
    "Y la evaluamos con magnitudes con unidades físicas e incertidumbre."
   ]
  },
  {
   "cell_type": "code",
   "execution_count": 25,
   "metadata": {
    "hidden": true
   },
   "outputs": [
    {
     "name": "stdout",
     "output_type": "stream",
     "text": [
      "9.00(90) kilogram * kilometer ** 2 / hour ** 2\n"
     ]
    }
   ],
   "source": [
    "m = 2*u.kilogram + ɛ(3*u.gram)\n",
    "\n",
    "v = mag( 3*u.kilometer/u.hour , 5 )\n",
    "\n",
    "Ec = kin(m, v)\n",
    "\n",
    "pretty(Ec)"
   ]
  },
  {
   "cell_type": "markdown",
   "metadata": {
    "hidden": true
   },
   "source": [
    "El resultado se puede expresar en cualquier otra unidad:"
   ]
  },
  {
   "cell_type": "code",
   "execution_count": 26,
   "metadata": {
    "hidden": true
   },
   "outputs": [
    {
     "name": "stdout",
     "output_type": "stream",
     "text": [
      "0.694(69) joule\n"
     ]
    }
   ],
   "source": [
    "pretty(Ec.to(u.joule))"
   ]
  },
  {
   "cell_type": "code",
   "execution_count": 27,
   "metadata": {
    "hidden": true
   },
   "outputs": [
    {
     "name": "stdout",
     "output_type": "stream",
     "text": [
      "0.166(17) calorie\n"
     ]
    }
   ],
   "source": [
    "pretty(Ec.to(u.calorie))"
   ]
  },
  {
   "cell_type": "code",
   "execution_count": 28,
   "metadata": {
    "hidden": true
   },
   "outputs": [
    {
     "name": "stdout",
     "output_type": "stream",
     "text": [
      "1.93(19)e-07 hour * kilowatt\n"
     ]
    }
   ],
   "source": [
    "pretty(Ec.to(u.kilowatt*u.hour))"
   ]
  },
  {
   "cell_type": "code",
   "execution_count": 29,
   "metadata": {
    "hidden": true
   },
   "outputs": [
    {
     "name": "stdout",
     "output_type": "stream",
     "text": [
      "4.33(43)e+18 electron_volt\n"
     ]
    }
   ],
   "source": [
    "pretty(Ec.to(u.electron_volt))"
   ]
  },
  {
   "cell_type": "markdown",
   "metadata": {
    "heading_collapsed": true
   },
   "source": [
    "### Caso de estudio: péndulo de [Kater](https://en.wikipedia.org/wiki/Kater%27s_pendulum)"
   ]
  },
  {
   "cell_type": "markdown",
   "metadata": {
    "hidden": true
   },
   "source": [
    "$$g = \\frac{8\\pi^2}{\\frac{T_1^2+T_2^2}{H}+\\frac{T_1^2-T_2^2}{h_1 -h_2}}$$"
   ]
  },
  {
   "cell_type": "code",
   "execution_count": 30,
   "metadata": {
    "hidden": true
   },
   "outputs": [],
   "source": [
    "def estimag(T1,T2,H,h1):\n",
    "    h2 = H-h1\n",
    "    return 8*π**2/((T1**2+T2**2)/H + (T1**2-T2**2)/(h1-h2))"
   ]
  },
  {
   "cell_type": "code",
   "execution_count": 31,
   "metadata": {
    "hidden": true
   },
   "outputs": [
    {
     "data": {
      "text/html": [
       "9.89187781872531 meter/second<sup>2</sup>"
      ],
      "text/latex": [
       "$9.89187781872531\\ \\frac{\\mathrm{meter}}{\\mathrm{second}^{2}}$"
      ],
      "text/plain": [
       "<Quantity(9.89187781872531, 'meter / second ** 2')>"
      ]
     },
     "execution_count": 31,
     "metadata": {},
     "output_type": "execute_result"
    }
   ],
   "source": [
    "estimag(2*u.sec, 2.003*u.sec, 1*u.meter, 0.7*u.meter)"
   ]
  },
  {
   "cell_type": "code",
   "execution_count": 32,
   "metadata": {
    "hidden": true
   },
   "outputs": [
    {
     "name": "stdout",
     "output_type": "stream",
     "text": [
      "9.8919(87) meter / second ** 2\n"
     ]
    }
   ],
   "source": [
    "g = estimag(2*u.sec + ɛ(20/400*u.centisec), 2.003*u.sec, 1*u.meter, 0.7*u.meter)\n",
    "pretty(g)"
   ]
  },
  {
   "cell_type": "code",
   "execution_count": 33,
   "metadata": {
    "hidden": true
   },
   "outputs": [
    {
     "name": "stdout",
     "output_type": "stream",
     "text": [
      "9.8919(94) meter / second ** 2\n"
     ]
    }
   ],
   "source": [
    "g = estimag(2    *u.sec + ɛ(20/400*u.centisec),\n",
    "            2.003*u.sec + ɛ(20/400*u.centisec),\n",
    "            1*u.meter,\n",
    "            0.7*u.meter + ɛ(0*u.millimeter) )\n",
    "pretty(g)"
   ]
  },
  {
   "cell_type": "code",
   "execution_count": 34,
   "metadata": {
    "hidden": true
   },
   "outputs": [
    {
     "name": "stdout",
     "output_type": "stream",
     "text": [
      "9.8919(96) meter / second ** 2\n"
     ]
    }
   ],
   "source": [
    "g = estimag(2    *u.sec + ɛ(20/400*u.centisec),\n",
    "            2.003*u.sec + ɛ(20/400*u.centisec),\n",
    "            1*u.meter,\n",
    "            0.7*u.meter + ɛ(10*u.millimeter) )\n",
    "pretty(g)"
   ]
  },
  {
   "cell_type": "markdown",
   "metadata": {
    "heading_collapsed": true
   },
   "source": [
    "### Constantes físicas"
   ]
  },
  {
   "cell_type": "markdown",
   "metadata": {
    "hidden": true
   },
   "source": [
    "Están disponibles en el módulo [scipy.constants](https://docs.scipy.org/doc/scipy-0.19.0/reference/constants.html)."
   ]
  },
  {
   "cell_type": "code",
   "execution_count": 35,
   "metadata": {
    "hidden": true
   },
   "outputs": [],
   "source": [
    "import scipy.constants as const"
   ]
  },
  {
   "cell_type": "code",
   "execution_count": 36,
   "metadata": {
    "hidden": true
   },
   "outputs": [
    {
     "data": {
      "text/plain": [
       "6.62607004e-34"
      ]
     },
     "execution_count": 36,
     "metadata": {},
     "output_type": "execute_result"
    }
   ],
   "source": [
    "const.Planck"
   ]
  },
  {
   "cell_type": "code",
   "execution_count": 37,
   "metadata": {
    "hidden": true
   },
   "outputs": [
    {
     "data": {
      "text/plain": [
       "(3.343583719e-27, 'kg', 4.1e-35)"
      ]
     },
     "execution_count": 37,
     "metadata": {},
     "output_type": "execute_result"
    }
   ],
   "source": [
    "const.physical_constants['deuteron mass']"
   ]
  },
  {
   "cell_type": "markdown",
   "metadata": {
    "hidden": true
   },
   "source": [
    "Podemos convertirlas al formato anterior, con incertidumbre y unidades:"
   ]
  },
  {
   "cell_type": "code",
   "execution_count": 38,
   "metadata": {
    "hidden": true
   },
   "outputs": [],
   "source": [
    "def konst(name):\n",
    "    v,unit,i = const.physical_constants[name]\n",
    "    return ufloat(v,i) * u.parse_expression(unit)"
   ]
  },
  {
   "cell_type": "code",
   "execution_count": 39,
   "metadata": {
    "hidden": true
   },
   "outputs": [
    {
     "name": "stdout",
     "output_type": "stream",
     "text": [
      "9.10938356(11)e-31 kilogram\n"
     ]
    }
   ],
   "source": [
    "pretty(konst('electron mass'))"
   ]
  },
  {
   "cell_type": "code",
   "execution_count": 40,
   "metadata": {
    "hidden": true
   },
   "outputs": [
    {
     "name": "stdout",
     "output_type": "stream",
     "text": [
      "1.38064852(79)e-23 joule / kelvin\n"
     ]
    }
   ],
   "source": [
    "pretty(konst('Boltzmann constant'))"
   ]
  },
  {
   "cell_type": "code",
   "execution_count": 41,
   "metadata": {
    "hidden": true
   },
   "outputs": [
    {
     "data": {
      "text/plain": [
       "8.854187817620389e-12"
      ]
     },
     "execution_count": 41,
     "metadata": {},
     "output_type": "execute_result"
    }
   ],
   "source": [
    "const.epsilon_0"
   ]
  },
  {
   "cell_type": "code",
   "execution_count": 42,
   "metadata": {
    "hidden": true
   },
   "outputs": [
    {
     "name": "stdout",
     "output_type": "stream",
     "text": [
      "8.854187817620389(0)e-12 farad / meter\n"
     ]
    }
   ],
   "source": [
    "pretty(konst('electric constant'))"
   ]
  },
  {
   "cell_type": "code",
   "execution_count": 43,
   "metadata": {
    "hidden": true
   },
   "outputs": [
    {
     "data": {
      "text/plain": [
       "['Avogadro constant']"
      ]
     },
     "execution_count": 43,
     "metadata": {},
     "output_type": "execute_result"
    }
   ],
   "source": [
    "const.find('avog')"
   ]
  },
  {
   "cell_type": "code",
   "execution_count": 44,
   "metadata": {
    "hidden": true
   },
   "outputs": [
    {
     "name": "stdout",
     "output_type": "stream",
     "text": [
      "6.022140857(74)e+23 / mole\n"
     ]
    }
   ],
   "source": [
    "pretty(konst(_[0]))"
   ]
  },
  {
   "cell_type": "code",
   "execution_count": 45,
   "metadata": {
    "hidden": true
   },
   "outputs": [
    {
     "data": {
      "text/plain": [
       "['speed of light in vacuum']"
      ]
     },
     "execution_count": 45,
     "metadata": {},
     "output_type": "execute_result"
    }
   ],
   "source": [
    "const.find('lig')"
   ]
  },
  {
   "cell_type": "code",
   "execution_count": 46,
   "metadata": {
    "hidden": true
   },
   "outputs": [
    {
     "name": "stdout",
     "output_type": "stream",
     "text": [
      "29.9792458(0) centimeter / nanosecond\n"
     ]
    }
   ],
   "source": [
    "pretty(konst(_[0]).to(u.cm / u.nanosec))"
   ]
  },
  {
   "cell_type": "markdown",
   "metadata": {
    "heading_collapsed": true
   },
   "source": [
    "### Caso de estudio: fuerza eléctrica en átomo de H."
   ]
  },
  {
   "cell_type": "markdown",
   "metadata": {
    "hidden": true
   },
   "source": [
    "$$F = \\frac{1}{4\\pi\\epsilon_0}\\frac{q Q}{r^2}$$"
   ]
  },
  {
   "cell_type": "code",
   "execution_count": 47,
   "metadata": {
    "hidden": true
   },
   "outputs": [
    {
     "name": "stdout",
     "output_type": "stream",
     "text": [
      "0.52917721067(12) angstrom\n",
      "1.6021766208(98)e-19 coulomb\n",
      "8.854187817620389(0)e-12 farad / meter\n",
      "8.23872337(10)e-08 coulomb ** 2 / farad / meter\n",
      "8.23872337(10)e-08 newton\n"
     ]
    }
   ],
   "source": [
    "r = konst('Bohr radius')\n",
    "pretty(r.to(u.angstrom))\n",
    "\n",
    "e = konst('elementary charge')\n",
    "pretty(e)\n",
    "\n",
    "eps_0 = konst('electric constant')\n",
    "pretty(eps_0)\n",
    "\n",
    "F = 1/4/π/eps_0 * e * e / r**2\n",
    "\n",
    "pretty(F)\n",
    "pretty(F.to(u.newton))"
   ]
  },
  {
   "cell_type": "markdown",
   "metadata": {
    "hidden": true
   },
   "source": [
    "Velocidad clásica en la órbita:\n",
    "\n",
    "$$ F = \\frac{m v^2}{r} $$ \n",
    "\n",
    "$$ v = \\sqrt{\\frac{r F}{m}} $$"
   ]
  },
  {
   "cell_type": "code",
   "execution_count": 48,
   "metadata": {
    "hidden": true
   },
   "outputs": [
    {
     "name": "stdout",
     "output_type": "stream",
     "text": [
      "7875688.545(68) kilometer / hour\n",
      "2187691.262(19) meter / second\n",
      "0.007297352565(63) dimensionless\n"
     ]
    }
   ],
   "source": [
    "me = konst('electron mass')\n",
    "\n",
    "v = (r*F/me)**(1/2)\n",
    "pretty(v.to(u.km/u.hour))\n",
    "pretty(v.to_base_units())\n",
    "\n",
    "c = konst('speed of light in vacuum')\n",
    "pretty((v/c).to_base_units())"
   ]
  },
  {
   "cell_type": "code",
   "execution_count": 49,
   "metadata": {
    "hidden": true
   },
   "outputs": [
    {
     "data": {
      "text/plain": [
       "{9.10938356e-31+/-1.1e-38: 0.013208689550151281,\n",
       " 1.6021766208e-19+/-9.8e-28: 0.013381405079895495,\n",
       " 8.854187817620389e-12+/-0: 0,\n",
       " 5.2917721067e-11+/-1.2e-20: 0.0002480482399904951}"
      ]
     },
     "execution_count": 49,
     "metadata": {},
     "output_type": "execute_result"
    }
   ],
   "source": [
    "v.error_components()"
   ]
  },
  {
   "cell_type": "markdown",
   "metadata": {
    "hidden": true
   },
   "source": [
    "$$ v = \\sqrt{\\frac{r \\frac{1}{4\\pi\\epsilon_0}\\frac{q Q}{r^2}}{m}} = \\sqrt{\\frac{q Q}{4\\pi\\epsilon_0 m r}} $$"
   ]
  },
  {
   "cell_type": "code",
   "execution_count": 50,
   "metadata": {
    "hidden": true
   },
   "outputs": [
    {
     "name": "stdout",
     "output_type": "stream",
     "text": [
      "0.007297352565(63) dimensionless\n"
     ]
    }
   ],
   "source": [
    "v = (e * e / 4/π/eps_0 / me/ r)**(1/2)\n",
    "pretty((v/c).to_base_units())"
   ]
  },
  {
   "cell_type": "code",
   "execution_count": 51,
   "metadata": {
    "hidden": true
   },
   "outputs": [
    {
     "data": {
      "text/plain": [
       "{9.10938356e-31+/-1.1e-38: 0.013208689550151281,\n",
       " 1.6021766208e-19+/-9.8e-28: 0.013381405079895495,\n",
       " 8.854187817620389e-12+/-0: 0,\n",
       " 5.2917721067e-11+/-1.2e-20: 0.00024804823999049504}"
      ]
     },
     "execution_count": 51,
     "metadata": {},
     "output_type": "execute_result"
    }
   ],
   "source": [
    "v.error_components()"
   ]
  },
  {
   "cell_type": "code",
   "execution_count": 52,
   "metadata": {
    "hidden": true
   },
   "outputs": [
    {
     "name": "stdout",
     "output_type": "stream",
     "text": [
      "1.758820024(11)e+11 coulomb / kilogram\n",
      "1.758820024(24)e+11 coulomb / kilogram\n"
     ]
    }
   ],
   "source": [
    "eqm = abs(konst('electron charge to mass quotient'))\n",
    "\n",
    "pretty(eqm)\n",
    "pretty(e / me)"
   ]
  },
  {
   "cell_type": "code",
   "execution_count": 53,
   "metadata": {
    "hidden": true
   },
   "outputs": [
    {
     "name": "stdout",
     "output_type": "stream",
     "text": [
      "0.007297352566(32) dimensionless\n"
     ]
    }
   ],
   "source": [
    "v = (eqm * e / 4/π/eps_0 / r)**(1/2)\n",
    "pretty((v/c).to_base_units())"
   ]
  },
  {
   "cell_type": "markdown",
   "metadata": {
    "heading_collapsed": true
   },
   "source": [
    "### Caso de estudio: comparación con Monte-Carlo."
   ]
  },
  {
   "cell_type": "code",
   "execution_count": 54,
   "metadata": {
    "hidden": true
   },
   "outputs": [],
   "source": [
    "er_F = 0.05; er_M = 0.03; er_m = 0.01; er_d = .05\n",
    "mu_F = 1e-8;\n",
    "mu_M = 3;\n",
    "mu_m = 0.05;\n",
    "mu_d = 0.032;\n",
    "\n",
    "F = mag(mu_F,100*er_F)\n",
    "M = mag(mu_M,100*er_M)\n",
    "m = mag(mu_m,100*er_m)\n",
    "d = mag(mu_d,100*er_d)"
   ]
  },
  {
   "cell_type": "code",
   "execution_count": 55,
   "metadata": {
    "hidden": true
   },
   "outputs": [
    {
     "name": "stdout",
     "output_type": "stream",
     "text": [
      "1.000(50)e-08\n",
      "3.000(90)\n",
      "0.05000(50)\n",
      "0.0320(16)\n"
     ]
    }
   ],
   "source": [
    "pretty(F)\n",
    "pretty(M)\n",
    "pretty(m)\n",
    "pretty(d)"
   ]
  },
  {
   "cell_type": "code",
   "execution_count": 56,
   "metadata": {
    "hidden": true
   },
   "outputs": [
    {
     "name": "stdout",
     "output_type": "stream",
     "text": [
      "6.83(79)e-11\n",
      "(6.83±0.79)×10⁻¹¹\n"
     ]
    }
   ],
   "source": [
    "G = d**2 * F / ( M * m )\n",
    "\n",
    "pretty(G)\n",
    "prettyl(G)"
   ]
  },
  {
   "cell_type": "markdown",
   "metadata": {
    "hidden": true
   },
   "source": [
    "Consistente con Monte-Carlo:"
   ]
  },
  {
   "cell_type": "code",
   "execution_count": 57,
   "metadata": {
    "hidden": true
   },
   "outputs": [],
   "source": [
    "import numpy as np\n",
    "import matplotlib.pyplot as plt\n",
    "\n",
    "%matplotlib inline"
   ]
  },
  {
   "cell_type": "code",
   "execution_count": 58,
   "metadata": {
    "hidden": true
   },
   "outputs": [
    {
     "data": {
      "image/png": "[encoded data removed]",
      "text/plain": [
       "<matplotlib.figure.Figure at 0x7f5bfbf3a198>"
      ]
     },
     "metadata": {},
     "output_type": "display_data"
    }
   ],
   "source": [
    "sigma_F = er_F * mu_F\n",
    "sigma_M = er_M * mu_M\n",
    "sigma_m = er_m * mu_m\n",
    "sigma_d = er_d * mu_d\n",
    "\n",
    "N = 100000\n",
    "F = mu_F + sigma_F * np.random.randn( N )\n",
    "M = mu_M + sigma_M * np.random.randn( N )\n",
    "m = mu_m + sigma_m * np.random.randn( N )\n",
    "d = mu_d + sigma_d * np.random.randn( N )\n",
    "\n",
    "G = d**2 * F / ( M * m )\n",
    "\n",
    "plt.hist( G, 40, density = 1 );"
   ]
  },
  {
   "cell_type": "code",
   "execution_count": 59,
   "metadata": {
    "hidden": true
   },
   "outputs": [
    {
     "data": {
      "text/plain": [
       "6.851940736879683e-11"
      ]
     },
     "execution_count": 59,
     "metadata": {},
     "output_type": "execute_result"
    }
   ],
   "source": [
    "np.mean(G)"
   ]
  },
  {
   "cell_type": "code",
   "execution_count": 60,
   "metadata": {
    "hidden": true
   },
   "outputs": [
    {
     "data": {
      "text/plain": [
       "7.95144571724547e-12"
      ]
     },
     "execution_count": 60,
     "metadata": {},
     "output_type": "execute_result"
    }
   ],
   "source": [
    "np.std(G)"
   ]
  }
 ],
 "metadata": {
  "hide_input": false,
  "kernelspec": {
   "display_name": "Python 3",
   "language": "python",
   "name": "python3"
  },
  "language_info": {
   "codemirror_mode": {
    "name": "ipython",
    "version": 3
   },
   "file_extension": ".py",
   "mimetype": "text/x-python",
   "name": "python",
   "nbconvert_exporter": "python",
   "pygments_lexer": "ipython3",
   "version": "3.6.3"
  },
  "varInspector": {
   "cols": {
    "lenName": 16,
    "lenType": 16,
    "lenVar": 40
   },
   "kernels_config": {
    "python": {
     "delete_cmd_postfix": "",
     "delete_cmd_prefix": "del ",
     "library": "var_list.py",
     "varRefreshCmd": "print(var_dic_list())"
    },
    "r": {
     "delete_cmd_postfix": ") ",
     "delete_cmd_prefix": "rm(",
     "library": "var_list.r",
     "varRefreshCmd": "cat(var_dic_list()) "
    }
   },
   "types_to_exclude": [
    "module",
    "function",
    "builtin_function_or_method",
    "instance",
    "_Feature"
   ],
   "window_display": false
  }
 },
 "nbformat": 4,
 "nbformat_minor": 1
}
