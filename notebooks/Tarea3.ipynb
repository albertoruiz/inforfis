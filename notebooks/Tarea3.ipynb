{
 "cells": [
  {
   "cell_type": "markdown",
   "metadata": {},
   "source": [
    "# Tarea 3\n",
    "\n",
    "Nombre:  **Xxxxx Yyyyy Zzzzzz** \n",
    "\n",
    "X/10/2020\n",
    "\n",
    "Resuelve los siguientes ejercicios usando únicamente los conceptos explicados en clase hasta ahora."
   ]
  },
  {
   "cell_type": "markdown",
   "metadata": {},
   "source": [
    "1) Calcula la suma siguiente:\n",
    "\n",
    "\n",
    "\n",
    "$$\\sum_{k=1}^{100} (-1)^k \\; k^3$$"
   ]
  },
  {
   "cell_type": "code",
   "execution_count": null,
   "metadata": {},
   "outputs": [],
   "source": []
  },
  {
   "cell_type": "markdown",
   "metadata": {},
   "source": [
    "2) Define la función\n",
    "\n",
    "$$S(n) = \\sum_{k=0}^n k^2 $$\n",
    "\n",
    "y comprueba para varios valores de $n$ la identidad $S(n) = n(n+1)(2n+1)/6$."
   ]
  },
  {
   "cell_type": "code",
   "execution_count": null,
   "metadata": {},
   "outputs": [],
   "source": []
  },
  {
   "cell_type": "markdown",
   "metadata": {},
   "source": [
    "3) Define la función factorial:\n",
    "\n",
    "$$n! = \\prod_{k=1}^{n} k $$\n",
    "\n",
    "y apoyándote en ella define una función para calcular los [coeficientes binomiales](https://en.wikipedia.org/wiki/Binomial_coefficient)."
   ]
  },
  {
   "cell_type": "code",
   "execution_count": null,
   "metadata": {},
   "outputs": [],
   "source": []
  },
  {
   "cell_type": "markdown",
   "metadata": {},
   "source": [
    "4) Define una función que admita como argumentos los coeficientes $a$, $b$, $c$ de una ecuación de segundo grado $ax^2+bx+c=0$ y obtenga como resultado sus dos soluciones. Calcula una sola vez el valor de la ráiz cuadrada. Comprueba su funcionamiento con al menos 3 ecuaciones diferentes."
   ]
  },
  {
   "cell_type": "code",
   "execution_count": null,
   "metadata": {},
   "outputs": [],
   "source": []
  },
  {
   "cell_type": "markdown",
   "metadata": {},
   "source": [
    "5) Define una función que calcule el período de un péndulo de longitud $l$ (metros) y amplitud $\\phi$ (grados). Utiliza la fórmula de la tarea anterior y usa variables locales para almacenar  $T_0$ y la corrección. Prueba su funcionamiento con dos valores de $l$ y dos de $\\phi$ (total 4 pruebas)."
   ]
  },
  {
   "cell_type": "code",
   "execution_count": null,
   "metadata": {},
   "outputs": [],
   "source": []
  },
  {
   "cell_type": "markdown",
   "metadata": {},
   "source": [
    "6) Escribe una función para calcular el área de un triángulo **a partir de las longitudes de sus lados** ([fórmula de Heron](https://en.wikipedia.org/wiki/Heron%27s_formula)). Muestra su funcionamiento en varios casos de prueba. ¿Qué ocurre cuando las longitudes dadas no forman un triángulo?"
   ]
  },
  {
   "cell_type": "code",
   "execution_count": null,
   "metadata": {},
   "outputs": [],
   "source": []
  },
  {
   "cell_type": "markdown",
   "metadata": {},
   "source": [
    "7) Define la función\n",
    "\n",
    "$$\\Phi(t) = \\frac{1}{\\sqrt{2\\pi}}\\int_{0}^t e^{-\\frac{1}{2}x^2} dx$$\n",
    "\n",
    "aproximando la integral mediante la regla del trapecio con $n$ tramos. Compara el resultado que obtienes para $\\Phi(0.46)$ con su valor real."
   ]
  },
  {
   "cell_type": "code",
   "execution_count": null,
   "metadata": {},
   "outputs": [],
   "source": []
  }
 ],
 "metadata": {
  "hide_input": false,
  "kernelspec": {
   "display_name": "Python 3",
   "language": "python",
   "name": "python3"
  },
  "language_info": {
   "codemirror_mode": {
    "name": "ipython",
    "version": 3
   },
   "file_extension": ".py",
   "mimetype": "text/x-python",
   "name": "python",
   "nbconvert_exporter": "python",
   "pygments_lexer": "ipython3",
   "version": "3.6.4"
  },
  "varInspector": {
   "cols": {
    "lenName": 16,
    "lenType": 16,
    "lenVar": 40
   },
   "kernels_config": {
    "python": {
     "delete_cmd_postfix": "",
     "delete_cmd_prefix": "del ",
     "library": "var_list.py",
     "varRefreshCmd": "print(var_dic_list())"
    },
    "r": {
     "delete_cmd_postfix": ") ",
     "delete_cmd_prefix": "rm(",
     "library": "var_list.r",
     "varRefreshCmd": "cat(var_dic_list()) "
    }
   },
   "types_to_exclude": [
    "module",
    "function",
    "builtin_function_or_method",
    "instance",
    "_Feature"
   ],
   "window_display": false
  }
 },
 "nbformat": 4,
 "nbformat_minor": 2
}
