{
 "cells": [
  {
   "cell_type": "markdown",
   "metadata": {},
   "source": [
    "# Tarea 5\n",
    "\n",
    "Nombre:  **Nombre Apellido Apellido** \n",
    "\n",
    "Resuelve los siguientes ejercicios, usando únicamente los conceptos explicados en clase hasta ahora."
   ]
  },
  {
   "cell_type": "markdown",
   "metadata": {},
   "source": [
    "1) Construye una lista con **tripletas pitagóricas** de números naturales $(a,b,c)$ tales que $a^2+b^2=c^2$. El resultado debe ser una lista parecida a esta: \\[(3, 4, 5), (5, 12, 13),  (6, 8, 10),  (7, 24, 25), (8, 15, 17), ... \\]. Incluye solo las tripletas con $a < b$ y hasta un cierto valor máximo de $c$."
   ]
  },
  {
   "cell_type": "code",
   "execution_count": 1,
   "metadata": {},
   "outputs": [
    {
     "name": "stdout",
     "output_type": "stream",
     "text": [
      "(3, 4, 5)\n",
      "(6, 8, 10)\n",
      "(5, 12, 13)\n",
      "(9, 12, 15)\n",
      "(8, 15, 17)\n",
      "(12, 16, 20)\n",
      "(15, 20, 25)\n",
      "(20, 21, 29)\n",
      "(7, 24, 25)\n",
      "(10, 24, 26)\n",
      "(18, 24, 30)\n",
      "(21, 28, 35)\n",
      "(16, 30, 34)\n",
      "(24, 32, 40)\n",
      "(12, 35, 37)\n",
      "(15, 36, 39)\n",
      "(27, 36, 45)\n",
      "(9, 40, 41)\n"
     ]
    }
   ],
   "source": [
    "# Se pide construir una lista.\n",
    "# La siguiente solución solo calcula e imprime.\n",
    "# No es del todo correcta.\n",
    "\n",
    "MAX = 50\n",
    "\n",
    "for b in range(1,MAX):\n",
    "    for c in range (1,MAX):\n",
    "        for a in range (1,MAX):\n",
    "            if a<b and (a**2)+(b**2)==c**2:\n",
    "                print((a,b,c))"
   ]
  },
  {
   "cell_type": "code",
   "execution_count": 2,
   "metadata": {},
   "outputs": [
    {
     "data": {
      "text/plain": [
       "[(3, 4, 5),\n",
       " (5, 12, 13),\n",
       " (6, 8, 10),\n",
       " (7, 24, 25),\n",
       " (8, 15, 17),\n",
       " (9, 12, 15),\n",
       " (9, 40, 41),\n",
       " (10, 24, 26),\n",
       " (12, 16, 20),\n",
       " (12, 35, 37),\n",
       " (15, 20, 25),\n",
       " (15, 36, 39),\n",
       " (16, 30, 34),\n",
       " (18, 24, 30),\n",
       " (20, 21, 29),\n",
       " (21, 28, 35),\n",
       " (24, 32, 40),\n",
       " (27, 36, 45)]"
      ]
     },
     "execution_count": 2,
     "metadata": {},
     "output_type": "execute_result"
    }
   ],
   "source": [
    "# Una posible solución es añadir las tripletas a una lista inicialmente vacía.\n",
    "# Hacemos un bucle triple que recorre todas las posibilidades de los 3 elementos\n",
    "# y añadimos los que cumplen la condición.\n",
    "\n",
    "MAX = 50\n",
    "\n",
    "r=[]\n",
    "\n",
    "for a in range(1,MAX):\n",
    "    for b in range (1,MAX):\n",
    "        for c in range (1,MAX):\n",
    "            if a<b and (a**2)+(b**2)==c**2:\n",
    "                r.append((a,b,c))\n",
    "    \n",
    "r"
   ]
  },
  {
   "cell_type": "code",
   "execution_count": 3,
   "metadata": {},
   "outputs": [
    {
     "data": {
      "text/plain": [
       "[(3, 4, 5),\n",
       " (5, 12, 13),\n",
       " (6, 8, 10),\n",
       " (7, 24, 25),\n",
       " (8, 15, 17),\n",
       " (9, 12, 15),\n",
       " (9, 40, 41),\n",
       " (10, 24, 26),\n",
       " (12, 16, 20),\n",
       " (12, 35, 37),\n",
       " (15, 20, 25),\n",
       " (15, 36, 39),\n",
       " (16, 30, 34),\n",
       " (18, 24, 30),\n",
       " (20, 21, 29),\n",
       " (21, 28, 35),\n",
       " (24, 32, 40),\n",
       " (27, 36, 45)]"
      ]
     },
     "execution_count": 3,
     "metadata": {},
     "output_type": "execute_result"
    }
   ],
   "source": [
    "# Otra forma de resolverlo es mediante una \"list comprehension\" :\n",
    "\n",
    "MAX = 50\n",
    "\n",
    "resul = [ (a,b,c) for a in range(1,MAX) \n",
    "                  for b in range(a+1,MAX)\n",
    "                  for c in range(b+1,MAX)\n",
    "                  if a**2 + b**2 == (c**2) ]\n",
    "\n",
    "resul"
   ]
  },
  {
   "cell_type": "code",
   "execution_count": 4,
   "metadata": {},
   "outputs": [],
   "source": [
    "# Estos métodos usan demasiada fuerza bruta. Es mejor hacer solo un bucle doble\n",
    "# recorriendo a y b, y comprobar si a**2 + b**2 es un cuadrado perfecto.\n",
    "# Esto puede hacerse de varias formas.\n",
    "\n",
    "# En realidad las tripletas pitagóricas se pueden generar de forma\n",
    "# sistemática con un algoritmo más sencillo (ver p.ej. wikipedia)"
   ]
  },
  {
   "cell_type": "markdown",
   "metadata": {},
   "source": [
    "2) Escribe una función para calcular el área de un triángulo **a partir de las longitudes de sus lados** ([fórmula de Heron](https://en.wikipedia.org/wiki/Heron%27s_formula)). "
   ]
  },
  {
   "cell_type": "code",
   "execution_count": 5,
   "metadata": {},
   "outputs": [
    {
     "name": "stdout",
     "output_type": "stream",
     "text": [
      "6.0\n",
      "24.0\n"
     ]
    },
    {
     "data": {
      "text/plain": [
       "(6.092540900222253e-15+99.498743710662j)"
      ]
     },
     "execution_count": 5,
     "metadata": {},
     "output_type": "execute_result"
    }
   ],
   "source": [
    "def heron(a,b,c):\n",
    "    s = (a+b+c)/2\n",
    "    return (s*(s-a)*(s-b)*(s-c))**0.5\n",
    "\n",
    "print( heron(3, 4, 5) )\n",
    "print( heron(4, 13, 15))\n",
    "\n",
    "# con triángulos imposibles da un resultado imaginario\n",
    "heron(1,1,20)"
   ]
  },
  {
   "cell_type": "markdown",
   "metadata": {},
   "source": [
    "3) Escribe una función para calcular el área de un triángulo **a partir de las coordenadas de sus vértices**. Puedes apoyarte en el ejercicio anterior."
   ]
  },
  {
   "cell_type": "code",
   "execution_count": 6,
   "metadata": {},
   "outputs": [
    {
     "data": {
      "text/plain": [
       "6.0"
      ]
     },
     "execution_count": 6,
     "metadata": {},
     "output_type": "execute_result"
    }
   ],
   "source": [
    "# En este ejercicio tiene sentido aprovechar la función heron que acabamos de definir,\n",
    "# sin volver a escribir la fórmula anterior.\n",
    "\n",
    "# Las longitudes de los lados se pueden calcular con np.linalg.norm, que calcula el módulo de un vector.\n",
    "\n",
    "\n",
    "import numpy as np\n",
    "\n",
    "def area(x,y,z):\n",
    "    a = np.linalg.norm(x-y)\n",
    "    b = np.linalg.norm(x-z)\n",
    "    c = np.linalg.norm(y-z)\n",
    "    return heron(a, b, c)\n",
    "\n",
    "p = np.array( [3,4] )\n",
    "q = np.array( [3,7] )\n",
    "r = np.array( [7,4] )\n",
    "\n",
    "area(p,q,r)"
   ]
  },
  {
   "cell_type": "code",
   "execution_count": 7,
   "metadata": {},
   "outputs": [
    {
     "data": {
      "text/plain": [
       "6.0"
      ]
     },
     "execution_count": 7,
     "metadata": {},
     "output_type": "execute_result"
    }
   ],
   "source": [
    "# Podemos definir también la distancia entre dos puntos\n",
    "\n",
    "def dist(p,q):\n",
    "    return np.sqrt((p[0] - q[0])**2 + (p[1] - q[1])**2)\n",
    "\n",
    "def area(x,y,z):\n",
    "    a = dist(x,y)\n",
    "    b = dist(x,z)\n",
    "    c = dist(y,z)\n",
    "    return heron(a, b, c)\n",
    "\n",
    "p = np.array( [3,4] )\n",
    "q = np.array( [3,7] )\n",
    "r = np.array( [7,4] )\n",
    "\n",
    "area(p,q,r)"
   ]
  },
  {
   "cell_type": "code",
   "execution_count": 8,
   "metadata": {},
   "outputs": [
    {
     "data": {
      "text/plain": [
       "6.0"
      ]
     },
     "execution_count": 8,
     "metadata": {},
     "output_type": "execute_result"
    }
   ],
   "source": [
    "# Una forma más compacta y de definir la distancia entre dos puntos\n",
    "# que funciona en cualquier dimensión:\n",
    "\n",
    "def dist(p,q):\n",
    "    return np.sqrt( np.sum((p-q)**2) )\n",
    "\n",
    "def area(x,y,z):\n",
    "    a = dist(x,y)\n",
    "    b = dist(x,z)\n",
    "    c = dist(y,z)\n",
    "    return heron(a, b, c)\n",
    "\n",
    "p = np.array( [3,4] )\n",
    "q = np.array( [3,7] )\n",
    "r = np.array( [7,4] )\n",
    "\n",
    "area(p,q,r)"
   ]
  }
 ],
 "metadata": {
  "kernelspec": {
   "display_name": "Python 3",
   "language": "python",
   "name": "python3"
  },
  "language_info": {
   "codemirror_mode": {
    "name": "ipython",
    "version": 3
   },
   "file_extension": ".py",
   "mimetype": "text/x-python",
   "name": "python",
   "nbconvert_exporter": "python",
   "pygments_lexer": "ipython3",
   "version": "3.6.4"
  },
  "varInspector": {
   "cols": {
    "lenName": 16,
    "lenType": 16,
    "lenVar": 40
   },
   "kernels_config": {
    "python": {
     "delete_cmd_postfix": "",
     "delete_cmd_prefix": "del ",
     "library": "var_list.py",
     "varRefreshCmd": "print(var_dic_list())"
    },
    "r": {
     "delete_cmd_postfix": ") ",
     "delete_cmd_prefix": "rm(",
     "library": "var_list.r",
     "varRefreshCmd": "cat(var_dic_list()) "
    }
   },
   "types_to_exclude": [
    "module",
    "function",
    "builtin_function_or_method",
    "instance",
    "_Feature"
   ],
   "window_display": false
  }
 },
 "nbformat": 4,
 "nbformat_minor": 2
}
