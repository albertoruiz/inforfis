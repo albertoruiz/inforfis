{
 "cells": [
  {
   "cell_type": "markdown",
   "metadata": {},
   "source": [
    "# Tarea 8\n",
    "\n",
    "**NOMBRE Apellido Apellido** \n",
    "\n",
    "x/11/2020"
   ]
  },
  {
   "cell_type": "markdown",
   "metadata": {},
   "source": [
    "## Repaso"
   ]
  },
  {
   "cell_type": "markdown",
   "metadata": {},
   "source": [
    "Sigue repasando los **ejercicios anteriores** en los que has tenido dificultades y consulta las dudas al profesor. (Suponemos que has estudiado detenidamente el material de la asignatura. Si no es así empieza por ahí.)\n",
    "\n",
    "**NO** mires las soluciones si no has intentado en serio resolver cada ejercicio.\n",
    "\n",
    "En la tarea de hoy debes incluir un apartado que explique estas dificultades y cómo las has resuelto."
   ]
  },
  {
   "cell_type": "markdown",
   "metadata": {},
   "source": [
    "## Ejercicios"
   ]
  },
  {
   "cell_type": "markdown",
   "metadata": {},
   "source": [
    "Resuelve los siguientes ejercicios usando los conceptos explicados en clase."
   ]
  },
  {
   "cell_type": "markdown",
   "metadata": {},
   "source": [
    "**1**) Comprueba el [teorema de Nichomacus](https://en.wikipedia.org/wiki/Squared_triangular_number) para unos cuantos valores de $n$:\n",
    "\n",
    " $$1^3 + 2^3 + 3^3 + \\ldots + n^3 = (1+2+3+\\ldots+n)^2 $$\n"
   ]
  },
  {
   "cell_type": "markdown",
   "metadata": {},
   "source": [
    "**2**) Define una función para determinar si una lista de enteros es el comienzo de una progresión geométrica. P. ej.:\n",
    "\n",
    "    pg( [17,8,11] )      --->  False\n",
    "    pg( [5,20,80] )      --->  True\n",
    "    pg( [3,15,30,60] )   --->  False"
   ]
  },
  {
   "cell_type": "markdown",
   "metadata": {},
   "source": [
    "**3**) [Euler demostró](https://en.wikipedia.org/wiki/Basel_problem) que\n",
    "$$\\sum_{k=1}^\\infty \\frac{1}{k^2} = \\frac{\\pi^2}{6} = 1.64493 \\ldots$$\n",
    "Comprueba que las sumas parciales se van aproximando al valor real, e intenta determinar cuántos términos son  necesarios para conseguir una diferencia absoluta menor que 0.001."
   ]
  },
  {
   "cell_type": "markdown",
   "metadata": {},
   "source": [
    "**4**) Escribe una función `separa(d)` para expresar una determinada cantidad `d` con billetes y monedas de euro (considera solo los valores 50, 20, 10, 5, 2, 1). Por ejemplo:\n",
    "\n",
    "    separa(5)  --> [5]\n",
    "    separa(18) --> [10,5,2,1]\n",
    "    separa(49) --> [20,20,5,2,2]"
   ]
  },
  {
   "cell_type": "markdown",
   "metadata": {},
   "source": [
    "**5**) Encuentra las raíces del polinomio $p(x)=x^7-x^3+4$."
   ]
  },
  {
   "cell_type": "markdown",
   "metadata": {},
   "source": [
    "**6**) Calcula\n",
    "$$\\int_{-1}^{1} \\cos(x^5) dx$$"
   ]
  },
  {
   "cell_type": "markdown",
   "metadata": {},
   "source": [
    "**7**) Resuelve el siguiente sistema de ecuaciones no lineales:\n",
    "$$\n",
    "\\begin{align*}\n",
    "\\sin(x) &= y^2\\\\\n",
    "\\cos(y) &= z^2\\\\\n",
    "\\tan(z) &= \\sin(y)+\\cos(x)\n",
    "\\end{align*}\n",
    "$$"
   ]
  },
  {
   "cell_type": "markdown",
   "metadata": {},
   "source": [
    "**8**) Encuentra el valor de $x$ que minimiza la función\n",
    "$$Q(x) = \\sum_k (x - d_k)^2$$\n",
    "    donde $d$ = [1,3,10,12]."
   ]
  }
 ],
 "metadata": {
  "hide_input": false,
  "kernelspec": {
   "display_name": "Python 3",
   "language": "python",
   "name": "python3"
  },
  "language_info": {
   "codemirror_mode": {
    "name": "ipython",
    "version": 3
   },
   "file_extension": ".py",
   "mimetype": "text/x-python",
   "name": "python",
   "nbconvert_exporter": "python",
   "pygments_lexer": "ipython3",
   "version": "3.6.4"
  },
  "varInspector": {
   "cols": {
    "lenName": 16,
    "lenType": 16,
    "lenVar": 40
   },
   "kernels_config": {
    "python": {
     "delete_cmd_postfix": "",
     "delete_cmd_prefix": "del ",
     "library": "var_list.py",
     "varRefreshCmd": "print(var_dic_list())"
    },
    "r": {
     "delete_cmd_postfix": ") ",
     "delete_cmd_prefix": "rm(",
     "library": "var_list.r",
     "varRefreshCmd": "cat(var_dic_list()) "
    }
   },
   "types_to_exclude": [
    "module",
    "function",
    "builtin_function_or_method",
    "instance",
    "_Feature"
   ],
   "window_display": false
  }
 },
 "nbformat": 4,
 "nbformat_minor": 2
}
