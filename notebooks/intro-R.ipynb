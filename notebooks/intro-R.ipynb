{
 "cells": [
  {
   "cell_type": "markdown",
   "metadata": {},
   "source": [
    "Informática - 1º de Física\n",
    "<br>\n",
    "**Computación Científica**\n",
    "<br>\n",
    "<p style=\"color:#808080\"> <small><small>\n",
    "25/11/2018\n",
    "</small></small></p>"
   ]
  },
  {
   "cell_type": "markdown",
   "metadata": {},
   "source": [
    "# Introducción a R"
   ]
  },
  {
   "cell_type": "markdown",
   "metadata": {},
   "source": [
    "[R]: https://en.wikipedia.org/wiki/R_(programming_language)\n",
    "\n",
    "[R es un lenguaje de programación][R] orientado al análisis de datos y la estadística."
   ]
  },
  {
   "cell_type": "markdown",
   "metadata": {},
   "source": [
    "## Asignación"
   ]
  },
  {
   "cell_type": "markdown",
   "metadata": {},
   "source": [
    "El operador de asignación que se utiliza normalmente en R es `<-`."
   ]
  },
  {
   "cell_type": "markdown",
   "metadata": {},
   "source": [
    "## Tipos de dato"
   ]
  },
  {
   "cell_type": "markdown",
   "metadata": {},
   "source": [
    "**real**"
   ]
  },
  {
   "cell_type": "code",
   "execution_count": 1,
   "metadata": {},
   "outputs": [],
   "source": [
    "x <- 3.8"
   ]
  },
  {
   "cell_type": "code",
   "execution_count": 8,
   "metadata": {},
   "outputs": [
    {
     "data": {
      "text/html": [
       "3.8"
      ],
      "text/latex": [
       "3.8"
      ],
      "text/markdown": [
       "3.8"
      ],
      "text/plain": [
       "[1] 3.8"
      ]
     },
     "metadata": {},
     "output_type": "display_data"
    }
   ],
   "source": [
    "x"
   ]
  },
  {
   "cell_type": "markdown",
   "metadata": {},
   "source": [
    "El tipo de cualquier variable se puede consultar con la función `class`:"
   ]
  },
  {
   "cell_type": "code",
   "execution_count": 9,
   "metadata": {},
   "outputs": [
    {
     "data": {
      "text/html": [
       "'numeric'"
      ],
      "text/latex": [
       "'numeric'"
      ],
      "text/markdown": [
       "'numeric'"
      ],
      "text/plain": [
       "[1] \"numeric\""
      ]
     },
     "metadata": {},
     "output_type": "display_data"
    }
   ],
   "source": [
    "class(x)"
   ]
  },
  {
   "cell_type": "markdown",
   "metadata": {},
   "source": [
    "Los **vectores** (arrays de un índice) se construyen con la función \"c\"."
   ]
  },
  {
   "cell_type": "code",
   "execution_count": 10,
   "metadata": {
    "collapsed": true
   },
   "outputs": [],
   "source": [
    "v <- c(5,-7,8.3)"
   ]
  },
  {
   "cell_type": "code",
   "execution_count": 11,
   "metadata": {},
   "outputs": [
    {
     "data": {
      "text/html": [
       "<ol class=list-inline>\n",
       "\t<li>5</li>\n",
       "\t<li>-7</li>\n",
       "\t<li>8.3</li>\n",
       "</ol>\n"
      ],
      "text/latex": [
       "\\begin{enumerate*}\n",
       "\\item 5\n",
       "\\item -7\n",
       "\\item 8.3\n",
       "\\end{enumerate*}\n"
      ],
      "text/markdown": [
       "1. 5\n",
       "2. -7\n",
       "3. 8.3\n",
       "\n",
       "\n"
      ],
      "text/plain": [
       "[1]  5.0 -7.0  8.3"
      ]
     },
     "metadata": {},
     "output_type": "display_data"
    }
   ],
   "source": [
    "v"
   ]
  },
  {
   "cell_type": "code",
   "execution_count": 12,
   "metadata": {},
   "outputs": [
    {
     "data": {
      "text/html": [
       "'numeric'"
      ],
      "text/latex": [
       "'numeric'"
      ],
      "text/markdown": [
       "'numeric'"
      ],
      "text/plain": [
       "[1] \"numeric\""
      ]
     },
     "metadata": {},
     "output_type": "display_data"
    }
   ],
   "source": [
    "class(v)"
   ]
  },
  {
   "cell_type": "markdown",
   "metadata": {},
   "source": [
    "El tipo \"numeric\" es realmente un array de reales."
   ]
  },
  {
   "cell_type": "markdown",
   "metadata": {},
   "source": [
    "**complex**"
   ]
  },
  {
   "cell_type": "markdown",
   "metadata": {},
   "source": [
    "Los números complejos se construyen con la constante \"i\"."
   ]
  },
  {
   "cell_type": "code",
   "execution_count": 13,
   "metadata": {},
   "outputs": [],
   "source": [
    "z <- c(1,2i,3)"
   ]
  },
  {
   "cell_type": "code",
   "execution_count": 14,
   "metadata": {},
   "outputs": [
    {
     "data": {
      "text/html": [
       "<ol class=list-inline>\n",
       "\t<li>1+0i</li>\n",
       "\t<li>0+2i</li>\n",
       "\t<li>3+0i</li>\n",
       "</ol>\n"
      ],
      "text/latex": [
       "\\begin{enumerate*}\n",
       "\\item 1+0i\n",
       "\\item 0+2i\n",
       "\\item 3+0i\n",
       "\\end{enumerate*}\n"
      ],
      "text/markdown": [
       "1. 1+0i\n",
       "2. 0+2i\n",
       "3. 3+0i\n",
       "\n",
       "\n"
      ],
      "text/plain": [
       "[1] 1+0i 0+2i 3+0i"
      ]
     },
     "metadata": {},
     "output_type": "display_data"
    }
   ],
   "source": [
    "z"
   ]
  },
  {
   "cell_type": "code",
   "execution_count": 15,
   "metadata": {},
   "outputs": [
    {
     "data": {
      "text/html": [
       "'complex'"
      ],
      "text/latex": [
       "'complex'"
      ],
      "text/markdown": [
       "'complex'"
      ],
      "text/plain": [
       "[1] \"complex\""
      ]
     },
     "metadata": {},
     "output_type": "display_data"
    }
   ],
   "source": [
    "class(z)"
   ]
  },
  {
   "cell_type": "markdown",
   "metadata": {},
   "source": [
    "**secuencias**"
   ]
  },
  {
   "cell_type": "code",
   "execution_count": 16,
   "metadata": {},
   "outputs": [
    {
     "data": {
      "text/html": [
       "<ol class=list-inline>\n",
       "\t<li>1</li>\n",
       "\t<li>2</li>\n",
       "\t<li>3</li>\n",
       "\t<li>4</li>\n",
       "\t<li>5</li>\n",
       "</ol>\n"
      ],
      "text/latex": [
       "\\begin{enumerate*}\n",
       "\\item 1\n",
       "\\item 2\n",
       "\\item 3\n",
       "\\item 4\n",
       "\\item 5\n",
       "\\end{enumerate*}\n"
      ],
      "text/markdown": [
       "1. 1\n",
       "2. 2\n",
       "3. 3\n",
       "4. 4\n",
       "5. 5\n",
       "\n",
       "\n"
      ],
      "text/plain": [
       "[1] 1 2 3 4 5"
      ]
     },
     "metadata": {},
     "output_type": "display_data"
    }
   ],
   "source": [
    "seq(5)"
   ]
  },
  {
   "cell_type": "code",
   "execution_count": 17,
   "metadata": {},
   "outputs": [
    {
     "data": {
      "text/html": [
       "<ol class=list-inline>\n",
       "\t<li>3</li>\n",
       "\t<li>4</li>\n",
       "\t<li>5</li>\n",
       "\t<li>6</li>\n",
       "\t<li>7</li>\n",
       "</ol>\n"
      ],
      "text/latex": [
       "\\begin{enumerate*}\n",
       "\\item 3\n",
       "\\item 4\n",
       "\\item 5\n",
       "\\item 6\n",
       "\\item 7\n",
       "\\end{enumerate*}\n"
      ],
      "text/markdown": [
       "1. 3\n",
       "2. 4\n",
       "3. 5\n",
       "4. 6\n",
       "5. 7\n",
       "\n",
       "\n"
      ],
      "text/plain": [
       "[1] 3 4 5 6 7"
      ]
     },
     "metadata": {},
     "output_type": "display_data"
    }
   ],
   "source": [
    "seq(3,7)"
   ]
  },
  {
   "cell_type": "code",
   "execution_count": 4,
   "metadata": {},
   "outputs": [
    {
     "data": {
      "text/html": [
       "<ol class=list-inline>\n",
       "\t<li>3</li>\n",
       "\t<li>5</li>\n",
       "\t<li>7</li>\n",
       "\t<li>9</li>\n",
       "\t<li>11</li>\n",
       "</ol>\n"
      ],
      "text/latex": [
       "\\begin{enumerate*}\n",
       "\\item 3\n",
       "\\item 5\n",
       "\\item 7\n",
       "\\item 9\n",
       "\\item 11\n",
       "\\end{enumerate*}\n"
      ],
      "text/markdown": [
       "1. 3\n",
       "2. 5\n",
       "3. 7\n",
       "4. 9\n",
       "5. 11\n",
       "\n",
       "\n"
      ],
      "text/plain": [
       "[1]  3  5  7  9 11"
      ]
     },
     "metadata": {},
     "output_type": "display_data"
    }
   ],
   "source": [
    "seq(3,11, by=2)"
   ]
  },
  {
   "cell_type": "code",
   "execution_count": 5,
   "metadata": {},
   "outputs": [
    {
     "data": {
      "text/html": [
       "<ol class=list-inline>\n",
       "\t<li>1</li>\n",
       "\t<li>1.1</li>\n",
       "\t<li>1.2</li>\n",
       "\t<li>1.3</li>\n",
       "\t<li>1.4</li>\n",
       "\t<li>1.5</li>\n",
       "\t<li>1.6</li>\n",
       "\t<li>1.7</li>\n",
       "\t<li>1.8</li>\n",
       "\t<li>1.9</li>\n",
       "\t<li>2</li>\n",
       "</ol>\n"
      ],
      "text/latex": [
       "\\begin{enumerate*}\n",
       "\\item 1\n",
       "\\item 1.1\n",
       "\\item 1.2\n",
       "\\item 1.3\n",
       "\\item 1.4\n",
       "\\item 1.5\n",
       "\\item 1.6\n",
       "\\item 1.7\n",
       "\\item 1.8\n",
       "\\item 1.9\n",
       "\\item 2\n",
       "\\end{enumerate*}\n"
      ],
      "text/markdown": [
       "1. 1\n",
       "2. 1.1\n",
       "3. 1.2\n",
       "4. 1.3\n",
       "5. 1.4\n",
       "6. 1.5\n",
       "7. 1.6\n",
       "8. 1.7\n",
       "9. 1.8\n",
       "10. 1.9\n",
       "11. 2\n",
       "\n",
       "\n"
      ],
      "text/plain": [
       " [1] 1.0 1.1 1.2 1.3 1.4 1.5 1.6 1.7 1.8 1.9 2.0"
      ]
     },
     "metadata": {},
     "output_type": "display_data"
    }
   ],
   "source": [
    "seq(1,2, length=11)"
   ]
  },
  {
   "cell_type": "markdown",
   "metadata": {},
   "source": [
    "El operador `:` también se puede utilizar para definir una secuencia de números."
   ]
  },
  {
   "cell_type": "code",
   "execution_count": 20,
   "metadata": {},
   "outputs": [
    {
     "data": {
      "text/html": [
       "<ol class=list-inline>\n",
       "\t<li>3</li>\n",
       "\t<li>4</li>\n",
       "\t<li>5</li>\n",
       "\t<li>6</li>\n",
       "\t<li>7</li>\n",
       "\t<li>8</li>\n",
       "\t<li>9</li>\n",
       "\t<li>10</li>\n",
       "\t<li>11</li>\n",
       "</ol>\n"
      ],
      "text/latex": [
       "\\begin{enumerate*}\n",
       "\\item 3\n",
       "\\item 4\n",
       "\\item 5\n",
       "\\item 6\n",
       "\\item 7\n",
       "\\item 8\n",
       "\\item 9\n",
       "\\item 10\n",
       "\\item 11\n",
       "\\end{enumerate*}\n"
      ],
      "text/markdown": [
       "1. 3\n",
       "2. 4\n",
       "3. 5\n",
       "4. 6\n",
       "5. 7\n",
       "6. 8\n",
       "7. 9\n",
       "8. 10\n",
       "9. 11\n",
       "\n",
       "\n"
      ],
      "text/plain": [
       "[1]  3  4  5  6  7  8  9 10 11"
      ]
     },
     "metadata": {},
     "output_type": "display_data"
    }
   ],
   "source": [
    "3:11"
   ]
  },
  {
   "cell_type": "markdown",
   "metadata": {},
   "source": [
    "**precedencia de `:`**"
   ]
  },
  {
   "cell_type": "markdown",
   "metadata": {},
   "source": [
    "Hay que tener cuidado con la precedencia de `:` respecto de las operaciones aritméticas."
   ]
  },
  {
   "cell_type": "code",
   "execution_count": 21,
   "metadata": {},
   "outputs": [
    {
     "data": {
      "text/html": [
       "<ol class=list-inline>\n",
       "\t<li>2</li>\n",
       "\t<li>3</li>\n",
       "\t<li>4</li>\n",
       "</ol>\n"
      ],
      "text/latex": [
       "\\begin{enumerate*}\n",
       "\\item 2\n",
       "\\item 3\n",
       "\\item 4\n",
       "\\end{enumerate*}\n"
      ],
      "text/markdown": [
       "1. 2\n",
       "2. 3\n",
       "3. 4\n",
       "\n",
       "\n"
      ],
      "text/plain": [
       "[1] 2 3 4"
      ]
     },
     "metadata": {},
     "output_type": "display_data"
    }
   ],
   "source": [
    "3:5 - 1"
   ]
  },
  {
   "cell_type": "markdown",
   "metadata": {},
   "source": [
    "En otros lenguajes lo anterior significa"
   ]
  },
  {
   "cell_type": "code",
   "execution_count": 22,
   "metadata": {},
   "outputs": [
    {
     "data": {
      "text/html": [
       "<ol class=list-inline>\n",
       "\t<li>3</li>\n",
       "\t<li>4</li>\n",
       "</ol>\n"
      ],
      "text/latex": [
       "\\begin{enumerate*}\n",
       "\\item 3\n",
       "\\item 4\n",
       "\\end{enumerate*}\n"
      ],
      "text/markdown": [
       "1. 3\n",
       "2. 4\n",
       "\n",
       "\n"
      ],
      "text/plain": [
       "[1] 3 4"
      ]
     },
     "metadata": {},
     "output_type": "display_data"
    }
   ],
   "source": [
    "3:(5-1)"
   ]
  },
  {
   "cell_type": "markdown",
   "metadata": {},
   "source": [
    "El problema es que la precedencia es inconsistente:"
   ]
  },
  {
   "cell_type": "code",
   "execution_count": 23,
   "metadata": {},
   "outputs": [
    {
     "data": {
      "text/html": [
       "<ol class=list-inline>\n",
       "\t<li>6</li>\n",
       "\t<li>8</li>\n",
       "\t<li>10</li>\n",
       "</ol>\n"
      ],
      "text/latex": [
       "\\begin{enumerate*}\n",
       "\\item 6\n",
       "\\item 8\n",
       "\\item 10\n",
       "\\end{enumerate*}\n"
      ],
      "text/markdown": [
       "1. 6\n",
       "2. 8\n",
       "3. 10\n",
       "\n",
       "\n"
      ],
      "text/plain": [
       "[1]  6  8 10"
      ]
     },
     "metadata": {},
     "output_type": "display_data"
    }
   ],
   "source": [
    "3:5*2"
   ]
  },
  {
   "cell_type": "code",
   "execution_count": 24,
   "metadata": {},
   "outputs": [
    {
     "data": {
      "text/html": [
       "<ol class=list-inline>\n",
       "\t<li>3</li>\n",
       "\t<li>4</li>\n",
       "\t<li>5</li>\n",
       "\t<li>6</li>\n",
       "\t<li>7</li>\n",
       "\t<li>8</li>\n",
       "\t<li>9</li>\n",
       "\t<li>10</li>\n",
       "\t<li>11</li>\n",
       "\t<li>12</li>\n",
       "\t<li>13</li>\n",
       "\t<li>14</li>\n",
       "\t<li>15</li>\n",
       "\t<li>16</li>\n",
       "\t<li>17</li>\n",
       "\t<li>18</li>\n",
       "\t<li>19</li>\n",
       "\t<li>20</li>\n",
       "\t<li>21</li>\n",
       "\t<li>22</li>\n",
       "\t<li>23</li>\n",
       "\t<li>24</li>\n",
       "\t<li>25</li>\n",
       "</ol>\n"
      ],
      "text/latex": [
       "\\begin{enumerate*}\n",
       "\\item 3\n",
       "\\item 4\n",
       "\\item 5\n",
       "\\item 6\n",
       "\\item 7\n",
       "\\item 8\n",
       "\\item 9\n",
       "\\item 10\n",
       "\\item 11\n",
       "\\item 12\n",
       "\\item 13\n",
       "\\item 14\n",
       "\\item 15\n",
       "\\item 16\n",
       "\\item 17\n",
       "\\item 18\n",
       "\\item 19\n",
       "\\item 20\n",
       "\\item 21\n",
       "\\item 22\n",
       "\\item 23\n",
       "\\item 24\n",
       "\\item 25\n",
       "\\end{enumerate*}\n"
      ],
      "text/markdown": [
       "1. 3\n",
       "2. 4\n",
       "3. 5\n",
       "4. 6\n",
       "5. 7\n",
       "6. 8\n",
       "7. 9\n",
       "8. 10\n",
       "9. 11\n",
       "10. 12\n",
       "11. 13\n",
       "12. 14\n",
       "13. 15\n",
       "14. 16\n",
       "15. 17\n",
       "16. 18\n",
       "17. 19\n",
       "18. 20\n",
       "19. 21\n",
       "20. 22\n",
       "21. 23\n",
       "22. 24\n",
       "23. 25\n",
       "\n",
       "\n"
      ],
      "text/plain": [
       " [1]  3  4  5  6  7  8  9 10 11 12 13 14 15 16 17 18 19 20 21 22 23 24 25"
      ]
     },
     "metadata": {},
     "output_type": "display_data"
    }
   ],
   "source": [
    "3:5^2"
   ]
  },
  {
   "cell_type": "markdown",
   "metadata": {},
   "source": [
    "Así que lo mejor en estos casos es usar paréntesis para dejar claro el significado deseado."
   ]
  },
  {
   "cell_type": "markdown",
   "metadata": {},
   "source": [
    "**integer**"
   ]
  },
  {
   "cell_type": "markdown",
   "metadata": {},
   "source": [
    "Curiosamente, aunque un número no lleve punto decimal se considera real, aunque las secuencias de enteros sí tienen tipo \"integer\":"
   ]
  },
  {
   "cell_type": "code",
   "execution_count": 25,
   "metadata": {},
   "outputs": [
    {
     "data": {
      "text/html": [
       "'numeric'"
      ],
      "text/latex": [
       "'numeric'"
      ],
      "text/markdown": [
       "'numeric'"
      ],
      "text/plain": [
       "[1] \"numeric\""
      ]
     },
     "metadata": {},
     "output_type": "display_data"
    }
   ],
   "source": [
    "class(5)"
   ]
  },
  {
   "cell_type": "code",
   "execution_count": 26,
   "metadata": {},
   "outputs": [
    {
     "data": {
      "text/html": [
       "'integer'"
      ],
      "text/latex": [
       "'integer'"
      ],
      "text/markdown": [
       "'integer'"
      ],
      "text/plain": [
       "[1] \"integer\""
      ]
     },
     "metadata": {},
     "output_type": "display_data"
    }
   ],
   "source": [
    "class(1:5)"
   ]
  },
  {
   "cell_type": "markdown",
   "metadata": {},
   "source": [
    "**cadenas de caracteres**"
   ]
  },
  {
   "cell_type": "code",
   "execution_count": 1,
   "metadata": {},
   "outputs": [],
   "source": [
    "s <- \"hola\""
   ]
  },
  {
   "cell_type": "code",
   "execution_count": 2,
   "metadata": {},
   "outputs": [
    {
     "data": {
      "text/html": [
       "'hola'"
      ],
      "text/latex": [
       "'hola'"
      ],
      "text/markdown": [
       "'hola'"
      ],
      "text/plain": [
       "[1] \"hola\""
      ]
     },
     "metadata": {},
     "output_type": "display_data"
    }
   ],
   "source": [
    "s"
   ]
  },
  {
   "cell_type": "code",
   "execution_count": 3,
   "metadata": {},
   "outputs": [
    {
     "data": {
      "text/html": [
       "'character'"
      ],
      "text/latex": [
       "'character'"
      ],
      "text/markdown": [
       "'character'"
      ],
      "text/plain": [
       "[1] \"character\""
      ]
     },
     "metadata": {},
     "output_type": "display_data"
    }
   ],
   "source": [
    "class(s)"
   ]
  },
  {
   "cell_type": "code",
   "execution_count": 4,
   "metadata": {},
   "outputs": [
    {
     "data": {
      "text/html": [
       "'hola amigos'"
      ],
      "text/latex": [
       "'hola amigos'"
      ],
      "text/markdown": [
       "'hola amigos'"
      ],
      "text/plain": [
       "[1] \"hola amigos\""
      ]
     },
     "metadata": {},
     "output_type": "display_data"
    }
   ],
   "source": [
    "paste('hola','amigos')"
   ]
  },
  {
   "cell_type": "markdown",
   "metadata": {},
   "source": [
    "**lógico**"
   ]
  },
  {
   "cell_type": "code",
   "execution_count": 4,
   "metadata": {
    "collapsed": true
   },
   "outputs": [],
   "source": [
    "l <- 3<8"
   ]
  },
  {
   "cell_type": "code",
   "execution_count": 5,
   "metadata": {},
   "outputs": [
    {
     "data": {
      "text/html": [
       "TRUE"
      ],
      "text/latex": [
       "TRUE"
      ],
      "text/markdown": [
       "TRUE"
      ],
      "text/plain": [
       "[1] TRUE"
      ]
     },
     "metadata": {},
     "output_type": "display_data"
    }
   ],
   "source": [
    "l"
   ]
  },
  {
   "cell_type": "code",
   "execution_count": 6,
   "metadata": {},
   "outputs": [
    {
     "data": {
      "text/html": [
       "'logical'"
      ],
      "text/latex": [
       "'logical'"
      ],
      "text/markdown": [
       "'logical'"
      ],
      "text/plain": [
       "[1] \"logical\""
      ]
     },
     "metadata": {},
     "output_type": "display_data"
    }
   ],
   "source": [
    "class(l)"
   ]
  },
  {
   "cell_type": "markdown",
   "metadata": {},
   "source": [
    "## Operadores"
   ]
  },
  {
   "cell_type": "code",
   "execution_count": 27,
   "metadata": {},
   "outputs": [
    {
     "data": {
      "text/html": [
       "19"
      ],
      "text/latex": [
       "19"
      ],
      "text/markdown": [
       "19"
      ],
      "text/plain": [
       "[1] 19"
      ]
     },
     "metadata": {},
     "output_type": "display_data"
    }
   ],
   "source": [
    "1+2*3^2"
   ]
  },
  {
   "cell_type": "code",
   "execution_count": 28,
   "metadata": {},
   "outputs": [
    {
     "data": {
      "text/html": [
       "2.6"
      ],
      "text/latex": [
       "2.6"
      ],
      "text/markdown": [
       "2.6"
      ],
      "text/plain": [
       "[1] 2.6"
      ]
     },
     "metadata": {},
     "output_type": "display_data"
    }
   ],
   "source": [
    "13/5"
   ]
  },
  {
   "cell_type": "code",
   "execution_count": 29,
   "metadata": {},
   "outputs": [
    {
     "data": {
      "text/html": [
       "2"
      ],
      "text/latex": [
       "2"
      ],
      "text/markdown": [
       "2"
      ],
      "text/plain": [
       "[1] 2"
      ]
     },
     "metadata": {},
     "output_type": "display_data"
    }
   ],
   "source": [
    "13 %/% 5"
   ]
  },
  {
   "cell_type": "code",
   "execution_count": 30,
   "metadata": {},
   "outputs": [
    {
     "data": {
      "text/html": [
       "3"
      ],
      "text/latex": [
       "3"
      ],
      "text/markdown": [
       "3"
      ],
      "text/plain": [
       "[1] 3"
      ]
     },
     "metadata": {},
     "output_type": "display_data"
    }
   ],
   "source": [
    "13 %% 5"
   ]
  },
  {
   "cell_type": "code",
   "execution_count": 4,
   "metadata": {},
   "outputs": [
    {
     "data": {
      "text/html": [
       "TRUE"
      ],
      "text/latex": [
       "TRUE"
      ],
      "text/markdown": [
       "TRUE"
      ],
      "text/plain": [
       "[1] TRUE"
      ]
     },
     "metadata": {},
     "output_type": "display_data"
    }
   ],
   "source": [
    "1+1 == 2 && (5 != 5  || 1 >= 0)"
   ]
  },
  {
   "cell_type": "markdown",
   "metadata": {},
   "source": [
    "La asignación entre paréntesis devuelve el valor almacenado como si fuera una operación normal:"
   ]
  },
  {
   "cell_type": "code",
   "execution_count": 31,
   "metadata": {},
   "outputs": [
    {
     "data": {
      "text/html": [
       "7.4"
      ],
      "text/latex": [
       "7.4"
      ],
      "text/markdown": [
       "7.4"
      ],
      "text/plain": [
       "[1] 7.4"
      ]
     },
     "metadata": {},
     "output_type": "display_data"
    }
   ],
   "source": [
    "2 + (x <- 5.4)"
   ]
  },
  {
   "cell_type": "code",
   "execution_count": 32,
   "metadata": {},
   "outputs": [
    {
     "data": {
      "text/html": [
       "5.4"
      ],
      "text/latex": [
       "5.4"
      ],
      "text/markdown": [
       "5.4"
      ],
      "text/plain": [
       "[1] 5.4"
      ]
     },
     "metadata": {},
     "output_type": "display_data"
    }
   ],
   "source": [
    "x"
   ]
  },
  {
   "cell_type": "markdown",
   "metadata": {},
   "source": [
    "## print"
   ]
  },
  {
   "cell_type": "code",
   "execution_count": 33,
   "metadata": {},
   "outputs": [],
   "source": [
    "x <- 7.5"
   ]
  },
  {
   "cell_type": "code",
   "execution_count": 34,
   "metadata": {},
   "outputs": [
    {
     "name": "stdout",
     "output_type": "stream",
     "text": [
      "[1] 7.5\n"
     ]
    }
   ],
   "source": [
    "print(x)"
   ]
  },
  {
   "cell_type": "code",
   "execution_count": 35,
   "metadata": {},
   "outputs": [
    {
     "name": "stdout",
     "output_type": "stream",
     "text": [
      "[1] 3.1416\n"
     ]
    }
   ],
   "source": [
    "print(pi,digits=5)"
   ]
  },
  {
   "cell_type": "code",
   "execution_count": 36,
   "metadata": {},
   "outputs": [
    {
     "data": {
      "text/html": [
       "<ol class=list-inline>\n",
       "\t<li>1</li>\n",
       "\t<li>2</li>\n",
       "\t<li>3</li>\n",
       "\t<li>4</li>\n",
       "\t<li>5</li>\n",
       "\t<li>6</li>\n",
       "\t<li>7</li>\n",
       "\t<li>8</li>\n",
       "\t<li>9</li>\n",
       "\t<li>10</li>\n",
       "\t<li>11</li>\n",
       "\t<li>12</li>\n",
       "\t<li>13</li>\n",
       "\t<li>14</li>\n",
       "\t<li>15</li>\n",
       "\t<li>16</li>\n",
       "\t<li>17</li>\n",
       "\t<li>18</li>\n",
       "\t<li>19</li>\n",
       "\t<li>20</li>\n",
       "\t<li>21</li>\n",
       "\t<li>22</li>\n",
       "\t<li>23</li>\n",
       "\t<li>24</li>\n",
       "\t<li>25</li>\n",
       "\t<li>26</li>\n",
       "\t<li>27</li>\n",
       "\t<li>28</li>\n",
       "\t<li>29</li>\n",
       "\t<li>30</li>\n",
       "\t<li>31</li>\n",
       "\t<li>32</li>\n",
       "\t<li>33</li>\n",
       "\t<li>34</li>\n",
       "\t<li>35</li>\n",
       "\t<li>36</li>\n",
       "\t<li>37</li>\n",
       "\t<li>38</li>\n",
       "\t<li>39</li>\n",
       "\t<li>40</li>\n",
       "\t<li>41</li>\n",
       "\t<li>42</li>\n",
       "\t<li>43</li>\n",
       "\t<li>44</li>\n",
       "\t<li>45</li>\n",
       "\t<li>46</li>\n",
       "\t<li>47</li>\n",
       "\t<li>48</li>\n",
       "\t<li>49</li>\n",
       "\t<li>50</li>\n",
       "\t<li>51</li>\n",
       "\t<li>52</li>\n",
       "\t<li>53</li>\n",
       "\t<li>54</li>\n",
       "\t<li>55</li>\n",
       "\t<li>56</li>\n",
       "\t<li>57</li>\n",
       "\t<li>58</li>\n",
       "\t<li>59</li>\n",
       "\t<li>60</li>\n",
       "\t<li>61</li>\n",
       "\t<li>62</li>\n",
       "\t<li>63</li>\n",
       "\t<li>64</li>\n",
       "\t<li>65</li>\n",
       "\t<li>66</li>\n",
       "\t<li>67</li>\n",
       "\t<li>68</li>\n",
       "\t<li>69</li>\n",
       "\t<li>70</li>\n",
       "\t<li>71</li>\n",
       "\t<li>72</li>\n",
       "\t<li>73</li>\n",
       "\t<li>74</li>\n",
       "\t<li>75</li>\n",
       "\t<li>76</li>\n",
       "\t<li>77</li>\n",
       "\t<li>78</li>\n",
       "\t<li>79</li>\n",
       "\t<li>80</li>\n",
       "\t<li>81</li>\n",
       "\t<li>82</li>\n",
       "\t<li>83</li>\n",
       "\t<li>84</li>\n",
       "\t<li>85</li>\n",
       "\t<li>86</li>\n",
       "\t<li>87</li>\n",
       "\t<li>88</li>\n",
       "\t<li>89</li>\n",
       "\t<li>90</li>\n",
       "\t<li>91</li>\n",
       "\t<li>92</li>\n",
       "\t<li>93</li>\n",
       "\t<li>94</li>\n",
       "\t<li>95</li>\n",
       "\t<li>96</li>\n",
       "\t<li>97</li>\n",
       "\t<li>98</li>\n",
       "\t<li>99</li>\n",
       "\t<li>100</li>\n",
       "</ol>\n"
      ],
      "text/latex": [
       "\\begin{enumerate*}\n",
       "\\item 1\n",
       "\\item 2\n",
       "\\item 3\n",
       "\\item 4\n",
       "\\item 5\n",
       "\\item 6\n",
       "\\item 7\n",
       "\\item 8\n",
       "\\item 9\n",
       "\\item 10\n",
       "\\item 11\n",
       "\\item 12\n",
       "\\item 13\n",
       "\\item 14\n",
       "\\item 15\n",
       "\\item 16\n",
       "\\item 17\n",
       "\\item 18\n",
       "\\item 19\n",
       "\\item 20\n",
       "\\item 21\n",
       "\\item 22\n",
       "\\item 23\n",
       "\\item 24\n",
       "\\item 25\n",
       "\\item 26\n",
       "\\item 27\n",
       "\\item 28\n",
       "\\item 29\n",
       "\\item 30\n",
       "\\item 31\n",
       "\\item 32\n",
       "\\item 33\n",
       "\\item 34\n",
       "\\item 35\n",
       "\\item 36\n",
       "\\item 37\n",
       "\\item 38\n",
       "\\item 39\n",
       "\\item 40\n",
       "\\item 41\n",
       "\\item 42\n",
       "\\item 43\n",
       "\\item 44\n",
       "\\item 45\n",
       "\\item 46\n",
       "\\item 47\n",
       "\\item 48\n",
       "\\item 49\n",
       "\\item 50\n",
       "\\item 51\n",
       "\\item 52\n",
       "\\item 53\n",
       "\\item 54\n",
       "\\item 55\n",
       "\\item 56\n",
       "\\item 57\n",
       "\\item 58\n",
       "\\item 59\n",
       "\\item 60\n",
       "\\item 61\n",
       "\\item 62\n",
       "\\item 63\n",
       "\\item 64\n",
       "\\item 65\n",
       "\\item 66\n",
       "\\item 67\n",
       "\\item 68\n",
       "\\item 69\n",
       "\\item 70\n",
       "\\item 71\n",
       "\\item 72\n",
       "\\item 73\n",
       "\\item 74\n",
       "\\item 75\n",
       "\\item 76\n",
       "\\item 77\n",
       "\\item 78\n",
       "\\item 79\n",
       "\\item 80\n",
       "\\item 81\n",
       "\\item 82\n",
       "\\item 83\n",
       "\\item 84\n",
       "\\item 85\n",
       "\\item 86\n",
       "\\item 87\n",
       "\\item 88\n",
       "\\item 89\n",
       "\\item 90\n",
       "\\item 91\n",
       "\\item 92\n",
       "\\item 93\n",
       "\\item 94\n",
       "\\item 95\n",
       "\\item 96\n",
       "\\item 97\n",
       "\\item 98\n",
       "\\item 99\n",
       "\\item 100\n",
       "\\end{enumerate*}\n"
      ],
      "text/markdown": [
       "1. 1\n",
       "2. 2\n",
       "3. 3\n",
       "4. 4\n",
       "5. 5\n",
       "6. 6\n",
       "7. 7\n",
       "8. 8\n",
       "9. 9\n",
       "10. 10\n",
       "11. 11\n",
       "12. 12\n",
       "13. 13\n",
       "14. 14\n",
       "15. 15\n",
       "16. 16\n",
       "17. 17\n",
       "18. 18\n",
       "19. 19\n",
       "20. 20\n",
       "21. 21\n",
       "22. 22\n",
       "23. 23\n",
       "24. 24\n",
       "25. 25\n",
       "26. 26\n",
       "27. 27\n",
       "28. 28\n",
       "29. 29\n",
       "30. 30\n",
       "31. 31\n",
       "32. 32\n",
       "33. 33\n",
       "34. 34\n",
       "35. 35\n",
       "36. 36\n",
       "37. 37\n",
       "38. 38\n",
       "39. 39\n",
       "40. 40\n",
       "41. 41\n",
       "42. 42\n",
       "43. 43\n",
       "44. 44\n",
       "45. 45\n",
       "46. 46\n",
       "47. 47\n",
       "48. 48\n",
       "49. 49\n",
       "50. 50\n",
       "51. 51\n",
       "52. 52\n",
       "53. 53\n",
       "54. 54\n",
       "55. 55\n",
       "56. 56\n",
       "57. 57\n",
       "58. 58\n",
       "59. 59\n",
       "60. 60\n",
       "61. 61\n",
       "62. 62\n",
       "63. 63\n",
       "64. 64\n",
       "65. 65\n",
       "66. 66\n",
       "67. 67\n",
       "68. 68\n",
       "69. 69\n",
       "70. 70\n",
       "71. 71\n",
       "72. 72\n",
       "73. 73\n",
       "74. 74\n",
       "75. 75\n",
       "76. 76\n",
       "77. 77\n",
       "78. 78\n",
       "79. 79\n",
       "80. 80\n",
       "81. 81\n",
       "82. 82\n",
       "83. 83\n",
       "84. 84\n",
       "85. 85\n",
       "86. 86\n",
       "87. 87\n",
       "88. 88\n",
       "89. 89\n",
       "90. 90\n",
       "91. 91\n",
       "92. 92\n",
       "93. 93\n",
       "94. 94\n",
       "95. 95\n",
       "96. 96\n",
       "97. 97\n",
       "98. 98\n",
       "99. 99\n",
       "100. 100\n",
       "\n",
       "\n"
      ],
      "text/plain": [
       "  [1]   1   2   3   4   5   6   7   8   9  10  11  12  13  14  15  16  17  18\n",
       " [19]  19  20  21  22  23  24  25  26  27  28  29  30  31  32  33  34  35  36\n",
       " [37]  37  38  39  40  41  42  43  44  45  46  47  48  49  50  51  52  53  54\n",
       " [55]  55  56  57  58  59  60  61  62  63  64  65  66  67  68  69  70  71  72\n",
       " [73]  73  74  75  76  77  78  79  80  81  82  83  84  85  86  87  88  89  90\n",
       " [91]  91  92  93  94  95  96  97  98  99 100"
      ]
     },
     "metadata": {},
     "output_type": "display_data"
    }
   ],
   "source": [
    "1:100"
   ]
  },
  {
   "cell_type": "code",
   "execution_count": 37,
   "metadata": {},
   "outputs": [
    {
     "name": "stdout",
     "output_type": "stream",
     "text": [
      "  [1]   1   2   3   4   5   6   7   8   9  10  11  12  13  14  15  16  17  18\n",
      " [19]  19  20  21  22  23  24  25  26  27  28  29  30  31  32  33  34  35  36\n",
      " [37]  37  38  39  40  41  42  43  44  45  46  47  48  49  50  51  52  53  54\n",
      " [55]  55  56  57  58  59  60  61  62  63  64  65  66  67  68  69  70  71  72\n",
      " [73]  73  74  75  76  77  78  79  80  81  82  83  84  85  86  87  88  89  90\n",
      " [91]  91  92  93  94  95  96  97  98  99 100\n"
     ]
    }
   ],
   "source": [
    "print(1:100)"
   ]
  },
  {
   "cell_type": "markdown",
   "metadata": {},
   "source": [
    "(Los números entre corchete que hay al principio de cada línea son el índice del elemento siguiente.)"
   ]
  },
  {
   "cell_type": "markdown",
   "metadata": {},
   "source": [
    "## Matrices"
   ]
  },
  {
   "cell_type": "code",
   "execution_count": 38,
   "metadata": {},
   "outputs": [],
   "source": [
    "v <- c(1,2,3,4,5,6,7,8,9,10,11,12)"
   ]
  },
  {
   "cell_type": "code",
   "execution_count": 39,
   "metadata": {},
   "outputs": [
    {
     "data": {
      "text/html": [
       "<ol class=list-inline>\n",
       "\t<li>1</li>\n",
       "\t<li>2</li>\n",
       "\t<li>3</li>\n",
       "\t<li>4</li>\n",
       "\t<li>5</li>\n",
       "\t<li>6</li>\n",
       "\t<li>7</li>\n",
       "\t<li>8</li>\n",
       "\t<li>9</li>\n",
       "\t<li>10</li>\n",
       "\t<li>11</li>\n",
       "\t<li>12</li>\n",
       "</ol>\n"
      ],
      "text/latex": [
       "\\begin{enumerate*}\n",
       "\\item 1\n",
       "\\item 2\n",
       "\\item 3\n",
       "\\item 4\n",
       "\\item 5\n",
       "\\item 6\n",
       "\\item 7\n",
       "\\item 8\n",
       "\\item 9\n",
       "\\item 10\n",
       "\\item 11\n",
       "\\item 12\n",
       "\\end{enumerate*}\n"
      ],
      "text/markdown": [
       "1. 1\n",
       "2. 2\n",
       "3. 3\n",
       "4. 4\n",
       "5. 5\n",
       "6. 6\n",
       "7. 7\n",
       "8. 8\n",
       "9. 9\n",
       "10. 10\n",
       "11. 11\n",
       "12. 12\n",
       "\n",
       "\n"
      ],
      "text/plain": [
       " [1]  1  2  3  4  5  6  7  8  9 10 11 12"
      ]
     },
     "metadata": {},
     "output_type": "display_data"
    }
   ],
   "source": [
    "v"
   ]
  },
  {
   "cell_type": "code",
   "execution_count": 40,
   "metadata": {},
   "outputs": [
    {
     "data": {
      "text/html": [
       "'numeric'"
      ],
      "text/latex": [
       "'numeric'"
      ],
      "text/markdown": [
       "'numeric'"
      ],
      "text/plain": [
       "[1] \"numeric\""
      ]
     },
     "metadata": {},
     "output_type": "display_data"
    }
   ],
   "source": [
    "class(v)"
   ]
  },
  {
   "cell_type": "markdown",
   "metadata": {},
   "source": [
    "Las matrices (arrays de dos índices) se pueden construir reorganizando los datos de un vector. Por omisión se colocan por columnas."
   ]
  },
  {
   "cell_type": "code",
   "execution_count": 41,
   "metadata": {},
   "outputs": [
    {
     "data": {
      "text/html": [
       "<table>\n",
       "<tbody>\n",
       "\t<tr><td>1 </td><td>4 </td><td>7 </td><td>10</td></tr>\n",
       "\t<tr><td>2 </td><td>5 </td><td>8 </td><td>11</td></tr>\n",
       "\t<tr><td>3 </td><td>6 </td><td>9 </td><td>12</td></tr>\n",
       "</tbody>\n",
       "</table>\n"
      ],
      "text/latex": [
       "\\begin{tabular}{llll}\n",
       "\t 1  & 4  & 7  & 10\\\\\n",
       "\t 2  & 5  & 8  & 11\\\\\n",
       "\t 3  & 6  & 9  & 12\\\\\n",
       "\\end{tabular}\n"
      ],
      "text/markdown": [
       "\n",
       "| 1  | 4  | 7  | 10 | \n",
       "| 2  | 5  | 8  | 11 | \n",
       "| 3  | 6  | 9  | 12 | \n",
       "\n",
       "\n"
      ],
      "text/plain": [
       "     [,1] [,2] [,3] [,4]\n",
       "[1,] 1    4    7    10  \n",
       "[2,] 2    5    8    11  \n",
       "[3,] 3    6    9    12  "
      ]
     },
     "metadata": {},
     "output_type": "display_data"
    }
   ],
   "source": [
    "matrix(v,3,4)"
   ]
  },
  {
   "cell_type": "code",
   "execution_count": 42,
   "metadata": {
    "collapsed": true
   },
   "outputs": [],
   "source": [
    "m <- matrix(v,3,4,byrow=T)"
   ]
  },
  {
   "cell_type": "code",
   "execution_count": 43,
   "metadata": {
    "scrolled": true
   },
   "outputs": [
    {
     "data": {
      "text/html": [
       "<table>\n",
       "<tbody>\n",
       "\t<tr><td>1 </td><td> 2</td><td> 3</td><td> 4</td></tr>\n",
       "\t<tr><td>5 </td><td> 6</td><td> 7</td><td> 8</td></tr>\n",
       "\t<tr><td>9 </td><td>10</td><td>11</td><td>12</td></tr>\n",
       "</tbody>\n",
       "</table>\n"
      ],
      "text/latex": [
       "\\begin{tabular}{llll}\n",
       "\t 1  &  2 &  3 &  4\\\\\n",
       "\t 5  &  6 &  7 &  8\\\\\n",
       "\t 9  & 10 & 11 & 12\\\\\n",
       "\\end{tabular}\n"
      ],
      "text/markdown": [
       "\n",
       "| 1  |  2 |  3 |  4 | \n",
       "| 5  |  6 |  7 |  8 | \n",
       "| 9  | 10 | 11 | 12 | \n",
       "\n",
       "\n"
      ],
      "text/plain": [
       "     [,1] [,2] [,3] [,4]\n",
       "[1,] 1     2    3    4  \n",
       "[2,] 5     6    7    8  \n",
       "[3,] 9    10   11   12  "
      ]
     },
     "metadata": {},
     "output_type": "display_data"
    }
   ],
   "source": [
    "m"
   ]
  },
  {
   "cell_type": "code",
   "execution_count": 44,
   "metadata": {},
   "outputs": [
    {
     "data": {
      "text/html": [
       "'matrix'"
      ],
      "text/latex": [
       "'matrix'"
      ],
      "text/markdown": [
       "'matrix'"
      ],
      "text/plain": [
       "[1] \"matrix\""
      ]
     },
     "metadata": {},
     "output_type": "display_data"
    }
   ],
   "source": [
    "class(m)"
   ]
  },
  {
   "cell_type": "markdown",
   "metadata": {},
   "source": [
    "Matrices constantes:"
   ]
  },
  {
   "cell_type": "code",
   "execution_count": 45,
   "metadata": {},
   "outputs": [
    {
     "data": {
      "text/html": [
       "<table>\n",
       "<tbody>\n",
       "\t<tr><td>7</td><td>7</td><td>7</td><td>7</td></tr>\n",
       "\t<tr><td>7</td><td>7</td><td>7</td><td>7</td></tr>\n",
       "\t<tr><td>7</td><td>7</td><td>7</td><td>7</td></tr>\n",
       "</tbody>\n",
       "</table>\n"
      ],
      "text/latex": [
       "\\begin{tabular}{llll}\n",
       "\t 7 & 7 & 7 & 7\\\\\n",
       "\t 7 & 7 & 7 & 7\\\\\n",
       "\t 7 & 7 & 7 & 7\\\\\n",
       "\\end{tabular}\n"
      ],
      "text/markdown": [
       "\n",
       "| 7 | 7 | 7 | 7 | \n",
       "| 7 | 7 | 7 | 7 | \n",
       "| 7 | 7 | 7 | 7 | \n",
       "\n",
       "\n"
      ],
      "text/plain": [
       "     [,1] [,2] [,3] [,4]\n",
       "[1,] 7    7    7    7   \n",
       "[2,] 7    7    7    7   \n",
       "[3,] 7    7    7    7   "
      ]
     },
     "metadata": {},
     "output_type": "display_data"
    }
   ],
   "source": [
    "matrix(7,3,4)"
   ]
  },
  {
   "cell_type": "markdown",
   "metadata": {},
   "source": [
    "Si no se especifican las dimensiones se construye un vector columna (matriz de una sola columna):"
   ]
  },
  {
   "cell_type": "code",
   "execution_count": 13,
   "metadata": {},
   "outputs": [],
   "source": [
    "u <- matrix( c(1,2,3) )"
   ]
  },
  {
   "cell_type": "code",
   "execution_count": 12,
   "metadata": {},
   "outputs": [
    {
     "data": {
      "text/html": [
       "<table>\n",
       "<tbody>\n",
       "\t<tr><td>1</td></tr>\n",
       "\t<tr><td>2</td></tr>\n",
       "\t<tr><td>3</td></tr>\n",
       "</tbody>\n",
       "</table>\n"
      ],
      "text/latex": [
       "\\begin{tabular}{l}\n",
       "\t 1\\\\\n",
       "\t 2\\\\\n",
       "\t 3\\\\\n",
       "\\end{tabular}\n"
      ],
      "text/markdown": [
       "\n",
       "| 1 | \n",
       "| 2 | \n",
       "| 3 | \n",
       "\n",
       "\n"
      ],
      "text/plain": [
       "     [,1]\n",
       "[1,] 1   \n",
       "[2,] 2   \n",
       "[3,] 3   "
      ]
     },
     "metadata": {},
     "output_type": "display_data"
    }
   ],
   "source": [
    "u"
   ]
  },
  {
   "cell_type": "markdown",
   "metadata": {},
   "source": [
    "Creación de matriz diagonal:"
   ]
  },
  {
   "cell_type": "code",
   "execution_count": 46,
   "metadata": {},
   "outputs": [
    {
     "data": {
      "text/html": [
       "<table>\n",
       "<tbody>\n",
       "\t<tr><td>1</td><td>0</td><td>0</td></tr>\n",
       "\t<tr><td>0</td><td>1</td><td>0</td></tr>\n",
       "\t<tr><td>0</td><td>0</td><td>1</td></tr>\n",
       "</tbody>\n",
       "</table>\n"
      ],
      "text/latex": [
       "\\begin{tabular}{lll}\n",
       "\t 1 & 0 & 0\\\\\n",
       "\t 0 & 1 & 0\\\\\n",
       "\t 0 & 0 & 1\\\\\n",
       "\\end{tabular}\n"
      ],
      "text/markdown": [
       "\n",
       "| 1 | 0 | 0 | \n",
       "| 0 | 1 | 0 | \n",
       "| 0 | 0 | 1 | \n",
       "\n",
       "\n"
      ],
      "text/plain": [
       "     [,1] [,2] [,3]\n",
       "[1,] 1    0    0   \n",
       "[2,] 0    1    0   \n",
       "[3,] 0    0    1   "
      ]
     },
     "metadata": {},
     "output_type": "display_data"
    }
   ],
   "source": [
    "diag(3)"
   ]
  },
  {
   "cell_type": "code",
   "execution_count": 47,
   "metadata": {},
   "outputs": [
    {
     "data": {
      "text/html": [
       "<table>\n",
       "<tbody>\n",
       "\t<tr><td>1</td><td>0</td><td>0</td></tr>\n",
       "\t<tr><td>0</td><td>2</td><td>0</td></tr>\n",
       "\t<tr><td>0</td><td>0</td><td>3</td></tr>\n",
       "</tbody>\n",
       "</table>\n"
      ],
      "text/latex": [
       "\\begin{tabular}{lll}\n",
       "\t 1 & 0 & 0\\\\\n",
       "\t 0 & 2 & 0\\\\\n",
       "\t 0 & 0 & 3\\\\\n",
       "\\end{tabular}\n"
      ],
      "text/markdown": [
       "\n",
       "| 1 | 0 | 0 | \n",
       "| 0 | 2 | 0 | \n",
       "| 0 | 0 | 3 | \n",
       "\n",
       "\n"
      ],
      "text/plain": [
       "     [,1] [,2] [,3]\n",
       "[1,] 1    0    0   \n",
       "[2,] 0    2    0   \n",
       "[3,] 0    0    3   "
      ]
     },
     "metadata": {},
     "output_type": "display_data"
    }
   ],
   "source": [
    "diag(c(1,2,3))"
   ]
  },
  {
   "cell_type": "markdown",
   "metadata": {},
   "source": [
    "Extracción de la diagonal de una matriz:"
   ]
  },
  {
   "cell_type": "code",
   "execution_count": 48,
   "metadata": {},
   "outputs": [
    {
     "data": {
      "text/html": [
       "<ol class=list-inline>\n",
       "\t<li>1</li>\n",
       "\t<li>6</li>\n",
       "\t<li>11</li>\n",
       "</ol>\n"
      ],
      "text/latex": [
       "\\begin{enumerate*}\n",
       "\\item 1\n",
       "\\item 6\n",
       "\\item 11\n",
       "\\end{enumerate*}\n"
      ],
      "text/markdown": [
       "1. 1\n",
       "2. 6\n",
       "3. 11\n",
       "\n",
       "\n"
      ],
      "text/plain": [
       "[1]  1  6 11"
      ]
     },
     "metadata": {},
     "output_type": "display_data"
    }
   ],
   "source": [
    "diag(m)"
   ]
  },
  {
   "cell_type": "markdown",
   "metadata": {},
   "source": [
    "## Multiplicación de matrices"
   ]
  },
  {
   "cell_type": "code",
   "execution_count": 51,
   "metadata": {},
   "outputs": [
    {
     "data": {
      "text/html": [
       "<table>\n",
       "<tbody>\n",
       "\t<tr><td>1</td><td>2</td></tr>\n",
       "\t<tr><td>3</td><td>4</td></tr>\n",
       "</tbody>\n",
       "</table>\n"
      ],
      "text/latex": [
       "\\begin{tabular}{ll}\n",
       "\t 1 & 2\\\\\n",
       "\t 3 & 4\\\\\n",
       "\\end{tabular}\n"
      ],
      "text/markdown": [
       "\n",
       "| 1 | 2 | \n",
       "| 3 | 4 | \n",
       "\n",
       "\n"
      ],
      "text/plain": [
       "     [,1] [,2]\n",
       "[1,] 1    2   \n",
       "[2,] 3    4   "
      ]
     },
     "metadata": {},
     "output_type": "display_data"
    },
    {
     "data": {
      "text/html": [
       "<table>\n",
       "<tbody>\n",
       "\t<tr><td>10</td><td>20</td><td>30</td></tr>\n",
       "\t<tr><td>40</td><td>50</td><td>60</td></tr>\n",
       "</tbody>\n",
       "</table>\n"
      ],
      "text/latex": [
       "\\begin{tabular}{lll}\n",
       "\t 10 & 20 & 30\\\\\n",
       "\t 40 & 50 & 60\\\\\n",
       "\\end{tabular}\n"
      ],
      "text/markdown": [
       "\n",
       "| 10 | 20 | 30 | \n",
       "| 40 | 50 | 60 | \n",
       "\n",
       "\n"
      ],
      "text/plain": [
       "     [,1] [,2] [,3]\n",
       "[1,] 10   20   30  \n",
       "[2,] 40   50   60  "
      ]
     },
     "metadata": {},
     "output_type": "display_data"
    }
   ],
   "source": [
    "a <- matrix(1:4,2,2,byrow=T)\n",
    "b <- matrix(seq(10,60,by=10),2,3,byrow=T)\n",
    "a\n",
    "b"
   ]
  },
  {
   "cell_type": "markdown",
   "metadata": {},
   "source": [
    "El operador `*` significa multiplicación \"elemento a elemento\"."
   ]
  },
  {
   "cell_type": "code",
   "execution_count": 52,
   "metadata": {},
   "outputs": [
    {
     "data": {
      "text/html": [
       "<table>\n",
       "<tbody>\n",
       "\t<tr><td>1 </td><td> 4</td></tr>\n",
       "\t<tr><td>9 </td><td>16</td></tr>\n",
       "</tbody>\n",
       "</table>\n"
      ],
      "text/latex": [
       "\\begin{tabular}{ll}\n",
       "\t 1  &  4\\\\\n",
       "\t 9  & 16\\\\\n",
       "\\end{tabular}\n"
      ],
      "text/markdown": [
       "\n",
       "| 1  |  4 | \n",
       "| 9  | 16 | \n",
       "\n",
       "\n"
      ],
      "text/plain": [
       "     [,1] [,2]\n",
       "[1,] 1     4  \n",
       "[2,] 9    16  "
      ]
     },
     "metadata": {},
     "output_type": "display_data"
    }
   ],
   "source": [
    "a * a"
   ]
  },
  {
   "cell_type": "code",
   "execution_count": 53,
   "metadata": {},
   "outputs": [
    {
     "data": {
      "text/html": [
       "<table>\n",
       "<tbody>\n",
       "\t<tr><td>1</td><td>0</td></tr>\n",
       "\t<tr><td>0</td><td>4</td></tr>\n",
       "</tbody>\n",
       "</table>\n"
      ],
      "text/latex": [
       "\\begin{tabular}{ll}\n",
       "\t 1 & 0\\\\\n",
       "\t 0 & 4\\\\\n",
       "\\end{tabular}\n"
      ],
      "text/markdown": [
       "\n",
       "| 1 | 0 | \n",
       "| 0 | 4 | \n",
       "\n",
       "\n"
      ],
      "text/plain": [
       "     [,1] [,2]\n",
       "[1,] 1    0   \n",
       "[2,] 0    4   "
      ]
     },
     "metadata": {},
     "output_type": "display_data"
    }
   ],
   "source": [
    "a*diag(2)"
   ]
  },
  {
   "cell_type": "markdown",
   "metadata": {},
   "source": [
    "La multiplicación de matrices de Álgebra Lineal se representa en R con el operador `%*%`. Las dimensiones deben ser compatibles."
   ]
  },
  {
   "cell_type": "code",
   "execution_count": 54,
   "metadata": {},
   "outputs": [
    {
     "data": {
      "text/html": [
       "<table>\n",
       "<tbody>\n",
       "\t<tr><td> 90</td><td>120</td><td>150</td></tr>\n",
       "\t<tr><td>190</td><td>260</td><td>330</td></tr>\n",
       "</tbody>\n",
       "</table>\n"
      ],
      "text/latex": [
       "\\begin{tabular}{lll}\n",
       "\t  90 & 120 & 150\\\\\n",
       "\t 190 & 260 & 330\\\\\n",
       "\\end{tabular}\n"
      ],
      "text/markdown": [
       "\n",
       "|  90 | 120 | 150 | \n",
       "| 190 | 260 | 330 | \n",
       "\n",
       "\n"
      ],
      "text/plain": [
       "     [,1] [,2] [,3]\n",
       "[1,]  90  120  150 \n",
       "[2,] 190  260  330 "
      ]
     },
     "metadata": {},
     "output_type": "display_data"
    }
   ],
   "source": [
    "a %*% b"
   ]
  },
  {
   "cell_type": "code",
   "execution_count": 56,
   "metadata": {},
   "outputs": [
    {
     "ename": "ERROR",
     "evalue": "Error in b %*% b: argumentos no compatibles\n",
     "output_type": "error",
     "traceback": [
      "Error in b %*% b: argumentos no compatibles\nTraceback:\n"
     ]
    }
   ],
   "source": [
    "b %*% b"
   ]
  },
  {
   "cell_type": "markdown",
   "metadata": {},
   "source": [
    "La transposición se consigue con la función \"t\""
   ]
  },
  {
   "cell_type": "code",
   "execution_count": 57,
   "metadata": {},
   "outputs": [
    {
     "data": {
      "text/html": [
       "<table>\n",
       "<tbody>\n",
       "\t<tr><td>1700</td><td>2200</td><td>2700</td></tr>\n",
       "\t<tr><td>2200</td><td>2900</td><td>3600</td></tr>\n",
       "\t<tr><td>2700</td><td>3600</td><td>4500</td></tr>\n",
       "</tbody>\n",
       "</table>\n"
      ],
      "text/latex": [
       "\\begin{tabular}{lll}\n",
       "\t 1700 & 2200 & 2700\\\\\n",
       "\t 2200 & 2900 & 3600\\\\\n",
       "\t 2700 & 3600 & 4500\\\\\n",
       "\\end{tabular}\n"
      ],
      "text/markdown": [
       "\n",
       "| 1700 | 2200 | 2700 | \n",
       "| 2200 | 2900 | 3600 | \n",
       "| 2700 | 3600 | 4500 | \n",
       "\n",
       "\n"
      ],
      "text/plain": [
       "     [,1] [,2] [,3]\n",
       "[1,] 1700 2200 2700\n",
       "[2,] 2200 2900 3600\n",
       "[3,] 2700 3600 4500"
      ]
     },
     "metadata": {},
     "output_type": "display_data"
    }
   ],
   "source": [
    "t(b) %*% b"
   ]
  },
  {
   "cell_type": "code",
   "execution_count": 58,
   "metadata": {},
   "outputs": [
    {
     "data": {
      "text/html": [
       "<table>\n",
       "<tbody>\n",
       "\t<tr><td>1400</td><td>3200</td></tr>\n",
       "\t<tr><td>3200</td><td>7700</td></tr>\n",
       "</tbody>\n",
       "</table>\n"
      ],
      "text/latex": [
       "\\begin{tabular}{ll}\n",
       "\t 1400 & 3200\\\\\n",
       "\t 3200 & 7700\\\\\n",
       "\\end{tabular}\n"
      ],
      "text/markdown": [
       "\n",
       "| 1400 | 3200 | \n",
       "| 3200 | 7700 | \n",
       "\n",
       "\n"
      ],
      "text/plain": [
       "     [,1] [,2]\n",
       "[1,] 1400 3200\n",
       "[2,] 3200 7700"
      ]
     },
     "metadata": {},
     "output_type": "display_data"
    }
   ],
   "source": [
    "b %*% t(b)"
   ]
  },
  {
   "cell_type": "markdown",
   "metadata": {},
   "source": [
    "## Sistemas de ecuaciones"
   ]
  },
  {
   "cell_type": "markdown",
   "metadata": {},
   "source": [
    "Resuelve\n",
    "\n",
    "$$\n",
    "\\begin{align*}\n",
    "x + 2y &= 4\\\\\n",
    "3x+5y  &= 7\n",
    "\\end{align*}\n",
    "$$"
   ]
  },
  {
   "cell_type": "markdown",
   "metadata": {},
   "source": [
    "Lo expresamos en forma matricial como $Ax=b$"
   ]
  },
  {
   "cell_type": "code",
   "execution_count": 5,
   "metadata": {},
   "outputs": [],
   "source": [
    "a <- matrix(c(1,2,\n",
    "              3,5),2,2,byrow=T)\n",
    "b <- matrix(c(4,7))"
   ]
  },
  {
   "cell_type": "code",
   "execution_count": 6,
   "metadata": {},
   "outputs": [
    {
     "data": {
      "text/html": [
       "<table>\n",
       "<tbody>\n",
       "\t<tr><td>1</td><td>2</td></tr>\n",
       "\t<tr><td>3</td><td>5</td></tr>\n",
       "</tbody>\n",
       "</table>\n"
      ],
      "text/latex": [
       "\\begin{tabular}{ll}\n",
       "\t 1 & 2\\\\\n",
       "\t 3 & 5\\\\\n",
       "\\end{tabular}\n"
      ],
      "text/markdown": [
       "\n",
       "| 1 | 2 | \n",
       "| 3 | 5 | \n",
       "\n",
       "\n"
      ],
      "text/plain": [
       "     [,1] [,2]\n",
       "[1,] 1    2   \n",
       "[2,] 3    5   "
      ]
     },
     "metadata": {},
     "output_type": "display_data"
    }
   ],
   "source": [
    "a"
   ]
  },
  {
   "cell_type": "code",
   "execution_count": 7,
   "metadata": {},
   "outputs": [
    {
     "data": {
      "text/html": [
       "<table>\n",
       "<tbody>\n",
       "\t<tr><td>4</td></tr>\n",
       "\t<tr><td>7</td></tr>\n",
       "</tbody>\n",
       "</table>\n"
      ],
      "text/latex": [
       "\\begin{tabular}{l}\n",
       "\t 4\\\\\n",
       "\t 7\\\\\n",
       "\\end{tabular}\n"
      ],
      "text/markdown": [
       "\n",
       "| 4 | \n",
       "| 7 | \n",
       "\n",
       "\n"
      ],
      "text/plain": [
       "     [,1]\n",
       "[1,] 4   \n",
       "[2,] 7   "
      ]
     },
     "metadata": {},
     "output_type": "display_data"
    }
   ],
   "source": [
    "b"
   ]
  },
  {
   "cell_type": "code",
   "execution_count": 8,
   "metadata": {},
   "outputs": [],
   "source": [
    "x <- solve(a,b)"
   ]
  },
  {
   "cell_type": "code",
   "execution_count": 9,
   "metadata": {},
   "outputs": [
    {
     "data": {
      "text/html": [
       "<table>\n",
       "<tbody>\n",
       "\t<tr><td>-6</td></tr>\n",
       "\t<tr><td> 5</td></tr>\n",
       "</tbody>\n",
       "</table>\n"
      ],
      "text/latex": [
       "\\begin{tabular}{l}\n",
       "\t -6\\\\\n",
       "\t  5\\\\\n",
       "\\end{tabular}\n"
      ],
      "text/markdown": [
       "\n",
       "| -6 | \n",
       "|  5 | \n",
       "\n",
       "\n"
      ],
      "text/plain": [
       "     [,1]\n",
       "[1,] -6  \n",
       "[2,]  5  "
      ]
     },
     "metadata": {},
     "output_type": "display_data"
    }
   ],
   "source": [
    "x"
   ]
  },
  {
   "cell_type": "code",
   "execution_count": 10,
   "metadata": {},
   "outputs": [
    {
     "data": {
      "text/html": [
       "<table>\n",
       "<tbody>\n",
       "\t<tr><td>4</td></tr>\n",
       "\t<tr><td>7</td></tr>\n",
       "</tbody>\n",
       "</table>\n"
      ],
      "text/latex": [
       "\\begin{tabular}{l}\n",
       "\t 4\\\\\n",
       "\t 7\\\\\n",
       "\\end{tabular}\n"
      ],
      "text/markdown": [
       "\n",
       "| 4 | \n",
       "| 7 | \n",
       "\n",
       "\n"
      ],
      "text/plain": [
       "     [,1]\n",
       "[1,] 4   \n",
       "[2,] 7   "
      ]
     },
     "metadata": {},
     "output_type": "display_data"
    }
   ],
   "source": [
    "a %*% x"
   ]
  },
  {
   "cell_type": "markdown",
   "metadata": {},
   "source": [
    "## Arrays multidimensionales *"
   ]
  },
  {
   "cell_type": "markdown",
   "metadata": {},
   "source": [
    "R también admite arrays multidimensionales, que pueden construirse reorganizando los elementos de un vector"
   ]
  },
  {
   "cell_type": "code",
   "execution_count": 65,
   "metadata": {},
   "outputs": [
    {
     "data": {
      "text/html": [
       "<ol class=list-inline>\n",
       "\t<li>1</li>\n",
       "\t<li>2</li>\n",
       "\t<li>3</li>\n",
       "\t<li>4</li>\n",
       "\t<li>5</li>\n",
       "\t<li>6</li>\n",
       "\t<li>7</li>\n",
       "\t<li>8</li>\n",
       "\t<li>9</li>\n",
       "\t<li>10</li>\n",
       "\t<li>11</li>\n",
       "\t<li>12</li>\n",
       "</ol>\n"
      ],
      "text/latex": [
       "\\begin{enumerate*}\n",
       "\\item 1\n",
       "\\item 2\n",
       "\\item 3\n",
       "\\item 4\n",
       "\\item 5\n",
       "\\item 6\n",
       "\\item 7\n",
       "\\item 8\n",
       "\\item 9\n",
       "\\item 10\n",
       "\\item 11\n",
       "\\item 12\n",
       "\\end{enumerate*}\n"
      ],
      "text/markdown": [
       "1. 1\n",
       "2. 2\n",
       "3. 3\n",
       "4. 4\n",
       "5. 5\n",
       "6. 6\n",
       "7. 7\n",
       "8. 8\n",
       "9. 9\n",
       "10. 10\n",
       "11. 11\n",
       "12. 12\n",
       "\n",
       "\n"
      ],
      "text/plain": [
       " [1]  1  2  3  4  5  6  7  8  9 10 11 12"
      ]
     },
     "metadata": {},
     "output_type": "display_data"
    }
   ],
   "source": [
    "v"
   ]
  },
  {
   "cell_type": "code",
   "execution_count": 66,
   "metadata": {},
   "outputs": [],
   "source": [
    "a <- array(v,c(3,2,2))"
   ]
  },
  {
   "cell_type": "code",
   "execution_count": 67,
   "metadata": {},
   "outputs": [
    {
     "data": {
      "text/html": [
       "'array'"
      ],
      "text/latex": [
       "'array'"
      ],
      "text/markdown": [
       "'array'"
      ],
      "text/plain": [
       "[1] \"array\""
      ]
     },
     "metadata": {},
     "output_type": "display_data"
    }
   ],
   "source": [
    "class(a)"
   ]
  },
  {
   "cell_type": "markdown",
   "metadata": {},
   "source": [
    "La función print nos muestra la estructura multidimensional \"por capas\":"
   ]
  },
  {
   "cell_type": "code",
   "execution_count": 68,
   "metadata": {},
   "outputs": [
    {
     "name": "stdout",
     "output_type": "stream",
     "text": [
      ", , 1\n",
      "\n",
      "     [,1] [,2]\n",
      "[1,]    1    4\n",
      "[2,]    2    5\n",
      "[3,]    3    6\n",
      "\n",
      ", , 2\n",
      "\n",
      "     [,1] [,2]\n",
      "[1,]    7   10\n",
      "[2,]    8   11\n",
      "[3,]    9   12\n",
      "\n"
     ]
    }
   ],
   "source": [
    "print(a)"
   ]
  },
  {
   "cell_type": "code",
   "execution_count": 69,
   "metadata": {},
   "outputs": [
    {
     "data": {
      "text/html": [
       "<ol class=list-inline>\n",
       "\t<li>3</li>\n",
       "\t<li>2</li>\n",
       "\t<li>2</li>\n",
       "</ol>\n"
      ],
      "text/latex": [
       "\\begin{enumerate*}\n",
       "\\item 3\n",
       "\\item 2\n",
       "\\item 2\n",
       "\\end{enumerate*}\n"
      ],
      "text/markdown": [
       "1. 3\n",
       "2. 2\n",
       "3. 2\n",
       "\n",
       "\n"
      ],
      "text/plain": [
       "[1] 3 2 2"
      ]
     },
     "metadata": {},
     "output_type": "display_data"
    }
   ],
   "source": [
    "dim(a)"
   ]
  },
  {
   "cell_type": "code",
   "execution_count": 70,
   "metadata": {},
   "outputs": [
    {
     "data": {
      "text/html": [
       "4"
      ],
      "text/latex": [
       "4"
      ],
      "text/markdown": [
       "4"
      ],
      "text/plain": [
       "[1] 4"
      ]
     },
     "metadata": {},
     "output_type": "display_data"
    }
   ],
   "source": [
    "a[1,2,1]"
   ]
  },
  {
   "cell_type": "code",
   "execution_count": 71,
   "metadata": {},
   "outputs": [
    {
     "data": {
      "text/html": [
       "<table>\n",
       "<tbody>\n",
       "\t<tr><td>1 </td><td> 7</td></tr>\n",
       "\t<tr><td>4 </td><td>10</td></tr>\n",
       "</tbody>\n",
       "</table>\n"
      ],
      "text/latex": [
       "\\begin{tabular}{ll}\n",
       "\t 1  &  7\\\\\n",
       "\t 4  & 10\\\\\n",
       "\\end{tabular}\n"
      ],
      "text/markdown": [
       "\n",
       "| 1  |  7 | \n",
       "| 4  | 10 | \n",
       "\n",
       "\n"
      ],
      "text/plain": [
       "     [,1] [,2]\n",
       "[1,] 1     7  \n",
       "[2,] 4    10  "
      ]
     },
     "metadata": {},
     "output_type": "display_data"
    }
   ],
   "source": [
    "a[1,,]"
   ]
  },
  {
   "cell_type": "markdown",
   "metadata": {},
   "source": [
    "## Matriz traspuesta"
   ]
  },
  {
   "cell_type": "code",
   "execution_count": 72,
   "metadata": {},
   "outputs": [
    {
     "data": {
      "text/html": [
       "<table>\n",
       "<tbody>\n",
       "\t<tr><td>1 </td><td> 2</td><td> 3</td><td> 4</td></tr>\n",
       "\t<tr><td>5 </td><td> 6</td><td> 7</td><td> 8</td></tr>\n",
       "\t<tr><td>9 </td><td>10</td><td>11</td><td>12</td></tr>\n",
       "</tbody>\n",
       "</table>\n"
      ],
      "text/latex": [
       "\\begin{tabular}{llll}\n",
       "\t 1  &  2 &  3 &  4\\\\\n",
       "\t 5  &  6 &  7 &  8\\\\\n",
       "\t 9  & 10 & 11 & 12\\\\\n",
       "\\end{tabular}\n"
      ],
      "text/markdown": [
       "\n",
       "| 1  |  2 |  3 |  4 | \n",
       "| 5  |  6 |  7 |  8 | \n",
       "| 9  | 10 | 11 | 12 | \n",
       "\n",
       "\n"
      ],
      "text/plain": [
       "     [,1] [,2] [,3] [,4]\n",
       "[1,] 1     2    3    4  \n",
       "[2,] 5     6    7    8  \n",
       "[3,] 9    10   11   12  "
      ]
     },
     "metadata": {},
     "output_type": "display_data"
    }
   ],
   "source": [
    "m"
   ]
  },
  {
   "cell_type": "code",
   "execution_count": 73,
   "metadata": {},
   "outputs": [
    {
     "data": {
      "text/html": [
       "<table>\n",
       "<tbody>\n",
       "\t<tr><td>1 </td><td>5 </td><td> 9</td></tr>\n",
       "\t<tr><td>2 </td><td>6 </td><td>10</td></tr>\n",
       "\t<tr><td>3 </td><td>7 </td><td>11</td></tr>\n",
       "\t<tr><td>4 </td><td>8 </td><td>12</td></tr>\n",
       "</tbody>\n",
       "</table>\n"
      ],
      "text/latex": [
       "\\begin{tabular}{lll}\n",
       "\t 1  & 5  &  9\\\\\n",
       "\t 2  & 6  & 10\\\\\n",
       "\t 3  & 7  & 11\\\\\n",
       "\t 4  & 8  & 12\\\\\n",
       "\\end{tabular}\n"
      ],
      "text/markdown": [
       "\n",
       "| 1  | 5  |  9 | \n",
       "| 2  | 6  | 10 | \n",
       "| 3  | 7  | 11 | \n",
       "| 4  | 8  | 12 | \n",
       "\n",
       "\n"
      ],
      "text/plain": [
       "     [,1] [,2] [,3]\n",
       "[1,] 1    5     9  \n",
       "[2,] 2    6    10  \n",
       "[3,] 3    7    11  \n",
       "[4,] 4    8    12  "
      ]
     },
     "metadata": {},
     "output_type": "display_data"
    }
   ],
   "source": [
    "t(m)"
   ]
  },
  {
   "cell_type": "markdown",
   "metadata": {},
   "source": [
    "En matrices complejas tiene más sentido la transpuesta conjugada."
   ]
  },
  {
   "cell_type": "code",
   "execution_count": 74,
   "metadata": {},
   "outputs": [
    {
     "data": {
      "text/html": [
       "<table>\n",
       "<tbody>\n",
       "\t<tr><td>1+ 1i  </td><td> 2+  4i</td><td> 3+  9i</td><td> 4+ 16i</td></tr>\n",
       "\t<tr><td>5+25i  </td><td> 6+ 36i</td><td> 7+ 49i</td><td> 8+ 64i</td></tr>\n",
       "\t<tr><td>9+81i  </td><td>10+100i</td><td>11+121i</td><td>12+144i</td></tr>\n",
       "</tbody>\n",
       "</table>\n"
      ],
      "text/latex": [
       "\\begin{tabular}{llll}\n",
       "\t 1+ 1i   &  2+  4i &  3+  9i &  4+ 16i\\\\\n",
       "\t 5+25i   &  6+ 36i &  7+ 49i &  8+ 64i\\\\\n",
       "\t 9+81i   & 10+100i & 11+121i & 12+144i\\\\\n",
       "\\end{tabular}\n"
      ],
      "text/markdown": [
       "\n",
       "| 1+ 1i   |  2+  4i |  3+  9i |  4+ 16i | \n",
       "| 5+25i   |  6+ 36i |  7+ 49i |  8+ 64i | \n",
       "| 9+81i   | 10+100i | 11+121i | 12+144i | \n",
       "\n",
       "\n"
      ],
      "text/plain": [
       "     [,1]  [,2]    [,3]    [,4]   \n",
       "[1,] 1+ 1i  2+  4i  3+  9i  4+ 16i\n",
       "[2,] 5+25i  6+ 36i  7+ 49i  8+ 64i\n",
       "[3,] 9+81i 10+100i 11+121i 12+144i"
      ]
     },
     "metadata": {},
     "output_type": "display_data"
    }
   ],
   "source": [
    "(z <- m + m*m*1i)"
   ]
  },
  {
   "cell_type": "code",
   "execution_count": 75,
   "metadata": {},
   "outputs": [
    {
     "data": {
      "text/html": [
       "<table>\n",
       "<tbody>\n",
       "\t<tr><td>1+ 1i  </td><td>5+25i  </td><td> 9+ 81i</td></tr>\n",
       "\t<tr><td>2+ 4i  </td><td>6+36i  </td><td>10+100i</td></tr>\n",
       "\t<tr><td>3+ 9i  </td><td>7+49i  </td><td>11+121i</td></tr>\n",
       "\t<tr><td>4+16i  </td><td>8+64i  </td><td>12+144i</td></tr>\n",
       "</tbody>\n",
       "</table>\n"
      ],
      "text/latex": [
       "\\begin{tabular}{lll}\n",
       "\t 1+ 1i   & 5+25i   &  9+ 81i\\\\\n",
       "\t 2+ 4i   & 6+36i   & 10+100i\\\\\n",
       "\t 3+ 9i   & 7+49i   & 11+121i\\\\\n",
       "\t 4+16i   & 8+64i   & 12+144i\\\\\n",
       "\\end{tabular}\n"
      ],
      "text/markdown": [
       "\n",
       "| 1+ 1i   | 5+25i   |  9+ 81i | \n",
       "| 2+ 4i   | 6+36i   | 10+100i | \n",
       "| 3+ 9i   | 7+49i   | 11+121i | \n",
       "| 4+16i   | 8+64i   | 12+144i | \n",
       "\n",
       "\n"
      ],
      "text/plain": [
       "     [,1]  [,2]  [,3]   \n",
       "[1,] 1+ 1i 5+25i  9+ 81i\n",
       "[2,] 2+ 4i 6+36i 10+100i\n",
       "[3,] 3+ 9i 7+49i 11+121i\n",
       "[4,] 4+16i 8+64i 12+144i"
      ]
     },
     "metadata": {},
     "output_type": "display_data"
    }
   ],
   "source": [
    "t(z)"
   ]
  },
  {
   "cell_type": "code",
   "execution_count": 76,
   "metadata": {},
   "outputs": [
    {
     "data": {
      "text/html": [
       "<table>\n",
       "<tbody>\n",
       "\t<tr><td>1- 1i  </td><td>5-25i  </td><td> 9- 81i</td></tr>\n",
       "\t<tr><td>2- 4i  </td><td>6-36i  </td><td>10-100i</td></tr>\n",
       "\t<tr><td>3- 9i  </td><td>7-49i  </td><td>11-121i</td></tr>\n",
       "\t<tr><td>4-16i  </td><td>8-64i  </td><td>12-144i</td></tr>\n",
       "</tbody>\n",
       "</table>\n"
      ],
      "text/latex": [
       "\\begin{tabular}{lll}\n",
       "\t 1- 1i   & 5-25i   &  9- 81i\\\\\n",
       "\t 2- 4i   & 6-36i   & 10-100i\\\\\n",
       "\t 3- 9i   & 7-49i   & 11-121i\\\\\n",
       "\t 4-16i   & 8-64i   & 12-144i\\\\\n",
       "\\end{tabular}\n"
      ],
      "text/markdown": [
       "\n",
       "| 1- 1i   | 5-25i   |  9- 81i | \n",
       "| 2- 4i   | 6-36i   | 10-100i | \n",
       "| 3- 9i   | 7-49i   | 11-121i | \n",
       "| 4-16i   | 8-64i   | 12-144i | \n",
       "\n",
       "\n"
      ],
      "text/plain": [
       "     [,1]  [,2]  [,3]   \n",
       "[1,] 1- 1i 5-25i  9- 81i\n",
       "[2,] 2- 4i 6-36i 10-100i\n",
       "[3,] 3- 9i 7-49i 11-121i\n",
       "[4,] 4-16i 8-64i 12-144i"
      ]
     },
     "metadata": {},
     "output_type": "display_data"
    }
   ],
   "source": [
    "Conj(t(z))"
   ]
  },
  {
   "cell_type": "markdown",
   "metadata": {},
   "source": [
    "## Matriz por bloques"
   ]
  },
  {
   "cell_type": "markdown",
   "metadata": {},
   "source": [
    "Se construye con funciones para \"pegar\" filas y columnas."
   ]
  },
  {
   "cell_type": "code",
   "execution_count": 77,
   "metadata": {},
   "outputs": [
    {
     "data": {
      "text/html": [
       "<table>\n",
       "<tbody>\n",
       "\t<tr><td>1 </td><td> 2</td><td> 3</td><td> 4</td></tr>\n",
       "\t<tr><td>5 </td><td> 6</td><td> 7</td><td> 8</td></tr>\n",
       "\t<tr><td>9 </td><td>10</td><td>11</td><td>12</td></tr>\n",
       "</tbody>\n",
       "</table>\n"
      ],
      "text/latex": [
       "\\begin{tabular}{llll}\n",
       "\t 1  &  2 &  3 &  4\\\\\n",
       "\t 5  &  6 &  7 &  8\\\\\n",
       "\t 9  & 10 & 11 & 12\\\\\n",
       "\\end{tabular}\n"
      ],
      "text/markdown": [
       "\n",
       "| 1  |  2 |  3 |  4 | \n",
       "| 5  |  6 |  7 |  8 | \n",
       "| 9  | 10 | 11 | 12 | \n",
       "\n",
       "\n"
      ],
      "text/plain": [
       "     [,1] [,2] [,3] [,4]\n",
       "[1,] 1     2    3    4  \n",
       "[2,] 5     6    7    8  \n",
       "[3,] 9    10   11   12  "
      ]
     },
     "metadata": {},
     "output_type": "display_data"
    }
   ],
   "source": [
    "m"
   ]
  },
  {
   "cell_type": "code",
   "execution_count": 78,
   "metadata": {},
   "outputs": [
    {
     "data": {
      "text/html": [
       "<table>\n",
       "<tbody>\n",
       "\t<tr><td>1 </td><td> 2</td><td> 3</td><td> 4</td><td>0 </td><td>0 </td><td>0 </td></tr>\n",
       "\t<tr><td>5 </td><td> 6</td><td> 7</td><td> 8</td><td>0 </td><td>0 </td><td>0 </td></tr>\n",
       "\t<tr><td>9 </td><td>10</td><td>11</td><td>12</td><td>0 </td><td>0 </td><td>0 </td></tr>\n",
       "\t<tr><td>1 </td><td> 0</td><td> 0</td><td> 1</td><td>1 </td><td>1 </td><td>1 </td></tr>\n",
       "\t<tr><td>0 </td><td> 1</td><td> 0</td><td> 1</td><td>1 </td><td>1 </td><td>1 </td></tr>\n",
       "\t<tr><td>0 </td><td> 0</td><td> 1</td><td> 1</td><td>1 </td><td>1 </td><td>1 </td></tr>\n",
       "</tbody>\n",
       "</table>\n"
      ],
      "text/latex": [
       "\\begin{tabular}{lllllll}\n",
       "\t 1  &  2 &  3 &  4 & 0  & 0  & 0 \\\\\n",
       "\t 5  &  6 &  7 &  8 & 0  & 0  & 0 \\\\\n",
       "\t 9  & 10 & 11 & 12 & 0  & 0  & 0 \\\\\n",
       "\t 1  &  0 &  0 &  1 & 1  & 1  & 1 \\\\\n",
       "\t 0  &  1 &  0 &  1 & 1  & 1  & 1 \\\\\n",
       "\t 0  &  0 &  1 &  1 & 1  & 1  & 1 \\\\\n",
       "\\end{tabular}\n"
      ],
      "text/markdown": [
       "\n",
       "| 1  |  2 |  3 |  4 | 0  | 0  | 0  | \n",
       "| 5  |  6 |  7 |  8 | 0  | 0  | 0  | \n",
       "| 9  | 10 | 11 | 12 | 0  | 0  | 0  | \n",
       "| 1  |  0 |  0 |  1 | 1  | 1  | 1  | \n",
       "| 0  |  1 |  0 |  1 | 1  | 1  | 1  | \n",
       "| 0  |  0 |  1 |  1 | 1  | 1  | 1  | \n",
       "\n",
       "\n"
      ],
      "text/plain": [
       "     [,1] [,2] [,3] [,4] [,5] [,6] [,7]\n",
       "[1,] 1     2    3    4   0    0    0   \n",
       "[2,] 5     6    7    8   0    0    0   \n",
       "[3,] 9    10   11   12   0    0    0   \n",
       "[4,] 1     0    0    1   1    1    1   \n",
       "[5,] 0     1    0    1   1    1    1   \n",
       "[6,] 0     0    1    1   1    1    1   "
      ]
     },
     "metadata": {},
     "output_type": "display_data"
    }
   ],
   "source": [
    "rbind(cbind(m,matrix(0,3,3))\n",
    "     ,cbind(diag(1,3),matrix(1,3,4)))"
   ]
  },
  {
   "cell_type": "markdown",
   "metadata": {},
   "source": [
    "## Extracción de elementos"
   ]
  },
  {
   "cell_type": "code",
   "execution_count": 79,
   "metadata": {},
   "outputs": [
    {
     "data": {
      "text/html": [
       "<table>\n",
       "<tbody>\n",
       "\t<tr><td>1 </td><td> 2</td><td> 3</td><td> 4</td></tr>\n",
       "\t<tr><td>5 </td><td> 6</td><td> 7</td><td> 8</td></tr>\n",
       "\t<tr><td>9 </td><td>10</td><td>11</td><td>12</td></tr>\n",
       "</tbody>\n",
       "</table>\n"
      ],
      "text/latex": [
       "\\begin{tabular}{llll}\n",
       "\t 1  &  2 &  3 &  4\\\\\n",
       "\t 5  &  6 &  7 &  8\\\\\n",
       "\t 9  & 10 & 11 & 12\\\\\n",
       "\\end{tabular}\n"
      ],
      "text/markdown": [
       "\n",
       "| 1  |  2 |  3 |  4 | \n",
       "| 5  |  6 |  7 |  8 | \n",
       "| 9  | 10 | 11 | 12 | \n",
       "\n",
       "\n"
      ],
      "text/plain": [
       "     [,1] [,2] [,3] [,4]\n",
       "[1,] 1     2    3    4  \n",
       "[2,] 5     6    7    8  \n",
       "[3,] 9    10   11   12  "
      ]
     },
     "metadata": {},
     "output_type": "display_data"
    }
   ],
   "source": [
    "m"
   ]
  },
  {
   "cell_type": "code",
   "execution_count": 80,
   "metadata": {},
   "outputs": [
    {
     "data": {
      "text/html": [
       "7"
      ],
      "text/latex": [
       "7"
      ],
      "text/markdown": [
       "7"
      ],
      "text/plain": [
       "[1] 7"
      ]
     },
     "metadata": {},
     "output_type": "display_data"
    }
   ],
   "source": [
    "m[2,3]"
   ]
  },
  {
   "cell_type": "code",
   "execution_count": 81,
   "metadata": {},
   "outputs": [
    {
     "data": {
      "text/html": [
       "<ol class=list-inline>\n",
       "\t<li>10</li>\n",
       "\t<li>11</li>\n",
       "\t<li>12</li>\n",
       "</ol>\n"
      ],
      "text/latex": [
       "\\begin{enumerate*}\n",
       "\\item 10\n",
       "\\item 11\n",
       "\\item 12\n",
       "\\end{enumerate*}\n"
      ],
      "text/markdown": [
       "1. 10\n",
       "2. 11\n",
       "3. 12\n",
       "\n",
       "\n"
      ],
      "text/plain": [
       "[1] 10 11 12"
      ]
     },
     "metadata": {},
     "output_type": "display_data"
    }
   ],
   "source": [
    "m[3,2:4]"
   ]
  },
  {
   "cell_type": "code",
   "execution_count": 82,
   "metadata": {},
   "outputs": [
    {
     "data": {
      "text/html": [
       "<ol class=list-inline>\n",
       "\t<li>4</li>\n",
       "\t<li>8</li>\n",
       "\t<li>12</li>\n",
       "</ol>\n"
      ],
      "text/latex": [
       "\\begin{enumerate*}\n",
       "\\item 4\n",
       "\\item 8\n",
       "\\item 12\n",
       "\\end{enumerate*}\n"
      ],
      "text/markdown": [
       "1. 4\n",
       "2. 8\n",
       "3. 12\n",
       "\n",
       "\n"
      ],
      "text/plain": [
       "[1]  4  8 12"
      ]
     },
     "metadata": {},
     "output_type": "display_data"
    }
   ],
   "source": [
    "m[,4]"
   ]
  },
  {
   "cell_type": "code",
   "execution_count": 83,
   "metadata": {},
   "outputs": [
    {
     "data": {
      "text/html": [
       "<table>\n",
       "<tbody>\n",
       "\t<tr><td>3</td><td>4</td></tr>\n",
       "\t<tr><td>7</td><td>8</td></tr>\n",
       "</tbody>\n",
       "</table>\n"
      ],
      "text/latex": [
       "\\begin{tabular}{ll}\n",
       "\t 3 & 4\\\\\n",
       "\t 7 & 8\\\\\n",
       "\\end{tabular}\n"
      ],
      "text/markdown": [
       "\n",
       "| 3 | 4 | \n",
       "| 7 | 8 | \n",
       "\n",
       "\n"
      ],
      "text/plain": [
       "     [,1] [,2]\n",
       "[1,] 3    4   \n",
       "[2,] 7    8   "
      ]
     },
     "metadata": {},
     "output_type": "display_data"
    }
   ],
   "source": [
    "m[1:2,3:ncol(m)]"
   ]
  },
  {
   "cell_type": "code",
   "execution_count": 84,
   "metadata": {},
   "outputs": [
    {
     "data": {
      "text/html": [
       "<table>\n",
       "<tbody>\n",
       "\t<tr><td>5 </td><td> 6</td><td> 7</td><td> 8</td></tr>\n",
       "\t<tr><td>1 </td><td> 2</td><td> 3</td><td> 4</td></tr>\n",
       "\t<tr><td>1 </td><td> 2</td><td> 3</td><td> 4</td></tr>\n",
       "\t<tr><td>9 </td><td>10</td><td>11</td><td>12</td></tr>\n",
       "\t<tr><td>5 </td><td> 6</td><td> 7</td><td> 8</td></tr>\n",
       "</tbody>\n",
       "</table>\n"
      ],
      "text/latex": [
       "\\begin{tabular}{llll}\n",
       "\t 5  &  6 &  7 &  8\\\\\n",
       "\t 1  &  2 &  3 &  4\\\\\n",
       "\t 1  &  2 &  3 &  4\\\\\n",
       "\t 9  & 10 & 11 & 12\\\\\n",
       "\t 5  &  6 &  7 &  8\\\\\n",
       "\\end{tabular}\n"
      ],
      "text/markdown": [
       "\n",
       "| 5  |  6 |  7 |  8 | \n",
       "| 1  |  2 |  3 |  4 | \n",
       "| 1  |  2 |  3 |  4 | \n",
       "| 9  | 10 | 11 | 12 | \n",
       "| 5  |  6 |  7 |  8 | \n",
       "\n",
       "\n"
      ],
      "text/plain": [
       "     [,1] [,2] [,3] [,4]\n",
       "[1,] 5     6    7    8  \n",
       "[2,] 1     2    3    4  \n",
       "[3,] 1     2    3    4  \n",
       "[4,] 9    10   11   12  \n",
       "[5,] 5     6    7    8  "
      ]
     },
     "metadata": {},
     "output_type": "display_data"
    }
   ],
   "source": [
    "m[c(2,1,1,3,2),]"
   ]
  },
  {
   "cell_type": "code",
   "execution_count": 85,
   "metadata": {
    "collapsed": true
   },
   "outputs": [],
   "source": [
    "n <- 1:10"
   ]
  },
  {
   "cell_type": "code",
   "execution_count": 86,
   "metadata": {},
   "outputs": [
    {
     "data": {
      "text/html": [
       "<ol class=list-inline>\n",
       "\t<li>1</li>\n",
       "\t<li>2</li>\n",
       "\t<li>3</li>\n",
       "\t<li>4</li>\n",
       "</ol>\n"
      ],
      "text/latex": [
       "\\begin{enumerate*}\n",
       "\\item 1\n",
       "\\item 2\n",
       "\\item 3\n",
       "\\item 4\n",
       "\\end{enumerate*}\n"
      ],
      "text/markdown": [
       "1. 1\n",
       "2. 2\n",
       "3. 3\n",
       "4. 4\n",
       "\n",
       "\n"
      ],
      "text/plain": [
       "[1] 1 2 3 4"
      ]
     },
     "metadata": {},
     "output_type": "display_data"
    }
   ],
   "source": [
    "n[n < 5]"
   ]
  },
  {
   "cell_type": "code",
   "execution_count": 87,
   "metadata": {},
   "outputs": [
    {
     "data": {
      "text/html": [
       "<table>\n",
       "<tbody>\n",
       "\t<tr><td>1 </td><td> 2</td><td> 3</td><td> 4</td></tr>\n",
       "\t<tr><td>5 </td><td> 6</td><td> 7</td><td> 8</td></tr>\n",
       "\t<tr><td>9 </td><td>10</td><td>11</td><td>12</td></tr>\n",
       "</tbody>\n",
       "</table>\n"
      ],
      "text/latex": [
       "\\begin{tabular}{llll}\n",
       "\t 1  &  2 &  3 &  4\\\\\n",
       "\t 5  &  6 &  7 &  8\\\\\n",
       "\t 9  & 10 & 11 & 12\\\\\n",
       "\\end{tabular}\n"
      ],
      "text/markdown": [
       "\n",
       "| 1  |  2 |  3 |  4 | \n",
       "| 5  |  6 |  7 |  8 | \n",
       "| 9  | 10 | 11 | 12 | \n",
       "\n",
       "\n"
      ],
      "text/plain": [
       "     [,1] [,2] [,3] [,4]\n",
       "[1,] 1     2    3    4  \n",
       "[2,] 5     6    7    8  \n",
       "[3,] 9    10   11   12  "
      ]
     },
     "metadata": {},
     "output_type": "display_data"
    }
   ],
   "source": [
    "m"
   ]
  },
  {
   "cell_type": "code",
   "execution_count": 88,
   "metadata": {},
   "outputs": [
    {
     "data": {
      "text/html": [
       "<table>\n",
       "<tbody>\n",
       "\t<tr><td>FALSE</td><td>FALSE</td><td>FALSE</td><td>FALSE</td></tr>\n",
       "\t<tr><td>FALSE</td><td> TRUE</td><td> TRUE</td><td> TRUE</td></tr>\n",
       "\t<tr><td> TRUE</td><td> TRUE</td><td> TRUE</td><td> TRUE</td></tr>\n",
       "</tbody>\n",
       "</table>\n"
      ],
      "text/latex": [
       "\\begin{tabular}{llll}\n",
       "\t FALSE & FALSE & FALSE & FALSE\\\\\n",
       "\t FALSE &  TRUE &  TRUE &  TRUE\\\\\n",
       "\t  TRUE &  TRUE &  TRUE &  TRUE\\\\\n",
       "\\end{tabular}\n"
      ],
      "text/markdown": [
       "\n",
       "| FALSE | FALSE | FALSE | FALSE | \n",
       "| FALSE |  TRUE |  TRUE |  TRUE | \n",
       "|  TRUE |  TRUE |  TRUE |  TRUE | \n",
       "\n",
       "\n"
      ],
      "text/plain": [
       "     [,1]  [,2]  [,3]  [,4] \n",
       "[1,] FALSE FALSE FALSE FALSE\n",
       "[2,] FALSE  TRUE  TRUE  TRUE\n",
       "[3,]  TRUE  TRUE  TRUE  TRUE"
      ]
     },
     "metadata": {},
     "output_type": "display_data"
    }
   ],
   "source": [
    "m > 5"
   ]
  },
  {
   "cell_type": "markdown",
   "metadata": {},
   "source": [
    "Los elementos de una matriz que cumplen una condición se devuelven en forma de vector."
   ]
  },
  {
   "cell_type": "code",
   "execution_count": 89,
   "metadata": {},
   "outputs": [
    {
     "data": {
      "text/html": [
       "<ol class=list-inline>\n",
       "\t<li>9</li>\n",
       "\t<li>6</li>\n",
       "\t<li>10</li>\n",
       "\t<li>7</li>\n",
       "\t<li>11</li>\n",
       "\t<li>8</li>\n",
       "\t<li>12</li>\n",
       "</ol>\n"
      ],
      "text/latex": [
       "\\begin{enumerate*}\n",
       "\\item 9\n",
       "\\item 6\n",
       "\\item 10\n",
       "\\item 7\n",
       "\\item 11\n",
       "\\item 8\n",
       "\\item 12\n",
       "\\end{enumerate*}\n"
      ],
      "text/markdown": [
       "1. 9\n",
       "2. 6\n",
       "3. 10\n",
       "4. 7\n",
       "5. 11\n",
       "6. 8\n",
       "7. 12\n",
       "\n",
       "\n"
      ],
      "text/plain": [
       "[1]  9  6 10  7 11  8 12"
      ]
     },
     "metadata": {},
     "output_type": "display_data"
    }
   ],
   "source": [
    "m[m>5]"
   ]
  },
  {
   "cell_type": "code",
   "execution_count": 90,
   "metadata": {},
   "outputs": [
    {
     "data": {
      "text/html": [
       "<ol class=list-inline>\n",
       "\t<li>3</li>\n",
       "\t<li>4</li>\n",
       "</ol>\n"
      ],
      "text/latex": [
       "\\begin{enumerate*}\n",
       "\\item 3\n",
       "\\item 4\n",
       "\\end{enumerate*}\n"
      ],
      "text/markdown": [
       "1. 3\n",
       "2. 4\n",
       "\n",
       "\n"
      ],
      "text/plain": [
       "[1] 3 4"
      ]
     },
     "metadata": {},
     "output_type": "display_data"
    }
   ],
   "source": [
    "dim(m)"
   ]
  },
  {
   "cell_type": "code",
   "execution_count": 91,
   "metadata": {},
   "outputs": [
    {
     "data": {
      "text/html": [
       "12"
      ],
      "text/latex": [
       "12"
      ],
      "text/markdown": [
       "12"
      ],
      "text/plain": [
       "[1] 12"
      ]
     },
     "metadata": {},
     "output_type": "display_data"
    }
   ],
   "source": [
    "length(m)"
   ]
  },
  {
   "cell_type": "markdown",
   "metadata": {},
   "source": [
    "Acceso 1D. Aunque m es una matriz (dos índices), se puede acceder a los elementos considerandolos como un vector:"
   ]
  },
  {
   "cell_type": "code",
   "execution_count": 92,
   "metadata": {},
   "outputs": [
    {
     "data": {
      "text/html": [
       "<table>\n",
       "<tbody>\n",
       "\t<tr><td>1 </td><td> 2</td><td> 3</td><td> 4</td></tr>\n",
       "\t<tr><td>5 </td><td> 6</td><td> 7</td><td> 8</td></tr>\n",
       "\t<tr><td>9 </td><td>10</td><td>11</td><td>12</td></tr>\n",
       "</tbody>\n",
       "</table>\n"
      ],
      "text/latex": [
       "\\begin{tabular}{llll}\n",
       "\t 1  &  2 &  3 &  4\\\\\n",
       "\t 5  &  6 &  7 &  8\\\\\n",
       "\t 9  & 10 & 11 & 12\\\\\n",
       "\\end{tabular}\n"
      ],
      "text/markdown": [
       "\n",
       "| 1  |  2 |  3 |  4 | \n",
       "| 5  |  6 |  7 |  8 | \n",
       "| 9  | 10 | 11 | 12 | \n",
       "\n",
       "\n"
      ],
      "text/plain": [
       "     [,1] [,2] [,3] [,4]\n",
       "[1,] 1     2    3    4  \n",
       "[2,] 5     6    7    8  \n",
       "[3,] 9    10   11   12  "
      ]
     },
     "metadata": {},
     "output_type": "display_data"
    }
   ],
   "source": [
    "m"
   ]
  },
  {
   "cell_type": "code",
   "execution_count": 93,
   "metadata": {},
   "outputs": [
    {
     "data": {
      "text/html": [
       "6"
      ],
      "text/latex": [
       "6"
      ],
      "text/markdown": [
       "6"
      ],
      "text/plain": [
       "[1] 6"
      ]
     },
     "metadata": {},
     "output_type": "display_data"
    }
   ],
   "source": [
    "m[5]"
   ]
  },
  {
   "cell_type": "markdown",
   "metadata": {},
   "source": [
    "Extensión de array asignando fuera de rango. Con vectores podemos hacerlo:"
   ]
  },
  {
   "cell_type": "code",
   "execution_count": 94,
   "metadata": {
    "collapsed": true
   },
   "outputs": [],
   "source": [
    "v <- 1:5"
   ]
  },
  {
   "cell_type": "code",
   "execution_count": 95,
   "metadata": {
    "collapsed": true
   },
   "outputs": [],
   "source": [
    "v[10] <- 33"
   ]
  },
  {
   "cell_type": "code",
   "execution_count": 96,
   "metadata": {},
   "outputs": [
    {
     "data": {
      "text/html": [
       "<ol class=list-inline>\n",
       "\t<li>1</li>\n",
       "\t<li>2</li>\n",
       "\t<li>3</li>\n",
       "\t<li>4</li>\n",
       "\t<li>5</li>\n",
       "\t<li>NA</li>\n",
       "\t<li>NA</li>\n",
       "\t<li>NA</li>\n",
       "\t<li>NA</li>\n",
       "\t<li>33</li>\n",
       "</ol>\n"
      ],
      "text/latex": [
       "\\begin{enumerate*}\n",
       "\\item 1\n",
       "\\item 2\n",
       "\\item 3\n",
       "\\item 4\n",
       "\\item 5\n",
       "\\item NA\n",
       "\\item NA\n",
       "\\item NA\n",
       "\\item NA\n",
       "\\item 33\n",
       "\\end{enumerate*}\n"
      ],
      "text/markdown": [
       "1. 1\n",
       "2. 2\n",
       "3. 3\n",
       "4. 4\n",
       "5. 5\n",
       "6. NA\n",
       "7. NA\n",
       "8. NA\n",
       "9. NA\n",
       "10. 33\n",
       "\n",
       "\n"
      ],
      "text/plain": [
       " [1]  1  2  3  4  5 NA NA NA NA 33"
      ]
     },
     "metadata": {},
     "output_type": "display_data"
    }
   ],
   "source": [
    "v"
   ]
  },
  {
   "cell_type": "markdown",
   "metadata": {},
   "source": [
    "Pero con matrices se produce un error:"
   ]
  },
  {
   "cell_type": "code",
   "execution_count": 97,
   "metadata": {},
   "outputs": [
    {
     "data": {
      "text/html": [
       "<table>\n",
       "<tbody>\n",
       "\t<tr><td>1 </td><td> 2</td><td> 3</td><td> 4</td></tr>\n",
       "\t<tr><td>5 </td><td> 6</td><td> 7</td><td> 8</td></tr>\n",
       "\t<tr><td>9 </td><td>10</td><td>11</td><td>12</td></tr>\n",
       "</tbody>\n",
       "</table>\n"
      ],
      "text/latex": [
       "\\begin{tabular}{llll}\n",
       "\t 1  &  2 &  3 &  4\\\\\n",
       "\t 5  &  6 &  7 &  8\\\\\n",
       "\t 9  & 10 & 11 & 12\\\\\n",
       "\\end{tabular}\n"
      ],
      "text/markdown": [
       "\n",
       "| 1  |  2 |  3 |  4 | \n",
       "| 5  |  6 |  7 |  8 | \n",
       "| 9  | 10 | 11 | 12 | \n",
       "\n",
       "\n"
      ],
      "text/plain": [
       "     [,1] [,2] [,3] [,4]\n",
       "[1,] 1     2    3    4  \n",
       "[2,] 5     6    7    8  \n",
       "[3,] 9    10   11   12  "
      ]
     },
     "metadata": {},
     "output_type": "display_data"
    }
   ],
   "source": [
    "m"
   ]
  },
  {
   "cell_type": "code",
   "execution_count": 98,
   "metadata": {},
   "outputs": [
    {
     "ename": "ERROR",
     "evalue": "Error in `[<-`(`*tmp*`, 7, 7, value = 100): subíndice fuera de  los límites\n",
     "output_type": "error",
     "traceback": [
      "Error in `[<-`(`*tmp*`, 7, 7, value = 100): subíndice fuera de  los límites\nTraceback:\n"
     ]
    }
   ],
   "source": [
    "m[7,7] <- 100"
   ]
  },
  {
   "cell_type": "markdown",
   "metadata": {},
   "source": [
    "Curiosamente, si extendemos la matriz considerándola como un vector la transformamos en vector:"
   ]
  },
  {
   "cell_type": "code",
   "execution_count": 99,
   "metadata": {
    "collapsed": true
   },
   "outputs": [],
   "source": [
    "m[20] <- 100"
   ]
  },
  {
   "cell_type": "code",
   "execution_count": 100,
   "metadata": {},
   "outputs": [
    {
     "data": {
      "text/html": [
       "<ol class=list-inline>\n",
       "\t<li>1</li>\n",
       "\t<li>5</li>\n",
       "\t<li>9</li>\n",
       "\t<li>2</li>\n",
       "\t<li>6</li>\n",
       "\t<li>10</li>\n",
       "\t<li>3</li>\n",
       "\t<li>7</li>\n",
       "\t<li>11</li>\n",
       "\t<li>4</li>\n",
       "\t<li>8</li>\n",
       "\t<li>12</li>\n",
       "\t<li>NA</li>\n",
       "\t<li>NA</li>\n",
       "\t<li>NA</li>\n",
       "\t<li>NA</li>\n",
       "\t<li>NA</li>\n",
       "\t<li>NA</li>\n",
       "\t<li>NA</li>\n",
       "\t<li>100</li>\n",
       "</ol>\n"
      ],
      "text/latex": [
       "\\begin{enumerate*}\n",
       "\\item 1\n",
       "\\item 5\n",
       "\\item 9\n",
       "\\item 2\n",
       "\\item 6\n",
       "\\item 10\n",
       "\\item 3\n",
       "\\item 7\n",
       "\\item 11\n",
       "\\item 4\n",
       "\\item 8\n",
       "\\item 12\n",
       "\\item NA\n",
       "\\item NA\n",
       "\\item NA\n",
       "\\item NA\n",
       "\\item NA\n",
       "\\item NA\n",
       "\\item NA\n",
       "\\item 100\n",
       "\\end{enumerate*}\n"
      ],
      "text/markdown": [
       "1. 1\n",
       "2. 5\n",
       "3. 9\n",
       "4. 2\n",
       "5. 6\n",
       "6. 10\n",
       "7. 3\n",
       "8. 7\n",
       "9. 11\n",
       "10. 4\n",
       "11. 8\n",
       "12. 12\n",
       "13. NA\n",
       "14. NA\n",
       "15. NA\n",
       "16. NA\n",
       "17. NA\n",
       "18. NA\n",
       "19. NA\n",
       "20. 100\n",
       "\n",
       "\n"
      ],
      "text/plain": [
       " [1]   1   5   9   2   6  10   3   7  11   4   8  12  NA  NA  NA  NA  NA  NA  NA\n",
       "[20] 100"
      ]
     },
     "metadata": {},
     "output_type": "display_data"
    }
   ],
   "source": [
    "m"
   ]
  },
  {
   "cell_type": "markdown",
   "metadata": {},
   "source": [
    "## Data frames"
   ]
  },
  {
   "cell_type": "markdown",
   "metadata": {},
   "source": [
    "R tiene un tipo especial de array 2D llamado \"frame\", que es la base de todas las funciones de análisis de datos."
   ]
  },
  {
   "cell_type": "code",
   "execution_count": 101,
   "metadata": {},
   "outputs": [
    {
     "data": {
      "text/html": [
       "<table>\n",
       "<thead><tr><th scope=col>x</th><th scope=col>y</th><th scope=col>l</th><th scope=col>c</th></tr></thead>\n",
       "<tbody>\n",
       "\t<tr><td>1       </td><td>3       </td><td> TRUE   </td><td>rojo    </td></tr>\n",
       "\t<tr><td>2       </td><td>2       </td><td>FALSE   </td><td>verde   </td></tr>\n",
       "\t<tr><td>3       </td><td>1       </td><td>FALSE   </td><td>azul    </td></tr>\n",
       "\t<tr><td>4       </td><td>1       </td><td>FALSE   </td><td>amarillo</td></tr>\n",
       "</tbody>\n",
       "</table>\n"
      ],
      "text/latex": [
       "\\begin{tabular}{r|llll}\n",
       " x & y & l & c\\\\\n",
       "\\hline\n",
       "\t 1        & 3        &  TRUE    & rojo    \\\\\n",
       "\t 2        & 2        & FALSE    & verde   \\\\\n",
       "\t 3        & 1        & FALSE    & azul    \\\\\n",
       "\t 4        & 1        & FALSE    & amarillo\\\\\n",
       "\\end{tabular}\n"
      ],
      "text/markdown": [
       "\n",
       "x | y | l | c | \n",
       "|---|---|---|---|\n",
       "| 1        | 3        |  TRUE    | rojo     | \n",
       "| 2        | 2        | FALSE    | verde    | \n",
       "| 3        | 1        | FALSE    | azul     | \n",
       "| 4        | 1        | FALSE    | amarillo | \n",
       "\n",
       "\n"
      ],
      "text/plain": [
       "  x y l     c       \n",
       "1 1 3  TRUE rojo    \n",
       "2 2 2 FALSE verde   \n",
       "3 3 1 FALSE azul    \n",
       "4 4 1 FALSE amarillo"
      ]
     },
     "metadata": {},
     "output_type": "display_data"
    }
   ],
   "source": [
    "x <- c(1,2,3,4)\n",
    "y <- c(3,2,1,1)\n",
    "l <- x < y\n",
    "c <- c(\"rojo\",\"verde\",\"azul\",\"amarillo\")\n",
    "\n",
    "d <- data.frame(x,y,l,c)\n",
    "\n",
    "d"
   ]
  },
  {
   "cell_type": "code",
   "execution_count": 102,
   "metadata": {},
   "outputs": [
    {
     "data": {
      "text/html": [
       "2"
      ],
      "text/latex": [
       "2"
      ],
      "text/markdown": [
       "2"
      ],
      "text/plain": [
       "[1] 2"
      ]
     },
     "metadata": {},
     "output_type": "display_data"
    }
   ],
   "source": [
    "d[2,\"y\"]"
   ]
  },
  {
   "cell_type": "markdown",
   "metadata": {},
   "source": [
    "## Construcciones de control"
   ]
  },
  {
   "cell_type": "code",
   "execution_count": 103,
   "metadata": {},
   "outputs": [
    {
     "data": {
      "text/html": [
       "'sí'"
      ],
      "text/latex": [
       "'sí'"
      ],
      "text/markdown": [
       "'sí'"
      ],
      "text/plain": [
       "[1] \"sí\""
      ]
     },
     "metadata": {},
     "output_type": "display_data"
    }
   ],
   "source": [
    "if (1<2) {\n",
    "    'sí'\n",
    "} else {\n",
    "    'no'\n",
    "}"
   ]
  },
  {
   "cell_type": "code",
   "execution_count": 104,
   "metadata": {},
   "outputs": [
    {
     "name": "stdout",
     "output_type": "stream",
     "text": [
      "[1] 3\n",
      "[1] 4\n",
      "[1] 5\n",
      "[1] 6\n",
      "[1] 7\n"
     ]
    }
   ],
   "source": [
    "x <- 3\n",
    "while (x<8) {\n",
    "    print(x)\n",
    "    x <- x+1\n",
    "}"
   ]
  },
  {
   "cell_type": "code",
   "execution_count": 105,
   "metadata": {},
   "outputs": [
    {
     "name": "stdout",
     "output_type": "stream",
     "text": [
      "[1] 1\n",
      "[1] 2\n",
      "[1] 3\n",
      "[1] 4\n",
      "[1] 5\n",
      "[1] 6\n",
      "[1] 7\n",
      "[1] 8\n",
      "[1] 9\n",
      "[1] 10\n"
     ]
    }
   ],
   "source": [
    "for (k in 1:10) {\n",
    "    print(k)\n",
    "}"
   ]
  },
  {
   "cell_type": "markdown",
   "metadata": {},
   "source": [
    "Se recorren todos los elementos de la estructura:"
   ]
  },
  {
   "cell_type": "code",
   "execution_count": 106,
   "metadata": {},
   "outputs": [
    {
     "name": "stdout",
     "output_type": "stream",
     "text": [
      "[1] 1\n",
      "[1] 0\n",
      "[1] 0\n",
      "[1] 0\n",
      "[1] 1\n",
      "[1] 0\n",
      "[1] 0\n",
      "[1] 0\n",
      "[1] 1\n"
     ]
    }
   ],
   "source": [
    "for (k in diag(3)) {\n",
    "    print(k)\n",
    "}"
   ]
  },
  {
   "cell_type": "markdown",
   "metadata": {},
   "source": [
    "Para recorrer las columnas de una matriz podemos hacer lo siguiente:"
   ]
  },
  {
   "cell_type": "code",
   "execution_count": 107,
   "metadata": {},
   "outputs": [
    {
     "name": "stdout",
     "output_type": "stream",
     "text": [
      "[1] 1 0 0\n",
      "[1] 0 1 0\n",
      "[1] 0 0 1\n"
     ]
    }
   ],
   "source": [
    "m <- diag(3)\n",
    "for (k in 1:ncol(m)) {\n",
    "    print(m[,k])\n",
    "}"
   ]
  },
  {
   "cell_type": "markdown",
   "metadata": {},
   "source": [
    "## Definición de funciones"
   ]
  },
  {
   "cell_type": "code",
   "execution_count": 108,
   "metadata": {},
   "outputs": [],
   "source": [
    "p <- function(n) {\n",
    "    n ^2 + n + 41\n",
    "}"
   ]
  },
  {
   "cell_type": "code",
   "execution_count": 109,
   "metadata": {},
   "outputs": [
    {
     "data": {
      "text/html": [
       "71"
      ],
      "text/latex": [
       "71"
      ],
      "text/markdown": [
       "71"
      ],
      "text/plain": [
       "[1] 71"
      ]
     },
     "metadata": {},
     "output_type": "display_data"
    }
   ],
   "source": [
    "p(5)"
   ]
  },
  {
   "cell_type": "code",
   "execution_count": 110,
   "metadata": {},
   "outputs": [
    {
     "data": {
      "text/html": [
       "<ol class=list-inline>\n",
       "\t<li>43</li>\n",
       "\t<li>47</li>\n",
       "\t<li>53</li>\n",
       "\t<li>61</li>\n",
       "\t<li>71</li>\n",
       "\t<li>83</li>\n",
       "\t<li>97</li>\n",
       "\t<li>113</li>\n",
       "\t<li>131</li>\n",
       "\t<li>151</li>\n",
       "</ol>\n"
      ],
      "text/latex": [
       "\\begin{enumerate*}\n",
       "\\item 43\n",
       "\\item 47\n",
       "\\item 53\n",
       "\\item 61\n",
       "\\item 71\n",
       "\\item 83\n",
       "\\item 97\n",
       "\\item 113\n",
       "\\item 131\n",
       "\\item 151\n",
       "\\end{enumerate*}\n"
      ],
      "text/markdown": [
       "1. 43\n",
       "2. 47\n",
       "3. 53\n",
       "4. 61\n",
       "5. 71\n",
       "6. 83\n",
       "7. 97\n",
       "8. 113\n",
       "9. 131\n",
       "10. 151\n",
       "\n",
       "\n"
      ],
      "text/plain": [
       " [1]  43  47  53  61  71  83  97 113 131 151"
      ]
     },
     "metadata": {},
     "output_type": "display_data"
    }
   ],
   "source": [
    "p(1:10)"
   ]
  },
  {
   "cell_type": "markdown",
   "metadata": {},
   "source": [
    "La típica solución de una ecuación de segundo grado:"
   ]
  },
  {
   "cell_type": "code",
   "execution_count": 111,
   "metadata": {},
   "outputs": [],
   "source": [
    "ecsec <- function(a,b,c) {\n",
    "    d <- sqrt(b^2- 4*a*c)\n",
    "    s1 <- (-b+d)/2/a\n",
    "    s2 <- (-b-d)/2/a\n",
    "    c(s1,s2)\n",
    "}"
   ]
  },
  {
   "cell_type": "code",
   "execution_count": 112,
   "metadata": {},
   "outputs": [
    {
     "data": {
      "text/html": [
       "<ol class=list-inline>\n",
       "\t<li>1</li>\n",
       "\t<li>-1</li>\n",
       "</ol>\n"
      ],
      "text/latex": [
       "\\begin{enumerate*}\n",
       "\\item 1\n",
       "\\item -1\n",
       "\\end{enumerate*}\n"
      ],
      "text/markdown": [
       "1. 1\n",
       "2. -1\n",
       "\n",
       "\n"
      ],
      "text/plain": [
       "[1]  1 -1"
      ]
     },
     "metadata": {},
     "output_type": "display_data"
    }
   ],
   "source": [
    "ecsec(1,0,-1)"
   ]
  },
  {
   "cell_type": "code",
   "execution_count": 113,
   "metadata": {},
   "outputs": [
    {
     "name": "stderr",
     "output_type": "stream",
     "text": [
      "Warning message in sqrt(b^2 - 4 * a * c):\n",
      "“Se han producido NaNs”"
     ]
    },
    {
     "data": {
      "text/html": [
       "<ol class=list-inline>\n",
       "\t<li>NaN</li>\n",
       "\t<li>NaN</li>\n",
       "</ol>\n"
      ],
      "text/latex": [
       "\\begin{enumerate*}\n",
       "\\item NaN\n",
       "\\item NaN\n",
       "\\end{enumerate*}\n"
      ],
      "text/markdown": [
       "1. NaN\n",
       "2. NaN\n",
       "\n",
       "\n"
      ],
      "text/plain": [
       "[1] NaN NaN"
      ]
     },
     "metadata": {},
     "output_type": "display_data"
    }
   ],
   "source": [
    "ecsec(1,1,1)"
   ]
  },
  {
   "cell_type": "code",
   "execution_count": 114,
   "metadata": {},
   "outputs": [
    {
     "data": {
      "text/html": [
       "<ol class=list-inline>\n",
       "\t<li>-0.5+0.866025403784439i</li>\n",
       "\t<li>-0.5-0.866025403784439i</li>\n",
       "</ol>\n"
      ],
      "text/latex": [
       "\\begin{enumerate*}\n",
       "\\item -0.5+0.866025403784439i\n",
       "\\item -0.5-0.866025403784439i\n",
       "\\end{enumerate*}\n"
      ],
      "text/markdown": [
       "1. -0.5+0.866025403784439i\n",
       "2. -0.5-0.866025403784439i\n",
       "\n",
       "\n"
      ],
      "text/plain": [
       "[1] -0.5+0.8660254i -0.5-0.8660254i"
      ]
     },
     "metadata": {},
     "output_type": "display_data"
    }
   ],
   "source": [
    "ecsec(1,1,1+0i)"
   ]
  },
  {
   "cell_type": "markdown",
   "metadata": {},
   "source": [
    "En el siguiente ejemplo usamos operaciones que actúan sobre todos los elementos de un vector y extraemos los elementos que cumplen una condición lógica."
   ]
  },
  {
   "cell_type": "code",
   "execution_count": 8,
   "metadata": {},
   "outputs": [],
   "source": [
    "divis <- function(n) {\n",
    "    d <- 2:(n-1)\n",
    "    r <- n %% d\n",
    "    d[r==0]\n",
    "}"
   ]
  },
  {
   "cell_type": "code",
   "execution_count": 9,
   "metadata": {},
   "outputs": [
    {
     "data": {
      "text/html": [
       "<ol class=list-inline>\n",
       "\t<li>2</li>\n",
       "\t<li>3</li>\n",
       "\t<li>4</li>\n",
       "\t<li>6</li>\n",
       "</ol>\n"
      ],
      "text/latex": [
       "\\begin{enumerate*}\n",
       "\\item 2\n",
       "\\item 3\n",
       "\\item 4\n",
       "\\item 6\n",
       "\\end{enumerate*}\n"
      ],
      "text/markdown": [
       "1. 2\n",
       "2. 3\n",
       "3. 4\n",
       "4. 6\n",
       "\n",
       "\n"
      ],
      "text/plain": [
       "[1] 2 3 4 6"
      ]
     },
     "metadata": {},
     "output_type": "display_data"
    }
   ],
   "source": [
    "divis(12)"
   ]
  },
  {
   "cell_type": "code",
   "execution_count": 10,
   "metadata": {},
   "outputs": [
    {
     "data": {
      "text/html": [
       "<ol class=list-inline>\n",
       "\t<li>7</li>\n",
       "\t<li>11</li>\n",
       "\t<li>13</li>\n",
       "\t<li>77</li>\n",
       "\t<li>91</li>\n",
       "\t<li>143</li>\n",
       "</ol>\n"
      ],
      "text/latex": [
       "\\begin{enumerate*}\n",
       "\\item 7\n",
       "\\item 11\n",
       "\\item 13\n",
       "\\item 77\n",
       "\\item 91\n",
       "\\item 143\n",
       "\\end{enumerate*}\n"
      ],
      "text/markdown": [
       "1. 7\n",
       "2. 11\n",
       "3. 13\n",
       "4. 77\n",
       "5. 91\n",
       "6. 143\n",
       "\n",
       "\n"
      ],
      "text/plain": [
       "[1]   7  11  13  77  91 143"
      ]
     },
     "metadata": {},
     "output_type": "display_data"
    }
   ],
   "source": [
    "divis(1001)"
   ]
  },
  {
   "cell_type": "code",
   "execution_count": 11,
   "metadata": {},
   "outputs": [
    {
     "data": {
      "text/html": [],
      "text/latex": [],
      "text/markdown": [],
      "text/plain": [
       "integer(0)"
      ]
     },
     "metadata": {},
     "output_type": "display_data"
    }
   ],
   "source": [
    "divis(13)"
   ]
  },
  {
   "cell_type": "markdown",
   "metadata": {},
   "source": [
    "El paréntesis en la segunda línea de la función `divis` es necesario. Recuerda la precedencia de los operadores y del constructor de secuencias:"
   ]
  },
  {
   "cell_type": "code",
   "execution_count": 115,
   "metadata": {},
   "outputs": [
    {
     "data": {
      "text/html": [
       "<ol class=list-inline>\n",
       "\t<li>1</li>\n",
       "\t<li>2</li>\n",
       "\t<li>3</li>\n",
       "\t<li>4</li>\n",
       "</ol>\n"
      ],
      "text/latex": [
       "\\begin{enumerate*}\n",
       "\\item 1\n",
       "\\item 2\n",
       "\\item 3\n",
       "\\item 4\n",
       "\\end{enumerate*}\n"
      ],
      "text/markdown": [
       "1. 1\n",
       "2. 2\n",
       "3. 3\n",
       "4. 4\n",
       "\n",
       "\n"
      ],
      "text/plain": [
       "[1] 1 2 3 4"
      ]
     },
     "metadata": {},
     "output_type": "display_data"
    }
   ],
   "source": [
    "2:5-1"
   ]
  },
  {
   "cell_type": "code",
   "execution_count": 116,
   "metadata": {},
   "outputs": [
    {
     "data": {
      "text/html": [
       "<ol class=list-inline>\n",
       "\t<li>2</li>\n",
       "\t<li>3</li>\n",
       "\t<li>4</li>\n",
       "</ol>\n"
      ],
      "text/latex": [
       "\\begin{enumerate*}\n",
       "\\item 2\n",
       "\\item 3\n",
       "\\item 4\n",
       "\\end{enumerate*}\n"
      ],
      "text/markdown": [
       "1. 2\n",
       "2. 3\n",
       "3. 4\n",
       "\n",
       "\n"
      ],
      "text/plain": [
       "[1] 2 3 4"
      ]
     },
     "metadata": {},
     "output_type": "display_data"
    }
   ],
   "source": [
    "2:(5-1)"
   ]
  },
  {
   "cell_type": "markdown",
   "metadata": {},
   "source": [
    "Para terminar una función de forma anticipada usamos `return`."
   ]
  },
  {
   "cell_type": "code",
   "execution_count": 121,
   "metadata": {},
   "outputs": [],
   "source": [
    "primeQ <- function(n) {\n",
    "    for (divis in 2:ceiling(sqrt(n))) {\n",
    "        if (n %% divis == 0) {\n",
    "            return(FALSE)\n",
    "        }\n",
    "    }\n",
    "    TRUE\n",
    "}"
   ]
  },
  {
   "cell_type": "code",
   "execution_count": 122,
   "metadata": {},
   "outputs": [
    {
     "data": {
      "text/html": [
       "TRUE"
      ],
      "text/latex": [
       "TRUE"
      ],
      "text/markdown": [
       "TRUE"
      ],
      "text/plain": [
       "[1] TRUE"
      ]
     },
     "metadata": {},
     "output_type": "display_data"
    }
   ],
   "source": [
    "primeQ(7)"
   ]
  },
  {
   "cell_type": "code",
   "execution_count": 123,
   "metadata": {},
   "outputs": [
    {
     "data": {
      "text/html": [
       "FALSE"
      ],
      "text/latex": [
       "FALSE"
      ],
      "text/markdown": [
       "FALSE"
      ],
      "text/plain": [
       "[1] FALSE"
      ]
     },
     "metadata": {},
     "output_type": "display_data"
    }
   ],
   "source": [
    "primeQ(7*13)"
   ]
  },
  {
   "cell_type": "markdown",
   "metadata": {},
   "source": [
    "Observa que en R las funciones se definen asignando una \"función anónima\" a una variable. La propia definición se puede usar directamente:"
   ]
  },
  {
   "cell_type": "code",
   "execution_count": 130,
   "metadata": {},
   "outputs": [
    {
     "data": {
      "text/html": [
       "7"
      ],
      "text/latex": [
       "7"
      ],
      "text/markdown": [
       "7"
      ],
      "text/plain": [
       "[1] 7"
      ]
     },
     "metadata": {},
     "output_type": "display_data"
    }
   ],
   "source": [
    "(function(x) 2*x+1)(3)"
   ]
  },
  {
   "cell_type": "markdown",
   "metadata": {},
   "source": [
    "## Listas"
   ]
  },
  {
   "cell_type": "markdown",
   "metadata": {},
   "source": [
    "Son colecciones de elementos, no necesariamente del mismo tipo, que podemos extraer mediante un índice pero también con un nombre. "
   ]
  },
  {
   "cell_type": "code",
   "execution_count": 2,
   "metadata": {},
   "outputs": [],
   "source": [
    "l <- list(a=33,b=\"cosa\",c(1,2))"
   ]
  },
  {
   "cell_type": "code",
   "execution_count": 3,
   "metadata": {},
   "outputs": [
    {
     "data": {
      "text/html": [
       "'list'"
      ],
      "text/latex": [
       "'list'"
      ],
      "text/markdown": [
       "'list'"
      ],
      "text/plain": [
       "[1] \"list\""
      ]
     },
     "metadata": {},
     "output_type": "display_data"
    }
   ],
   "source": [
    "class(l)"
   ]
  },
  {
   "cell_type": "code",
   "execution_count": 4,
   "metadata": {},
   "outputs": [
    {
     "data": {
      "text/html": [
       "<strong>$a</strong> = 33"
      ],
      "text/latex": [
       "\\textbf{\\$a} = 33"
      ],
      "text/markdown": [
       "**$a** = 33"
      ],
      "text/plain": [
       "$a\n",
       "[1] 33\n"
      ]
     },
     "metadata": {},
     "output_type": "display_data"
    }
   ],
   "source": [
    "l[1]"
   ]
  },
  {
   "cell_type": "code",
   "execution_count": 5,
   "metadata": {},
   "outputs": [
    {
     "data": {
      "text/html": [
       "'cosa'"
      ],
      "text/latex": [
       "'cosa'"
      ],
      "text/markdown": [
       "'cosa'"
      ],
      "text/plain": [
       "[1] \"cosa\""
      ]
     },
     "metadata": {},
     "output_type": "display_data"
    }
   ],
   "source": [
    "l$b"
   ]
  },
  {
   "cell_type": "code",
   "execution_count": 6,
   "metadata": {},
   "outputs": [
    {
     "data": {
      "text/html": [
       "<dl>\n",
       "\t<dt>$a</dt>\n",
       "\t\t<dd>33</dd>\n",
       "\t<dt>$b</dt>\n",
       "\t\t<dd>'cosa'</dd>\n",
       "\t<dt>[[3]]</dt>\n",
       "\t\t<dd><ol class=list-inline>\n",
       "\t<li>1</li>\n",
       "\t<li>2</li>\n",
       "</ol>\n",
       "</dd>\n",
       "</dl>\n"
      ],
      "text/latex": [
       "\\begin{description}\n",
       "\\item[\\$a] 33\n",
       "\\item[\\$b] 'cosa'\n",
       "\\item[{[[3]]}] \\begin{enumerate*}\n",
       "\\item 1\n",
       "\\item 2\n",
       "\\end{enumerate*}\n",
       "\n",
       "\\end{description}\n"
      ],
      "text/markdown": [
       "$a\n",
       ":   33\n",
       "$b\n",
       ":   'cosa'\n",
       "[[3]]\n",
       ":   1. 1\n",
       "2. 2\n",
       "\n",
       "\n",
       "\n",
       "\n",
       "\n"
      ],
      "text/plain": [
       "$a\n",
       "[1] 33\n",
       "\n",
       "$b\n",
       "[1] \"cosa\"\n",
       "\n",
       "[[3]]\n",
       "[1] 1 2\n"
      ]
     },
     "metadata": {},
     "output_type": "display_data"
    }
   ],
   "source": [
    "l"
   ]
  },
  {
   "cell_type": "code",
   "execution_count": 7,
   "metadata": {},
   "outputs": [
    {
     "data": {
      "text/html": [
       "<dl>\n",
       "\t<dt>$a</dt>\n",
       "\t\t<dd>33</dd>\n",
       "\t<dt>$b</dt>\n",
       "\t\t<dd>'cosa'</dd>\n",
       "</dl>\n"
      ],
      "text/latex": [
       "\\begin{description}\n",
       "\\item[\\$a] 33\n",
       "\\item[\\$b] 'cosa'\n",
       "\\end{description}\n"
      ],
      "text/markdown": [
       "$a\n",
       ":   33\n",
       "$b\n",
       ":   'cosa'\n",
       "\n",
       "\n"
      ],
      "text/plain": [
       "$a\n",
       "[1] 33\n",
       "\n",
       "$b\n",
       "[1] \"cosa\"\n"
      ]
     },
     "metadata": {},
     "output_type": "display_data"
    }
   ],
   "source": [
    "l[1:2]"
   ]
  },
  {
   "cell_type": "markdown",
   "metadata": {},
   "source": [
    "## Programación funcional"
   ]
  },
  {
   "cell_type": "markdown",
   "metadata": {},
   "source": [
    "En R se puede trabajar cómodamente con las construcciones funcionales principales:"
   ]
  },
  {
   "cell_type": "markdown",
   "metadata": {},
   "source": [
    "**map** (aplicar una función a un conjunto de datos)"
   ]
  },
  {
   "cell_type": "code",
   "execution_count": 131,
   "metadata": {},
   "outputs": [
    {
     "data": {
      "text/html": [
       "<ol class=list-inline>\n",
       "\t<li>1</li>\n",
       "\t<li>4</li>\n",
       "\t<li>9</li>\n",
       "\t<li>16</li>\n",
       "</ol>\n"
      ],
      "text/latex": [
       "\\begin{enumerate*}\n",
       "\\item 1\n",
       "\\item 4\n",
       "\\item 9\n",
       "\\item 16\n",
       "\\end{enumerate*}\n"
      ],
      "text/markdown": [
       "1. 1\n",
       "2. 4\n",
       "3. 9\n",
       "4. 16\n",
       "\n",
       "\n"
      ],
      "text/plain": [
       "[1]  1  4  9 16"
      ]
     },
     "metadata": {},
     "output_type": "display_data"
    }
   ],
   "source": [
    "sapply(c(1,2,3,4),function(x)x**2)"
   ]
  },
  {
   "cell_type": "markdown",
   "metadata": {},
   "source": [
    "Existe también la función `Map` pero por alguna razón devuelve una lista:"
   ]
  },
  {
   "cell_type": "code",
   "execution_count": 132,
   "metadata": {},
   "outputs": [],
   "source": [
    "x <- Map(function(x)x**2, c(1,2,3,4))"
   ]
  },
  {
   "cell_type": "code",
   "execution_count": 133,
   "metadata": {},
   "outputs": [
    {
     "data": {
      "text/html": [
       "'list'"
      ],
      "text/latex": [
       "'list'"
      ],
      "text/markdown": [
       "'list'"
      ],
      "text/plain": [
       "[1] \"list\""
      ]
     },
     "metadata": {},
     "output_type": "display_data"
    }
   ],
   "source": [
    "class(x)"
   ]
  },
  {
   "cell_type": "code",
   "execution_count": 134,
   "metadata": {},
   "outputs": [
    {
     "data": {
      "text/html": [
       "<ol>\n",
       "\t<li>1</li>\n",
       "\t<li>4</li>\n",
       "\t<li>9</li>\n",
       "\t<li>16</li>\n",
       "</ol>\n"
      ],
      "text/latex": [
       "\\begin{enumerate}\n",
       "\\item 1\n",
       "\\item 4\n",
       "\\item 9\n",
       "\\item 16\n",
       "\\end{enumerate}\n"
      ],
      "text/markdown": [
       "1. 1\n",
       "2. 4\n",
       "3. 9\n",
       "4. 16\n",
       "\n",
       "\n"
      ],
      "text/plain": [
       "[[1]]\n",
       "[1] 1\n",
       "\n",
       "[[2]]\n",
       "[1] 4\n",
       "\n",
       "[[3]]\n",
       "[1] 9\n",
       "\n",
       "[[4]]\n",
       "[1] 16\n"
      ]
     },
     "metadata": {},
     "output_type": "display_data"
    }
   ],
   "source": [
    "x"
   ]
  },
  {
   "cell_type": "markdown",
   "metadata": {},
   "source": [
    "**filter** (selecciona los elementos que cumplen una condición)"
   ]
  },
  {
   "cell_type": "code",
   "execution_count": 135,
   "metadata": {},
   "outputs": [
    {
     "data": {
      "text/html": [
       "<ol class=list-inline>\n",
       "\t<li>1</li>\n",
       "\t<li>2</li>\n",
       "</ol>\n"
      ],
      "text/latex": [
       "\\begin{enumerate*}\n",
       "\\item 1\n",
       "\\item 2\n",
       "\\end{enumerate*}\n"
      ],
      "text/markdown": [
       "1. 1\n",
       "2. 2\n",
       "\n",
       "\n"
      ],
      "text/plain": [
       "[1] 1 2"
      ]
     },
     "metadata": {},
     "output_type": "display_data"
    }
   ],
   "source": [
    "Filter(function(x) x<3, c(1,2,3,4))"
   ]
  },
  {
   "cell_type": "markdown",
   "metadata": {},
   "source": [
    "**reduce** (aplica una función \"sucesivamente\" a todos los elementos)"
   ]
  },
  {
   "cell_type": "code",
   "execution_count": 136,
   "metadata": {},
   "outputs": [
    {
     "data": {
      "text/html": [
       "15"
      ],
      "text/latex": [
       "15"
      ],
      "text/markdown": [
       "15"
      ],
      "text/plain": [
       "[1] 15"
      ]
     },
     "metadata": {},
     "output_type": "display_data"
    }
   ],
   "source": [
    "Reduce(function(x,y) x+y, c(1,2,3,4,5))"
   ]
  },
  {
   "cell_type": "markdown",
   "metadata": {},
   "source": [
    "## Variables globales"
   ]
  },
  {
   "cell_type": "markdown",
   "metadata": {},
   "source": [
    "Son directamente accesibles desde las funciones, a menos que queden ocultas por una variable global."
   ]
  },
  {
   "cell_type": "code",
   "execution_count": 137,
   "metadata": {
    "collapsed": true
   },
   "outputs": [],
   "source": [
    "x <- 3;\n",
    "\n",
    "fun <- function(a) {\n",
    "    a+x\n",
    "}\n",
    "\n",
    "fun2 <- function(a) {\n",
    "    x <- x+1\n",
    "    a+x\n",
    "}\n",
    "\n",
    "fun3 <- function(a) {\n",
    "    x <<- x+1\n",
    "    a+x\n",
    "}"
   ]
  },
  {
   "cell_type": "markdown",
   "metadata": {},
   "source": [
    "Observa el resultado de llamadas repetidas a estas funciones:"
   ]
  },
  {
   "cell_type": "code",
   "execution_count": 138,
   "metadata": {},
   "outputs": [
    {
     "data": {
      "text/html": [
       "8"
      ],
      "text/latex": [
       "8"
      ],
      "text/markdown": [
       "8"
      ],
      "text/plain": [
       "[1] 8"
      ]
     },
     "metadata": {},
     "output_type": "display_data"
    }
   ],
   "source": [
    "fun(5)"
   ]
  },
  {
   "cell_type": "code",
   "execution_count": 139,
   "metadata": {},
   "outputs": [
    {
     "data": {
      "text/html": [
       "8"
      ],
      "text/latex": [
       "8"
      ],
      "text/markdown": [
       "8"
      ],
      "text/plain": [
       "[1] 8"
      ]
     },
     "metadata": {},
     "output_type": "display_data"
    }
   ],
   "source": [
    "fun(5)"
   ]
  },
  {
   "cell_type": "code",
   "execution_count": 140,
   "metadata": {},
   "outputs": [
    {
     "data": {
      "text/html": [
       "9"
      ],
      "text/latex": [
       "9"
      ],
      "text/markdown": [
       "9"
      ],
      "text/plain": [
       "[1] 9"
      ]
     },
     "metadata": {},
     "output_type": "display_data"
    }
   ],
   "source": [
    "fun2(5)"
   ]
  },
  {
   "cell_type": "code",
   "execution_count": 141,
   "metadata": {},
   "outputs": [
    {
     "data": {
      "text/html": [
       "9"
      ],
      "text/latex": [
       "9"
      ],
      "text/markdown": [
       "9"
      ],
      "text/plain": [
       "[1] 9"
      ]
     },
     "metadata": {},
     "output_type": "display_data"
    }
   ],
   "source": [
    "fun2(5)"
   ]
  },
  {
   "cell_type": "code",
   "execution_count": 142,
   "metadata": {},
   "outputs": [
    {
     "data": {
      "text/html": [
       "9"
      ],
      "text/latex": [
       "9"
      ],
      "text/markdown": [
       "9"
      ],
      "text/plain": [
       "[1] 9"
      ]
     },
     "metadata": {},
     "output_type": "display_data"
    }
   ],
   "source": [
    "fun3(5)"
   ]
  },
  {
   "cell_type": "code",
   "execution_count": 143,
   "metadata": {},
   "outputs": [
    {
     "data": {
      "text/html": [
       "10"
      ],
      "text/latex": [
       "10"
      ],
      "text/markdown": [
       "10"
      ],
      "text/plain": [
       "[1] 10"
      ]
     },
     "metadata": {},
     "output_type": "display_data"
    }
   ],
   "source": [
    "fun3(5)"
   ]
  },
  {
   "cell_type": "code",
   "execution_count": 144,
   "metadata": {},
   "outputs": [
    {
     "data": {
      "text/html": [
       "10"
      ],
      "text/latex": [
       "10"
      ],
      "text/markdown": [
       "10"
      ],
      "text/plain": [
       "[1] 10"
      ]
     },
     "metadata": {},
     "output_type": "display_data"
    }
   ],
   "source": [
    "fun(5)"
   ]
  },
  {
   "cell_type": "markdown",
   "metadata": {},
   "source": [
    "Nos encontramos aquí con el operador `<<-` que modifica variables globales, mientras que `<-` no lo hace. "
   ]
  },
  {
   "cell_type": "markdown",
   "metadata": {},
   "source": [
    "## Función con múltiples resultados"
   ]
  },
  {
   "cell_type": "markdown",
   "metadata": {},
   "source": [
    "Pueden devolverse en una lista (y además podemos dar nombre a cada elemento para acceder a ellos con el operador `$`)."
   ]
  },
  {
   "cell_type": "code",
   "execution_count": 145,
   "metadata": {
    "collapsed": true
   },
   "outputs": [],
   "source": [
    "f <- function(x) {\n",
    "    t <- 3*x+1\n",
    "    list(a=2*x, b=t)\n",
    "}"
   ]
  },
  {
   "cell_type": "code",
   "execution_count": 146,
   "metadata": {},
   "outputs": [
    {
     "data": {
      "text/html": [
       "<dl>\n",
       "\t<dt>$a</dt>\n",
       "\t\t<dd>10</dd>\n",
       "\t<dt>$b</dt>\n",
       "\t\t<dd>16</dd>\n",
       "</dl>\n"
      ],
      "text/latex": [
       "\\begin{description}\n",
       "\\item[\\$a] 10\n",
       "\\item[\\$b] 16\n",
       "\\end{description}\n"
      ],
      "text/markdown": [
       "$a\n",
       ":   10\n",
       "$b\n",
       ":   16\n",
       "\n",
       "\n"
      ],
      "text/plain": [
       "$a\n",
       "[1] 10\n",
       "\n",
       "$b\n",
       "[1] 16\n"
      ]
     },
     "metadata": {},
     "output_type": "display_data"
    }
   ],
   "source": [
    "f(5)"
   ]
  },
  {
   "cell_type": "code",
   "execution_count": 147,
   "metadata": {},
   "outputs": [
    {
     "data": {
      "text/html": [
       "<strong>$a</strong> = 12"
      ],
      "text/latex": [
       "\\textbf{\\$a} = 12"
      ],
      "text/markdown": [
       "**$a** = 12"
      ],
      "text/plain": [
       "$a\n",
       "[1] 12\n"
      ]
     },
     "metadata": {},
     "output_type": "display_data"
    },
    {
     "data": {
      "text/html": [
       "12"
      ],
      "text/latex": [
       "12"
      ],
      "text/markdown": [
       "12"
      ],
      "text/plain": [
       "[1] 12"
      ]
     },
     "metadata": {},
     "output_type": "display_data"
    }
   ],
   "source": [
    "r <- f(6)\n",
    "\n",
    "r[1]\n",
    "\n",
    "r$a"
   ]
  },
  {
   "cell_type": "markdown",
   "metadata": {},
   "source": [
    "## with *"
   ]
  },
  {
   "cell_type": "code",
   "execution_count": 148,
   "metadata": {},
   "outputs": [
    {
     "data": {
      "text/html": [
       "<ol class=list-inline>\n",
       "\t<li>7</li>\n",
       "\t<li>12</li>\n",
       "</ol>\n"
      ],
      "text/latex": [
       "\\begin{enumerate*}\n",
       "\\item 7\n",
       "\\item 12\n",
       "\\end{enumerate*}\n"
      ],
      "text/markdown": [
       "1. 7\n",
       "2. 12\n",
       "\n",
       "\n"
      ],
      "text/plain": [
       "[1]  7 12"
      ]
     },
     "metadata": {},
     "output_type": "display_data"
    }
   ],
   "source": [
    "cosas=list(a=1,b=c(5,10))\n",
    "\n",
    "f <- function(l) {\n",
    "    with(l,{\n",
    "        2*a+b\n",
    "    })\n",
    "}\n",
    "\n",
    "f(cosas)"
   ]
  },
  {
   "cell_type": "markdown",
   "metadata": {},
   "source": [
    "## Parámetros por omisión"
   ]
  },
  {
   "cell_type": "code",
   "execution_count": 149,
   "metadata": {
    "collapsed": true
   },
   "outputs": [],
   "source": [
    "f <- function(x,y=1) {\n",
    "    x+y\n",
    "}"
   ]
  },
  {
   "cell_type": "code",
   "execution_count": 150,
   "metadata": {},
   "outputs": [
    {
     "data": {
      "text/html": [
       "6"
      ],
      "text/latex": [
       "6"
      ],
      "text/markdown": [
       "6"
      ],
      "text/plain": [
       "[1] 6"
      ]
     },
     "metadata": {},
     "output_type": "display_data"
    }
   ],
   "source": [
    "f(5)"
   ]
  },
  {
   "cell_type": "code",
   "execution_count": 151,
   "metadata": {},
   "outputs": [
    {
     "data": {
      "text/html": [
       "11"
      ],
      "text/latex": [
       "11"
      ],
      "text/markdown": [
       "11"
      ],
      "text/plain": [
       "[1] 11"
      ]
     },
     "metadata": {},
     "output_type": "display_data"
    }
   ],
   "source": [
    "f(3,8)"
   ]
  },
  {
   "cell_type": "markdown",
   "metadata": {},
   "source": [
    "## Gráficas"
   ]
  },
  {
   "cell_type": "markdown",
   "metadata": {},
   "source": [
    "R tiene la típica función `plot`. Si el argumento es simplemente una función, R la representa en el intervalo especificado:"
   ]
  },
  {
   "cell_type": "code",
   "execution_count": 153,
   "metadata": {},
   "outputs": [
    {
     "data": {
      "image/png": "[encoded data removed]",
      "text/plain": [
       "plot without title"
      ]
     },
     "metadata": {},
     "output_type": "display_data"
    }
   ],
   "source": [
    "plot(sqrt,0,1)"
   ]
  },
  {
   "cell_type": "markdown",
   "metadata": {},
   "source": [
    "Pero lo normal es hacer una gráfica utilizando vectores que contienen las coordenadas X e Y por separado."
   ]
  },
  {
   "cell_type": "code",
   "execution_count": 154,
   "metadata": {
    "collapsed": true
   },
   "outputs": [],
   "source": [
    "x <- seq(0,2*pi,length=100)"
   ]
  },
  {
   "cell_type": "code",
   "execution_count": 155,
   "metadata": {},
   "outputs": [
    {
     "data": {
      "image/png": "[encoded data removed]",
      "text/plain": [
       "plot without title"
      ]
     },
     "metadata": {},
     "output_type": "display_data"
    }
   ],
   "source": [
    "plot(x,sin(x))"
   ]
  },
  {
   "cell_type": "markdown",
   "metadata": {},
   "source": [
    "Para mostrar varias funciones usamos `matplot` con el argumento \"add\":"
   ]
  },
  {
   "cell_type": "code",
   "execution_count": 156,
   "metadata": {},
   "outputs": [
    {
     "data": {
      "image/png": "[encoded data removed]",
      "text/plain": [
       "plot without title"
      ]
     },
     "metadata": {},
     "output_type": "display_data"
    }
   ],
   "source": [
    "plot(x,sin(x),type='l')\n",
    "matplot(x,cos(x),type='l',col='blue',add=T)"
   ]
  },
  {
   "cell_type": "markdown",
   "metadata": {},
   "source": [
    "Se pueden dar argumentos opcionales para definir la región de interés y otras características de la gráfica:"
   ]
  },
  {
   "cell_type": "code",
   "execution_count": 157,
   "metadata": {},
   "outputs": [
    {
     "data": {
      "image/png": "[encoded data removed]",
      "text/plain": [
       "plot without title"
      ]
     },
     "metadata": {},
     "output_type": "display_data"
    }
   ],
   "source": [
    "plot(x,exp(x),type='l', xlim=c(0,4), ylim=c(0,10))"
   ]
  },
  {
   "cell_type": "markdown",
   "metadata": {},
   "source": [
    "Es posible también hacer gráficas 3D. Para ello podemos usar el paquete \"scatterplot3d\". El siguiente ejemplo dibuja un muelle:"
   ]
  },
  {
   "cell_type": "code",
   "execution_count": 158,
   "metadata": {},
   "outputs": [],
   "source": [
    "# install.packages('scatterplot3d', repos=\"http://cran.r-project.org\")"
   ]
  },
  {
   "cell_type": "code",
   "execution_count": 159,
   "metadata": {},
   "outputs": [
    {
     "data": {
      "image/png": "[encoded data removed]",
      "text/plain": [
       "plot without title"
      ]
     },
     "metadata": {},
     "output_type": "display_data"
    }
   ],
   "source": [
    "library(scatterplot3d)\n",
    "\n",
    "t <- seq(0,4*2*pi,length=1000)\n",
    "x <- cos(t)\n",
    "y <- sin(t)\n",
    "z <- t\n",
    "\n",
    "scatterplot3d(x,y,z,type='l') "
   ]
  },
  {
   "cell_type": "markdown",
   "metadata": {},
   "source": [
    "Es recomendable echar un vistazo al [paquete ggplot2](http://docs.ggplot2.org/current/), que permite la creación de gráficas espectaculares."
   ]
  },
  {
   "cell_type": "markdown",
   "metadata": {},
   "source": [
    "## Números pseudoaleatorios"
   ]
  },
  {
   "cell_type": "markdown",
   "metadata": {},
   "source": [
    "R tiene las funciones de probabilidad / densidad de probabilidad de los modelos estadísticos más importantes y puede generar números pseudoaleatorios de todos ellos."
   ]
  },
  {
   "cell_type": "code",
   "execution_count": 160,
   "metadata": {},
   "outputs": [
    {
     "data": {
      "text/html": [
       "<ol class=list-inline>\n",
       "\t<li>-0.195671179363588</li>\n",
       "\t<li>0.578758440624309</li>\n",
       "\t<li>2.00264248216389</li>\n",
       "\t<li>-1.34681472151694</li>\n",
       "\t<li>-0.371362853030237</li>\n",
       "</ol>\n"
      ],
      "text/latex": [
       "\\begin{enumerate*}\n",
       "\\item -0.195671179363588\n",
       "\\item 0.578758440624309\n",
       "\\item 2.00264248216389\n",
       "\\item -1.34681472151694\n",
       "\\item -0.371362853030237\n",
       "\\end{enumerate*}\n"
      ],
      "text/markdown": [
       "1. -0.195671179363588\n",
       "2. 0.578758440624309\n",
       "3. 2.00264248216389\n",
       "4. -1.34681472151694\n",
       "5. -0.371362853030237\n",
       "\n",
       "\n"
      ],
      "text/plain": [
       "[1] -0.1956712  0.5787584  2.0026425 -1.3468147 -0.3713629"
      ]
     },
     "metadata": {},
     "output_type": "display_data"
    }
   ],
   "source": [
    "rnorm(5)"
   ]
  },
  {
   "cell_type": "code",
   "execution_count": 161,
   "metadata": {
    "collapsed": true
   },
   "outputs": [],
   "source": [
    "r <- 2+3*rnorm(100)"
   ]
  },
  {
   "cell_type": "code",
   "execution_count": 162,
   "metadata": {
    "scrolled": false
   },
   "outputs": [
    {
     "data": {
      "image/png": "[encoded data removed]",
      "text/plain": [
       "Plot with title “Histogram of r”"
      ]
     },
     "metadata": {},
     "output_type": "display_data"
    }
   ],
   "source": [
    "hist(r,10)"
   ]
  },
  {
   "cell_type": "code",
   "execution_count": 163,
   "metadata": {},
   "outputs": [
    {
     "data": {
      "text/plain": [
       "   Min. 1st Qu.  Median    Mean 3rd Qu.    Max. \n",
       "-5.5180 -0.2518  1.6180  1.6540  3.5690  9.7460 "
      ]
     },
     "metadata": {},
     "output_type": "display_data"
    }
   ],
   "source": [
    "summary(r)"
   ]
  },
  {
   "cell_type": "markdown",
   "metadata": {},
   "source": [
    "¿Cuál es la probabilidad de obtener 2 caras al lanzar 3 monedas equilibradas? "
   ]
  },
  {
   "cell_type": "code",
   "execution_count": 164,
   "metadata": {},
   "outputs": [
    {
     "data": {
      "text/html": [
       "0.375"
      ],
      "text/latex": [
       "0.375"
      ],
      "text/markdown": [
       "0.375"
      ],
      "text/plain": [
       "[1] 0.375"
      ]
     },
     "metadata": {},
     "output_type": "display_data"
    }
   ],
   "source": [
    "dbinom(2,prob=0.5,size=3)"
   ]
  },
  {
   "cell_type": "markdown",
   "metadata": {},
   "source": [
    "Podemos comparar el histograma de una muestra con su densidad de probabilidad."
   ]
  },
  {
   "cell_type": "code",
   "execution_count": 165,
   "metadata": {},
   "outputs": [],
   "source": [
    "r <- rbinom(n=200,size=50,prob=0.2)"
   ]
  },
  {
   "cell_type": "code",
   "execution_count": 166,
   "metadata": {},
   "outputs": [
    {
     "data": {
      "image/png": "[encoded data removed]",
      "text/plain": [
       "Plot with title “distribución binomial”"
      ]
     },
     "metadata": {},
     "output_type": "display_data"
    }
   ],
   "source": [
    "x <- seq(0,50)\n",
    "hist(r,probability=T,\n",
    "       breaks=seq(-0.5,25.5,by=2),\n",
    "       xlab=\"éxitos\",main=\"distribución binomial\")\n",
    "matplot(dbinom(x,size=50,prob=0.2),add=T,type=c('o'),pch='o')"
   ]
  },
  {
   "cell_type": "markdown",
   "metadata": {},
   "source": [
    "## Solución numérica de ecuaciones no lineales"
   ]
  },
  {
   "cell_type": "markdown",
   "metadata": {},
   "source": [
    "R tiene directamente la función \"uniroot\", para resolver ecuaciones $f(x)=0$ de una única incógnita. Necesita un intervalo de búsqueda en el que la función cambie de signo."
   ]
  },
  {
   "cell_type": "code",
   "execution_count": 167,
   "metadata": {},
   "outputs": [
    {
     "data": {
      "text/html": [
       "<dl>\n",
       "\t<dt>$root</dt>\n",
       "\t\t<dd>3.66518884868361</dd>\n",
       "\t<dt>$f.root</dt>\n",
       "\t\t<dd>6.70434231359041e-06</dd>\n",
       "\t<dt>$iter</dt>\n",
       "\t\t<dd>8</dd>\n",
       "\t<dt>$init.it</dt>\n",
       "\t\t<dd>NA</dd>\n",
       "\t<dt>$estim.prec</dt>\n",
       "\t\t<dd>6.10351562517764e-05</dd>\n",
       "</dl>\n"
      ],
      "text/latex": [
       "\\begin{description}\n",
       "\\item[\\$root] 3.66518884868361\n",
       "\\item[\\$f.root] 6.70434231359041e-06\n",
       "\\item[\\$iter] 8\n",
       "\\item[\\$init.it] NA\n",
       "\\item[\\$estim.prec] 6.10351562517764e-05\n",
       "\\end{description}\n"
      ],
      "text/markdown": [
       "$root\n",
       ":   3.66518884868361\n",
       "$f.root\n",
       ":   6.70434231359041e-06\n",
       "$iter\n",
       ":   8\n",
       "$init.it\n",
       ":   NA\n",
       "$estim.prec\n",
       ":   6.10351562517764e-05\n",
       "\n",
       "\n"
      ],
      "text/plain": [
       "$root\n",
       "[1] 3.665189\n",
       "\n",
       "$f.root\n",
       "[1] 6.704342e-06\n",
       "\n",
       "$iter\n",
       "[1] 8\n",
       "\n",
       "$init.it\n",
       "[1] NA\n",
       "\n",
       "$estim.prec\n",
       "[1] 6.103516e-05\n"
      ]
     },
     "metadata": {},
     "output_type": "display_data"
    }
   ],
   "source": [
    "f <- function(x) sin(x)+cos(2*x)\n",
    "\n",
    "uniroot(f,c(0,5))"
   ]
  },
  {
   "cell_type": "code",
   "execution_count": 168,
   "metadata": {
    "collapsed": true
   },
   "outputs": [],
   "source": [
    "x <- uniroot(function(x) x^2 - 25, c(0,10)) $ root"
   ]
  },
  {
   "cell_type": "code",
   "execution_count": 169,
   "metadata": {},
   "outputs": [
    {
     "data": {
      "text/html": [
       "4.99999866087389"
      ],
      "text/latex": [
       "4.99999866087389"
      ],
      "text/markdown": [
       "4.99999866087389"
      ],
      "text/plain": [
       "[1] 4.999999"
      ]
     },
     "metadata": {},
     "output_type": "display_data"
    }
   ],
   "source": [
    "x"
   ]
  },
  {
   "cell_type": "markdown",
   "metadata": {},
   "source": [
    "El [paquete \"pracma\"](https://cran.r-project.org/web/packages/pracma/pracma.pdf) proporciona funciones de análisis numérico con una sintaxis parecida a Matlab/Octave."
   ]
  },
  {
   "cell_type": "code",
   "execution_count": 170,
   "metadata": {},
   "outputs": [],
   "source": [
    "# install.packages('pracma', repos=\"http://cran.r-project.org\")"
   ]
  },
  {
   "cell_type": "code",
   "execution_count": 171,
   "metadata": {},
   "outputs": [
    {
     "name": "stderr",
     "output_type": "stream",
     "text": [
      "Loading required package: pracma\n"
     ]
    }
   ],
   "source": [
    "require(pracma)"
   ]
  },
  {
   "cell_type": "markdown",
   "metadata": {},
   "source": [
    "Lo más sencillo son las raíces de polinomios, que se obtienen con \"roots\". Sólo necesita el vector de coeficientes en orden decreciente y devuelve todas las soluciones."
   ]
  },
  {
   "cell_type": "markdown",
   "metadata": {},
   "source": [
    "Resuelve $x^4 = 16$"
   ]
  },
  {
   "cell_type": "code",
   "execution_count": 172,
   "metadata": {},
   "outputs": [
    {
     "data": {
      "text/html": [
       "<ol class=list-inline>\n",
       "\t<li>-2+0i</li>\n",
       "\t<li>2+0i</li>\n",
       "\t<li>0+2i</li>\n",
       "\t<li>0-2i</li>\n",
       "</ol>\n"
      ],
      "text/latex": [
       "\\begin{enumerate*}\n",
       "\\item -2+0i\n",
       "\\item 2+0i\n",
       "\\item 0+2i\n",
       "\\item 0-2i\n",
       "\\end{enumerate*}\n"
      ],
      "text/markdown": [
       "1. -2+0i\n",
       "2. 2+0i\n",
       "3. 0+2i\n",
       "4. 0-2i\n",
       "\n",
       "\n"
      ],
      "text/plain": [
       "[1] -2+0i  2+0i  0+2i  0-2i"
      ]
     },
     "metadata": {},
     "output_type": "display_data"
    }
   ],
   "source": [
    "roots(c(1,0,0,0,-16))"
   ]
  },
  {
   "cell_type": "markdown",
   "metadata": {},
   "source": [
    "Las ecuaciones más generales se resuelven con `fsolve`. Es necesario un punto de partida para la búsqueda de la solución (no un intervalo)."
   ]
  },
  {
   "cell_type": "code",
   "execution_count": 173,
   "metadata": {},
   "outputs": [
    {
     "data": {
      "text/html": [
       "<dl>\n",
       "\t<dt>$x</dt>\n",
       "\t\t<dd>-0.523598775596763</dd>\n",
       "\t<dt>$fval</dt>\n",
       "\t\t<dd>3.98897581632696e-12</dd>\n",
       "</dl>\n"
      ],
      "text/latex": [
       "\\begin{description}\n",
       "\\item[\\$x] -0.523598775596763\n",
       "\\item[\\$fval] 3.98897581632696e-12\n",
       "\\end{description}\n"
      ],
      "text/markdown": [
       "$x\n",
       ":   -0.523598775596763\n",
       "$fval\n",
       ":   3.98897581632696e-12\n",
       "\n",
       "\n"
      ],
      "text/plain": [
       "$x\n",
       "[1] -0.5235988\n",
       "\n",
       "$fval\n",
       "[1] 3.988976e-12\n"
      ]
     },
     "metadata": {},
     "output_type": "display_data"
    }
   ],
   "source": [
    "f <- function(x) sin(x)+cos(2*x)\n",
    "\n",
    "fsolve(f,0)"
   ]
  },
  {
   "cell_type": "markdown",
   "metadata": {},
   "source": [
    "Hay que tener cuidado de que el punto de partida no sea un extremo de la función:"
   ]
  },
  {
   "cell_type": "code",
   "execution_count": 174,
   "metadata": {},
   "outputs": [
    {
     "name": "stderr",
     "output_type": "stream",
     "text": [
      "Warning message in inv(A0):\n",
      "“Matrix appears to be singular.”"
     ]
    },
    {
     "data": {
      "text/html": [
       "<dl>\n",
       "\t<dt>$x</dt>\n",
       "\t\t<dd>5</dd>\n",
       "\t<dt>$fval</dt>\n",
       "\t\t<dd>-1.77635683940025e-14</dd>\n",
       "</dl>\n"
      ],
      "text/latex": [
       "\\begin{description}\n",
       "\\item[\\$x] 5\n",
       "\\item[\\$fval] -1.77635683940025e-14\n",
       "\\end{description}\n"
      ],
      "text/markdown": [
       "$x\n",
       ":   5\n",
       "$fval\n",
       ":   -1.77635683940025e-14\n",
       "\n",
       "\n"
      ],
      "text/plain": [
       "$x\n",
       "[1] 5\n",
       "\n",
       "$fval\n",
       "[1] -1.776357e-14\n"
      ]
     },
     "metadata": {},
     "output_type": "display_data"
    }
   ],
   "source": [
    "fsolve(function(x)x^2-25,0)"
   ]
  },
  {
   "cell_type": "code",
   "execution_count": 175,
   "metadata": {},
   "outputs": [
    {
     "data": {
      "text/html": [
       "<dl>\n",
       "\t<dt>$x</dt>\n",
       "\t\t<dd>5</dd>\n",
       "\t<dt>$fval</dt>\n",
       "\t\t<dd>-1.77635683940025e-14</dd>\n",
       "</dl>\n"
      ],
      "text/latex": [
       "\\begin{description}\n",
       "\\item[\\$x] 5\n",
       "\\item[\\$fval] -1.77635683940025e-14\n",
       "\\end{description}\n"
      ],
      "text/markdown": [
       "$x\n",
       ":   5\n",
       "$fval\n",
       ":   -1.77635683940025e-14\n",
       "\n",
       "\n"
      ],
      "text/plain": [
       "$x\n",
       "[1] 5\n",
       "\n",
       "$fval\n",
       "[1] -1.776357e-14\n"
      ]
     },
     "metadata": {},
     "output_type": "display_data"
    }
   ],
   "source": [
    "fsolve(function(x)x^2-25,1)"
   ]
  },
  {
   "cell_type": "markdown",
   "metadata": {},
   "source": [
    "Esta función también resuelve sistemas de ecuaciones. En este caso tenemos que expresar el sistema como una función que recibe un vector de entrada y devuelve un vector de resultados, es decir, como $\\vec f(\\vec x) = \\vec 0$). Es conveniente dar nombres locales a cada incógnita para expresar las ecuaciones de forma natural. Por ejemplo:"
   ]
  },
  {
   "cell_type": "markdown",
   "metadata": {},
   "source": [
    "Resuelve\n",
    "\n",
    "$$\n",
    "\\begin{align*}\n",
    "x^2 - 3y &= 10\\\\\n",
    "sin(x)+y &= 5\n",
    "\\end{align*}\n",
    "$$"
   ]
  },
  {
   "cell_type": "code",
   "execution_count": 176,
   "metadata": {
    "collapsed": true
   },
   "outputs": [],
   "source": [
    "g <- function(X) {\n",
    "    x<-X[1]; y<-X[2]\n",
    "    g1 = x^2 -3*y - 10\n",
    "    g2 = sin(x) + y - 5\n",
    "    c(g1,g2)\n",
    "}"
   ]
  },
  {
   "cell_type": "markdown",
   "metadata": {},
   "source": [
    "Podemos ver que $x=1$ e $y=2$ no es una solución, porque g obtiene unos resultados distintos de cero:"
   ]
  },
  {
   "cell_type": "code",
   "execution_count": 177,
   "metadata": {},
   "outputs": [
    {
     "data": {
      "text/html": [
       "<ol class=list-inline>\n",
       "\t<li>-15</li>\n",
       "\t<li>-2.1585290151921</li>\n",
       "</ol>\n"
      ],
      "text/latex": [
       "\\begin{enumerate*}\n",
       "\\item -15\n",
       "\\item -2.1585290151921\n",
       "\\end{enumerate*}\n"
      ],
      "text/markdown": [
       "1. -15\n",
       "2. -2.1585290151921\n",
       "\n",
       "\n"
      ],
      "text/plain": [
       "[1] -15.000000  -2.158529"
      ]
     },
     "metadata": {},
     "output_type": "display_data"
    }
   ],
   "source": [
    "g(c(1,2))"
   ]
  },
  {
   "cell_type": "markdown",
   "metadata": {},
   "source": [
    "Buscamos una solución partiendo, por ejemplo, de $x=0$, $y=0$:"
   ]
  },
  {
   "cell_type": "code",
   "execution_count": 178,
   "metadata": {},
   "outputs": [
    {
     "data": {
      "text/html": [
       "<dl>\n",
       "\t<dt>$x</dt>\n",
       "\t\t<dd><ol class=list-inline>\n",
       "\t<li>5.25118809789196</li>\n",
       "\t<li>5.85832547969334</li>\n",
       "</ol>\n",
       "</dd>\n",
       "\t<dt>$fval</dt>\n",
       "\t\t<dd><ol class=list-inline>\n",
       "\t<li>3.62138763421171e-10</li>\n",
       "\t<li>2.5465851649642e-11</li>\n",
       "</ol>\n",
       "</dd>\n",
       "</dl>\n"
      ],
      "text/latex": [
       "\\begin{description}\n",
       "\\item[\\$x] \\begin{enumerate*}\n",
       "\\item 5.25118809789196\n",
       "\\item 5.85832547969334\n",
       "\\end{enumerate*}\n",
       "\n",
       "\\item[\\$fval] \\begin{enumerate*}\n",
       "\\item 3.62138763421171e-10\n",
       "\\item 2.5465851649642e-11\n",
       "\\end{enumerate*}\n",
       "\n",
       "\\end{description}\n"
      ],
      "text/markdown": [
       "$x\n",
       ":   1. 5.25118809789196\n",
       "2. 5.85832547969334\n",
       "\n",
       "\n",
       "\n",
       "$fval\n",
       ":   1. 3.62138763421171e-10\n",
       "2. 2.5465851649642e-11\n",
       "\n",
       "\n",
       "\n",
       "\n",
       "\n"
      ],
      "text/plain": [
       "$x\n",
       "[1] 5.251188 5.858325\n",
       "\n",
       "$fval\n",
       "[1] 3.621388e-10 2.546585e-11\n"
      ]
     },
     "metadata": {},
     "output_type": "display_data"
    }
   ],
   "source": [
    "fsolve(g,c(0,0))"
   ]
  },
  {
   "cell_type": "markdown",
   "metadata": {},
   "source": [
    "guardamos el vector solución en una variable"
   ]
  },
  {
   "cell_type": "code",
   "execution_count": 179,
   "metadata": {
    "collapsed": true
   },
   "outputs": [],
   "source": [
    "sol <- fsolve(g,c(0,0)) $ x"
   ]
  },
  {
   "cell_type": "markdown",
   "metadata": {},
   "source": [
    "y comprobamos que las ecuaciones se resuelven correctamente dentro de la precisión numérica"
   ]
  },
  {
   "cell_type": "code",
   "execution_count": 180,
   "metadata": {},
   "outputs": [
    {
     "data": {
      "text/html": [
       "<ol class=list-inline>\n",
       "\t<li>3.62138763421171e-10</li>\n",
       "\t<li>2.5465851649642e-11</li>\n",
       "</ol>\n"
      ],
      "text/latex": [
       "\\begin{enumerate*}\n",
       "\\item 3.62138763421171e-10\n",
       "\\item 2.5465851649642e-11\n",
       "\\end{enumerate*}\n"
      ],
      "text/markdown": [
       "1. 3.62138763421171e-10\n",
       "2. 2.5465851649642e-11\n",
       "\n",
       "\n"
      ],
      "text/plain": [
       "[1] 3.621388e-10 2.546585e-11"
      ]
     },
     "metadata": {},
     "output_type": "display_data"
    }
   ],
   "source": [
    "g(sol)"
   ]
  },
  {
   "cell_type": "markdown",
   "metadata": {},
   "source": [
    "**Ejercicio**: calcula las intersecciones de un círculo de radio 1 con centro en el origen y un círculo de radio 2 con centro en la posición (1,1)."
   ]
  },
  {
   "cell_type": "code",
   "execution_count": 181,
   "metadata": {
    "collapsed": true
   },
   "outputs": [],
   "source": [
    "eq1 <- function(x,y) x^2 + y^2 - 1^2\n",
    "eq2 <- function(x,y) (x-1)^2 + (y-1)^2 -2^2\n",
    "\n",
    "eqs <- function(Z) {\n",
    "    x <- Z[1]; y <- Z[2]\n",
    "    c(eq1(x,y),eq2(x,y))\n",
    "}"
   ]
  },
  {
   "cell_type": "code",
   "execution_count": 182,
   "metadata": {},
   "outputs": [],
   "source": [
    "s1 <- fsolve(eqs,c(3,4)) $ x\n",
    "s2 <- fsolve(eqs,c(3,-4)) $ x"
   ]
  },
  {
   "cell_type": "code",
   "execution_count": 183,
   "metadata": {},
   "outputs": [
    {
     "data": {
      "text/html": [
       "<ol class=list-inline>\n",
       "\t<li>-0.911437827764695</li>\n",
       "\t<li>0.411437827764695</li>\n",
       "</ol>\n"
      ],
      "text/latex": [
       "\\begin{enumerate*}\n",
       "\\item -0.911437827764695\n",
       "\\item 0.411437827764695\n",
       "\\end{enumerate*}\n"
      ],
      "text/markdown": [
       "1. -0.911437827764695\n",
       "2. 0.411437827764695\n",
       "\n",
       "\n"
      ],
      "text/plain": [
       "[1] -0.9114378  0.4114378"
      ]
     },
     "metadata": {},
     "output_type": "display_data"
    }
   ],
   "source": [
    "s1"
   ]
  },
  {
   "cell_type": "code",
   "execution_count": 184,
   "metadata": {},
   "outputs": [
    {
     "data": {
      "text/html": [
       "<ol class=list-inline>\n",
       "\t<li>0.411437828816074</li>\n",
       "\t<li>-0.911437828816073</li>\n",
       "</ol>\n"
      ],
      "text/latex": [
       "\\begin{enumerate*}\n",
       "\\item 0.411437828816074\n",
       "\\item -0.911437828816073\n",
       "\\end{enumerate*}\n"
      ],
      "text/markdown": [
       "1. 0.411437828816074\n",
       "2. -0.911437828816073\n",
       "\n",
       "\n"
      ],
      "text/plain": [
       "[1]  0.4114378 -0.9114378"
      ]
     },
     "metadata": {},
     "output_type": "display_data"
    }
   ],
   "source": [
    "s2"
   ]
  },
  {
   "cell_type": "markdown",
   "metadata": {},
   "source": [
    "Vamos a representar gráficamente los círculos y las soluciones. Abusando un poco de la función `contour` (que usaremos después) podemos crear la función \"implicitplot\" para representar curvas del plano definidas mediante una función $f(x,y)=0$, sin necesidad de despejar ninguna variable ni reexpresar la curva en forma paramétrica."
   ]
  },
  {
   "cell_type": "code",
   "execution_count": 185,
   "metadata": {},
   "outputs": [
    {
     "data": {
      "image/png": "[encoded data removed]",
      "text/plain": [
       "plot without title"
      ]
     },
     "metadata": {},
     "output_type": "display_data"
    }
   ],
   "source": [
    "implicitplot <- function (f,x,y,add=F) {\n",
    "    z <- outer(x,y, f)\n",
    "    contour(x,y,z,levels=0,asp=1,add=add)\n",
    "}\n",
    "\n",
    "xr <- seq(-1,3,length=100)\n",
    "yr <- seq(-1,3,length=100)\n",
    "\n",
    "implicitplot(eq1,xr,yr)\n",
    "implicitplot(eq2,xr,yr,add=T)\n",
    "matplot(s1[1],s1[2],pch='o',add=T)\n",
    "matplot(s2[1],s2[2],pch='o',add=T)\n",
    "grid()"
   ]
  },
  {
   "cell_type": "markdown",
   "metadata": {},
   "source": [
    "## Derivación numérica"
   ]
  },
  {
   "cell_type": "markdown",
   "metadata": {},
   "source": [
    "Calcula una aproximación numérica para $f'(2)$ cuando $f(x) = \\sin(2x)*\\exp(\\cos(x))$"
   ]
  },
  {
   "cell_type": "code",
   "execution_count": 186,
   "metadata": {},
   "outputs": [
    {
     "data": {
      "text/html": [
       "<dl>\n",
       "\t<dt>$df</dt>\n",
       "\t\t<dd>-0.408367007567824</dd>\n",
       "\t<dt>$rel.err</dt>\n",
       "\t\t<dd>9.9232160404359e-15</dd>\n",
       "\t<dt>$niter</dt>\n",
       "\t\t<dd>7</dd>\n",
       "</dl>\n"
      ],
      "text/latex": [
       "\\begin{description}\n",
       "\\item[\\$df] -0.408367007567824\n",
       "\\item[\\$rel.err] 9.9232160404359e-15\n",
       "\\item[\\$niter] 7\n",
       "\\end{description}\n"
      ],
      "text/markdown": [
       "$df\n",
       ":   -0.408367007567824\n",
       "$rel.err\n",
       ":   9.9232160404359e-15\n",
       "$niter\n",
       ":   7\n",
       "\n",
       "\n"
      ],
      "text/plain": [
       "$df\n",
       "[1] -0.408367\n",
       "\n",
       "$rel.err\n",
       "[1] 9.923216e-15\n",
       "\n",
       "$niter\n",
       "[1] 7\n"
      ]
     },
     "metadata": {},
     "output_type": "display_data"
    }
   ],
   "source": [
    "numderiv(function(x)sin(2*x)*exp(cos(x)),2)"
   ]
  },
  {
   "cell_type": "markdown",
   "metadata": {},
   "source": [
    "Podemos comprobar que el resultado coincide con la evaluación de la derivada real (obtenida a mano, o mediante alguna herramienta de cálculo simbólico como maxima, python+sympy, etc.)"
   ]
  },
  {
   "cell_type": "code",
   "execution_count": 187,
   "metadata": {},
   "outputs": [
    {
     "data": {
      "text/html": [
       "-0.408367007567823"
      ],
      "text/latex": [
       "-0.408367007567823"
      ],
      "text/markdown": [
       "-0.408367007567823"
      ],
      "text/plain": [
       "[1] -0.408367"
      ]
     },
     "metadata": {},
     "output_type": "display_data"
    }
   ],
   "source": [
    "(function(x)(-sin(x)*sin(2*x) + 2*cos(2*x))*exp(cos(x)))(2)"
   ]
  },
  {
   "cell_type": "markdown",
   "metadata": {},
   "source": [
    "## Integración numérica"
   ]
  },
  {
   "cell_type": "markdown",
   "metadata": {},
   "source": [
    "Calcula una aproximación numérica a la siguiente integral\n",
    "\n",
    "$$\\int_0^1 \\frac{4}{1+x^2}dx$$"
   ]
  },
  {
   "cell_type": "code",
   "execution_count": 188,
   "metadata": {},
   "outputs": [
    {
     "data": {
      "text/html": [
       "3.14159265381126"
      ],
      "text/latex": [
       "3.14159265381126"
      ],
      "text/markdown": [
       "3.14159265381126"
      ],
      "text/plain": [
       "[1] 3.141593"
      ]
     },
     "metadata": {},
     "output_type": "display_data"
    }
   ],
   "source": [
    "f <- function (x) 4/(1+x^2)\n",
    "\n",
    "quad(f,0,1)"
   ]
  },
  {
   "cell_type": "markdown",
   "metadata": {},
   "source": [
    "## Minimización"
   ]
  },
  {
   "cell_type": "markdown",
   "metadata": {},
   "source": [
    "Encuentra $(x,y)$ que minimiza $(x-1)^2 + (y-2)^2-x+3y$"
   ]
  },
  {
   "cell_type": "code",
   "execution_count": 189,
   "metadata": {},
   "outputs": [],
   "source": [
    "g <- function(Z) {\n",
    "    x <- Z[1]; y <- Z[2]\n",
    "    (x-1)^2 + (y-2)^2 - x + 3*y\n",
    "}"
   ]
  },
  {
   "cell_type": "markdown",
   "metadata": {},
   "source": [
    "Necesita un punto de partida para la búsqueda del mínimo. En este caso probamos con $\\vec 0$:"
   ]
  },
  {
   "cell_type": "code",
   "execution_count": 190,
   "metadata": {},
   "outputs": [
    {
     "data": {
      "text/html": [
       "<dl>\n",
       "\t<dt>$xmin</dt>\n",
       "\t\t<dd><ol class=list-inline>\n",
       "\t<li>1.50000000000733</li>\n",
       "\t<li>0.499999999977998</li>\n",
       "</ol>\n",
       "</dd>\n",
       "\t<dt>$fmin</dt>\n",
       "\t\t<dd>2.5</dd>\n",
       "\t<dt>$ninter</dt>\n",
       "\t\t<dd>2</dd>\n",
       "</dl>\n"
      ],
      "text/latex": [
       "\\begin{description}\n",
       "\\item[\\$xmin] \\begin{enumerate*}\n",
       "\\item 1.50000000000733\n",
       "\\item 0.499999999977998\n",
       "\\end{enumerate*}\n",
       "\n",
       "\\item[\\$fmin] 2.5\n",
       "\\item[\\$ninter] 2\n",
       "\\end{description}\n"
      ],
      "text/markdown": [
       "$xmin\n",
       ":   1. 1.50000000000733\n",
       "2. 0.499999999977998\n",
       "\n",
       "\n",
       "\n",
       "$fmin\n",
       ":   2.5\n",
       "$ninter\n",
       ":   2\n",
       "\n",
       "\n"
      ],
      "text/plain": [
       "$xmin\n",
       "[1] 1.5 0.5\n",
       "\n",
       "$fmin\n",
       "[1] 2.5\n",
       "\n",
       "$ninter\n",
       "[1] 2\n"
      ]
     },
     "metadata": {},
     "output_type": "display_data"
    }
   ],
   "source": [
    "(r <- cgmin(c(0,0),g))"
   ]
  },
  {
   "cell_type": "code",
   "execution_count": 191,
   "metadata": {},
   "outputs": [
    {
     "data": {
      "text/html": [
       "2.5"
      ],
      "text/latex": [
       "2.5"
      ],
      "text/markdown": [
       "2.5"
      ],
      "text/plain": [
       "[1] 2.5"
      ]
     },
     "metadata": {},
     "output_type": "display_data"
    }
   ],
   "source": [
    "g(r$xmin)"
   ]
  },
  {
   "cell_type": "markdown",
   "metadata": {},
   "source": [
    "Aprovechamos este ejemplo para hacer una gráfica 3D, mostrando la función que hemos minimizado como una superfice:"
   ]
  },
  {
   "cell_type": "code",
   "execution_count": 192,
   "metadata": {},
   "outputs": [
    {
     "data": {
      "image/png": "[encoded data removed]",
      "text/plain": [
       "plot without title"
      ]
     },
     "metadata": {},
     "output_type": "display_data"
    }
   ],
   "source": [
    "g <- function(x,y) {\n",
    "    (x-1)*(x-1) + (y-2)*(y-2) - x + 3*y\n",
    "}\n",
    "\n",
    "x <- seq(0,2,length=30)\n",
    "y <- x\n",
    "dom <- meshgrid(x,y)\n",
    "\n",
    "z <- g(dom$Y, dom$X) #ojo\n",
    "\n",
    "persp(x,y,z, shade=0.5, theta=30, phi=20, expand=0.6, ticktype='detailed')"
   ]
  },
  {
   "cell_type": "markdown",
   "metadata": {},
   "source": [
    "También podemos mostrar la superficie mediante curvas de nivel:"
   ]
  },
  {
   "cell_type": "code",
   "execution_count": 193,
   "metadata": {},
   "outputs": [
    {
     "data": {
      "image/png": "[encoded data removed]",
      "text/plain": [
       "plot without title"
      ]
     },
     "metadata": {},
     "output_type": "display_data"
    }
   ],
   "source": [
    "contour(x,y,z)"
   ]
  },
  {
   "cell_type": "markdown",
   "metadata": {},
   "source": [
    "Podemos cambiar un poco las alturas de las curvas de nivel para ver más claramente que el mínimo obtenido anteriormente es correcto."
   ]
  },
  {
   "cell_type": "code",
   "execution_count": 194,
   "metadata": {},
   "outputs": [
    {
     "data": {
      "image/png": "[encoded data removed]",
      "text/plain": [
       "plot without title"
      ]
     },
     "metadata": {},
     "output_type": "display_data"
    }
   ],
   "source": [
    "contour(x,y,z,levels=seq(2.6,7,by=.5))\n",
    "matplot(r$xmin[1],r$xmin[2],type='p',pch='*',add=T)"
   ]
  },
  {
   "cell_type": "markdown",
   "metadata": {},
   "source": [
    "## Ecuaciones diferenciales"
   ]
  },
  {
   "cell_type": "markdown",
   "metadata": {},
   "source": [
    "Para resolver numéricamente ecuaciones diferenciales podemos continuar usando funciones del paquete \"pracma\", o también el [paquete deSolve](https://cran.r-project.org/web/packages/diffEq/vignettes/ODEinR.pdf), especialmente diseñado para esta tarea. La forma de trabajar es muy parecida en los dos casos. Veamos algunos ejemplos."
   ]
  },
  {
   "cell_type": "markdown",
   "metadata": {},
   "source": [
    "En lo sucesivo a veces usaremos la [notación de Newton](https://en.wikipedia.org/wiki/Notation_for_differentiation#Newton.27s_notation):\n",
    "\n",
    "$$\\dot x = x'(t) = \\frac{d}{dt}x(t)$$"
   ]
  },
  {
   "cell_type": "code",
   "execution_count": 195,
   "metadata": {},
   "outputs": [],
   "source": [
    "# install.packages('deSolve', repos=\"http://cran.r-project.org\")"
   ]
  },
  {
   "cell_type": "code",
   "execution_count": 196,
   "metadata": {},
   "outputs": [
    {
     "name": "stderr",
     "output_type": "stream",
     "text": [
      "Loading required package: deSolve\n",
      "\n",
      "Attaching package: ‘deSolve’\n",
      "\n",
      "The following object is masked from ‘package:pracma’:\n",
      "\n",
      "    rk4\n",
      "\n"
     ]
    }
   ],
   "source": [
    "require(deSolve)"
   ]
  },
  {
   "cell_type": "code",
   "execution_count": 197,
   "metadata": {
    "scrolled": false
   },
   "outputs": [],
   "source": [
    "#help(ode)"
   ]
  },
  {
   "cell_type": "markdown",
   "metadata": {},
   "source": [
    "Resuelve\n",
    "\n",
    "$$\\dot{x}= -0.95\\;x$$\n",
    "\n",
    "Para $t\\in[0,5]$, $\\dot{x}(0)=-5$"
   ]
  },
  {
   "cell_type": "markdown",
   "metadata": {},
   "source": [
    "Para usar `ode` del paquete \"deSolve\" tenemos que definir definir la derivada de la función (con unos posibles parámetros) y devolver el resultado dentro de una lista."
   ]
  },
  {
   "cell_type": "code",
   "execution_count": 198,
   "metadata": {},
   "outputs": [
    {
     "data": {
      "image/png": "[encoded data removed]",
      "text/plain": [
       "Plot with title “1”"
      ]
     },
     "metadata": {},
     "output_type": "display_data"
    }
   ],
   "source": [
    "xprima <- function (t,x,parms) list(-0.95*x)\n",
    "\n",
    "x0 <- -5\n",
    "t <- seq(0,5,length=100)\n",
    "\n",
    "out <- ode(x0, times=t, func=xprima)\n",
    "\n",
    "plot(out)"
   ]
  },
  {
   "cell_type": "markdown",
   "metadata": {},
   "source": [
    "Hagamos lo mismo usando ode23 del paquete \"pracma\". Aquí la derivada se tiene que devolver en una matriz (vector columna) y la función no recibe parámetros adicionales:"
   ]
  },
  {
   "cell_type": "code",
   "execution_count": 199,
   "metadata": {},
   "outputs": [
    {
     "data": {
      "image/png": "[encoded data removed]",
      "text/plain": [
       "plot without title"
      ]
     },
     "metadata": {},
     "output_type": "display_data"
    }
   ],
   "source": [
    "yprima <- function (t,y) as.matrix(c(-0.95*y))\n",
    "\n",
    "y0 <- as.matrix(c(-5))\n",
    "t0 <- 0; tf <- 5\n",
    "sol <- ode23(yprima, t0, tf, y0)\n",
    "\n",
    "plot(sol$t,sol$y,type='l')"
   ]
  },
  {
   "cell_type": "markdown",
   "metadata": {},
   "source": [
    "Los resolvedores numéricos de ecuaciones diferenciales admiten sistemas de ecuaciones con varias variables, pero siempre de primer orden (solo puede haber primeras derivadas). Las de orden superior tienen que expresarse con variables auxiliares."
   ]
  },
  {
   "cell_type": "markdown",
   "metadata": {},
   "source": [
    "Resuelve\n",
    "\n",
    "$$\\ddot{x}+0.95x+0.1\\dot{x}=0$$\n",
    "\n",
    "para $x(0)=10$, $\\dot{x}(0)=0, t\\in[0,20]$"
   ]
  },
  {
   "cell_type": "markdown",
   "metadata": {},
   "source": [
    "Lo expresamos así:\n",
    "\n",
    "$$\n",
    "\\begin{align*}\n",
    "\\dot x_1 &= x_2 \\\\\n",
    "\\dot x_2 &= -0.95 \\; x_1 - 0.1 \\; x_2 \n",
    "\\end{align*}\n",
    "$$\n",
    "\n",
    "o también\n",
    "\n",
    "$$\n",
    "\\begin{align*}\n",
    "\\dot x &= v \\\\\n",
    "\\dot v &= -0.95\\; x - 0.1\\; v \n",
    "\\end{align*}\n",
    "$$\n",
    "\n",
    "\n",
    "\n",
    "Tenemos que definir la función $f$ tal que $\\dot {\\vec x} = \\vec f(\\vec x) $."
   ]
  },
  {
   "cell_type": "code",
   "execution_count": 200,
   "metadata": {},
   "outputs": [
    {
     "data": {
      "text/html": [
       "<table>\n",
       "<thead><tr><th scope=col>time</th><th scope=col>x</th><th scope=col>v</th></tr></thead>\n",
       "<tbody>\n",
       "\t<tr><td>0.00000000</td><td>10.000000 </td><td> 0.0000000</td></tr>\n",
       "\t<tr><td>0.02002002</td><td> 9.998098 </td><td>-0.1899870</td></tr>\n",
       "\t<tr><td>0.04004004</td><td> 9.992396 </td><td>-0.3795235</td></tr>\n",
       "\t<tr><td>0.06006006</td><td> 9.982905 </td><td>-0.5685358</td></tr>\n",
       "\t<tr><td>0.08008008</td><td> 9.969636 </td><td>-0.7569538</td></tr>\n",
       "\t<tr><td>0.10010010</td><td> 9.952601 </td><td>-0.9447070</td></tr>\n",
       "</tbody>\n",
       "</table>\n"
      ],
      "text/latex": [
       "\\begin{tabular}{lll}\n",
       " time & x & v\\\\\n",
       "\\hline\n",
       "\t 0.00000000 & 10.000000  &  0.0000000\\\\\n",
       "\t 0.02002002 &  9.998098  & -0.1899870\\\\\n",
       "\t 0.04004004 &  9.992396  & -0.3795235\\\\\n",
       "\t 0.06006006 &  9.982905  & -0.5685358\\\\\n",
       "\t 0.08008008 &  9.969636  & -0.7569538\\\\\n",
       "\t 0.10010010 &  9.952601  & -0.9447070\\\\\n",
       "\\end{tabular}\n"
      ],
      "text/markdown": [
       "\n",
       "time | x | v | \n",
       "|---|---|---|---|---|---|\n",
       "| 0.00000000 | 10.000000  |  0.0000000 | \n",
       "| 0.02002002 |  9.998098  | -0.1899870 | \n",
       "| 0.04004004 |  9.992396  | -0.3795235 | \n",
       "| 0.06006006 |  9.982905  | -0.5685358 | \n",
       "| 0.08008008 |  9.969636  | -0.7569538 | \n",
       "| 0.10010010 |  9.952601  | -0.9447070 | \n",
       "\n",
       "\n"
      ],
      "text/plain": [
       "     time       x         v         \n",
       "[1,] 0.00000000 10.000000  0.0000000\n",
       "[2,] 0.02002002  9.998098 -0.1899870\n",
       "[3,] 0.04004004  9.992396 -0.3795235\n",
       "[4,] 0.06006006  9.982905 -0.5685358\n",
       "[5,] 0.08008008  9.969636 -0.7569538\n",
       "[6,] 0.10010010  9.952601 -0.9447070"
      ]
     },
     "metadata": {},
     "output_type": "display_data"
    },
    {
     "data": {
      "image/png": "[encoded data removed]",
      "text/plain": [
       "Plot with title “v”"
      ]
     },
     "metadata": {},
     "output_type": "display_data"
    }
   ],
   "source": [
    "xprima <- function(t,X,parms) {\n",
    "    x <- X[1]; v <- X[2]\n",
    "    list(c(v,-0.95*x-0.1*v))\n",
    "}\n",
    "\n",
    "X0 <- c(x=10,v=0)\n",
    "t <- seq(0,20,length=1000)\n",
    "r <- ode(X0,times=t,func=xprima)\n",
    "\n",
    "head(r)\n",
    "plot(r)"
   ]
  },
  {
   "cell_type": "markdown",
   "metadata": {},
   "source": [
    "Por omisión se representa la evolución temporal de todas las variables del sistema (a las que hemos dado nombre al definir las condiciones iniciales para que aparezcan como títulos de las gráficas). Pero por supuesto podemos crear otras gráficas a nuestro gusto a partir de la solución. Por ejemplo:"
   ]
  },
  {
   "cell_type": "code",
   "execution_count": 201,
   "metadata": {},
   "outputs": [
    {
     "data": {
      "image/png": "[encoded data removed]",
      "text/plain": [
       "Plot with title “espacio de fase”"
      ]
     },
     "metadata": {},
     "output_type": "display_data"
    }
   ],
   "source": [
    "plot(r[,2],r[,3],\n",
    "     type='l',asp=1,\n",
    "     main=\"espacio de fase\", xlab=\"posición\", ylab=\"velocidad\")"
   ]
  },
  {
   "cell_type": "markdown",
   "metadata": {},
   "source": [
    "Para resolver el sistema anterior usando ode23 del paquete \"pracma\" hacemos algo muy parecido:"
   ]
  },
  {
   "cell_type": "code",
   "execution_count": 202,
   "metadata": {},
   "outputs": [
    {
     "data": {
      "image/png": "[encoded data removed]",
      "text/plain": [
       "plot without title"
      ]
     },
     "metadata": {},
     "output_type": "display_data"
    }
   ],
   "source": [
    "yprima <- function(t,Y) {\n",
    "    x <- Y[1]; v <- Y[2]\n",
    "    as.matrix(c(v,-0.95*x-0.1*v))\n",
    "}\n",
    "\n",
    "Y0 <- as.matrix(c(10,0))\n",
    "r <- ode23(yprima,0,20,Y0)\n",
    "\n",
    "plot(r$t,r$y[,1],type='l')"
   ]
  },
  {
   "cell_type": "markdown",
   "metadata": {},
   "source": [
    "Si la ecuación diferencial tiene parámetros (como por ejemplo la aceleración de la gravedad o el coeficiente de fricción) tenemos dos posibilidades. Si usamos `ode` de \"deSolve\" podemos comunicarlos dentro del argumento `param`. En el siguiente ejemplolo haremos así y usaremos la construcción `with` para capturar los nombres de los elementos del vector X y de los parámetros. Esos nombres se definen después, en la llamada a ode."
   ]
  },
  {
   "cell_type": "code",
   "execution_count": 203,
   "metadata": {},
   "outputs": [],
   "source": [
    "xprima <- function (t,X,parms) {\n",
    "    with (as.list(c(X,parms)), {\n",
    "        dx <- vx\n",
    "        dy <- vy\n",
    "        dvx <- g[1] - f*vx\n",
    "        dvy <- g[2] - f*vy\n",
    "        list(c(dx,dy,dvx,dvy))\n",
    "    })\n",
    "}"
   ]
  },
  {
   "cell_type": "code",
   "execution_count": 204,
   "metadata": {},
   "outputs": [],
   "source": [
    "simula <- function(v,a,f) {\n",
    "    vx0 <- v*cos(a)\n",
    "    vy0 <- v*sin(a)\n",
    "    x0 <- 0\n",
    "    y0 <- 0\n",
    "    t <- seq(0,2,length=100)\n",
    "    g <- c(0, -1)\n",
    "    r <- ode(c(x=x0,y=y0,vx=vx0,vy=vy0),\n",
    "             times=t, func=xprima, parms=list(g=g,f=f) )\n",
    "    plot(r[,2],r[,3],type='l')\n",
    "    r\n",
    "}"
   ]
  },
  {
   "cell_type": "code",
   "execution_count": 205,
   "metadata": {},
   "outputs": [
    {
     "data": {
      "image/png": "[encoded data removed]",
      "text/plain": [
       "plot without title"
      ]
     },
     "metadata": {},
     "output_type": "display_data"
    }
   ],
   "source": [
    "r <- simula(1,60*pi/180,2)"
   ]
  },
  {
   "cell_type": "code",
   "execution_count": 206,
   "metadata": {},
   "outputs": [
    {
     "data": {
      "image/png": "[encoded data removed]",
      "text/plain": [
       "Plot with title “vy”"
      ]
     },
     "metadata": {},
     "output_type": "display_data"
    }
   ],
   "source": [
    "plot(r)"
   ]
  },
  {
   "cell_type": "markdown",
   "metadata": {},
   "source": [
    "La otra posibilidad es añadir los parámetros de la ecuación a los argumentos de la función \"yprima\" y luego crear una función anónima auxiliar. Hagamos esto para resolver la ecuación anterior usando ode23 del paquete \"pracma\"."
   ]
  },
  {
   "cell_type": "code",
   "execution_count": 207,
   "metadata": {
    "collapsed": true
   },
   "outputs": [],
   "source": [
    "yprima <- function (t,Y,g,f) {\n",
    "        x <- Y[1]; y <- Y[2]; vx <- Y[3]; vy <- Y[4]\n",
    "        dx <- vx\n",
    "        dy <- vy\n",
    "        dvx <- g[1] - f*vx\n",
    "        dvy <- g[2] - f*vy\n",
    "        as.matrix(c(dx,dy,dvx,dvy))\n",
    "}"
   ]
  },
  {
   "cell_type": "code",
   "execution_count": 208,
   "metadata": {
    "collapsed": true
   },
   "outputs": [],
   "source": [
    "simula <- function(v,a,f) {\n",
    "    vx0 <- v*cos(a)\n",
    "    vy0 <- v*sin(a)\n",
    "    x0 <- 0\n",
    "    y0 <- 0\n",
    "    t0 <- 0; tf <- 2\n",
    "    g <- as.matrix(c(0, -1))\n",
    "    r <- ode23(function(t,Y) yprima(t,Y,g,f),t0,tf, c(x0,y0,vx0,vy0))\n",
    "    plot(r$y[,1],r$y[,2],type='l')\n",
    "}"
   ]
  },
  {
   "cell_type": "code",
   "execution_count": 209,
   "metadata": {},
   "outputs": [
    {
     "data": {
      "image/png": "[encoded data removed]",
      "text/plain": [
       "plot without title"
      ]
     },
     "metadata": {},
     "output_type": "display_data"
    }
   ],
   "source": [
    "simula(1,60*pi/180,2)"
   ]
  },
  {
   "cell_type": "markdown",
   "metadata": {},
   "source": [
    "Otro ejemplo sencillo es la solución numérica de las Leyes de Newton para una órbita:"
   ]
  },
  {
   "cell_type": "markdown",
   "metadata": {},
   "source": [
    "$$\\ddot {\\vec x} = - \\frac{G M}{d^2} \\vec x_u = - \\frac{\\mu}{||\\vec x ||^2} \\frac{\\vec x}{||\\vec x ||}$$"
   ]
  },
  {
   "cell_type": "code",
   "execution_count": 210,
   "metadata": {
    "collapsed": true
   },
   "outputs": [],
   "source": [
    "ydot <- function(t,Y) {\n",
    "    x <- Y[1]; y <- Y[2]; vx <- Y[3]; vy <- Y[4]\n",
    "    \n",
    "    mu <- 1;\n",
    "    d2 <- x*x+y*y\n",
    "    d <- sqrt(d2)\n",
    "    ux <- x/d\n",
    "    uy <- y/d\n",
    "    ax <- -ux*mu/d2\n",
    "    ay <- -uy*mu/d2\n",
    "  \n",
    "    as.matrix(c(vx,vy,ax,ay))\n",
    "}"
   ]
  },
  {
   "cell_type": "code",
   "execution_count": 211,
   "metadata": {
    "collapsed": true
   },
   "outputs": [],
   "source": [
    "simula <- function(v,a,maxt) {\n",
    "    vx0 <- v*cos(a)\n",
    "    vy0 <- v*sin(a)\n",
    "    x0 <- 4\n",
    "    y0 <- 0\n",
    "    r <- ode45(ydot, 0, maxt, as.matrix(c(x0,y0,vx0,vy0)) )\n",
    "    matplot(r$y[,1],r$y[,2],type='l',add=T)\n",
    "}"
   ]
  },
  {
   "cell_type": "code",
   "execution_count": 212,
   "metadata": {},
   "outputs": [
    {
     "data": {
      "image/png": "[encoded data removed]",
      "text/plain": [
       "plot without title"
      ]
     },
     "metadata": {},
     "output_type": "display_data"
    }
   ],
   "source": [
    "plot(0,0,\"o\",xlim=c(-4,4), ylim=c(-4,4))\n",
    "simula(0.3,60*pi/180,30)\n",
    "#simula(0.2,60*pi/180,30)\n",
    "#simula(0.4,70*pi/180,30)\n",
    "grid()"
   ]
  }
 ],
 "metadata": {
  "hide_input": false,
  "kernelspec": {
   "display_name": "R",
   "language": "R",
   "name": "ir"
  },
  "language_info": {
   "codemirror_mode": "r",
   "file_extension": ".r",
   "mimetype": "text/x-r-source",
   "name": "R",
   "pygments_lexer": "r",
   "version": "3.4.4"
  },
  "varInspector": {
   "cols": {
    "lenName": 16,
    "lenType": 16,
    "lenVar": 40
   },
   "kernels_config": {
    "python": {
     "delete_cmd_postfix": "",
     "delete_cmd_prefix": "del ",
     "library": "var_list.py",
     "varRefreshCmd": "print(var_dic_list())"
    },
    "r": {
     "delete_cmd_postfix": ") ",
     "delete_cmd_prefix": "rm(",
     "library": "var_list.r",
     "varRefreshCmd": "cat(var_dic_list()) "
    }
   },
   "types_to_exclude": [
    "module",
    "function",
    "builtin_function_or_method",
    "instance",
    "_Feature"
   ],
   "window_display": false
  }
 },
 "nbformat": 4,
 "nbformat_minor": 1
}
