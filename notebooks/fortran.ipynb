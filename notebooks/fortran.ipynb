{
 "cells": [
  {
   "cell_type": "markdown",
   "metadata": {},
   "source": [
    "## FORTRAN en 5 minutos"
   ]
  },
  {
   "cell_type": "markdown",
   "metadata": {},
   "source": [
    "Puedes probar los siguientes ejemplos de código en cualquier [compilador online](https://rextester.com/l/fortran_online_compiler)."
   ]
  },
  {
   "cell_type": "markdown",
   "metadata": {},
   "source": [
    "### Principales características"
   ]
  },
  {
   "cell_type": "markdown",
   "metadata": {},
   "source": [
    "- Es un lenguaje **compilado**. El programa completo tiene que ser sintácticamente correcto para que se pueda crear el **ejecutable**.\n",
    "\n",
    "- Los bloques de código se terminan con **end**. Los espacios no influyen, aunque por legibilidad conviene indentar los bloques. \n",
    "\n",
    "- No se distinguen las mayúsculas y minúsculas.\n",
    "\n",
    "- Por omisión los índices de los arrays comienzan en **1**."
   ]
  },
  {
   "cell_type": "markdown",
   "metadata": {},
   "source": [
    "### Hola mundo"
   ]
  },
  {
   "cell_type": "markdown",
   "metadata": {},
   "source": [
    "    ! el programa más simple\n",
    "\n",
    "    PROGRAM hello\n",
    "\n",
    "        PRINT *, \"Hola mundo.\"\n",
    "\n",
    "    END PROGRAM hello"
   ]
  },
  {
   "cell_type": "markdown",
   "metadata": {},
   "source": [
    "Es necesario escribir **PROGRAM** ... **END** y dar un nombre al programa con un identificador que **no se use** después.\n",
    "\n",
    "Los comentarios se indican con el símbolo de exclamación.\n",
    "\n",
    "El asterisco en print indica formato automático."
   ]
  },
  {
   "cell_type": "markdown",
   "metadata": {},
   "source": [
    "### Variables"
   ]
  },
  {
   "cell_type": "markdown",
   "metadata": {},
   "source": [
    "    program variables\n",
    "        IMPLICIT NONE\n",
    "\n",
    "        INTEGER :: n\n",
    "        REAL    :: x\n",
    "        COMPLEX :: z\n",
    "        LOGICAL :: b\n",
    "\n",
    "        n = 7**2\n",
    "        x = 3.5\n",
    "        z = (2,3) + sqrt((-4,0))\n",
    "        b = x < n\n",
    "\n",
    "        print *, n, x, z, b\n",
    "\n",
    "    end"
   ]
  },
  {
   "cell_type": "markdown",
   "metadata": {},
   "source": [
    "Se recomienda declarar el tipo de las variables. Esto debe hacerse justo al principio del programa.\n",
    "\n",
    "(Si no se escribe **implicit none** no hace falta declarar las variables. Entonces las que empiezan por I,J,K,L,M,N se suponen enteras y el resto reales. Esto puede dar lugar a errores difíciles de detectar si, por ejemplo, nos equivocamos al escribir el nombre de una variable.)"
   ]
  },
  {
   "cell_type": "markdown",
   "metadata": {},
   "source": [
    "### Condiciones"
   ]
  },
  {
   "cell_type": "markdown",
   "metadata": {},
   "source": [
    "    program ejemplo_de_if\n",
    "        implicit none\n",
    "\n",
    "        integer :: n\n",
    "        n = 107   ! cambia el valor para probar\n",
    "\n",
    "        IF (mod(n,2) == 0) THEN\n",
    "            print *, n, \"es par\"\n",
    "        ELSE\n",
    "            print *, n, \"es impar\"\n",
    "            print *, \"me gustan los impares\"\n",
    "        END IF\n",
    "\n",
    "    end"
   ]
  },
  {
   "cell_type": "markdown",
   "metadata": {},
   "source": [
    "Es necesario poner la condición entre paréntesis y la palabra clave **then**.\n",
    "\n",
    "La parte **else** es opcional.\n",
    "\n",
    "La construcción se termina con **end if**."
   ]
  },
  {
   "cell_type": "markdown",
   "metadata": {},
   "source": [
    "### Bucles"
   ]
  },
  {
   "cell_type": "markdown",
   "metadata": {},
   "source": [
    "    program bucle\n",
    "        implicit none\n",
    "\n",
    "        integer :: k\n",
    "\n",
    "        DO k=1,100\n",
    "            print *, k, \" al cuadrado es\" , k**2\n",
    "        END DO\n",
    "\n",
    "    end"
   ]
  },
  {
   "cell_type": "markdown",
   "metadata": {},
   "source": [
    "En Fortran moderno el índice del bucle debe ser entero."
   ]
  },
  {
   "cell_type": "markdown",
   "metadata": {},
   "source": [
    "Forma **do while**:"
   ]
  },
  {
   "cell_type": "markdown",
   "metadata": {},
   "source": [
    "    PROGRAM ejemplo_de_do_while\n",
    "        implicit none\n",
    "\n",
    "        integer :: i=1, b=1\n",
    "\n",
    "        DO WHILE (i<=10)\n",
    "            b=3*b\n",
    "            i=i+1\n",
    "        END DO\n",
    "\n",
    "        print *, b, 3**10\n",
    "\n",
    "    END"
   ]
  },
  {
   "cell_type": "markdown",
   "metadata": {},
   "source": [
    "Los bucles se puede abandonar en cualquier momento con **exit**:"
   ]
  },
  {
   "cell_type": "markdown",
   "metadata": {},
   "source": [
    "    PROGRAM ejemplo_de_exit\n",
    "        implicit none\n",
    "\n",
    "        double precision :: r, ra, x\n",
    "\n",
    "        x = 2.\n",
    "        ra = 1.\n",
    "\n",
    "        DO\n",
    "            r = (ra + x/ra)/2\n",
    "            print *, r\n",
    "            if (abs(r-ra)/ra <1E-10) EXIT\n",
    "            ra = r\n",
    "        END DO\n",
    "\n",
    "    END"
   ]
  },
  {
   "cell_type": "markdown",
   "metadata": {},
   "source": [
    "Hemos usado una forma corta de **if** que es más cómoda cuando no hay **else** y el bloque **then** es una sola línea."
   ]
  },
  {
   "cell_type": "markdown",
   "metadata": {},
   "source": [
    "### Funciones"
   ]
  },
  {
   "cell_type": "markdown",
   "metadata": {},
   "source": [
    "    program fun\n",
    "        implicit none\n",
    "\n",
    "        print *, p(7)\n",
    "\n",
    "    CONTAINS\n",
    "\n",
    "        FUNCTION p(n) \n",
    "            integer :: p, n\n",
    "            integer :: a\n",
    "            a = n**2\n",
    "            p = a+n+41\n",
    "        END FUNCTION\n",
    "\n",
    "    end"
   ]
  },
  {
   "cell_type": "markdown",
   "metadata": {},
   "source": [
    "Se definen después del \"programa principal\" en una sección **CONTAINS**\n",
    "\n",
    "El resultado se devuelve en una variable con el mismo nombre que la función.\n",
    "\n",
    "Hay que indicar el tipo del resultado y de los argumentos."
   ]
  },
  {
   "cell_type": "markdown",
   "metadata": {},
   "source": [
    "### Arrays"
   ]
  },
  {
   "cell_type": "markdown",
   "metadata": {},
   "source": [
    "Hay que declarar el número de elementos. Los arrays admiten automáticamente las operaciones matemáticas."
   ]
  },
  {
   "cell_type": "markdown",
   "metadata": {},
   "source": [
    "    program p\n",
    "        implicit none\n",
    "\n",
    "        integer :: m(5) = [3,5,-11,8,7]\n",
    "\n",
    "        print *, m(2)\n",
    "        print *, m(1:3)\n",
    "        print *, 5*m + [10,0,7,1,1]\n",
    "        print *, dot_product([3,4,5] , [1,0,1])\n",
    "    end"
   ]
  },
  {
   "cell_type": "markdown",
   "metadata": {},
   "source": [
    "Construcción de un array mediante bucle implícito y ejemplo de algunas funciones útiles:"
   ]
  },
  {
   "cell_type": "markdown",
   "metadata": {},
   "source": [
    "    program p\n",
    "        implicit none\n",
    "        integer, parameter :: d = 10\n",
    "        integer :: k\n",
    "        integer :: m(d) = [ (3*k-5, k=1,d) ]\n",
    "\n",
    "        print *, m\n",
    "        print *, 2*m+1\n",
    "        print *, sum(m)\n",
    "        print *, size(m)\n",
    "        print *, maxval(m)\n",
    "        print *, minloc(m)\n",
    "        print *, count(m > 8)\n",
    "        print *, pack(m, m < 7)\n",
    "    end\n"
   ]
  },
  {
   "cell_type": "markdown",
   "metadata": {},
   "source": [
    "### OJO"
   ]
  },
  {
   "cell_type": "markdown",
   "metadata": {},
   "source": [
    "- El símbolo `/` aplicado a enteros produce el **cociente**. Por ejemplo, `1/2` se evalúa `0`. Igual ocurre con `10**(-1)`. Hay que añadir un punto decimal a las constantes numéricas para que se consideren reales."
   ]
  },
  {
   "cell_type": "markdown",
   "metadata": {},
   "source": [
    "- Las variables de tipo **real** son de precisión simple, con solo 5 decimales. Casi siempre es mejor usar **double precision**. "
   ]
  },
  {
   "cell_type": "markdown",
   "metadata": {},
   "source": [
    "- Las condiciones lógicas se combinan con `.and.`, `.or.` y `.not.`. Se evalúan completamente aunque su resultado se conozca antes de terminar. Por ejemplo, si tenemos algo como\n",
    "\n",
    "      IF (x/=0 .and. fun(x)>10) THEN\n",
    "    \n",
    "  Si `x` es cero, la condición combinada es falsa. La mayoría de los lenguajes de programación no evaluarán `fun(x)`, pero Fortran sí lo hará."
   ]
  },
  {
   "cell_type": "markdown",
   "metadata": {},
   "source": [
    "## FORTRAN en Python"
   ]
  },
  {
   "cell_type": "markdown",
   "metadata": {},
   "source": [
    "Es posible escribir código en FORTRAN directamente en el notebook y utilizarlo en Python."
   ]
  },
  {
   "cell_type": "code",
   "execution_count": null,
   "metadata": {},
   "outputs": [],
   "source": [
    "# ! pip install fortran-magic\n",
    "\n",
    "# puede ser necesario también\n",
    "# ! conda install gcc -y"
   ]
  },
  {
   "cell_type": "code",
   "execution_count": null,
   "metadata": {},
   "outputs": [],
   "source": [
    "%load_ext fortranmagic"
   ]
  },
  {
   "cell_type": "code",
   "execution_count": null,
   "metadata": {},
   "outputs": [],
   "source": [
    "%%fortran\n",
    "\n",
    "subroutine compute_fortran(x, y, z)\n",
    "    real, intent(in) :: x(:), y(:)\n",
    "    real, intent(out) :: z(size(x, 1))\n",
    "\n",
    "    z = sin(x + y)\n",
    "\n",
    "end subroutine"
   ]
  },
  {
   "cell_type": "code",
   "execution_count": null,
   "metadata": {},
   "outputs": [],
   "source": [
    "compute_fortran([1, 2, 3], [4, 5, 6])"
   ]
  }
 ],
 "metadata": {
  "hide_input": false,
  "kernelspec": {
   "display_name": "Python 3",
   "language": "python",
   "name": "python3"
  },
  "language_info": {
   "codemirror_mode": {
    "name": "ipython",
    "version": 3
   },
   "file_extension": ".py",
   "mimetype": "text/x-python",
   "name": "python",
   "nbconvert_exporter": "python",
   "pygments_lexer": "ipython3",
   "version": "3.6.3"
  },
  "varInspector": {
   "cols": {
    "lenName": 16,
    "lenType": 16,
    "lenVar": 40
   },
   "kernels_config": {
    "python": {
     "delete_cmd_postfix": "",
     "delete_cmd_prefix": "del ",
     "library": "var_list.py",
     "varRefreshCmd": "print(var_dic_list())"
    },
    "r": {
     "delete_cmd_postfix": ") ",
     "delete_cmd_prefix": "rm(",
     "library": "var_list.r",
     "varRefreshCmd": "cat(var_dic_list()) "
    }
   },
   "types_to_exclude": [
    "module",
    "function",
    "builtin_function_or_method",
    "instance",
    "_Feature"
   ],
   "window_display": false
  }
 },
 "nbformat": 4,
 "nbformat_minor": 2
}
