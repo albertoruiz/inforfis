{
 "cells": [
  {
   "cell_type": "markdown",
   "metadata": {},
   "source": [
    "Informática - 1º de Física\n",
    "<br>\n",
    "**Introducción a la Programación**\n",
    "<br>\n",
    "<p style=\"color:#808080\"> <small><small>\n",
    "15/09/2020\n",
    "</small></small></p>\n",
    "\n",
    "# Guión de prácticas"
   ]
  },
  {
   "cell_type": "markdown",
   "metadata": {},
   "source": [
    "## Sesión 1 (2020.09.21-23-24)"
   ]
  },
  {
   "cell_type": "markdown",
   "metadata": {},
   "source": [
    "1) **Instalación**\n",
    "\n",
    "Utilizaremos la distribución [Anaconda](https://www.anaconda.com/download/) del lenguaje Python. Se puede instalar la versión completa o una versión mínima ([miniconda](https://conda.io/miniconda.html)) y añadir luego los paquetes deseados.\n",
    "\n",
    "- Descarga el programa de instalación correspondiente a Python 3.6 para tu sistema operativo y ejecútalo con todas las opciones por omisión.\n",
    "\n",
    "- Cuando termine aparecerá `Anaconda3 (64bit)` en la lista de todos los programas.\n",
    "\n",
    "- Si has instalado anaconda completo dentro estará ya disponible el elemento `jupyter notebook` que usaremos en las prácticas.\n",
    "\n",
    "- Si has instalado miniconda debes añadir este elemento manualmente. Para ello arranca la opción llamada `Anaconda terminal` y ejecuta la orden\n",
    "\n",
    "        conda install jupyter numpy matplotlib."
   ]
  },
  {
   "cell_type": "markdown",
   "metadata": {},
   "source": [
    "2) **Manejo básico del notebook.**\n",
    "\n",
    "Los notebooks son documentos interactivos que se muestran en el navegador de internet. Contienen dos tipos de \"celdas\": texto y código.\n",
    "\n",
    "Las celdas de código se escriben en un lenguaje de programación (en este caso Python) y cuando las ejecutamos se muestran los resultados de los cálculos.\n",
    "\n",
    "Las celdas de texto se escriben en \"Markdown\". Es un formato muy simple de \"texto plano\" que admite ciertos convenios para poner títulos, **negrita**, _cursiva_, etc. También se pueden añadir ecuaciones y otros elementos típicos de las páginas web como fotos, vídeos, enlaces a otras páginas, etc."
   ]
  }
 ],
 "metadata": {
  "hide_input": false,
  "kernelspec": {
   "display_name": "Python 3",
   "language": "python",
   "name": "python3"
  },
  "language_info": {
   "codemirror_mode": {
    "name": "ipython",
    "version": 3
   },
   "file_extension": ".py",
   "mimetype": "text/x-python",
   "name": "python",
   "nbconvert_exporter": "python",
   "pygments_lexer": "ipython3",
   "version": "3.6.4"
  },
  "varInspector": {
   "cols": {
    "lenName": 16,
    "lenType": 16,
    "lenVar": 40
   },
   "kernels_config": {
    "python": {
     "delete_cmd_postfix": "",
     "delete_cmd_prefix": "del ",
     "library": "var_list.py",
     "varRefreshCmd": "print(var_dic_list())"
    },
    "r": {
     "delete_cmd_postfix": ") ",
     "delete_cmd_prefix": "rm(",
     "library": "var_list.r",
     "varRefreshCmd": "cat(var_dic_list()) "
    }
   },
   "types_to_exclude": [
    "module",
    "function",
    "builtin_function_or_method",
    "instance",
    "_Feature"
   ],
   "window_display": false
  }
 },
 "nbformat": 4,
 "nbformat_minor": 2
}
