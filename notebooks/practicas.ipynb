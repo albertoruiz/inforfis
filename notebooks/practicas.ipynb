{
 "cells": [
  {
   "cell_type": "markdown",
   "metadata": {},
   "source": [
    "Informática - 1º de Física\n",
    "<br>\n",
    "**Introducción a la Programación**\n",
    "<br>\n",
    "<p style=\"color:#808080\"> <small><small>\n",
    "25/09/2020\n",
    "</small></small></p>\n",
    "\n",
    "# Guión de prácticas"
   ]
  },
  {
   "cell_type": "markdown",
   "metadata": {},
   "source": [
    "## Sesión 1 (2020.09.21-23-24)"
   ]
  },
  {
   "cell_type": "markdown",
   "metadata": {},
   "source": [
    "1) **Instalación**\n",
    "\n",
    "Para instalar el lenguaje Python en nuestro ordenador usaremos la distribución \"Anaconda\". El procedimiento de instalación está [explicado en detalle aquí](https://robot.inf.um.es/material/inforfis/install_anaconda.html)."
   ]
  },
  {
   "cell_type": "markdown",
   "metadata": {},
   "source": [
    "2) **Manejo básico del notebook.**\n",
    "\n",
    "Los notebooks son documentos interactivos que se muestran en el navegador de internet. Contienen dos tipos de \"celdas\": texto y código.\n",
    "\n",
    "Las celdas de código se escriben en un lenguaje de programación (en este caso Python) y cuando las ejecutamos se muestran los resultados de los cálculos.\n",
    "\n",
    "Las celdas de texto se escriben en \"Markdown\". Es un formato muy simple de \"texto plano\" que admite ciertos convenios para poner títulos, **negrita**, _cursiva_, etc. También se pueden añadir ecuaciones y otros elementos típicos de las páginas web como fotos, vídeos, enlaces a otras páginas, etc.\n",
    "\n",
    "Para practicar, debéis preparar un sencillo notebook con vuestro nombre, una o dos operaciones matemáticas de prueba y un breve texto libre que explique por qué habéis elegido estudiar Física."
   ]
  },
  {
   "cell_type": "markdown",
   "metadata": {},
   "source": [
    "3) **Guardar el trabajo**\n",
    "\n",
    "No olvidéis guardar frecuentemente el trabajo realizado con la opción Save o CTRL-S.\n",
    "\n",
    "Es conveniente poner al documento un nombre descriptivo, sin caracteres especiales ni espacios.\n",
    "\n",
    "El notebook realizado es un archivo con extensión *.ipynb*. También se puede guardar en formato *.html* (`File->Download as`). En este caso no será interactivo pero puede verlo cualquier persona aunque no tenga instalado Python ni jupyter."
   ]
  },
  {
   "cell_type": "markdown",
   "metadata": {},
   "source": [
    "4) **Subirlo a la tarea del aula virtual**\n",
    "\n",
    "Debéis subir el notebook realizado a la tarea que econtraréis abierta en el aula virtual. Subid dos ficheros: la versión original `.ipynb` y la versión `.html`."
   ]
  },
  {
   "cell_type": "markdown",
   "metadata": {},
   "source": [
    "5) **Descargar los apuntes en tu ordenador**\n",
    "\n",
    "Aunque se pueden ver online, es conveniente descargar los apuntes en tu ordenador. Accedemos a ellos desde la [página principal de la asignatura](http://dis.um.es/~alberto/inforfis.html) en la opción \"archivo zip\". Es un archivo comprimido que hay que **extraer** después de descargarlo. "
   ]
  },
  {
   "cell_type": "markdown",
   "metadata": {},
   "source": [
    "**IMPORTANTE**\n",
    "\n",
    "- Los notebooks (formato .ipynb) se tienen que abrir con `jupyter` (el resto de los programas los ven como \"códigos\" raros).\n",
    "\n",
    "\n",
    "- Algunas carpetas del ordenador no se ven en jupyter. [Este documento](https://robot.inf.um.es/material/inforfis/Comentarios_P1.pdf) explica cómo acceder a ellas y la manera de resolver los problemas más comunes que han surgido en esta sesión."
   ]
  },
  {
   "cell_type": "markdown",
   "metadata": {},
   "source": [
    "## Sesión 2 (2020.09.28-30-1)"
   ]
  },
  {
   "cell_type": "markdown",
   "metadata": {},
   "source": [
    "**Recuerda**\n",
    "\n",
    "Debes crear el documento nuevo en una carpeta que tengas bien localizada en tu ordenador para encontrarlo al final de la clase y subirlo a la tarea del aula virtual.\n",
    "\n",
    "Pon tu nombre al principio."
   ]
  },
  {
   "cell_type": "markdown",
   "metadata": {},
   "source": [
    "**Ejercicios**\n",
    "\n",
    "- Comprueba que sabes hacer en Python todas las operaciones normales de una calculadora.\n",
    "\n",
    "\n",
    "- La [razón áurea](https://en.wikipedia.org/wiki/Golden_ratio) es el número\n",
    "\n",
    " $$g = \\frac{1+\\sqrt{5}}{2} $$\n",
    "\n",
    " Evalúa $g$ usando los números de coma flotante estándar de doble precisión (`float`) y comprueba si el valor obtenido verifica exactamente la ecuación \n",
    "\n",
    " $$\\frac{g+1}{g} = g$$\n",
    "\n",
    "\n",
    "- Escribe expresiones para transformar grados [Fahrenheit](https://en.wikipedia.org/wiki/Fahrenheit) en centígrados y comprueba su funcionamiento con unos cuantos valores.\n",
    "\n",
    " $$C = \\frac{F-32}{1.8}$$\n",
    "\n",
    " (No te preocupes por ahora por la entrada de datos. Puedes almacenar directamente el valor de interés en una variable, o si quieres puedes usar la función `input`.)\n",
    "\n",
    "\n",
    "- Escribe expresiones para calcular las soluciones de una ecuación de segundo grado y comprueba su funcionamiento en unos cuantos casos de prueba.\n",
    "\n",
    "\n",
    "\n",
    "- Utiliza las operaciones numéricas de tipo `complex` para comprobar que\n",
    "\n",
    " $$e^{i\\pi}+1=0$$\n",
    "\n",
    "\n",
    "- Expresa en Python la fórmula del período de un péndulo de longitud $l$ (para el caso de oscilaciones pequeñas) y evalúala para $l=1m$ y $l=5cm$ .\n",
    "\n",
    " $$ T_0 = 2\\pi \\sqrt{\\frac{l}{g}} $$\n",
    "\n",
    " En general, si la amplitud de las oscilaciones es $\\phi$, el período puede aproximarse mediante: \n",
    " \n",
    " $$ T \\simeq T_0\\left(1 + \\frac{1}{16}\\phi^2 + \\frac{11}{3072}\\phi^4  \\right)$$\n",
    "\n",
    " Compara el tamaño de la corrección para oscilaciones de $\\phi=10$ y $\\phi=30$ grados.\n",
    " \n",
    "\n",
    "- Comprueba el funcionamiento de algunas operaciones simples sobre secuencias.\n",
    "\n",
    "\n",
    "- Calcula \n",
    "\n",
    "$$\\sum_{k=5}^{22}\\left(2k^3-5k^2+3 \\right)$$\n",
    "\n",
    "\n",
    "- Calcula la media, mediana y desviación estándar de [estos datos](http://robot.inf.um.es/material/inforfis/numbers.txt)."
   ]
  }
 ],
 "metadata": {
  "hide_input": false,
  "kernelspec": {
   "display_name": "Python 3",
   "language": "python",
   "name": "python3"
  },
  "language_info": {
   "codemirror_mode": {
    "name": "ipython",
    "version": 3
   },
   "file_extension": ".py",
   "mimetype": "text/x-python",
   "name": "python",
   "nbconvert_exporter": "python",
   "pygments_lexer": "ipython3",
   "version": "3.6.4"
  },
  "varInspector": {
   "cols": {
    "lenName": 16,
    "lenType": 16,
    "lenVar": 40
   },
   "kernels_config": {
    "python": {
     "delete_cmd_postfix": "",
     "delete_cmd_prefix": "del ",
     "library": "var_list.py",
     "varRefreshCmd": "print(var_dic_list())"
    },
    "r": {
     "delete_cmd_postfix": ") ",
     "delete_cmd_prefix": "rm(",
     "library": "var_list.r",
     "varRefreshCmd": "cat(var_dic_list()) "
    }
   },
   "types_to_exclude": [
    "module",
    "function",
    "builtin_function_or_method",
    "instance",
    "_Feature"
   ],
   "window_display": false
  }
 },
 "nbformat": 4,
 "nbformat_minor": 2
}
