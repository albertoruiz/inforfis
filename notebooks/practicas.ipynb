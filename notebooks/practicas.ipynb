{
 "cells": [
  {
   "cell_type": "markdown",
   "metadata": {},
   "source": [
    "Informática - 1º de Física\n",
    "<br>\n",
    "**Introducción a la Programación**\n",
    "<br>\n",
    "<p style=\"color:#808080\"> <small><small>\n",
    "20/09/2020\n",
    "</small></small></p>\n",
    "\n",
    "# Guión de prácticas"
   ]
  },
  {
   "cell_type": "markdown",
   "metadata": {},
   "source": [
    "## Sesión 1 (2020.09.21-23-24)"
   ]
  },
  {
   "cell_type": "markdown",
   "metadata": {},
   "source": [
    "1) **Instalación**\n",
    "\n",
    "Para instalar el lenguaje Python en nuestro ordenador usaremos la distribución \"Anaconda\". El procedimiento de instalación está [explicado en detalle aquí](https://robot.inf.um.es/material/inforfis/install_anaconda.html)."
   ]
  },
  {
   "cell_type": "markdown",
   "metadata": {},
   "source": [
    "2) **Manejo básico del notebook.**\n",
    "\n",
    "Los notebooks son documentos interactivos que se muestran en el navegador de internet. Contienen dos tipos de \"celdas\": texto y código.\n",
    "\n",
    "Las celdas de código se escriben en un lenguaje de programación (en este caso Python) y cuando las ejecutamos se muestran los resultados de los cálculos.\n",
    "\n",
    "Las celdas de texto se escriben en \"Markdown\". Es un formato muy simple de \"texto plano\" que admite ciertos convenios para poner títulos, **negrita**, _cursiva_, etc. También se pueden añadir ecuaciones y otros elementos típicos de las páginas web como fotos, vídeos, enlaces a otras páginas, etc.\n",
    "\n",
    "Para practicar, debéis preparar un sencillo notebook con vuestro nombre, una o dos operaciones matemáticas de prueba y un breve texto libre que explique por qué habéis elegido estudiar Física."
   ]
  },
  {
   "cell_type": "markdown",
   "metadata": {},
   "source": [
    "3) **Guardar el trabajo**\n",
    "\n",
    "No olvidéis guardar frecuentemente el trabajo realizado con la opción Save o CTRL-S.\n",
    "\n",
    "Es conveniente poner al documento un nombre descriptivo, sin caracteres especiales ni espacios.\n",
    "\n",
    "El notebook realizado es un archivo con extensión *.ipynb*. También se puede guardar en formato *.html* (`File->Download as`). En este caso no será interactivo pero puede verlo cualquier persona aunque no tenga instalado Python ni jupyter."
   ]
  },
  {
   "cell_type": "markdown",
   "metadata": {},
   "source": [
    "4) **Subirlo a la tarea del aula virtual**\n",
    "\n",
    "Debéis subir el notebook realizado a la tarea que econtraréis abierta en el aula virtual. Subid dos ficheros: la versión original `.ipynb` y la versión `.html`."
   ]
  }
 ],
 "metadata": {
  "hide_input": false,
  "kernelspec": {
   "display_name": "Python 3",
   "language": "python",
   "name": "python3"
  },
  "language_info": {
   "codemirror_mode": {
    "name": "ipython",
    "version": 3
   },
   "file_extension": ".py",
   "mimetype": "text/x-python",
   "name": "python",
   "nbconvert_exporter": "python",
   "pygments_lexer": "ipython3",
   "version": "3.6.4"
  },
  "varInspector": {
   "cols": {
    "lenName": 16,
    "lenType": 16,
    "lenVar": 40
   },
   "kernels_config": {
    "python": {
     "delete_cmd_postfix": "",
     "delete_cmd_prefix": "del ",
     "library": "var_list.py",
     "varRefreshCmd": "print(var_dic_list())"
    },
    "r": {
     "delete_cmd_postfix": ") ",
     "delete_cmd_prefix": "rm(",
     "library": "var_list.r",
     "varRefreshCmd": "cat(var_dic_list()) "
    }
   },
   "types_to_exclude": [
    "module",
    "function",
    "builtin_function_or_method",
    "instance",
    "_Feature"
   ],
   "window_display": false
  }
 },
 "nbformat": 4,
 "nbformat_minor": 2
}
