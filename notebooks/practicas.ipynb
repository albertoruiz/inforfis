{
 "cells": [
  {
   "cell_type": "markdown",
   "metadata": {},
   "source": [
    "Informática - 1º de Física\n",
    "<br>\n",
    "**Introducción a la Programación**\n",
    "\n",
    "\n",
    "# Guión de prácticas"
   ]
  },
  {
   "cell_type": "markdown",
   "metadata": {},
   "source": [
    "**Recuerda**\n",
    "\n",
    "- Debes crear el documento nuevo en una carpeta que tengas bien localizada en tu ordenador para encontrarlo al final de la clase y subirlo a la tarea del aula virtual.\n",
    "\n",
    "\n",
    "- Pon tu nombre al principio.\n",
    "\n",
    "\n",
    "- Los notebooks (formato .ipynb) se tienen que abrir con `jupyter` (el resto de los programas los ven como \"códigos\" raros).\n",
    "\n",
    "\n",
    "- Algunas carpetas del ordenador no se ven en jupyter. [Este documento](https://robot.inf.um.es/material/inforfis/Comentarios_P1.pdf) explica cómo acceder a ellas y la manera de resolver los problemas más comunes que han surgido en esta sesión."
   ]
  },
  {
   "cell_type": "markdown",
   "metadata": {},
   "source": [
    "Tarea 1: [enunciado](Tarea1.ipynb)."
   ]
  },
  {
   "cell_type": "markdown",
   "metadata": {},
   "source": [
    "Tarea 2: [enunciado](Tarea2.ipynb), [resuelta](Tarea2-resuelta.ipynb)."
   ]
  },
  {
   "cell_type": "markdown",
   "metadata": {},
   "source": [
    "Tarea 3: [enunciado](Tarea3.ipynb)"
   ]
  }
 ],
 "metadata": {
  "hide_input": false,
  "kernelspec": {
   "display_name": "Python 3",
   "language": "python",
   "name": "python3"
  },
  "language_info": {
   "codemirror_mode": {
    "name": "ipython",
    "version": 3
   },
   "file_extension": ".py",
   "mimetype": "text/x-python",
   "name": "python",
   "nbconvert_exporter": "python",
   "pygments_lexer": "ipython3",
   "version": "3.6.4"
  },
  "varInspector": {
   "cols": {
    "lenName": 16,
    "lenType": 16,
    "lenVar": 40
   },
   "kernels_config": {
    "python": {
     "delete_cmd_postfix": "",
     "delete_cmd_prefix": "del ",
     "library": "var_list.py",
     "varRefreshCmd": "print(var_dic_list())"
    },
    "r": {
     "delete_cmd_postfix": ") ",
     "delete_cmd_prefix": "rm(",
     "library": "var_list.r",
     "varRefreshCmd": "cat(var_dic_list()) "
    }
   },
   "types_to_exclude": [
    "module",
    "function",
    "builtin_function_or_method",
    "instance",
    "_Feature"
   ],
   "window_display": false
  }
 },
 "nbformat": 4,
 "nbformat_minor": 2
}
