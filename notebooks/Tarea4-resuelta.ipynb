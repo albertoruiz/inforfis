{
 "cells": [
  {
   "cell_type": "markdown",
   "metadata": {},
   "source": [
    "# Tarea 4\n",
    "\n",
    "Nombre:  **Xxxxx Yyyyy Zzzzzz** \n",
    "\n",
    "X/10/2020"
   ]
  },
  {
   "cell_type": "markdown",
   "metadata": {},
   "source": [
    "## Repaso"
   ]
  },
  {
   "cell_type": "markdown",
   "metadata": {},
   "source": [
    "Recuerda que la instrucción `for` sirve para repetir operaciones recorriendo los elementos de una secuencia:"
   ]
  },
  {
   "cell_type": "code",
   "execution_count": 1,
   "metadata": {},
   "outputs": [],
   "source": [
    "import numpy as np"
   ]
  },
  {
   "cell_type": "code",
   "execution_count": 2,
   "metadata": {},
   "outputs": [
    {
     "name": "stdout",
     "output_type": "stream",
     "text": [
      "0     0\n",
      "1     1\n",
      "2     4\n",
      "3     9\n",
      "4     16\n",
      "5     25\n",
      "6     36\n",
      "7     49\n",
      "8     64\n",
      "9     81\n"
     ]
    }
   ],
   "source": [
    "for k in np.arange(10):\n",
    "    b = k**2\n",
    "    print(k, '   ', b)"
   ]
  },
  {
   "cell_type": "code",
   "execution_count": 3,
   "metadata": {},
   "outputs": [
    {
     "name": "stdout",
     "output_type": "stream",
     "text": [
      "0.0\n",
      "0.1\n",
      "0.2\n",
      "0.30000000000000004\n",
      "0.4\n",
      "0.5\n",
      "0.6000000000000001\n",
      "0.7000000000000001\n",
      "0.8\n",
      "0.9\n",
      "1.0\n"
     ]
    }
   ],
   "source": [
    "for x in np.linspace(0, 1, 11):\n",
    "    print(x)"
   ]
  },
  {
   "cell_type": "markdown",
   "metadata": {},
   "source": [
    "`break` interrumpe la repetición:"
   ]
  },
  {
   "cell_type": "code",
   "execution_count": 4,
   "metadata": {},
   "outputs": [
    {
     "name": "stdout",
     "output_type": "stream",
     "text": [
      "0.0\n",
      "0.1\n",
      "0.2\n",
      "0.30000000000000004\n",
      "0.4\n",
      "0.5\n",
      "0.6000000000000001\n"
     ]
    }
   ],
   "source": [
    "for x in np.linspace(0, 1, 11):\n",
    "    print(x)\n",
    "    if x > 0.5:\n",
    "        break"
   ]
  },
  {
   "cell_type": "markdown",
   "metadata": {},
   "source": [
    "Se pueden \"repetir las repeticiones\" (*bucles anidados*):"
   ]
  },
  {
   "cell_type": "code",
   "execution_count": 5,
   "metadata": {},
   "outputs": [
    {
     "name": "stdout",
     "output_type": "stream",
     "text": [
      "0 0 0\n",
      "0 1 1\n",
      "0 2 2\n",
      "1 0 1\n",
      "1 1 2\n",
      "1 2 3\n",
      "2 0 2\n",
      "2 1 3\n",
      "2 2 4\n",
      "3 0 3\n",
      "3 1 4\n",
      "3 2 5\n",
      "4 0 4\n",
      "4 1 5\n",
      "4 2 6\n"
     ]
    }
   ],
   "source": [
    "for i in range(5):\n",
    "    for j in range(3):\n",
    "        print(i, j, i+j)"
   ]
  },
  {
   "cell_type": "markdown",
   "metadata": {},
   "source": [
    "Podemos calcular un sumatorio operando directamente con secuencias de números:"
   ]
  },
  {
   "cell_type": "code",
   "execution_count": 6,
   "metadata": {},
   "outputs": [
    {
     "data": {
      "text/plain": [
       "1015"
      ]
     },
     "execution_count": 6,
     "metadata": {},
     "output_type": "execute_result"
    }
   ],
   "source": [
    "K = np.arange(15)\n",
    "\n",
    "np.sum(K**2)"
   ]
  },
  {
   "cell_type": "markdown",
   "metadata": {},
   "source": [
    "O utilizando un bucle `for` para acumular paso a paso cada uno de los términos:"
   ]
  },
  {
   "cell_type": "code",
   "execution_count": 7,
   "metadata": {},
   "outputs": [
    {
     "data": {
      "text/plain": [
       "1015"
      ]
     },
     "execution_count": 7,
     "metadata": {},
     "output_type": "execute_result"
    }
   ],
   "source": [
    "s = 0\n",
    "for k in np.arange(15):\n",
    "    s = s + k**2\n",
    "s"
   ]
  },
  {
   "cell_type": "markdown",
   "metadata": {},
   "source": [
    "## Ejercicios"
   ]
  },
  {
   "cell_type": "markdown",
   "metadata": {},
   "source": [
    "Resuelve los siguientes ejercicios usando únicamente los conceptos explicados en clase hasta ahora."
   ]
  },
  {
   "cell_type": "markdown",
   "metadata": {},
   "source": [
    "**1)** Haz una tabla de conversión de grados Fahrenheit a Celsius, de $32F$ hasta $212F$."
   ]
  },
  {
   "cell_type": "code",
   "execution_count": 8,
   "metadata": {},
   "outputs": [
    {
     "name": "stdout",
     "output_type": "stream",
     "text": [
      " 20 F ... -6.67 ºC\n",
      " 30 F ... -1.11 ºC\n",
      " 40 F ...  4.44 ºC\n",
      " 50 F ... 10.00 ºC\n",
      " 60 F ... 15.56 ºC\n",
      " 70 F ... 21.11 ºC\n",
      " 80 F ... 26.67 ºC\n",
      " 90 F ... 32.22 ºC\n",
      "100 F ... 37.78 ºC\n",
      "110 F ... 43.33 ºC\n",
      "120 F ... 48.89 ºC\n"
     ]
    }
   ],
   "source": [
    "def f2c(t):\n",
    "    return(t-32)/1.8\n",
    "\n",
    "for f in np.arange(20,120+1,10):\n",
    "    print(f'{f:3d} F ... {f2c(f):5.2f} ºC')"
   ]
  },
  {
   "cell_type": "code",
   "execution_count": 9,
   "metadata": {},
   "outputs": [
    {
     "name": "stdout",
     "output_type": "stream",
     "text": [
      "esto es una cadena con formato: x =      0.143 m/s\n"
     ]
    }
   ],
   "source": [
    "# en este ejercicio hay muchas f, y cada una significa una cosa distinta...\n",
    "x = 1/7\n",
    "print(f'esto es una cadena con formato: x = {x:10.3f} m/s')\n",
    "#     ^                                            ^\n",
    "#  indica cadena con formato        indica coma flotante con 10 espacios y 3 decimales"
   ]
  },
  {
   "cell_type": "markdown",
   "metadata": {},
   "source": [
    "**2)** Calcula mentalmente la secuencia de números que imprimirá el siguiente código (el orden es importante), y luego compruébalo:\n",
    "\n",
    "\n",
    "        for i in range(5):\n",
    "            for j in range(5):\n",
    "                print(i+10*j)"
   ]
  },
  {
   "cell_type": "code",
   "execution_count": 10,
   "metadata": {},
   "outputs": [
    {
     "name": "stdout",
     "output_type": "stream",
     "text": [
      "0\n",
      "10\n",
      "20\n",
      "30\n",
      "40\n",
      "1\n",
      "11\n",
      "21\n",
      "31\n",
      "41\n",
      "2\n",
      "12\n",
      "22\n",
      "32\n",
      "42\n",
      "3\n",
      "13\n",
      "23\n",
      "33\n",
      "43\n",
      "4\n",
      "14\n",
      "24\n",
      "34\n",
      "44\n"
     ]
    }
   ],
   "source": [
    "# tenemos que adivinar que las decenas \"avanzan más deprisa\"\n",
    "# ya que están en el bucle interno\n",
    "\n",
    "for i in range(5):\n",
    "    for j in range(5):\n",
    "        print(i+10*j)"
   ]
  },
  {
   "cell_type": "markdown",
   "metadata": {},
   "source": [
    "**3)** Imprime las tablas de multiplicar."
   ]
  },
  {
   "cell_type": "code",
   "execution_count": 11,
   "metadata": {
    "scrolled": false
   },
   "outputs": [
    {
     "name": "stdout",
     "output_type": "stream",
     "text": [
      "Tabla del 1\n",
      "------------\n",
      "1 x  1 =  1\n",
      "1 x  2 =  2\n",
      "1 x  3 =  3\n",
      "1 x  4 =  4\n",
      "1 x  5 =  5\n",
      "1 x  6 =  6\n",
      "1 x  7 =  7\n",
      "1 x  8 =  8\n",
      "1 x  9 =  9\n",
      "1 x 10 = 10\n",
      "\n",
      "Tabla del 2\n",
      "------------\n",
      "2 x  1 =  2\n",
      "2 x  2 =  4\n",
      "2 x  3 =  6\n",
      "2 x  4 =  8\n",
      "2 x  5 = 10\n",
      "2 x  6 = 12\n",
      "2 x  7 = 14\n",
      "2 x  8 = 16\n",
      "2 x  9 = 18\n",
      "2 x 10 = 20\n",
      "\n",
      "Tabla del 3\n",
      "------------\n",
      "3 x  1 =  3\n",
      "3 x  2 =  6\n",
      "3 x  3 =  9\n",
      "3 x  4 = 12\n",
      "3 x  5 = 15\n",
      "3 x  6 = 18\n",
      "3 x  7 = 21\n",
      "3 x  8 = 24\n",
      "3 x  9 = 27\n",
      "3 x 10 = 30\n",
      "\n",
      "Tabla del 4\n",
      "------------\n",
      "4 x  1 =  4\n",
      "4 x  2 =  8\n",
      "4 x  3 = 12\n",
      "4 x  4 = 16\n",
      "4 x  5 = 20\n",
      "4 x  6 = 24\n",
      "4 x  7 = 28\n",
      "4 x  8 = 32\n",
      "4 x  9 = 36\n",
      "4 x 10 = 40\n",
      "\n",
      "Tabla del 5\n",
      "------------\n",
      "5 x  1 =  5\n",
      "5 x  2 = 10\n",
      "5 x  3 = 15\n",
      "5 x  4 = 20\n",
      "5 x  5 = 25\n",
      "5 x  6 = 30\n",
      "5 x  7 = 35\n",
      "5 x  8 = 40\n",
      "5 x  9 = 45\n",
      "5 x 10 = 50\n",
      "\n",
      "Tabla del 6\n",
      "------------\n",
      "6 x  1 =  6\n",
      "6 x  2 = 12\n",
      "6 x  3 = 18\n",
      "6 x  4 = 24\n",
      "6 x  5 = 30\n",
      "6 x  6 = 36\n",
      "6 x  7 = 42\n",
      "6 x  8 = 48\n",
      "6 x  9 = 54\n",
      "6 x 10 = 60\n",
      "\n",
      "Tabla del 7\n",
      "------------\n",
      "7 x  1 =  7\n",
      "7 x  2 = 14\n",
      "7 x  3 = 21\n",
      "7 x  4 = 28\n",
      "7 x  5 = 35\n",
      "7 x  6 = 42\n",
      "7 x  7 = 49\n",
      "7 x  8 = 56\n",
      "7 x  9 = 63\n",
      "7 x 10 = 70\n",
      "\n",
      "Tabla del 8\n",
      "------------\n",
      "8 x  1 =  8\n",
      "8 x  2 = 16\n",
      "8 x  3 = 24\n",
      "8 x  4 = 32\n",
      "8 x  5 = 40\n",
      "8 x  6 = 48\n",
      "8 x  7 = 56\n",
      "8 x  8 = 64\n",
      "8 x  9 = 72\n",
      "8 x 10 = 80\n",
      "\n",
      "Tabla del 9\n",
      "------------\n",
      "9 x  1 =  9\n",
      "9 x  2 = 18\n",
      "9 x  3 = 27\n",
      "9 x  4 = 36\n",
      "9 x  5 = 45\n",
      "9 x  6 = 54\n",
      "9 x  7 = 63\n",
      "9 x  8 = 72\n",
      "9 x  9 = 81\n",
      "9 x 10 = 90\n",
      "\n",
      "Tabla del 10\n",
      "------------\n",
      "10 x  1 = 10\n",
      "10 x  2 = 20\n",
      "10 x  3 = 30\n",
      "10 x  4 = 40\n",
      "10 x  5 = 50\n",
      "10 x  6 = 60\n",
      "10 x  7 = 70\n",
      "10 x  8 = 80\n",
      "10 x  9 = 90\n",
      "10 x 10 = 100\n",
      "\n"
     ]
    }
   ],
   "source": [
    "for a in range(1,10+1):\n",
    "    print(f'Tabla del {a}\\n------------')\n",
    "    for b in range(1,10+1):\n",
    "        print(f'{a} x {b:2} = {a*b:2}')\n",
    "    print()"
   ]
  },
  {
   "cell_type": "markdown",
   "metadata": {},
   "source": [
    "**4)** Utiliza un bucle for para encontrar todos los divisores propios de un número."
   ]
  },
  {
   "cell_type": "code",
   "execution_count": 12,
   "metadata": {},
   "outputs": [],
   "source": [
    "# para probarlo con varios números puedes definir una función \n",
    "# que solo haga print y no tenga return\n",
    "\n",
    "\n",
    "def divis(n):\n",
    "    for k in range(2,n):\n",
    "        if n % k == 0:\n",
    "            print(k)\n",
    "\n",
    "# pero lo mejor sería definir una función que devuelva\n",
    "# los divisores en una lista usando return, como hemos visto en clase."
   ]
  },
  {
   "cell_type": "code",
   "execution_count": 13,
   "metadata": {},
   "outputs": [
    {
     "name": "stdout",
     "output_type": "stream",
     "text": [
      "2\n",
      "3\n",
      "4\n",
      "6\n"
     ]
    }
   ],
   "source": [
    "divis(12)"
   ]
  },
  {
   "cell_type": "code",
   "execution_count": 14,
   "metadata": {},
   "outputs": [],
   "source": [
    "divis(13)"
   ]
  },
  {
   "cell_type": "code",
   "execution_count": 15,
   "metadata": {},
   "outputs": [
    {
     "name": "stdout",
     "output_type": "stream",
     "text": [
      "2\n",
      "4\n",
      "17\n",
      "34\n"
     ]
    }
   ],
   "source": [
    "divis(68)"
   ]
  },
  {
   "cell_type": "markdown",
   "metadata": {},
   "source": [
    "**5)** Resuelve con el método de Newton la ecuación\n",
    "\n",
    "$$ M = x - \\varepsilon \\sin(x)$$\n",
    "\n",
    "para $M=\\frac{3}{4}\\pi$ ,  $\\varepsilon=0.8$, partiendo de $x_0=1.5$."
   ]
  },
  {
   "cell_type": "code",
   "execution_count": 16,
   "metadata": {},
   "outputs": [
    {
     "name": "stdout",
     "output_type": "stream",
     "text": [
      "k    x\n",
      "-------------------\n",
      "0    1.5\n",
      "1    3.2534158647832037\n",
      "2    2.70383829778897\n",
      "3    2.6988987941739078\n",
      "4    2.6988963844580747\n",
      "5    2.6988963844574974\n",
      "6    2.6988963844574974\n",
      "\n",
      "La solución es aproximadamente: 2.6988963844574974\n"
     ]
    }
   ],
   "source": [
    "# actualizando una única variable \n",
    "\n",
    "import numpy as np\n",
    "\n",
    "def f(x):\n",
    "    return x - e*np.sin(x) - M\n",
    "    \n",
    "def fp(x):\n",
    "    return 1 - e*np.cos(x)\n",
    "\n",
    "M = 3*np.pi/4\n",
    "e = 0.8\n",
    "\n",
    "\n",
    "x = 1.5\n",
    "\n",
    "print('k    x\\n-------------------')\n",
    "for k in range(7):\n",
    "    print(k,'  ', x)\n",
    "    x = x - f( x ) / fp( x )\n",
    "    \n",
    "\n",
    "print('\\nLa solución es aproximadamente:',x)\n",
    "#print(f(x))\n"
   ]
  },
  {
   "cell_type": "code",
   "execution_count": 17,
   "metadata": {},
   "outputs": [
    {
     "name": "stdout",
     "output_type": "stream",
     "text": [
      "[1.5        3.25341586 2.7038383  2.69889879 2.69889638 2.69889638\n",
      " 2.69889638 2.69889638 2.69889638 2.69889638]\n",
      "La solución es: 2.6988963844574974\n"
     ]
    }
   ],
   "source": [
    "# construyendo la secuencia de aproximaciones\n",
    "\n",
    "import numpy as np\n",
    "\n",
    "M = 3*np.pi/4\n",
    "e = 0.8\n",
    "\n",
    "def f(x):\n",
    "    return x - e*np.sin(x) - M\n",
    "    \n",
    "def fp(x):\n",
    "    return 1 - e*np.cos(x)\n",
    "\n",
    "n = 10\n",
    "# creamos espacio para guardar las aproximaciones\n",
    "X = np.zeros(n)\n",
    "\n",
    "X[0] = 1.5\n",
    "\n",
    "for k in range(n-1):\n",
    "    X[k+1] = X[k] - f( X[k] ) / fp( X[k] )\n",
    "\n",
    "print(X)\n",
    "\n",
    "print('La solución es:',X[n-1])"
   ]
  },
  {
   "cell_type": "code",
   "execution_count": 18,
   "metadata": {},
   "outputs": [
    {
     "name": "stdout",
     "output_type": "stream",
     "text": [
      "1.5\n",
      "3.2534158647831974\n",
      "2.7038382977889768\n",
      "2.698898794173908\n",
      "2.6988963844580747\n",
      "La solución es: 2.6988963844574974\n"
     ]
    }
   ],
   "source": [
    "# calculando la derivada automáticamente con numdifftools\n",
    "# y terminando anticipadamente la iteración cuando deja de progresar\n",
    "\n",
    "import numpy as np\n",
    "import numdifftools as nd\n",
    "\n",
    "def f(x):\n",
    "    return x - e*np.sin(x) - M\n",
    "    \n",
    "fp = nd.Derivative(f)\n",
    "\n",
    "M = 3*np.pi/4\n",
    "e = 0.8\n",
    "\n",
    "\n",
    "n = 10\n",
    "X = np.zeros(n)\n",
    "\n",
    "X[0] = 1.5\n",
    "\n",
    "for k in range(n-1):\n",
    "    X[k+1] = X[k] - f( X[k] ) / fp( X[k] )\n",
    "    print(X[k])\n",
    "    if abs(X[k+1] - X[k]) < 1e-6:\n",
    "        sol = X[k+1]\n",
    "        break\n",
    "\n",
    "print('La solución es:',sol)"
   ]
  },
  {
   "cell_type": "markdown",
   "metadata": {},
   "source": [
    "**6)** Genera unas cuantas **tripletas pitagóricas** de números naturales $(a,b,c)$ tales que $a^2+b^2=c^2$."
   ]
  },
  {
   "cell_type": "code",
   "execution_count": 19,
   "metadata": {},
   "outputs": [
    {
     "name": "stdout",
     "output_type": "stream",
     "text": [
      "(3, 4, 5)\n",
      "(5, 12, 13)\n",
      "(6, 8, 10)\n",
      "(7, 24, 25)\n",
      "(8, 15, 17)\n",
      "(9, 12, 15)\n",
      "(9, 40, 41)\n",
      "(10, 24, 26)\n",
      "(12, 16, 20)\n",
      "(12, 35, 37)\n",
      "(15, 20, 25)\n",
      "(15, 36, 39)\n",
      "(16, 30, 34)\n",
      "(18, 24, 30)\n",
      "(20, 21, 29)\n",
      "(21, 28, 35)\n",
      "(24, 32, 40)\n",
      "(27, 36, 45)\n"
     ]
    }
   ],
   "source": [
    "# buscando por fuerza bruta\n",
    "\n",
    "MAX = 50\n",
    "\n",
    "for a in range(1,MAX):\n",
    "    for b in range (1,MAX):\n",
    "        for c in range (1,MAX):\n",
    "            if a<b and a**2 + b**2 ==c**2:\n",
    "                print((a,b,c))"
   ]
  },
  {
   "cell_type": "code",
   "execution_count": 20,
   "metadata": {},
   "outputs": [
    {
     "name": "stdout",
     "output_type": "stream",
     "text": [
      "(3, 4, 5)\n",
      "(5, 12, 13)\n",
      "(6, 8, 10)\n",
      "(7, 24, 25)\n",
      "(8, 15, 17)\n",
      "(9, 12, 15)\n",
      "(9, 40, 41)\n",
      "(10, 24, 26)\n",
      "(12, 16, 20)\n",
      "(12, 35, 37)\n",
      "(15, 20, 25)\n",
      "(15, 36, 39)\n",
      "(16, 30, 34)\n",
      "(18, 24, 30)\n",
      "(20, 21, 29)\n",
      "(21, 28, 35)\n",
      "(24, 32, 40)\n",
      "(27, 36, 45)\n"
     ]
    }
   ],
   "source": [
    "# fuerza bruta pero probando menos casos\n",
    "\n",
    "MAX = 50\n",
    "\n",
    "for a in range(1,MAX):\n",
    "    for b in range (a+1,MAX):\n",
    "        for c in range (b+1,MAX):\n",
    "            if a**2 + b**2 == c**2:\n",
    "                print((a,b,c))"
   ]
  },
  {
   "cell_type": "code",
   "execution_count": 21,
   "metadata": {},
   "outputs": [
    {
     "name": "stdout",
     "output_type": "stream",
     "text": [
      "(3, 4, 5)\n",
      "(5, 12, 13)\n",
      "(6, 8, 10)\n",
      "(7, 24, 25)\n",
      "(8, 15, 17)\n",
      "(9, 12, 15)\n",
      "(9, 40, 41)\n",
      "(10, 24, 26)\n",
      "(12, 16, 20)\n",
      "(12, 35, 37)\n",
      "(14, 48, 50)\n",
      "(15, 20, 25)\n",
      "(15, 36, 39)\n",
      "(16, 30, 34)\n",
      "(18, 24, 30)\n",
      "(20, 21, 29)\n",
      "(20, 48, 52)\n",
      "(21, 28, 35)\n",
      "(24, 32, 40)\n",
      "(24, 45, 51)\n",
      "(27, 36, 45)\n",
      "(28, 45, 53)\n",
      "(30, 40, 50)\n",
      "(33, 44, 55)\n",
      "(36, 48, 60)\n",
      "(40, 42, 58)\n"
     ]
    }
   ],
   "source": [
    "# fuerza menos bruta, formando un c que es el entero más parecido a la raíz de a^+b^2\n",
    "\n",
    "MAX = 50\n",
    "\n",
    "for a in range(1,MAX):\n",
    "    for b in range (a+1,MAX):\n",
    "        c2 = a**2 + b**2\n",
    "        c = int(round(np.sqrt(c2)))\n",
    "        if c2 == c**2:\n",
    "            print((a,b,c))"
   ]
  }
 ],
 "metadata": {
  "hide_input": false,
  "kernelspec": {
   "display_name": "Python 3",
   "language": "python",
   "name": "python3"
  },
  "language_info": {
   "codemirror_mode": {
    "name": "ipython",
    "version": 3
   },
   "file_extension": ".py",
   "mimetype": "text/x-python",
   "name": "python",
   "nbconvert_exporter": "python",
   "pygments_lexer": "ipython3",
   "version": "3.6.4"
  },
  "varInspector": {
   "cols": {
    "lenName": 16,
    "lenType": 16,
    "lenVar": 40
   },
   "kernels_config": {
    "python": {
     "delete_cmd_postfix": "",
     "delete_cmd_prefix": "del ",
     "library": "var_list.py",
     "varRefreshCmd": "print(var_dic_list())"
    },
    "r": {
     "delete_cmd_postfix": ") ",
     "delete_cmd_prefix": "rm(",
     "library": "var_list.r",
     "varRefreshCmd": "cat(var_dic_list()) "
    }
   },
   "types_to_exclude": [
    "module",
    "function",
    "builtin_function_or_method",
    "instance",
    "_Feature"
   ],
   "window_display": false
  }
 },
 "nbformat": 4,
 "nbformat_minor": 2
}
