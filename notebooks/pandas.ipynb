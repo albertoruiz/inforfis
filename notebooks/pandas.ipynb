{
 "cells": [
  {
   "cell_type": "markdown",
   "metadata": {},
   "source": [
    "Informática - 1º de Física - UMU\n",
    "<br>\n",
    "**Computación Científica**\n",
    "<br>\n",
    "<p style=\"color:#808080\"> <small><small>\n",
    "28/11/2018\n",
    "</small></small></p>"
   ]
  },
  {
   "cell_type": "markdown",
   "metadata": {},
   "source": [
    "## Análisis de datos"
   ]
  },
  {
   "cell_type": "markdown",
   "metadata": {},
   "source": [
    "En este capítulo mostraremos varios ejemplos de manipulación de datos usando `numpy` y `pandas`. No es necesario aprender nada de memoria. Lo importante es entender el tipo de procesos que podemos hacer usando estas herramientas y tener a mano una colección de ejemplos típicos para adaptarlos a nuestras necesidades."
   ]
  },
  {
   "cell_type": "markdown",
   "metadata": {},
   "source": [
    "### Módulos necesarios"
   ]
  },
  {
   "cell_type": "code",
   "execution_count": 1,
   "metadata": {},
   "outputs": [],
   "source": [
    "import numpy as np\n",
    "import pandas as pd\n",
    "import matplotlib.pyplot as plt\n",
    "%matplotlib inline"
   ]
  },
  {
   "cell_type": "markdown",
   "metadata": {},
   "source": [
    "### Números pseudoaleatorios y estadística elemental"
   ]
  },
  {
   "cell_type": "markdown",
   "metadata": {},
   "source": [
    "Simulamos el lanzamiendo de 1000 dados. Queremos comprobar que los 6 resultados son igualmente probables."
   ]
  },
  {
   "cell_type": "code",
   "execution_count": 2,
   "metadata": {},
   "outputs": [],
   "source": [
    "dados = np.random.randint(1,6+1,1000)"
   ]
  },
  {
   "cell_type": "code",
   "execution_count": 3,
   "metadata": {},
   "outputs": [
    {
     "data": {
      "text/plain": [
       "array([4, 3, 6, 1, 1, 1, 2, 3, 4, 2, 6, 4, 4, 5, 1, 6, 2, 3, 6, 5, 1, 3,\n",
       "       3, 2, 2, 6, 5, 5, 6, 1, 2, 1, 6, 4, 3, 2, 3, 6, 2, 4, 2, 1, 6, 2,\n",
       "       3, 1, 6, 3, 2, 4, 4, 4, 5, 5, 3, 6, 5, 5, 6, 6, 2, 6, 5, 5, 6, 6,\n",
       "       5, 5, 5, 5, 3, 6, 1, 3, 3, 1, 1, 5, 4, 3, 2, 4, 1, 3, 4, 1, 2, 3,\n",
       "       6, 1, 4, 6, 2, 4, 4, 6, 6, 5, 4, 1, 3, 6, 5, 3, 1, 2, 5, 2, 3, 6,\n",
       "       6, 1, 4, 1, 1, 4, 2, 3, 6, 6, 1, 2, 6, 6, 3, 5, 4, 3, 6, 3, 5, 1,\n",
       "       5, 6, 2, 3, 4, 6, 4, 4, 1, 6, 5, 1, 1, 6, 3, 4, 6, 6, 2, 6, 5, 4,\n",
       "       6, 6, 5, 6, 4, 2, 1, 6, 5, 5, 6, 3, 5, 3, 3, 4, 3, 4, 1, 2, 1, 2,\n",
       "       6, 6, 3, 4, 4, 6, 3, 3, 3, 3, 1, 3, 6, 5, 1, 2, 3, 6, 2, 2, 5, 5,\n",
       "       3, 4, 3, 2, 2, 5, 1, 1, 5, 6, 2, 3, 2, 1, 3, 6, 6, 2, 1, 1, 1, 1,\n",
       "       3, 5, 2, 1, 3, 5, 4, 5, 4, 2, 3, 3, 4, 5, 6, 1, 4, 1, 6, 4, 5, 1,\n",
       "       3, 4, 5, 2, 3, 1, 3, 5, 4, 6, 3, 1, 2, 3, 2, 1, 1, 3, 3, 1, 2, 1,\n",
       "       6, 1, 3, 3, 1, 4, 5, 1, 1, 1, 3, 1, 4, 4, 3, 5, 3, 1, 1, 3, 6, 6,\n",
       "       2, 4, 1, 1, 2, 3, 4, 2, 2, 6, 2, 4, 5, 5, 4, 3, 2, 5, 3, 4, 3, 6,\n",
       "       5, 5, 1, 2, 6, 3, 6, 5, 4, 4, 5, 4, 1, 5, 6, 5, 6, 3, 5, 5, 6, 4,\n",
       "       1, 1, 2, 3, 2, 4, 6, 5, 3, 5, 1, 4, 2, 6, 3, 3, 4, 4, 2, 6, 3, 2,\n",
       "       4, 6, 4, 1, 5, 3, 4, 3, 6, 6, 2, 1, 6, 6, 6, 2, 2, 3, 5, 1, 4, 2,\n",
       "       5, 1, 4, 6, 2, 3, 6, 1, 6, 3, 2, 5, 3, 5, 6, 6, 1, 1, 5, 4, 3, 6,\n",
       "       6, 2, 2, 2, 4, 5, 6, 4, 6, 2, 2, 2, 1, 3, 2, 1, 2, 5, 2, 6, 1, 5,\n",
       "       6, 2, 4, 4, 5, 4, 6, 5, 2, 3, 1, 1, 3, 4, 5, 5, 5, 4, 2, 3, 6, 6,\n",
       "       3, 6, 6, 4, 6, 6, 3, 2, 5, 6, 3, 2, 4, 4, 4, 3, 3, 2, 5, 4, 6, 1,\n",
       "       2, 5, 3, 3, 6, 1, 5, 4, 6, 6, 3, 5, 2, 4, 2, 1, 2, 5, 4, 4, 1, 2,\n",
       "       6, 5, 5, 4, 3, 1, 2, 3, 1, 3, 3, 4, 5, 6, 1, 5, 6, 3, 6, 1, 2, 4,\n",
       "       6, 6, 3, 1, 1, 6, 5, 5, 4, 2, 6, 6, 6, 5, 5, 4, 1, 6, 5, 6, 3, 5,\n",
       "       5, 6, 3, 6, 5, 6, 2, 4, 4, 6, 5, 3, 1, 3, 3, 5, 4, 2, 6, 5, 1, 3,\n",
       "       6, 1, 1, 2, 6, 1, 1, 6, 6, 5, 2, 5, 2, 3, 1, 4, 6, 6, 4, 3, 4, 3,\n",
       "       4, 3, 4, 1, 1, 1, 6, 5, 2, 2, 1, 3, 5, 5, 4, 4, 1, 4, 2, 3, 3, 1,\n",
       "       4, 1, 6, 6, 1, 5, 3, 4, 6, 3, 5, 2, 1, 5, 4, 1, 1, 6, 6, 2, 2, 5,\n",
       "       2, 2, 1, 1, 2, 4, 4, 6, 2, 3, 1, 3, 1, 1, 2, 1, 5, 1, 4, 2, 2, 3,\n",
       "       5, 4, 6, 4, 5, 2, 2, 1, 5, 5, 3, 2, 3, 2, 2, 4, 2, 5, 6, 1, 2, 4,\n",
       "       3, 1, 1, 1, 2, 1, 6, 1, 1, 4, 4, 5, 2, 4, 6, 5, 4, 4, 1, 2, 5, 5,\n",
       "       1, 5, 4, 5, 3, 4, 1, 6, 5, 5, 2, 3, 2, 4, 3, 2, 4, 2, 5, 1, 2, 5,\n",
       "       3, 3, 1, 4, 3, 6, 3, 5, 4, 2, 1, 4, 5, 6, 5, 4, 5, 4, 5, 4, 4, 2,\n",
       "       1, 1, 1, 2, 4, 2, 5, 1, 1, 6, 4, 2, 5, 5, 3, 6, 6, 2, 2, 6, 6, 4,\n",
       "       4, 4, 1, 4, 5, 5, 6, 2, 1, 2, 4, 3, 6, 4, 3, 5, 5, 1, 1, 1, 1, 2,\n",
       "       5, 4, 3, 2, 1, 4, 2, 6, 3, 2, 1, 6, 1, 1, 4, 5, 2, 2, 2, 1, 1, 4,\n",
       "       2, 3, 4, 4, 2, 2, 2, 6, 6, 4, 6, 5, 2, 5, 5, 2, 4, 4, 5, 1, 5, 2,\n",
       "       3, 6, 5, 6, 1, 5, 6, 1, 6, 5, 2, 2, 2, 6, 1, 6, 6, 6, 2, 5, 6, 5,\n",
       "       1, 1, 6, 1, 2, 2, 3, 1, 2, 3, 1, 1, 2, 4, 5, 4, 1, 1, 5, 1, 5, 3,\n",
       "       5, 6, 2, 5, 3, 6, 6, 2, 3, 3, 1, 6, 2, 3, 1, 6, 6, 2, 1, 1, 2, 5,\n",
       "       1, 5, 1, 2, 5, 6, 1, 6, 4, 2, 4, 4, 6, 1, 6, 1, 5, 1, 1, 4, 6, 3,\n",
       "       1, 6, 4, 3, 2, 2, 1, 1, 3, 4, 4, 2, 5, 1, 2, 5, 2, 1, 4, 6, 6, 3,\n",
       "       2, 1, 1, 2, 1, 6, 2, 1, 1, 2, 1, 2, 5, 5, 5, 5, 4, 1, 5, 1, 6, 2,\n",
       "       4, 5, 3, 5, 3, 4, 1, 6, 3, 6, 6, 5, 1, 2, 6, 1, 6, 6, 5, 6, 2, 2,\n",
       "       4, 4, 2, 5, 4, 3, 1, 3, 5, 2, 4, 3, 4, 1, 4, 3, 3, 1, 2, 2, 4, 2,\n",
       "       1, 1, 1, 1, 6, 5, 3, 2, 2, 4])"
      ]
     },
     "execution_count": 3,
     "metadata": {},
     "output_type": "execute_result"
    }
   ],
   "source": [
    "dados"
   ]
  },
  {
   "cell_type": "markdown",
   "metadata": {},
   "source": [
    "El histograma de resultados debe mostrar una distribución aproximadamente uniforme."
   ]
  },
  {
   "cell_type": "code",
   "execution_count": 4,
   "metadata": {},
   "outputs": [
    {
     "data": {
      "text/plain": [
       "(array([188.,   0., 171.,   0., 148.,   0., 155.,   0., 161., 177.]),\n",
       " array([1. , 1.5, 2. , 2.5, 3. , 3.5, 4. , 4.5, 5. , 5.5, 6. ]),\n",
       " <a list of 10 Patch objects>)"
      ]
     },
     "execution_count": 4,
     "metadata": {},
     "output_type": "execute_result"
    },
    {
     "data": {
      "image/png": "[encoded data removed]",
      "text/plain": [
       "<Figure size 432x288 with 1 Axes>"
      ]
     },
     "metadata": {
      "needs_background": "light"
     },
     "output_type": "display_data"
    }
   ],
   "source": [
    "plt.hist(dados)"
   ]
  },
  {
   "cell_type": "markdown",
   "metadata": {},
   "source": [
    "Las opciones por omisión no son adecuadas para este problema, quedan cajas vacías. Normalmente es conveniente especificar los extremos de las cajas (\"bins\"), para que el histograma quede mejor:"
   ]
  },
  {
   "cell_type": "code",
   "execution_count": 5,
   "metadata": {},
   "outputs": [
    {
     "data": {
      "image/png": "[encoded data removed]",
      "text/plain": [
       "<Figure size 432x288 with 1 Axes>"
      ]
     },
     "metadata": {
      "needs_background": "light"
     },
     "output_type": "display_data"
    }
   ],
   "source": [
    "plt.hist(dados,bins=np.arange(0.5,7),edgecolor='black');"
   ]
  },
  {
   "cell_type": "markdown",
   "metadata": {},
   "source": [
    "Simulemos ahora 100 lanzamientos de 3 dados. Para ello generamos una matriz $100 \\times 3$  de enteros pseudoaleatorios entre 1 y 6."
   ]
  },
  {
   "cell_type": "code",
   "execution_count": 6,
   "metadata": {},
   "outputs": [
    {
     "data": {
      "text/plain": [
       "array([[5, 4, 6],\n",
       "       [3, 3, 6],\n",
       "       [2, 2, 1],\n",
       "       [2, 3, 6],\n",
       "       [5, 2, 4],\n",
       "       [1, 4, 2],\n",
       "       [1, 1, 2],\n",
       "       [1, 4, 2],\n",
       "       [3, 4, 6],\n",
       "       [4, 3, 3]])"
      ]
     },
     "execution_count": 6,
     "metadata": {},
     "output_type": "execute_result"
    }
   ],
   "source": [
    "dados = np.random.randint(1,6+1,(100,3))\n",
    "dados[:10]"
   ]
  },
  {
   "cell_type": "markdown",
   "metadata": {},
   "source": [
    "Para calcular la puntuación total en cada tirada sumamos los elementos de la matriz a lo largo de las filas:"
   ]
  },
  {
   "cell_type": "code",
   "execution_count": 7,
   "metadata": {},
   "outputs": [
    {
     "data": {
      "text/plain": [
       "array([15, 12,  5, 11, 11,  7,  4,  7, 13, 10, 10, 11, 14,  5,  7, 12,  9,\n",
       "        6,  6,  9,  9, 13, 10,  7,  9,  6,  6,  9,  6, 13, 12, 10, 13, 11,\n",
       "       11, 10, 10,  9,  8,  7,  9, 11,  6,  9, 18,  7,  5, 13, 16,  9, 13,\n",
       "        9, 15, 12,  9, 14,  5,  8, 10, 13,  5, 12,  5, 15, 12, 10, 14, 11,\n",
       "       13,  6, 14,  9,  9, 13,  6, 10,  4, 13, 11, 12, 15, 10,  8,  5, 11,\n",
       "       12,  7,  5,  9, 12,  7, 11, 13, 13, 12, 11,  7, 17, 11, 12])"
      ]
     },
     "execution_count": 7,
     "metadata": {},
     "output_type": "execute_result"
    }
   ],
   "source": [
    "s = np.sum(dados,axis=1)\n",
    "s"
   ]
  },
  {
   "cell_type": "markdown",
   "metadata": {},
   "source": [
    "El histograma de resultados ya no es uniforme, empieza a parecerse a una normal."
   ]
  },
  {
   "cell_type": "code",
   "execution_count": 8,
   "metadata": {},
   "outputs": [
    {
     "data": {
      "image/png": "[encoded data removed]",
      "text/plain": [
       "<Figure size 432x288 with 1 Axes>"
      ]
     },
     "metadata": {
      "needs_background": "light"
     },
     "output_type": "display_data"
    }
   ],
   "source": [
    "plt.hist(s,bins=np.arange(2.5,19), edgecolor='black');"
   ]
  },
  {
   "cell_type": "markdown",
   "metadata": {},
   "source": [
    "La distribución acumulada empírica es otra forma de ver el tipo de aleatoriedad de unos datos. Se consigue simplemente ordenando la muestra."
   ]
  },
  {
   "cell_type": "code",
   "execution_count": 9,
   "metadata": {},
   "outputs": [
    {
     "data": {
      "image/png": "[encoded data removed]",
      "text/plain": [
       "<Figure size 432x288 with 1 Axes>"
      ]
     },
     "metadata": {
      "needs_background": "light"
     },
     "output_type": "display_data"
    }
   ],
   "source": [
    "plt.plot(sorted(s),np.arange(len(s))/len(s));"
   ]
  },
  {
   "cell_type": "markdown",
   "metadata": {},
   "source": [
    "Generemos ahora 100 números pseudo-aleatorios normalmente distribuidos con media 2 y desviación típica 3."
   ]
  },
  {
   "cell_type": "code",
   "execution_count": 10,
   "metadata": {},
   "outputs": [
    {
     "data": {
      "image/png": "[encoded data removed]",
      "text/plain": [
       "<Figure size 432x288 with 1 Axes>"
      ]
     },
     "metadata": {
      "needs_background": "light"
     },
     "output_type": "display_data"
    }
   ],
   "source": [
    "r = 2+3*np.random.randn(100)\n",
    "\n",
    "plt.hist(r,10);"
   ]
  },
  {
   "cell_type": "markdown",
   "metadata": {},
   "source": [
    "Podemos compararar el histograma y distribución acumulada empírica de estos datos con la densidad y la distribución acumulada teóricas, que tomamos del módulo `scipy.stats`."
   ]
  },
  {
   "cell_type": "code",
   "execution_count": 11,
   "metadata": {},
   "outputs": [
    {
     "data": {
      "image/png": "[encoded data removed]",
      "text/plain": [
       "<Figure size 864x288 with 2 Axes>"
      ]
     },
     "metadata": {
      "needs_background": "light"
     },
     "output_type": "display_data"
    }
   ],
   "source": [
    "from scipy.stats import norm\n",
    "\n",
    "x = np.linspace(-5,10,100)\n",
    "\n",
    "plt.figure(figsize=(12,4))\n",
    "plt.subplot(1,2,1)\n",
    "plt.hist(r,10,density=True,edgecolor='black');\n",
    "plt.plot(x,norm.pdf(x,2,3));\n",
    "\n",
    "plt.subplot(1,2,2)\n",
    "plt.plot(np.sort(r),np.arange(1,101)/100);\n",
    "plt.plot(x,norm.cdf(x,2,3));"
   ]
  },
  {
   "cell_type": "markdown",
   "metadata": {},
   "source": [
    "`numpy` proporciona varias funciones estadísticas. Se pueden expresar como propiedades del array o como funciones normales. Elige la forma que más te guste:"
   ]
  },
  {
   "cell_type": "code",
   "execution_count": 12,
   "metadata": {},
   "outputs": [
    {
     "data": {
      "text/plain": [
       "2.0481845657756987"
      ]
     },
     "execution_count": 12,
     "metadata": {},
     "output_type": "execute_result"
    }
   ],
   "source": [
    "r.mean()"
   ]
  },
  {
   "cell_type": "code",
   "execution_count": 13,
   "metadata": {
    "scrolled": true
   },
   "outputs": [
    {
     "data": {
      "text/plain": [
       "2.0481845657756987"
      ]
     },
     "execution_count": 13,
     "metadata": {},
     "output_type": "execute_result"
    }
   ],
   "source": [
    "np.mean(r)"
   ]
  },
  {
   "cell_type": "code",
   "execution_count": 14,
   "metadata": {},
   "outputs": [
    {
     "data": {
      "text/plain": [
       "8.573152042696506"
      ]
     },
     "execution_count": 14,
     "metadata": {},
     "output_type": "execute_result"
    }
   ],
   "source": [
    "r.max()"
   ]
  },
  {
   "cell_type": "code",
   "execution_count": 15,
   "metadata": {},
   "outputs": [
    {
     "data": {
      "text/plain": [
       "-4.732006669116478"
      ]
     },
     "execution_count": 15,
     "metadata": {},
     "output_type": "execute_result"
    }
   ],
   "source": [
    "min(r)"
   ]
  },
  {
   "cell_type": "code",
   "execution_count": 16,
   "metadata": {},
   "outputs": [
    {
     "data": {
      "text/plain": [
       "2.828824262402489"
      ]
     },
     "execution_count": 16,
     "metadata": {},
     "output_type": "execute_result"
    }
   ],
   "source": [
    "r.std()"
   ]
  },
  {
   "cell_type": "code",
   "execution_count": 17,
   "metadata": {},
   "outputs": [
    {
     "data": {
      "text/plain": [
       "2.0907160157436735"
      ]
     },
     "execution_count": 17,
     "metadata": {},
     "output_type": "execute_result"
    }
   ],
   "source": [
    "np.median(r)"
   ]
  },
  {
   "cell_type": "markdown",
   "metadata": {},
   "source": [
    "Finalmente, supongamos que queremos saber cómo se transforma una distribución uniforme entre cero y uno con la función $f(x)=x^2$. La densidad de probabilidad resultante se puede obtener de forma analítica, pero también podemos visualizar el resultado fácilmente aplicando la función a una muestra aleatoria."
   ]
  },
  {
   "cell_type": "code",
   "execution_count": 18,
   "metadata": {},
   "outputs": [
    {
     "data": {
      "image/png": "[encoded data removed]",
      "text/plain": [
       "<Figure size 432x288 with 1 Axes>"
      ]
     },
     "metadata": {
      "needs_background": "light"
     },
     "output_type": "display_data"
    }
   ],
   "source": [
    "x = np.random.rand(10000)\n",
    "plt.hist(x,np.linspace(0,1,20));"
   ]
  },
  {
   "cell_type": "code",
   "execution_count": 19,
   "metadata": {},
   "outputs": [
    {
     "data": {
      "image/png": "[encoded data removed]",
      "text/plain": [
       "<Figure size 432x288 with 1 Axes>"
      ]
     },
     "metadata": {
      "needs_background": "light"
     },
     "output_type": "display_data"
    }
   ],
   "source": [
    "y = x**2\n",
    "plt.hist(y, np.linspace(0,1,20));"
   ]
  },
  {
   "cell_type": "markdown",
   "metadata": {},
   "source": [
    "### Lectura desde archivo"
   ]
  },
  {
   "cell_type": "markdown",
   "metadata": {},
   "source": [
    "El módulo `pandas` proporciona el tipo \"dataframe\", muy utilizado en análisis de datos. Permite leer conjuntos de datos almacenados en archivos que pueden estar incluso en una máquina remota."
   ]
  },
  {
   "cell_type": "markdown",
   "metadata": {},
   "source": [
    "El siguiente archivo contiene datos astronómicos tomados de https://ned.ipac.caltech.edu/."
   ]
  },
  {
   "cell_type": "code",
   "execution_count": 20,
   "metadata": {},
   "outputs": [
    {
     "data": {
      "text/html": [
       "<div>\n",
       "<style scoped>\n",
       "    .dataframe tbody tr th:only-of-type {\n",
       "        vertical-align: middle;\n",
       "    }\n",
       "\n",
       "    .dataframe tbody tr th {\n",
       "        vertical-align: top;\n",
       "    }\n",
       "\n",
       "    .dataframe thead th {\n",
       "        text-align: right;\n",
       "    }\n",
       "</style>\n",
       "<table border=\"1\" class=\"dataframe\">\n",
       "  <thead>\n",
       "    <tr style=\"text-align: right;\">\n",
       "      <th></th>\n",
       "      <th>V(km/s)</th>\n",
       "      <th>Redshift</th>\n",
       "      <th>Magnitud</th>\n",
       "    </tr>\n",
       "  </thead>\n",
       "  <tbody>\n",
       "    <tr>\n",
       "      <th>0</th>\n",
       "      <td>18287</td>\n",
       "      <td>0.060998</td>\n",
       "      <td>17.62</td>\n",
       "    </tr>\n",
       "    <tr>\n",
       "      <th>1</th>\n",
       "      <td>5691</td>\n",
       "      <td>0.018983</td>\n",
       "      <td>15.00</td>\n",
       "    </tr>\n",
       "    <tr>\n",
       "      <th>2</th>\n",
       "      <td>26382</td>\n",
       "      <td>0.088000</td>\n",
       "      <td>18.59</td>\n",
       "    </tr>\n",
       "    <tr>\n",
       "      <th>3</th>\n",
       "      <td>5996</td>\n",
       "      <td>0.020000</td>\n",
       "      <td>15.54</td>\n",
       "    </tr>\n",
       "    <tr>\n",
       "      <th>4</th>\n",
       "      <td>19202</td>\n",
       "      <td>0.064051</td>\n",
       "      <td>15.30</td>\n",
       "    </tr>\n",
       "    <tr>\n",
       "      <th>5</th>\n",
       "      <td>23684</td>\n",
       "      <td>0.079000</td>\n",
       "      <td>16.56</td>\n",
       "    </tr>\n",
       "    <tr>\n",
       "      <th>6</th>\n",
       "      <td>11702</td>\n",
       "      <td>0.039034</td>\n",
       "      <td>17.14</td>\n",
       "    </tr>\n",
       "    <tr>\n",
       "      <th>7</th>\n",
       "      <td>17284</td>\n",
       "      <td>0.057653</td>\n",
       "      <td>13.50</td>\n",
       "    </tr>\n",
       "    <tr>\n",
       "      <th>8</th>\n",
       "      <td>13491</td>\n",
       "      <td>0.045000</td>\n",
       "      <td>17.80</td>\n",
       "    </tr>\n",
       "    <tr>\n",
       "      <th>9</th>\n",
       "      <td>10566</td>\n",
       "      <td>0.035244</td>\n",
       "      <td>15.25</td>\n",
       "    </tr>\n",
       "    <tr>\n",
       "      <th>10</th>\n",
       "      <td>14718</td>\n",
       "      <td>0.049094</td>\n",
       "      <td>15.60</td>\n",
       "    </tr>\n",
       "    <tr>\n",
       "      <th>11</th>\n",
       "      <td>13491</td>\n",
       "      <td>0.045000</td>\n",
       "      <td>14.52</td>\n",
       "    </tr>\n",
       "    <tr>\n",
       "      <th>12</th>\n",
       "      <td>16325</td>\n",
       "      <td>0.054453</td>\n",
       "      <td>15.30</td>\n",
       "    </tr>\n",
       "    <tr>\n",
       "      <th>13</th>\n",
       "      <td>20686</td>\n",
       "      <td>0.069000</td>\n",
       "      <td>16.80</td>\n",
       "    </tr>\n",
       "    <tr>\n",
       "      <th>14</th>\n",
       "      <td>1808</td>\n",
       "      <td>0.006031</td>\n",
       "      <td>11.16</td>\n",
       "    </tr>\n",
       "    <tr>\n",
       "      <th>15</th>\n",
       "      <td>7603</td>\n",
       "      <td>0.025361</td>\n",
       "      <td>15.18</td>\n",
       "    </tr>\n",
       "    <tr>\n",
       "      <th>16</th>\n",
       "      <td>1018</td>\n",
       "      <td>0.003395</td>\n",
       "      <td>12.24</td>\n",
       "    </tr>\n",
       "    <tr>\n",
       "      <th>17</th>\n",
       "      <td>321</td>\n",
       "      <td>0.001071</td>\n",
       "      <td>13.00</td>\n",
       "    </tr>\n",
       "    <tr>\n",
       "      <th>18</th>\n",
       "      <td>3106</td>\n",
       "      <td>0.010360</td>\n",
       "      <td>12.49</td>\n",
       "    </tr>\n",
       "    <tr>\n",
       "      <th>19</th>\n",
       "      <td>9426</td>\n",
       "      <td>0.031442</td>\n",
       "      <td>14.53</td>\n",
       "    </tr>\n",
       "    <tr>\n",
       "      <th>20</th>\n",
       "      <td>7464</td>\n",
       "      <td>0.024897</td>\n",
       "      <td>15.21</td>\n",
       "    </tr>\n",
       "    <tr>\n",
       "      <th>21</th>\n",
       "      <td>15143</td>\n",
       "      <td>0.050512</td>\n",
       "      <td>17.40</td>\n",
       "    </tr>\n",
       "    <tr>\n",
       "      <th>22</th>\n",
       "      <td>407</td>\n",
       "      <td>0.001358</td>\n",
       "      <td>10.87</td>\n",
       "    </tr>\n",
       "    <tr>\n",
       "      <th>23</th>\n",
       "      <td>7257</td>\n",
       "      <td>0.024207</td>\n",
       "      <td>14.60</td>\n",
       "    </tr>\n",
       "    <tr>\n",
       "      <th>24</th>\n",
       "      <td>9193</td>\n",
       "      <td>0.030664</td>\n",
       "      <td>15.10</td>\n",
       "    </tr>\n",
       "    <tr>\n",
       "      <th>25</th>\n",
       "      <td>12137</td>\n",
       "      <td>0.040485</td>\n",
       "      <td>14.75</td>\n",
       "    </tr>\n",
       "    <tr>\n",
       "      <th>26</th>\n",
       "      <td>4264</td>\n",
       "      <td>0.014224</td>\n",
       "      <td>14.98</td>\n",
       "    </tr>\n",
       "    <tr>\n",
       "      <th>27</th>\n",
       "      <td>4381</td>\n",
       "      <td>0.014615</td>\n",
       "      <td>14.15</td>\n",
       "    </tr>\n",
       "    <tr>\n",
       "      <th>28</th>\n",
       "      <td>22484</td>\n",
       "      <td>0.075000</td>\n",
       "      <td>17.43</td>\n",
       "    </tr>\n",
       "    <tr>\n",
       "      <th>29</th>\n",
       "      <td>15162</td>\n",
       "      <td>0.050575</td>\n",
       "      <td>16.50</td>\n",
       "    </tr>\n",
       "    <tr>\n",
       "      <th>30</th>\n",
       "      <td>30000</td>\n",
       "      <td>0.101000</td>\n",
       "      <td>18.90</td>\n",
       "    </tr>\n",
       "    <tr>\n",
       "      <th>31</th>\n",
       "      <td>12981</td>\n",
       "      <td>0.043300</td>\n",
       "      <td>15.23</td>\n",
       "    </tr>\n",
       "    <tr>\n",
       "      <th>32</th>\n",
       "      <td>8803</td>\n",
       "      <td>0.029364</td>\n",
       "      <td>14.90</td>\n",
       "    </tr>\n",
       "  </tbody>\n",
       "</table>\n",
       "</div>"
      ],
      "text/plain": [
       "    V(km/s)  Redshift  Magnitud\n",
       "0     18287  0.060998     17.62\n",
       "1      5691  0.018983     15.00\n",
       "2     26382  0.088000     18.59\n",
       "3      5996  0.020000     15.54\n",
       "4     19202  0.064051     15.30\n",
       "5     23684  0.079000     16.56\n",
       "6     11702  0.039034     17.14\n",
       "7     17284  0.057653     13.50\n",
       "8     13491  0.045000     17.80\n",
       "9     10566  0.035244     15.25\n",
       "10    14718  0.049094     15.60\n",
       "11    13491  0.045000     14.52\n",
       "12    16325  0.054453     15.30\n",
       "13    20686  0.069000     16.80\n",
       "14     1808  0.006031     11.16\n",
       "15     7603  0.025361     15.18\n",
       "16     1018  0.003395     12.24\n",
       "17      321  0.001071     13.00\n",
       "18     3106  0.010360     12.49\n",
       "19     9426  0.031442     14.53\n",
       "20     7464  0.024897     15.21\n",
       "21    15143  0.050512     17.40\n",
       "22      407  0.001358     10.87\n",
       "23     7257  0.024207     14.60\n",
       "24     9193  0.030664     15.10\n",
       "25    12137  0.040485     14.75\n",
       "26     4264  0.014224     14.98\n",
       "27     4381  0.014615     14.15\n",
       "28    22484  0.075000     17.43\n",
       "29    15162  0.050575     16.50\n",
       "30    30000  0.101000     18.90\n",
       "31    12981  0.043300     15.23\n",
       "32     8803  0.029364     14.90"
      ]
     },
     "execution_count": 20,
     "metadata": {},
     "output_type": "execute_result"
    }
   ],
   "source": [
    "import pandas as pd\n",
    "\n",
    "df = pd.read_table('https://robot.inf.um.es/material/data/ConstanteHubbleDatos-1.txt', sep='\\s+', comment='#')\n",
    "df"
   ]
  },
  {
   "cell_type": "markdown",
   "metadata": {},
   "source": [
    "Un experimento interesante es ajustar un modelo lineal a un conjunto de observaciones. Definimos una función auxiliar para dibujar cómo queda una recta cualquiera:"
   ]
  },
  {
   "cell_type": "code",
   "execution_count": 21,
   "metadata": {},
   "outputs": [],
   "source": [
    "# extraemos las columnas de las variables que nos interesan\n",
    "x = df.Magnitud.values\n",
    "y = df['V(km/s)'].values\n",
    "n = len(x)\n",
    "\n",
    "# dibuja una recta con coeficientes a,b entre x1 y x2\n",
    "def abline(a,b,x1,x2):\n",
    "    x = np.linspace(x1,x2,10)\n",
    "    plt.plot(x,a*x+b)\n",
    "\n",
    "\n",
    "def fun(a = 1200, b=0):\n",
    "    plt.figure(figsize=(6,6))\n",
    "    plt.plot(x,y,'.',markerSize=10)\n",
    "    plt.grid(); plt.xlabel('Magnitud'); plt.ylabel('velocity'); \n",
    "    plt.title('Redshift data');\n",
    "    abline(a, b, 0,20)\n",
    "    plt.axis([11,20,-10000,40000])"
   ]
  },
  {
   "cell_type": "markdown",
   "metadata": {},
   "source": [
    "Por ejemplo:"
   ]
  },
  {
   "cell_type": "code",
   "execution_count": 22,
   "metadata": {},
   "outputs": [
    {
     "data": {
      "image/png": "[encoded data removed]",
      "text/plain": [
       "<Figure size 432x432 with 1 Axes>"
      ]
     },
     "metadata": {
      "needs_background": "light"
     },
     "output_type": "display_data"
    }
   ],
   "source": [
    "fun(1100,500)"
   ]
  },
  {
   "cell_type": "markdown",
   "metadata": {},
   "source": [
    "Por supuesto, tiene más sentido encontrar automáticamente la \"recta de regresión\", que minimiza el error cuadrático. Lo vamos a hacer con el módulo `scikit-learn`."
   ]
  },
  {
   "cell_type": "code",
   "execution_count": 23,
   "metadata": {},
   "outputs": [
    {
     "name": "stderr",
     "output_type": "stream",
     "text": [
      "/srv/conda/lib/python3.7/site-packages/sklearn/utils/__init__.py:4: DeprecationWarning: Using or importing the ABCs from 'collections' instead of from 'collections.abc' is deprecated, and in 3.8 it will stop working\n",
      "  from collections import Sequence\n"
     ]
    }
   ],
   "source": [
    "# conda install scikit-learn\n",
    "\n",
    "from sklearn import linear_model"
   ]
  },
  {
   "cell_type": "code",
   "execution_count": 24,
   "metadata": {},
   "outputs": [
    {
     "data": {
      "text/plain": [
       "LinearRegression(copy_X=True, fit_intercept=True, n_jobs=1, normalize=False)"
      ]
     },
     "execution_count": 24,
     "metadata": {},
     "output_type": "execute_result"
    }
   ],
   "source": [
    "model = linear_model.LinearRegression()\n",
    "model.fit(x.reshape(n,1),y.reshape(n,1))  # hace falta convertir los vectores en matrices"
   ]
  },
  {
   "cell_type": "code",
   "execution_count": 25,
   "metadata": {},
   "outputs": [
    {
     "data": {
      "text/plain": [
       "array([[3174.16275131]])"
      ]
     },
     "execution_count": 25,
     "metadata": {},
     "output_type": "execute_result"
    }
   ],
   "source": [
    "model.coef_"
   ]
  },
  {
   "cell_type": "code",
   "execution_count": 26,
   "metadata": {},
   "outputs": [
    {
     "data": {
      "text/plain": [
       "array([-36563.1892937])"
      ]
     },
     "execution_count": 26,
     "metadata": {},
     "output_type": "execute_result"
    }
   ],
   "source": [
    "model.intercept_"
   ]
  },
  {
   "cell_type": "code",
   "execution_count": 27,
   "metadata": {},
   "outputs": [
    {
     "data": {
      "image/png": "[encoded data removed]",
      "text/plain": [
       "<Figure size 432x432 with 1 Axes>"
      ]
     },
     "metadata": {
      "needs_background": "light"
     },
     "output_type": "display_data"
    }
   ],
   "source": [
    "fun(model.coef_[0][0], model.intercept_[0])"
   ]
  },
  {
   "cell_type": "markdown",
   "metadata": {},
   "source": [
    "Habría que evaluar la calidad del modelo obtenido sobre muestras independientes para ver si tiene sentido usarlo para predecir casos futuros."
   ]
  },
  {
   "cell_type": "markdown",
   "metadata": {},
   "source": [
    "### Ciudades"
   ]
  },
  {
   "cell_type": "markdown",
   "metadata": {},
   "source": [
    "El módulo pandas puede leer hojas de cálculo de Excel. Como ejemplo vamos a hacer unos cuantos experimentos con las ciudades de España."
   ]
  },
  {
   "cell_type": "code",
   "execution_count": 28,
   "metadata": {
    "scrolled": false
   },
   "outputs": [
    {
     "data": {
      "text/html": [
       "<div>\n",
       "<style scoped>\n",
       "    .dataframe tbody tr th:only-of-type {\n",
       "        vertical-align: middle;\n",
       "    }\n",
       "\n",
       "    .dataframe tbody tr th {\n",
       "        vertical-align: top;\n",
       "    }\n",
       "\n",
       "    .dataframe thead th {\n",
       "        text-align: right;\n",
       "    }\n",
       "</style>\n",
       "<table border=\"1\" class=\"dataframe\">\n",
       "  <thead>\n",
       "    <tr style=\"text-align: right;\">\n",
       "      <th></th>\n",
       "      <th>Comunidad</th>\n",
       "      <th>Provincia</th>\n",
       "      <th>Población</th>\n",
       "      <th>Latitud</th>\n",
       "      <th>Longitud</th>\n",
       "      <th>Altitud</th>\n",
       "      <th>Habitantes</th>\n",
       "      <th>Hombres</th>\n",
       "      <th>Mujeres</th>\n",
       "    </tr>\n",
       "  </thead>\n",
       "  <tbody>\n",
       "    <tr>\n",
       "      <th>0</th>\n",
       "      <td>Andalucía</td>\n",
       "      <td>Almería</td>\n",
       "      <td>Abla</td>\n",
       "      <td>37.14114</td>\n",
       "      <td>-2.780104</td>\n",
       "      <td>871.16840</td>\n",
       "      <td>1504</td>\n",
       "      <td>783</td>\n",
       "      <td>721</td>\n",
       "    </tr>\n",
       "    <tr>\n",
       "      <th>1</th>\n",
       "      <td>Andalucía</td>\n",
       "      <td>Almería</td>\n",
       "      <td>Abrucena</td>\n",
       "      <td>37.13305</td>\n",
       "      <td>-2.797098</td>\n",
       "      <td>976.93870</td>\n",
       "      <td>1341</td>\n",
       "      <td>682</td>\n",
       "      <td>659</td>\n",
       "    </tr>\n",
       "    <tr>\n",
       "      <th>2</th>\n",
       "      <td>Andalucía</td>\n",
       "      <td>Almería</td>\n",
       "      <td>Adra</td>\n",
       "      <td>36.74807</td>\n",
       "      <td>-3.022522</td>\n",
       "      <td>10.97898</td>\n",
       "      <td>24373</td>\n",
       "      <td>12338</td>\n",
       "      <td>12035</td>\n",
       "    </tr>\n",
       "    <tr>\n",
       "      <th>3</th>\n",
       "      <td>Andalucía</td>\n",
       "      <td>Almería</td>\n",
       "      <td>Albánchez</td>\n",
       "      <td>37.28710</td>\n",
       "      <td>-2.181163</td>\n",
       "      <td>481.31230</td>\n",
       "      <td>815</td>\n",
       "      <td>422</td>\n",
       "      <td>393</td>\n",
       "    </tr>\n",
       "    <tr>\n",
       "      <th>4</th>\n",
       "      <td>Andalucía</td>\n",
       "      <td>Almería</td>\n",
       "      <td>Alboloduy</td>\n",
       "      <td>37.03319</td>\n",
       "      <td>-2.621750</td>\n",
       "      <td>388.43460</td>\n",
       "      <td>674</td>\n",
       "      <td>334</td>\n",
       "      <td>340</td>\n",
       "    </tr>\n",
       "  </tbody>\n",
       "</table>\n",
       "</div>"
      ],
      "text/plain": [
       "   Comunidad Provincia  Población   Latitud  Longitud    Altitud  Habitantes  \\\n",
       "0  Andalucía   Almería       Abla  37.14114 -2.780104  871.16840        1504   \n",
       "1  Andalucía   Almería   Abrucena  37.13305 -2.797098  976.93870        1341   \n",
       "2  Andalucía   Almería       Adra  36.74807 -3.022522   10.97898       24373   \n",
       "3  Andalucía   Almería  Albánchez  37.28710 -2.181163  481.31230         815   \n",
       "4  Andalucía   Almería  Alboloduy  37.03319 -2.621750  388.43460         674   \n",
       "\n",
       "   Hombres  Mujeres  \n",
       "0      783      721  \n",
       "1      682      659  \n",
       "2    12338    12035  \n",
       "3      422      393  \n",
       "4      334      340  "
      ]
     },
     "execution_count": 28,
     "metadata": {},
     "output_type": "execute_result"
    }
   ],
   "source": [
    "# conda install xlrd\n",
    "\n",
    "# https://www.businessintelligence.info/varios/longitud-latitud-pueblos-espana.html\n",
    "\n",
    "df = pd.read_excel('https://robot.inf.um.es/material/data/listado-longitud-latitud-municipios-espana.xls',skiprows=2)\n",
    "df.head()"
   ]
  },
  {
   "cell_type": "markdown",
   "metadata": {},
   "source": [
    "Tenemos un \"dataframe\" (tabla de datos) con los más de 8000 municipios. Podemos seleccionar los casos (filas) que cumplan una condición, y los atributos deseados (columnas). Finalmente podemos ordenar por cualquier criterio."
   ]
  },
  {
   "cell_type": "code",
   "execution_count": 29,
   "metadata": {},
   "outputs": [
    {
     "data": {
      "text/html": [
       "<div>\n",
       "<style scoped>\n",
       "    .dataframe tbody tr th:only-of-type {\n",
       "        vertical-align: middle;\n",
       "    }\n",
       "\n",
       "    .dataframe tbody tr th {\n",
       "        vertical-align: top;\n",
       "    }\n",
       "\n",
       "    .dataframe thead th {\n",
       "        text-align: right;\n",
       "    }\n",
       "</style>\n",
       "<table border=\"1\" class=\"dataframe\">\n",
       "  <thead>\n",
       "    <tr style=\"text-align: right;\">\n",
       "      <th></th>\n",
       "      <th>Población</th>\n",
       "      <th>Habitantes</th>\n",
       "    </tr>\n",
       "  </thead>\n",
       "  <tbody>\n",
       "    <tr>\n",
       "      <th>6901</th>\n",
       "      <td>Madrid</td>\n",
       "      <td>3255944</td>\n",
       "    </tr>\n",
       "    <tr>\n",
       "      <th>4956</th>\n",
       "      <td>Barcelona</td>\n",
       "      <td>1621537</td>\n",
       "    </tr>\n",
       "    <tr>\n",
       "      <th>8094</th>\n",
       "      <td>Valencia</td>\n",
       "      <td>814208</td>\n",
       "    </tr>\n",
       "    <tr>\n",
       "      <th>758</th>\n",
       "      <td>Sevilla</td>\n",
       "      <td>703206</td>\n",
       "    </tr>\n",
       "    <tr>\n",
       "      <th>1499</th>\n",
       "      <td>Zaragoza</td>\n",
       "      <td>674317</td>\n",
       "    </tr>\n",
       "    <tr>\n",
       "      <th>631</th>\n",
       "      <td>Málaga</td>\n",
       "      <td>568305</td>\n",
       "    </tr>\n",
       "    <tr>\n",
       "      <th>7032</th>\n",
       "      <td>Murcia</td>\n",
       "      <td>436870</td>\n",
       "    </tr>\n",
       "    <tr>\n",
       "      <th>6624</th>\n",
       "      <td>Palma</td>\n",
       "      <td>401270</td>\n",
       "    </tr>\n",
       "    <tr>\n",
       "      <th>1595</th>\n",
       "      <td>Palmas de Gran Canaria (Las)</td>\n",
       "      <td>381847</td>\n",
       "    </tr>\n",
       "    <tr>\n",
       "      <th>7485</th>\n",
       "      <td>Bilbao</td>\n",
       "      <td>354860</td>\n",
       "    </tr>\n",
       "    <tr>\n",
       "      <th>7583</th>\n",
       "      <td>Alicante/Alacant</td>\n",
       "      <td>334757</td>\n",
       "    </tr>\n",
       "    <tr>\n",
       "      <th>166</th>\n",
       "      <td>Córdoba</td>\n",
       "      <td>328428</td>\n",
       "    </tr>\n",
       "    <tr>\n",
       "      <th>4641</th>\n",
       "      <td>Valladolid</td>\n",
       "      <td>317864</td>\n",
       "    </tr>\n",
       "    <tr>\n",
       "      <th>6577</th>\n",
       "      <td>Vigo</td>\n",
       "      <td>297332</td>\n",
       "    </tr>\n",
       "    <tr>\n",
       "      <th>1524</th>\n",
       "      <td>Gijón</td>\n",
       "      <td>277554</td>\n",
       "    </tr>\n",
       "    <tr>\n",
       "      <th>5040</th>\n",
       "      <td>Hospitalet de Llobregat (L')</td>\n",
       "      <td>257038</td>\n",
       "    </tr>\n",
       "    <tr>\n",
       "      <th>6297</th>\n",
       "      <td>Coruña (A)</td>\n",
       "      <td>246056</td>\n",
       "    </tr>\n",
       "    <tr>\n",
       "      <th>7364</th>\n",
       "      <td>Vitoria-Gasteiz</td>\n",
       "      <td>235661</td>\n",
       "    </tr>\n",
       "    <tr>\n",
       "      <th>295</th>\n",
       "      <td>Granada</td>\n",
       "      <td>234325</td>\n",
       "    </tr>\n",
       "    <tr>\n",
       "      <th>7634</th>\n",
       "      <td>Elche/Elx</td>\n",
       "      <td>230112</td>\n",
       "    </tr>\n",
       "    <tr>\n",
       "      <th>1543</th>\n",
       "      <td>Oviedo</td>\n",
       "      <td>224005</td>\n",
       "    </tr>\n",
       "    <tr>\n",
       "      <th>1651</th>\n",
       "      <td>Santa Cruz de Tenerife</td>\n",
       "      <td>222417</td>\n",
       "    </tr>\n",
       "    <tr>\n",
       "      <th>4950</th>\n",
       "      <td>Badalona</td>\n",
       "      <td>219547</td>\n",
       "    </tr>\n",
       "    <tr>\n",
       "      <th>7018</th>\n",
       "      <td>Cartagena</td>\n",
       "      <td>211996</td>\n",
       "    </tr>\n",
       "    <tr>\n",
       "      <th>5216</th>\n",
       "      <td>Terrassa</td>\n",
       "      <td>210941</td>\n",
       "    </tr>\n",
       "    <tr>\n",
       "      <th>122</th>\n",
       "      <td>Jerez de la Frontera</td>\n",
       "      <td>207532</td>\n",
       "    </tr>\n",
       "    <tr>\n",
       "      <th>5127</th>\n",
       "      <td>Sabadell</td>\n",
       "      <td>206493</td>\n",
       "    </tr>\n",
       "    <tr>\n",
       "      <th>6913</th>\n",
       "      <td>Móstoles</td>\n",
       "      <td>206478</td>\n",
       "    </tr>\n",
       "    <tr>\n",
       "      <th>6827</th>\n",
       "      <td>Alcalá de Henares</td>\n",
       "      <td>204574</td>\n",
       "    </tr>\n",
       "  </tbody>\n",
       "</table>\n",
       "</div>"
      ],
      "text/plain": [
       "                         Población  Habitantes\n",
       "6901                        Madrid     3255944\n",
       "4956                     Barcelona     1621537\n",
       "8094                      Valencia      814208\n",
       "758                        Sevilla      703206\n",
       "1499                      Zaragoza      674317\n",
       "631                         Málaga      568305\n",
       "7032                        Murcia      436870\n",
       "6624                         Palma      401270\n",
       "1595  Palmas de Gran Canaria (Las)      381847\n",
       "7485                        Bilbao      354860\n",
       "7583              Alicante/Alacant      334757\n",
       "166                        Córdoba      328428\n",
       "4641                    Valladolid      317864\n",
       "6577                          Vigo      297332\n",
       "1524                         Gijón      277554\n",
       "5040  Hospitalet de Llobregat (L')      257038\n",
       "6297                    Coruña (A)      246056\n",
       "7364               Vitoria-Gasteiz      235661\n",
       "295                        Granada      234325\n",
       "7634                     Elche/Elx      230112\n",
       "1543                        Oviedo      224005\n",
       "1651        Santa Cruz de Tenerife      222417\n",
       "4950                      Badalona      219547\n",
       "7018                     Cartagena      211996\n",
       "5216                      Terrassa      210941\n",
       "122           Jerez de la Frontera      207532\n",
       "5127                      Sabadell      206493\n",
       "6913                      Móstoles      206478\n",
       "6827             Alcalá de Henares      204574"
      ]
     },
     "execution_count": 29,
     "metadata": {},
     "output_type": "execute_result"
    }
   ],
   "source": [
    "df[df.Habitantes > 200000][['Población','Habitantes']].sort_values(by='Habitantes', ascending=False)"
   ]
  },
  {
   "cell_type": "markdown",
   "metadata": {},
   "source": [
    "Como primer ejemplo vamos a dibujar la posición de las ciudades más grandes."
   ]
  },
  {
   "cell_type": "code",
   "execution_count": 30,
   "metadata": {},
   "outputs": [],
   "source": [
    "sel = df[(df.Habitantes > 250000) & (df.Comunidad != 'Canarias')]\n",
    "\n",
    "x   = sel.Longitud.values\n",
    "y   = sel.Latitud.values\n",
    "pob = sel.Población.values"
   ]
  },
  {
   "cell_type": "code",
   "execution_count": 31,
   "metadata": {},
   "outputs": [
    {
     "data": {
      "image/png": "[encoded data removed]",
      "text/plain": [
       "<Figure size 576x576 with 1 Axes>"
      ]
     },
     "metadata": {
      "needs_background": "light"
     },
     "output_type": "display_data"
    }
   ],
   "source": [
    "plt.figure(figsize=(8,8))\n",
    "plt.plot(x,y,'.',markerSize=15)\n",
    "for k in range(len(pob)):\n",
    "    plt.text(x[k]+0.2,y[k],pob[k],fontsize=10)\n",
    "plt.xlabel('longitud'); plt.ylabel('latitud');"
   ]
  },
  {
   "cell_type": "markdown",
   "metadata": {},
   "source": [
    "Ten en cuenta que las coordenadas esféricas representadas en un plano producen una deformación."
   ]
  },
  {
   "cell_type": "markdown",
   "metadata": {},
   "source": [
    "### Ciudades más alejadas"
   ]
  },
  {
   "cell_type": "markdown",
   "metadata": {},
   "source": [
    "¿Cuál es la pareja de ciudades españolas  más alejadas entre sí, dentro de la península? (Podemos considerar solo las más grandes, con más de 10K habitantes por ejemplo.)"
   ]
  },
  {
   "cell_type": "markdown",
   "metadata": {},
   "source": [
    "Para resolver este problema necesitamos dos cosas:\n",
    "\n",
    "- una función que convierta posiciones GPS en puntos sobre la superficie terrestre (suponemos una esfera y altitud común) para calcular la distancia correctamente.\n",
    "\n",
    "\n",
    "- hacer un bucle doble para calcular las distancias entre todas las parejas de ciudades. "
   ]
  },
  {
   "cell_type": "code",
   "execution_count": 32,
   "metadata": {},
   "outputs": [],
   "source": [
    "import pandas as pd\n",
    "import numpy  as np\n",
    "import matplotlib.pyplot as plt\n",
    "%matplotlib inline"
   ]
  },
  {
   "cell_type": "code",
   "execution_count": 33,
   "metadata": {
    "scrolled": false
   },
   "outputs": [],
   "source": [
    "df = pd.read_excel('https://robot.inf.um.es/material/data/listado-longitud-latitud-municipios-espana.xls',skiprows=2)"
   ]
  },
  {
   "cell_type": "markdown",
   "metadata": {},
   "source": [
    "En primer lugar vamos a crear una función auxiliar para extraer las coordenadas gps de una ciudad dada."
   ]
  },
  {
   "cell_type": "code",
   "execution_count": 34,
   "metadata": {},
   "outputs": [
    {
     "data": {
      "text/html": [
       "<div>\n",
       "<style scoped>\n",
       "    .dataframe tbody tr th:only-of-type {\n",
       "        vertical-align: middle;\n",
       "    }\n",
       "\n",
       "    .dataframe tbody tr th {\n",
       "        vertical-align: top;\n",
       "    }\n",
       "\n",
       "    .dataframe thead th {\n",
       "        text-align: right;\n",
       "    }\n",
       "</style>\n",
       "<table border=\"1\" class=\"dataframe\">\n",
       "  <thead>\n",
       "    <tr style=\"text-align: right;\">\n",
       "      <th></th>\n",
       "      <th>Comunidad</th>\n",
       "      <th>Provincia</th>\n",
       "      <th>Población</th>\n",
       "      <th>Latitud</th>\n",
       "      <th>Longitud</th>\n",
       "      <th>Altitud</th>\n",
       "      <th>Habitantes</th>\n",
       "      <th>Hombres</th>\n",
       "      <th>Mujeres</th>\n",
       "    </tr>\n",
       "  </thead>\n",
       "  <tbody>\n",
       "    <tr>\n",
       "      <th>2651</th>\n",
       "      <td>Castilla La Mancha</td>\n",
       "      <td>Toledo</td>\n",
       "      <td>Toledo</td>\n",
       "      <td>39.85678</td>\n",
       "      <td>-4.024476</td>\n",
       "      <td>524.0618</td>\n",
       "      <td>82291</td>\n",
       "      <td>39497</td>\n",
       "      <td>42794</td>\n",
       "    </tr>\n",
       "  </tbody>\n",
       "</table>\n",
       "</div>"
      ],
      "text/plain": [
       "               Comunidad Provincia Población   Latitud  Longitud   Altitud  \\\n",
       "2651  Castilla La Mancha    Toledo    Toledo  39.85678 -4.024476  524.0618   \n",
       "\n",
       "      Habitantes  Hombres  Mujeres  \n",
       "2651       82291    39497    42794  "
      ]
     },
     "execution_count": 34,
     "metadata": {},
     "output_type": "execute_result"
    }
   ],
   "source": [
    "df[df.Población=='Toledo']"
   ]
  },
  {
   "cell_type": "code",
   "execution_count": 35,
   "metadata": {},
   "outputs": [
    {
     "data": {
      "text/plain": [
       "Latitud     39.856780\n",
       "Longitud    -4.024476\n",
       "Name: 2651, dtype: float64"
      ]
     },
     "execution_count": 35,
     "metadata": {},
     "output_type": "execute_result"
    }
   ],
   "source": [
    "df[df.Población=='Toledo'][['Latitud','Longitud']].iloc[0]"
   ]
  },
  {
   "cell_type": "markdown",
   "metadata": {},
   "source": [
    "Viendo cómo funciona la selección de filas y columnas y tras unas cuantas pruebas, elegimos esa definición:"
   ]
  },
  {
   "cell_type": "code",
   "execution_count": 36,
   "metadata": {},
   "outputs": [
    {
     "data": {
      "text/plain": [
       "array([39.85678 , -4.024476])"
      ]
     },
     "execution_count": 36,
     "metadata": {},
     "output_type": "execute_result"
    }
   ],
   "source": [
    "def gps(ciudad):\n",
    "    return np.array(df[df.Población==ciudad][['Latitud','Longitud']].iloc[0])\n",
    "\n",
    "gps('Toledo')"
   ]
  },
  {
   "cell_type": "markdown",
   "metadata": {},
   "source": [
    "Para calcular la distancia entre dos puntos gps convertimos las coordenadas esféricas a vectores 3D cartesianos y luego vemos el ángulo que forman."
   ]
  },
  {
   "cell_type": "code",
   "execution_count": 37,
   "metadata": {},
   "outputs": [
    {
     "data": {
      "text/plain": [
       "43.737900891002596"
      ]
     },
     "execution_count": 37,
     "metadata": {},
     "output_type": "execute_result"
    }
   ],
   "source": [
    "def tovec(p):\n",
    "    la,lo = np.radians(p)\n",
    "    z = np.sin(la)\n",
    "    x = np.cos(la) * np.cos(lo)\n",
    "    y = np.cos(la) * np.sin(lo)\n",
    "    return np.array([x,y,z])\n",
    "\n",
    "RT = 6371\n",
    "\n",
    "def geodist(p,q):\n",
    "    v1 = tovec(p)\n",
    "    v2 = tovec(q)\n",
    "    x = v1 @ v2\n",
    "    if abs(x) > 1:\n",
    "        return 0\n",
    "    a = np.arccos(x)\n",
    "    return RT*a\n",
    "\n",
    "\n",
    "geodist(gps('Murcia'),gps('Cartagena'))"
   ]
  },
  {
   "cell_type": "markdown",
   "metadata": {},
   "source": [
    "Ya estamos en condiciones de encontrar al máxima distancia. Primero \"filtramos\" las ciudades, quitando las que están fuera de la península o son pequeñas."
   ]
  },
  {
   "cell_type": "code",
   "execution_count": 38,
   "metadata": {},
   "outputs": [
    {
     "name": "stdout",
     "output_type": "stream",
     "text": [
      "684\n"
     ]
    },
    {
     "data": {
      "text/plain": [
       "array([[36.74807 , -3.022522],\n",
       "       [37.38979 , -2.147483],\n",
       "       [36.84016 , -2.467922]])"
      ]
     },
     "execution_count": 38,
     "metadata": {},
     "output_type": "execute_result"
    }
   ],
   "source": [
    "# OJO, hay errores en la hoja excel en las coordenadas gps de algún pueblo pequeño.\n",
    "sel = df[  (df.Comunidad !='Canarias') \n",
    "         & (df.Comunidad != 'Islas Baleares') \n",
    "         & (df.Comunidad != 'Ceuta y Melilla') \n",
    "         & (df.Habitantes>10000)]\n",
    "\n",
    "n = len(sel)\n",
    "print(n)\n",
    "pob = sel.Población.values\n",
    "x   = sel.Latitud.values\n",
    "y   = sel.Longitud.values\n",
    "r = np.array([x,y]).T\n",
    "r[:3]"
   ]
  },
  {
   "cell_type": "markdown",
   "metadata": {},
   "source": [
    "Hemos juntado x e y en una matriz r, de modo que r[k] nos da las coordenadas gps de la ciudad k-esima."
   ]
  },
  {
   "cell_type": "markdown",
   "metadata": {},
   "source": [
    "Creamos una lista de tuplas con todos los pares de ciudades y sus distancias."
   ]
  },
  {
   "cell_type": "code",
   "execution_count": 39,
   "metadata": {},
   "outputs": [],
   "source": [
    "dists = [ (geodist(r[k], r[j]), pob[k], pob[j])\n",
    "            for k in range(n)\n",
    "            for j in range(n)\n",
    "            if k>j ]"
   ]
  },
  {
   "cell_type": "code",
   "execution_count": 40,
   "metadata": {},
   "outputs": [
    {
     "data": {
      "text/plain": [
       "[(105.4462703406395, 'Albox', 'Adra'),\n",
       " (50.43425380598539, 'Almería', 'Adra'),\n",
       " (67.39783913300305, 'Almería', 'Albox'),\n",
       " (12.728193898018514, 'Berja', 'Adra'),\n",
       " (93.30649073678539, 'Berja', 'Albox')]"
      ]
     },
     "execution_count": 40,
     "metadata": {},
     "output_type": "execute_result"
    }
   ],
   "source": [
    "dists[:5]"
   ]
  },
  {
   "cell_type": "markdown",
   "metadata": {},
   "source": [
    "Y finalmente ordenamos la lista de tuplas. La ordenación de objetos que no son simples números se hace atendiendo a su primer elemento."
   ]
  },
  {
   "cell_type": "code",
   "execution_count": 41,
   "metadata": {},
   "outputs": [
    {
     "data": {
      "text/plain": [
       "[(1063.7784881044513, 'Roses', 'Ayamonte'),\n",
       " (1058.6389686120383, 'Roses', 'Isla Cristina'),\n",
       " (1056.2678337034565, \"Castelló d'Empúries\", 'Ayamonte'),\n",
       " (1053.4739176577102, \"Escala (L')\", 'Ayamonte'),\n",
       " (1051.1472929342162, \"Castelló d'Empúries\", 'Isla Cristina'),\n",
       " (1048.839814805908, 'Torroella de Montgrí', 'Ayamonte'),\n",
       " (1048.5680696126924, 'Figueres', 'Ayamonte'),\n",
       " (1048.2701786306231, \"Escala (L')\", 'Isla Cristina'),\n",
       " (1046.3052897444443, 'Roses', 'Lepe'),\n",
       " (1045.2583114569381, 'Palafrugell', 'Ayamonte')]"
      ]
     },
     "execution_count": 41,
     "metadata": {},
     "output_type": "execute_result"
    }
   ],
   "source": [
    "sorted(dists,reverse=True)[:10]"
   ]
  },
  {
   "cell_type": "markdown",
   "metadata": {},
   "source": [
    "Podemos resolver el mismo problema con otra selección de ciudades:"
   ]
  },
  {
   "cell_type": "code",
   "execution_count": 42,
   "metadata": {},
   "outputs": [
    {
     "name": "stdout",
     "output_type": "stream",
     "text": [
      "45\n"
     ]
    }
   ],
   "source": [
    "sel = df[(df.Comunidad =='Murcia')]\n",
    "\n",
    "n = len(sel)\n",
    "print(n)\n",
    "pob = sel.Población.values\n",
    "x   = sel.Latitud.values\n",
    "y   = sel.Longitud.values\n",
    "r = np.array([x,y]).T\n",
    "\n",
    "dists = [ (geodist(r[k], r[j]), pob[k], pob[j])\n",
    "            for k in range(n)\n",
    "            for j in range(n)\n",
    "            if k>j ]"
   ]
  },
  {
   "cell_type": "code",
   "execution_count": 43,
   "metadata": {},
   "outputs": [
    {
     "data": {
      "text/plain": [
       "[(140.6840195901029, 'Yecla', 'Águilas'),\n",
       " (131.83296399495487, 'Yecla', 'Puerto Lumbreras'),\n",
       " (121.36388557483944, 'Jumilla', 'Águilas'),\n",
       " (116.60211355172983, 'Yecla', 'Lorca'),\n",
       " (114.28222686856702, 'Yecla', 'Mazarrón'),\n",
       " (112.9612866825677, 'Yecla', 'Unión (La)'),\n",
       " (112.80740153268972, 'Yecla', 'Cartagena'),\n",
       " (110.23582636524266, 'Puerto Lumbreras', 'Jumilla'),\n",
       " (108.96018538694616, 'Unión (La)', 'Moratalla'),\n",
       " (103.90268003566823, 'San Pedro del Pinatar', 'Moratalla')]"
      ]
     },
     "execution_count": 43,
     "metadata": {},
     "output_type": "execute_result"
    }
   ],
   "source": [
    "sorted(dists,reverse=True)[:10]"
   ]
  },
  {
   "cell_type": "markdown",
   "metadata": {},
   "source": [
    "Nota: es posible calcular una matriz de distancias entre parejas de puntos usando `numpy`, lo que es mucho más eficiente que el bucle doble explícito de Python. Pero no merece la pena complicar el ejercicio."
   ]
  },
  {
   "cell_type": "markdown",
   "metadata": {},
   "source": [
    "### Zipf's law"
   ]
  },
  {
   "cell_type": "markdown",
   "metadata": {},
   "source": [
    "Aprovechando que tenemos el número de habitantes de las ciudades vamos a mostrar su histograma:"
   ]
  },
  {
   "cell_type": "code",
   "execution_count": 44,
   "metadata": {},
   "outputs": [
    {
     "data": {
      "image/png": "[encoded data removed]",
      "text/plain": [
       "<Figure size 864x288 with 1 Axes>"
      ]
     },
     "metadata": {
      "needs_background": "light"
     },
     "output_type": "display_data"
    }
   ],
   "source": [
    "plt.figure(figsize=(12,4))\n",
    "plt.hist(df[(df.Habitantes>100)].Habitantes,log=True,bins=30);"
   ]
  },
  {
   "cell_type": "markdown",
   "metadata": {},
   "source": [
    "Tiene una forma muy característica, completamente distinta de las distribuciones normales (con forma de campana) que se observan en otro tipo de procesos aleatorios. El histograma en escala logarítmica parece que se comporta mejor:"
   ]
  },
  {
   "cell_type": "code",
   "execution_count": 45,
   "metadata": {},
   "outputs": [
    {
     "data": {
      "image/png": "[encoded data removed]",
      "text/plain": [
       "<Figure size 864x288 with 1 Axes>"
      ]
     },
     "metadata": {
      "needs_background": "light"
     },
     "output_type": "display_data"
    }
   ],
   "source": [
    "plt.figure(figsize=(12,4))\n",
    "plt.hist(df[(df.Habitantes>100)].Habitantes,log=True,bins=np.logspace(1, 7, 50));plt.xscale('log');"
   ]
  },
  {
   "cell_type": "markdown",
   "metadata": {},
   "source": [
    "Pero lo que realmente es indicativo es la distribución acumulada empírica:"
   ]
  },
  {
   "cell_type": "code",
   "execution_count": 46,
   "metadata": {},
   "outputs": [
    {
     "data": {
      "text/plain": [
       "(-1000, 10000)"
      ]
     },
     "execution_count": 46,
     "metadata": {},
     "output_type": "execute_result"
    },
    {
     "data": {
      "image/png": "[encoded data removed]",
      "text/plain": [
       "<Figure size 864x288 with 1 Axes>"
      ]
     },
     "metadata": {
      "needs_background": "light"
     },
     "output_type": "display_data"
    }
   ],
   "source": [
    "plt.figure(figsize=(12,4))\n",
    "x = sorted(np.array(df[df.Habitantes>100].Habitantes))\n",
    "k = np.arange(len(x))/len(x)\n",
    "plt.plot(x,k); plt.xlim(-1000,10000)"
   ]
  },
  {
   "cell_type": "markdown",
   "metadata": {},
   "source": [
    "Tiene toda la pinta de ser una distribución \"scale free\" o  \"[power law](https://en.wikipedia.org/wiki/Power_law)\". Si mostramos en escalas logarítmicas el tamaño de cada ciudad frente a su número de orden obtenemos una dependencia esencialmente lineal, cuya pendiente es el parámetro característico de la distribución."
   ]
  },
  {
   "cell_type": "code",
   "execution_count": 47,
   "metadata": {},
   "outputs": [
    {
     "data": {
      "image/png": "[encoded data removed]",
      "text/plain": [
       "<Figure size 1152x648 with 1 Axes>"
      ]
     },
     "metadata": {
      "needs_background": "light"
     },
     "output_type": "display_data"
    }
   ],
   "source": [
    "dfs = df[df.Habitantes>1000].sort_values('Habitantes',ascending=False)\n",
    "\n",
    "names = list(dfs.Población)\n",
    "x = list(dfs.Habitantes)\n",
    "plt.figure(figsize=(16,9))\n",
    "plt.plot(1+np.arange(len(x)), x ,'.-',lw=1,markerSize=5);\n",
    "for k in range(20):\n",
    "    plt.text(1+k,x[k],names[k],rotation=45,horizontalalignment='left',verticalalignment='bottom',fontsize=8)\n",
    "plt.xscale('log'); plt.yscale('log');"
   ]
  },
  {
   "cell_type": "markdown",
   "metadata": {},
   "source": [
    "Lo mismo ocurre en un subconjunto (al menos en un cierto rango de tamaños)."
   ]
  },
  {
   "cell_type": "code",
   "execution_count": 48,
   "metadata": {},
   "outputs": [
    {
     "data": {
      "image/png": "[encoded data removed]",
      "text/plain": [
       "<Figure size 1152x648 with 1 Axes>"
      ]
     },
     "metadata": {
      "needs_background": "light"
     },
     "output_type": "display_data"
    }
   ],
   "source": [
    "dfs = df[df.Comunidad=='Murcia'].sort_values('Habitantes',ascending=False)\n",
    "\n",
    "names = list(dfs.Población)\n",
    "x = list(dfs.Habitantes)\n",
    "plt.figure(figsize=(16,9))\n",
    "plt.plot(1+np.arange(len(x)), x ,'.-',lw=1,markerSize=5);\n",
    "for k in range(len(x)):\n",
    "    plt.text(1+k,x[k],names[k],rotation=45,horizontalalignment='left',verticalalignment='bottom',fontsize=8)\n",
    "plt.xscale('log'); plt.yscale('log');"
   ]
  },
  {
   "cell_type": "markdown",
   "metadata": {},
   "source": [
    "Este tipo de distribución se observa en muchos otros fenómenos. Por ejemplo, en la frecuencia de las palabras de un idioma:"
   ]
  },
  {
   "cell_type": "code",
   "execution_count": 49,
   "metadata": {},
   "outputs": [],
   "source": [
    "#https://en.wiktionary.org/wiki/User:Matthias_Buchmeier/Spanish_frequency_list-1-5000\n",
    "\n",
    "# !wget http://robot.inf.um.es/material/data/palabras.txt"
   ]
  },
  {
   "cell_type": "code",
   "execution_count": 50,
   "metadata": {},
   "outputs": [],
   "source": [
    "data = open('palabras.txt').read().split(' ')\n",
    "freqs = np.array(data[0::2]).astype(float)\n",
    "words = data[1::2]\n",
    "\n",
    "ks = np.arange(1,1+len(freqs))"
   ]
  },
  {
   "cell_type": "code",
   "execution_count": 51,
   "metadata": {},
   "outputs": [
    {
     "data": {
      "image/png": "[encoded data removed]",
      "text/plain": [
       "<Figure size 1152x432 with 1 Axes>"
      ]
     },
     "metadata": {
      "needs_background": "light"
     },
     "output_type": "display_data"
    }
   ],
   "source": [
    "plt.figure(figsize=(16,6))\n",
    "plt.plot(ks,freqs,'.-');\n",
    "for k in range(25):\n",
    "    plt.text(1+k,freqs[k],words[k],rotation=45,horizontalalignment='left',verticalalignment='bottom',fontsize=8)\n",
    "plt.xscale('log'); plt.yscale('log');"
   ]
  }
 ],
 "metadata": {
  "hide_input": false,
  "kernelspec": {
   "display_name": "Python 3",
   "language": "python",
   "name": "python3"
  },
  "language_info": {
   "codemirror_mode": {
    "name": "ipython",
    "version": 3
   },
   "file_extension": ".py",
   "mimetype": "text/x-python",
   "name": "python",
   "nbconvert_exporter": "python",
   "pygments_lexer": "ipython3",
   "version": "3.7.0"
  },
  "varInspector": {
   "cols": {
    "lenName": 16,
    "lenType": 16,
    "lenVar": 40
   },
   "kernels_config": {
    "python": {
     "delete_cmd_postfix": "",
     "delete_cmd_prefix": "del ",
     "library": "var_list.py",
     "varRefreshCmd": "print(var_dic_list())"
    },
    "r": {
     "delete_cmd_postfix": ") ",
     "delete_cmd_prefix": "rm(",
     "library": "var_list.r",
     "varRefreshCmd": "cat(var_dic_list()) "
    }
   },
   "types_to_exclude": [
    "module",
    "function",
    "builtin_function_or_method",
    "instance",
    "_Feature"
   ],
   "window_display": false
  }
 },
 "nbformat": 4,
 "nbformat_minor": 2
}
