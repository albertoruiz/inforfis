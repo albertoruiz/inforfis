{
 "cells": [
  {
   "cell_type": "markdown",
   "metadata": {},
   "source": [
    "# Tarea 6\n",
    "\n",
    "Nombre:  **Nombre Apellido Apellido** \n",
    "\n",
    "Resuelve los siguientes ejercicios, usando únicamente los conceptos explicados en clase hasta ahora."
   ]
  },
  {
   "cell_type": "markdown",
   "metadata": {},
   "source": [
    "1) [Euler demostró](https://en.wikipedia.org/wiki/Basel_problem) que\n",
    "\n",
    "$$\\sum_{k=1}^\\infty \\frac{1}{k^2} = \\frac{\\pi^2}{6} = 1.64493 \\ldots$$\n",
    "\n",
    "Comprueba que las sumas parciales se van aproximando al valor real, e intenta determinar cuántos términos son necesarios para conseguir una diferencia absoluta menor que 0.001."
   ]
  },
  {
   "cell_type": "code",
   "execution_count": 34,
   "metadata": {
    "hide_input": true
   },
   "outputs": [
    {
     "name": "stdout",
     "output_type": "stream",
     "text": [
      "1000 1.6439345666815601 1.6449340668482264 0.0009995001666662784\n"
     ]
    }
   ],
   "source": [
    "# Una forma de resolverlo consiste en definir una función para calcular la suma parcial\n",
    "# y evaluarla en valores sucesivos hasta que se cumpla la condición deseada.\n",
    "\n",
    "import numpy as np\n",
    "\n",
    "def basel(n):\n",
    "    k = np.arange(1,n+1)\n",
    "    return np.sum(1/k**2)\n",
    "\n",
    "t = np.pi**2/6\n",
    "\n",
    "# con for-break limitamos cómodamente la búsqueda.\n",
    "\n",
    "for j in range(5000):\n",
    "    s = basel(j)\n",
    "    d = abs(s-t)\n",
    "    if d < 0.001:\n",
    "        break\n",
    "\n",
    "print(j, s, t, d)"
   ]
  },
  {
   "cell_type": "code",
   "execution_count": 15,
   "metadata": {
    "hide_input": true
   },
   "outputs": [
    {
     "name": "stdout",
     "output_type": "stream",
     "text": [
      "10000 1.6448340718480652 1.6449340668482264\n"
     ]
    }
   ],
   "source": [
    "# La solución anterior separa claramente el cálculo de la aproximación de la búsqueda del número\n",
    "# de términos. Eso hace que sea ineficiente, ya que cada suma parcial repite el cálculo\n",
    "# de todos los términos anteriores. Una forma de resolver el ejercicio de forma más directa es\n",
    "# ir añadiendo términos hasta que se cumpla la condición deseada:\n",
    "\n",
    "t = np.pi**2/6\n",
    "s = 0\n",
    "k = 0\n",
    "\n",
    "while abs(s-t)>=0.0001:\n",
    "    k = k + 1\n",
    "    s = s + 1/k**2\n",
    "\n",
    "print(k, s, t)"
   ]
  },
  {
   "cell_type": "markdown",
   "metadata": {},
   "source": [
    "2) Escribe una función que encuentre el segundo mayor elemento de un array de enteros."
   ]
  },
  {
   "cell_type": "code",
   "execution_count": null,
   "metadata": {
    "hide_input": true
   },
   "outputs": [],
   "source": [
    "# P. ej. si llamamos \"segun\" a la función pedida y\n",
    "# x = np.array( [1, 3, 2, 10, -5, 8, 3] )\n",
    "# segun(x) debe contestar 8"
   ]
  },
  {
   "cell_type": "code",
   "execution_count": 3,
   "metadata": {
    "hide_input": true,
    "scrolled": true
   },
   "outputs": [
    {
     "data": {
      "text/plain": [
       "8"
      ]
     },
     "execution_count": 3,
     "metadata": {},
     "output_type": "execute_result"
    }
   ],
   "source": [
    "# Calculamos el máximo del array al que hemos extraído los elementos que no son el máximo\n",
    "\n",
    "def segun(a):\n",
    "    return np.max( a[ a != np.max(a) ] )\n",
    "\n",
    "x = np.array([ 1, 3, 2, 10, -5, 8, 3])\n",
    "\n",
    "segun(x)"
   ]
  },
  {
   "cell_type": "code",
   "execution_count": 19,
   "metadata": {
    "hide_input": true
   },
   "outputs": [
    {
     "data": {
      "text/plain": [
       "8"
      ]
     },
     "execution_count": 19,
     "metadata": {},
     "output_type": "execute_result"
    }
   ],
   "source": [
    "# Solución idéntica a la anterior, pero poniendo nombre a los resultados intermedios:\n",
    "\n",
    "def second(x):\n",
    "    a=np.max(x)\n",
    "    y=x[x<a]\n",
    "    b=np.max(y)\n",
    "    return b\n",
    "\n",
    "second(  np.array([ 1, 3, 2, 10, -5, 8, 3]) )"
   ]
  },
  {
   "cell_type": "code",
   "execution_count": 29,
   "metadata": {
    "hide_input": true
   },
   "outputs": [
    {
     "data": {
      "text/plain": [
       "8"
      ]
     },
     "execution_count": 29,
     "metadata": {},
     "output_type": "execute_result"
    }
   ],
   "source": [
    "# Otra posibilidad es ordenar el array y extraer el segundo elemento\n",
    "\n",
    "def secord(x):\n",
    "    return sorted( set(x) , reverse=True)[1]\n",
    "\n",
    "secord(  np.array([ 1, 3, 10, 2, 10, -5, 8, 3]) )"
   ]
  },
  {
   "cell_type": "code",
   "execution_count": 28,
   "metadata": {},
   "outputs": [],
   "source": [
    "# Hay secuencias que no tienen un segundo mayor elemento\n",
    "\n",
    "#second(  np.array([ 10, 10, 10]) )"
   ]
  },
  {
   "cell_type": "markdown",
   "metadata": {},
   "source": [
    "3) Determina mediante simulación qué suceso es más probable: **a)** obtener al menos un seis al lanzar 6 dados, **b)** obtener al menos 2 seises al lanzar 12 dados. **c)** obtener al menos 3 seises al lanzar 18 dados. ([Problema de Newton-Pepys](https://en.wikipedia.org/wiki/Newton%E2%80%93Pepys_problem).)\n",
    "\n"
   ]
  },
  {
   "cell_type": "code",
   "execution_count": 4,
   "metadata": {},
   "outputs": [
    {
     "data": {
      "text/plain": [
       "array([1, 0, 2])"
      ]
     },
     "execution_count": 4,
     "metadata": {},
     "output_type": "execute_result"
    }
   ],
   "source": [
    "# para cada experimento, con np.random.randint puedes generar una matriz\n",
    "# de n filas (número de repeticiones) y d columnas (número de dados)\n",
    "\n",
    "# Una pista:\n",
    "\n",
    "m = np.array([[2,3,4],\n",
    "              [1,2,5],\n",
    "              [3,3,1]])\n",
    "\n",
    "np.sum(m==3, axis=1)"
   ]
  },
  {
   "cell_type": "code",
   "execution_count": 5,
   "metadata": {},
   "outputs": [],
   "source": [
    "def exper(numdados, ganar, repes):\n",
    "    x = np.random.randint(1,7,(repes, numdados))\n",
    "    #print(x)\n",
    "    seises = np.sum(x==6,axis=1)\n",
    "    #print(seises)\n",
    "    return np.sum( seises >= ganar ) / repes"
   ]
  },
  {
   "cell_type": "code",
   "execution_count": 6,
   "metadata": {},
   "outputs": [
    {
     "data": {
      "text/plain": [
       "0.664604"
      ]
     },
     "execution_count": 6,
     "metadata": {},
     "output_type": "execute_result"
    }
   ],
   "source": [
    "exper(6,1,1000000)"
   ]
  },
  {
   "cell_type": "code",
   "execution_count": 7,
   "metadata": {},
   "outputs": [
    {
     "data": {
      "text/plain": [
       "0.618427"
      ]
     },
     "execution_count": 7,
     "metadata": {},
     "output_type": "execute_result"
    }
   ],
   "source": [
    "exper(12,2,1000000)"
   ]
  },
  {
   "cell_type": "code",
   "execution_count": 8,
   "metadata": {},
   "outputs": [
    {
     "data": {
      "text/plain": [
       "0.597446"
      ]
     },
     "execution_count": 8,
     "metadata": {},
     "output_type": "execute_result"
    }
   ],
   "source": [
    "exper(18,3,1000000)"
   ]
  }
 ],
 "metadata": {
  "hide_input": false,
  "kernelspec": {
   "display_name": "Python 3",
   "language": "python",
   "name": "python3"
  },
  "language_info": {
   "codemirror_mode": {
    "name": "ipython",
    "version": 3
   },
   "file_extension": ".py",
   "mimetype": "text/x-python",
   "name": "python",
   "nbconvert_exporter": "python",
   "pygments_lexer": "ipython3",
   "version": "3.6.4"
  },
  "varInspector": {
   "cols": {
    "lenName": 16,
    "lenType": 16,
    "lenVar": 40
   },
   "kernels_config": {
    "python": {
     "delete_cmd_postfix": "",
     "delete_cmd_prefix": "del ",
     "library": "var_list.py",
     "varRefreshCmd": "print(var_dic_list())"
    },
    "r": {
     "delete_cmd_postfix": ") ",
     "delete_cmd_prefix": "rm(",
     "library": "var_list.r",
     "varRefreshCmd": "cat(var_dic_list()) "
    }
   },
   "types_to_exclude": [
    "module",
    "function",
    "builtin_function_or_method",
    "instance",
    "_Feature"
   ],
   "window_display": false
  }
 },
 "nbformat": 4,
 "nbformat_minor": 2
}
