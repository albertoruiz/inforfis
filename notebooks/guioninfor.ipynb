{
 "cells": [
  {
   "cell_type": "markdown",
   "metadata": {},
   "source": [
    "Informática - 1º de Física\n",
    "<br>\n",
    "**Introducción a la Programación**\n",
    "<br>\n",
    "<p style=\"color:#808080\"> <small><small>\n",
    "24/9/2018\n",
    "</small></small></p>\n",
    "\n",
    "# guión de prácticas"
   ]
  },
  {
   "cell_type": "markdown",
   "metadata": {},
   "source": [
    "## sesión 0 (2018.09.24)"
   ]
  },
  {
   "cell_type": "markdown",
   "metadata": {},
   "source": [
    "1) **Instalación**\n",
    "\n",
    "Utilizaremos la distribución [Anaconda](https://www.anaconda.com/download/) del lenguaje Python. Se puede instalar la versión completa o una versión mínima ([miniconda](https://conda.io/miniconda.html)) y añadir luego los paquetes deseados.\n",
    "\n",
    "- Descarga el programa de instalación correspondiente a Python 3.6 para tu sistema operativo y ejecútalo con todas las opciones por omisión.\n",
    "\n",
    "- Cuando termine aparecerá `Anaconda3 (64bit)` en la lista de todos los programas.\n",
    "\n",
    "- Si has instalado anaconda completo dentro estará ya disponible el elemento `jupyter notebook` que usaremos en las prácticas.\n",
    "\n",
    "- Si has instalado miniconda debes añadir este elemento manualmente. Para ello arranca la opción llamada `Anaconda terminal` y ejecuta la orden\n",
    "\n",
    "        conda install jupyter numpy matplotlib."
   ]
  },
  {
   "cell_type": "markdown",
   "metadata": {},
   "source": [
    "2) **Manejo básico del notebook.**\n",
    "\n",
    "Los notebooks son documentos interactivos que se muestran en el navegador de internet. Contienen dos tipos de \"celdas\": texto y código.\n",
    "\n",
    "Las celdas de código se escriben en un lenguaje de programación (en este caso Python) y cuando las ejecutamos se muestran los resultados de los cálculos.\n",
    "\n",
    "Las celdas de texto se escriben en \"Markdown\". Es un formato muy simple de \"texto plano\" que admite ciertos convenios para poner títulos, **negrita**, _cursiva_, etc. También se pueden añadir ecuaciones y otros elementos típicos de las páginas web como fotos, vídeos, enlaces a otras páginas, etc."
   ]
  },
  {
   "cell_type": "markdown",
   "metadata": {},
   "source": [
    "## sesión 1 (2017.10.02)"
   ]
  },
  {
   "cell_type": "markdown",
   "metadata": {},
   "source": [
    "Ten a mano la [documentación de Python](https://docs.python.org/3.6/index.html).\n",
    "\n",
    "\n",
    "**Ejercicios**\n",
    "\n",
    "- La [razón áurea](https://en.wikipedia.org/wiki/Golden_ratio) es el número\n",
    "\n",
    " $$g = \\frac{1+\\sqrt{5}}{2} $$\n",
    "\n",
    " Evalúa $g$ usando los números de coma flotante estándar de doble precisión (`float`) y comprueba si la aproximación obtenida verifica la ecuación \n",
    "\n",
    " $$\\frac{g+1}{g} = g$$\n",
    "\n",
    "\n",
    "- Escribe expresiones para transformar grados [Fahrenheit](https://en.wikipedia.org/wiki/Fahrenheit) en centígrados y comprueba su funcionamiento con unos cuantos valores.\n",
    "\n",
    " $$C = \\frac{F-32}{1.8}$$\n",
    "\n",
    " (No te preocupes por ahora por la entrada de datos. Puedes almacenar directamente el valor de interés en una variable, o si quieres puedes usar la función `input`.)\n",
    "\n",
    "\n",
    "- Escribe expresiones para calcular las soluciones de una ecuación de segundo grado y comprueba su funcionamiento en unos cuantos casos de prueba.\n",
    "\n",
    "\n",
    "\n",
    "- Utiliza las operaciones numéricas de tipo `complex` para comprobar que\n",
    "\n",
    " $$e^{i\\pi}+1=0$$\n",
    "\n",
    "\n",
    "- Expresa en Python la fórmula del período de un péndulo de longitud $l$ (para el caso de oscilaciones pequeñas) y evalúala para $l=1m$ y $l=5cm$ .\n",
    "\n",
    " $$ T_0 = 2\\pi \\sqrt{\\frac{l}{g}} $$\n",
    "\n",
    " En general, si la amplitud de las oscilaciones es $\\phi$, el período puede aproximarse mediante: \n",
    " \n",
    " $$ T = T_0\\left(1 + \\frac{1}{16}\\phi^2 + \\frac{11}{3072}\\phi^4  + \\ldots \\right)$$\n",
    "\n",
    " Compara el tamaño de la corrección para oscilaciones de $\\phi=10$ y $\\phi=30$ grados.\n"
   ]
  },
  {
   "cell_type": "markdown",
   "metadata": {},
   "source": [
    "## sesión 2 (2017.10.09)"
   ]
  },
  {
   "cell_type": "markdown",
   "metadata": {},
   "source": [
    "\n",
    "\n",
    "- Modifica la resolución de la ecuación de segundo grado para comprobar si tiene soluciones reales.\n",
    "\n",
    "\n",
    "- Haz una tabla de conversión de grados Fahrenheit a Celsius, de $32F$ hasta $212F$.\n",
    "\n",
    "\n",
    "\n",
    "- Escribe un programa que imprima todos los divisores propios de un número.\n",
    "\n",
    "\n",
    "\n",
    "- Calcula mentalmente la secuencia de números que imprimirá el siguiente código (el orden es importante):\n",
    "\n",
    "        for i in range(5):\n",
    "            for j in range(5):\n",
    "                print(i+10*j)\n",
    "            \n",
    "\n",
    "- Imprime las tablas de multiplicar.\n",
    "\n",
    "\n",
    "- Comprueba en unos cuantos casos que la suma de los $n$ primeros números impares es igual a $n^2$. Por ejemplo:\n",
    "\n",
    "        1+3+5     = 3*3 = 9\n",
    "        1+3+5+7+9 = 5*5 = 25\n",
    "        ...\n",
    "\n",
    " $$ \\sum_{k=0}^{n-1} (2k+1) = \\sum_{k=1}^n (2k-1) = n^2 $$\n",
    "\n",
    "\n",
    "- Calcula $7! = 7\\times6 \\times \\ldots \\times 2 \\times 1$ mediante un bucle.\n",
    "\n",
    "\n",
    "- Escribe un programa para calcular:\n",
    "\n",
    " $$\\sum_{k=10}^{30} (2k^3-k^2+5k)$$\n",
    "\n",
    "\n",
    "- Calcula numéricamente la probabilidad de que en un grupo de $n$ personas al menos dos de ellas cumplan años el mismo día ([Birthday problem](https://en.wikipedia.org/wiki/Birthday_problem)). (Problema explicado en la asignatura de Métodos Matemáticos I).\n",
    "\n",
    "\n",
    "- Compara el factorial exacto con la [aproximación de Stirling](https://en.wikipedia.org/wiki/Stirling%27s_approximation) para $10!$, $20!$, ... $100!$.\n",
    "\n",
    "\n",
    "- Escribe un programa para calcular el máximo común divisor de dos números mediante el algoritmo de [divisiones sucesivas](https://en.wikipedia.org/wiki/Euclidean_algorithm#Euclidean_division).\n",
    "\n",
    "\n",
    "\n",
    "- Escribe un programa que calcule la raíz cúbica de un número mediante aproximaciones sucesivas. Intenta hacerlo modificando el método usado para la raíz cuadrada. Echa un vistazo al [método de Newton](https://en.wikipedia.org/wiki/Newton%27s_method)."
   ]
  }
 ],
 "metadata": {
  "hide_input": false,
  "kernelspec": {
   "display_name": "Python 3",
   "language": "python",
   "name": "python3"
  },
  "language_info": {
   "codemirror_mode": {
    "name": "ipython",
    "version": 3
   },
   "file_extension": ".py",
   "mimetype": "text/x-python",
   "name": "python",
   "nbconvert_exporter": "python",
   "pygments_lexer": "ipython3",
   "version": "3.6.3"
  },
  "varInspector": {
   "cols": {
    "lenName": 16,
    "lenType": 16,
    "lenVar": 40
   },
   "kernels_config": {
    "python": {
     "delete_cmd_postfix": "",
     "delete_cmd_prefix": "del ",
     "library": "var_list.py",
     "varRefreshCmd": "print(var_dic_list())"
    },
    "r": {
     "delete_cmd_postfix": ") ",
     "delete_cmd_prefix": "rm(",
     "library": "var_list.r",
     "varRefreshCmd": "cat(var_dic_list()) "
    }
   },
   "types_to_exclude": [
    "module",
    "function",
    "builtin_function_or_method",
    "instance",
    "_Feature"
   ],
   "window_display": false
  }
 },
 "nbformat": 4,
 "nbformat_minor": 2
}
