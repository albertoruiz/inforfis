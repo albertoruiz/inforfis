{
 "cells": [
  {
   "cell_type": "markdown",
   "metadata": {},
   "source": [
    "Informática - 1º de Física\n",
    "<br>\n",
    "**Introducción a la Programación**\n",
    "<br>\n",
    "<p style=\"color:#808080\"> <small><small>\n",
    "23/10/2018\n",
    "</small></small></p>\n",
    "\n",
    "# guión de prácticas"
   ]
  },
  {
   "cell_type": "markdown",
   "metadata": {},
   "source": [
    "## sesión 0 (2018.09.24)"
   ]
  },
  {
   "cell_type": "markdown",
   "metadata": {},
   "source": [
    "1) **Instalación**\n",
    "\n",
    "Utilizaremos la distribución [Anaconda](https://www.anaconda.com/download/) del lenguaje Python. Se puede instalar la versión completa o una versión mínima ([miniconda](https://conda.io/miniconda.html)) y añadir luego los paquetes deseados.\n",
    "\n",
    "- Descarga el programa de instalación correspondiente a Python 3.6 para tu sistema operativo y ejecútalo con todas las opciones por omisión.\n",
    "\n",
    "- Cuando termine aparecerá `Anaconda3 (64bit)` en la lista de todos los programas.\n",
    "\n",
    "- Si has instalado anaconda completo dentro estará ya disponible el elemento `jupyter notebook` que usaremos en las prácticas.\n",
    "\n",
    "- Si has instalado miniconda debes añadir este elemento manualmente. Para ello arranca la opción llamada `Anaconda terminal` y ejecuta la orden\n",
    "\n",
    "        conda install jupyter numpy matplotlib."
   ]
  },
  {
   "cell_type": "markdown",
   "metadata": {},
   "source": [
    "2) **Manejo básico del notebook.**\n",
    "\n",
    "Los notebooks son documentos interactivos que se muestran en el navegador de internet. Contienen dos tipos de \"celdas\": texto y código.\n",
    "\n",
    "Las celdas de código se escriben en un lenguaje de programación (en este caso Python) y cuando las ejecutamos se muestran los resultados de los cálculos.\n",
    "\n",
    "Las celdas de texto se escriben en \"Markdown\". Es un formato muy simple de \"texto plano\" que admite ciertos convenios para poner títulos, **negrita**, _cursiva_, etc. También se pueden añadir ecuaciones y otros elementos típicos de las páginas web como fotos, vídeos, enlaces a otras páginas, etc."
   ]
  },
  {
   "cell_type": "markdown",
   "metadata": {},
   "source": [
    "## sesión 1 (2017.10.02)"
   ]
  },
  {
   "cell_type": "markdown",
   "metadata": {},
   "source": [
    "Ten a mano la [documentación de Python](https://docs.python.org/3.6/index.html).\n",
    "\n",
    "\n",
    "**Ejercicios**\n",
    "\n",
    "- La [razón áurea](https://en.wikipedia.org/wiki/Golden_ratio) es el número\n",
    "\n",
    " $$g = \\frac{1+\\sqrt{5}}{2} $$\n",
    "\n",
    " Evalúa $g$ usando los números de coma flotante estándar de doble precisión (`float`) y comprueba si la aproximación obtenida verifica la ecuación \n",
    "\n",
    " $$\\frac{g+1}{g} = g$$\n",
    "\n",
    "\n",
    "- Escribe expresiones para transformar grados [Fahrenheit](https://en.wikipedia.org/wiki/Fahrenheit) en centígrados y comprueba su funcionamiento con unos cuantos valores.\n",
    "\n",
    " $$C = \\frac{F-32}{1.8}$$\n",
    "\n",
    " (No te preocupes por ahora por la entrada de datos. Puedes almacenar directamente el valor de interés en una variable, o si quieres puedes usar la función `input`.)\n",
    "\n",
    "\n",
    "- Escribe expresiones para calcular las soluciones de una ecuación de segundo grado y comprueba su funcionamiento en unos cuantos casos de prueba.\n",
    "\n",
    "\n",
    "\n",
    "- Utiliza las operaciones numéricas de tipo `complex` para comprobar que\n",
    "\n",
    " $$e^{i\\pi}+1=0$$\n",
    "\n",
    "\n",
    "- Expresa en Python la fórmula del período de un péndulo de longitud $l$ (para el caso de oscilaciones pequeñas) y evalúala para $l=1m$ y $l=5cm$ .\n",
    "\n",
    " $$ T_0 = 2\\pi \\sqrt{\\frac{l}{g}} $$\n",
    "\n",
    " En general, si la amplitud de las oscilaciones es $\\phi$, el período puede aproximarse mediante: \n",
    " \n",
    " $$ T = T_0\\left(1 + \\frac{1}{16}\\phi^2 + \\frac{11}{3072}\\phi^4  + \\ldots \\right)$$\n",
    "\n",
    " Compara el tamaño de la corrección para oscilaciones de $\\phi=10$ y $\\phi=30$ grados.\n"
   ]
  },
  {
   "cell_type": "markdown",
   "metadata": {},
   "source": [
    "## sesión 2 (2017.10.09)"
   ]
  },
  {
   "cell_type": "markdown",
   "metadata": {},
   "source": [
    "\n",
    "\n",
    "- Modifica la resolución de la ecuación de segundo grado para comprobar si tiene soluciones reales.\n",
    "\n",
    "\n",
    "- Haz una tabla de conversión de grados Fahrenheit a Celsius, de $32F$ hasta $212F$.\n",
    "\n",
    "\n",
    "\n",
    "- Escribe un programa que imprima todos los divisores propios de un número.\n",
    "\n",
    "\n",
    "\n",
    "- Calcula mentalmente la secuencia de números que imprimirá el siguiente código (el orden es importante):\n",
    "\n",
    "        for i in range(5):\n",
    "            for j in range(5):\n",
    "                print(i+10*j)\n",
    "            \n",
    "\n",
    "- Imprime las tablas de multiplicar.\n",
    "\n",
    "\n",
    "- Comprueba en unos cuantos casos que la suma de los $n$ primeros números impares es igual a $n^2$. Por ejemplo:\n",
    "\n",
    "        1+3+5     = 3*3 = 9\n",
    "        1+3+5+7+9 = 5*5 = 25\n",
    "        ...\n",
    "\n",
    " $$ \\sum_{k=0}^{n-1} (2k+1) = \\sum_{k=1}^n (2k-1) = n^2 $$\n",
    "\n",
    "\n",
    "- Calcula $7! = 7\\times6 \\times \\ldots \\times 2 \\times 1$ mediante un bucle.\n",
    "\n",
    "\n",
    "- Escribe un programa para calcular:\n",
    "\n",
    " $$\\sum_{k=10}^{30} (2k^3-k^2+5k)$$\n",
    "\n",
    "\n",
    "- Calcula numéricamente la probabilidad de que en un grupo de $n$ personas al menos dos de ellas cumplan años el mismo día ([Birthday problem](https://en.wikipedia.org/wiki/Birthday_problem)). (Problema explicado en la asignatura de Métodos Matemáticos I).\n",
    "\n",
    "\n",
    "- Compara el factorial exacto con la [aproximación de Stirling](https://en.wikipedia.org/wiki/Stirling%27s_approximation) para $10!$, $20!$, ... $100!$.\n",
    "\n",
    "\n",
    "- Escribe un programa para calcular el máximo común divisor de dos números mediante el algoritmo de [divisiones sucesivas](https://en.wikipedia.org/wiki/Euclidean_algorithm#Euclidean_division).\n",
    "\n",
    "\n",
    "\n",
    "- Escribe un programa que calcule la raíz cúbica de un número mediante aproximaciones sucesivas. Intenta hacerlo modificando el método usado para la raíz cuadrada. Echa un vistazo al [método de Newton](https://en.wikipedia.org/wiki/Newton%27s_method)."
   ]
  },
  {
   "cell_type": "markdown",
   "metadata": {},
   "source": [
    "## sesión 3 (2017.10.16)"
   ]
  },
  {
   "cell_type": "markdown",
   "metadata": {},
   "source": [
    "**Nota**: 1) utiliza únicamente las herramientas de programación que hemos estudiado hasta ahora. 2) Identifícate al principio del notebook. 3) Guárdalo con un nombre sin tildes ni espacios."
   ]
  },
  {
   "cell_type": "markdown",
   "metadata": {},
   "source": [
    "- Rehaz los sumatorios de la sesión anterior usando *list comprehensions*.\n",
    "\n",
    "\n",
    "- Escribe una función para calcular el período de un péndulo de longitud $l$ (para oscilaciones pequeñas).\n",
    "\n",
    "\n",
    "- Escribe funciones para realizar conversiones de temperatura. Por ejemplo: `cel2fahr`, `kelvin2cel`, etc. y genera con ellas tablas de conversión.\n",
    "\n",
    "\n",
    "- Escribe una función para calcular el área de un triángulo **a partir de las longitudes de sus lados** ([fórmula de Heron](https://en.wikipedia.org/wiki/Heron%27s_formula)).\n",
    "\n",
    "\n",
    "- Escribe una función para calcular la distancia entre dos puntos de $\\mathbb R ^2$ (representados mediante 2-tuplas).\n",
    "\n",
    "\n",
    "- Escribe una función para calcular el área de un triángulo **a partir de las coordenadas de sus vértices** (representadas mediante 2-tuplas).\n",
    "\n",
    "\n",
    "- Escribe una función que **sume** todos los divisores de un número.\n",
    "\n",
    "\n",
    "- Escribe una función que **construya una lista** con todos los divisores de un número.\n",
    "\n",
    "\n",
    "- Escribe funciones para calcular el máximo común divisor de dos números a) por fuerza bruta y b) mediante divisiones sucesivas.\n",
    "\n",
    "\n",
    "- Escribe una función que reciba una fracción (expresada como una tupla de dos enteros) y devuelva la fracción irreducible equivalente.\n",
    "\n",
    "\n",
    "\n",
    "- Escribe una función para determinar si un número es primo.\n",
    "\n",
    "\n",
    "- Los primeros valores de la función $n^2+n+41$ para $n=0,1,2,\\ldots$ son primos: 41, 43, 47, 53,... ¿Cuál es el primer $n$ que produce un número compuesto?\n",
    "\n",
    "\n",
    "- Encuentra el [número perfecto](https://en.wikipedia.org/wiki/Perfect_number) más grande que puedas.\n",
    "\n",
    "\n",
    "- Define la función factorial y apoyándote en ella define una función para calcular los [coeficientes binomiales](https://en.wikipedia.org/wiki/Binomial_coefficient).\n",
    "\n",
    "\n",
    "- Escribe una función para calcular el número de pasos que da la secuencia [Collatz](https://en.wikipedia.org/wiki/Collatz_conjecture) partiendo del argumento $n$.\n",
    "\n",
    "\n",
    "- Escribe una función para construir una lista con la secuencia [Collatz](https://en.wikipedia.org/wiki/Collatz_conjecture) que empieza en el argumento $n$.\n",
    "\n",
    "\n",
    "- Escribe una función para determinar si todos los elementos de un contenedor (lista, array o tupla) son iguales.\n",
    "\n",
    "\n",
    "- Modifica la función que calcula el período de un péndulo para que acepte también la amplitud máxima como un argumento opcional.\n",
    "\n",
    "- Comprueba el [teorema de Nichomacus](https://en.wikipedia.org/wiki/Squared_triangular_number) para unos cuantos valores de $n$:\n",
    "\n",
    " $$1^3 + 2^3 + 3^3 + \\ldots + n^3 = (1+2+3+\\ldots+n)^2 $$\n",
    "\n",
    "\n",
    "- Crea una lista de [tripletas pitagóricas](https://en.wikipedia.org/wiki/Pythagorean_triple).\n",
    "\n",
    "- Escribe una función para calcular la distancia entre dos puntos de una esfera dadas sus [coordenadas geográficas](https://en.wikipedia.org/wiki/Geographic_coordinate_system) (latitud,longitud), suponiendo igual elevación."
   ]
  },
  {
   "cell_type": "markdown",
   "metadata": {},
   "source": [
    "## sesión 4 (2018.10.23)"
   ]
  },
  {
   "cell_type": "markdown",
   "metadata": {},
   "source": [
    "Descarga el notebook del capítulo 5, borra los resultados (cell -> all output -> clear) y reproduce los experimentos. "
   ]
  },
  {
   "cell_type": "markdown",
   "metadata": {},
   "source": [
    "**Nota**: 1) Identifícate al principio del notebook. 2) Guárdalo con un nombre sin tildes ni espacios.  3) utiliza únicamente las herramientas de programación que hemos estudiado hasta ahora."
   ]
  },
  {
   "cell_type": "markdown",
   "metadata": {},
   "source": [
    "- Resuelve el sistema:\n",
    "\n",
    "$$ \n",
    "\\begin{align*}\n",
    "x + 2y + 5z + 4w&= 24\\\\\n",
    "y-z  &= 1 \\\\\n",
    "2x+2y &= 6 \\\\\n",
    "-x+2y+3w &= 15\n",
    "\\end{align*}\n",
    "$$\n",
    "\n",
    "\n",
    "- Escribe una función para calcular la distancia entre dos puntos de $\\mathbb R^n$.\n",
    "\n",
    "\n",
    "- Escribe un programa que calcule la letra del DNI ([aquí explican la forma de hacerlo](http://www.cespedes.org/dni2nif/)).\n",
    "\n",
    "\n",
    "- Escribe un programa que encuentre el segundo mayor número contenido dentro de un array de enteros.\n",
    "\n",
    "\n",
    "- Escribe una función que admita un array 2D $m$ y un escalar $s$ y extraiga las filas de $m$ cuya suma sea mayor $s$.\n",
    "\n",
    "\n",
    "- A partir de los datos experimentales contenidos en `datos/hubble.txt` calcula el valor medio de redshift de las observaciones con velocidad < 5Km/s.\n",
    "\n",
    "\n",
    "- Escribe una función para ordenar un array de enteros de menor a mayor.\n",
    "\n",
    "\n",
    "- Escribe una función para calcular el [producto vectorial](http://en.wikipedia.org/wiki/Cross_product) de dos vectores.\n",
    "\n",
    "\n",
    "- Escribe una función para calcular los coeficientes $l=(a,b,c)$, de la ecuación de la recta $ax+by+c=0$ que pasa por dos puntos $P=(x_1,y_1)$, $Q=(x_2,y_2)$ dados.\n",
    "\n",
    "\n",
    "- Escribe una función para calcular el punto de intersección de dos rectas con coeficientes $l=(a,b,c)$ y  $l'=(a',b',c')$.\n",
    "\n",
    "\n",
    "- Escribe una función para calcular la distancia de un punto $P=(x,y)$ a una recta $l=(a,b,c)$ y la proyección de P en la recta.\n",
    "\n",
    "\n",
    "- Escribe una función para calcular la recta paralela a una recta $l$ que pasa por un punto $P$. Escribe una función para calcular la recta perpendicular a una recta $l$ que pasa por un punto $P$.\n",
    "\n",
    "\n",
    "- Dado un triángulo definido por sus tres vértices $P$, $Q$ y $R$ calcula la longitud de una base $b$ y su correspondientes altura $h$ y comprueba que el área obtenida mediante la fórmula habitual $A=bh/2$ coincide con la de Herón.\n",
    "\n",
    "\n",
    "- Calcula una aproximación numérica a la siguiente integral usando una [aproximación lineal a trozos](http://en.wikipedia.org/wiki/Trapezoidal_rule) con 20 intervalos:\n",
    "\n",
    "  $$ \\int_0^1 e^{-2x^2}\\cos(3\\pi x) dx $$\n",
    "\n",
    "\n",
    "\n",
    "- Escribe una función para calcular la desviación típica de un conjunto de números.\n",
    "\n",
    "\n",
    "- Un polinomio $p(x)$ de grado $n$ se puede representar mediante un vector de coeficientes de dimensión $n+1$. Escribe funciones para: **a)** calcular (los coeficientes de) la derivada del polinomio. **b)** calcular (los coeficientes de) la integral del polinomio. **c)** evaluar un polinomio en un valor concreto de $x$. **d)** multiplicar dos polinomios.\n",
    "\n",
    "\n",
    "- Simula el lanzamiento de 5 dados mil veces, y comprueba gráficamente que la distribución de resultados de la puntuación total es aproximadamente normal.\n",
    "\n",
    "\n",
    "- Determina mediante simulación qué suceso es más probable: **a)** obtener al menos un seis al lanzar 6 dados, **b)** obtener al menos 2 seises al lanzar 12 dados. **c)** obtener al menos 3 seises al lanzar 18 dados.\n"
   ]
  }
 ],
 "metadata": {
  "hide_input": false,
  "kernelspec": {
   "display_name": "Python 3",
   "language": "python",
   "name": "python3"
  },
  "language_info": {
   "codemirror_mode": {
    "name": "ipython",
    "version": 3
   },
   "file_extension": ".py",
   "mimetype": "text/x-python",
   "name": "python",
   "nbconvert_exporter": "python",
   "pygments_lexer": "ipython3",
   "version": "3.6.3"
  },
  "varInspector": {
   "cols": {
    "lenName": 16,
    "lenType": 16,
    "lenVar": 40
   },
   "kernels_config": {
    "python": {
     "delete_cmd_postfix": "",
     "delete_cmd_prefix": "del ",
     "library": "var_list.py",
     "varRefreshCmd": "print(var_dic_list())"
    },
    "r": {
     "delete_cmd_postfix": ") ",
     "delete_cmd_prefix": "rm(",
     "library": "var_list.r",
     "varRefreshCmd": "cat(var_dic_list()) "
    }
   },
   "types_to_exclude": [
    "module",
    "function",
    "builtin_function_or_method",
    "instance",
    "_Feature"
   ],
   "window_display": false
  }
 },
 "nbformat": 4,
 "nbformat_minor": 2
}
