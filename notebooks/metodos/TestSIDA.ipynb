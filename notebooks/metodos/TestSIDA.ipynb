{
 "cells": [
  {
   "cell_type": "markdown",
   "metadata": {},
   "source": [
    "# Test del SIDA\n"
   ]
  },
  {
   "cell_type": "markdown",
   "metadata": {},
   "source": [
    "## El enunciado\n",
    "\n",
    "En cierta población existe una enfermedad grave con una incidencia **muy baja** y un proceso de incubación muy lento.  \n",
    "\n",
    "Se ha desarrollado un *test* para detectarla precozmente pero el *test* no es perfecto. Concretamente tiene una **sensibilidad** del $95 \\%$ y una **especificidad** del $90\\%$.  \n",
    "\n",
    "El problema es el siguiente:  \n",
    "\n",
    "  - Se escoge un individuo al azar de la población.  \n",
    "\n",
    "  - Se le hace el *test* y da **positivo** para la enfermedad.  \n",
    "\n",
    "  - ¿Cuál es la probabilidad de que tenga realmente la enfermedad?  \n",
    "  "
   ]
  },
  {
   "cell_type": "markdown",
   "metadata": {},
   "source": [
    "## La solución\n",
    "\n",
    "La solución nos la da el teorema de **Bayes**:\n",
    "$$\n",
    "p( S \\vert + I ) = p( S \\vert I ) \\times \\frac{p( + \\vert S I)}{p( + \\vert I)}\n",
    "$$\n",
    "donde:  \n",
    "\n",
    "  1. I es la información general sobre el problema.  \n",
    "\n",
    "  2. S significa que el individuo tiene el Sida.  \n",
    "\n",
    "  3. $+$ significa que ha dado positivo en el *test*.  \n",
    "\n",
    "Por supuesto, $p( S \\vert I )$ es la probabilidad de que el individuo elegido tenga el Sida (sin tener ninguna otra información). Podemos asignar a esta probabilidad la incidencia de la enfermedad en dicha población.  \n",
    "\n",
    "$p( + \\vert S I)$ es la **sensibilidad** del *test*: la probabilidad de dar positivo teniendo la enfermedad.  \n",
    "\n",
    "$p( + \\vert I)$ es la probabilidad de dar positivo. De acuerdo con la fórmula de la probabilidad total:\n",
    "$$\n",
    "p( + \\vert I) = p( S \\vert I) \\times p( + \\vert S I) + p( \\overline{S} \\vert I) \\times p( + \\vert \\overline{S} I)\n",
    "$$\n",
    "donde $\\overline{S}$ significa que el individuo no tiene el Sida."
   ]
  },
  {
   "cell_type": "code",
   "execution_count": 1,
   "metadata": {
    "collapsed": true
   },
   "outputs": [],
   "source": [
    "import numpy as np\n",
    "import matplotlib.pyplot as plt\n",
    "\n",
    "%matplotlib inline"
   ]
  },
  {
   "cell_type": "code",
   "execution_count": 29,
   "metadata": {},
   "outputs": [
    {
     "data": {
      "image/png": "[encoded data removed]",
      "text/plain": [
       "<Figure size 432x288 with 1 Axes>"
      ]
     },
     "metadata": {},
     "output_type": "display_data"
    }
   ],
   "source": [
    "#Sensibilidad = probabilidad de dar positivo teniendo la enfermedad\n",
    "pPos_Sida = .96\n",
    "\n",
    "#Especifididad = probabilidad de dar negativo no teniendo la enfermedad\n",
    "pNeg_NoSida = .9\n",
    "\n",
    "#por tanto, la probabilidad de falsos positivos será\n",
    "pPos_NoSida = 1 - pNeg_NoSida\n",
    "\n",
    "titulo = \"p(+ | S) = \", pPos_Sida, \", p(+ / nS) = \",np.round(pPos_NoSida,3)\n",
    "\n",
    "#Incidencia de la enfermedad: de muy escasa a generalizada\n",
    "pSida = np.linspace( 0, 1, 100 )\n",
    "\n",
    "#lógicamente, la probabilidad de no tener la enfermedad será\n",
    "pNoSida = 1 - pSida\n",
    "\n",
    "#Probabilidad de dar positivo\n",
    "pPos = pSida * pPos_Sida + pNoSida * pPos_NoSida\n",
    "\n",
    "#Bayes\n",
    "pSida_Pos = pSida * pPos_Sida / pPos\n",
    "\n",
    "plt.plot( pSida, pSida_Pos );\n",
    "plt.plot( [ 0, 1 ], [ 0, 1 ]);\n",
    "\n",
    "plt.xlabel('p( S | I )');\n",
    "plt.ylabel('p( S | + )');\n",
    "plt.title( titulo );\n",
    "\n",
    "#Supongamos 4 test positivos\n",
    "prior = 1 / 1000\n",
    "\n",
    "vero = pPos_Sida\n",
    "\n",
    "for i in range(4):\n",
    "  \n",
    "  #Probabilidad de dar positivo\n",
    "  pPos = prior * pPos_Sida + ( 1 - prior ) * pPos_NoSida\n",
    "\n",
    "  #Bayes\n",
    "  posterior = prior * vero / pPos\n",
    "\n",
    "  plt.vlines( prior, prior, posterior );\n",
    "  \n",
    "  plt.hlines( posterior, prior, posterior );\n",
    "  \n",
    "  prior = posterior\n",
    "  \n",
    "\n",
    " "
   ]
  }
 ],
 "metadata": {
  "kernelspec": {
   "display_name": "Python 3",
   "language": "python",
   "name": "python3"
  },
  "language_info": {
   "codemirror_mode": {
    "name": "ipython",
    "version": 3
   },
   "file_extension": ".py",
   "mimetype": "text/x-python",
   "name": "python",
   "nbconvert_exporter": "python",
   "pygments_lexer": "ipython3",
   "version": "3.6.5"
  },
  "varInspector": {
   "cols": {
    "lenName": 16,
    "lenType": 16,
    "lenVar": 40
   },
   "kernels_config": {
    "python": {
     "delete_cmd_postfix": "",
     "delete_cmd_prefix": "del ",
     "library": "var_list.py",
     "varRefreshCmd": "print(var_dic_list())"
    },
    "r": {
     "delete_cmd_postfix": ") ",
     "delete_cmd_prefix": "rm(",
     "library": "var_list.r",
     "varRefreshCmd": "cat(var_dic_list()) "
    }
   },
   "types_to_exclude": [
    "module",
    "function",
    "builtin_function_or_method",
    "instance",
    "_Feature"
   ],
   "window_display": false
  }
 },
 "nbformat": 4,
 "nbformat_minor": 2
}
