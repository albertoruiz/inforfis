{
 "cells": [
  {
   "cell_type": "markdown",
   "metadata": {},
   "source": [
    "## Teorema del límite central \n",
    "#### (Comprobado con la simulación del lanzamiento de dados)\n"
   ]
  },
  {
   "cell_type": "code",
   "execution_count": 1,
   "metadata": {
    "collapsed": true
   },
   "outputs": [],
   "source": [
    "import numpy as np\n",
    "import matplotlib.pyplot as plt\n",
    "from scipy.stats import norm, randint\n",
    "\n",
    "%matplotlib inline"
   ]
  },
  {
   "cell_type": "markdown",
   "metadata": {},
   "source": [
    "### Variable aleatoria X (uniforme discreta)\n",
    "Valores posibles, x = 1, 2, 3, 4, 5, 6\n",
    "\n",
    "Probabilidades, p(x) = 1/6, 1/6, 1/6, 1/6, 1/6, 1/6"
   ]
  },
  {
   "cell_type": "code",
   "execution_count": 2,
   "metadata": {},
   "outputs": [
    {
     "data": {
      "image/png": "[encoded data removed]",
      "text/plain": [
       "<Figure size 432x288 with 1 Axes>"
      ]
     },
     "metadata": {},
     "output_type": "display_data"
    }
   ],
   "source": [
    "dado = [1,2,3,4,5,6]\n",
    "dado\n",
    "p_cara = [ 1/6, 1/6, 1/6, 1/6, 1/6, 1/6 ]\n",
    "plt.scatter( dado, p_cara);\n",
    "plt.xlabel('cara')\n",
    "plt.ylabel('p(cara)')\n",
    "plt.vlines(dado,0,1/6);"
   ]
  },
  {
   "cell_type": "code",
   "execution_count": 3,
   "metadata": {},
   "outputs": [
    {
     "name": "stdout",
     "output_type": "stream",
     "text": [
      "Número de dados:10\n",
      "Número de tiradas:1000\n"
     ]
    }
   ],
   "source": [
    "ndados = int(input('Número de dados:'))\n",
    "tiradas = int(input('Número de tiradas:'))\n",
    "dados = np.random.randint(1,6+1,(tiradas,ndados))\n",
    "#dados[:10]"
   ]
  },
  {
   "cell_type": "markdown",
   "metadata": {},
   "source": [
    "### Nueva variable aleatoria: suma de las caras\n",
    "$S =  X_1 + X_2 + \\cdots + X_n$\n",
    "\n",
    "Valores posibles, $s = n, n+1, \\cdots , 6 * n$\n",
    "\n",
    "Los estadísticos, media y varianza, son fáciles de calcular:\n",
    "\n",
    "$<S> =  <X_1> + <X_2> + \\cdots + <X_n> = n <X> = n * 3.5$\n",
    "\n",
    "$var(S) =  var(X_1) + var(X_2) + \\cdots + var(X_n) = n * var(X) = n * 35/12$\n",
    "\n",
    "Pero ¿cuál será su función de distribución, $p(s), s = n, n+1, \\cdots , 6 * n$?\n"
   ]
  },
  {
   "cell_type": "code",
   "execution_count": 4,
   "metadata": {},
   "outputs": [
    {
     "name": "stdout",
     "output_type": "stream",
     "text": [
      "teoría = 3.5 * n = 35.0, experimento = 35.14\n"
     ]
    }
   ],
   "source": [
    "# Truco para sumar las caras de los dados: sumo por filas, (fijo la columna)\n",
    "s = np.sum(dados,axis=1)\n",
    "#s[:10]\n",
    "\n",
    "# teoría, experimento\n",
    "mu_t = 3.5 * ndados\n",
    "mu_e = s.mean()\n",
    "print('teoría = 3.5 * n = {}, experimento = {:.2f}'.format(mu_t, mu_e))"
   ]
  },
  {
   "cell_type": "code",
   "execution_count": 5,
   "metadata": {},
   "outputs": [
    {
     "name": "stdout",
     "output_type": "stream",
     "text": [
      "teoría = 5.400617, experimento = 5.39\n"
     ]
    }
   ],
   "source": [
    "sigma_t = np.sqrt( ndados * 35 / 12 )\n",
    "sigma_e = s.std()\n",
    "print('teoría = {}, experimento = {:.2f}'.format(round(sigma_t,6), sigma_e ))"
   ]
  },
  {
   "cell_type": "code",
   "execution_count": 6,
   "metadata": {},
   "outputs": [
    {
     "data": {
      "image/png": "[encoded data removed]",
      "text/plain": [
       "<Figure size 432x288 with 1 Axes>"
      ]
     },
     "metadata": {},
     "output_type": "display_data"
    }
   ],
   "source": [
    "x = np.linspace(ndados,6*ndados,100)\n",
    "\n",
    "plt.hist(s,bins=np.arange(ndados,6*ndados)+0.5, density=True);\n",
    "\n",
    "plt.plot(x,norm.pdf(x,mu_t,sigma_t),lw=3);\n",
    "\n",
    "plt.xlabel('suma');\n",
    "plt.ylabel('p(suma)');"
   ]
  },
  {
   "cell_type": "code",
   "execution_count": null,
   "metadata": {},
   "outputs": [],
   "source": [
    "norm.cdf(20,mu_t,sigma_t)"
   ]
  },
  {
   "cell_type": "code",
   "execution_count": null,
   "metadata": {},
   "outputs": [],
   "source": [
    "ic99 = norm.interval(.99,mu_t,sigma_t)\n",
    "(ic99[1]-ic99[0])/(6*ndados-ndados)"
   ]
  }
 ],
 "metadata": {
  "kernelspec": {
   "display_name": "Python 3",
   "language": "python",
   "name": "python3"
  },
  "language_info": {
   "codemirror_mode": {
    "name": "ipython",
    "version": 3
   },
   "file_extension": ".py",
   "mimetype": "text/x-python",
   "name": "python",
   "nbconvert_exporter": "python",
   "pygments_lexer": "ipython3",
   "version": "3.6.5"
  },
  "varInspector": {
   "cols": {
    "lenName": 16,
    "lenType": 16,
    "lenVar": 40
   },
   "kernels_config": {
    "python": {
     "delete_cmd_postfix": "",
     "delete_cmd_prefix": "del ",
     "library": "var_list.py",
     "varRefreshCmd": "print(var_dic_list())"
    },
    "r": {
     "delete_cmd_postfix": ") ",
     "delete_cmd_prefix": "rm(",
     "library": "var_list.r",
     "varRefreshCmd": "cat(var_dic_list()) "
    }
   },
   "types_to_exclude": [
    "module",
    "function",
    "builtin_function_or_method",
    "instance",
    "_Feature"
   ],
   "window_display": false
  }
 },
 "nbformat": 4,
 "nbformat_minor": 2
}
