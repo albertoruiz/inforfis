{
 "cells": [
  {
   "cell_type": "markdown",
   "metadata": {},
   "source": [
    "# Introducción"
   ]
  },
  {
   "cell_type": "markdown",
   "metadata": {},
   "source": [
    "La [**informática**](https://en.wikipedia.org/wiki/Computing) es el \"conjunto de conocimientos científicos y técnicas que hacen posible el _tratamiento automático_ de la _información_ por medio de computadoras\" (RAE). Su espectacular desarrollo es una de las causas de la \"[revolución digital](https://en.wikipedia.org/wiki/Digital_Revolution)\". Por ejemplo, un *smartphone* tiene más \"potencia de cálculo\" que el [sistema de navegación](https://en.wikipedia.org/wiki/Apollo_Guidance_Computer) de la primera nave espacial que llegó a la Luna en 1969.\n",
    "\n",
    "\n",
    "Las herramientas informáticas son imprescindibles en todas las ramas de la ciencia y la técnica, y más aún en la Física: muchos problemas solo pueden resolverse recurriendo al cálculo numérico o la simulación. A la vez, los avances tecnológicos experimentados por los ordenadores y las comunicaciones se deben fundamentalmente a avances en Física.\n",
    "La informática tiene también una relación muy estrecha con las matemáticas y la lógica. "
   ]
  },
  {
   "cell_type": "markdown",
   "metadata": {},
   "source": [
    "## Motivación"
   ]
  },
  {
   "cell_type": "markdown",
   "metadata": {},
   "source": [
    "Antes de entrar en materia vamos a mostrar algunos problemas típicos cuya solución manual es muy laboriosa. En todos ellos las herramientas informáticas que estudiaremos son de gran ayuda."
   ]
  },
  {
   "cell_type": "markdown",
   "metadata": {},
   "source": [
    "Uno de los más importantes son los sistemas de ecuaciones lineales, que surgen en muchos ámbitos, a menudo con centenares de ecuaciones e incógnitas. Un caso típico es el ajuste de un modelo a unos datos:\n",
    "\n",
    "![datosls](graph/recta_LS.png)"
   ]
  },
  {
   "cell_type": "markdown",
   "metadata": {},
   "source": [
    "Otro ejemplo lo encontramos en algunas integrales como [la siguiente](https://en.wikipedia.org/wiki/Error_function), que parece sencilla pero no tiene [solución analítica](https://en.wikipedia.org/wiki/Closed-form_expression):\n",
    "\n",
    "$$\\int _0^a e^{-x^2} dx$$\n",
    "\n",
    "En el pasado los libros incluían [tablas de valores](https://en.wikipedia.org/wiki/Error_function#Table_of_values). En la actualidad ya no son necesarias, gracias al \"cálculo numérico\"."
   ]
  },
  {
   "cell_type": "markdown",
   "metadata": {},
   "source": [
    "Algo parecido ocurre con ciertas ecuaciones muy simples pero que son [trascendentes](https://en.wikipedia.org/wiki/Transcendental_equation): la incógnita no se puede despejar.\n",
    "\n",
    "Un ejemplo de esto lo tenemos en astronomía. De acuerdo con la segunda ley de Kepler, en una órbita elíptica el objeto se mueve a velocidad variable, más rápido cuando está cerca del centro de atracción. Sería muy útil poder expresar con una fórmula sencilla la posición del objeto en cualquier instante de tiempo, pero esto no es posible. Lo mejor que se puede conseguir es la [ecuación de Kepler](https://en.wikipedia.org/wiki/Kepler%27s_equation)\n",
    "\n",
    "$$E - \\varepsilon\\, \\sin(E) = M$$\n",
    "\n",
    "donde $M$ es un ángulo proporcional al tiempo, $\\varepsilon$  es la excentricidad de la órbita y $E$ es un ángulo auxiliar para expresar la posición del objeto. (Se usan las variables auxiliares $M$ y $E$ para simplificar lo más posible la ecuación). Es una ecuación [trascendente](https://en.wikipedia.org/wiki/Transcendental_equation), en la que no podemos despejar la variable $E$ que nos interesa. Aunque no hay una solución general exacta se pueden obtener excelentes aproximaciones para valores concretos de $\\varepsilon$ y $M$  mediante una sencilla secuencia de operaciones.\n",
    "Puedes intentar resolverla con la calculadora mediante alguna idea que se te ocurra, por ejemplo para $M=0.4$ y $\\varepsilon=0.3$. (Una pista: hay varias formas de hacerlo por \"aproximaciones sucesivas\".)\n"
   ]
  },
  {
   "cell_type": "markdown",
   "metadata": {},
   "source": [
    "Algo similar ocurre con ciertos dispositivos electrónicos. Por ejemplo, la diferencia de potencial de un [diodo](https://en.wikipedia.org/wiki/Diode_modelling#Iterative_solution) conectado a una fuente verifica una ecuación del tipo $ax + e^{bx} = c$, donde es imposible despejar $x$. (Ecuaciones parecidas aparecen en muchos [otros problemas](https://en.wikipedia.org/wiki/Lambert_W_function).) Se puede resolver también por aproximaciones sucesivas. "
   ]
  },
  {
   "cell_type": "markdown",
   "metadata": {},
   "source": [
    "También encontraremos con frecuencia problemas cuya solución es simple y directa, pero que resultan costosos de resolver cuando los datos de entrada son muy numerosos. Por ejemplo, para calcular el área de un polígono irregular como el siguiente hay que descomponerlo en triángulos, algo muy laborioso si tiene muchos vértices.\n",
    "\n",
    "![polygon](graph/polygon.png)"
   ]
  },
  {
   "cell_type": "markdown",
   "metadata": {},
   "source": [
    "Vamos a enfrentarnos a problemas como los anteriores, cuya solución no puede expresarse con una fórmula matemática tradicional o requieren muchos cálculos repetitivos. Necesitamos una especie de **lenguaje matemático ampliado**, que permita especificar de forma rigurosa las *instrucciones* adecuadas para obtener la solución y, por supuesto, una máquina que obedezca automáticamente estas instrucciones."
   ]
  },
  {
   "cell_type": "markdown",
   "metadata": {},
   "source": [
    "## Breve historia"
   ]
  },
  {
   "cell_type": "markdown",
   "metadata": {},
   "source": [
    "En la infancia aprendimos a resolver con lápiz y papel las operaciones aritméticas, esenciales en la vida cotidiana: suma, resta, multiplicación y división. Después encontramos las potencias, raíces, funciones trigonométricas, logaritmos, etc. Estas funciones son muy laboriosas de calcular a mano, por lo que antiguamente se publicaban tablas de valores. Estas tablas se quedaron obsoletas con la invención de máquinas de calcular, inicialmente mecánicas y posteriormente electrónicas. Finalmente, surgieron las calculadoras programables, capaces de automatizar la repetición de cualquier secuencia de operaciones."
   ]
  },
  {
   "cell_type": "markdown",
   "metadata": {},
   "source": [
    "Los ordenadores modernos son esencialmente calculadoras programables muy rápidas, con una enorme capacidad de almacenamiento, pantallas de alta resolución, e interconectadas a través de una red mundial de comunicaciones. \n",
    "\n",
    "Estas máquinas tan potentes se manejan mediante herramientas informáticas. Los \"lenguajes de programación\" son la herramienta fundamental, mediante la cual se construyen todas las demás aplicaciones.\n",
    "Nuestro objetivo es conocer los fundamentos de la programación y ser capaces de \"instruir\" a nuestros ordenadores para realizar cualquier tarea que deseemos, sin estar limitados a los programas y aplicaciones existentes."
   ]
  },
  {
   "cell_type": "markdown",
   "metadata": {},
   "source": [
    "Un resumen muy simplificado de la historia de la computación es el siguiente:"
   ]
  },
  {
   "cell_type": "markdown",
   "metadata": {},
   "source": [
    "- 1640s Máquina de Pascal\n",
    "- 1800s Tarjetas perforadas\n",
    "- 1830s Analytical Engine, telégrafo\n",
    "- 1890s coche, tabulador Hollerith, teléfono, electrón\n",
    "- 1910s avión, Torres Quevedo, Einstein\n",
    "- 1920s radio, calculadoras electromecánicas\n",
    "- 1930s Turing, TV\n",
    "- 1940s Von Neumann, Shannon, transistor, ENIAC, EDSAC\n",
    "- 1950s Fortran, Lisp, IBM 704, circuito integrado, Sputnik\n",
    "- 1960s Algol, Basic, mainframes, 74xx, Apollo\n",
    "- 1970s microprocesador, calculadoras, email\n",
    "- 1980s ordenadores domésticos\n",
    "- 1990s WWW, deep blue, windows, linux, portátiles\n",
    "- 2000s wikipedia, google maps, youtube, SSD\n",
    "- 2010s tablets, smartphones, redes sociales, deep learning, alphaGo, rpi\n",
    "- 2020s IA, stable difussion, chatGPT"
   ]
  },
  {
   "cell_type": "markdown",
   "metadata": {},
   "source": [
    "## Cálculo numérico"
   ]
  },
  {
   "cell_type": "markdown",
   "metadata": {},
   "source": [
    "Veamos un par de problemas sencillos cuya solución necesita una pequeña dosis de programación."
   ]
  },
  {
   "cell_type": "markdown",
   "metadata": {},
   "source": [
    "[rc]:https://en.wikipedia.org/wiki/Methods_of_computing_square_roots#Decimal_(base_10)\n",
    "\n",
    "Supongamos que necesitamos calcular la raíz cuadrada de un número $n$, pero nuestra\n",
    "calculadora [es muy antigua](https://www.ithistory.org/db/hardware/casio-computer-co-ltd/casio-cm-605) y solo es capaz de sumar, restar, multiplicar y dividir. Antiguamente se enseñaba un [método][rc]  para extraer raíces cuadradas a mano, pero en este caso vamos a hacerlo de forma más sencilla mediante \"aproximaciones sucesivas\". Por definición, $(\\sqrt n)^2 = n$, de donde"
   ]
  },
  {
   "cell_type": "markdown",
   "metadata": {},
   "source": [
    "\n",
    "$$\\sqrt n = \\frac{n}{\\sqrt n}$$\n",
    "\n",
    "Por tanto, si $x$ es una buena aproximación a la raíz, $n/x$\n",
    "también lo será. Lo importante es que, aunque ni $x$ ni $n/x$ sean exactamente la raíz buscada, un valor será mayor y el otro menor que ella. Así que podemos sacar la media de las dos y obtener una aproximación mejor:"
   ]
  },
  {
   "cell_type": "markdown",
   "metadata": {},
   "source": [
    "$$ x' \\leftarrow \\frac{1}{2}\\left( x + \\frac{n}{x}\\right) $$\n",
    "\n",
    "Esta nueva aproximación se puede mejorar aplicando el mismo procedimiento sucesivas veces,\n",
    "hasta conseguir la precisión deseada. Como ejemplo, podemos calcular la raíz de 25 partiendo de $x=1$. Comprueba con la calculadora que la secuencia de aproximaciones es la siguiente:\n",
    "\n",
    "            1.0\n",
    "            13.0\n",
    "            7.461538461538462\n",
    "            5.406026962727994\n",
    "            5.015247601944898\n",
    "            5.000023178253949\n",
    "            5.000000000053722\n",
    "            \n",
    "\n",
    "La secuencia converge rápidamente: el número de decimales correctos se duplica en cada paso.\n",
    "Esta idea, basada en la repetición de operaciones aritméticas sencillas, [se conoce desde la antigüedad](https://en.wikipedia.org/wiki/Methods_of_computing_square_roots#Babylonian_method), y es muy fácil de automatizar mediante un ordenador o una calculadora programable. Es un caso particular del [Método de Newton](https://en.wikipedia.org/wiki/Newton%27s_method) para resolver ecuaciones no lineales.\n",
    "\n",
    "(El valor de $n=25$ del ejemplo anterior sirve para comprobar que el método funciona bien y los decimales correctos que consigue en cada paso. Su utilidad real está en los casos donde $n$ no es un cuadrado perfecto obvio.)\n",
    "\n",
    "Observa también que el método necesita una \"aproximación inicial\" o \"semilla\". Esto ocurre en muchos procedimientos computacionales: construimos una función de modo que la solución del problema sea un punto fijo atractor, al que se llega desde cualquier punto de partida (dentro de un intervalo razonable).\n",
    "\n",
    "Otro ejemplo interesante es el cálculo de integrales definidas. Pocas\n",
    "expresiones matemáticas tienen una primitiva expresable de forma cerrada con funciones elementales, por lo que muchas integrales de interés en la vida real tienen que calcularse mediante algún tipo de aproximación numérica.\n",
    "\n",
    "Un método muy sencillo consiste en aproximar la función que deseamos integrar mediante un polinomio de segundo grado, e integrar este polinomio en lugar de la función (Regla de Simpson).\n",
    "Es fácil comprobar (resolviendo un sistema de ecuaciones para los coeficientes e integrando el polinomio) que el resultado es $\\frac{h}{3}(f_0 + 4 f_1 + f_2)$, que solo depende de los valores $f_1$, $f_2$, y $f_3$ que toma la función en tres puntos separados una distancia $h$. Para mejorar la aproximación se puede dividir el intervalo de integración en varios trozos. Por ejemplo, calculemos una aproximación a la siguiente integral:\n",
    "\n",
    "$$\\int_0^1 \\sin(\\cos(\\sin(x)))dx$$\n",
    "\n",
    "Como es una función bastante suave podemos usar solo dos fragmentos. A continuación se muestran los valores que toma la función, el coeficiente que afecta a cada uno de ellos en la aproximación combinada y el resultado final, que consigue 4 dígitos correctos.\n",
    "\n",
    "\n",
    "                  x      f(x)      coef\n",
    "                0.00    0.841        1\n",
    "                0.25    0.825        4\n",
    "                0.50    0.775        2\n",
    "                0.75    0.701        4\n",
    "                1.00    0.618        1\n",
    "                       ----------\n",
    "                        0.7593406...\n",
    "\n",
    "\n",
    "De nuevo observamos que un problema matemático complejo puede resolverse numéricamente de manera satisfactoria mediante la repetición de operaciones simples.\n",
    "Nuestro objetivo es automatizar la solución de este tipo de problemas."
   ]
  },
  {
   "cell_type": "markdown",
   "metadata": {},
   "source": [
    "## Algoritmo"
   ]
  },
  {
   "cell_type": "markdown",
   "metadata": {},
   "source": [
    "Un **algoritmo** la especificación rigurosa de un procedimiento para resolver un determinado problema. Consiste en una secuencia de instrucciones que hay que realizar paso a paso, indicando en qué condiciones hay que repetirlas."
   ]
  },
  {
   "cell_type": "markdown",
   "metadata": {},
   "source": [
    "Por ejemplo, el método de aproximaciones sucesivas para extraer la raíz cuadrada puede describirse de manera informal (en lenguaje natural) como sigue:\n",
    "\n",
    "> Para calcular la raíz cuadrada de un número $n$ dado, haz lo siguiente. Empieza con una aproximación inicial, por ejemplo $x=1$. Hasta que estés satisfecho de la calidad de la aproximación, mejórala progresivamente repitiendo la operación $(n/x + x)/2$."
   ]
  },
  {
   "cell_type": "markdown",
   "metadata": {},
   "source": [
    "La descripción anterior no es realmente un algoritmo. Un ser humano entiende más o menos lo que hay que hacer, pero el nivel de detalle no es suficiente para automatizar la tarea. "
   ]
  },
  {
   "cell_type": "markdown",
   "metadata": {},
   "source": [
    "Para mayor precisión el método se puede expresar en un lenguaje más matemático como una secuencia:\n",
    "\n",
    "$$\\begin{aligned}x_0 &= 1\\\\x_{k+1} &= (n/x_k+x_k)/2\\end{aligned}$$\n",
    "\n",
    "Para seguir estos pasos a mano es necesario apuntar en un papel los sucesivos valores que vamos obteniendo, para poder reutilizarlos en el paso siguiente. Es conveniente dar nombre a los valores intermedios que se van calculando para referirnos a ellos en el futuro. Esta idea puede expresarse mediante una flecha `<-`. Usando esta notación, el método se podría describir brevemente así: dado un número `n`, haz `x <- 1` y luego repite suficientes veces `x <- (n/x + x)/2`."
   ]
  },
  {
   "cell_type": "markdown",
   "metadata": {},
   "source": [
    "Veamos otro ejemplo. El máximo común divisor de dos números puede obtenerse mediante el siguiente procedimiento: dados dos enteros positivos $n$ y $m$, haz lo siguiente:\n",
    "\n",
    "    1) r <- resto de la división entera de n entre m\n",
    "    2) si r es cero el máximo común divisor es m. FIN.\n",
    "    3) n <- m\n",
    "    4) m <- r\n",
    "    5) continúa por el paso 1)\n",
    "\n",
    "Parece un poco lioso pero realmente es un proceso sencillo y mucho más rápido que el método basado en extraer factores primos. Es el ([Algoritmo de Euclides](https://en.wikipedia.org/wiki/Euclidean_algorithm)) que se basa en que `mcd(n,m) = mcd(m, resto(n,m))`.\n",
    "\n",
    "Por ejemplo, para calcular el mcd de 20 y 32 el proceso es el siguiente:\n",
    "\n",
    "    20 : 32 = 0, resto 20\n",
    "    32 : 20 = 1, resto 12\n",
    "    20 : 12 = 1, resto 8\n",
    "    12 :  8 = 1, resto 4\n",
    "    8  :  4 = 2, resto 0\n",
    "          ^           ---\n",
    "\n",
    "Por tanto, $\\operatorname{mcd}(20,32)=4$."
   ]
  },
  {
   "cell_type": "markdown",
   "metadata": {},
   "source": [
    "En este caso todos los pasos están perfectamente claros y no hay margen de interpretación. El método es un algoritmo propiamente dicho, que puede expresarse en un lenguaje de programación y funcionar en un ordenador."
   ]
  },
  {
   "cell_type": "markdown",
   "metadata": {},
   "source": [
    "Es importante distinguir entre el problema que deseamos resolver y el algoritmo elegido para resolverlo. A veces un problema puede resolverse mediante diferentes procedimientos; algunos serán más rápidos, otros serán más sencillos de entender, etc. Lo ideal es encontrar algoritmos *elegantes*: simples y eficientes. "
   ]
  },
  {
   "cell_type": "markdown",
   "metadata": {},
   "source": [
    "Un **programa** es una secuencia de instrucciones que un ordenador puede obedecer. La **programación** es el proceso de expresar algoritmos mediante programas."
   ]
  },
  {
   "cell_type": "markdown",
   "metadata": {},
   "source": [
    "Un algoritmo determinado puede *implementarse* (escribirse en forma de programa) de muchas maneras alternativas dependiendo del lenguaje de programación utilizado y de la forma de organizar y describir las operaciones."
   ]
  },
  {
   "cell_type": "markdown",
   "metadata": {},
   "source": [
    "La programación básica consiste en lo siguiente:\n",
    "\n",
    "- Analizar el problema hasta entenderlo bien\n",
    "- Resolverlo con lápiz y papel en casos sencillos\n",
    "- Expresar la solución de forma algorítmica\n",
    "- Implementar el algoritmo mediante un lenguaje de programación\n",
    "- Preparar un conjunto de casos de prueba\n",
    "- Corregir errores"
   ]
  },
  {
   "cell_type": "markdown",
   "metadata": {},
   "source": [
    "## Terminación"
   ]
  },
  {
   "cell_type": "markdown",
   "metadata": {},
   "source": [
    "Para que sea útil en la práctica, un algoritmo debe terminar siempre, tarde o temprano, dada cualquier posible entrada.\n",
    "Un conjunto de instrucciones incorrectamente especificadas puede caer en una repetición infinita de operaciones inútiles y absurdas que no siempre es distinguible de un funcionamiento correcto.\n",
    "Sólo los conjuntos de instrucciones que tienen una entrada y salida bien definida y siempre terminan, para cualquier  entrada válida, son algoritmos propiamente dichos. "
   ]
  },
  {
   "cell_type": "markdown",
   "metadata": {},
   "source": [
    "Curiosamente, existen funciones matemáticas bien definidas que no son *computables*. En otras palabras, hay problemas  que no admiten una solución general automática. No existe ningún algoritmo para resolverlos. En cierto sentido, el conjunto infinito de problemas matemáticos tiene mayor cardinalidad que el de posibles soluciones algorítmicas.\n",
    "De hecho, la característica de \"ser algoritmo\" no es algorítmica. Además, la corrección de un programa solo puede verificarse rigurosamente en casos sencillos. Esto nos da una idea de los posibles riesgos que para el mundo actual depende completamente de millones de aparatos controlados por programas (*software*).\n",
    "\n",
    "Casi todos los problemas que encontraremos tienen soluciones algorítmicas, aunque algunos son *intratables*: sólo podemos resolverlos en un tiempo razonable de manera aproximada. "
   ]
  },
  {
   "cell_type": "markdown",
   "metadata": {},
   "source": [
    "**Ejercicios**\n",
    "\n",
    "- Expresa informalmente un algoritmo para multiplicar polinomios. \n",
    "\n",
    "- Demuestra que el algoritmo de Euclides para calcular el mcd siempre termina.\n",
    "\n",
    "- Expresa informalmente un algoritmo para determinar si un numero entero es primo.\n",
    "\n",
    "- Expresa informalmente un algoritmo para determinar si un objeto lanzado desde el origen con velocidad $\\vec v$ colisionará con una pared vertical de altura $h$ situada a una distancia $d$."
   ]
  },
  {
   "cell_type": "markdown",
   "metadata": {},
   "source": [
    "(Expresa informalmente significa hacerlo en español coloquial para que lo entienda un alumno de la ESO.)"
   ]
  },
  {
   "cell_type": "markdown",
   "metadata": {},
   "source": [
    "## Principios de la programación"
   ]
  },
  {
   "cell_type": "markdown",
   "metadata": {},
   "source": [
    "La computación puede caracterizarse por tres principios fundamentales:\n",
    "\n",
    "1) **Computación universal**\n",
    "\n",
    "La impresionante expansión en el uso de ordenadores se debe al concepto de \"programa almacenado\", que hace realidad las máquinas de propósito general: almacenan en su memoria tanto los datos de la computación como el *propio programa* que debe ejecutarse.\n",
    "\n",
    "No necesitamos una máquina físicamente distinta para cada algoritmo, es suficiente una \"máquina universal\", capaz de interpretar y ejecutar instrucciones especificadas en un cierto lenguaje y, de esta forma, resolver diferentes problemas con el mismo soporte físico.\n",
    "\n",
    "2) **Los \"átomos\" de la computación**\n",
    "\n",
    "Cualquier algoritmo, independientemente de la complejidad del problema a resolver, se puede reducir a la combinación de ingredientes extraordinariamente simples: \n",
    "\n",
    "- Instrucciones elementales (p. ej. suma de dos números).\n",
    "\n",
    "- Repetición de instrucciones.\n",
    "\n",
    "- Selección de instrucciones en función de condiciones sencillas (p. ej., comprobar si un número es mayor que otro).\t   \n",
    "\n",
    "Los ordenadores reales obedecen un cierto repertorio de instrucciones (\"lenguaje máquina\") que incluye estos constituyentes elementales junto con otras operaciones que se añaden por comodidad. Por supuesto, los programadores humanos no usan directamente estas instrucciones tan simples, sino lenguajes de programación de \"alto nivel\" que se traducen al lenguaje propio de cada modelo de máquina.\n",
    "\n",
    "3) **Abstracción**\n",
    "\n",
    "Para abordar un problema complejo es conveniente descomponerlo en subproblemas más sencillos. Esta es una idea clave en programación, que en gran medida consiste en elaborar \"subprogramas\" o \"funciones\" que resuelvan tareas comunes, para poder combinarlas adecuadamente según nuestras necesidades.\n",
    "\n",
    "Los lenguajes de programación nos proporcionan una forma de describir algoritmos de forma \"modular\" o \"estructurada\", mucho más conveniente para las personas que las instrucciones elementales.\n",
    "\n",
    "La comunidad científica coopera para construir una biblioteca de algoritmos cada vez más amplia, disponible en forma de \"paquetes\" que podemos instalar fácilmente para ampliar los lenguajes de programación.\n",
    "Los sistemas de cálculo científico que estudiaremos en la segunda parte de la asignatura ponen a disposición del usuario una colección de herramientas muy útiles para abordar problemas de ciencia e ingeniería."
   ]
  },
  {
   "cell_type": "markdown",
   "metadata": {},
   "source": [
    "**Ejercicios**\n",
    "\n",
    "- Describe informalmente un algoritmo para dividir, usando sólo sumas o restas. \n",
    "\n",
    "- Describe informalmente un algoritmo para elevar números a potencias usando sólo sumas. \n",
    "\n",
    "- Describe informalmente un algoritmo para calcular logaritmos.\n",
    "\n",
    "- Explica cómo se puede calcular el i-ésimo primo (p. ej. el 5º número primo es el 11) suponiendo que somos capaces de determinar si un número es primo o no."
   ]
  },
  {
   "cell_type": "markdown",
   "metadata": {},
   "source": [
    "## Python"
   ]
  },
  {
   "cell_type": "markdown",
   "metadata": {},
   "source": [
    "La informática se apoya en las ciencias de la computación, una rama de las matemáticas, pero las aplicaciones y herramientas informáticas disponibles en el mundo real son tecnologías en continuo desarrollo. Los expertos deben tomar decisiones pragmáticas para elegir entre aspectos contrapuestos que no tienen una solución universalmente aceptada."
   ]
  },
  {
   "cell_type": "markdown",
   "metadata": {},
   "source": [
    "Esta es una de las razones por las que existen innumerables lenguajes de programación. En realidad todos son equivalentes desde un punto de vista teórico, aunque cada uno es más apropiado para trabajar en un cierto tipo de problemas.\n",
    "En este curso explicaremos las bases de la programación usando el lenguaje [Python][1]. Esta elección está justificada por varias razones:\n",
    "\n",
    "[1]:https://en.wikipedia.org/wiki/Python_(programming_language) \n",
    "\n",
    "- Fácil de aprender\n",
    "\n",
    "- Disponible en cualquier ordenador\n",
    "\n",
    "- Propósito general\n",
    "\n",
    "- Ecosistema de herramientas científicas excelente\n",
    "\n",
    "Una vez entendidos los principios básicos de la programación es bastante sencillo aprender a manejar cualquier nuevo lenguaje."
   ]
  },
  {
   "cell_type": "markdown",
   "metadata": {},
   "source": [
    "## Jupyter"
   ]
  },
  {
   "cell_type": "markdown",
   "metadata": {},
   "source": [
    "En esta asignatura utilizaremos los [*jupyter notebooks*](http://jupyter.org/). Se trata de una herramienta para crear documentos interactivos combinando texto normal, programas y sus resultados."
   ]
  },
  {
   "cell_type": "markdown",
   "metadata": {},
   "source": [
    "Podemos usarlo simplemente como una calculadora:"
   ]
  },
  {
   "cell_type": "code",
   "execution_count": 1,
   "metadata": {},
   "outputs": [
    {
     "data": {
      "text/plain": [
       "4"
      ]
     },
     "execution_count": 1,
     "metadata": {},
     "output_type": "execute_result"
    }
   ],
   "source": [
    "2+2"
   ]
  },
  {
   "cell_type": "markdown",
   "metadata": {},
   "source": [
    "La siguiente celda contiene las instrucciones en Python para calcular una raíz cuadrada mediante el método de aproximaciones sucesivas que hemos comentado más arriba. Más adelante explicaremos todos los detalles, por ahora solo tenemos que fijarnos en el aspecto que tiene el lenguaje y en que el notebook que estás leyendo puede \"ejecutarlo\" y mostrar el resultado."
   ]
  },
  {
   "cell_type": "code",
   "execution_count": 2,
   "metadata": {},
   "outputs": [
    {
     "name": "stdout",
     "output_type": "stream",
     "text": [
      "25.0\n",
      "\n",
      "13.48\n",
      "\n",
      "8.557507418397627\n",
      "\n",
      "7.141736912383411\n",
      "\n",
      "7.001406475243939\n",
      "\n",
      "7.000000141269659\n",
      "\n",
      "7.000000000000002\n",
      "\n",
      "7.0\n",
      "\n",
      "7.0\n",
      "\n",
      "7.0\n"
     ]
    }
   ],
   "source": [
    "n = 49\n",
    "\n",
    "x = 1\n",
    "\n",
    "for k in range(10):\n",
    "    x = (x + n/x)/2\n",
    "    print(x)"
   ]
  },
  {
   "cell_type": "markdown",
   "metadata": {},
   "source": [
    "Este tipo de documentos se utiliza cada vez más en el mundo científico ya que permite compartir resultados con la comunidad de forma muy cómoda y reproducible. El sistema se puede utilizar prácticamente en cualquier tipo de máquina ya que los documentos se muestran en el navegador de internet."
   ]
  },
  {
   "cell_type": "markdown",
   "metadata": {},
   "source": [
    "La forma más sencilla de instalarlo en tu propia máquina es utilizar la distribución [Anaconda](https://www.anaconda.com/download). Todo lo necesario para su puesta en marcha se explicará en la primera clase de prácticas."
   ]
  }
 ],
 "metadata": {
  "kernelspec": {
   "display_name": "Python 3 (ipykernel)",
   "language": "python",
   "name": "python3"
  },
  "language_info": {
   "codemirror_mode": {
    "name": "ipython",
    "version": 3
   },
   "file_extension": ".py",
   "mimetype": "text/x-python",
   "name": "python",
   "nbconvert_exporter": "python",
   "pygments_lexer": "ipython3",
   "version": "3.11.5"
  }
 },
 "nbformat": 4,
 "nbformat_minor": 4
}
