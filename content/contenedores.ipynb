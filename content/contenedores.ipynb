{
  "metadata": {
    "hide_input": false,
    "varInspector": {
      "cols": {
        "lenName": 16,
        "lenType": 16,
        "lenVar": 40
      },
      "kernels_config": {
        "python": {
          "delete_cmd_postfix": "",
          "delete_cmd_prefix": "del ",
          "library": "var_list.py",
          "varRefreshCmd": "print(var_dic_list())"
        },
        "r": {
          "delete_cmd_postfix": ") ",
          "delete_cmd_prefix": "rm(",
          "library": "var_list.r",
          "varRefreshCmd": "cat(var_dic_list()) "
        }
      },
      "oldHeight": 235,
      "position": {
        "height": "488px",
        "left": "739px",
        "right": "295px",
        "top": "120px",
        "width": "564px"
      },
      "types_to_exclude": [
        "module",
        "function",
        "builtin_function_or_method",
        "instance",
        "_Feature"
      ],
      "varInspector_section_display": "block",
      "window_display": false
    },
    "kernelspec": {
      "name": "python",
      "display_name": "Python (Pyodide)",
      "language": "python"
    },
    "language_info": {
      "codemirror_mode": {
        "name": "python",
        "version": 3
      },
      "file_extension": ".py",
      "mimetype": "text/x-python",
      "name": "python",
      "nbconvert_exporter": "python",
      "pygments_lexer": "ipython3",
      "version": "3.8"
    }
  },
  "nbformat_minor": 4,
  "nbformat": 4,
  "cells": [
    {
      "cell_type": "markdown",
      "source": "<p style=\"background:#f4f4f4; padding:5px; margin-left:-5px;margin-bottom:0px\">\nInformática - 1º de Física\n<br>\n<strong>Introducción a la Programación</strong>\n</p>",
      "metadata": {}
    },
    {
      "cell_type": "markdown",
      "source": "## Tema 3. Contenedores",
      "metadata": {}
    },
    {
      "cell_type": "markdown",
      "source": "*tuple, list, set, array, dictionary, string, data frame*",
      "metadata": {}
    },
    {
      "cell_type": "markdown",
      "source": "Los lenguajes de programación permiten agrupar elementos dentro de ciertas \"estructuras de datos\" para poder manejarlos cómodamente como una única entidad. Podemos pensar en el equivalente informático de los vectores, matrices, conjuntos, etc. que encontramos en matemáticas. Son **contenedores** de cualquier tipo de dato que queramos almacenar en ellos. También podemos decir que son tipos *compuestos*, en contraste con los tipos *simples* que hemos visto hasta ahora.\n\nHay varios tipos de contenedor. Cada uno tiene una serie de operaciones que le son propias y a la vez aceptan operaciones comunes a todos ellos (p. ej. consultar el número de elementos almacenados o sumarlos todos).",
      "metadata": {}
    },
    {
      "cell_type": "markdown",
      "source": "### Tuplas",
      "metadata": {}
    },
    {
      "cell_type": "markdown",
      "source": "Las [tuplas](https://en.wikipedia.org/wiki/Tuple) sirven para agrupar varios valores del mismo o diferentes tipos. Por ejemplo, podemos guardar en una tupla las dos soluciones de una ecuación de segundo grado, o las coordenadas $(x,y,z)$ de un punto en el espacio. La sintaxis en Python es idéntica a la del lenguaje matemático, aunque los paréntesis solo son obligatorios para eliminar ambigüedad. Realmente la tupla se construye cuando introducimos la coma.\n\nVeamos algunos ejemplos:",
      "metadata": {}
    },
    {
      "cell_type": "code",
      "source": "a = (5.7, 2j)\nb = 3,4,5\nc = 'hola',(2,abs,b)",
      "metadata": {},
      "execution_count": 1,
      "outputs": []
    },
    {
      "cell_type": "markdown",
      "source": "La tupla `a` contiene un `float` y un `complex`. La tupla `b` contiene tres `int`. El segundo elemento de la tupla `c` es a su vez otra tupla, que contiene una función y otra tupla más. No hay limitaciones, pero se recomienda usarlas con moderación.",
      "metadata": {}
    },
    {
      "cell_type": "code",
      "source": "type(b)",
      "metadata": {},
      "execution_count": 2,
      "outputs": [
        {
          "execution_count": 2,
          "output_type": "execute_result",
          "data": {
            "text/plain": "tuple"
          },
          "metadata": {}
        }
      ]
    },
    {
      "cell_type": "code",
      "source": "b",
      "metadata": {},
      "execution_count": 3,
      "outputs": [
        {
          "execution_count": 3,
          "output_type": "execute_result",
          "data": {
            "text/plain": "(3, 4, 5)"
          },
          "metadata": {}
        }
      ]
    },
    {
      "cell_type": "markdown",
      "source": "Para extraer un elemento se emplean los corchetes. Recuerda que el primer índice es el cero.",
      "metadata": {}
    },
    {
      "cell_type": "code",
      "source": "a[1]",
      "metadata": {},
      "execution_count": 4,
      "outputs": [
        {
          "execution_count": 4,
          "output_type": "execute_result",
          "data": {
            "text/plain": "2j"
          },
          "metadata": {}
        }
      ]
    },
    {
      "cell_type": "code",
      "source": "c[1][0]",
      "metadata": {},
      "execution_count": 5,
      "outputs": [
        {
          "execution_count": 5,
          "output_type": "execute_result",
          "data": {
            "text/plain": "2"
          },
          "metadata": {}
        }
      ]
    },
    {
      "cell_type": "markdown",
      "source": "El número de elementos se puede consultar con la función `len`.",
      "metadata": {}
    },
    {
      "cell_type": "code",
      "source": "len(b)",
      "metadata": {},
      "execution_count": 6,
      "outputs": [
        {
          "execution_count": 6,
          "output_type": "execute_result",
          "data": {
            "text/plain": "3"
          },
          "metadata": {}
        }
      ]
    },
    {
      "cell_type": "markdown",
      "source": "Si los elementos son todos numéricos se pueden sumar:",
      "metadata": {}
    },
    {
      "cell_type": "code",
      "source": "sum((3,-4,7))",
      "metadata": {},
      "execution_count": 7,
      "outputs": [
        {
          "execution_count": 7,
          "output_type": "execute_result",
          "data": {
            "text/plain": "6"
          },
          "metadata": {}
        }
      ]
    },
    {
      "cell_type": "markdown",
      "source": "### Listas",
      "metadata": {}
    },
    {
      "cell_type": "markdown",
      "source": "La [lista](https://en.wikipedia.org/wiki/List_(abstract_data_type) es un contenedor muy parecido a la tupla pero que se construye mediante corchetes.",
      "metadata": {}
    },
    {
      "cell_type": "code",
      "source": "l = [1,-2,67,0,8,1,3]",
      "metadata": {},
      "execution_count": 8,
      "outputs": []
    },
    {
      "cell_type": "markdown",
      "source": "También admite elementos de diferentes tipos, incluyendo otras listas, tuplas, o cualquier otro tipo de datos, aunque lo normal es trabajar con listas homogéneas (con elementos del mismo tipo) cuyos elementos pueden procesarse todos de la misma manera usando un bucle.",
      "metadata": {}
    },
    {
      "cell_type": "markdown",
      "source": "La extracción de elementos (\"indexado\"), la longitud de la lista y la suma de sus elementos se consiguen exactamente igual que en las tuplas:",
      "metadata": {}
    },
    {
      "cell_type": "code",
      "source": "l[2], len(l), sum(l)",
      "metadata": {},
      "execution_count": 9,
      "outputs": [
        {
          "execution_count": 9,
          "output_type": "execute_result",
          "data": {
            "text/plain": "(67, 7, 78)"
          },
          "metadata": {}
        }
      ]
    },
    {
      "cell_type": "markdown",
      "source": "Sin embargo, las listas se diferencian en una característica fundamental. Son **mutables**: podemos añadir o quitar elementos de ellas.",
      "metadata": {}
    },
    {
      "cell_type": "code",
      "source": "l.append(28)\n\nl",
      "metadata": {},
      "execution_count": 10,
      "outputs": [
        {
          "execution_count": 10,
          "output_type": "execute_result",
          "data": {
            "text/plain": "[1, -2, 67, 0, 8, 1, 3, 28]"
          },
          "metadata": {}
        }
      ]
    },
    {
      "cell_type": "code",
      "source": "l += [-2,4]\n\nl",
      "metadata": {},
      "execution_count": 11,
      "outputs": [
        {
          "execution_count": 11,
          "output_type": "execute_result",
          "data": {
            "text/plain": "[1, -2, 67, 0, 8, 1, 3, 28, -2, 4]"
          },
          "metadata": {}
        }
      ]
    },
    {
      "cell_type": "code",
      "source": "l.remove(0)\n\nl",
      "metadata": {},
      "execution_count": 12,
      "outputs": [
        {
          "execution_count": 12,
          "output_type": "execute_result",
          "data": {
            "text/plain": "[1, -2, 67, 8, 1, 3, 28, -2, 4]"
          },
          "metadata": {}
        }
      ]
    },
    {
      "cell_type": "code",
      "source": "l[2] = 7\n\nl",
      "metadata": {},
      "execution_count": 13,
      "outputs": [
        {
          "execution_count": 13,
          "output_type": "execute_result",
          "data": {
            "text/plain": "[1, -2, 7, 8, 1, 3, 28, -2, 4]"
          },
          "metadata": {}
        }
      ]
    },
    {
      "cell_type": "code",
      "source": "l.pop()",
      "metadata": {},
      "execution_count": 14,
      "outputs": [
        {
          "execution_count": 14,
          "output_type": "execute_result",
          "data": {
            "text/plain": "4"
          },
          "metadata": {}
        }
      ]
    },
    {
      "cell_type": "code",
      "source": "l",
      "metadata": {},
      "execution_count": 15,
      "outputs": [
        {
          "execution_count": 15,
          "output_type": "execute_result",
          "data": {
            "text/plain": "[1, -2, 7, 8, 1, 3, 28, -2]"
          },
          "metadata": {}
        }
      ]
    },
    {
      "cell_type": "code",
      "source": "del l[2]",
      "metadata": {},
      "execution_count": 16,
      "outputs": []
    },
    {
      "cell_type": "code",
      "source": "l",
      "metadata": {},
      "execution_count": 17,
      "outputs": [
        {
          "execution_count": 17,
          "output_type": "execute_result",
          "data": {
            "text/plain": "[1, -2, 8, 1, 3, 28, -2]"
          },
          "metadata": {}
        }
      ]
    },
    {
      "cell_type": "code",
      "source": "l.insert(3,100)\n\nl",
      "metadata": {},
      "execution_count": 18,
      "outputs": [
        {
          "execution_count": 18,
          "output_type": "execute_result",
          "data": {
            "text/plain": "[1, -2, 8, 100, 1, 3, 28, -2]"
          },
          "metadata": {}
        }
      ]
    },
    {
      "cell_type": "markdown",
      "source": "Más adelante explicaremos en detalle el concepto de mutabilidad.",
      "metadata": {}
    },
    {
      "cell_type": "markdown",
      "source": "### Conjuntos",
      "metadata": {}
    },
    {
      "cell_type": "markdown",
      "source": "El tipo `set` trata de reproducir el concepto matemático de conjunto. Se construye con llaves y los elementos duplicados se eliminan automáticamente.",
      "metadata": {}
    },
    {
      "cell_type": "code",
      "source": "C = {1,2,7,1,8,2,1}\nC",
      "metadata": {},
      "execution_count": 19,
      "outputs": [
        {
          "execution_count": 19,
          "output_type": "execute_result",
          "data": {
            "text/plain": "{1, 2, 7, 8}"
          },
          "metadata": {}
        }
      ]
    },
    {
      "cell_type": "markdown",
      "source": "Las operaciones de conjuntos están disponibles con símbolos o con \"métodos\" (funciones en forma de sufijo) . Los detalles pueden encontrarse en la [documentación](https://docs.python.org/3.6/library/stdtypes.html?highlight=set#set).",
      "metadata": {}
    },
    {
      "cell_type": "code",
      "source": "C.union({0,8})",
      "metadata": {},
      "execution_count": 20,
      "outputs": [
        {
          "execution_count": 20,
          "output_type": "execute_result",
          "data": {
            "text/plain": "{0, 1, 2, 7, 8}"
          },
          "metadata": {}
        }
      ]
    },
    {
      "cell_type": "code",
      "source": "C | {0,8}",
      "metadata": {},
      "execution_count": 21,
      "outputs": [
        {
          "execution_count": 21,
          "output_type": "execute_result",
          "data": {
            "text/plain": "{0, 1, 2, 7, 8}"
          },
          "metadata": {}
        }
      ]
    },
    {
      "cell_type": "code",
      "source": "C & {5,2}",
      "metadata": {},
      "execution_count": 22,
      "outputs": [
        {
          "execution_count": 22,
          "output_type": "execute_result",
          "data": {
            "text/plain": "{2}"
          },
          "metadata": {}
        }
      ]
    },
    {
      "cell_type": "code",
      "source": "C - {2,8,0,5}",
      "metadata": {},
      "execution_count": 23,
      "outputs": [
        {
          "execution_count": 23,
          "output_type": "execute_result",
          "data": {
            "text/plain": "{1, 7}"
          },
          "metadata": {}
        }
      ]
    },
    {
      "cell_type": "code",
      "source": "5 in C",
      "metadata": {},
      "execution_count": 24,
      "outputs": [
        {
          "execution_count": 24,
          "output_type": "execute_result",
          "data": {
            "text/plain": "False"
          },
          "metadata": {}
        }
      ]
    },
    {
      "cell_type": "code",
      "source": "{1,2} < {5,2,1}",
      "metadata": {},
      "execution_count": 25,
      "outputs": [
        {
          "execution_count": 25,
          "output_type": "execute_result",
          "data": {
            "text/plain": "True"
          },
          "metadata": {}
        }
      ]
    },
    {
      "cell_type": "markdown",
      "source": "### Arrays",
      "metadata": {}
    },
    {
      "cell_type": "markdown",
      "source": "El contenedor de tipo [array](https://en.wikipedia.org/wiki/Array_data_type) es una especie de tabla multidimensional cuyos elementos se especifican con una secuencia de índices. Un array de dimensión 1 es como un vector, cuyos elementos se especifican como `a[j]`. Un array de dimensión 2 es como una matriz, cuyos elementos  `a[i,j]` se especifican con dos índices (i-ésima fila, j-ésima columna). Un array de dimensión 3 sería un bloque parecido a un cubo de Rubik cuyos elementos se especifican mediante tres índices `a[i,j,k]` (fila, columna, capa). Y así sucesivamente.\n\nPor ejemplo, un archivo de vídeo una vez descodificado puede considerarse como un array de 4 dimensiones: los valores de tiempo, fila y columna, especifican un vector de 3 componentes que codifica el color de cada punto elemental de imagen (pixel).\n\nLos arrays son estructuras completamente regulares, con el mismo número de elementos y organización en cada índice, y con el mismo tipo base, que suele ser numérico. Admiten de forma natural las operaciones matemáticas y de álgebra lineal. El array es la estructura de datos fundamental en la computación científica. \n\nEn Python los arrays están disponibles en el módulo `numpy`, que estudiaremos en detalle en un tema posterior. Aquí simplemente ponemos un par de ejempos muy simples para recordar la forma de importar el módulo.",
      "metadata": {}
    },
    {
      "cell_type": "code",
      "source": "import numpy as np",
      "metadata": {},
      "execution_count": 26,
      "outputs": []
    },
    {
      "cell_type": "code",
      "source": "np.linspace(0,1,11)",
      "metadata": {},
      "execution_count": 27,
      "outputs": [
        {
          "execution_count": 27,
          "output_type": "execute_result",
          "data": {
            "text/plain": "array([0. , 0.1, 0.2, 0.3, 0.4, 0.5, 0.6, 0.7, 0.8, 0.9, 1. ])"
          },
          "metadata": {}
        }
      ]
    },
    {
      "cell_type": "code",
      "source": "v = np.random.randint(1,6+1,10)\nv",
      "metadata": {},
      "execution_count": 28,
      "outputs": [
        {
          "execution_count": 28,
          "output_type": "execute_result",
          "data": {
            "text/plain": "array([2, 2, 4, 6, 4, 5, 3, 2, 2, 3])"
          },
          "metadata": {}
        }
      ]
    },
    {
      "cell_type": "code",
      "source": "np.median(v)",
      "metadata": {},
      "execution_count": 29,
      "outputs": [
        {
          "execution_count": 29,
          "output_type": "execute_result",
          "data": {
            "text/plain": "3.0"
          },
          "metadata": {}
        }
      ]
    },
    {
      "cell_type": "markdown",
      "source": "### Diccionarios *",
      "metadata": {}
    },
    {
      "cell_type": "markdown",
      "source": "El tipo `dict` es un contenedor que almacena datos con una clave de acceso asociada a cada uno.\n\nPor ejemplo, el siguiente diccionario almacena las propiedades de un cuerpo en un hipotético programa de simulación:",
      "metadata": {}
    },
    {
      "cell_type": "code",
      "source": "obj = {'masa': 5.0, 'posición': (3,5,6), 'velocidad': (0,0,1), 'radio': 5.7}",
      "metadata": {},
      "execution_count": 30,
      "outputs": []
    },
    {
      "cell_type": "markdown",
      "source": "En este caso las claves de acceso son cadenas y los datos almacenados son números y tuplas. Pero cualquier combinación es posible:",
      "metadata": {}
    },
    {
      "cell_type": "code",
      "source": "dic = {3:5, 5:2}",
      "metadata": {},
      "execution_count": 31,
      "outputs": []
    },
    {
      "cell_type": "markdown",
      "source": "Podemos extraer el elemento correspondiente a una clave mediante el corchete:",
      "metadata": {}
    },
    {
      "cell_type": "code",
      "source": "obj['radio']",
      "metadata": {},
      "execution_count": 32,
      "outputs": [
        {
          "execution_count": 32,
          "output_type": "execute_result",
          "data": {
            "text/plain": "5.7"
          },
          "metadata": {}
        }
      ]
    },
    {
      "cell_type": "code",
      "source": "dic[3]",
      "metadata": {},
      "execution_count": 33,
      "outputs": [
        {
          "execution_count": 33,
          "output_type": "execute_result",
          "data": {
            "text/plain": "5"
          },
          "metadata": {}
        }
      ]
    },
    {
      "cell_type": "markdown",
      "source": "Un diccionario es como una lista o una tupla cuyos elementos se indexan con un dato de (casi) cualquier tipo. Para consultar las claves existentes se utiliza el método `keys`.",
      "metadata": {}
    },
    {
      "cell_type": "code",
      "source": "obj.keys()",
      "metadata": {},
      "execution_count": 34,
      "outputs": [
        {
          "execution_count": 34,
          "output_type": "execute_result",
          "data": {
            "text/plain": "dict_keys(['masa', 'posición', 'velocidad', 'radio'])"
          },
          "metadata": {}
        }
      ]
    },
    {
      "cell_type": "markdown",
      "source": "Un ejemplo muy práctico de diccionario lo tenemos en el módulo [scipy.constants](https://docs.scipy.org/doc/scipy-0.19.0/reference/constants.html), que proporciona los valores oficiales de las constantes físicas.",
      "metadata": {}
    },
    {
      "cell_type": "code",
      "source": "import scipy.constants as const",
      "metadata": {},
      "execution_count": 35,
      "outputs": []
    },
    {
      "cell_type": "code",
      "source": "const.physical_constants['Planck constant']",
      "metadata": {},
      "execution_count": 36,
      "outputs": [
        {
          "execution_count": 36,
          "output_type": "execute_result",
          "data": {
            "text/plain": "(6.62607015e-34, 'J Hz^-1', 0.0)"
          },
          "metadata": {}
        }
      ]
    },
    {
      "cell_type": "markdown",
      "source": "Este diccionario contiene el valor, sus unidades, y la incertidumbre con la que se conoce actualmente cada magnitud. También están disponibles las constantes directamente con nombres, si solo necesitamos su valor.",
      "metadata": {}
    },
    {
      "cell_type": "code",
      "source": "const.Planck",
      "metadata": {},
      "execution_count": 37,
      "outputs": [
        {
          "execution_count": 37,
          "output_type": "execute_result",
          "data": {
            "text/plain": "6.62607015e-34"
          },
          "metadata": {}
        }
      ]
    },
    {
      "cell_type": "markdown",
      "source": "Para conocer las claves del diccionario o los nombres disponibles en un módulo puedes pulsar la tecla de tabulador en el editor justo después del punto o la comilla, y aparecerán una ventana todos los nombres definidos.",
      "metadata": {}
    },
    {
      "cell_type": "markdown",
      "source": "### Data frames *",
      "metadata": {}
    },
    {
      "cell_type": "markdown",
      "source": "El tipo \"data frame\" es una tabla de dos dimensiones cuyas columnas pueden tener tipos  distintos. Es la estructura utilizada para organizar la información en las aplicaciones de análisis de datos y estadística. Este tema se estudiará detenidamente en la segunda parte de la asignatura.",
      "metadata": {}
    },
    {
      "cell_type": "markdown",
      "source": "### Otros *",
      "metadata": {}
    },
    {
      "cell_type": "markdown",
      "source": "Hay muchos otros tipos de estructuras de datos, útiles para otras aplicaciones ([árboles][tree], [grafos][graph], etc.) pero que se salen de los límites de este curso introductorio.\n\n[tree]: https://en.wikipedia.org/wiki/Tree_(data_structure)\n\n[graph]: https://en.wikipedia.org/wiki/Graph_(abstract_data_type)",
      "metadata": {}
    },
    {
      "cell_type": "markdown",
      "source": "### Iteración en contenedores",
      "metadata": {}
    },
    {
      "cell_type": "markdown",
      "source": "Si queremos procesar todos los elementos de un contenedor podemos hacer un bucle y acceder a cada uno de ellos con la operación de indexado.",
      "metadata": {}
    },
    {
      "cell_type": "code",
      "source": "lista = [2,-7,30,0,5]\n\nfor k in range(len(lista)):\n    print(lista[k])",
      "metadata": {},
      "execution_count": 38,
      "outputs": [
        {
          "name": "stdout",
          "text": "2\n-7\n30\n0\n5\n",
          "output_type": "stream"
        }
      ]
    },
    {
      "cell_type": "markdown",
      "source": "Esta construcción es tan común que en Python podemos escribirla de forma mucho más natural:",
      "metadata": {}
    },
    {
      "cell_type": "code",
      "source": "for x in lista:\n    print(x)",
      "metadata": {},
      "execution_count": 39,
      "outputs": [
        {
          "name": "stdout",
          "text": "2\n-7\n30\n0\n5\n",
          "output_type": "stream"
        }
      ]
    },
    {
      "cell_type": "markdown",
      "source": "Esto funciona incluso en contenedores como `set` que no admiten el indexado. Los tipos contenedores se pueden \"recorrer\" directamente mediante un bucle `for`, visitando todos sus elementos.",
      "metadata": {}
    },
    {
      "cell_type": "code",
      "source": "for k,v  in obj.items():\n    print(k,v)",
      "metadata": {},
      "execution_count": 40,
      "outputs": [
        {
          "name": "stdout",
          "text": "masa 5.0\nposición (3, 5, 6)\nvelocidad (0, 0, 1)\nradio 5.7\n",
          "output_type": "stream"
        }
      ]
    },
    {
      "cell_type": "markdown",
      "source": "A veces resulta útil recorrer los elementos junto con su número de orden:",
      "metadata": {}
    },
    {
      "cell_type": "code",
      "source": "for k,x in enumerate(lista):\n    print(k,x)",
      "metadata": {},
      "execution_count": 41,
      "outputs": [
        {
          "name": "stdout",
          "text": "0 2\n1 -7\n2 30\n3 0\n4 5\n",
          "output_type": "stream"
        }
      ]
    },
    {
      "cell_type": "markdown",
      "source": "### Conversión",
      "metadata": {}
    },
    {
      "cell_type": "markdown",
      "source": "El nombre de un contenedor es a la vez una función para construir un contenedor de ese tipo a partir de otro contenedor cualquiera.",
      "metadata": {}
    },
    {
      "cell_type": "code",
      "source": "l = [4,2,2,3,3,3,3,1]\n\ntuple(l)",
      "metadata": {},
      "execution_count": 42,
      "outputs": [
        {
          "execution_count": 42,
          "output_type": "execute_result",
          "data": {
            "text/plain": "(4, 2, 2, 3, 3, 3, 3, 1)"
          },
          "metadata": {}
        }
      ]
    },
    {
      "cell_type": "code",
      "source": "set(l)",
      "metadata": {},
      "execution_count": 43,
      "outputs": [
        {
          "execution_count": 43,
          "output_type": "execute_result",
          "data": {
            "text/plain": "{1, 2, 3, 4}"
          },
          "metadata": {}
        }
      ]
    },
    {
      "cell_type": "code",
      "source": "list({5,4,3})",
      "metadata": {},
      "execution_count": 44,
      "outputs": [
        {
          "execution_count": 44,
          "output_type": "execute_result",
          "data": {
            "text/plain": "[3, 4, 5]"
          },
          "metadata": {}
        }
      ]
    },
    {
      "cell_type": "code",
      "source": "list(range(10))",
      "metadata": {},
      "execution_count": 45,
      "outputs": [
        {
          "execution_count": 45,
          "output_type": "execute_result",
          "data": {
            "text/plain": "[0, 1, 2, 3, 4, 5, 6, 7, 8, 9]"
          },
          "metadata": {}
        }
      ]
    },
    {
      "cell_type": "markdown",
      "source": "Esta característica funciona con cualquier otro tipo, no solo con contenedores:",
      "metadata": {}
    },
    {
      "cell_type": "code",
      "source": "float(5)",
      "metadata": {},
      "execution_count": 46,
      "outputs": [
        {
          "execution_count": 46,
          "output_type": "execute_result",
          "data": {
            "text/plain": "5.0"
          },
          "metadata": {}
        }
      ]
    },
    {
      "cell_type": "code",
      "source": "int('54')",
      "metadata": {},
      "execution_count": 47,
      "outputs": [
        {
          "execution_count": 47,
          "output_type": "execute_result",
          "data": {
            "text/plain": "54"
          },
          "metadata": {}
        }
      ]
    },
    {
      "cell_type": "markdown",
      "source": "Si la conversión no es posible se producirá un error.",
      "metadata": {}
    },
    {
      "cell_type": "markdown",
      "source": "### Subsecuencias",
      "metadata": {}
    },
    {
      "cell_type": "code",
      "source": "l = list(range(20))\n\nl",
      "metadata": {},
      "execution_count": 48,
      "outputs": [
        {
          "execution_count": 48,
          "output_type": "execute_result",
          "data": {
            "text/plain": "[0, 1, 2, 3, 4, 5, 6, 7, 8, 9, 10, 11, 12, 13, 14, 15, 16, 17, 18, 19]"
          },
          "metadata": {}
        }
      ]
    },
    {
      "cell_type": "code",
      "source": "l[:5]",
      "metadata": {},
      "execution_count": 49,
      "outputs": [
        {
          "execution_count": 49,
          "output_type": "execute_result",
          "data": {
            "text/plain": "[0, 1, 2, 3, 4]"
          },
          "metadata": {}
        }
      ]
    },
    {
      "cell_type": "code",
      "source": "l[4:]",
      "metadata": {},
      "execution_count": 50,
      "outputs": [
        {
          "execution_count": 50,
          "output_type": "execute_result",
          "data": {
            "text/plain": "[4, 5, 6, 7, 8, 9, 10, 11, 12, 13, 14, 15, 16, 17, 18, 19]"
          },
          "metadata": {}
        }
      ]
    },
    {
      "cell_type": "code",
      "source": "l[-3:]",
      "metadata": {},
      "execution_count": 51,
      "outputs": [
        {
          "execution_count": 51,
          "output_type": "execute_result",
          "data": {
            "text/plain": "[17, 18, 19]"
          },
          "metadata": {}
        }
      ]
    },
    {
      "cell_type": "code",
      "source": "l[5:10:2]",
      "metadata": {},
      "execution_count": 52,
      "outputs": [
        {
          "execution_count": 52,
          "output_type": "execute_result",
          "data": {
            "text/plain": "[5, 7, 9]"
          },
          "metadata": {}
        }
      ]
    },
    {
      "cell_type": "code",
      "source": "l[::-1]",
      "metadata": {},
      "execution_count": 53,
      "outputs": [
        {
          "execution_count": 53,
          "output_type": "execute_result",
          "data": {
            "text/plain": "[19, 18, 17, 16, 15, 14, 13, 12, 11, 10, 9, 8, 7, 6, 5, 4, 3, 2, 1, 0]"
          },
          "metadata": {}
        }
      ]
    },
    {
      "cell_type": "code",
      "source": "l[10:14] = [0,0,0]\n\nl",
      "metadata": {},
      "execution_count": 54,
      "outputs": [
        {
          "execution_count": 54,
          "output_type": "execute_result",
          "data": {
            "text/plain": "[0, 1, 2, 3, 4, 5, 6, 7, 8, 9, 0, 0, 0, 14, 15, 16, 17, 18, 19]"
          },
          "metadata": {}
        }
      ]
    },
    {
      "cell_type": "markdown",
      "source": "### List comprehensions",
      "metadata": {}
    },
    {
      "cell_type": "markdown",
      "source": "Cuando utilizamos un bucle para recorrer una lista o realizar un gran número de cálculos los resultados intermedios se pueden imprimir si se desea, pero en cualquier caso al final se pierden.\n\nMuchas veces surge la necesidad de construir una lista (o cualquier otro tipo de contenedor) a partir de los elementos de otra. Una forma de programarlo es empezar con una lista vacía e iterar mediante un bucle añadiendo elementos.",
      "metadata": {}
    },
    {
      "cell_type": "markdown",
      "source": "Supongamos que queremos construir una lista con los 100 primeros números cuadrados $1,4,9,16,\\ldots,10000$. En principio parece razonable hacer lo siguiente:",
      "metadata": {}
    },
    {
      "cell_type": "code",
      "source": "r = []\nfor k in range(1,101):\n    r.append(k**2)\n\nprint(r)",
      "metadata": {},
      "execution_count": 55,
      "outputs": [
        {
          "name": "stdout",
          "text": "[1, 4, 9, 16, 25, 36, 49, 64, 81, 100, 121, 144, 169, 196, 225, 256, 289, 324, 361, 400, 441, 484, 529, 576, 625, 676, 729, 784, 841, 900, 961, 1024, 1089, 1156, 1225, 1296, 1369, 1444, 1521, 1600, 1681, 1764, 1849, 1936, 2025, 2116, 2209, 2304, 2401, 2500, 2601, 2704, 2809, 2916, 3025, 3136, 3249, 3364, 3481, 3600, 3721, 3844, 3969, 4096, 4225, 4356, 4489, 4624, 4761, 4900, 5041, 5184, 5329, 5476, 5625, 5776, 5929, 6084, 6241, 6400, 6561, 6724, 6889, 7056, 7225, 7396, 7569, 7744, 7921, 8100, 8281, 8464, 8649, 8836, 9025, 9216, 9409, 9604, 9801, 10000]\n",
          "output_type": "stream"
        }
      ]
    },
    {
      "cell_type": "markdown",
      "source": "No está mal, pero los lenguajes modernos proporcionan una herramienta mucho más elegante para expresar este tipo de cálculos. Se conoce como [list comprehension](https://en.wikipedia.org/wiki/List_comprehension) (o *bucle implícito*) y trata de imitar la notación matemática para definir conjuntos:",
      "metadata": {}
    },
    {
      "cell_type": "markdown",
      "source": "$$ r = \\{ k^2 \\; : \\; \\forall k \\in \\mathbb{N},  \\;1 \\leq k \\leq 100 \\} $$",
      "metadata": {}
    },
    {
      "cell_type": "code",
      "source": "r = [ k**2 for k in range(1,101) ]\n\nprint(r)",
      "metadata": {},
      "execution_count": 56,
      "outputs": [
        {
          "name": "stdout",
          "text": "[1, 4, 9, 16, 25, 36, 49, 64, 81, 100, 121, 144, 169, 196, 225, 256, 289, 324, 361, 400, 441, 484, 529, 576, 625, 676, 729, 784, 841, 900, 961, 1024, 1089, 1156, 1225, 1296, 1369, 1444, 1521, 1600, 1681, 1764, 1849, 1936, 2025, 2116, 2209, 2304, 2401, 2500, 2601, 2704, 2809, 2916, 3025, 3136, 3249, 3364, 3481, 3600, 3721, 3844, 3969, 4096, 4225, 4356, 4489, 4624, 4761, 4900, 5041, 5184, 5329, 5476, 5625, 5776, 5929, 6084, 6241, 6400, 6561, 6724, 6889, 7056, 7225, 7396, 7569, 7744, 7921, 8100, 8281, 8464, 8649, 8836, 9025, 9216, 9409, 9604, 9801, 10000]\n",
          "output_type": "stream"
        }
      ]
    },
    {
      "cell_type": "code",
      "source": "[ k for k in range(100) if k%7 == 0 ]",
      "metadata": {},
      "execution_count": 57,
      "outputs": [
        {
          "execution_count": 57,
          "output_type": "execute_result",
          "data": {
            "text/plain": "[0, 7, 14, 21, 28, 35, 42, 49, 56, 63, 70, 77, 84, 91, 98]"
          },
          "metadata": {}
        }
      ]
    },
    {
      "cell_type": "code",
      "source": "[(a,b) for a in range(1,7) for b in range(1,7) if a + b >= 10 ]",
      "metadata": {},
      "execution_count": 58,
      "outputs": [
        {
          "execution_count": 58,
          "output_type": "execute_result",
          "data": {
            "text/plain": "[(4, 6), (5, 5), (5, 6), (6, 4), (6, 5), (6, 6)]"
          },
          "metadata": {}
        }
      ]
    },
    {
      "cell_type": "code",
      "source": "{ a+b for a in range(1,7) for b in range(1,7) }",
      "metadata": {},
      "execution_count": 59,
      "outputs": [
        {
          "execution_count": 59,
          "output_type": "execute_result",
          "data": {
            "text/plain": "{2, 3, 4, 5, 6, 7, 8, 9, 10, 11, 12}"
          },
          "metadata": {}
        }
      ]
    },
    {
      "cell_type": "code",
      "source": "sum([k**2 for k in range(100+1)])",
      "metadata": {},
      "execution_count": 60,
      "outputs": [
        {
          "execution_count": 60,
          "output_type": "execute_result",
          "data": {
            "text/plain": "338350"
          },
          "metadata": {}
        }
      ]
    },
    {
      "cell_type": "code",
      "source": "sum([k for k in [1,3,5,7,9]])",
      "metadata": {},
      "execution_count": 61,
      "outputs": [
        {
          "execution_count": 61,
          "output_type": "execute_result",
          "data": {
            "text/plain": "25"
          },
          "metadata": {}
        }
      ]
    },
    {
      "cell_type": "markdown",
      "source": "### Reducción *",
      "metadata": {}
    },
    {
      "cell_type": "code",
      "source": "np.product([3,5,7])",
      "metadata": {},
      "execution_count": 62,
      "outputs": [
        {
          "execution_count": 62,
          "output_type": "execute_result",
          "data": {
            "text/plain": "105"
          },
          "metadata": {}
        }
      ]
    },
    {
      "cell_type": "code",
      "source": "from functools import reduce\nimport operator\n\ndef product(l):\n    return reduce(operator.mul,l,1)",
      "metadata": {},
      "execution_count": 63,
      "outputs": []
    },
    {
      "cell_type": "code",
      "source": "product([3,5,7])",
      "metadata": {},
      "execution_count": 64,
      "outputs": [
        {
          "execution_count": 64,
          "output_type": "execute_result",
          "data": {
            "text/plain": "105"
          },
          "metadata": {}
        }
      ]
    },
    {
      "cell_type": "code",
      "source": "product(range(1,10+1))",
      "metadata": {},
      "execution_count": 65,
      "outputs": [
        {
          "execution_count": 65,
          "output_type": "execute_result",
          "data": {
            "text/plain": "3628800"
          },
          "metadata": {}
        }
      ]
    },
    {
      "cell_type": "markdown",
      "source": "### zip *",
      "metadata": {}
    },
    {
      "cell_type": "code",
      "source": "list( zip(range(3), \"Hola\") )",
      "metadata": {},
      "execution_count": 66,
      "outputs": [
        {
          "execution_count": 66,
          "output_type": "execute_result",
          "data": {
            "text/plain": "[(0, 'H'), (1, 'o'), (2, 'l')]"
          },
          "metadata": {}
        }
      ]
    },
    {
      "cell_type": "markdown",
      "source": "### Counter *",
      "metadata": {}
    },
    {
      "cell_type": "code",
      "source": "from collections import Counter",
      "metadata": {},
      "execution_count": 67,
      "outputs": []
    },
    {
      "cell_type": "code",
      "source": "Counter( [3,5,7,3,1,3,5])",
      "metadata": {},
      "execution_count": 68,
      "outputs": [
        {
          "execution_count": 68,
          "output_type": "execute_result",
          "data": {
            "text/plain": "Counter({3: 3, 5: 2, 7: 1, 1: 1})"
          },
          "metadata": {}
        }
      ]
    },
    {
      "cell_type": "code",
      "source": "Counter( \"sdfñlksjdfdsf\" )",
      "metadata": {},
      "execution_count": 69,
      "outputs": [
        {
          "execution_count": 69,
          "output_type": "execute_result",
          "data": {
            "text/plain": "Counter({'s': 3, 'd': 3, 'f': 3, 'ñ': 1, 'l': 1, 'k': 1, 'j': 1})"
          },
          "metadata": {}
        }
      ]
    },
    {
      "cell_type": "markdown",
      "source": "### Desestructuración *",
      "metadata": {}
    },
    {
      "cell_type": "markdown",
      "source": "En Python es posible asignar nombres a los elementos de una secuencia de forma muy natural.\n\nSupongamos que tenemos una tupla como la siguiente",
      "metadata": {}
    },
    {
      "cell_type": "code",
      "source": "t = (3,4,5)",
      "metadata": {},
      "execution_count": 70,
      "outputs": []
    },
    {
      "cell_type": "markdown",
      "source": "y queremos operar con sus elementos. Podemos acceder con un índice:",
      "metadata": {}
    },
    {
      "cell_type": "code",
      "source": "t[1] + t[2]",
      "metadata": {},
      "execution_count": 71,
      "outputs": [
        {
          "execution_count": 71,
          "output_type": "execute_result",
          "data": {
            "text/plain": "9"
          },
          "metadata": {}
        }
      ]
    },
    {
      "cell_type": "markdown",
      "source": "No hay ningún problema pero el acceso con índice se hace pesado si los elementos aparecen varias veces en el código. En estos casos es mejor ponerles nombre. Podemos hacer",
      "metadata": {}
    },
    {
      "cell_type": "code",
      "source": "b = t[1]\nc = t[2]\n\nb+c",
      "metadata": {},
      "execution_count": 72,
      "outputs": [
        {
          "execution_count": 72,
          "output_type": "execute_result",
          "data": {
            "text/plain": "9"
          },
          "metadata": {}
        }
      ]
    },
    {
      "cell_type": "markdown",
      "source": "Sin embargo Python nos permite algo más elegante:",
      "metadata": {}
    },
    {
      "cell_type": "code",
      "source": "_,b,c = t\n\nb+c",
      "metadata": {},
      "execution_count": 73,
      "outputs": [
        {
          "execution_count": 73,
          "output_type": "execute_result",
          "data": {
            "text/plain": "9"
          },
          "metadata": {}
        }
      ]
    },
    {
      "cell_type": "markdown",
      "source": "(El nombre `_`  se suele usar cuando no necesitamos ese elemento.)\n\nUsando esta característica podemos escribir varias asignaciones de una vez:",
      "metadata": {}
    },
    {
      "cell_type": "code",
      "source": "x, y = 23, 45",
      "metadata": {},
      "execution_count": 74,
      "outputs": []
    },
    {
      "cell_type": "markdown",
      "source": "Un nombre con asterisco captura dentro de una lista todos los elementos restantes:",
      "metadata": {}
    },
    {
      "cell_type": "code",
      "source": "s = 'Alberto'\n\nx, y, *z, w = s",
      "metadata": {},
      "execution_count": 75,
      "outputs": []
    },
    {
      "cell_type": "code",
      "source": "y",
      "metadata": {},
      "execution_count": 76,
      "outputs": [
        {
          "execution_count": 76,
          "output_type": "execute_result",
          "data": {
            "text/plain": "'l'"
          },
          "metadata": {}
        }
      ]
    },
    {
      "cell_type": "code",
      "source": "z",
      "metadata": {},
      "execution_count": 77,
      "outputs": [
        {
          "execution_count": 77,
          "output_type": "execute_result",
          "data": {
            "text/plain": "['b', 'e', 'r', 't']"
          },
          "metadata": {}
        }
      ]
    },
    {
      "cell_type": "markdown",
      "source": "La desestructuración de argumentos es muy práctica en combinación con las *list comprehensions*:",
      "metadata": {}
    },
    {
      "cell_type": "code",
      "source": "l = [(k,k**2) for k in range(5)]\nl",
      "metadata": {},
      "execution_count": 78,
      "outputs": [
        {
          "execution_count": 78,
          "output_type": "execute_result",
          "data": {
            "text/plain": "[(0, 0), (1, 1), (2, 4), (3, 9), (4, 16)]"
          },
          "metadata": {}
        }
      ]
    },
    {
      "cell_type": "code",
      "source": "[a+b for a,b in l]",
      "metadata": {},
      "execution_count": 79,
      "outputs": [
        {
          "execution_count": 79,
          "output_type": "execute_result",
          "data": {
            "text/plain": "[0, 2, 6, 12, 20]"
          },
          "metadata": {}
        }
      ]
    },
    {
      "cell_type": "markdown",
      "source": "### Tipos mutables *",
      "metadata": {}
    },
    {
      "cell_type": "markdown",
      "source": "¡Cuidado!",
      "metadata": {}
    },
    {
      "cell_type": "code",
      "source": "l = [1,2,3]\n\nb = (5,l)\n\nl[1] = 100\n\nb",
      "metadata": {},
      "execution_count": 80,
      "outputs": [
        {
          "execution_count": 80,
          "output_type": "execute_result",
          "data": {
            "text/plain": "(5, [1, 100, 3])"
          },
          "metadata": {}
        }
      ]
    },
    {
      "cell_type": "code",
      "source": "x = y = 0\n\ny = 1\n\nx",
      "metadata": {},
      "execution_count": 81,
      "outputs": [
        {
          "execution_count": 81,
          "output_type": "execute_result",
          "data": {
            "text/plain": "0"
          },
          "metadata": {}
        }
      ]
    },
    {
      "cell_type": "code",
      "source": "x = y = [0]\n\ny = [1]\n\nx",
      "metadata": {},
      "execution_count": 82,
      "outputs": [
        {
          "execution_count": 82,
          "output_type": "execute_result",
          "data": {
            "text/plain": "[0]"
          },
          "metadata": {}
        }
      ]
    },
    {
      "cell_type": "code",
      "source": "x = y = [0]\n\ny[0] = 1\n\nx",
      "metadata": {},
      "execution_count": 83,
      "outputs": [
        {
          "execution_count": 83,
          "output_type": "execute_result",
          "data": {
            "text/plain": "[1]"
          },
          "metadata": {}
        }
      ]
    },
    {
      "cell_type": "markdown",
      "source": "### Ejercicios",
      "metadata": {}
    },
    {
      "cell_type": "markdown",
      "source": "- Rehaz los ejercicios del capítulo anterior (solo los que tenga sentido hacerlo) usando *list comprehensions*.\n\n\n- Comprueba el [teorema de Nichomacus](https://en.wikipedia.org/wiki/Squared_triangular_number) para unos cuantos valores de $n$:\n\n $$1^3 + 2^3 + 3^3 + \\ldots + n^3 = (1+2+3+\\ldots+n)^2 $$\n\n\n- Crea una lista de [tripletas pitagóricas](https://en.wikipedia.org/wiki/Pythagorean_triple).",
      "metadata": {}
    }
  ]
}
