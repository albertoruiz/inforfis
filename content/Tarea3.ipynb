{
  "metadata": {
    "hide_input": false,
    "varInspector": {
      "cols": {
        "lenName": 16,
        "lenType": 16,
        "lenVar": 40
      },
      "kernels_config": {
        "python": {
          "delete_cmd_postfix": "",
          "delete_cmd_prefix": "del ",
          "library": "var_list.py",
          "varRefreshCmd": "print(var_dic_list())"
        },
        "r": {
          "delete_cmd_postfix": ") ",
          "delete_cmd_prefix": "rm(",
          "library": "var_list.r",
          "varRefreshCmd": "cat(var_dic_list()) "
        }
      },
      "types_to_exclude": [
        "module",
        "function",
        "builtin_function_or_method",
        "instance",
        "_Feature"
      ],
      "window_display": false
    },
    "kernelspec": {
      "name": "python",
      "display_name": "Python (Pyodide)",
      "language": "python"
    },
    "language_info": {
      "codemirror_mode": {
        "name": "python",
        "version": 3
      },
      "file_extension": ".py",
      "mimetype": "text/x-python",
      "name": "python",
      "nbconvert_exporter": "python",
      "pygments_lexer": "ipython3",
      "version": "3.8"
    }
  },
  "nbformat_minor": 4,
  "nbformat": 4,
  "cells": [
    {
      "cell_type": "markdown",
      "source": "Nombre:\n\nFecha:\n\n---",
      "metadata": {}
    },
    {
      "cell_type": "markdown",
      "source": "# Tarea 3",
      "metadata": {}
    },
    {
      "cell_type": "markdown",
      "source": "Resuelve los siguientes ejercicios usando únicamente los conceptos explicados en clase hasta ahora.",
      "metadata": {}
    },
    {
      "cell_type": "markdown",
      "source": "## Sumatorio",
      "metadata": {}
    },
    {
      "cell_type": "markdown",
      "source": "Calcula la suma siguiente:\n\n$$\\sum_{k=1}^{100} (-1)^k \\; k^3$$",
      "metadata": {}
    },
    {
      "cell_type": "code",
      "source": "",
      "metadata": {},
      "execution_count": null,
      "outputs": []
    },
    {
      "cell_type": "markdown",
      "source": "## Suma de cuadrados",
      "metadata": {}
    },
    {
      "cell_type": "markdown",
      "source": "Define la función\n\n$$ S(n) = \\sum_{k=0}^n k^2 $$\n\ny comprueba para varios valores de $n$ la identidad $S(n) = n(n+1)(2n+1)/6$.",
      "metadata": {}
    },
    {
      "cell_type": "code",
      "source": "",
      "metadata": {},
      "execution_count": null,
      "outputs": []
    },
    {
      "cell_type": "markdown",
      "source": "## Factorial",
      "metadata": {}
    },
    {
      "cell_type": "markdown",
      "source": "Define la función factorial:\n\n$$n! = \\prod_{k=1}^{n} k $$\n\ny apoyándote en ella define una función para calcular los [coeficientes binomiales](https://en.wikipedia.org/wiki/Binomial_coefficient).",
      "metadata": {}
    },
    {
      "cell_type": "code",
      "source": "",
      "metadata": {},
      "execution_count": null,
      "outputs": []
    },
    {
      "cell_type": "markdown",
      "source": "## Péndulo",
      "metadata": {}
    },
    {
      "cell_type": "markdown",
      "source": "El período de un péndulo de longitud $l$ para el caso de oscilaciones pequeñas es:\n\n$$ T_0 = 2\\pi \\sqrt{\\frac{l}{g}} $$\n\nEn general, si la amplitud de las oscilaciones es $\\phi$, el período puede aproximarse mediante: \n \n$$ T \\simeq T_0\\left(1 + \\frac{1}{16}\\phi^2 + \\frac{11}{3072}\\phi^4  \\right)$$",
      "metadata": {}
    },
    {
      "cell_type": "markdown",
      "source": "Define una función que calcule el período de un péndulo de longitud $l$ (metros) y amplitud $\\phi$ (grados). Usa variables locales para almacenar  $T_0$ y la corrección. \n\nPrueba su funcionamiento con dos valores de $l$ y dos de $\\phi$ (total 4 pruebas).",
      "metadata": {}
    },
    {
      "cell_type": "code",
      "source": "",
      "metadata": {},
      "execution_count": null,
      "outputs": []
    },
    {
      "cell_type": "markdown",
      "source": "## Herón",
      "metadata": {}
    },
    {
      "cell_type": "markdown",
      "source": "Escribe una función para calcular el área de un triángulo **a partir de las longitudes de sus lados** ([fórmula de Herón](https://en.wikipedia.org/wiki/Heron%27s_formula)). Muestra su funcionamiento en varios casos de prueba. ¿Qué ocurre cuando las longitudes dadas no forman un triángulo?",
      "metadata": {}
    },
    {
      "cell_type": "code",
      "source": "",
      "metadata": {},
      "execution_count": null,
      "outputs": []
    },
    {
      "cell_type": "markdown",
      "source": "## Función de error",
      "metadata": {}
    },
    {
      "cell_type": "markdown",
      "source": "Define la función\n\n$$\\Phi(t) = \\frac{1}{\\sqrt{2\\pi}}\\int_{0}^t e^{-\\frac{1}{2}x^2} dx$$\n\naproximando la integral mediante la regla del trapecio con $n$ tramos. Compara el resultado que obtienes para $\\Phi(0.46)$ con su valor real.",
      "metadata": {}
    },
    {
      "cell_type": "code",
      "source": "",
      "metadata": {},
      "execution_count": null,
      "outputs": []
    }
  ]
}