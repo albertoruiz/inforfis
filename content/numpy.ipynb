{
  "metadata": {
    "hide_input": false,
    "varInspector": {
      "cols": {
        "lenName": 16,
        "lenType": 16,
        "lenVar": 40
      },
      "kernels_config": {
        "python": {
          "delete_cmd_postfix": "",
          "delete_cmd_prefix": "del ",
          "library": "var_list.py",
          "varRefreshCmd": "print(var_dic_list())"
        },
        "r": {
          "delete_cmd_postfix": ") ",
          "delete_cmd_prefix": "rm(",
          "library": "var_list.r",
          "varRefreshCmd": "cat(var_dic_list()) "
        }
      },
      "types_to_exclude": [
        "module",
        "function",
        "builtin_function_or_method",
        "instance",
        "_Feature"
      ],
      "window_display": false
    },
    "kernelspec": {
      "name": "python",
      "display_name": "Python (Pyodide)",
      "language": "python"
    },
    "language_info": {
      "codemirror_mode": {
        "name": "python",
        "version": 3
      },
      "file_extension": ".py",
      "mimetype": "text/x-python",
      "name": "python",
      "nbconvert_exporter": "python",
      "pygments_lexer": "ipython3",
      "version": "3.8"
    }
  },
  "nbformat_minor": 4,
  "nbformat": 4,
  "cells": [
    {
      "cell_type": "markdown",
      "source": "<p style=\"background:#f4f4f4; padding:5px; margin-left:-5px;margin-bottom:0px\">\nInformática - 1º de Física\n<br>\n<strong>Introducción a la Programación</strong>\n</p>",
      "metadata": {}
    },
    {
      "cell_type": "markdown",
      "source": "## Tema 5. Arrays",
      "metadata": {}
    },
    {
      "cell_type": "markdown",
      "source": "Como anticipamos al hablar de los contenedores, el [array](https://en.wikipedia.org/wiki/Array_data_type) es el tipo de dato fundamental para la computación científica.",
      "metadata": {}
    },
    {
      "cell_type": "markdown",
      "source": "Es una estructura multidimensional cuyos elementos se especifican con una secuencia de índices. Un array de dimensión 1 es como un vector, cuyos elementos se especifican como `a[j]`. Un array de dimensión 2 es como una matriz, cuyos elementos se especifican con dos índices: `a[i,j]` (i-ésima fila, j-ésima columna). Un array de dimensión 3 admite tres índices `a[i,j,k]` (fila, columna, capa). Y así sucesivamente. Esta referencia a elementos de un array con el corchete se llama indexado.\n\nLa característica fundamental de los arrays es que podemos operar con todos sus elementos de forma automática sin bucles ni indexado explícito. Esto permite expresar los algoritmos de análisis de datos de forma muy elegante.",
      "metadata": {}
    },
    {
      "cell_type": "markdown",
      "source": "Las operaciones con arrays están disponibles en el módulo [numpy](https://en.wikipedia.org/wiki/NumPy), que es el corazón del ecosistema de computación científica de Python ([scipy](https://www.scipy.org/)), y una de las causas de la gran popularidad que ha adquirido este lenguaje.\n\nEstas funciones pueden agruparse en las siguientes categorías:\n\n- creación de arrays\n- inspección de estructura\n- operaciones \"vectorizadas\" con *broadcasting* automático\n- reducción por filas o columnas\n- *slicing* (troceado) y reconfiguración\n- *masks* (selección de elementos en base a condiciones lógicas)\n- álgebra lineal",
      "metadata": {}
    },
    {
      "cell_type": "markdown",
      "source": "### Operaciones básicas",
      "metadata": {}
    },
    {
      "cell_type": "markdown",
      "source": "A continuación mostramos algunos ejemplos de uso de las funciones más importantes. La tradición es usar el prefijo `np` para indicar las funciones que trabajan con arrays. ",
      "metadata": {}
    },
    {
      "cell_type": "code",
      "source": "import numpy as np",
      "metadata": {},
      "execution_count": 1,
      "outputs": []
    },
    {
      "cell_type": "markdown",
      "source": "Construcción a partir de listas (u otros contenedores):",
      "metadata": {}
    },
    {
      "cell_type": "code",
      "source": "v = np.array([2,-3,7])",
      "metadata": {},
      "execution_count": 2,
      "outputs": []
    },
    {
      "cell_type": "code",
      "source": "v[1]",
      "metadata": {},
      "execution_count": 3,
      "outputs": [
        {
          "execution_count": 3,
          "output_type": "execute_result",
          "data": {
            "text/plain": "-3"
          },
          "metadata": {}
        }
      ]
    },
    {
      "cell_type": "code",
      "source": "m = np.array([[5,3, 2,10],\n              [2,0, 7, 0],\n              [1,1,-3, 6]])",
      "metadata": {},
      "execution_count": 4,
      "outputs": []
    },
    {
      "cell_type": "code",
      "source": "m[1,2]",
      "metadata": {},
      "execution_count": 5,
      "outputs": [
        {
          "execution_count": 5,
          "output_type": "execute_result",
          "data": {
            "text/plain": "7"
          },
          "metadata": {}
        }
      ]
    },
    {
      "cell_type": "code",
      "source": "m[2]",
      "metadata": {},
      "execution_count": 6,
      "outputs": [
        {
          "execution_count": 6,
          "output_type": "execute_result",
          "data": {
            "text/plain": "array([ 1,  1, -3,  6])"
          },
          "metadata": {}
        }
      ]
    },
    {
      "cell_type": "markdown",
      "source": "Inspección de su tipo y estructura:",
      "metadata": {}
    },
    {
      "cell_type": "code",
      "source": "type(m)",
      "metadata": {},
      "execution_count": 7,
      "outputs": [
        {
          "execution_count": 7,
          "output_type": "execute_result",
          "data": {
            "text/plain": "numpy.ndarray"
          },
          "metadata": {}
        }
      ]
    },
    {
      "cell_type": "code",
      "source": "m.dtype",
      "metadata": {},
      "execution_count": 8,
      "outputs": [
        {
          "execution_count": 8,
          "output_type": "execute_result",
          "data": {
            "text/plain": "dtype('int32')"
          },
          "metadata": {}
        }
      ]
    },
    {
      "cell_type": "code",
      "source": "m.shape",
      "metadata": {},
      "execution_count": 9,
      "outputs": [
        {
          "execution_count": 9,
          "output_type": "execute_result",
          "data": {
            "text/plain": "(3, 4)"
          },
          "metadata": {}
        }
      ]
    },
    {
      "cell_type": "code",
      "source": "m.ndim",
      "metadata": {},
      "execution_count": 10,
      "outputs": [
        {
          "execution_count": 10,
          "output_type": "execute_result",
          "data": {
            "text/plain": "2"
          },
          "metadata": {}
        }
      ]
    },
    {
      "cell_type": "code",
      "source": "len(m)",
      "metadata": {},
      "execution_count": 11,
      "outputs": [
        {
          "execution_count": 11,
          "output_type": "execute_result",
          "data": {
            "text/plain": "3"
          },
          "metadata": {}
        }
      ]
    },
    {
      "cell_type": "code",
      "source": "m.size",
      "metadata": {},
      "execution_count": 12,
      "outputs": [
        {
          "execution_count": 12,
          "output_type": "execute_result",
          "data": {
            "text/plain": "12"
          },
          "metadata": {}
        }
      ]
    },
    {
      "cell_type": "markdown",
      "source": "Operaciones elemento a elemento automáticas:",
      "metadata": {}
    },
    {
      "cell_type": "code",
      "source": "v * np.array([10,0,5])",
      "metadata": {},
      "execution_count": 13,
      "outputs": [
        {
          "execution_count": 13,
          "output_type": "execute_result",
          "data": {
            "text/plain": "array([20,  0, 35])"
          },
          "metadata": {}
        }
      ]
    },
    {
      "cell_type": "code",
      "source": "5*m + 2",
      "metadata": {},
      "execution_count": 14,
      "outputs": [
        {
          "execution_count": 14,
          "output_type": "execute_result",
          "data": {
            "text/plain": "array([[ 27,  17,  12,  52],\n       [ 12,   2,  37,   2],\n       [  7,   7, -13,  32]])"
          },
          "metadata": {}
        }
      ]
    },
    {
      "cell_type": "markdown",
      "source": "Constructores especiales:",
      "metadata": {}
    },
    {
      "cell_type": "code",
      "source": "np.zeros([2,3])",
      "metadata": {},
      "execution_count": 15,
      "outputs": [
        {
          "execution_count": 15,
          "output_type": "execute_result",
          "data": {
            "text/plain": "array([[0., 0., 0.],\n       [0., 0., 0.]])"
          },
          "metadata": {}
        }
      ]
    },
    {
      "cell_type": "code",
      "source": "np.ones([4])",
      "metadata": {},
      "execution_count": 16,
      "outputs": [
        {
          "execution_count": 16,
          "output_type": "execute_result",
          "data": {
            "text/plain": "array([1., 1., 1., 1.])"
          },
          "metadata": {}
        }
      ]
    },
    {
      "cell_type": "code",
      "source": "np.linspace(0,5,11)",
      "metadata": {},
      "execution_count": 17,
      "outputs": [
        {
          "execution_count": 17,
          "output_type": "execute_result",
          "data": {
            "text/plain": "array([0. , 0.5, 1. , 1.5, 2. , 2.5, 3. , 3.5, 4. , 4.5, 5. ])"
          },
          "metadata": {}
        }
      ]
    },
    {
      "cell_type": "code",
      "source": "np.arange(10)",
      "metadata": {},
      "execution_count": 18,
      "outputs": [
        {
          "execution_count": 18,
          "output_type": "execute_result",
          "data": {
            "text/plain": "array([0, 1, 2, 3, 4, 5, 6, 7, 8, 9])"
          },
          "metadata": {}
        }
      ]
    },
    {
      "cell_type": "code",
      "source": "np.arange(1,10,0.5)",
      "metadata": {},
      "execution_count": 19,
      "outputs": [
        {
          "execution_count": 19,
          "output_type": "execute_result",
          "data": {
            "text/plain": "array([1. , 1.5, 2. , 2.5, 3. , 3.5, 4. , 4.5, 5. , 5.5, 6. , 6.5, 7. ,\n       7.5, 8. , 8.5, 9. , 9.5])"
          },
          "metadata": {}
        }
      ]
    },
    {
      "cell_type": "code",
      "source": "np.eye(7)",
      "metadata": {},
      "execution_count": 20,
      "outputs": [
        {
          "execution_count": 20,
          "output_type": "execute_result",
          "data": {
            "text/plain": "array([[1., 0., 0., 0., 0., 0., 0.],\n       [0., 1., 0., 0., 0., 0., 0.],\n       [0., 0., 1., 0., 0., 0., 0.],\n       [0., 0., 0., 1., 0., 0., 0.],\n       [0., 0., 0., 0., 1., 0., 0.],\n       [0., 0., 0., 0., 0., 1., 0.],\n       [0., 0., 0., 0., 0., 0., 1.]])"
          },
          "metadata": {}
        }
      ]
    },
    {
      "cell_type": "markdown",
      "source": "Iteración, a lo largo de la primera dimensión:",
      "metadata": {}
    },
    {
      "cell_type": "code",
      "source": "for e in np.ones(4):\n    print(e)",
      "metadata": {},
      "execution_count": 21,
      "outputs": [
        {
          "name": "stdout",
          "text": "1.0\n1.0\n1.0\n1.0\n",
          "output_type": "stream"
        }
      ]
    },
    {
      "cell_type": "code",
      "source": "for e in m:\n    print(e)",
      "metadata": {},
      "execution_count": 22,
      "outputs": [
        {
          "name": "stdout",
          "text": "[ 5  3  2 10]\n[2 0 7 0]\n[ 1  1 -3  6]\n",
          "output_type": "stream"
        }
      ]
    },
    {
      "cell_type": "code",
      "source": "sum(m)",
      "metadata": {},
      "execution_count": 23,
      "outputs": [
        {
          "execution_count": 23,
          "output_type": "execute_result",
          "data": {
            "text/plain": "array([ 8,  4,  6, 16])"
          },
          "metadata": {}
        }
      ]
    },
    {
      "cell_type": "code",
      "source": "np.sum(m,axis=1)",
      "metadata": {},
      "execution_count": 24,
      "outputs": [
        {
          "execution_count": 24,
          "output_type": "execute_result",
          "data": {
            "text/plain": "array([20,  9,  5])"
          },
          "metadata": {}
        }
      ]
    },
    {
      "cell_type": "markdown",
      "source": "Operaciones matriciales:",
      "metadata": {}
    },
    {
      "cell_type": "code",
      "source": "m.T",
      "metadata": {},
      "execution_count": 25,
      "outputs": [
        {
          "execution_count": 25,
          "output_type": "execute_result",
          "data": {
            "text/plain": "array([[ 5,  2,  1],\n       [ 3,  0,  1],\n       [ 2,  7, -3],\n       [10,  0,  6]])"
          },
          "metadata": {}
        }
      ]
    },
    {
      "cell_type": "code",
      "source": "v = np.array([3,2,-5,8])",
      "metadata": {},
      "execution_count": 26,
      "outputs": []
    },
    {
      "cell_type": "markdown",
      "source": "El operador `@` (abreviatura de la función [np.dot](https://docs.scipy.org/doc/numpy-1.15.0/reference/generated/numpy.dot.html)) es el producto de matrices, el producto matriz-vector y, en general, realiza la [contracción](https://en.wikipedia.org/wiki/Tensor_contraction) de dos arrays multidimensionales.",
      "metadata": {}
    },
    {
      "cell_type": "code",
      "source": "m @ v",
      "metadata": {},
      "execution_count": 27,
      "outputs": [
        {
          "execution_count": 27,
          "output_type": "execute_result",
          "data": {
            "text/plain": "array([ 91, -29,  68])"
          },
          "metadata": {}
        }
      ]
    },
    {
      "cell_type": "code",
      "source": "np.diag([10,0,1]) @ m",
      "metadata": {},
      "execution_count": 28,
      "outputs": [
        {
          "execution_count": 28,
          "output_type": "execute_result",
          "data": {
            "text/plain": "array([[ 50,  30,  20, 100],\n       [  0,   0,   0,   0],\n       [  1,   1,  -3,   6]])"
          },
          "metadata": {}
        }
      ]
    },
    {
      "cell_type": "markdown",
      "source": "Funciones matemáticas optimizadas para arrays, elemento a elemento:",
      "metadata": {}
    },
    {
      "cell_type": "code",
      "source": "x = np.linspace(0,2*np.pi,30)\n\nx",
      "metadata": {},
      "execution_count": 29,
      "outputs": [
        {
          "execution_count": 29,
          "output_type": "execute_result",
          "data": {
            "text/plain": "array([0.        , 0.21666156, 0.43332312, 0.64998469, 0.86664625,\n       1.08330781, 1.29996937, 1.51663094, 1.7332925 , 1.94995406,\n       2.16661562, 2.38327719, 2.59993875, 2.81660031, 3.03326187,\n       3.24992343, 3.466585  , 3.68324656, 3.89990812, 4.11656968,\n       4.33323125, 4.54989281, 4.76655437, 4.98321593, 5.1998775 ,\n       5.41653906, 5.63320062, 5.84986218, 6.06652374, 6.28318531])"
          },
          "metadata": {}
        }
      ]
    },
    {
      "cell_type": "code",
      "source": "y = np.sin(x) + np.cos(2*x)\ny",
      "metadata": {},
      "execution_count": 30,
      "outputs": [
        {
          "execution_count": 30,
          "output_type": "execute_result",
          "data": {
            "text/plain": "array([ 1.        ,  1.12254586,  1.06727539,  0.87270255,  0.60038006,\n        0.32232498,  0.10669282,  0.00439546,  0.03917335,  0.20298123,\n        0.45755084,  0.74183837,  0.9839623 ,  1.1153946 ,  1.08473957,\n        0.86850154,  0.47679154, -0.04714542, -0.63356055, -1.19782715,\n       -1.65497221, -1.93447969, -1.99267137, -1.82040717, -1.44469911,\n       -0.92394405, -0.33764588,  0.22749718,  0.69260498,  1.        ])"
          },
          "metadata": {}
        }
      ]
    },
    {
      "cell_type": "markdown",
      "source": "Los arrays son el tipo de datos que normalmente se utiliza para producir gráficas, como veremos en detalle en el siguiente capítulo.",
      "metadata": {}
    },
    {
      "cell_type": "code",
      "source": "import matplotlib.pyplot as plt",
      "metadata": {},
      "execution_count": 31,
      "outputs": []
    },
    {
      "cell_type": "code",
      "source": "plt.plot(x,y);",
      "metadata": {},
      "execution_count": 32,
      "outputs": [
        {
          "output_type": "display_data",
          "data": {
            "text/plain": "<Figure size 640x480 with 1 Axes>",
            "image/png": "[encoded data removed]"
          },
          "metadata": {}
        }
      ]
    },
    {
      "cell_type": "markdown",
      "source": "Reconfiguración de los elementos:",
      "metadata": {}
    },
    {
      "cell_type": "code",
      "source": "np.arange(12).reshape(3,2,2)",
      "metadata": {},
      "execution_count": 33,
      "outputs": [
        {
          "execution_count": 33,
          "output_type": "execute_result",
          "data": {
            "text/plain": "array([[[ 0,  1],\n        [ 2,  3]],\n\n       [[ 4,  5],\n        [ 6,  7]],\n\n       [[ 8,  9],\n        [10, 11]]])"
          },
          "metadata": {}
        }
      ]
    },
    {
      "cell_type": "code",
      "source": "np.arange(5).reshape(-1,1)",
      "metadata": {},
      "execution_count": 34,
      "outputs": [
        {
          "execution_count": 34,
          "output_type": "execute_result",
          "data": {
            "text/plain": "array([[0],\n       [1],\n       [2],\n       [3],\n       [4]])"
          },
          "metadata": {}
        }
      ]
    },
    {
      "cell_type": "markdown",
      "source": "### Matrices por bloques",
      "metadata": {}
    },
    {
      "cell_type": "code",
      "source": "np.append(m,[[100,200,300,400],\n             [0,  10,  0,  1] ],axis=0)",
      "metadata": {
        "tags": [],
        "trusted": true
      },
      "execution_count": 35,
      "outputs": [
        {
          "execution_count": 35,
          "output_type": "execute_result",
          "data": {
            "text/plain": "array([[  5,   3,   2,  10],\n       [  2,   0,   7,   0],\n       [  1,   1,  -3,   6],\n       [100, 200, 300, 400],\n       [  0,  10,   0,   1]])"
          },
          "metadata": {}
        }
      ]
    },
    {
      "cell_type": "code",
      "source": "np.hstack([np.zeros([3,3]),np.ones([3,2])])",
      "metadata": {},
      "execution_count": 36,
      "outputs": [
        {
          "execution_count": 36,
          "output_type": "execute_result",
          "data": {
            "text/plain": "array([[0., 0., 0., 1., 1.],\n       [0., 0., 0., 1., 1.],\n       [0., 0., 0., 1., 1.]])"
          },
          "metadata": {}
        }
      ]
    },
    {
      "cell_type": "code",
      "source": "np.vstack([np.eye(3),5*np.ones([2,3])])",
      "metadata": {},
      "execution_count": 37,
      "outputs": [
        {
          "execution_count": 37,
          "output_type": "execute_result",
          "data": {
            "text/plain": "array([[1., 0., 0.],\n       [0., 1., 0.],\n       [0., 0., 1.],\n       [5., 5., 5.],\n       [5., 5., 5.]])"
          },
          "metadata": {}
        }
      ]
    },
    {
      "cell_type": "markdown",
      "source": "### Automatic broadcasting",
      "metadata": {}
    },
    {
      "cell_type": "markdown",
      "source": "Las operaciones elemento a elemento argumentos con las mismas dimensiones. Pero si alguna dimensión es igual a uno, se sobreentiende que los elementos se replican en esa dimensión para coincidir con el otro array.",
      "metadata": {}
    },
    {
      "cell_type": "code",
      "source": "m = np.array([[1, 2, 3, 4]\n             ,[5, 6, 7, 8]\n             ,[9,10,11,12]])",
      "metadata": {},
      "execution_count": 38,
      "outputs": []
    },
    {
      "cell_type": "code",
      "source": "m + [[10],\n     [20],\n     [30]]",
      "metadata": {},
      "execution_count": 39,
      "outputs": [
        {
          "execution_count": 39,
          "output_type": "execute_result",
          "data": {
            "text/plain": "array([[11, 12, 13, 14],\n       [25, 26, 27, 28],\n       [39, 40, 41, 42]])"
          },
          "metadata": {}
        }
      ]
    },
    {
      "cell_type": "code",
      "source": "m + [100,200,300,400]",
      "metadata": {},
      "execution_count": 40,
      "outputs": [
        {
          "execution_count": 40,
          "output_type": "execute_result",
          "data": {
            "text/plain": "array([[101, 202, 303, 404],\n       [105, 206, 307, 408],\n       [109, 210, 311, 412]])"
          },
          "metadata": {}
        }
      ]
    },
    {
      "cell_type": "code",
      "source": "np.array([[1,2,3,4]])   + np.array([[100],\n                                    [200],\n                                    [300]])",
      "metadata": {},
      "execution_count": 41,
      "outputs": [
        {
          "execution_count": 41,
          "output_type": "execute_result",
          "data": {
            "text/plain": "array([[101, 102, 103, 104],\n       [201, 202, 203, 204],\n       [301, 302, 303, 304]])"
          },
          "metadata": {}
        }
      ]
    },
    {
      "cell_type": "markdown",
      "source": "### Slices",
      "metadata": {}
    },
    {
      "cell_type": "markdown",
      "source": "Extracción de elementos y \"submatrices\" o \"subarrays\", seleccionando intervalos de filas, columnas, etc.:",
      "metadata": {}
    },
    {
      "cell_type": "code",
      "source": "m = np.arange(42).reshape(6,7)\nm",
      "metadata": {},
      "execution_count": 42,
      "outputs": [
        {
          "execution_count": 42,
          "output_type": "execute_result",
          "data": {
            "text/plain": "array([[ 0,  1,  2,  3,  4,  5,  6],\n       [ 7,  8,  9, 10, 11, 12, 13],\n       [14, 15, 16, 17, 18, 19, 20],\n       [21, 22, 23, 24, 25, 26, 27],\n       [28, 29, 30, 31, 32, 33, 34],\n       [35, 36, 37, 38, 39, 40, 41]])"
          },
          "metadata": {}
        }
      ]
    },
    {
      "cell_type": "code",
      "source": "m[1,2]",
      "metadata": {},
      "execution_count": 43,
      "outputs": [
        {
          "execution_count": 43,
          "output_type": "execute_result",
          "data": {
            "text/plain": "9"
          },
          "metadata": {}
        }
      ]
    },
    {
      "cell_type": "code",
      "source": "m[2:5,1:4]",
      "metadata": {},
      "execution_count": 44,
      "outputs": [
        {
          "execution_count": 44,
          "output_type": "execute_result",
          "data": {
            "text/plain": "array([[15, 16, 17],\n       [22, 23, 24],\n       [29, 30, 31]])"
          },
          "metadata": {}
        }
      ]
    },
    {
      "cell_type": "code",
      "source": "m[:3, 4:]",
      "metadata": {},
      "execution_count": 45,
      "outputs": [
        {
          "execution_count": 45,
          "output_type": "execute_result",
          "data": {
            "text/plain": "array([[ 4,  5,  6],\n       [11, 12, 13],\n       [18, 19, 20]])"
          },
          "metadata": {}
        }
      ]
    },
    {
      "cell_type": "code",
      "source": "m[[1,0,0,2,1],:]",
      "metadata": {},
      "execution_count": 46,
      "outputs": [
        {
          "execution_count": 46,
          "output_type": "execute_result",
          "data": {
            "text/plain": "array([[ 7,  8,  9, 10, 11, 12, 13],\n       [ 0,  1,  2,  3,  4,  5,  6],\n       [ 0,  1,  2,  3,  4,  5,  6],\n       [14, 15, 16, 17, 18, 19, 20],\n       [ 7,  8,  9, 10, 11, 12, 13]])"
          },
          "metadata": {}
        }
      ]
    },
    {
      "cell_type": "markdown",
      "source": "Los índices negativos indican que se empieza a contar desde el final.",
      "metadata": {}
    },
    {
      "cell_type": "code",
      "source": "# las dos últimas columnas y todas las filas menos las tres últimas.\nm[:-3,-2:]",
      "metadata": {},
      "execution_count": 47,
      "outputs": [
        {
          "execution_count": 47,
          "output_type": "execute_result",
          "data": {
            "text/plain": "array([[ 5,  6],\n       [12, 13],\n       [19, 20]])"
          },
          "metadata": {}
        }
      ]
    },
    {
      "cell_type": "code",
      "source": "# la penúltima columna\nm[:,-2]",
      "metadata": {},
      "execution_count": 48,
      "outputs": [
        {
          "execution_count": 48,
          "output_type": "execute_result",
          "data": {
            "text/plain": "array([ 5, 12, 19, 26, 33, 40])"
          },
          "metadata": {}
        }
      ]
    },
    {
      "cell_type": "code",
      "source": "# la penúltima columna pero como array 2D (matriz), para que se vea como un vector columna\nm[:,[-2]]",
      "metadata": {},
      "execution_count": 49,
      "outputs": [
        {
          "execution_count": 49,
          "output_type": "execute_result",
          "data": {
            "text/plain": "array([[ 5],\n       [12],\n       [19],\n       [26],\n       [33],\n       [40]])"
          },
          "metadata": {}
        }
      ]
    },
    {
      "cell_type": "markdown",
      "source": "### Masks",
      "metadata": {}
    },
    {
      "cell_type": "markdown",
      "source": "Son arrays de valores lógicos.",
      "metadata": {}
    },
    {
      "cell_type": "markdown",
      "source": "Extracción de elementos que cumplen una condición:",
      "metadata": {}
    },
    {
      "cell_type": "code",
      "source": "n = np.arange(10)\n\nn",
      "metadata": {},
      "execution_count": 50,
      "outputs": [
        {
          "execution_count": 50,
          "output_type": "execute_result",
          "data": {
            "text/plain": "array([0, 1, 2, 3, 4, 5, 6, 7, 8, 9])"
          },
          "metadata": {}
        }
      ]
    },
    {
      "cell_type": "code",
      "source": "n < 5",
      "metadata": {},
      "execution_count": 51,
      "outputs": [
        {
          "execution_count": 51,
          "output_type": "execute_result",
          "data": {
            "text/plain": "array([ True,  True,  True,  True,  True, False, False, False, False,\n       False])"
          },
          "metadata": {}
        }
      ]
    },
    {
      "cell_type": "code",
      "source": "n[n<5]",
      "metadata": {},
      "execution_count": 52,
      "outputs": [
        {
          "execution_count": 52,
          "output_type": "execute_result",
          "data": {
            "text/plain": "array([0, 1, 2, 3, 4])"
          },
          "metadata": {}
        }
      ]
    },
    {
      "cell_type": "markdown",
      "source": "Reducción de arrays lógicos:",
      "metadata": {}
    },
    {
      "cell_type": "code",
      "source": "np.all( n > 3 )",
      "metadata": {},
      "execution_count": 53,
      "outputs": [
        {
          "execution_count": 53,
          "output_type": "execute_result",
          "data": {
            "text/plain": "False"
          },
          "metadata": {}
        }
      ]
    },
    {
      "cell_type": "code",
      "source": "np.any( n == 2 )",
      "metadata": {},
      "execution_count": 54,
      "outputs": [
        {
          "execution_count": 54,
          "output_type": "execute_result",
          "data": {
            "text/plain": "True"
          },
          "metadata": {}
        }
      ]
    },
    {
      "cell_type": "markdown",
      "source": "Operaciones similares a list comprehensions:",
      "metadata": {}
    },
    {
      "cell_type": "code",
      "source": "k = np.arange(1,101)\n\n(k ** 2)[(k>10) & (k**3 < 2000)]",
      "metadata": {},
      "execution_count": 55,
      "outputs": [
        {
          "execution_count": 55,
          "output_type": "execute_result",
          "data": {
            "text/plain": "array([121, 144])"
          },
          "metadata": {}
        }
      ]
    },
    {
      "cell_type": "markdown",
      "source": "### Funciones con instrucciones de control",
      "metadata": {}
    },
    {
      "cell_type": "markdown",
      "source": "Cuando la función que deseamos representar contiene instrucciones `if`, `for`, etc., y no solo operaciones matemáticas, entonces no funcionará automáticamente sobre secuencias. Por ejemplo:\n\n$$f(x) = \\begin{cases}sin(x), & x\\leq \\frac{\\pi}{2}\\\\e^{\\left(\\frac{\\pi}{2}-x\\right)}, &x> \\frac{\\pi}{2}\\end{cases}$$",
      "metadata": {}
    },
    {
      "cell_type": "code",
      "source": "import numpy             as np\nimport matplotlib.pyplot as plt",
      "metadata": {},
      "execution_count": 56,
      "outputs": []
    },
    {
      "cell_type": "code",
      "source": "def f(x):\n    if x<= np.pi/2:\n        return np.sin(x)\n    else:\n        return np.exp(np.pi/2-x)",
      "metadata": {},
      "execution_count": 57,
      "outputs": []
    },
    {
      "cell_type": "code",
      "source": "f(2.3)",
      "metadata": {},
      "execution_count": 58,
      "outputs": [
        {
          "execution_count": 58,
          "output_type": "execute_result",
          "data": {
            "text/plain": "0.48229289997028746"
          },
          "metadata": {}
        }
      ]
    },
    {
      "cell_type": "code",
      "source": "D = np.linspace(0,5,100)",
      "metadata": {},
      "execution_count": 59,
      "outputs": []
    },
    {
      "cell_type": "code",
      "source": "# descomentando la siguiente línea dará error\n# plt.plot(D, f(D))",
      "metadata": {},
      "execution_count": 60,
      "outputs": []
    },
    {
      "cell_type": "markdown",
      "source": "Una posibilidad es crear una secuencia evaluando explícitamente cada elemento:",
      "metadata": {}
    },
    {
      "cell_type": "code",
      "source": "plt.plot( D, [f(x) for x in D] );",
      "metadata": {},
      "execution_count": 61,
      "outputs": [
        {
          "output_type": "display_data",
          "data": {
            "text/plain": "<Figure size 640x480 with 1 Axes>",
            "image/png": "[encoded data removed]"
          },
          "metadata": {}
        }
      ]
    },
    {
      "cell_type": "markdown",
      "source": "Pero lo mejor es utilizar la función `np.where`, que hace un papel análogo a if-else sobre arrays.",
      "metadata": {}
    },
    {
      "cell_type": "code",
      "source": "def h(x):\n    return np.where(x<=np.pi/2, np.sin(x), np.exp(np.pi/2-x))",
      "metadata": {},
      "execution_count": 62,
      "outputs": []
    },
    {
      "cell_type": "code",
      "source": "plt.plot(D,h(D));",
      "metadata": {},
      "execution_count": 63,
      "outputs": [
        {
          "output_type": "display_data",
          "data": {
            "text/plain": "<Figure size 640x480 with 1 Axes>",
            "image/png": "[encoded data removed]"
          },
          "metadata": {}
        }
      ]
    },
    {
      "cell_type": "markdown",
      "source": "### Lectura desde archivo",
      "metadata": {}
    },
    {
      "cell_type": "markdown",
      "source": "Los arrays se pueden guardar en ficheros de [texto plano](https://docs.scipy.org/doc/numpy-1.13.0/reference/generated/numpy.savetxt.html#numpy.savetxt) o en un [formato comprimido especial](https://docs.scipy.org/doc/numpy-1.13.0/reference/generated/numpy.savez_compressed.html#numpy.savez_compressed) para su uso posterior.",
      "metadata": {}
    },
    {
      "cell_type": "markdown",
      "source": "En la carpeta `datos` hay un archivo de texto con una tabla de números. Puedes abrirlo con jupyter para echar un vistazo.",
      "metadata": {}
    },
    {
      "cell_type": "code",
      "source": "hubble = np.loadtxt('datos/hubble-0.txt')\nhubble",
      "metadata": {},
      "execution_count": 64,
      "outputs": [
        {
          "execution_count": 64,
          "output_type": "execute_result",
          "data": {
            "text/plain": "array([[1.8287e+04, 6.0998e-02, 1.7620e+01],\n       [5.6910e+03, 1.8983e-02, 1.5000e+01],\n       [2.6382e+04, 8.8000e-02, 1.8590e+01],\n       [5.9960e+03, 2.0000e-02, 1.5540e+01],\n       [1.9202e+04, 6.4051e-02, 1.5300e+01],\n       [2.3684e+04, 7.9000e-02, 1.6560e+01],\n       [1.1702e+04, 3.9034e-02, 1.7140e+01],\n       [1.7284e+04, 5.7653e-02, 1.3500e+01],\n       [1.3491e+04, 4.5000e-02, 1.7800e+01],\n       [1.0566e+04, 3.5244e-02, 1.5250e+01],\n       [1.4718e+04, 4.9094e-02, 1.5600e+01],\n       [1.3491e+04, 4.5000e-02, 1.4520e+01],\n       [1.6325e+04, 5.4453e-02, 1.5300e+01],\n       [2.0686e+04, 6.9000e-02, 1.6800e+01],\n       [1.8080e+03, 6.0310e-03, 1.1160e+01],\n       [7.6030e+03, 2.5361e-02, 1.5180e+01],\n       [1.0180e+03, 3.3950e-03, 1.2240e+01],\n       [3.2100e+02, 1.0710e-03, 1.3000e+01],\n       [3.1060e+03, 1.0360e-02, 1.2490e+01],\n       [9.4260e+03, 3.1442e-02, 1.4530e+01],\n       [7.4640e+03, 2.4897e-02, 1.5210e+01],\n       [1.5143e+04, 5.0512e-02, 1.7400e+01],\n       [4.0700e+02, 1.3580e-03, 1.0870e+01],\n       [7.2570e+03, 2.4207e-02, 1.4600e+01],\n       [9.1930e+03, 3.0664e-02, 1.5100e+01],\n       [1.2137e+04, 4.0485e-02, 1.4750e+01],\n       [4.2640e+03, 1.4224e-02, 1.4980e+01],\n       [4.3810e+03, 1.4615e-02, 1.4150e+01],\n       [2.2484e+04, 7.5000e-02, 1.7430e+01],\n       [1.5162e+04, 5.0575e-02, 1.6500e+01],\n       [3.0000e+04, 1.0100e-01, 1.8900e+01],\n       [1.2981e+04, 4.3300e-02, 1.5230e+01],\n       [8.8030e+03, 2.9364e-02, 1.4900e+01]])"
          },
          "metadata": {}
        }
      ]
    },
    {
      "cell_type": "markdown",
      "source": "Las filas son casos observados y las columnas son las variables medidas.",
      "metadata": {}
    },
    {
      "cell_type": "code",
      "source": "vel = hubble[:,0]\nmag = hubble[:,2]\n\n# también podemos dar nombre a las columnas así:\n# vel, reds, mag = hubble.T\n\nplt.plot(vel,mag,'.')\nplt.xlabel('velocidad (Km/s)')\nplt.ylabel('Magnitud');",
      "metadata": {},
      "execution_count": 65,
      "outputs": [
        {
          "output_type": "display_data",
          "data": {
            "text/plain": "<Figure size 640x480 with 1 Axes>",
            "image/png": "[encoded data removed]"
          },
          "metadata": {}
        }
      ]
    },
    {
      "cell_type": "markdown",
      "source": "Hay otra versión de los mismos datos que contiene comentarios y una cabecera con los nombres de las columnas. Comienza así:\n\n    # https://ned.ipac.caltech.edu/cgi-bin/objsearch?refcode=1996AJ....112.2398H&search_type=Search&of=pre_text\n    V(km/s) Redshift Magnitud\n    # v        z       m\n    18287  0.060998  17.62\n    5691   0.018983  15.00 \n    26382  0.088000  18.59\n    ...\n\nSe puede leer saltando filas:",
      "metadata": {}
    },
    {
      "cell_type": "code",
      "source": "hubble = np.loadtxt('datos/hubble.txt', skiprows=2)\nhubble",
      "metadata": {},
      "execution_count": 66,
      "outputs": [
        {
          "execution_count": 66,
          "output_type": "execute_result",
          "data": {
            "text/plain": "array([[1.8287e+04, 6.0998e-02, 1.7620e+01],\n       [5.6910e+03, 1.8983e-02, 1.5000e+01],\n       [2.6382e+04, 8.8000e-02, 1.8590e+01],\n       [5.9960e+03, 2.0000e-02, 1.5540e+01],\n       [1.9202e+04, 6.4051e-02, 1.5300e+01],\n       [2.3684e+04, 7.9000e-02, 1.6560e+01],\n       [1.1702e+04, 3.9034e-02, 1.7140e+01],\n       [1.7284e+04, 5.7653e-02, 1.3500e+01],\n       [1.3491e+04, 4.5000e-02, 1.7800e+01],\n       [1.0566e+04, 3.5244e-02, 1.5250e+01],\n       [1.4718e+04, 4.9094e-02, 1.5600e+01],\n       [1.3491e+04, 4.5000e-02, 1.4520e+01],\n       [1.6325e+04, 5.4453e-02, 1.5300e+01],\n       [2.0686e+04, 6.9000e-02, 1.6800e+01],\n       [1.8080e+03, 6.0310e-03, 1.1160e+01],\n       [7.6030e+03, 2.5361e-02, 1.5180e+01],\n       [1.0180e+03, 3.3950e-03, 1.2240e+01],\n       [3.2100e+02, 1.0710e-03, 1.3000e+01],\n       [3.1060e+03, 1.0360e-02, 1.2490e+01],\n       [9.4260e+03, 3.1442e-02, 1.4530e+01],\n       [7.4640e+03, 2.4897e-02, 1.5210e+01],\n       [1.5143e+04, 5.0512e-02, 1.7400e+01],\n       [4.0700e+02, 1.3580e-03, 1.0870e+01],\n       [7.2570e+03, 2.4207e-02, 1.4600e+01],\n       [9.1930e+03, 3.0664e-02, 1.5100e+01],\n       [1.2137e+04, 4.0485e-02, 1.4750e+01],\n       [4.2640e+03, 1.4224e-02, 1.4980e+01],\n       [4.3810e+03, 1.4615e-02, 1.4150e+01],\n       [2.2484e+04, 7.5000e-02, 1.7430e+01],\n       [1.5162e+04, 5.0575e-02, 1.6500e+01],\n       [3.0000e+04, 1.0100e-01, 1.8900e+01],\n       [1.2981e+04, 4.3300e-02, 1.5230e+01],\n       [8.8030e+03, 2.9364e-02, 1.4900e+01]])"
          },
          "metadata": {}
        }
      ]
    },
    {
      "cell_type": "markdown",
      "source": "La función `np.loadtxt` admite también archivos remotos, que pueden incluso estar comprimidos:",
      "metadata": {}
    },
    {
      "cell_type": "code",
      "source": "hubble = np.loadtxt('http://robot.inf.um.es/material/data/hubble.txt.bz2', skiprows=2)\nhubble.shape",
      "metadata": {},
      "execution_count": null,
      "outputs": []
    },
    {
      "cell_type": "markdown",
      "source": "Finalmente, el módulo `pandas` proporciona el tipo \"dataframe\", muy utilizado en análisis de datos y que estudiaremos más adelante.",
      "metadata": {}
    },
    {
      "cell_type": "code",
      "source": "import pandas as pd\n\ndf = pd.read_table('https://robot.inf.um.es/material/data/ConstanteHubbleDatos-1.txt', sep='\\s+', comment='#')\ndf",
      "metadata": {},
      "execution_count": null,
      "outputs": []
    },
    {
      "cell_type": "markdown",
      "source": "Más adelante estudiaremos los dataframes. Por ahora convertimos los datos a un array normal.",
      "metadata": {}
    },
    {
      "cell_type": "markdown",
      "source": "### Números pseudoaleatorios",
      "metadata": {}
    },
    {
      "cell_type": "markdown",
      "source": "`numpy` permite generar arrays de números pseudoaleatorios con diferentes tipos de distribuciones (uniforme, normal, etc.).",
      "metadata": {}
    },
    {
      "cell_type": "code",
      "source": "# enteros uniformemente distribuidos en un intervalo\nnp.random.randint(1, 6+1, (3,4))",
      "metadata": {},
      "execution_count": 67,
      "outputs": [
        {
          "execution_count": 67,
          "output_type": "execute_result",
          "data": {
            "text/plain": "array([[5, 4, 1, 6],\n       [4, 2, 3, 3],\n       [6, 5, 3, 3]])"
          },
          "metadata": {}
        }
      ]
    },
    {
      "cell_type": "code",
      "source": "# reales entre cero y 1, uniformemente distribuidos\nnp.random.rand(3,4)",
      "metadata": {},
      "execution_count": 68,
      "outputs": [
        {
          "execution_count": 68,
          "output_type": "execute_result",
          "data": {
            "text/plain": "array([[0.70150566, 0.5364549 , 0.9117352 , 0.75484685],\n       [0.24069565, 0.7579229 , 0.55171669, 0.44344584],\n       [0.73983711, 0.19870198, 0.67817296, 0.8947472 ]])"
          },
          "metadata": {}
        }
      ]
    },
    {
      "cell_type": "code",
      "source": "# reales con distribución normal (gaussiana) con media cero y varianza 1\nnp.random.randn(2,5)",
      "metadata": {},
      "execution_count": 69,
      "outputs": [
        {
          "execution_count": 69,
          "output_type": "execute_result",
          "data": {
            "text/plain": "array([[ 0.96562736,  1.69720678,  1.45218099, -0.7948919 , -0.71487443],\n       [-0.93759437, -0.83369092, -1.22021871,  0.65014787, -0.81210089]])"
          },
          "metadata": {}
        }
      ]
    },
    {
      "cell_type": "markdown",
      "source": "### Estadística descriptiva",
      "metadata": {}
    },
    {
      "cell_type": "markdown",
      "source": "`numpy` proporciona funciones de estadística descriptiva para calcular características de conjuntos de datos tales como la media, mediana, desviación típica, máximo y mínimo, etc. Todas estas funciones de \"reducción\" de arrays pueden actuar sobre el array completo, por filas o por columnas, dependiendo del argumento opcional `axis`.",
      "metadata": {}
    },
    {
      "cell_type": "code",
      "source": "m = np.random.randint(0,10, (5,3))\nm",
      "metadata": {},
      "execution_count": 70,
      "outputs": [
        {
          "execution_count": 70,
          "output_type": "execute_result",
          "data": {
            "text/plain": "array([[3, 1, 2],\n       [0, 2, 3],\n       [5, 0, 5],\n       [1, 3, 6],\n       [2, 2, 9]])"
          },
          "metadata": {}
        }
      ]
    },
    {
      "cell_type": "code",
      "source": "np.mean(m), np.max(m), np.min(m), np.median(m), np.std(m), np.var(m)",
      "metadata": {},
      "execution_count": 71,
      "outputs": [
        {
          "execution_count": 71,
          "output_type": "execute_result",
          "data": {
            "text/plain": "(2.933333333333333, 9, 0, 2.0, 2.3513589451397863, 5.528888888888889)"
          },
          "metadata": {}
        }
      ]
    },
    {
      "cell_type": "code",
      "source": "np.sum(m)",
      "metadata": {},
      "execution_count": 72,
      "outputs": [
        {
          "execution_count": 72,
          "output_type": "execute_result",
          "data": {
            "text/plain": "44"
          },
          "metadata": {}
        }
      ]
    },
    {
      "cell_type": "code",
      "source": "np.sum(m, axis=0)",
      "metadata": {},
      "execution_count": 73,
      "outputs": [
        {
          "execution_count": 73,
          "output_type": "execute_result",
          "data": {
            "text/plain": "array([11,  8, 25])"
          },
          "metadata": {}
        }
      ]
    },
    {
      "cell_type": "code",
      "source": "np.sum(m, axis=1)",
      "metadata": {},
      "execution_count": 74,
      "outputs": [
        {
          "execution_count": 74,
          "output_type": "execute_result",
          "data": {
            "text/plain": "array([ 6,  5, 10, 10, 13])"
          },
          "metadata": {}
        }
      ]
    },
    {
      "cell_type": "markdown",
      "source": "Además de las funciones `np.max` y `np.min`, tenemos `np.argmax` y `np.argmin`, que devuelven respectivamente el **índice** del máximo o mínimo elemento.",
      "metadata": {}
    },
    {
      "cell_type": "code",
      "source": "np.argmax( [2,-4,8,0,7,5] )",
      "metadata": {},
      "execution_count": 75,
      "outputs": [
        {
          "execution_count": 75,
          "output_type": "execute_result",
          "data": {
            "text/plain": "2"
          },
          "metadata": {}
        }
      ]
    },
    {
      "cell_type": "markdown",
      "source": "### Caso de estudio: Teorema central del límite *",
      "metadata": {}
    },
    {
      "cell_type": "markdown",
      "source": "Como ejemplo, podemos estudiar la distribución de puntuaciones al lanzar varios dados.",
      "metadata": {}
    },
    {
      "cell_type": "code",
      "source": "import numpy as np\nimport matplotlib.pyplot as plt",
      "metadata": {},
      "execution_count": 76,
      "outputs": []
    },
    {
      "cell_type": "code",
      "source": "ndados  =   4 # int(input('Número de dados:'))\ntiradas = 200 # int(input('Número de tiradas:'))\ndados = np.random.randint(1,6+1,(tiradas,ndados))\ndados[:10]",
      "metadata": {},
      "execution_count": 77,
      "outputs": [
        {
          "execution_count": 77,
          "output_type": "execute_result",
          "data": {
            "text/plain": "array([[1, 1, 3, 1],\n       [2, 5, 5, 4],\n       [4, 4, 2, 4],\n       [3, 5, 1, 4],\n       [3, 5, 1, 6],\n       [6, 6, 4, 3],\n       [4, 3, 4, 6],\n       [3, 5, 4, 5],\n       [5, 4, 4, 1],\n       [4, 1, 3, 4]])"
          },
          "metadata": {}
        }
      ]
    },
    {
      "cell_type": "code",
      "source": "s = np.sum(dados,axis=1)\ns[:10]",
      "metadata": {},
      "execution_count": 78,
      "outputs": [
        {
          "execution_count": 78,
          "output_type": "execute_result",
          "data": {
            "text/plain": "array([ 6, 16, 14, 13, 15, 19, 17, 17, 14, 12])"
          },
          "metadata": {}
        }
      ]
    },
    {
      "cell_type": "code",
      "source": "plt.hist(s);",
      "metadata": {},
      "execution_count": 79,
      "outputs": [
        {
          "output_type": "display_data",
          "data": {
            "text/plain": "<Figure size 640x480 with 1 Axes>",
            "image/png": "[encoded data removed]"
          },
          "metadata": {}
        }
      ]
    },
    {
      "cell_type": "markdown",
      "source": "Comparamos con la teoría:",
      "metadata": {}
    },
    {
      "cell_type": "code",
      "source": "from scipy.stats import norm, randint",
      "metadata": {},
      "execution_count": 80,
      "outputs": []
    },
    {
      "cell_type": "code",
      "source": "dado = randint(low=1, high=7)\ndado.mean(), dado.std(), dado.var()",
      "metadata": {},
      "execution_count": 81,
      "outputs": [
        {
          "execution_count": 81,
          "output_type": "execute_result",
          "data": {
            "text/plain": "(3.5, 1.707825127659933, 2.9166666666666665)"
          },
          "metadata": {}
        }
      ]
    },
    {
      "cell_type": "code",
      "source": "mu  = s.mean()\ntmu = dado.mean()*ndados\nprint(f'Media: teoría = {tmu:.3f}, experimento = {mu:.3f}')",
      "metadata": {},
      "execution_count": 82,
      "outputs": [
        {
          "name": "stdout",
          "text": "Media: teoría = 14.000, experimento = 13.985\n",
          "output_type": "stream"
        }
      ]
    },
    {
      "cell_type": "code",
      "source": "sigma = s.std()\ntsigma = np.sqrt(ndados) * dado.std()\nprint(f'Desviación. teoría = {tsigma:.4f}, experimento = {sigma:.4f}')",
      "metadata": {},
      "execution_count": 83,
      "outputs": [
        {
          "name": "stdout",
          "text": "Desviación. teoría = 3.4157, experimento = 3.7033\n",
          "output_type": "stream"
        }
      ]
    },
    {
      "cell_type": "code",
      "source": "x = np.linspace(ndados,6*ndados,100)\n\nplt.hist(s,bins=np.arange(ndados,6*ndados)+0.5, density=True, edgecolor='black');\n\nplt.plot(x,norm.pdf(x,tmu,tsigma),lw=3, label='teoría')\nplt.plot(x,norm.pdf(x,mu,sigma),lw=1, color='gray', label='experimento')\nplt.xticks(np.arange(ndados,6*ndados+1))\nplt.legend();",
      "metadata": {},
      "execution_count": 84,
      "outputs": [
        {
          "output_type": "display_data",
          "data": {
            "text/plain": "<Figure size 640x480 with 1 Axes>",
            "image/png": "[encoded data removed]"
          },
          "metadata": {}
        }
      ]
    },
    {
      "cell_type": "markdown",
      "source": "Veremos otros ejemplos de estas funciones en el tema dedicado al análisis de datos.",
      "metadata": {}
    },
    {
      "cell_type": "markdown",
      "source": "### Caso de estudio: estimación de la probabilidad de un suceso",
      "metadata": {}
    },
    {
      "cell_type": "markdown",
      "source": "Deseamos estimar mediante simulación la probabilidad de obtener una puntuación mayor de 8 al lanzar dos dados.",
      "metadata": {}
    },
    {
      "cell_type": "markdown",
      "source": "El valor real es:",
      "metadata": {}
    },
    {
      "cell_type": "code",
      "source": "sum([1 for i in range(1,7) for j in range(1,7) if i + j > 8])/36",
      "metadata": {},
      "execution_count": 85,
      "outputs": [
        {
          "execution_count": 85,
          "output_type": "execute_result",
          "data": {
            "text/plain": "0.2777777777777778"
          },
          "metadata": {}
        }
      ]
    },
    {
      "cell_type": "markdown",
      "source": "La frecuencia de éxitos en un número grande de simulaciones del experimento será un valor parecido al real.",
      "metadata": {}
    },
    {
      "cell_type": "code",
      "source": "N = 1000",
      "metadata": {},
      "execution_count": 86,
      "outputs": []
    },
    {
      "cell_type": "markdown",
      "source": "Repetimos el lanzamiento simulado de los dados en un bucle, acumulando en una variable los éxitos.",
      "metadata": {}
    },
    {
      "cell_type": "code",
      "source": "import numpy as np\n\ntotal = 0\nfor k in range(N):\n    d1 = np.random.randint(1,6+1)\n    d2 = np.random.randint(1,6+1)\n    if d1 + d2 > 8:\n        total = total + 1\nprint(total/1000)",
      "metadata": {},
      "execution_count": 87,
      "outputs": [
        {
          "name": "stdout",
          "text": "0.287\n",
          "output_type": "stream"
        }
      ]
    },
    {
      "cell_type": "markdown",
      "source": "Es conveniente separar la simulación del experimento de su ejecución repetida, para poder adaptarlo fácilmente a otros problemas parecidos.",
      "metadata": {}
    },
    {
      "cell_type": "code",
      "source": "def exper():\n    d1 = np.random.randint(1,6+1)\n    d2 = np.random.randint(1,6+1)\n    return d1 + d2 > 8",
      "metadata": {},
      "execution_count": 88,
      "outputs": []
    },
    {
      "cell_type": "code",
      "source": "total = 0\nfor k in range(N):\n    if exper():\n        total = total + 1\nprint(total/1000)",
      "metadata": {},
      "execution_count": 89,
      "outputs": [
        {
          "name": "stdout",
          "text": "0.298\n",
          "output_type": "stream"
        }
      ]
    },
    {
      "cell_type": "markdown",
      "source": "Es equivalente a esta definición, más elegante:",
      "metadata": {}
    },
    {
      "cell_type": "code",
      "source": "np.mean([exper() for _ in range(1000)])",
      "metadata": {},
      "execution_count": 90,
      "outputs": [
        {
          "execution_count": 90,
          "output_type": "execute_result",
          "data": {
            "text/plain": "0.291"
          },
          "metadata": {}
        }
      ]
    },
    {
      "cell_type": "markdown",
      "source": "Esto funciona porque en las operaciones aritméticas numpy convierte automáticamente los valores lógicos True y False en 1 y 0.",
      "metadata": {}
    },
    {
      "cell_type": "markdown",
      "source": "En este ejemplo el resultado se puede obtener de forma directa con operaciones de arrays:",
      "metadata": {}
    },
    {
      "cell_type": "code",
      "source": "dados = np.random.randint(1,6+1, (1000,2))\n\nprint(dados)",
      "metadata": {},
      "execution_count": 91,
      "outputs": [
        {
          "name": "stdout",
          "text": "[[1 5]\n [1 2]\n [4 2]\n ...\n [4 2]\n [1 5]\n [4 2]]\n",
          "output_type": "stream"
        }
      ]
    },
    {
      "cell_type": "markdown",
      "source": "Podemos recorrer cada fila de esta forma, nombrando sus dos elementos:",
      "metadata": {}
    },
    {
      "cell_type": "code",
      "source": "total = 0\nfor d1,d2 in dados:\n    if d1 + d2 > 8:\n        total = total + 1\nprint(total/1000)",
      "metadata": {},
      "execution_count": 92,
      "outputs": [
        {
          "name": "stdout",
          "text": "0.296\n",
          "output_type": "stream"
        }
      ]
    },
    {
      "cell_type": "markdown",
      "source": "Pero es mucho mejor utilizar una máscara:",
      "metadata": {}
    },
    {
      "cell_type": "code",
      "source": "puntos = np.sum(dados, axis=1)\n\néxitos = puntos > 8\n\nnp.mean(éxitos)",
      "metadata": {},
      "execution_count": 93,
      "outputs": [
        {
          "execution_count": 93,
          "output_type": "execute_result",
          "data": {
            "text/plain": "0.296"
          },
          "metadata": {}
        }
      ]
    },
    {
      "cell_type": "markdown",
      "source": "### Álgebra lineal",
      "metadata": {}
    },
    {
      "cell_type": "markdown",
      "source": "El submódulo `linalg` ofrece las operaciones usuales de álgebra lineal.",
      "metadata": {}
    },
    {
      "cell_type": "code",
      "source": "import scipy.linalg as la",
      "metadata": {},
      "execution_count": 94,
      "outputs": []
    },
    {
      "cell_type": "markdown",
      "source": "Por ejemplo, podemos calcular fácilmente el módulo de un vector:",
      "metadata": {}
    },
    {
      "cell_type": "code",
      "source": "la.norm([1,2,3,4,5])",
      "metadata": {},
      "execution_count": 95,
      "outputs": [
        {
          "execution_count": 95,
          "output_type": "execute_result",
          "data": {
            "text/plain": "7.416198487095663"
          },
          "metadata": {}
        }
      ]
    },
    {
      "cell_type": "markdown",
      "source": "o el determinante de una matriz:",
      "metadata": {}
    },
    {
      "cell_type": "code",
      "source": "la.det([[1,2],\n        [3,4]])",
      "metadata": {},
      "execution_count": 96,
      "outputs": [
        {
          "execution_count": 96,
          "output_type": "execute_result",
          "data": {
            "text/plain": "-2.0"
          },
          "metadata": {}
        }
      ]
    },
    {
      "cell_type": "markdown",
      "source": "Observa que muchas de las funciones que trabajan con arrays admiten también otros contenedores como listas o tuplas, que son transformadas automáticamente en arrays.",
      "metadata": {}
    },
    {
      "cell_type": "markdown",
      "source": "Un problema muy importante es la resolución de sistemas de ecuaciones lineales. Si tenemos que resolver un sistema como",
      "metadata": {}
    },
    {
      "cell_type": "markdown",
      "source": "$$\n\\begin{align*}\nx + 2y &= 3\\\\\n3x+4y  &= 5\n\\end{align*}\n$$",
      "metadata": {}
    },
    {
      "cell_type": "markdown",
      "source": "Lo expresamos en forma matricial $AX=B$ y podemos resolverlo con la inversa de $A$, o directamente con `solve`.\n\n$$\\begin{bmatrix}1 & 2 \\\\ 3 & 4\\end{bmatrix} X = \\begin{bmatrix}3 \\\\ 5 \\end{bmatrix}\n$$",
      "metadata": {}
    },
    {
      "cell_type": "code",
      "source": "m = np.array([[1,2],\n              [3,4]])",
      "metadata": {},
      "execution_count": 97,
      "outputs": []
    },
    {
      "cell_type": "code",
      "source": "m",
      "metadata": {},
      "execution_count": 98,
      "outputs": [
        {
          "execution_count": 98,
          "output_type": "execute_result",
          "data": {
            "text/plain": "array([[1, 2],\n       [3, 4]])"
          },
          "metadata": {}
        }
      ]
    },
    {
      "cell_type": "code",
      "source": "la.inv(m)",
      "metadata": {},
      "execution_count": 99,
      "outputs": [
        {
          "execution_count": 99,
          "output_type": "execute_result",
          "data": {
            "text/plain": "array([[-2. ,  1. ],\n       [ 1.5, -0.5]])"
          },
          "metadata": {}
        }
      ]
    },
    {
      "cell_type": "code",
      "source": "la.inv(m) @ np.array([3,5])",
      "metadata": {},
      "execution_count": 100,
      "outputs": [
        {
          "execution_count": 100,
          "output_type": "execute_result",
          "data": {
            "text/plain": "array([-1.,  2.])"
          },
          "metadata": {}
        }
      ]
    },
    {
      "cell_type": "markdown",
      "source": "Es mejor (más eficiente y numéricamente estable) usar la función `solve`:",
      "metadata": {}
    },
    {
      "cell_type": "code",
      "source": "la.solve(m,[3,5])",
      "metadata": {},
      "execution_count": 101,
      "outputs": [
        {
          "execution_count": 101,
          "output_type": "execute_result",
          "data": {
            "text/plain": "array([-1.,  2.])"
          },
          "metadata": {}
        }
      ]
    },
    {
      "cell_type": "markdown",
      "source": "La solución se debería mostrar como una columna, pero en Python los arrays de una dimensión se imprimen como una fila porque no siempre representan vectores matemáticos. Si lo preferimos podemos usar matrices de una sola columna.",
      "metadata": {}
    },
    {
      "cell_type": "code",
      "source": "x = la.solve(m,[[3],\n                [5]])\n\nx",
      "metadata": {},
      "execution_count": 102,
      "outputs": [
        {
          "execution_count": 102,
          "output_type": "execute_result",
          "data": {
            "text/plain": "array([[-1.],\n       [ 2.]])"
          },
          "metadata": {}
        }
      ]
    },
    {
      "cell_type": "code",
      "source": "m @ x",
      "metadata": {},
      "execution_count": 103,
      "outputs": [
        {
          "execution_count": 103,
          "output_type": "execute_result",
          "data": {
            "text/plain": "array([[3.],\n       [5.]])"
          },
          "metadata": {}
        }
      ]
    },
    {
      "cell_type": "markdown",
      "source": "Si el lado derecho de la ecuación matricial $A X = B$ es una matriz, la solución $X$ también lo será.",
      "metadata": {}
    },
    {
      "cell_type": "markdown",
      "source": "### Computación matricial *",
      "metadata": {}
    },
    {
      "cell_type": "markdown",
      "source": "Python proporciona una [amplia colección](https://docs.scipy.org/doc/scipy/reference/linalg.html) de funciones de álgebra lineal numérica.",
      "metadata": {}
    },
    {
      "cell_type": "code",
      "source": "la.eigh([[1,2],\n         [2,3]])",
      "metadata": {},
      "execution_count": 104,
      "outputs": [
        {
          "execution_count": 104,
          "output_type": "execute_result",
          "data": {
            "text/plain": "(array([-0.23606798,  4.23606798]),\n array([[-0.85065081,  0.52573111],\n        [ 0.52573111,  0.85065081]]))"
          },
          "metadata": {}
        }
      ]
    },
    {
      "cell_type": "code",
      "source": "la.eig([[1,2],\n        [7,1]])",
      "metadata": {},
      "execution_count": 105,
      "outputs": [
        {
          "execution_count": 105,
          "output_type": "execute_result",
          "data": {
            "text/plain": "(array([ 4.74165739+0.j, -2.74165739+0.j]),\n array([[ 0.47140452, -0.47140452],\n        [ 0.8819171 ,  0.8819171 ]]))"
          },
          "metadata": {}
        }
      ]
    },
    {
      "cell_type": "code",
      "source": "np.sqrt([[1,2],\n         [3,4]])",
      "metadata": {},
      "execution_count": 106,
      "outputs": [
        {
          "execution_count": 106,
          "output_type": "execute_result",
          "data": {
            "text/plain": "array([[1.        , 1.41421356],\n       [1.73205081, 2.        ]])"
          },
          "metadata": {}
        }
      ]
    },
    {
      "cell_type": "code",
      "source": "r = la.sqrtm([[1,2],\n              [2,6]])\nr",
      "metadata": {},
      "execution_count": 107,
      "outputs": [
        {
          "execution_count": 107,
          "output_type": "execute_result",
          "data": {
            "text/plain": "array([[0.77007615, 0.63795197],\n       [0.63795197, 2.36495608]])"
          },
          "metadata": {}
        }
      ]
    },
    {
      "cell_type": "code",
      "source": "r @ r",
      "metadata": {},
      "execution_count": 108,
      "outputs": [
        {
          "execution_count": 108,
          "output_type": "execute_result",
          "data": {
            "text/plain": "array([[1., 2.],\n       [2., 6.]])"
          },
          "metadata": {}
        }
      ]
    },
    {
      "cell_type": "markdown",
      "source": "### Caso de estudio: mínimos cuadrados *",
      "metadata": {}
    },
    {
      "cell_type": "markdown",
      "source": "Como ejemplo de uso de las herramientas de álgebra lineal realizaremos el ajuste de un modelo polinomial a unas observaciones ficticias. Encontraremos la solución de mínimo error cuadrático a un sistema de ecuaciones sobredeterminado.\n\nEn primer lugar generamos unos datos de prueba artificiales que simulan observaciones contaminadas con ruido de una función no lineal.",
      "metadata": {}
    },
    {
      "cell_type": "code",
      "source": "import matplotlib.pyplot as plt\n%matplotlib inline\n\nx = np.linspace(0,2,30)\n\ny = np.sin(x) + 0.05*np.random.randn(x.size)\n\nplt.plot(x,y,'.');",
      "metadata": {
        "tags": [],
        "trusted": true
      },
      "execution_count": 109,
      "outputs": [
        {
          "output_type": "display_data",
          "data": {
            "text/plain": "<Figure size 640x480 with 1 Axes>",
            "image/png": "[encoded data removed]"
          },
          "metadata": {}
        }
      ]
    },
    {
      "cell_type": "markdown",
      "source": "Vamos a ajustar un modelo del tipo $y = ax^2 + bx + c$. Los coeficientes desconocidos $a$, $b$ y $c$ se pueden obtener resolviendo un sistema de ecuaciones lineales.",
      "metadata": {}
    },
    {
      "cell_type": "markdown",
      "source": "La matriz de coeficientes tiene potencias de $x$ hasta el grado que nos interesa.",
      "metadata": {}
    },
    {
      "cell_type": "code",
      "source": "A = np.vstack([x**2, x, np.ones(x.size)]).T\n\nA",
      "metadata": {},
      "execution_count": 110,
      "outputs": [
        {
          "execution_count": 110,
          "output_type": "execute_result",
          "data": {
            "text/plain": "array([[0.        , 0.        , 1.        ],\n       [0.00475624, 0.06896552, 1.        ],\n       [0.01902497, 0.13793103, 1.        ],\n       [0.04280618, 0.20689655, 1.        ],\n       [0.07609988, 0.27586207, 1.        ],\n       [0.11890606, 0.34482759, 1.        ],\n       [0.17122473, 0.4137931 , 1.        ],\n       [0.23305589, 0.48275862, 1.        ],\n       [0.30439952, 0.55172414, 1.        ],\n       [0.38525565, 0.62068966, 1.        ],\n       [0.47562426, 0.68965517, 1.        ],\n       [0.57550535, 0.75862069, 1.        ],\n       [0.68489893, 0.82758621, 1.        ],\n       [0.80380499, 0.89655172, 1.        ],\n       [0.93222354, 0.96551724, 1.        ],\n       [1.07015458, 1.03448276, 1.        ],\n       [1.2175981 , 1.10344828, 1.        ],\n       [1.3745541 , 1.17241379, 1.        ],\n       [1.54102259, 1.24137931, 1.        ],\n       [1.71700357, 1.31034483, 1.        ],\n       [1.90249703, 1.37931034, 1.        ],\n       [2.09750297, 1.44827586, 1.        ],\n       [2.3020214 , 1.51724138, 1.        ],\n       [2.51605232, 1.5862069 , 1.        ],\n       [2.73959572, 1.65517241, 1.        ],\n       [2.97265161, 1.72413793, 1.        ],\n       [3.21521998, 1.79310345, 1.        ],\n       [3.46730083, 1.86206897, 1.        ],\n       [3.72889417, 1.93103448, 1.        ],\n       [4.        , 2.        , 1.        ]])"
          },
          "metadata": {}
        }
      ]
    },
    {
      "cell_type": "markdown",
      "source": "En realidad es una matriz de Vandermonde:",
      "metadata": {}
    },
    {
      "cell_type": "code",
      "source": "np.vander(x,3)",
      "metadata": {},
      "execution_count": 111,
      "outputs": [
        {
          "execution_count": 111,
          "output_type": "execute_result",
          "data": {
            "text/plain": "array([[0.        , 0.        , 1.        ],\n       [0.00475624, 0.06896552, 1.        ],\n       [0.01902497, 0.13793103, 1.        ],\n       [0.04280618, 0.20689655, 1.        ],\n       [0.07609988, 0.27586207, 1.        ],\n       [0.11890606, 0.34482759, 1.        ],\n       [0.17122473, 0.4137931 , 1.        ],\n       [0.23305589, 0.48275862, 1.        ],\n       [0.30439952, 0.55172414, 1.        ],\n       [0.38525565, 0.62068966, 1.        ],\n       [0.47562426, 0.68965517, 1.        ],\n       [0.57550535, 0.75862069, 1.        ],\n       [0.68489893, 0.82758621, 1.        ],\n       [0.80380499, 0.89655172, 1.        ],\n       [0.93222354, 0.96551724, 1.        ],\n       [1.07015458, 1.03448276, 1.        ],\n       [1.2175981 , 1.10344828, 1.        ],\n       [1.3745541 , 1.17241379, 1.        ],\n       [1.54102259, 1.24137931, 1.        ],\n       [1.71700357, 1.31034483, 1.        ],\n       [1.90249703, 1.37931034, 1.        ],\n       [2.09750297, 1.44827586, 1.        ],\n       [2.3020214 , 1.51724138, 1.        ],\n       [2.51605232, 1.5862069 , 1.        ],\n       [2.73959572, 1.65517241, 1.        ],\n       [2.97265161, 1.72413793, 1.        ],\n       [3.21521998, 1.79310345, 1.        ],\n       [3.46730083, 1.86206897, 1.        ],\n       [3.72889417, 1.93103448, 1.        ],\n       [4.        , 2.        , 1.        ]])"
          },
          "metadata": {}
        }
      ]
    },
    {
      "cell_type": "markdown",
      "source": "El lado derecho del sistema es directamente el vector con los valores de $y$, la variable independiente del modelo.",
      "metadata": {}
    },
    {
      "cell_type": "code",
      "source": "B = np.array(y)\n\nB",
      "metadata": {},
      "execution_count": 112,
      "outputs": [
        {
          "execution_count": 112,
          "output_type": "execute_result",
          "data": {
            "text/plain": "array([-0.0057108 ,  0.06465313,  0.09842394,  0.14665859,  0.28001266,\n        0.39491417,  0.43718506,  0.48368179,  0.48371608,  0.60341487,\n        0.59522946,  0.72708716,  0.71080376,  0.71575608,  0.85783611,\n        0.7943793 ,  0.8028871 ,  0.86616062,  0.98170462,  0.96566085,\n        1.06828051,  0.99588102,  0.98202113,  0.97813148,  1.02098085,\n        0.95716365,  1.05997106,  0.95486354,  0.97234689,  0.95784383])"
          },
          "metadata": {}
        }
      ]
    },
    {
      "cell_type": "markdown",
      "source": "El sistema que hay que resolver está sobredeterminado: tiene solo tres incógnitas y tantas ecuaciones como observaciones de la función.\n\n$$A \\begin{bmatrix}a\\\\b\\\\c\\end{bmatrix}= B$$\n\nLa solución de [mínimo error cuadrático](https://en.wikipedia.org/wiki/Least_squares) para los coeficientes del modelo se obtiene de manera directa:",
      "metadata": {}
    },
    {
      "cell_type": "code",
      "source": "sol = la.lstsq(A,B)[0]\n\nsol",
      "metadata": {},
      "execution_count": 113,
      "outputs": [
        {
          "execution_count": 113,
          "output_type": "execute_result",
          "data": {
            "text/plain": "array([-0.35726362,  1.21619564, -0.03323323])"
          },
          "metadata": {}
        }
      ]
    },
    {
      "cell_type": "code",
      "source": "ye = A @ sol\n\nplt.plot(x,y,'.',x,ye,'r');",
      "metadata": {},
      "execution_count": 114,
      "outputs": [
        {
          "output_type": "display_data",
          "data": {
            "text/plain": "<Figure size 640x480 with 1 Axes>",
            "image/png": "[encoded data removed]"
          },
          "metadata": {}
        }
      ]
    },
    {
      "cell_type": "markdown",
      "source": "Se puede experimentar con polinomios de mayor o menor grado.",
      "metadata": {}
    },
    {
      "cell_type": "markdown",
      "source": "Una forma de llegar a esta solución es resolver las \"ecuaciones normales\" del sistema\n$Ax=b$. Como está sobredeterminado, vamos a minimizar el error cuadrático $E=||Ax-b||^2$, que es matemáticamente tratable. Hay que resolver\n\n$$\\frac{\\partial E}{\\partial x_k} =0 $$\n\nSe puede comprobar que la solución es\n\n$$x = A^+ b$$\n\ndonde $A^+$ es la [pseudoinversa](https://en.wikipedia.org/wiki/Moore%E2%80%93Penrose_inverse) de $A$:\n\n$$A^+ = (A^TA)^{-1}A^T$$\n",
      "metadata": {}
    },
    {
      "cell_type": "code",
      "source": "la.inv(A.T @ A) @ A.T @ B",
      "metadata": {},
      "execution_count": 115,
      "outputs": [
        {
          "execution_count": 115,
          "output_type": "execute_result",
          "data": {
            "text/plain": "array([-0.35726362,  1.21619564, -0.03323323])"
          },
          "metadata": {}
        }
      ]
    },
    {
      "cell_type": "code",
      "source": "la.pinv(A) @ B",
      "metadata": {},
      "execution_count": 116,
      "outputs": [
        {
          "execution_count": 116,
          "output_type": "execute_result",
          "data": {
            "text/plain": "array([-0.35726362,  1.21619564, -0.03323323])"
          },
          "metadata": {}
        }
      ]
    },
    {
      "cell_type": "markdown",
      "source": "En el tema dedicado al análisis de datos se muestra un ejemplo de ajuste de un modelo lineal por mínimos cuadrados usando el módulo `sklearn`.",
      "metadata": {}
    },
    {
      "cell_type": "markdown",
      "source": "### Implementación eficiente *",
      "metadata": {}
    },
    {
      "cell_type": "markdown",
      "source": "Las operaciones de `numpy` están \"optimizadas\" (escritas internamente en código C eficiente).",
      "metadata": {}
    },
    {
      "cell_type": "code",
      "source": "x = np.random.rand(10**8)",
      "metadata": {},
      "execution_count": null,
      "outputs": []
    },
    {
      "cell_type": "code",
      "source": "x",
      "metadata": {},
      "execution_count": null,
      "outputs": []
    },
    {
      "cell_type": "code",
      "source": "%%time\n\nnp.mean(x)",
      "metadata": {},
      "execution_count": null,
      "outputs": []
    },
    {
      "cell_type": "code",
      "source": "%%timeit\n\nnp.mean(x)",
      "metadata": {},
      "execution_count": null,
      "outputs": []
    },
    {
      "cell_type": "code",
      "source": "%%timeit\n\nx @ x",
      "metadata": {},
      "execution_count": null,
      "outputs": []
    },
    {
      "cell_type": "markdown",
      "source": "Si la misma operación se realiza \"manualmente\" con instrucciones normales de Python requiere mucho más tiempo:",
      "metadata": {}
    },
    {
      "cell_type": "code",
      "source": "%%time\n\ns = 0\nfor e in x:\n    s += e\nprint(s/len(x))",
      "metadata": {},
      "execution_count": null,
      "outputs": []
    },
    {
      "cell_type": "markdown",
      "source": "Por tanto, si usamos los módulos apropiados los programas en Python no tienen por qué ser más lentos que los de otros lenguajes de programación. Python es \"glue code\", un pegamento para combinar bibliotecas de funciones, escritas en cualquier lenguaje, que resuelven eficientemente problemas específicos.",
      "metadata": {}
    },
    {
      "cell_type": "markdown",
      "source": "### Ejemplo de repaso",
      "metadata": {}
    },
    {
      "cell_type": "markdown",
      "source": "En el notebook [dist.ipynb](dist.ipynb) se muestran diferentes formas de definir una función para calcular la distancia entre dos puntos.",
      "metadata": {}
    },
    {
      "cell_type": "markdown",
      "source": "### Ejercicios",
      "metadata": {}
    },
    {
      "cell_type": "markdown",
      "source": "- Resuelve el sistema:\n\n$$ \n\\begin{align*}\nx + 2y + 5z + 4w&= 24\\\\\ny-z  &= 1 \\\\\n2x+2y &= 6 \\\\\n-x+2y+3w &= 15\n\\end{align*}\n$$\n\n\n- Escribe una función para calcular la distancia entre dos puntos de $\\mathbb R^n$.\n\n\n- Escribe un programa que calcule la letra del DNI ([aquí explican la forma de hacerlo](http://www.cespedes.org/dni2nif/)).\n\n\n- Escribe un programa que encuentre el segundo mayor número contenido dentro de un array de enteros.\n\n\n- Escribe una función que admita un array 2D $m$ y un escalar $s$ y extraiga las filas de $m$ cuya suma sea mayor $s$.\n\n\n- A partir de los datos experimentales contenidos en `datos/hubble.txt` calcula el valor medio de redshift de las observaciones con velocidad < 5000Km/s.\n\n\n- Escribe una función para ordenar un array de enteros de menor a mayor.\n\n\n- Escribe una función para calcular el [producto vectorial](http://en.wikipedia.org/wiki/Cross_product) de dos vectores.\n\n\n- Escribe una función para calcular los coeficientes $l=(a,b,c)$, de la ecuación de la recta $ax+by+c=0$ que pasa por dos puntos $P=(x_1,y_1)$, $Q=(x_2,y_2)$ dados.\n\n\n- Escribe una función para calcular el punto de intersección de dos rectas con coeficientes $l=(a,b,c)$ y  $l'=(a',b',c')$.\n\n\n- Escribe una función para calcular la distancia de un punto $P=(x,y)$ a una recta $l=(a,b,c)$ y la proyección de P en la recta.\n\n\n- Escribe una función para calcular la recta paralela a una recta $l$ que pasa por un punto $P$. Escribe una función para calcular la recta perpendicular a una recta $l$ que pasa por un punto $P$.\n\n\n- Dado un triángulo definido por sus tres vértices $P$, $Q$ y $R$ calcula la longitud de una base $b$ y su correspondientes altura $h$ y comprueba que el área obtenida mediante la fórmula habitual $A=bh/2$ coincide con la de Herón.\n\n\n- Calcula una aproximación numérica a la siguiente integral usando una [aproximación lineal a trozos](http://en.wikipedia.org/wiki/Trapezoidal_rule) con 20 intervalos:\n\n  $$ \\int_0^1 e^{-2x^2}\\cos(3\\pi x) dx $$\n\n\n\n- Escribe una función para calcular la desviación típica de un conjunto de números.\n\n\n- Un polinomio $p(x)$ de grado $n$ se puede representar mediante un vector de coeficientes de dimensión $n+1$. Escribe funciones para: **a)** calcular (los coeficientes de) la derivada del polinomio. **b)** calcular (los coeficientes de) la integral del polinomio. **c)** evaluar un polinomio en un valor concreto de $x$. **d)** multiplicar dos polinomios.\n\n\n- Simula el lanzamiento de 5 dados mil veces, y comprueba gráficamente que la distribución de resultados de la puntuación total es aproximadamente normal.\n\n\n- Determina mediante simulación qué suceso es más probable: **a)** obtener al menos un seis al lanzar 6 dados, **b)** obtener al menos 2 seises al lanzar 12 dados. **c)** obtener al menos 3 seises al lanzar 18 dados.\n",
      "metadata": {}
    }
  ]
}
