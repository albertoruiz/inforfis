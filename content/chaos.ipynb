{
 "cells": [
  {
   "cell_type": "markdown",
   "metadata": {},
   "source": [
    "# Caos determinista"
   ]
  },
  {
   "cell_type": "markdown",
   "metadata": {},
   "source": [
    "*A.Ruiz, J. Abellán*"
   ]
  },
  {
   "cell_type": "markdown",
   "metadata": {},
   "source": [
    "En este notebook se reproducen los experimentos descritos en el artículo *Simple mathematical models with very complicated dynamics* ([Robert May, 1976](http://abel.harvard.edu/archive/118r_spring_05/docs/may.pdf))."
   ]
  },
  {
   "cell_type": "markdown",
   "metadata": {},
   "source": [
    "## Visualización"
   ]
  },
  {
   "cell_type": "code",
   "execution_count": null,
   "metadata": {},
   "outputs": [],
   "source": [
    "import numpy as np\n",
    "import matplotlib.pyplot as plt\n",
    "\n",
    "import sys\n",
    "if 'pyodide' in sys.modules:\n",
    "    %pip install ipywidgets"
   ]
  },
  {
   "cell_type": "code",
   "execution_count": null,
   "metadata": {},
   "outputs": [],
   "source": [
    "X = np.linspace(0,1,1000)\n",
    "\n",
    "def f(l,x):\n",
    "    return l*x*(1-x)\n",
    "\n",
    "\n",
    "def iterada(n,f):\n",
    "    def g(l,x):\n",
    "        z = x\n",
    "        for k in range(n):\n",
    "            z = f(l,z)\n",
    "        return z\n",
    "    return g"
   ]
  },
  {
   "cell_type": "code",
   "execution_count": null,
   "metadata": {},
   "outputs": [],
   "source": [
    "def fun(lam=3,steps=30,niter=1,x0=0.2):\n",
    "    plt.figure(figsize=(6,6))\n",
    "    #x0 = 1-1/lam + 0.001\n",
    "    g = iterada(niter,f)\n",
    "    plt.plot(X,g(lam,X))\n",
    "    plt.plot(X,X,color='gray',ls='dashed');\n",
    "    x  = [x0]\n",
    "    xp = [x0]\n",
    "    yp = [0]\n",
    "    nx = x0\n",
    "    for k in range(steps):\n",
    "        nx = g(lam,nx)\n",
    "        x  += [nx]\n",
    "        xp += [xp[-1],nx]          # añadimos dos tramos, uno  vertical hacia la función\n",
    "        yp += [nx,nx]              # y otro horizontal hacia la bisectriz \n",
    "    plt.plot(xp,yp,color='red',lw=0.5)\n",
    "    plt.plot(x,np.zeros(len(x)),'.',color='blue',alpha=0.15, markersize=15)\n",
    "    #plt.title(str(nx))"
   ]
  },
  {
   "cell_type": "code",
   "execution_count": null,
   "metadata": {},
   "outputs": [],
   "source": [
    "fun(2, 2, 1, 0.2)\n",
    "\n",
    "arrow = arrowprops=dict(color='gray',arrowstyle=\"->\", connectionstyle=\"arc3\")\n",
    "\n",
    "plt.annotate('$x_0$', xy=(0.21,0.01), xytext=(0.25,0.1), arrowprops=arrow);\n",
    "plt.annotate('$x_1=\\\\lambda x_0 (1-x_0)$', xy=(0.19,0.32), xytext=(0.0,0.4), arrowprops=arrow, fontsize=13);\n",
    "plt.annotate('$x_1$', xy=(0.33,0.01), xytext=(0.4,0.2), arrowprops=arrow);\n",
    "plt.annotate('', xy=(0.33,0.32), xytext=(0.4,0.22), arrowprops=arrow);\n",
    "plt.annotate('$x_2$', xy=(0.44,0.01), xytext=(0.5,0.25), arrowprops=arrow);\n",
    "plt.annotate('', xy=(0.44,0.43), xytext=(0.5,0.27), arrowprops=arrow);\n",
    "plt.annotate('$x_2=\\\\lambda x_1 (1-x_1)$', xy=(0.31,0.44), xytext=(0.1,0.6), arrowprops=arrow,fontsize=13);\n",
    "plt.legend([\"$f(x)=\\\\lambda x (1-x)$\",'$f(x)=x$']); plt.xlabel('$x_k$'); plt.ylabel('$x_{k+1}$');"
   ]
  },
  {
   "cell_type": "code",
   "execution_count": null,
   "metadata": {},
   "outputs": [],
   "source": [
    "fun(2.5, 100, x0=0.1)"
   ]
  },
  {
   "cell_type": "code",
   "execution_count": null,
   "metadata": {},
   "outputs": [],
   "source": [
    "fun(2.5, 100, x0=0.95)"
   ]
  },
  {
   "cell_type": "code",
   "execution_count": null,
   "metadata": {},
   "outputs": [],
   "source": [
    "fun(3.83, 100, x0=0.52)"
   ]
  },
  {
   "cell_type": "code",
   "execution_count": null,
   "metadata": {},
   "outputs": [],
   "source": [
    "fun(3.83, 100, 3, 0.52)"
   ]
  },
  {
   "cell_type": "markdown",
   "metadata": {},
   "source": [
    "## Visualización interactiva"
   ]
  },
  {
   "cell_type": "code",
   "execution_count": null,
   "metadata": {},
   "outputs": [],
   "source": [
    "from ipywidgets import interact\n",
    "\n",
    "@interact(lam=(2.,4,0.01),steps=(0,30),niter=(1,16),x0=(0.,1,0.01))\n",
    "def ifun(lam=3,steps=30,niter=1,x0=0.2):\n",
    "    fun(lam,steps,niter,x0)\n",
    "    plt.show()"
   ]
  },
  {
   "cell_type": "markdown",
   "metadata": {},
   "source": [
    "## Diagrama de bifurcación"
   ]
  },
  {
   "cell_type": "markdown",
   "metadata": {},
   "source": [
    "Generamos una secuencia de longitud deseada."
   ]
  },
  {
   "cell_type": "code",
   "execution_count": null,
   "metadata": {},
   "outputs": [],
   "source": [
    "def mkSec(lam, x0=0.5, n=10000):\n",
    "    x = np.zeros(n)\n",
    "    x[0] = x0\n",
    "    for k in range(1,n):\n",
    "        x[k] = f(lam,x[k-1])\n",
    "    return x"
   ]
  },
  {
   "cell_type": "code",
   "execution_count": null,
   "metadata": {},
   "outputs": [],
   "source": [
    "mkSec(3.5, x0=0.1, n=30)"
   ]
  },
  {
   "cell_type": "markdown",
   "metadata": {},
   "source": [
    "Luego dejamos avanzar la secuencia 'drop' elementos, y nos quedamoscon los 'n' últimos, donde se supone que ya se ha estabilizado en un ciclo."
   ]
  },
  {
   "cell_type": "code",
   "execution_count": null,
   "metadata": {},
   "outputs": [],
   "source": [
    "def limit(lam, x0=0.5, drop=1000, n=100):\n",
    "    return mkSec(lam, x0, drop+n)[-n:]"
   ]
  },
  {
   "cell_type": "markdown",
   "metadata": {},
   "source": [
    "Lo comprobamos con un $\\lambda$, partiendo de dos valores iniciales distintos. (Agrupamos de 4 en 4 para mostrar visualmente el ciclo. Salen los mismos valores, aunque en orden distinto.)"
   ]
  },
  {
   "cell_type": "code",
   "execution_count": null,
   "metadata": {},
   "outputs": [],
   "source": [
    "limit(3.5,0.5, n=20).reshape(-1,4)"
   ]
  },
  {
   "cell_type": "code",
   "execution_count": null,
   "metadata": {},
   "outputs": [],
   "source": [
    "limit(3.5,0.2, n=20).reshape(-1,4)"
   ]
  },
  {
   "cell_type": "markdown",
   "metadata": {},
   "source": [
    "Para construir el diagrama de bifurcación generamos el ciclo final de la secuencia para sucesivos valores de $\\lambda$, y se dibuja cada conjunto en la misma posición horizontal."
   ]
  },
  {
   "cell_type": "code",
   "execution_count": null,
   "metadata": {},
   "outputs": [],
   "source": [
    "def bifurcación(l1,l2):\n",
    "    lams = np.linspace(l1,l2,200)\n",
    "    for l in lams:\n",
    "        y = limit(l,n=100)\n",
    "        x = l*np.ones(len(y))\n",
    "        plt.plot(x,y,'.',color='red',markersize=1)"
   ]
  },
  {
   "cell_type": "code",
   "execution_count": null,
   "metadata": {},
   "outputs": [],
   "source": [
    "plt.figure(figsize=(8,5))\n",
    "bifurcación(2.8,3.9)\n",
    "plt.xlabel(\"$\\\\lambda$\"); plt.ylabel(\"$x_\\\\infty$\");"
   ]
  },
  {
   "cell_type": "markdown",
   "metadata": {},
   "source": [
    "Hacemos zoom en un par de zonas:"
   ]
  },
  {
   "cell_type": "code",
   "execution_count": null,
   "metadata": {},
   "outputs": [],
   "source": [
    "plt.figure(figsize=(8,5))\n",
    "bifurcación(3.723,3.724)\n",
    "plt.xlabel(\"$\\\\lambda$\"); plt.ylabel(\"$x_\\\\infty$\");"
   ]
  },
  {
   "cell_type": "code",
   "execution_count": null,
   "metadata": {},
   "outputs": [],
   "source": [
    "plt.figure(figsize=(8,5))\n",
    "bifurcación(3.735,3.745)\n",
    "plt.xlabel(\"$\\\\lambda$\"); plt.ylabel(\"$x_\\\\infty$\");"
   ]
  },
  {
   "cell_type": "markdown",
   "metadata": {},
   "source": [
    "## Exponente de Lyapunov"
   ]
  },
  {
   "cell_type": "code",
   "execution_count": null,
   "metadata": {},
   "outputs": [],
   "source": [
    "import itertools as it\n",
    "\n",
    "def f(l,x):\n",
    "    return l*x*(1-x)\n",
    "\n",
    "def deriv(l,x):\n",
    "    return l*(1-2*x)\n",
    "\n",
    "def mkSecxd(lam,x0=0.5):\n",
    "    x = x0\n",
    "    while True:\n",
    "        nx = f(lam,x)\n",
    "        d  = deriv(lam,nx)\n",
    "        yield (nx,d)\n",
    "\n",
    "def lyapunov(lam,x0=0.5, n=1000):\n",
    "    sec = it.islice(mkSecxd(lam),n)\n",
    "    l = [np.log(abs(d)) for _,d in sec]\n",
    "    r = np.mean(l)\n",
    "    return r"
   ]
  },
  {
   "cell_type": "code",
   "execution_count": null,
   "metadata": {},
   "outputs": [],
   "source": [
    "lam = np.linspace(2.5,4,100)\n",
    "plt.plot(lam,[lyapunov(l,0.2) for l in lam])\n",
    "plt.plot([lam[0],lam[-1]],[1,1],color='red');"
   ]
  },
  {
   "cell_type": "markdown",
   "metadata": {},
   "source": [
    "## Aleatoriedad *vs* caos"
   ]
  },
  {
   "cell_type": "code",
   "execution_count": null,
   "metadata": {},
   "outputs": [],
   "source": [
    "def exper(x):\n",
    "    plt.figure(figsize=(8,8))\n",
    "    plt.subplot(2,2,1)\n",
    "    plt.plot(x,'.')\n",
    "    plt.xlabel('$k$')\n",
    "    plt.ylabel('$x_k$')\n",
    "    plt.subplot(2,2,3)\n",
    "    plt.plot(x[:-1],x[1:],'.');\n",
    "    plt.xlabel('$x_k$')\n",
    "    plt.ylabel('$x_{k+1}$')\n",
    "    plt.axis('equal');\n",
    "    plt.subplot(2,2,2)\n",
    "    plt.hist(x,orientation='horizontal');"
   ]
  },
  {
   "cell_type": "code",
   "execution_count": null,
   "metadata": {},
   "outputs": [],
   "source": [
    "r = np.random.rand(1000)\n",
    "\n",
    "exper(r)"
   ]
  },
  {
   "cell_type": "code",
   "execution_count": null,
   "metadata": {},
   "outputs": [],
   "source": [
    "s = np.array(list(it.islice(mkSec(4,0.1),1000)))\n",
    "\n",
    "exper(s)"
   ]
  },
  {
   "cell_type": "code",
   "execution_count": null,
   "metadata": {},
   "outputs": [],
   "source": [
    "s = np.array(list(it.islice(mkSec(3.738,0.1),1000)))\n",
    "\n",
    "exper(s)"
   ]
  },
  {
   "cell_type": "markdown",
   "metadata": {},
   "source": [
    "## Solución analítica"
   ]
  },
  {
   "cell_type": "markdown",
   "metadata": {},
   "source": [
    "Mediante un enfoque combinado de cálculo simbólico y numérico."
   ]
  },
  {
   "cell_type": "code",
   "execution_count": null,
   "metadata": {},
   "outputs": [],
   "source": [
    "import numpy as np\n",
    "from sympy import *\n",
    "from sympy.abc import alpha, beta, gamma, delta, epsilon\n",
    "\n",
    "init_printing(pretty_print=True)\n",
    "\n",
    "from IPython.display import display"
   ]
  },
  {
   "cell_type": "code",
   "execution_count": null,
   "metadata": {},
   "outputs": [],
   "source": [
    "lamda,x = symbols(['lambda','x'])"
   ]
  },
  {
   "cell_type": "code",
   "execution_count": null,
   "metadata": {},
   "outputs": [],
   "source": [
    "def f(x): return lamda * x * (1-x)\n",
    "\n",
    "def iterada(n,f):\n",
    "    def g(x):\n",
    "        z = x\n",
    "        for k in range(n):\n",
    "            z = f(z)\n",
    "        return z\n",
    "    return g"
   ]
  },
  {
   "cell_type": "code",
   "execution_count": null,
   "metadata": {},
   "outputs": [],
   "source": [
    "(f(f(x))-x).expand()"
   ]
  },
  {
   "cell_type": "code",
   "execution_count": null,
   "metadata": {},
   "outputs": [],
   "source": [
    "solve(Eq(x, f(f(x)).expand()),x)"
   ]
  },
  {
   "cell_type": "code",
   "execution_count": null,
   "metadata": {},
   "outputs": [],
   "source": [
    "def cortes(it,l,verbose=False):\n",
    "    h = iterada(it,f)(x)\n",
    "    if verbose:\n",
    "        display(h)\n",
    "    fun = poly(h.subs(lamda,l),x)\n",
    "    der = diff(fun,x)\n",
    "    g = fun-x\n",
    "    sols = np.roots(g.coeffs())\n",
    "    r = [(v.real, der.subs(x,v.real)) for v in sols if abs(v.imag) < 1E-6]\n",
    "    return r"
   ]
  },
  {
   "cell_type": "code",
   "execution_count": null,
   "metadata": {},
   "outputs": [],
   "source": [
    "cortes(3,3.8,verbose=True)"
   ]
  },
  {
   "cell_type": "code",
   "execution_count": null,
   "metadata": {
    "tags": []
   },
   "outputs": [],
   "source": [
    "cortes(8,3.7)"
   ]
  }
 ],
 "metadata": {
  "hide_input": false,
  "kernelspec": {
   "display_name": "Python 3 (ipykernel)",
   "language": "python",
   "name": "python3"
  },
  "language_info": {
   "codemirror_mode": {
    "name": "ipython",
    "version": 3
   },
   "file_extension": ".py",
   "mimetype": "text/x-python",
   "name": "python",
   "nbconvert_exporter": "python",
   "pygments_lexer": "ipython3",
   "version": "3.12.0"
  },
  "varInspector": {
   "cols": {
    "lenName": 16,
    "lenType": 16,
    "lenVar": 40
   },
   "kernels_config": {
    "python": {
     "delete_cmd_postfix": "",
     "delete_cmd_prefix": "del ",
     "library": "var_list.py",
     "varRefreshCmd": "print(var_dic_list())"
    },
    "r": {
     "delete_cmd_postfix": ") ",
     "delete_cmd_prefix": "rm(",
     "library": "var_list.r",
     "varRefreshCmd": "cat(var_dic_list()) "
    }
   },
   "types_to_exclude": [
    "module",
    "function",
    "builtin_function_or_method",
    "instance",
    "_Feature"
   ],
   "window_display": false
  }
 },
 "nbformat": 4,
 "nbformat_minor": 4
}
