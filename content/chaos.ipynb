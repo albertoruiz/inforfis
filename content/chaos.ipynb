{
  "metadata": {
    "hide_input": false,
    "varInspector": {
      "cols": {
        "lenName": 16,
        "lenType": 16,
        "lenVar": 40
      },
      "kernels_config": {
        "python": {
          "delete_cmd_postfix": "",
          "delete_cmd_prefix": "del ",
          "library": "var_list.py",
          "varRefreshCmd": "print(var_dic_list())"
        },
        "r": {
          "delete_cmd_postfix": ") ",
          "delete_cmd_prefix": "rm(",
          "library": "var_list.r",
          "varRefreshCmd": "cat(var_dic_list()) "
        }
      },
      "types_to_exclude": [
        "module",
        "function",
        "builtin_function_or_method",
        "instance",
        "_Feature"
      ],
      "window_display": false
    },
    "kernelspec": {
      "name": "python",
      "display_name": "Python (Pyodide)",
      "language": "python"
    },
    "language_info": {
      "codemirror_mode": {
        "name": "python",
        "version": 3
      },
      "file_extension": ".py",
      "mimetype": "text/x-python",
      "name": "python",
      "nbconvert_exporter": "python",
      "pygments_lexer": "ipython3",
      "version": "3.8"
    }
  },
  "nbformat_minor": 4,
  "nbformat": 4,
  "cells": [
    {
      "cell_type": "markdown",
      "source": "<p style=\"background:#f4f4f4; padding:5px; margin-left:-5px;margin-bottom:0px\">\nInformática - 1º de Física\n<br>\n<strong>Introducción a la Programación</strong>\n</p>",
      "metadata": {}
    },
    {
      "cell_type": "markdown",
      "source": "# Caos determinista",
      "metadata": {}
    },
    {
      "cell_type": "markdown",
      "source": "*A.Ruiz, J. Abellán*",
      "metadata": {}
    },
    {
      "cell_type": "markdown",
      "source": "En este notebook se reproducen los experimentos descritos en el artículo *Simple mathematical models with very complicated dynamics* ([Robert May, 1976](http://abel.harvard.edu/archive/118r_spring_05/docs/may.pdf)).",
      "metadata": {}
    },
    {
      "cell_type": "markdown",
      "source": "## Visualización",
      "metadata": {}
    },
    {
      "cell_type": "code",
      "source": "import numpy as np\nimport matplotlib.pyplot as plt\n\nimport sys\nif 'pyodide' in sys.modules:\n    %pip install ipywidgets",
      "metadata": {
        "trusted": true
      },
      "execution_count": null,
      "outputs": []
    },
    {
      "cell_type": "code",
      "source": "X = np.linspace(0,1,1000)\n\ndef f(l,x):\n    return l*x*(1-x)\n\n\ndef iterada(n,f):\n    def g(l,x):\n        z = x\n        for k in range(n):\n            z = f(l,z)\n        return z\n    return g",
      "metadata": {
        "trusted": true
      },
      "execution_count": null,
      "outputs": []
    },
    {
      "cell_type": "code",
      "source": "def fun(lam=3,steps=30,niter=1,x0=0.2):\n    plt.figure(figsize=(6,6))\n    #x0 = 1-1/lam + 0.001\n    g = iterada(niter,f)\n    plt.plot(X,g(lam,X))\n    plt.plot(X,X,color='gray',ls='dashed');\n    x  = [x0]\n    xp = [x0]\n    yp = [0]\n    nx = x0\n    for k in range(steps):\n        nx = g(lam,nx)\n        x  += [nx]\n        xp += [xp[-1],nx]          # añadimos dos tramos, uno  vertical hacia la función\n        yp += [nx,nx]              # y otro horizontal hacia la bisectriz \n    plt.plot(xp,yp,color='red',lw=0.5)\n    plt.plot(x,np.zeros(len(x)),'.',color='blue',alpha=0.15, markersize=15)\n    #plt.title(str(nx))",
      "metadata": {
        "trusted": true
      },
      "execution_count": null,
      "outputs": []
    },
    {
      "cell_type": "code",
      "source": "fun(2, 2, 1, 0.2)\n\narrow = arrowprops=dict(color='gray',arrowstyle=\"->\", connectionstyle=\"arc3\")\n\nplt.annotate('$x_0$', xy=(0.21,0.01), xytext=(0.25,0.1), arrowprops=arrow);\nplt.annotate('$x_1=\\lambda x_0 (1-x_0)$', xy=(0.19,0.32), xytext=(0.0,0.4), arrowprops=arrow, fontsize=13);\nplt.annotate('$x_1$', xy=(0.33,0.01), xytext=(0.4,0.2), arrowprops=arrow);\nplt.annotate('', xy=(0.33,0.32), xytext=(0.4,0.22), arrowprops=arrow);\nplt.annotate('$x_2$', xy=(0.44,0.01), xytext=(0.5,0.25), arrowprops=arrow);\nplt.annotate('', xy=(0.44,0.43), xytext=(0.5,0.27), arrowprops=arrow);\nplt.annotate('$x_2=\\lambda x_1 (1-x_1)$', xy=(0.31,0.44), xytext=(0.1,0.6), arrowprops=arrow,fontsize=13);\nplt.legend([\"$f(x)=\\lambda x (1-x)$\",'$f(x)=x$']); plt.xlabel('$x_k$'); plt.ylabel('$x_{k+1}$');",
      "metadata": {
        "trusted": true
      },
      "execution_count": null,
      "outputs": []
    },
    {
      "cell_type": "code",
      "source": "fun(2.5, 100, x0=0.1)",
      "metadata": {
        "trusted": true
      },
      "execution_count": null,
      "outputs": []
    },
    {
      "cell_type": "code",
      "source": "fun(2.5, 100, x0=0.95)",
      "metadata": {
        "trusted": true
      },
      "execution_count": null,
      "outputs": []
    },
    {
      "cell_type": "code",
      "source": "fun(3.83, 100, x0=0.52)",
      "metadata": {
        "trusted": true
      },
      "execution_count": null,
      "outputs": []
    },
    {
      "cell_type": "code",
      "source": "fun(3.83, 100, 3, 0.52)",
      "metadata": {
        "trusted": true
      },
      "execution_count": null,
      "outputs": []
    },
    {
      "cell_type": "markdown",
      "source": "### Visualización interactiva",
      "metadata": {}
    },
    {
      "cell_type": "code",
      "source": "from ipywidgets import interact\n\n@interact(lam=(2.,4,0.01),steps=(0,30),niter=(1,16),x0=(0.,1,0.01))\ndef ifun(lam=3,steps=30,niter=1,x0=0.2):\n    fun(lam,steps,niter,x0)\n    plt.show()",
      "metadata": {
        "trusted": true
      },
      "execution_count": null,
      "outputs": []
    },
    {
      "cell_type": "markdown",
      "source": "### Diagrama de bifurcación",
      "metadata": {}
    },
    {
      "cell_type": "markdown",
      "source": "Generamos una secuencia de longitud deseada.",
      "metadata": {}
    },
    {
      "cell_type": "code",
      "source": "def mkSec(lam, x0=0.5, n=10000):\n    x = np.zeros(n)\n    x[0] = x0\n    for k in range(1,n):\n        x[k] = f(lam,x[k-1])\n    return x",
      "metadata": {
        "trusted": true
      },
      "execution_count": null,
      "outputs": []
    },
    {
      "cell_type": "code",
      "source": "mkSec(3.5, x0=0.1, n=30)",
      "metadata": {
        "trusted": true
      },
      "execution_count": null,
      "outputs": []
    },
    {
      "cell_type": "markdown",
      "source": "Luego dejamos avanzar la secuencia 'drop' elementos, y nos quedamoscon los 'n' últimos, donde se supone que ya se ha estabilizado en un ciclo.",
      "metadata": {}
    },
    {
      "cell_type": "code",
      "source": "def limit(lam, x0=0.5, drop=1000, n=100):\n    return mkSec(lam, x0, drop+n)[-n:]",
      "metadata": {
        "trusted": true
      },
      "execution_count": null,
      "outputs": []
    },
    {
      "cell_type": "markdown",
      "source": "Lo comprobamos con un $\\lambda$, partiendo de dos valores iniciales distintos. (Agrupamos de 4 en 4 para mostrar visualmente el ciclo. Salen los mismos valores, aunque en orden distinto.)",
      "metadata": {}
    },
    {
      "cell_type": "code",
      "source": "limit(3.5,0.5, n=20).reshape(-1,4)",
      "metadata": {
        "trusted": true
      },
      "execution_count": null,
      "outputs": []
    },
    {
      "cell_type": "code",
      "source": "limit(3.5,0.2, n=20).reshape(-1,4)",
      "metadata": {
        "trusted": true
      },
      "execution_count": null,
      "outputs": []
    },
    {
      "cell_type": "markdown",
      "source": "Para construir el diagrama de bifurcación generamos el ciclo final de la secuencia para sucesivos valores de $\\lambda$, y se dibuja cada conjunto en la misma posición horizontal.",
      "metadata": {}
    },
    {
      "cell_type": "code",
      "source": "def bifurcación(l1,l2):\n    lams = np.linspace(l1,l2,200)\n    for l in lams:\n        y = limit(l,n=100)\n        x = l*np.ones(len(y))\n        plt.plot(x,y,'.',color='red',markersize=1)",
      "metadata": {
        "trusted": true
      },
      "execution_count": null,
      "outputs": []
    },
    {
      "cell_type": "code",
      "source": "plt.figure(figsize=(8,5))\nbifurcación(2.8,3.9)\nplt.xlabel(\"$\\lambda$\"); plt.ylabel(\"$x_\\infty$\");",
      "metadata": {
        "trusted": true
      },
      "execution_count": null,
      "outputs": []
    },
    {
      "cell_type": "markdown",
      "source": "Hacemos zoom en un par de zonas:",
      "metadata": {}
    },
    {
      "cell_type": "code",
      "source": "plt.figure(figsize=(8,5))\nbifurcación(3.723,3.724)\nplt.xlabel(\"$\\lambda$\"); plt.ylabel(\"$x_\\infty$\");",
      "metadata": {
        "trusted": true
      },
      "execution_count": null,
      "outputs": []
    },
    {
      "cell_type": "code",
      "source": "plt.figure(figsize=(8,5))\nbifurcación(3.735,3.745)\nplt.xlabel(\"$\\lambda$\"); plt.ylabel(\"$x_\\infty$\");",
      "metadata": {
        "trusted": true
      },
      "execution_count": null,
      "outputs": []
    },
    {
      "cell_type": "markdown",
      "source": "### Exponente de Lyapunov",
      "metadata": {}
    },
    {
      "cell_type": "code",
      "source": "import itertools as it\n\ndef f(l,x):\n    return l*x*(1-x)\n\ndef deriv(l,x):\n    return l*(1-2*x)\n\ndef mkSecxd(lam,x0=0.5):\n    x = x0\n    while True:\n        nx = f(lam,x)\n        d  = deriv(lam,nx)\n        yield (nx,d)\n\ndef lyapunov(lam,x0=0.5, n=1000):\n    sec = it.islice(mkSecxd(lam),n)\n    l = [np.log(abs(d)) for _,d in sec]\n    r = np.mean(l)\n    return r",
      "metadata": {
        "trusted": true
      },
      "execution_count": null,
      "outputs": []
    },
    {
      "cell_type": "code",
      "source": "lam = np.linspace(2.5,4,100)\nplt.plot(lam,[lyapunov(l,0.2) for l in lam])\nplt.plot([lam[0],lam[-1]],[1,1],color='red');",
      "metadata": {
        "trusted": true
      },
      "execution_count": null,
      "outputs": []
    },
    {
      "cell_type": "markdown",
      "source": "### Aleatoriedad *vs* caos",
      "metadata": {}
    },
    {
      "cell_type": "code",
      "source": "def exper(x):\n    plt.figure(figsize=(8,8))\n    plt.subplot(2,2,1)\n    plt.plot(x,'.')\n    plt.xlabel('$k$')\n    plt.ylabel('$x_k$')\n    plt.subplot(2,2,3)\n    plt.plot(x[:-1],x[1:],'.');\n    plt.xlabel('$x_k$')\n    plt.ylabel('$x_{k+1}$')\n    plt.axis('equal');\n    plt.subplot(2,2,2)\n    plt.hist(x,orientation='horizontal');",
      "metadata": {
        "trusted": true
      },
      "execution_count": null,
      "outputs": []
    },
    {
      "cell_type": "code",
      "source": "r = np.random.rand(1000)\n\nexper(r)",
      "metadata": {
        "trusted": true
      },
      "execution_count": null,
      "outputs": []
    },
    {
      "cell_type": "code",
      "source": "s = np.array(list(it.islice(mkSec(4,0.1),1000)))\n\nexper(s)",
      "metadata": {
        "trusted": true
      },
      "execution_count": null,
      "outputs": []
    },
    {
      "cell_type": "code",
      "source": "s = np.array(list(it.islice(mkSec(3.738,0.1),1000)))\n\nexper(s)",
      "metadata": {
        "trusted": true
      },
      "execution_count": null,
      "outputs": []
    },
    {
      "cell_type": "markdown",
      "source": "### Solución analítica",
      "metadata": {}
    },
    {
      "cell_type": "markdown",
      "source": "Mediante un enfoque combinado de cálculo simbólico y numérico.",
      "metadata": {}
    },
    {
      "cell_type": "code",
      "source": "import numpy as np\nfrom sympy import *\nfrom sympy.abc import alpha, beta, gamma, delta, epsilon\n\ninit_printing(pretty_print=True)\n\nfrom IPython.display import display",
      "metadata": {
        "trusted": true
      },
      "execution_count": null,
      "outputs": []
    },
    {
      "cell_type": "code",
      "source": "lamda,x = symbols(['lambda','x'])",
      "metadata": {
        "trusted": true
      },
      "execution_count": null,
      "outputs": []
    },
    {
      "cell_type": "code",
      "source": "def f(x): return lamda * x * (1-x)\n\ndef iterada(n,f):\n    def g(x):\n        z = x\n        for k in range(n):\n            z = f(z)\n        return z\n    return g",
      "metadata": {
        "trusted": true
      },
      "execution_count": null,
      "outputs": []
    },
    {
      "cell_type": "code",
      "source": "(f(f(x))-x).expand()",
      "metadata": {
        "trusted": true
      },
      "execution_count": null,
      "outputs": []
    },
    {
      "cell_type": "code",
      "source": "solve(Eq(x, f(f(x)).expand()),x)",
      "metadata": {
        "trusted": true
      },
      "execution_count": null,
      "outputs": []
    },
    {
      "cell_type": "code",
      "source": "def cortes(it,l,verbose=False):\n    h = iterada(it,f)(x)\n    if verbose:\n        display(h)\n    fun = poly(h.subs(lamda,l),x)\n    der = diff(fun,x)\n    g = fun-x\n    sols = np.roots(g.coeffs())\n    r = [(v.real, der.subs(x,v.real)) for v in sols if abs(v.imag) < 1E-6]\n    return r",
      "metadata": {
        "trusted": true
      },
      "execution_count": null,
      "outputs": []
    },
    {
      "cell_type": "code",
      "source": "cortes(3,3.8,verbose=True)",
      "metadata": {
        "trusted": true
      },
      "execution_count": null,
      "outputs": []
    },
    {
      "cell_type": "code",
      "source": "cortes(8,3.7)",
      "metadata": {
        "tags": [],
        "trusted": true
      },
      "execution_count": null,
      "outputs": []
    }
  ]
}