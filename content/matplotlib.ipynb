{
 "cells": [
  {
   "cell_type": "markdown",
   "metadata": {},
   "source": [
    "# Gráficas"
   ]
  },
  {
   "cell_type": "markdown",
   "metadata": {},
   "source": [
    "Uno de los objetivos principales de la computación científica y del análisis de datos es producir visualizaciones atractivas. \n",
    "\n",
    "El mundo del los gráficos por ordenador es inmenso: desde una sencilla representación de funciones hasta los videojuegos con realidad virtual, con imágenes en 2D o 3D, estáticas o interactivas, animaciones y vídeos... las posibilidades son infinitas. \n",
    "En el tiempo limitado de que disponemos solo podemos hacer una breve introducción a [matplotlib](https://en.wikipedia.org/wiki/Matplotlib), la principal herramienta de visualización del entorno científico de Python. Aquí hay una [galería](https://matplotlib.org/devdocs/gallery/) con el tipo de gráficas que se pueden crear.\n",
    "\n",
    "Como ocurre al aprender cualquier herramienta informática, no merece la pena aprender nada de memoria. Lo mejor es preparar una colección de ejemplos de código para resolver las tareas más frecuentes. En caso de duda o para hacer algo nuevo puedes consultar la documentación oficial o buscar directamente en google."
   ]
  },
  {
   "cell_type": "markdown",
   "metadata": {},
   "source": [
    "## import"
   ]
  },
  {
   "cell_type": "markdown",
   "metadata": {},
   "source": [
    "En programas \"normales\" las gráficas se muestran en ventanas independientes. Más adelante veremos algunos ejemplos. \n",
    "En los notebooks se incluyen directamente en el documento. La forma usual de importar el módulo es la siguiente:"
   ]
  },
  {
   "cell_type": "code",
   "execution_count": null,
   "metadata": {
    "hide_input": false
   },
   "outputs": [],
   "source": [
    "import numpy             as np\n",
    "import matplotlib.pyplot as plt"
   ]
  },
  {
   "cell_type": "markdown",
   "metadata": {
    "hide_input": true
   },
   "source": [
    "## plot"
   ]
  },
  {
   "cell_type": "markdown",
   "metadata": {},
   "source": [
    "El \"comando\" gráfico fundamental es `plot`. En su forma de uso más común admite como parámetros dos contenedores (típicamente listas o arrays) con las coordenadas $x$ e $y$ de los vértices de una *polilínea*."
   ]
  },
  {
   "cell_type": "code",
   "execution_count": null,
   "metadata": {},
   "outputs": [],
   "source": [
    "plt.plot([-1, 3, 5, 2], [5, 2, 6, 4])"
   ]
  },
  {
   "cell_type": "markdown",
   "metadata": {},
   "source": [
    "Muchas gráficas se pueden construir mediante una serie de  comandos plot con diferentes colores, estilos de línea y otras características. Por ejemplo, cuando los vértices están muy próximos podemos conseguir la apariencia de una línea curva. Pero también existen muchos otros comandos gráficos para conseguir prácticamente cualquier efecto que deseemos."
   ]
  },
  {
   "cell_type": "markdown",
   "metadata": {},
   "source": [
    "Para representar funciones lo usual es crear un array con una discretización del dominio de interés. Directamente usamos las funciones matemáticas sobre arrays (con prefijo `np.`) para crear las coordenadas requeridas por `plot`."
   ]
  },
  {
   "cell_type": "code",
   "execution_count": null,
   "metadata": {},
   "outputs": [],
   "source": [
    "x = np.linspace(0,2*np.pi,200)\n",
    "y = np.sin(x)"
   ]
  },
  {
   "cell_type": "code",
   "execution_count": null,
   "metadata": {},
   "outputs": [],
   "source": [
    "plt.plot(x,y)"
   ]
  },
  {
   "cell_type": "markdown",
   "metadata": {},
   "source": [
    "Si se omiten las coordenadas $x$ se utilizan los índices de cada elemento."
   ]
  },
  {
   "cell_type": "code",
   "execution_count": null,
   "metadata": {},
   "outputs": [],
   "source": [
    "plt.plot(y)"
   ]
  },
  {
   "cell_type": "markdown",
   "metadata": {},
   "source": [
    "Para que no se muestre la información sobre los objetos gráficos creados ponemos un `;` al final. "
   ]
  },
  {
   "cell_type": "code",
   "execution_count": null,
   "metadata": {},
   "outputs": [],
   "source": [
    "plt.plot(x,np.sin(x))\n",
    "plt.plot(x,np.cos(x));"
   ]
  },
  {
   "cell_type": "markdown",
   "metadata": {},
   "source": [
    "Como vemos, es posible poner varias parejas de coordenadas x-y para dibujar varias curvas pero es mejor separarlas en múltiples plot."
   ]
  },
  {
   "cell_type": "code",
   "execution_count": null,
   "metadata": {
    "tags": []
   },
   "outputs": [],
   "source": [
    "plt.plot(x, np.sin(x),   color='red', lw=3, label='sin(x)')\n",
    "plt.plot(x, np.sin(2*x), color='black', label='sin(2x)')\n",
    "plt.plot(x, np.cos(x), color='blue', ls='dotted', label='cos(x)')\n",
    "plt.plot([1,2.5],[-0.5,0],'.',color='blue',markersize=10);\n",
    "plt.legend()\n",
    "plt.grid()\n",
    "plt.xlabel('x'); plt.ylabel('y'); plt.title('bonito plot');\n",
    "plt.text(4,0,'hola');\n",
    "plt.savefig('graphic.pdf')"
   ]
  },
  {
   "cell_type": "markdown",
   "metadata": {},
   "source": [
    "Comprueba que la figura se ha guardado en la carpeta (con la instrucción `plt.savefig`)"
   ]
  },
  {
   "cell_type": "markdown",
   "metadata": {},
   "source": [
    "Podemos seleccionar la región de interés del gráfico:"
   ]
  },
  {
   "cell_type": "code",
   "execution_count": null,
   "metadata": {},
   "outputs": [],
   "source": [
    "plt.plot(x,np.exp(x));\n",
    "plt.ylim(-1,5)\n",
    "plt.xlim(0,3);"
   ]
  },
  {
   "cell_type": "markdown",
   "metadata": {},
   "source": [
    "Mediante un bucle dibujamos varias funciones en la misma figura:"
   ]
  },
  {
   "cell_type": "code",
   "execution_count": null,
   "metadata": {},
   "outputs": [],
   "source": [
    "for k in [1,2,3]:\n",
    "    plt.plot(x,np.sin(k*x))\n",
    "plt.grid()"
   ]
  },
  {
   "cell_type": "markdown",
   "metadata": {},
   "source": [
    "Lo mismo en figuras separadas:"
   ]
  },
  {
   "cell_type": "code",
   "execution_count": null,
   "metadata": {},
   "outputs": [],
   "source": [
    "for k in [1,2,3]:\n",
    "    plt.plot(x,np.sin(k*x))\n",
    "    plt.show()"
   ]
  },
  {
   "cell_type": "markdown",
   "metadata": {},
   "source": [
    "Curvas paramétricas:"
   ]
  },
  {
   "cell_type": "code",
   "execution_count": null,
   "metadata": {},
   "outputs": [],
   "source": [
    "t = np.linspace(0,2*np.pi,200)\n",
    "\n",
    "xc = np.cos(t)\n",
    "yc = np.sin(t)\n",
    "\n",
    "plt.plot(xc,yc)\n",
    "\n",
    "plt.axis('equal');"
   ]
  },
  {
   "cell_type": "code",
   "execution_count": null,
   "metadata": {},
   "outputs": [],
   "source": [
    "def espiral(n):\n",
    "    t = np.linspace(0,n*2*np.pi,1000)\n",
    "    r = 3 * t\n",
    "    x = r * np.cos(t)\n",
    "    y = r * np.sin(t)\n",
    "    plt.plot(x,y)\n",
    "\n",
    "espiral(4)\n",
    "plt.axis('equal')\n",
    "plt.axis('off');"
   ]
  },
  {
   "cell_type": "markdown",
   "metadata": {},
   "source": [
    "Es fácil representar curvas en el plano complejo separando la parte real e imaginaria:"
   ]
  },
  {
   "cell_type": "code",
   "execution_count": null,
   "metadata": {},
   "outputs": [],
   "source": [
    "theta = np.linspace(0,2*np.pi,100)\n",
    "z = np.exp(1j*theta)\n",
    "plt.plot(np.real(z), np.imag(z), '.-')\n",
    "plt.axis('equal');\n",
    "plt.xlabel('parte real'); plt.ylabel('parte imaginaria'); plt.title('Plano complejo $\\mathbb{C}$');"
   ]
  },
  {
   "cell_type": "markdown",
   "metadata": {},
   "source": [
    "Se puede trabajar directamente en coordenadas polares."
   ]
  },
  {
   "cell_type": "code",
   "execution_count": null,
   "metadata": {},
   "outputs": [],
   "source": [
    "v = np.linspace(0,2*np.pi,1000)\n",
    "r = 1/(1+0.5*np.cos(v))\n",
    "\n",
    "plt.figure(figsize=(6,6))\n",
    "ax = plt.subplot(111, projection='polar')\n",
    "ax.plot(v, r, lw=2)\n",
    "ax.grid(True)\n",
    "ax.set_title(\"Polar focal parametric ellipse\", va='bottom');\n",
    "\n",
    "#ax.set_rmax(2)\n",
    "#ax.set_rticks([0.5, 1, 1.5, 2])  # change radial ticks\n",
    "#ax.set_rlabel_position(-22.5)    # position of radial labels"
   ]
  },
  {
   "cell_type": "markdown",
   "metadata": {},
   "source": [
    "Otro ejemplo:"
   ]
  },
  {
   "cell_type": "code",
   "execution_count": null,
   "metadata": {},
   "outputs": [],
   "source": [
    "def randwalk(n,s):\n",
    "    p = s*np.random.randn(n,2)\n",
    "    r = np.cumsum(p,axis=0)\n",
    "    x = r[:,0]\n",
    "    y = r[:,1]\n",
    "    plt.plot(x,y)"
   ]
  },
  {
   "cell_type": "code",
   "execution_count": null,
   "metadata": {},
   "outputs": [],
   "source": [
    "plt.figure(figsize=(5,5))\n",
    "randwalk(1000,1)\n",
    "plt.axis('equal');"
   ]
  },
  {
   "cell_type": "markdown",
   "metadata": {},
   "source": [
    "Varias gráficas en la misma figura:"
   ]
  },
  {
   "cell_type": "code",
   "execution_count": null,
   "metadata": {},
   "outputs": [],
   "source": [
    "plt.figure(figsize=(8,8))\n",
    "x = np.linspace(0,6*np.pi,100);\n",
    "\n",
    "plt.subplot(2,2,1)\n",
    "plt.plot(x,np.sin(x),color='red')\n",
    "\n",
    "plt.subplot(2,2,2)\n",
    "plt.plot(x,np.cos(x))\n",
    "\n",
    "plt.subplot(2,2,3)\n",
    "plt.plot(x,np.sin(2*x))\n",
    "\n",
    "plt.subplot(2,2,4)\n",
    "plt.plot(x,np.cos(2*x),color='green');"
   ]
  },
  {
   "cell_type": "markdown",
   "metadata": {},
   "source": [
    "Varias gráficas en la misma figura pero situando los ejes en cualquier posición:"
   ]
  },
  {
   "cell_type": "code",
   "execution_count": null,
   "metadata": {},
   "outputs": [],
   "source": [
    "x = np.linspace(0,6*np.pi,100);\n",
    "\n",
    "fig = plt.figure(figsize=(5,5))\n",
    "ax1 = fig.add_axes([0,0,0.5,1])\n",
    "ax1.plot(x,np.sin(x),color='red')\n",
    "ax1.grid()\n",
    "ax2 = fig.add_axes([0.25,0.25,1,0.5])\n",
    "ax2.set_title('cos(x)')\n",
    "ax2.plot(x,np.cos(x),color='blue');"
   ]
  },
  {
   "cell_type": "markdown",
   "metadata": {},
   "source": [
    "## fill"
   ]
  },
  {
   "cell_type": "markdown",
   "metadata": {},
   "source": [
    "Podemos dibujar polígonos rellenos:"
   ]
  },
  {
   "cell_type": "code",
   "execution_count": null,
   "metadata": {},
   "outputs": [],
   "source": [
    "x = [1,4,3,6,5,8]\n",
    "y = [3,4,6,7,3,1]\n",
    "\n",
    "plt.figure(figsize=(5,5))\n",
    "plt.fill(x,y,color='red')\n",
    "plt.axis('equal');"
   ]
  },
  {
   "cell_type": "markdown",
   "metadata": {},
   "source": [
    "Los nodos utilizados son:"
   ]
  },
  {
   "cell_type": "code",
   "execution_count": null,
   "metadata": {},
   "outputs": [],
   "source": [
    "x = [1,4,3,6,5,8]\n",
    "y = [3,4,6,7,3,1]\n",
    "\n",
    "plt.figure(figsize=(5,5))\n",
    "plt.plot(x,y,'o-')\n",
    "plt.axis('equal');"
   ]
  },
  {
   "cell_type": "markdown",
   "metadata": {},
   "source": [
    "También tenemos `fill_between`, que rellena el espacio entre dos líneas."
   ]
  },
  {
   "cell_type": "markdown",
   "metadata": {},
   "source": [
    "## Anotaciones *"
   ]
  },
  {
   "cell_type": "markdown",
   "metadata": {},
   "source": [
    "A continuación se muestra el código (simplificado) de un gráfico usado en la presentación de clase. Una vez creado se almacena en un archivo con el formato deseado."
   ]
  },
  {
   "cell_type": "code",
   "execution_count": null,
   "metadata": {},
   "outputs": [],
   "source": [
    "import matplotlib.pyplot as plt\n",
    "import numpy as np\n",
    "\n",
    "x = np.linspace(-2,5,100)\n",
    "\n",
    "def f(x):\n",
    "    y = 2*x**3 + 20 *x - 10\n",
    "    return y\n",
    "\n",
    "x_s = 0.49\n",
    "\n",
    "plt.plot(x,f(x),lw=4);\n",
    "plt.plot(x,0*x,color='black');\n",
    "plt.ylim(-100,400)\n",
    "plt.text(3.5,320,'y=f(x)',fontsize=14)\n",
    "plt.xticks(np.arange(-2,6))\n",
    "plt.annotate('root', xy=(x_s,0),  xycoords='data', fontsize=14,\n",
    "            xytext=(-1, 200), textcoords='data',\n",
    "            arrowprops=dict(color='gray', shrink=0.05, width=0.1, headwidth=6),\n",
    "            horizontalalignment='center', verticalalignment='top', \n",
    "            );\n",
    "\n",
    "plt.savefig('newton0.pdf')"
   ]
  },
  {
   "cell_type": "markdown",
   "metadata": {},
   "source": [
    "## 3D *"
   ]
  },
  {
   "cell_type": "code",
   "execution_count": null,
   "metadata": {},
   "outputs": [],
   "source": [
    "import numpy             as np\n",
    "import matplotlib.pyplot as plt\n",
    "\n",
    "from mpl_toolkits.mplot3d import Axes3D"
   ]
  },
  {
   "cell_type": "code",
   "execution_count": null,
   "metadata": {},
   "outputs": [],
   "source": [
    "t = np.linspace(0,5*2*np.pi,1000)\n",
    "x = np.cos(t)\n",
    "y = np.sin(t)\n",
    "z = t\n",
    "\n",
    "fig = plt.figure(figsize=(6,6))\n",
    "ax = fig.add_subplot(111, projection='3d')\n",
    "ax.plot(x,y,z)\n",
    "ax.set_xticks(np.linspace(-1,1,5));\n",
    "ax.set_yticks(np.linspace(-1,1,5));\n",
    "ax.set_xlabel('x'); ax.set_ylabel('y'); ax.set_zlabel('z');"
   ]
  },
  {
   "cell_type": "code",
   "execution_count": null,
   "metadata": {},
   "outputs": [],
   "source": [
    "r = np.linspace(-3,3,50)\n",
    "x,y = np.meshgrid(r,r)\n",
    "\n",
    "z = x**2-y**2\n",
    "\n",
    "fig = plt.figure(figsize=(6,6))\n",
    "ax = fig.add_subplot(111, projection='3d')\n",
    "ax.plot_surface(x,y,z, cmap='coolwarm', linewidth=0.5, rstride=2, cstride=2);"
   ]
  },
  {
   "cell_type": "markdown",
   "metadata": {},
   "source": [
    "Otra forma de representar la altura de una superficie es mediante colores:"
   ]
  },
  {
   "cell_type": "code",
   "execution_count": null,
   "metadata": {},
   "outputs": [],
   "source": [
    "plt.imshow(z,'coolwarm');"
   ]
  },
  {
   "cell_type": "markdown",
   "metadata": {},
   "source": [
    "O mediante curvas de nivel:"
   ]
  },
  {
   "cell_type": "code",
   "execution_count": null,
   "metadata": {},
   "outputs": [],
   "source": [
    "plt.figure(figsize=(6,6))\n",
    "\n",
    "CS = plt.contour(x,y, z, colors=['black']);\n",
    "plt.clabel(CS, inline=1, fontsize=8)\n",
    "plt.axis('equal');"
   ]
  },
  {
   "cell_type": "markdown",
   "metadata": {},
   "source": [
    "Otro ejemplo."
   ]
  },
  {
   "cell_type": "code",
   "execution_count": null,
   "metadata": {},
   "outputs": [],
   "source": [
    "fig = plt.figure(figsize=(6,6))\n",
    "ax = fig.add_subplot(111, projection='3d')\n",
    "\n",
    "z = np.exp(-0.5*(x**2+y**2))\n",
    "\n",
    "ax.plot_surface(x,y,z, cmap='coolwarm', linewidth=0.5, rstride=2, cstride=2);"
   ]
  },
  {
   "cell_type": "code",
   "execution_count": null,
   "metadata": {},
   "outputs": [],
   "source": [
    "plt.imshow(z,'gray');"
   ]
  },
  {
   "cell_type": "code",
   "execution_count": null,
   "metadata": {},
   "outputs": [],
   "source": [
    "plt.figure(figsize=(6,6))\n",
    "\n",
    "plt.contour(x,y,z);"
   ]
  },
  {
   "cell_type": "markdown",
   "metadata": {},
   "source": [
    "Se puede representar cualquier superficie de forma paramétrica. Por ejemplo, una esfera se consigue con coordenadas esféricas:"
   ]
  },
  {
   "cell_type": "code",
   "execution_count": null,
   "metadata": {},
   "outputs": [],
   "source": [
    "u = np.linspace(0.0, 2.0 * np.pi, 30)\n",
    "v = np.linspace(0.0, np.pi, 30)\n",
    "x_0 = np.outer(np.cos(u), np.sin(v))\n",
    "y_0 = np.outer(np.sin(u), np.sin(v))\n",
    "z_0 = np.outer(np.ones_like(u), np.cos(v))\n",
    "\n",
    "fig = plt.figure(figsize=(6,6))\n",
    "ax = fig.add_subplot(111, projection='3d')\n",
    "ax.plot_surface(x_0,y_0,z_0, cmap='gray');"
   ]
  },
  {
   "cell_type": "markdown",
   "metadata": {},
   "source": [
    "## Interactivo *"
   ]
  },
  {
   "cell_type": "code",
   "execution_count": null,
   "metadata": {},
   "outputs": [],
   "source": [
    "# (necesario solo en jupyterlite)\n",
    "import sys\n",
    "if 'pyodide' in sys.modules:\n",
    "    %pip install ipywidgets\n",
    "\n",
    "# En jupyterab puede ser necesario instalar este paquete\n",
    "# !pip install ipywidgets"
   ]
  },
  {
   "cell_type": "code",
   "execution_count": null,
   "metadata": {},
   "outputs": [],
   "source": [
    "from ipywidgets import interact\n",
    "\n",
    "@interact(freq=(1.,5))\n",
    "def fun(freq):\n",
    "    t = np.linspace(0,2*np.pi,1000)\n",
    "    plt.plot(t,np.sin(freq*t),color='black')\n",
    "    plt.show()"
   ]
  },
  {
   "cell_type": "markdown",
   "metadata": {},
   "source": [
    "## Animaciones *"
   ]
  },
  {
   "cell_type": "code",
   "execution_count": null,
   "metadata": {},
   "outputs": [],
   "source": [
    "from matplotlib import animation\n",
    "from IPython.display import HTML\n",
    "plt.rc('animation', html='html5')"
   ]
  },
  {
   "cell_type": "markdown",
   "metadata": {},
   "source": [
    "Las animaciones se construyen definiendo una función que modifica los datos del gráfico en cada fotograma."
   ]
  },
  {
   "cell_type": "code",
   "execution_count": null,
   "metadata": {},
   "outputs": [],
   "source": [
    "fig = plt.figure()\n",
    "\n",
    "plt.xlim(( 0, 2*np.pi))\n",
    "plt.ylim((-1.1, 1.1))\n",
    "[line] = plt.plot([], [])\n",
    "\n",
    "plt.close();\n",
    "\n",
    "x = np.linspace(0,2*np.pi,300)\n",
    "\n",
    "def fotograma(t):\n",
    "    line.set_data(x,np.sin(2*x-t*2*np.pi/100))\n",
    "    return ()\n",
    "\n",
    "ani = animation.FuncAnimation(fig, fotograma, frames=100, interval=1000/25, blit=True)\n",
    "HTML(ani.to_jshtml())"
   ]
  },
  {
   "cell_type": "code",
   "execution_count": null,
   "metadata": {},
   "outputs": [],
   "source": [
    "x = np.linspace(0,2,100)\n",
    "\n",
    "def wave(lam,freq,x,t):\n",
    "    return 1*np.sin(2*np.pi*(x/lam - t*freq))\n",
    "\n",
    "fig = plt.figure()\n",
    "plt.grid()\n",
    "plt.title('onda viajera')\n",
    "plt.xlabel('x');\n",
    "plt.xlim(( 0, 2))\n",
    "plt.ylim((-1.1, 1.1))\n",
    "\n",
    "[line1] = plt.plot([], [], color='olive')\n",
    "[line2] = plt.plot([],[],'.',markersize=15)\n",
    "\n",
    "plt.close();\n",
    "\n",
    "lam  = 0.8\n",
    "freq = 1/4\n",
    "\n",
    "def animate(i):\n",
    "    t = i/25\n",
    "    line1.set_data(x,wave(lam,freq,x,t))\n",
    "    line2.set_data([1],[wave(lam,freq,1,t)])\n",
    "    return ()\n",
    "\n",
    "ani = animation.FuncAnimation(fig, animate, frames=100, interval=1000/25, blit=True)\n",
    "HTML(ani.to_jshtml())"
   ]
  },
  {
   "cell_type": "code",
   "execution_count": null,
   "metadata": {},
   "outputs": [],
   "source": [
    "a = np.linspace(0,2*np.pi,1000)\n",
    "\n",
    "fig = plt.figure(figsize=(6,6))\n",
    "\n",
    "plt.xlim(-2, 2)\n",
    "plt.ylim(-2, 2)\n",
    "plt.xlabel('x'); plt.ylabel('y')\n",
    "plt.title('Lissajous')\n",
    "[line] = plt.plot([], [], color='red', lw=2)\n",
    "plt.close()\n",
    "\n",
    "def update(n):\n",
    "    t = 0.03*n\n",
    "    x = np.sin(2*a)\n",
    "    y = np.sin(7*a+t)\n",
    "    line.set_data(x,y)\n",
    "    return ()\n",
    "\n",
    "ani = animation.FuncAnimation(fig, update, frames=120, interval=1000/30, blit=True)\n",
    "HTML(ani.to_jshtml())"
   ]
  },
  {
   "cell_type": "markdown",
   "metadata": {},
   "source": [
    "## Estilos *"
   ]
  },
  {
   "cell_type": "markdown",
   "metadata": {},
   "source": [
    "Hay muchas posibilidades para personalizar el estilo del los gráficos. Incluso es posible simular los [comics xkcd](https://xkcd.com)."
   ]
  },
  {
   "cell_type": "code",
   "execution_count": null,
   "metadata": {},
   "outputs": [],
   "source": [
    "if False:\n",
    "    with plt.xkcd():\n",
    "        plt.plot(np.sin(np.linspace(0, 10)),label='sin')\n",
    "        plt.title('xkcd style!');\n",
    "        plt.xlabel('time');\n",
    "        plt.ylabel('amplitude')\n",
    "        plt.legend();"
   ]
  },
  {
   "cell_type": "code",
   "execution_count": null,
   "metadata": {},
   "outputs": [],
   "source": [
    "if False:\n",
    "    plt.style.use('seaborn')\n",
    "\n",
    "    plt.plot(np.sin(np.linspace(0, 10)));"
   ]
  },
  {
   "cell_type": "code",
   "execution_count": null,
   "metadata": {},
   "outputs": [],
   "source": [
    "plt.style.use('default')"
   ]
  },
  {
   "cell_type": "markdown",
   "metadata": {},
   "source": [
    "## YouTube *"
   ]
  },
  {
   "cell_type": "code",
   "execution_count": null,
   "metadata": {},
   "outputs": [],
   "source": [
    "from IPython.display import YouTubeVideo"
   ]
  },
  {
   "cell_type": "code",
   "execution_count": null,
   "metadata": {},
   "outputs": [],
   "source": [
    "YouTubeVideo('p7bzE1E5PMY')"
   ]
  },
  {
   "cell_type": "markdown",
   "metadata": {},
   "source": [
    "## Audio *"
   ]
  },
  {
   "cell_type": "markdown",
   "metadata": {},
   "source": [
    "## Gráficos interactivos"
   ]
  },
  {
   "cell_type": "code",
   "execution_count": null,
   "metadata": {},
   "outputs": [],
   "source": [
    "# (necesario solo en jupyterlite)\n",
    "import sys\n",
    "if 'pyodide' in sys.modules:\n",
    "    %pip install ipympl\n",
    "\n",
    "%matplotlib widget"
   ]
  },
  {
   "cell_type": "code",
   "execution_count": null,
   "metadata": {},
   "outputs": [],
   "source": [
    "r = np.linspace(-3,3,50)\n",
    "x,y = np.meshgrid(r,r)\n",
    "\n",
    "z = x**2-y**2\n",
    "\n",
    "fig = plt.figure(figsize=(6,6))\n",
    "ax = fig.add_subplot(111, projection='3d')\n",
    "ax.plot_surface(x,y,z, cmap='coolwarm', linewidth=0.5, rstride=2, cstride=2);"
   ]
  },
  {
   "cell_type": "code",
   "execution_count": null,
   "metadata": {},
   "outputs": [],
   "source": [
    "# para volver a la normalidad\n",
    "%matplotlib inline"
   ]
  }
 ],
 "metadata": {
  "hide_input": false,
  "kernelspec": {
   "display_name": "Python 3 (ipykernel)",
   "language": "python",
   "name": "python3"
  },
  "language_info": {
   "codemirror_mode": {
    "name": "ipython",
    "version": 3
   },
   "file_extension": ".py",
   "mimetype": "text/x-python",
   "name": "python",
   "nbconvert_exporter": "python",
   "pygments_lexer": "ipython3",
   "version": "3.11.5"
  },
  "varInspector": {
   "cols": {
    "lenName": 16,
    "lenType": 16,
    "lenVar": 40
   },
   "kernels_config": {
    "python": {
     "delete_cmd_postfix": "",
     "delete_cmd_prefix": "del ",
     "library": "var_list.py",
     "varRefreshCmd": "print(var_dic_list())"
    },
    "r": {
     "delete_cmd_postfix": ") ",
     "delete_cmd_prefix": "rm(",
     "library": "var_list.r",
     "varRefreshCmd": "cat(var_dic_list()) "
    }
   },
   "types_to_exclude": [
    "module",
    "function",
    "builtin_function_or_method",
    "instance",
    "_Feature"
   ],
   "window_display": false
  }
 },
 "nbformat": 4,
 "nbformat_minor": 4
}
