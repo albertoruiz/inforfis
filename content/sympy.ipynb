{
  "metadata": {
    "hide_input": false,
    "varInspector": {
      "cols": {
        "lenName": 16,
        "lenType": 16,
        "lenVar": 40
      },
      "kernels_config": {
        "python": {
          "delete_cmd_postfix": "",
          "delete_cmd_prefix": "del ",
          "library": "var_list.py",
          "varRefreshCmd": "print(var_dic_list())"
        },
        "r": {
          "delete_cmd_postfix": ") ",
          "delete_cmd_prefix": "rm(",
          "library": "var_list.r",
          "varRefreshCmd": "cat(var_dic_list()) "
        }
      },
      "types_to_exclude": [
        "module",
        "function",
        "builtin_function_or_method",
        "instance",
        "_Feature"
      ],
      "window_display": false
    },
    "kernelspec": {
      "name": "python",
      "display_name": "Python (Pyodide)",
      "language": "python"
    },
    "language_info": {
      "codemirror_mode": {
        "name": "python",
        "version": 3
      },
      "file_extension": ".py",
      "mimetype": "text/x-python",
      "name": "python",
      "nbconvert_exporter": "python",
      "pygments_lexer": "ipython3",
      "version": "3.8"
    }
  },
  "nbformat_minor": 4,
  "nbformat": 4,
  "cells": [
    {
      "cell_type": "markdown",
      "source": "<p style=\"background:#f4f4f4; padding:5px; margin-left:-5px;margin-bottom:0px\">\nInformática - 1º de Física\n<br>\n<strong>Introducción a la Programación</strong>\n</p>",
      "metadata": {}
    },
    {
      "cell_type": "markdown",
      "source": "## Cálculo Simbólico",
      "metadata": {}
    },
    {
      "cell_type": "markdown",
      "source": "A diferencia del cálculo numérico, que siempre evalúa completamente las expresiones matemáticas, las herramientas de [cálculo simbólico](https://en.wikipedia.org/wiki/Computer_algebra) son capaces de manipular las expresiones propiamente dichas, sin evaluar, con ciertas reglas de transformación. Esto permite simplificar ecuaciones, despejar variables, obtener integrales indefinidas, etc. Para abordar este tipo de tareas existen sistemas de cálculo simbólico muy potentes como *Mathematica* (*Wolfram Alpha*), *Maple* (comerciales) y [Maxima](http://maxima.sourceforge.net/) (libre).\n\nEn este capítulo se presenta brevemente el paquete [sympy](http://www.sympy.org/en/index.html) incluido en el ecosistema científico de Python. No es tan completo como los anteriores pero permite resolver una amplia variedad de problemas de este tipo y puede combinarse fácilmente con las demás herramientas de programación del lenguaje.",
      "metadata": {}
    },
    {
      "cell_type": "markdown",
      "source": "### Símbolos y expresiones simbólicas",
      "metadata": {
        "heading_collapsed": true
      }
    },
    {
      "cell_type": "markdown",
      "source": "Lo más importante que hay que tener en cuenta para usar este paquete es que las expresiones matemáticas son un tipo de dato nuevo, que se construye a partir de \"símbolos\", con funciones matemáticas simbólicas que importamos de `sympy` (no de `math` o `numpy`).",
      "metadata": {
        "hidden": true
      }
    },
    {
      "cell_type": "markdown",
      "source": "Para mayor legibilidad importamos las funciones matemáticas más utilizadas y activamos la opción de *pretty printing*.",
      "metadata": {
        "hidden": true
      }
    },
    {
      "cell_type": "code",
      "source": "import sympy as sym\n\nfrom sympy import sin, cos, exp, sqrt\nfrom sympy import pi, oo\nfrom sympy import symbols, N\nfrom sympy.abc import alpha, beta\n\nsym.init_printing(pretty_print=True)",
      "metadata": {
        "hidden": true,
        "trusted": true
      },
      "execution_count": null,
      "outputs": []
    },
    {
      "cell_type": "code",
      "source": "x     = sym.Symbol('x')\ndelta = sym.Symbol('delta')",
      "metadata": {
        "hidden": true,
        "trusted": true
      },
      "execution_count": null,
      "outputs": []
    },
    {
      "cell_type": "markdown",
      "source": "La variable de Python `x` contiene la expresión matemática $x$, un único símbolo. Lo mismo ocurre con el nombre `delta`, al que asignamos el símbolo matemático $\\delta$. La opción de *pretty printing* muestra en el notebook los símbolos con la notación matemática habitual.",
      "metadata": {
        "hidden": true
      }
    },
    {
      "cell_type": "code",
      "source": "pi * x + delta",
      "metadata": {
        "hidden": true,
        "trusted": true
      },
      "execution_count": null,
      "outputs": []
    },
    {
      "cell_type": "markdown",
      "source": "Las operaciones matemáticas construyen expresiones simbólicas que no se evalúan (aunque algunas simplificaciones obvias se aplican automáticamente) y se pueden guardar en variables de Python.",
      "metadata": {
        "hidden": true
      }
    },
    {
      "cell_type": "code",
      "source": "cosa = sin(5*x+x-beta)",
      "metadata": {
        "hidden": true,
        "trusted": true
      },
      "execution_count": null,
      "outputs": []
    },
    {
      "cell_type": "code",
      "source": "cosa",
      "metadata": {
        "hidden": true,
        "trusted": true
      },
      "execution_count": null,
      "outputs": []
    },
    {
      "cell_type": "markdown",
      "source": "Las herramientas de cálculo simbólico manipulan este tipo de expresiones mediante reglas de transformación matemáticamente válidas. ",
      "metadata": {
        "hidden": true
      }
    },
    {
      "cell_type": "code",
      "source": "cosa**2 * 5 * cosa",
      "metadata": {
        "hidden": true,
        "trusted": true
      },
      "execution_count": null,
      "outputs": []
    },
    {
      "cell_type": "markdown",
      "source": "Para que esto sea posible, las expresiones se representan internamente mediante estructuras especiales. Podemos consultarlas por curiosidad, aunque en la práctica no tenemos que preocuparnos por ellas.",
      "metadata": {
        "hidden": true
      }
    },
    {
      "cell_type": "code",
      "source": "sym.srepr(cosa)",
      "metadata": {
        "hidden": true,
        "trusted": true
      },
      "execution_count": null,
      "outputs": []
    },
    {
      "cell_type": "markdown",
      "source": "### Derivadas",
      "metadata": {
        "heading_collapsed": true
      }
    },
    {
      "cell_type": "markdown",
      "source": "La derivación de funciones es una de las tareas mejor resueltas mediante el cálculo simbólico, ya que es un proceso puramente mecánico.",
      "metadata": {
        "hidden": true
      }
    },
    {
      "cell_type": "code",
      "source": "sym.diff( sin(cos(x)) , x )",
      "metadata": {
        "cell_style": "center",
        "hidden": true,
        "trusted": true
      },
      "execution_count": null,
      "outputs": []
    },
    {
      "cell_type": "code",
      "source": "f = sin(x**2)\n\nsym.diff(f,x,2)",
      "metadata": {
        "cell_style": "center",
        "hidden": true,
        "trusted": true
      },
      "execution_count": null,
      "outputs": []
    },
    {
      "cell_type": "markdown",
      "source": "Muchas funciones de `sympy` pueden aplicarse de forma normal, o como \"métodos\":",
      "metadata": {
        "hidden": true
      }
    },
    {
      "cell_type": "code",
      "source": "f.diff(x,2)",
      "metadata": {
        "hidden": true,
        "trusted": true
      },
      "execution_count": null,
      "outputs": []
    },
    {
      "cell_type": "markdown",
      "source": "Esta forma permite encadenar operaciones de forma cómoda:",
      "metadata": {
        "hidden": true
      }
    },
    {
      "cell_type": "code",
      "source": "g = sin(2*x)*exp(cos(x))\n\ng",
      "metadata": {
        "hidden": true,
        "trusted": true
      },
      "execution_count": null,
      "outputs": []
    },
    {
      "cell_type": "code",
      "source": "g.diff(x,3)",
      "metadata": {
        "hidden": true,
        "trusted": true
      },
      "execution_count": null,
      "outputs": []
    },
    {
      "cell_type": "code",
      "source": "g.diff(x,3).simplify()",
      "metadata": {
        "hidden": true,
        "trusted": true
      },
      "execution_count": null,
      "outputs": []
    },
    {
      "cell_type": "markdown",
      "source": "### Integrales",
      "metadata": {
        "heading_collapsed": true
      }
    },
    {
      "cell_type": "markdown",
      "source": "La integración simbólica es más complicada, ya que no todas las funciones tienen una primitiva que se pueda expresar con funciones elementales.",
      "metadata": {
        "hidden": true
      }
    },
    {
      "cell_type": "code",
      "source": "sym.integrate( sin(2*x)-x , x)",
      "metadata": {
        "tags": [],
        "trusted": true
      },
      "execution_count": null,
      "outputs": []
    },
    {
      "cell_type": "code",
      "source": "sym.integrate( 1/(1+x**2) , x)",
      "metadata": {
        "tags": [],
        "trusted": true
      },
      "execution_count": null,
      "outputs": []
    },
    {
      "cell_type": "code",
      "source": "sym.integrate( 1/(1+x**2) , (x,0,1))",
      "metadata": {
        "tags": [],
        "trusted": true
      },
      "execution_count": null,
      "outputs": []
    },
    {
      "cell_type": "markdown",
      "source": "Observa que el resultado es exacto, expresado en función del símbolo `pi`, que representa el verdadero número $\\pi$ matemático con todas sus propiedades:",
      "metadata": {
        "hidden": true
      }
    },
    {
      "cell_type": "code",
      "source": "sin(pi)",
      "metadata": {
        "hidden": true,
        "trusted": true
      },
      "execution_count": null,
      "outputs": []
    },
    {
      "cell_type": "markdown",
      "source": "Veamos otros ejemplos:",
      "metadata": {
        "hidden": true
      }
    },
    {
      "cell_type": "code",
      "source": "sym.integrate( 1/sqrt(1 + alpha**2 * x**2) , x)",
      "metadata": {
        "hidden": true,
        "trusted": true
      },
      "execution_count": null,
      "outputs": []
    },
    {
      "cell_type": "code",
      "source": "sym.integrate( sym.sinh(x*alpha) , x)",
      "metadata": {
        "hidden": true,
        "trusted": true
      },
      "execution_count": null,
      "outputs": []
    },
    {
      "cell_type": "code",
      "source": "f = sin(x**2)\n\nf",
      "metadata": {
        "hidden": true,
        "trusted": true
      },
      "execution_count": null,
      "outputs": []
    },
    {
      "cell_type": "code",
      "source": "f.integrate(x)",
      "metadata": {
        "hidden": true,
        "trusted": true
      },
      "execution_count": null,
      "outputs": []
    },
    {
      "cell_type": "markdown",
      "source": "El resultado viene dado en función de la función gamma, y de una función especial $S$. Si imprimimos el resultado \"de forma informática\" obtenemos más información:",
      "metadata": {
        "hidden": true
      }
    },
    {
      "cell_type": "code",
      "source": "print(f.integrate(x))",
      "metadata": {
        "hidden": true,
        "trusted": true
      },
      "execution_count": null,
      "outputs": []
    },
    {
      "cell_type": "markdown",
      "source": "Se trata de la [integral de Fresnel](https://en.wikipedia.org/wiki/Fresnel_integral).",
      "metadata": {
        "hidden": true
      }
    },
    {
      "cell_type": "markdown",
      "source": "### Cuidado",
      "metadata": {
        "heading_collapsed": true
      }
    },
    {
      "cell_type": "markdown",
      "source": "Diferencia entre la función predefinida y el símbolo genérico:",
      "metadata": {
        "hidden": true
      }
    },
    {
      "cell_type": "code",
      "source": "gamma = symbols('gamma')\ngamma",
      "metadata": {
        "hidden": true,
        "trusted": true
      },
      "execution_count": null,
      "outputs": []
    },
    {
      "cell_type": "code",
      "source": "sym.gamma",
      "metadata": {
        "hidden": true,
        "trusted": true
      },
      "execution_count": null,
      "outputs": []
    },
    {
      "cell_type": "code",
      "source": "sym.gamma(4),  sym.gamma(x)",
      "metadata": {
        "hidden": true,
        "trusted": true
      },
      "execution_count": null,
      "outputs": []
    },
    {
      "cell_type": "markdown",
      "source": "### Propiedades",
      "metadata": {
        "heading_collapsed": true
      }
    },
    {
      "cell_type": "code",
      "source": "e, E = sym.symbols('e E')\n\nsym.integrate( 1/E * exp(-e/E) , (e,0,sym.oo))",
      "metadata": {
        "hidden": true,
        "trusted": true
      },
      "execution_count": null,
      "outputs": []
    },
    {
      "cell_type": "markdown",
      "source": "Para evitar resultados demasiado generales a veces es conveniente dar propiedades a los símbolos:",
      "metadata": {
        "hidden": true
      }
    },
    {
      "cell_type": "code",
      "source": "e, E = sym.symbols('e E',positive=True)\n\nsym.integrate( 1/E * exp(-e/E) , (e,0,oo))",
      "metadata": {
        "hidden": true,
        "trusted": true
      },
      "execution_count": null,
      "outputs": []
    },
    {
      "cell_type": "code",
      "source": "sym.integrate( e* 1/E * exp(-e/E) , (e,0,oo))",
      "metadata": {
        "hidden": true,
        "trusted": true
      },
      "execution_count": null,
      "outputs": []
    },
    {
      "cell_type": "code",
      "source": "sym.integrate( 2/sqrt(pi*E**3) * sqrt(e) * exp(-e/E) ,(e,0,oo))",
      "metadata": {
        "hidden": true,
        "trusted": true
      },
      "execution_count": null,
      "outputs": []
    },
    {
      "cell_type": "code",
      "source": "sym.integrate( e *  2/sqrt(pi*E**3) * sqrt(e) * exp(-e/E) ,(e,0,oo))",
      "metadata": {
        "hidden": true,
        "trusted": true
      },
      "execution_count": null,
      "outputs": []
    },
    {
      "cell_type": "markdown",
      "source": "### Simplificación",
      "metadata": {
        "heading_collapsed": true
      }
    },
    {
      "cell_type": "code",
      "source": "cos(2*x+x)",
      "metadata": {
        "hidden": true,
        "trusted": true
      },
      "execution_count": null,
      "outputs": []
    },
    {
      "cell_type": "code",
      "source": "sym.simplify( sin(3*x)**2+cos(2*x+x)**2 )",
      "metadata": {
        "hidden": true,
        "trusted": true
      },
      "execution_count": null,
      "outputs": []
    },
    {
      "cell_type": "code",
      "source": "sym.expand( (x+3)**5 )",
      "metadata": {
        "hidden": true,
        "trusted": true
      },
      "execution_count": null,
      "outputs": []
    },
    {
      "cell_type": "code",
      "source": "sym.expand( (x-1)*(x+2)*(x-3) )",
      "metadata": {
        "hidden": true,
        "trusted": true
      },
      "execution_count": null,
      "outputs": []
    },
    {
      "cell_type": "code",
      "source": "sym.factor( x**5-1 )",
      "metadata": {
        "hidden": true,
        "trusted": true
      },
      "execution_count": null,
      "outputs": []
    },
    {
      "cell_type": "code",
      "source": "sym.expand( sin(3*x) , trig=True)",
      "metadata": {
        "hidden": true,
        "trusted": true
      },
      "execution_count": null,
      "outputs": []
    },
    {
      "cell_type": "markdown",
      "source": "### Sustitución",
      "metadata": {
        "heading_collapsed": true
      }
    },
    {
      "cell_type": "code",
      "source": "x,y = sym.symbols('x y')\n\ncosa = 2*x+y",
      "metadata": {
        "hidden": true,
        "trusted": true
      },
      "execution_count": null,
      "outputs": []
    },
    {
      "cell_type": "code",
      "source": "cosa.subs({x: y+1})",
      "metadata": {
        "hidden": true,
        "trusted": true
      },
      "execution_count": null,
      "outputs": []
    },
    {
      "cell_type": "code",
      "source": "(sin(2*x)).subs({sin: exp , x: y**2})",
      "metadata": {
        "hidden": true,
        "trusted": true
      },
      "execution_count": null,
      "outputs": []
    },
    {
      "cell_type": "markdown",
      "source": "### Evaluación numérica",
      "metadata": {
        "heading_collapsed": true
      }
    },
    {
      "cell_type": "markdown",
      "source": "Las expresiones simbólicas no son funciones normales de Python definidas con `def`, pero en cierto sentido podemos evaluarlas, dando valores numéricos a todos los símbolos.",
      "metadata": {
        "hidden": true
      }
    },
    {
      "cell_type": "code",
      "source": "cosa = sin(2*x)",
      "metadata": {
        "hidden": true,
        "trusted": true
      },
      "execution_count": null,
      "outputs": []
    },
    {
      "cell_type": "code",
      "source": "cosa.evalf(subs={x:0.6})",
      "metadata": {
        "hidden": true,
        "trusted": true
      },
      "execution_count": null,
      "outputs": []
    },
    {
      "cell_type": "code",
      "source": "f",
      "metadata": {
        "hidden": true,
        "trusted": true
      },
      "execution_count": null,
      "outputs": []
    },
    {
      "cell_type": "code",
      "source": "sym.integrate(f,x)",
      "metadata": {
        "hidden": true,
        "trusted": true
      },
      "execution_count": null,
      "outputs": []
    },
    {
      "cell_type": "code",
      "source": "sym.integrate(f,(x,1,2))",
      "metadata": {
        "hidden": true,
        "trusted": true
      },
      "execution_count": null,
      "outputs": []
    },
    {
      "cell_type": "code",
      "source": "N(sym.integrate(f,(x,1,2)))",
      "metadata": {
        "hidden": true,
        "trusted": true
      },
      "execution_count": null,
      "outputs": []
    },
    {
      "cell_type": "code",
      "source": "N(sqrt(2),100)",
      "metadata": {
        "hidden": true,
        "trusted": true
      },
      "execution_count": null,
      "outputs": []
    },
    {
      "cell_type": "code",
      "source": "N(pi**2,1000)",
      "metadata": {
        "hidden": true,
        "trusted": true
      },
      "execution_count": null,
      "outputs": []
    },
    {
      "cell_type": "markdown",
      "source": "### Conversión de expresiones en funciones numéricas",
      "metadata": {
        "heading_collapsed": true
      }
    },
    {
      "cell_type": "code",
      "source": "f = sym.integrate(exp(-x**2),x)\nf",
      "metadata": {
        "hidden": true,
        "trusted": true
      },
      "execution_count": null,
      "outputs": []
    },
    {
      "cell_type": "code",
      "source": "f.evalf(subs={x:2})",
      "metadata": {
        "hidden": true,
        "trusted": true
      },
      "execution_count": null,
      "outputs": []
    },
    {
      "cell_type": "code",
      "source": "g = sym.lambdify(x,f,\"math\")",
      "metadata": {
        "hidden": true,
        "trusted": true
      },
      "execution_count": null,
      "outputs": []
    },
    {
      "cell_type": "code",
      "source": "g(2)",
      "metadata": {
        "hidden": true,
        "trusted": true
      },
      "execution_count": null,
      "outputs": []
    },
    {
      "cell_type": "code",
      "source": "import scipy.special\n\nh = sym.lambdify(x, f, ['numpy',  {'erf':scipy.special.erf}])",
      "metadata": {
        "hidden": true,
        "trusted": true
      },
      "execution_count": null,
      "outputs": []
    },
    {
      "cell_type": "code",
      "source": "h([2,3])",
      "metadata": {
        "hidden": true,
        "trusted": true
      },
      "execution_count": null,
      "outputs": []
    },
    {
      "cell_type": "markdown",
      "source": "### Solución de ecuaciones",
      "metadata": {
        "heading_collapsed": true
      }
    },
    {
      "cell_type": "code",
      "source": "sym.solveset( 1+x-x**2 , x)",
      "metadata": {
        "hidden": true,
        "trusted": true
      },
      "execution_count": null,
      "outputs": []
    },
    {
      "cell_type": "code",
      "source": "sym.solveset( x**3-2*x**2-5*x+6 , x)",
      "metadata": {
        "hidden": true,
        "trusted": true
      },
      "execution_count": null,
      "outputs": []
    },
    {
      "cell_type": "code",
      "source": "sym.solveset( 1+x-x**3 , x)",
      "metadata": {
        "hidden": true,
        "trusted": true
      },
      "execution_count": null,
      "outputs": []
    },
    {
      "cell_type": "code",
      "source": "a = symbols('a')\n\nsym.solveset( 1+a*x-x**3 , x)",
      "metadata": {
        "hidden": true,
        "trusted": true
      },
      "execution_count": null,
      "outputs": []
    },
    {
      "cell_type": "code",
      "source": "[N(s) for s in sym.solveset(1+x-x**3,x)]",
      "metadata": {
        "tags": [],
        "trusted": true
      },
      "execution_count": null,
      "outputs": []
    },
    {
      "cell_type": "code",
      "source": "sym.solveset( cos(x)-sin(x) , x)",
      "metadata": {
        "hidden": true,
        "trusted": true
      },
      "execution_count": null,
      "outputs": []
    },
    {
      "cell_type": "code",
      "source": "sym.solveset(cos(x)-x**2,x)",
      "metadata": {
        "hidden": true,
        "trusted": true
      },
      "execution_count": null,
      "outputs": []
    },
    {
      "cell_type": "markdown",
      "source": "### Límites",
      "metadata": {
        "heading_collapsed": true
      }
    },
    {
      "cell_type": "code",
      "source": "sym.limit( x / (5 + 2*x) , x, oo)",
      "metadata": {
        "hidden": true,
        "trusted": true
      },
      "execution_count": null,
      "outputs": []
    },
    {
      "cell_type": "code",
      "source": "sym.limit( (1+ 3/x)**x , x , oo )",
      "metadata": {
        "hidden": true,
        "trusted": true
      },
      "execution_count": null,
      "outputs": []
    },
    {
      "cell_type": "markdown",
      "source": "### Series",
      "metadata": {
        "heading_collapsed": true
      }
    },
    {
      "cell_type": "code",
      "source": "k, n = symbols('k n')\n\nS = sym.Sum( 2*k-1, (k, 1, n))\n\nS",
      "metadata": {
        "hidden": true,
        "trusted": true
      },
      "execution_count": null,
      "outputs": []
    },
    {
      "cell_type": "code",
      "source": "S.doit()",
      "metadata": {
        "hidden": true,
        "trusted": true
      },
      "execution_count": null,
      "outputs": []
    },
    {
      "cell_type": "code",
      "source": "s = sym.Sum( (x**k)**2, (k,5,oo))\ns",
      "metadata": {
        "hidden": true,
        "trusted": true
      },
      "execution_count": null,
      "outputs": []
    },
    {
      "cell_type": "code",
      "source": "s.doit()",
      "metadata": {
        "hidden": true,
        "trusted": true
      },
      "execution_count": null,
      "outputs": []
    },
    {
      "cell_type": "code",
      "source": "S = sym.Sum(1/k**3, (k,1,oo))\nS",
      "metadata": {
        "hidden": true,
        "trusted": true
      },
      "execution_count": null,
      "outputs": []
    },
    {
      "cell_type": "code",
      "source": "S.doit()",
      "metadata": {
        "hidden": true,
        "trusted": true
      },
      "execution_count": null,
      "outputs": []
    },
    {
      "cell_type": "markdown",
      "source": "(Es la [Zeta de Riemann](https://en.wikipedia.org/wiki/Riemann_zeta_function).)",
      "metadata": {
        "hidden": true
      }
    },
    {
      "cell_type": "markdown",
      "source": "### Ecuaciones diferenciales",
      "metadata": {
        "heading_collapsed": true
      }
    },
    {
      "cell_type": "code",
      "source": "alpha = sym.Function(alpha)",
      "metadata": {
        "trusted": true
      },
      "execution_count": null,
      "outputs": []
    },
    {
      "cell_type": "code",
      "source": "eq = sym.diff(alpha(x),x,2)+alpha(x)\n\neq",
      "metadata": {
        "hidden": true,
        "trusted": true
      },
      "execution_count": null,
      "outputs": []
    },
    {
      "cell_type": "code",
      "source": "sym.dsolve( eq , alpha(x))",
      "metadata": {
        "hidden": true,
        "trusted": true
      },
      "execution_count": null,
      "outputs": []
    },
    {
      "cell_type": "markdown",
      "source": "Las ecuaciones en derivadas parciales por ahora solo admiten dos variables y ecuaciones de tipos sencillo.",
      "metadata": {
        "hidden": true
      }
    },
    {
      "cell_type": "code",
      "source": "f,x,y,a = symbols('f x y a')\nf = sym.Function(f)\neq = sym.Eq(sym.diff(f(x,y),x) + a*sym.diff(f(x,y),y),0)\neq",
      "metadata": {
        "hidden": true,
        "trusted": true
      },
      "execution_count": null,
      "outputs": []
    },
    {
      "cell_type": "code",
      "source": "sym.pdsolve(eq)",
      "metadata": {
        "hidden": true,
        "trusted": true
      },
      "execution_count": null,
      "outputs": []
    },
    {
      "cell_type": "markdown",
      "source": "### series de Taylor",
      "metadata": {
        "heading_collapsed": true
      }
    },
    {
      "cell_type": "code",
      "source": "sym.series(sqrt(1+x**2),x,0,6)",
      "metadata": {
        "hidden": true,
        "trusted": true
      },
      "execution_count": null,
      "outputs": []
    },
    {
      "cell_type": "code",
      "source": "sym.series(sin(x),x,a,5)",
      "metadata": {
        "hidden": true,
        "trusted": true
      },
      "execution_count": null,
      "outputs": []
    },
    {
      "cell_type": "markdown",
      "source": "### Operaciones matriciales",
      "metadata": {
        "heading_collapsed": true
      }
    },
    {
      "cell_type": "code",
      "source": "a,b,c = symbols('a b c')\n\nm = sym.Matrix( [[a,b],[b,c]] )",
      "metadata": {
        "hidden": true,
        "trusted": true
      },
      "execution_count": null,
      "outputs": []
    },
    {
      "cell_type": "code",
      "source": "m",
      "metadata": {
        "hidden": true,
        "trusted": true
      },
      "execution_count": null,
      "outputs": []
    },
    {
      "cell_type": "code",
      "source": "m.eigenvals()",
      "metadata": {
        "hidden": true,
        "trusted": true
      },
      "execution_count": null,
      "outputs": []
    },
    {
      "cell_type": "markdown",
      "source": "\n### Lógica",
      "metadata": {
        "hidden": true
      }
    },
    {
      "cell_type": "code",
      "source": "p,q,r = symbols('p q r')",
      "metadata": {
        "hidden": true,
        "trusted": true
      },
      "execution_count": null,
      "outputs": []
    },
    {
      "cell_type": "code",
      "source": "formula = ((p >> q) & (p >> ~q)) >> ~p\nformula",
      "metadata": {
        "hidden": true,
        "trusted": true
      },
      "execution_count": null,
      "outputs": []
    },
    {
      "cell_type": "code",
      "source": "sym.simplify_logic(formula)",
      "metadata": {
        "hidden": true,
        "trusted": true
      },
      "execution_count": null,
      "outputs": []
    },
    {
      "cell_type": "code",
      "source": "sym.satisfiable(p >> ~p)",
      "metadata": {
        "hidden": true,
        "trusted": true
      },
      "execution_count": null,
      "outputs": []
    },
    {
      "cell_type": "markdown",
      "source": "### Caso de estudio: desarrollo de Taylor",
      "metadata": {
        "heading_collapsed": true
      }
    },
    {
      "cell_type": "markdown",
      "source": "Definimos nuestra propia función para calcular un desarrollo de Taylor y convertirlo en función numérica que admite arrays.",
      "metadata": {
        "hidden": true
      }
    },
    {
      "cell_type": "code",
      "source": "def Taylor(f,x,a,n):\n    def fn(k):\n        return f.diff(x,k).subs({x:a}).simplify()\n    return sum([((x-a)**k / sym.factorial(k)* fn(k)).simplify() for k in range(n+1)])\n\nTaylor( sin(x), x, 0, 5 )",
      "metadata": {
        "hidden": true,
        "trusted": true
      },
      "execution_count": null,
      "outputs": []
    },
    {
      "cell_type": "code",
      "source": "Taylor( sqrt(1+x**2) , x, a, 2)",
      "metadata": {
        "hidden": true,
        "trusted": true
      },
      "execution_count": null,
      "outputs": []
    },
    {
      "cell_type": "code",
      "source": "f = sin(x)\n\ndef g(n):\n    fun = sym.lambdify(x,Taylor(f,x,0,n),'numpy')\n    return fun\n\n\nimport numpy as np\nimport matplotlib.pyplot as plt\n%matplotlib inline\n\nX = np.linspace(-np.pi,np.pi,100)\nplt.ylim(-1.5,1.5)\nplt.plot(X,np.sin(X),X,g(1)(X),X,g(3)(X), X, g(5)(X));",
      "metadata": {
        "hidden": true,
        "trusted": true
      },
      "execution_count": null,
      "outputs": []
    },
    {
      "cell_type": "markdown",
      "source": "### plot",
      "metadata": {
        "heading_collapsed": true
      }
    },
    {
      "cell_type": "markdown",
      "source": "`sympy` tiene una función `plot` que admite directamente expresiones simbólicas.",
      "metadata": {
        "hidden": true
      }
    },
    {
      "cell_type": "code",
      "source": "sym.plot( sin(x)+cos(5*x) , (x,0,6));",
      "metadata": {
        "hidden": true,
        "trusted": true
      },
      "execution_count": null,
      "outputs": []
    },
    {
      "cell_type": "markdown",
      "source": "### Caso de estudio: integral de Riemann",
      "metadata": {
        "heading_collapsed": true
      }
    },
    {
      "cell_type": "markdown",
      "source": "Vamos a calcular la integral definida de una función mediante la suma de un número *infinito* de rectángulos ([integral de Riemann](https://en.wikipedia.org/wiki/Riemann_integral)).",
      "metadata": {
        "hidden": true
      }
    },
    {
      "cell_type": "code",
      "source": "x,y,z,a,b,n,k = symbols('x y z a b n k')",
      "metadata": {
        "hidden": true,
        "trusted": true
      },
      "execution_count": null,
      "outputs": []
    },
    {
      "cell_type": "code",
      "source": "def f(x):\n    return x**2",
      "metadata": {
        "hidden": true,
        "trusted": true
      },
      "execution_count": null,
      "outputs": []
    },
    {
      "cell_type": "markdown",
      "source": "En primer lugar comprobamos el resultado que deseamos obtener.",
      "metadata": {
        "hidden": true
      }
    },
    {
      "cell_type": "code",
      "source": "I = sym.Integral(f(x),x)\nI",
      "metadata": {
        "hidden": true,
        "trusted": true
      },
      "execution_count": null,
      "outputs": []
    },
    {
      "cell_type": "code",
      "source": "I.doit()",
      "metadata": {
        "hidden": true,
        "trusted": true
      },
      "execution_count": null,
      "outputs": []
    },
    {
      "cell_type": "code",
      "source": "I = sym.Integral(f(x),(x,a,b))\nI",
      "metadata": {
        "hidden": true,
        "trusted": true
      },
      "execution_count": null,
      "outputs": []
    },
    {
      "cell_type": "code",
      "source": "I.doit()",
      "metadata": {
        "hidden": true,
        "trusted": true
      },
      "execution_count": null,
      "outputs": []
    },
    {
      "cell_type": "markdown",
      "source": "Definimos la integral como una suma de $n$ rectángulos, de ancho $h$. Aunque $n$ no está especificado, la suma se puede obtener de forma cerrada (gracias a que $f$ es sencilla) y pasar al límite.",
      "metadata": {
        "hidden": true
      }
    },
    {
      "cell_type": "code",
      "source": "h = (b-a)/n",
      "metadata": {
        "hidden": true,
        "trusted": true
      },
      "execution_count": null,
      "outputs": []
    },
    {
      "cell_type": "code",
      "source": "S = sym.Sum( h*f(a+k*h), (k,0,n-1))\nS",
      "metadata": {
        "hidden": true,
        "trusted": true
      },
      "execution_count": null,
      "outputs": []
    },
    {
      "cell_type": "code",
      "source": "S.expand()",
      "metadata": {
        "hidden": true,
        "trusted": true
      },
      "execution_count": null,
      "outputs": []
    },
    {
      "cell_type": "code",
      "source": "S.doit()",
      "metadata": {
        "hidden": true,
        "trusted": true
      },
      "execution_count": null,
      "outputs": []
    },
    {
      "cell_type": "code",
      "source": "sym.Limit(S,n,oo).doit()",
      "metadata": {
        "hidden": true,
        "trusted": true
      },
      "execution_count": null,
      "outputs": []
    },
    {
      "cell_type": "markdown",
      "source": "### Caso de estudio: teorema de Cayley-Hamilton",
      "metadata": {
        "heading_collapsed": true
      }
    },
    {
      "cell_type": "markdown",
      "source": "Una matriz es raíz de su polinomio característico ([Teorema de Cayley-Hamilton](https://en.wikipedia.org/wiki/Cayley%E2%80%93Hamilton_theorem)).",
      "metadata": {
        "hidden": true
      }
    },
    {
      "cell_type": "code",
      "source": "x,a = symbols('x a')",
      "metadata": {
        "hidden": true,
        "trusted": true
      },
      "execution_count": null,
      "outputs": []
    },
    {
      "cell_type": "code",
      "source": "m = sym.Matrix( [[1,2,3],[3,4,1],[2,2,7]] )\nm",
      "metadata": {
        "hidden": true,
        "trusted": true
      },
      "execution_count": null,
      "outputs": []
    },
    {
      "cell_type": "code",
      "source": "I = sym.eye(m.shape[0])\n\np = sym.det(m-a*I).simplify()\np",
      "metadata": {
        "hidden": true,
        "trusted": true
      },
      "execution_count": null,
      "outputs": []
    },
    {
      "cell_type": "code",
      "source": "b = sym.MatrixSymbol('b',3,3)\n\nq = (-b**3+12*b**2-25*b-18*I)\nq",
      "metadata": {
        "hidden": true,
        "trusted": true
      },
      "execution_count": null,
      "outputs": []
    },
    {
      "cell_type": "code",
      "source": "q.subs({b:m})",
      "metadata": {
        "hidden": true,
        "trusted": true
      },
      "execution_count": null,
      "outputs": []
    },
    {
      "cell_type": "code",
      "source": "q.subs({b:m}).doit()",
      "metadata": {
        "hidden": true,
        "trusted": true
      },
      "execution_count": null,
      "outputs": []
    },
    {
      "cell_type": "markdown",
      "source": "Es posible convertir automáticamente el polinomio escalar `p` en la expresión matricial `q`. Una forma de hacerlo es a través de la representación textual.",
      "metadata": {
        "hidden": true
      }
    },
    {
      "cell_type": "code",
      "source": "ti = p.subs({a:0})\nsym.sympify(repr(p-ti),locals={'a':sym.MatrixSymbol('a',3,3)}) + ti*I",
      "metadata": {
        "hidden": true,
        "trusted": true
      },
      "execution_count": null,
      "outputs": []
    },
    {
      "cell_type": "markdown",
      "source": "Extraemos el término independiente del polinomio para añadirlo como coeficiente de la matriz identidad. En `sympy` las matrices y los símbolos matriz se pueden multiplicar por escalares pero no sumar.",
      "metadata": {
        "hidden": true
      }
    }
  ]
}