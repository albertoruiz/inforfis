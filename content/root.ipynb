{
 "cells": [
  {
   "cell_type": "markdown",
   "metadata": {},
   "source": [
    "# Presentación"
   ]
  },
  {
   "cell_type": "markdown",
   "metadata": {},
   "source": [
    "Esta asignatura es una introducción a la informática orientada hacia la [computación científica](https://en.wikipedia.org/wiki/Computational_science). En primer lugar estudiaremos los **fundamentos de la programación** y posteriormente tomaremos contacto con algunas **herramientas de cálculo científico** muy utilizadas. Nuestro objetivo es aprender a escribir programas de ordenador para resolver problemas sencillos de física, matemáticas y análisis de datos.\n",
    "\n",
    "En función del tiempo disponible intentaremos realizar también una introducción divulgativa a otros temas de interés entre los que se incluyen los circuitos lógicos, la  complejidad algorítmica y la computabilidad."
   ]
  },
  {
   "cell_type": "markdown",
   "metadata": {},
   "source": [
    "```{tip}\n",
    "Estos apuntes están escritos en documentos interactivos llamados *jupyter notebooks*, pero ahora mismo estás leyendo una versión estática, que no se puede modificar, que solo sirve como referencia rápida.\n",
    "\n",
    "La versión más reciente de estos notebooks puede descargarse [desde este enlace](https://github.com/albertoruiz/inforfis/archive/refs/heads/master.zip).\n",
    "\n",
    "En la clase de prácticas explicaremos la forma de instalar todo lo necesario en nuestro ordenador. También se puede trabajar directamente desde cualquier navegador [accediendo aquí](https://aruiz.org/inforfis/lite).\n",
    "```"
   ]
  }
 ],
 "metadata": {
  "hide_input": false,
  "kernelspec": {
   "display_name": "Python 3 (ipykernel)",
   "language": "python",
   "name": "python3"
  },
  "language_info": {
   "codemirror_mode": {
    "name": "ipython",
    "version": 3
   },
   "file_extension": ".py",
   "mimetype": "text/x-python",
   "name": "python",
   "nbconvert_exporter": "python",
   "pygments_lexer": "ipython3",
   "version": "3.12.0"
  },
  "varInspector": {
   "cols": {
    "lenName": 16,
    "lenType": 16,
    "lenVar": 40
   },
   "kernels_config": {
    "python": {
     "delete_cmd_postfix": "",
     "delete_cmd_prefix": "del ",
     "library": "var_list.py",
     "varRefreshCmd": "print(var_dic_list())"
    },
    "r": {
     "delete_cmd_postfix": ") ",
     "delete_cmd_prefix": "rm(",
     "library": "var_list.r",
     "varRefreshCmd": "cat(var_dic_list()) "
    }
   },
   "types_to_exclude": [
    "module",
    "function",
    "builtin_function_or_method",
    "instance",
    "_Feature"
   ],
   "window_display": false
  }
 },
 "nbformat": 4,
 "nbformat_minor": 4
}
