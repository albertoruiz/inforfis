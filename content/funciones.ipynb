{
 "cells": [
  {
   "cell_type": "markdown",
   "metadata": {},
   "source": [
    "# Funciones"
   ]
  },
  {
   "cell_type": "markdown",
   "metadata": {
    "heading_collapsed": true
   },
   "source": [
    "## Motivación"
   ]
  },
  {
   "cell_type": "markdown",
   "metadata": {},
   "source": [
    "Con las herramientas de programación que hemos estudiado hasta ahora es muy incómodo resolver diferentes instancias de un mismo problema."
   ]
  },
  {
   "cell_type": "markdown",
   "metadata": {},
   "source": [
    "Por ejemplo, recordemos el cálculo de las soluciones de una ecuación de segundo grado. Para resolver la ecuación $2x^2-6x+4=0$ podemos escribir:"
   ]
  },
  {
   "cell_type": "code",
   "execution_count": null,
   "metadata": {},
   "outputs": [],
   "source": [
    "a = 2\n",
    "b = -6\n",
    "c = 4\n",
    "\n",
    "d = (b**2 - 4*a*c)**(1/2)\n",
    "\n",
    "x1 = (-b+d)/2/a\n",
    "x2 = (-b-d)/2/a\n",
    "\n",
    "x1,x2"
   ]
  },
  {
   "cell_type": "markdown",
   "metadata": {},
   "source": [
    "Si luego necesitamos resolver otra ecuación, p. ej. $x^2 - 9 = 0$, tendríamos que copiar el código o cambiar las asignaciones de los coeficientes:"
   ]
  },
  {
   "cell_type": "code",
   "execution_count": null,
   "metadata": {},
   "outputs": [],
   "source": [
    "a = 1\n",
    "b = 0\n",
    "c = -9\n",
    "\n",
    "d = (b**2 - 4*a*c)**(1/2)\n",
    "\n",
    "x1 = (-b+d)/2/a\n",
    "x2 = (-b-d)/2/a\n",
    "\n",
    "x1,x2"
   ]
  },
  {
   "cell_type": "markdown",
   "metadata": {},
   "source": [
    "Esto es poco práctico, especialmente cuando una misma tarea se necesita en varios pasos de un programa más grande, como ocurre en el siguiente problema: supongamos que nos piden calcular el área del siguiente polígono irregular:\n",
    "\n",
    "![poly](graph/area.png)"
   ]
  },
  {
   "cell_type": "markdown",
   "metadata": {},
   "source": [
    "Esto puede hacerse de muchas formas. Una posibilidad es descomponerlo en triángulos: en este caso el área total es la suma de las áreas de los triángulos PQR y PSR."
   ]
  },
  {
   "cell_type": "markdown",
   "metadata": {},
   "source": [
    "El área de un triángulo puede calcularse fácilmente a partir de las longitudes de sus lados con la [fórmula de Herón](https://en.wikipedia.org/wiki/Heron%27s_formula)."
   ]
  },
  {
   "cell_type": "code",
   "execution_count": null,
   "metadata": {},
   "outputs": [],
   "source": [
    "a = 3\n",
    "b = 5\n",
    "c = 4\n",
    "\n",
    "from math import sqrt\n",
    "\n",
    "s = (a+b+c)/2\n",
    "r = s*(s-a)*(s-b)*(s-c)\n",
    "sqrt(r)"
   ]
  },
  {
   "cell_type": "markdown",
   "metadata": {},
   "source": [
    "Si en vez de las longitudes de los lados conocemos las coordenadas de los vértices solo tenemos que calcular las distancias entre ellos para poder aplicar la fórmula de Herón."
   ]
  },
  {
   "cell_type": "code",
   "execution_count": null,
   "metadata": {},
   "outputs": [],
   "source": [
    "P = px,py = (-1,5)\n",
    "Q = qx,qy = (3,2)\n",
    "R = rx,ry = (5,4)\n",
    "S = sx,sy = (4,7)\n",
    "\n",
    "# triángulo PQR\n",
    "a = sqrt( (px-qx)**2 + (py-qy)**2 )\n",
    "b = sqrt( (px-rx)**2 + (py-ry)**2 )\n",
    "c = sqrt( (qx-rx)**2 + (qy-ry)**2 )\n",
    "\n",
    "s = (a+b+c)/2\n",
    "r = s*(s-a)*(s-b)*(s-c)\n",
    "area1 = sqrt(r)\n",
    "print('área PQR:',area1)\n",
    "\n",
    "# triángulo PSR\n",
    "a = sqrt( (px-sx)**2 + (py-sy)**2 )\n",
    "b = sqrt( (px-rx)**2 + (py-ry)**2 )\n",
    "c = sqrt( (sx-rx)**2 + (sy-ry)**2 )\n",
    "\n",
    "s = (a+b+c)/2\n",
    "r = s*(s-a)*(s-b)*(s-c)\n",
    "area2 = sqrt(r)\n",
    "print('area PSR:',area2)\n",
    "\n",
    "print('área total:',area1+area2)"
   ]
  },
  {
   "cell_type": "markdown",
   "metadata": {},
   "source": [
    "El resultado es correcto pero hay mucho código repetido: dos veces la fórmula de Herón y seis distancias entre vértices."
   ]
  },
  {
   "cell_type": "markdown",
   "metadata": {
    "heading_collapsed": true
   },
   "source": [
    "## Definición de funciones"
   ]
  },
  {
   "cell_type": "markdown",
   "metadata": {},
   "source": [
    "Para resolver el mismo problema con diferentes datos de entrada los lenguajes de programación proporcionan una construcción conocida como [subrutina](https://en.wikipedia.org/wiki/Subroutine). El objetivo es conseguir un equivalente informático del concepto de función al que estamos acostumbrados en matemáticas.\n",
    "\n",
    "\n",
    "\n",
    "Veamos algunos ejemplos. La solución de la ecuación de segundo grado puede escribirse en forma de función de la forma siguiente:"
   ]
  },
  {
   "cell_type": "code",
   "execution_count": null,
   "metadata": {},
   "outputs": [],
   "source": [
    "def ecu2g(a,b,c):\n",
    "    d = (b**2 - 4*a*c)**(1/2)\n",
    "    x1 = (-b+d)/2/a\n",
    "    x2 = (-b-d)/2/a\n",
    "    return (x1,x2)"
   ]
  },
  {
   "cell_type": "markdown",
   "metadata": {},
   "source": [
    "Al ejecutar el código anterior hemos incorporado al lenguaje una nueva función que podemos utilizar libremente:"
   ]
  },
  {
   "cell_type": "code",
   "execution_count": null,
   "metadata": {},
   "outputs": [],
   "source": [
    "ecu2g(2,-6,4)"
   ]
  },
  {
   "cell_type": "code",
   "execution_count": null,
   "metadata": {},
   "outputs": [],
   "source": [
    "ecu2g(1,0,-9)"
   ]
  },
  {
   "cell_type": "markdown",
   "metadata": {},
   "source": [
    "El nombre elegido es una abreviatura que trata de recordar su propósito. (Si se te ocurre otro mejor no dudes en cambiarlo).\n",
    "\n",
    "Cada vez que la usamos, decimos que \"invocamos\" o \"llamamos\" a la función. Cada llamada tiene sus argumentos concretos, con los que se reevalúa el código.\n",
    "\n",
    "\n",
    "\n",
    "Observa todos los detalles que hay respetar para crear una función informática:\n",
    "\n",
    "- La palabra clave `def`, indicando que vamos a crear una nueva función.\n",
    "\n",
    "\n",
    "- A continuación el nombre elegido.\n",
    "\n",
    "\n",
    "- A continuación una tupla con los **argumentos** seguida de `:`.\n",
    "\n",
    "\n",
    "- Debajo (dejando un margen de 4 espacios) viene el bloque de código que estamos definiendo, que llamamos **cuerpo** de la función.\n",
    "\n",
    "\n",
    "- Dentro de este bloque podemos definir nombres para guardar datos intermedios (en el ejemplo anterior `d`, `x1` y `x2`). Se llaman **variables locales** porque son invisibles \"fuera\" de la función. No existen para el resto del programa.\n",
    "\n",
    "\n",
    "- Finalmente, hay que incluir una sentencia `return` para indicar el resultado final de la función.\n",
    "\n",
    "En otros lenguajes de programación la sintaxis puede cambiar pero todos los ingredientes anteriores aparecen de una forma u otra.\n",
    "\n",
    "\n",
    "En resumen, la idea básica es ponerle nombre a un bloque de código, no a un dato (lo que hacemos con `=`). Simplemente hay que especificar los datos de entrada y lo que debe entregarse como resultado.\n"
   ]
  },
  {
   "cell_type": "markdown",
   "metadata": {},
   "source": [
    "Un ejemplo más simple, sin variables locales y con un cuerpo que simplemente evalúa una expresión:"
   ]
  },
  {
   "cell_type": "code",
   "execution_count": null,
   "metadata": {},
   "outputs": [],
   "source": [
    "def f(x):\n",
    "    return 2*x+3"
   ]
  },
  {
   "cell_type": "code",
   "execution_count": null,
   "metadata": {},
   "outputs": [],
   "source": [
    "f(2)"
   ]
  },
  {
   "cell_type": "code",
   "execution_count": null,
   "metadata": {},
   "outputs": [],
   "source": [
    "f(2+f(-3))"
   ]
  },
  {
   "cell_type": "code",
   "execution_count": null,
   "metadata": {},
   "outputs": [],
   "source": [
    "[f(x) for x in [0.1,0.2,0.3]]"
   ]
  },
  {
   "cell_type": "markdown",
   "metadata": {},
   "source": [
    "Observa la diferencia entre la asignación de variables y la definición de funciones:"
   ]
  },
  {
   "cell_type": "code",
   "execution_count": null,
   "metadata": {},
   "outputs": [],
   "source": [
    "n = 2\n",
    "\n",
    "h = 10*n\n",
    "\n",
    "def g():\n",
    "    return 10*n"
   ]
  },
  {
   "cell_type": "code",
   "execution_count": null,
   "metadata": {},
   "outputs": [],
   "source": [
    "g()"
   ]
  },
  {
   "cell_type": "code",
   "execution_count": null,
   "metadata": {},
   "outputs": [],
   "source": [
    "h"
   ]
  },
  {
   "cell_type": "code",
   "execution_count": null,
   "metadata": {},
   "outputs": [],
   "source": [
    "n = 5\n",
    "g()"
   ]
  },
  {
   "cell_type": "code",
   "execution_count": null,
   "metadata": {},
   "outputs": [],
   "source": [
    "h"
   ]
  },
  {
   "cell_type": "markdown",
   "metadata": {},
   "source": [
    "La asignación almacena el valor y ya no se modifica aunque cambien otras variables.\n",
    "\n",
    "La llamada a la función, con argumentos entre paréntesis, recalcula el bloque de código cada vez. "
   ]
  },
  {
   "cell_type": "markdown",
   "metadata": {},
   "source": [
    "La función `g` anterior no tiene argumentos pero su resultado no es constante ya que depende de la variable global `n`. Para llamarla es necesario el paréntesis, en este caso vacío."
   ]
  },
  {
   "cell_type": "markdown",
   "metadata": {
    "heading_collapsed": true
   },
   "source": [
    "## Argumentos"
   ]
  },
  {
   "cell_type": "markdown",
   "metadata": {},
   "source": [
    "Cuando definimos una función algunos argumentos pueden dejarse como opcionales con un valor por omisión:"
   ]
  },
  {
   "cell_type": "code",
   "execution_count": null,
   "metadata": {},
   "outputs": [],
   "source": [
    "def f(x, y=0):\n",
    "    return x**2 + y"
   ]
  },
  {
   "cell_type": "code",
   "execution_count": null,
   "metadata": {},
   "outputs": [],
   "source": [
    "f(2,3)"
   ]
  },
  {
   "cell_type": "code",
   "execution_count": null,
   "metadata": {},
   "outputs": [],
   "source": [
    "f(2)"
   ]
  },
  {
   "cell_type": "markdown",
   "metadata": {},
   "source": [
    "A veces el código queda más claro si pasamos los argumentos con su nombre:"
   ]
  },
  {
   "cell_type": "code",
   "execution_count": null,
   "metadata": {},
   "outputs": [],
   "source": [
    "f(x=5)"
   ]
  },
  {
   "cell_type": "markdown",
   "metadata": {},
   "source": [
    "Esto es especialmente útil en funciones que tienen muchos argumentos opcionales que solo se modifican en casos especiales. (Por ejemplo, las funciones para dibujar gráficas que veremos más adelante admiten argumentos para elegir colores, estilo de línea, etc.)"
   ]
  },
  {
   "cell_type": "markdown",
   "metadata": {},
   "source": [
    "Cuando se pueda es conveniente poner nombres a los argumentos que recuerden el papel que juegan dentro de la función."
   ]
  },
  {
   "cell_type": "markdown",
   "metadata": {
    "heading_collapsed": true
   },
   "source": [
    "## La instrucción de retorno"
   ]
  },
  {
   "cell_type": "markdown",
   "metadata": {},
   "source": [
    "La palabra clave `return` termina inmediatamente la función aunque queden instrucciones por detrás en el cuerpo."
   ]
  },
  {
   "cell_type": "code",
   "execution_count": null,
   "metadata": {},
   "outputs": [],
   "source": [
    "def f(x):\n",
    "    return x+5\n",
    "    b = 3\n",
    "    print('Hola')\n",
    "\n",
    "f(2)"
   ]
  },
  {
   "cell_type": "code",
   "execution_count": null,
   "metadata": {},
   "outputs": [],
   "source": [
    "def f(x):\n",
    "    if x < 0:\n",
    "        return 0\n",
    "    return x**2"
   ]
  },
  {
   "cell_type": "code",
   "execution_count": null,
   "metadata": {},
   "outputs": [],
   "source": [
    "f(-3)"
   ]
  },
  {
   "cell_type": "code",
   "execution_count": null,
   "metadata": {},
   "outputs": [],
   "source": [
    "f(5)"
   ]
  },
  {
   "cell_type": "markdown",
   "metadata": {
    "tags": []
   },
   "source": [
    "## Procedimientos"
   ]
  },
  {
   "cell_type": "markdown",
   "metadata": {},
   "source": [
    "La siguiente función no tiene ningún `return`:"
   ]
  },
  {
   "cell_type": "code",
   "execution_count": null,
   "metadata": {},
   "outputs": [],
   "source": [
    "def f(x):\n",
    "    r = x+5\n",
    "    print(f\"r --> {r}\")\n",
    "    s = 2*r\n",
    "    print(f\"s --> {s}\")"
   ]
  },
  {
   "cell_type": "markdown",
   "metadata": {},
   "source": [
    "Cuando la invocamos hace perfectamente su trabajo, que consiste en imprimir el resultado de unos determinados cálculos:"
   ]
  },
  {
   "cell_type": "code",
   "execution_count": null,
   "metadata": {},
   "outputs": [],
   "source": [
    "f(10)"
   ]
  },
  {
   "cell_type": "markdown",
   "metadata": {},
   "source": [
    "Pero no devuelve ningún resultado que se pueda utilizar en otras operaciones, como sí lo hacen las funciones propiamente dichas."
   ]
  },
  {
   "cell_type": "markdown",
   "metadata": {},
   "source": [
    "A este tipo de funciones que no devuelven nada a veces se las llama \"procedimientos\" (*procedure*). Su misión es hacer cualquier tipo de tarea útil como imprimir resultados, dibujar gráficas, preparar variables auxiliares, etc."
   ]
  },
  {
   "cell_type": "markdown",
   "metadata": {
    "tags": []
   },
   "source": [
    "## None"
   ]
  },
  {
   "cell_type": "markdown",
   "metadata": {},
   "source": [
    "Si la función acaba sin encontrar ningún `return`, devuelve el valor `None`, que se utiliza en Python para indicar que una variable no está definida. Este valor no se imprime en los notebooks y para verlo hay que usar `print`."
   ]
  },
  {
   "cell_type": "code",
   "execution_count": null,
   "metadata": {},
   "outputs": [],
   "source": [
    "def f(x):\n",
    "    return 2*x\n",
    "\n",
    "def g(x):\n",
    "    print(2*x)"
   ]
  },
  {
   "cell_type": "markdown",
   "metadata": {},
   "source": [
    "Las funciones `f` y `g` parecen iguales:"
   ]
  },
  {
   "cell_type": "code",
   "execution_count": null,
   "metadata": {},
   "outputs": [],
   "source": [
    "f(7)"
   ]
  },
  {
   "cell_type": "code",
   "execution_count": null,
   "metadata": {},
   "outputs": [],
   "source": [
    "g(7)"
   ]
  },
  {
   "cell_type": "markdown",
   "metadata": {},
   "source": [
    "Pero son completamente distintas:"
   ]
  },
  {
   "cell_type": "code",
   "execution_count": null,
   "metadata": {},
   "outputs": [],
   "source": [
    "5+f(2)"
   ]
  },
  {
   "cell_type": "code",
   "execution_count": null,
   "metadata": {},
   "outputs": [],
   "source": [
    "# descomenta la siguiente línea para ver el error\n",
    "# 5+g(2)"
   ]
  },
  {
   "cell_type": "markdown",
   "metadata": {},
   "source": [
    "El procedimiento `g` no es una función. Hace un trabajo (imprimir) pero no devuelve ningún resultado, o, en otras palabras, su valor no está definido y produce un error al aparecer como argumento de una operación de suma."
   ]
  },
  {
   "cell_type": "markdown",
   "metadata": {
    "heading_collapsed": true
   },
   "source": [
    "## Variables locales y visibilidad"
   ]
  },
  {
   "cell_type": "markdown",
   "metadata": {},
   "source": [
    "Cuando definimos un nombre dentro del cuerpo de una función se crea una \"variable local\" que solo es visible \"desde dentro\" de la función. Además, se oculta otra posible definición de ese nombre en otras partes del código. Al principio de cada llamada las variables locales se crean y al final se destruyen. "
   ]
  },
  {
   "cell_type": "code",
   "execution_count": null,
   "metadata": {},
   "outputs": [],
   "source": [
    "a = 5\n",
    "\n",
    "b = 8\n",
    "\n",
    "def f(x):\n",
    "    b = a+x\n",
    "    print(b)\n",
    "\n",
    "f(1)\n",
    "print(b)"
   ]
  },
  {
   "cell_type": "markdown",
   "metadata": {},
   "source": [
    "Si queremos redefinir un nombre global tenemos que indicarlo con la palabra clave `global`:"
   ]
  },
  {
   "cell_type": "code",
   "execution_count": null,
   "metadata": {},
   "outputs": [],
   "source": [
    "a = 5\n",
    "\n",
    "b = 8\n",
    "\n",
    "def f(x):\n",
    "    global b\n",
    "    b = a+x\n",
    "    print(b)\n",
    "\n",
    "f(1)\n",
    "print(b)"
   ]
  },
  {
   "cell_type": "markdown",
   "metadata": {},
   "source": [
    "(Sin embargo, una función puede modificar elementos de una lista global sin necesidad de usar `global`, debido a que es un objeto mutable.) "
   ]
  },
  {
   "cell_type": "markdown",
   "metadata": {},
   "source": [
    "Decimos que una función es **pura** si no modifica ningún dato global y se limita a calcular un resultado que solo depende de sus argumentos. Se recomienda un estilo de programación basado en crear funciones puras que resuelvan tareas sencillas, independientes, que se puedan combinar para resolver diferentes problemas."
   ]
  },
  {
   "cell_type": "markdown",
   "metadata": {
    "heading_collapsed": true
   },
   "source": [
    "## Documentación"
   ]
  },
  {
   "cell_type": "markdown",
   "metadata": {},
   "source": [
    "Es muy recomendable añadir a las funciones un mensaje de ayuda."
   ]
  },
  {
   "cell_type": "code",
   "execution_count": null,
   "metadata": {},
   "outputs": [],
   "source": [
    "# ? sum\n",
    "help(sum)"
   ]
  },
  {
   "cell_type": "code",
   "execution_count": null,
   "metadata": {},
   "outputs": [],
   "source": [
    "def fun(n):\n",
    "    \"\"\"Calcula el triple de su argumento.\"\"\"\n",
    "    return 3*n"
   ]
  },
  {
   "cell_type": "code",
   "execution_count": null,
   "metadata": {},
   "outputs": [],
   "source": [
    "help(fun)"
   ]
  },
  {
   "cell_type": "markdown",
   "metadata": {},
   "source": [
    "Se recomienda seguir unas [normas de estilo](https://www.python.org/dev/peps/pep-0257/) para escribir buenas *docstrings*."
   ]
  },
  {
   "cell_type": "markdown",
   "metadata": {
    "heading_collapsed": true
   },
   "source": [
    "## Funciones anónimas *"
   ]
  },
  {
   "cell_type": "markdown",
   "metadata": {},
   "source": [
    "Hay ocasiones en las que necesitamos una función sencilla una sola vez en el programa, por lo que resulta incómodo escribir una definición completa. En estos casos se suelen usar $\\lambda$ *functions*. Su nombre es su definición (!)."
   ]
  },
  {
   "cell_type": "code",
   "execution_count": null,
   "metadata": {},
   "outputs": [],
   "source": [
    "f = lambda x: 2*x+5"
   ]
  },
  {
   "cell_type": "code",
   "execution_count": null,
   "metadata": {},
   "outputs": [],
   "source": [
    "f(5)"
   ]
  },
  {
   "cell_type": "code",
   "execution_count": null,
   "metadata": {},
   "outputs": [],
   "source": [
    "(lambda x: 2*x+5)(5)"
   ]
  },
  {
   "cell_type": "code",
   "execution_count": null,
   "metadata": {},
   "outputs": [],
   "source": [
    "list(filter(lambda x: x%2 == 0, range(10)))"
   ]
  },
  {
   "cell_type": "markdown",
   "metadata": {},
   "source": [
    "No son muy necesarias en lenguajes como Python que tienen *list comprehensions*. El cuerpo de la función solo admite una expresión y no es necesario poner `return`."
   ]
  },
  {
   "cell_type": "markdown",
   "metadata": {
    "heading_collapsed": true
   },
   "source": [
    "## Funcionales *"
   ]
  },
  {
   "cell_type": "markdown",
   "metadata": {},
   "source": [
    "Las funciones son objetos informáticos con los que podemos operar igual que con otros tipos de dato: pueden ser argumento y resultado de otras funciones. Esto es muy común en matemáticas: por ejemplo, la derivación y la integración indefinida de funciones son operaciones que transforman una función en otra."
   ]
  },
  {
   "cell_type": "code",
   "execution_count": null,
   "metadata": {},
   "outputs": [],
   "source": [
    "def mkfun(a):\n",
    "    def g(x):\n",
    "        return x + a\n",
    "    return g\n",
    "\n",
    "p = mkfun(5)\n",
    "\n",
    "q = mkfun(10)\n",
    "\n",
    "p(3), q(3)"
   ]
  },
  {
   "cell_type": "markdown",
   "metadata": {
    "heading_collapsed": true
   },
   "source": [
    "## Anotaciones *"
   ]
  },
  {
   "cell_type": "markdown",
   "metadata": {},
   "source": [
    "Para dejar claro el tipo los argumentos y del resultado, Python admite escribir la \"cabeza\" de la definición con anotaciones de tipo:"
   ]
  },
  {
   "cell_type": "code",
   "execution_count": null,
   "metadata": {},
   "outputs": [],
   "source": [
    "def fact(n: int) -> int:\n",
    "    p = 1\n",
    "    for k in range(1,n+1):\n",
    "        p *= k\n",
    "    return p"
   ]
  },
  {
   "cell_type": "code",
   "execution_count": null,
   "metadata": {},
   "outputs": [],
   "source": [
    "fact(5)"
   ]
  },
  {
   "cell_type": "markdown",
   "metadata": {},
   "source": [
    "Pero Python **no** comprueba antes de ejecutar el código que los tipos son correctos. (Aunque hay herramientas no oficiales que sí lo hacen.)"
   ]
  },
  {
   "cell_type": "markdown",
   "metadata": {
    "heading_collapsed": true
   },
   "source": [
    "## Ejercicios"
   ]
  },
  {
   "cell_type": "markdown",
   "metadata": {},
   "source": [
    "- Escribe funciones para realizar conversiones de temperatura. Por ejemplo: `cel2fahr`, `kelvin2cel`, etc. y genera con ellas tablas de conversión.\n",
    "\n",
    "\n",
    "- Escribe una función para calcular el período de un péndulo de longitud $l$ (para oscilaciones pequeñas).\n",
    "\n",
    "\n",
    "- Modifica la función anterior para que acepte también la amplitud máxima como un argumento opcional.\n",
    "\n",
    "\n",
    "\n",
    "- Escribe una función para calcular el área de un triángulo a partir de las longitudes de sus lados ([fórmula de Heron](https://en.wikipedia.org/wiki/Heron%27s_formula)).\n",
    "\n",
    "\n",
    "- Define la función factorial y apoyándote en ella define una función para calcular los [coeficientes binomiales](https://en.wikipedia.org/wiki/Binomial_coefficient).\n",
    "\n",
    "\n",
    "- Escribe una función para calcular la distancia entre dos puntos de $\\mathbb R ^2$ (representados mediante 2-tuplas).\n",
    "\n",
    "\n",
    "- Escribe una función para calcular el área de un triángulo a partir de las coordenadas de sus vértices (representadas mediante 2-tuplas).\n",
    "\n",
    "\n",
    "\n",
    "\n",
    "- Escribe funciones para calcular el máximo común divisor de dos números a) por fuerza bruta y b) mediante divisiones sucesivas.\n",
    "\n",
    "\n",
    "\n",
    "- Escribe una función que reciba una fracción (expresada como una tupla de dos enteros) y devuelva la fracción irreducible equivalente.\n",
    "\n",
    "\n",
    "- Escribe una función que sume todos los divisores de un número.\n",
    "\n",
    "\n",
    "- Escribe una función que construya una lista con todos los divisores de un número.\n",
    "\n",
    "\n",
    "- Escribe una función para determinar si un número es primo.\n",
    "\n",
    "\n",
    "- Los primeros valores de la función $n^2+n+41$ para $n=0,1,2,\\ldots$ son primos: 41, 43, 47, 53,... ¿Cuál es el primer $n$ que produce un número compuesto?\n",
    "\n",
    "\n",
    "- Encuentra el [número perfecto](https://en.wikipedia.org/wiki/Perfect_number) más grande que puedas.\n",
    "\n",
    "\n",
    "- Escribe una función para calcular el número de pasos que da la secuencia [Collatz](https://en.wikipedia.org/wiki/Collatz_conjecture) partiendo del argumento $n$.\n",
    "\n",
    "\n",
    "- Escribe una función para construir una lista con la secuencia [Collatz](https://en.wikipedia.org/wiki/Collatz_conjecture) que empieza en el argumento $n$."
   ]
  }
 ],
 "metadata": {
  "hide_input": false,
  "kernelspec": {
   "display_name": "Python 3 (ipykernel)",
   "language": "python",
   "name": "python3"
  },
  "language_info": {
   "codemirror_mode": {
    "name": "ipython",
    "version": 3
   },
   "file_extension": ".py",
   "mimetype": "text/x-python",
   "name": "python",
   "nbconvert_exporter": "python",
   "pygments_lexer": "ipython3",
   "version": "3.11.5"
  },
  "varInspector": {
   "cols": {
    "lenName": 16,
    "lenType": 16,
    "lenVar": 40
   },
   "kernels_config": {
    "python": {
     "delete_cmd_postfix": "",
     "delete_cmd_prefix": "del ",
     "library": "var_list.py",
     "varRefreshCmd": "print(var_dic_list())"
    },
    "r": {
     "delete_cmd_postfix": ") ",
     "delete_cmd_prefix": "rm(",
     "library": "var_list.r",
     "varRefreshCmd": "cat(var_dic_list()) "
    }
   },
   "types_to_exclude": [
    "module",
    "function",
    "builtin_function_or_method",
    "instance",
    "_Feature"
   ],
   "window_display": false
  }
 },
 "nbformat": 4,
 "nbformat_minor": 4
}
