{
  "metadata": {
    "hide_input": false,
    "varInspector": {
      "cols": {
        "lenName": 16,
        "lenType": 16,
        "lenVar": 40
      },
      "kernels_config": {
        "python": {
          "delete_cmd_postfix": "",
          "delete_cmd_prefix": "del ",
          "library": "var_list.py",
          "varRefreshCmd": "print(var_dic_list())"
        },
        "r": {
          "delete_cmd_postfix": ") ",
          "delete_cmd_prefix": "rm(",
          "library": "var_list.r",
          "varRefreshCmd": "cat(var_dic_list()) "
        }
      },
      "types_to_exclude": [
        "module",
        "function",
        "builtin_function_or_method",
        "instance",
        "_Feature"
      ],
      "window_display": false
    },
    "kernelspec": {
      "name": "python",
      "display_name": "Python (Pyodide)",
      "language": "python"
    },
    "language_info": {
      "codemirror_mode": {
        "name": "python",
        "version": 3
      },
      "file_extension": ".py",
      "mimetype": "text/x-python",
      "name": "python",
      "nbconvert_exporter": "python",
      "pygments_lexer": "ipython3",
      "version": "3.8"
    }
  },
  "nbformat_minor": 4,
  "nbformat": 4,
  "cells": [
    {
      "cell_type": "markdown",
      "source": "<p style=\"background:#f4f4f4; padding:5px; margin-left:-5px;margin-bottom:0px\">\nInformática - 1º de Física\n<br>\n<strong>Introducción a la Programación</strong>\n</p>",
      "metadata": {}
    },
    {
      "cell_type": "markdown",
      "source": "## Tema 4. Funciones",
      "metadata": {}
    },
    {
      "cell_type": "markdown",
      "source": "### Motivación",
      "metadata": {
        "heading_collapsed": true
      }
    },
    {
      "cell_type": "markdown",
      "source": "Con las herramientas de programación que hemos estudiado hasta ahora es muy incómodo resolver diferentes instancias de un mismo problema.",
      "metadata": {}
    },
    {
      "cell_type": "markdown",
      "source": "Por ejemplo, recordemos el cálculo de las soluciones de una ecuación de segundo grado. Para resolver la ecuación $2x^2-6x+4=0$ podemos escribir:",
      "metadata": {}
    },
    {
      "cell_type": "code",
      "source": "a = 2\nb = -6\nc = 4\n\nd = (b**2 - 4*a*c)**(1/2)\n\nx1 = (-b+d)/2/a\nx2 = (-b-d)/2/a\n\nx1,x2",
      "metadata": {},
      "execution_count": 1,
      "outputs": [
        {
          "execution_count": 1,
          "output_type": "execute_result",
          "data": {
            "text/plain": "(2.0, 1.0)"
          },
          "metadata": {}
        }
      ]
    },
    {
      "cell_type": "markdown",
      "source": "Si luego necesitamos resolver otra ecuación, p. ej. $x^2 - 9 = 0$, tendríamos que copiar el código o cambiar las asignaciones de los coeficientes:",
      "metadata": {}
    },
    {
      "cell_type": "code",
      "source": "a = 1\nb = 0\nc = -9\n\nd = (b**2 - 4*a*c)**(1/2)\n\nx1 = (-b+d)/2/a\nx2 = (-b-d)/2/a\n\nx1,x2",
      "metadata": {},
      "execution_count": 2,
      "outputs": [
        {
          "execution_count": 2,
          "output_type": "execute_result",
          "data": {
            "text/plain": "(3.0, -3.0)"
          },
          "metadata": {}
        }
      ]
    },
    {
      "cell_type": "markdown",
      "source": "Esto es poco práctico, especialmente cuando una misma tarea se necesita en varios pasos de un programa más grande, como ocurre en el siguiente problema: supongamos que nos piden calcular el área del siguiente polígono irregular:\n\n![poly](graph/area.png)",
      "metadata": {}
    },
    {
      "cell_type": "markdown",
      "source": "Esto puede hacerse de muchas formas. Una posibilidad es descomponerlo en triángulos: en este caso el área total es la suma de las áreas de los triángulos PQR y PSR.",
      "metadata": {}
    },
    {
      "cell_type": "markdown",
      "source": "El área de un triángulo puede calcularse fácilmente a partir de las longitudes de sus lados con la [fórmula de Herón](https://en.wikipedia.org/wiki/Heron%27s_formula).",
      "metadata": {}
    },
    {
      "cell_type": "code",
      "source": "a = 3\nb = 5\nc = 4\n\nfrom math import sqrt\n\ns = (a+b+c)/2\nr = s*(s-a)*(s-b)*(s-c)\nsqrt(r)",
      "metadata": {},
      "execution_count": 3,
      "outputs": [
        {
          "execution_count": 3,
          "output_type": "execute_result",
          "data": {
            "text/plain": "6.0"
          },
          "metadata": {}
        }
      ]
    },
    {
      "cell_type": "markdown",
      "source": "Si en vez de las longitudes de los lados conocemos las coordenadas de los vértices solo tenemos que calcular las distancias entre ellos para poder aplicar la fórmula de Herón.",
      "metadata": {}
    },
    {
      "cell_type": "code",
      "source": "P = px,py = (-1,5)\nQ = qx,qy = (3,2)\nR = rx,ry = (5,4)\nS = sx,sy = (4,7)\n\n# triángulo PQR\na = sqrt( (px-qx)**2 + (py-qy)**2 )\nb = sqrt( (px-rx)**2 + (py-ry)**2 )\nc = sqrt( (qx-rx)**2 + (qy-ry)**2 )\n\ns = (a+b+c)/2\nr = s*(s-a)*(s-b)*(s-c)\narea1 = sqrt(r)\nprint('área PQR:',area1)\n\n# triángulo PSR\na = sqrt( (px-sx)**2 + (py-sy)**2 )\nb = sqrt( (px-rx)**2 + (py-ry)**2 )\nc = sqrt( (sx-rx)**2 + (sy-ry)**2 )\n\ns = (a+b+c)/2\nr = s*(s-a)*(s-b)*(s-c)\narea2 = sqrt(r)\nprint('area PSR:',area2)\n\nprint('área total:',area1+area2)",
      "metadata": {},
      "execution_count": 4,
      "outputs": [
        {
          "name": "stdout",
          "text": "área PQR: 6.999999999999996\narea PSR: 8.500000000000002\nárea total: 15.499999999999996\n",
          "output_type": "stream"
        }
      ]
    },
    {
      "cell_type": "markdown",
      "source": "El resultado es correcto pero hay mucho código repetido: dos veces la fórmula de Herón y seis distancias entre vértices.",
      "metadata": {}
    },
    {
      "cell_type": "markdown",
      "source": "### Definición de funciones",
      "metadata": {
        "heading_collapsed": true
      }
    },
    {
      "cell_type": "markdown",
      "source": "Para resolver el mismo problema con diferentes datos de entrada los lenguajes de programación proporcionan una construcción conocida como [subrutina](https://en.wikipedia.org/wiki/Subroutine). El objetivo es conseguir un equivalente informático del concepto de función al que estamos acostumbrados en matemáticas.\n\n\n\nVeamos algunos ejemplos. La solución de la ecuación de segundo grado puede escribirse en forma de función de la forma siguiente:",
      "metadata": {}
    },
    {
      "cell_type": "code",
      "source": "def ecu2g(a,b,c):\n    d = (b**2 - 4*a*c)**(1/2)\n    x1 = (-b+d)/2/a\n    x2 = (-b-d)/2/a\n    return (x1,x2)",
      "metadata": {},
      "execution_count": 5,
      "outputs": []
    },
    {
      "cell_type": "markdown",
      "source": "Al ejecutar el código anterior hemos incorporado al lenguaje una nueva función que podemos utilizar libremente:",
      "metadata": {}
    },
    {
      "cell_type": "code",
      "source": "ecu2g(2,-6,4)",
      "metadata": {},
      "execution_count": 6,
      "outputs": [
        {
          "execution_count": 6,
          "output_type": "execute_result",
          "data": {
            "text/plain": "(2.0, 1.0)"
          },
          "metadata": {}
        }
      ]
    },
    {
      "cell_type": "code",
      "source": "ecu2g(1,0,-9)",
      "metadata": {},
      "execution_count": 7,
      "outputs": [
        {
          "execution_count": 7,
          "output_type": "execute_result",
          "data": {
            "text/plain": "(3.0, -3.0)"
          },
          "metadata": {}
        }
      ]
    },
    {
      "cell_type": "markdown",
      "source": "El nombre elegido es una abreviatura que trata de recordar su propósito. (Si se te ocurre otro mejor no dudes en cambiarlo).\n\nCada vez que la usamos, decimos que \"invocamos\" o \"llamamos\" a la función. Cada llamada tiene sus argumentos concretos, con los que se reevalúa el código.\n\n\n\nObserva todos los detalles que hay respetar para crear una función informática:\n\n- La palabra clave `def`, indicando que vamos a crear una nueva función.\n\n\n- A continuación el nombre elegido.\n\n\n- A continuación una tupla con los **argumentos** seguida de `:`.\n\n\n- Debajo (dejando un margen de 4 espacios) viene el bloque de código que estamos definiendo, que llamamos **cuerpo** de la función.\n\n\n- Dentro de este bloque podemos definir nombres para guardar datos intermedios (en el ejemplo anterior `d`, `x1` y `x2`). Se llaman **variables locales** porque son invisibles \"fuera\" de la función. No existen para el resto del programa.\n\n\n- Finalmente, hay que incluir una sentencia `return` para indicar el resultado final de la función.\n\nEn otros lenguajes de programación la sintaxis puede cambiar pero todos los ingredientes anteriores aparecen de una forma u otra.\n\n\nEn resumen, la idea básica es ponerle nombre a un bloque de código, no a un dato (lo que hacemos con `=`). Simplemente hay que especificar los datos de entrada y lo que debe entregarse como resultado.\n",
      "metadata": {}
    },
    {
      "cell_type": "markdown",
      "source": "Un ejemplo más simple, sin variables locales y con un cuerpo que simplemente evalúa una expresión:",
      "metadata": {}
    },
    {
      "cell_type": "code",
      "source": "def f(x):\n    return 2*x+3",
      "metadata": {},
      "execution_count": 8,
      "outputs": []
    },
    {
      "cell_type": "code",
      "source": "f(2)",
      "metadata": {},
      "execution_count": 9,
      "outputs": [
        {
          "execution_count": 9,
          "output_type": "execute_result",
          "data": {
            "text/plain": "7"
          },
          "metadata": {}
        }
      ]
    },
    {
      "cell_type": "code",
      "source": "f(2+f(-3))",
      "metadata": {},
      "execution_count": 10,
      "outputs": [
        {
          "execution_count": 10,
          "output_type": "execute_result",
          "data": {
            "text/plain": "1"
          },
          "metadata": {}
        }
      ]
    },
    {
      "cell_type": "code",
      "source": "[f(x) for x in [0.1,0.2,0.3]]",
      "metadata": {},
      "execution_count": 11,
      "outputs": [
        {
          "execution_count": 11,
          "output_type": "execute_result",
          "data": {
            "text/plain": "[3.2, 3.4, 3.6]"
          },
          "metadata": {}
        }
      ]
    },
    {
      "cell_type": "markdown",
      "source": "Observa la diferencia entre la asignación de variables y la definición de funciones:",
      "metadata": {}
    },
    {
      "cell_type": "code",
      "source": "n = 2\n\nh = 10*n\n\ndef g():\n    return 10*n",
      "metadata": {},
      "execution_count": 12,
      "outputs": []
    },
    {
      "cell_type": "code",
      "source": "g()",
      "metadata": {},
      "execution_count": 13,
      "outputs": [
        {
          "execution_count": 13,
          "output_type": "execute_result",
          "data": {
            "text/plain": "20"
          },
          "metadata": {}
        }
      ]
    },
    {
      "cell_type": "code",
      "source": "h",
      "metadata": {},
      "execution_count": 14,
      "outputs": [
        {
          "execution_count": 14,
          "output_type": "execute_result",
          "data": {
            "text/plain": "20"
          },
          "metadata": {}
        }
      ]
    },
    {
      "cell_type": "code",
      "source": "n = 5\ng()",
      "metadata": {},
      "execution_count": 15,
      "outputs": [
        {
          "execution_count": 15,
          "output_type": "execute_result",
          "data": {
            "text/plain": "50"
          },
          "metadata": {}
        }
      ]
    },
    {
      "cell_type": "code",
      "source": "h",
      "metadata": {},
      "execution_count": 16,
      "outputs": [
        {
          "execution_count": 16,
          "output_type": "execute_result",
          "data": {
            "text/plain": "20"
          },
          "metadata": {}
        }
      ]
    },
    {
      "cell_type": "markdown",
      "source": "La asignación almacena el valor y ya no se modifica aunque cambien otras variables.\n\nLa llamada a la función, con argumentos entre paréntesis, recalcula el bloque de código cada vez. ",
      "metadata": {}
    },
    {
      "cell_type": "markdown",
      "source": "La función `g` anterior no tiene argumentos pero su resultado no es constante ya que depende de la variable global `n`. Para llamarla es necesario el paréntesis, en este caso vacío.",
      "metadata": {}
    },
    {
      "cell_type": "markdown",
      "source": "### Argumentos",
      "metadata": {
        "heading_collapsed": true
      }
    },
    {
      "cell_type": "markdown",
      "source": "Cuando definimos una función algunos argumentos pueden dejarse como opcionales con un valor por omisión:",
      "metadata": {}
    },
    {
      "cell_type": "code",
      "source": "def f(x, y=0):\n    return x**2 + y",
      "metadata": {},
      "execution_count": 17,
      "outputs": []
    },
    {
      "cell_type": "code",
      "source": "f(2,3)",
      "metadata": {},
      "execution_count": 18,
      "outputs": [
        {
          "execution_count": 18,
          "output_type": "execute_result",
          "data": {
            "text/plain": "7"
          },
          "metadata": {}
        }
      ]
    },
    {
      "cell_type": "code",
      "source": "f(2)",
      "metadata": {},
      "execution_count": 19,
      "outputs": [
        {
          "execution_count": 19,
          "output_type": "execute_result",
          "data": {
            "text/plain": "4"
          },
          "metadata": {}
        }
      ]
    },
    {
      "cell_type": "markdown",
      "source": "A veces el código queda más claro si pasamos los argumentos con su nombre:",
      "metadata": {}
    },
    {
      "cell_type": "code",
      "source": "f(x=5)",
      "metadata": {},
      "execution_count": 20,
      "outputs": [
        {
          "execution_count": 20,
          "output_type": "execute_result",
          "data": {
            "text/plain": "25"
          },
          "metadata": {}
        }
      ]
    },
    {
      "cell_type": "markdown",
      "source": "Esto es especialmente útil en funciones que tienen muchos argumentos opcionales que solo se modifican en casos especiales. (Por ejemplo, las funciones para dibujar gráficas que veremos más adelante admiten argumentos para elegir colores, estilo de línea, etc.)",
      "metadata": {}
    },
    {
      "cell_type": "markdown",
      "source": "Cuando se pueda es conveniente poner nombres a los argumentos que recuerden el papel que juegan dentro de la función.",
      "metadata": {}
    },
    {
      "cell_type": "markdown",
      "source": "### La instrucción de retorno",
      "metadata": {
        "heading_collapsed": true
      }
    },
    {
      "cell_type": "markdown",
      "source": "La palabra clave `return` termina inmediatamente la función aunque queden instrucciones por detrás en el cuerpo.",
      "metadata": {}
    },
    {
      "cell_type": "code",
      "source": "def f(x):\n    return x+5\n    b = 3\n    print('Hola')\n\nf(2)",
      "metadata": {},
      "execution_count": 21,
      "outputs": [
        {
          "execution_count": 21,
          "output_type": "execute_result",
          "data": {
            "text/plain": "7"
          },
          "metadata": {}
        }
      ]
    },
    {
      "cell_type": "code",
      "source": "def f(x):\n    if x < 0:\n        return 0\n    return x**2",
      "metadata": {},
      "execution_count": 22,
      "outputs": []
    },
    {
      "cell_type": "code",
      "source": "f(-3)",
      "metadata": {},
      "execution_count": 23,
      "outputs": [
        {
          "execution_count": 23,
          "output_type": "execute_result",
          "data": {
            "text/plain": "0"
          },
          "metadata": {}
        }
      ]
    },
    {
      "cell_type": "code",
      "source": "f(5)",
      "metadata": {},
      "execution_count": 24,
      "outputs": [
        {
          "execution_count": 24,
          "output_type": "execute_result",
          "data": {
            "text/plain": "25"
          },
          "metadata": {}
        }
      ]
    },
    {
      "cell_type": "markdown",
      "source": "### Procedimientos",
      "metadata": {
        "tags": []
      }
    },
    {
      "cell_type": "markdown",
      "source": "La siguiente función no tiene ningún `return`:",
      "metadata": {}
    },
    {
      "cell_type": "code",
      "source": "def f(x):\n    r = x+5\n    print(f\"r --> {r}\")\n    s = 2*r\n    print(f\"s --> {s}\")",
      "metadata": {},
      "execution_count": 25,
      "outputs": []
    },
    {
      "cell_type": "markdown",
      "source": "Cuando la invocamos hace perfectamente su trabajo, que consiste en imprimir el resultado de unos determinados cálculos:",
      "metadata": {}
    },
    {
      "cell_type": "code",
      "source": "f(10)",
      "metadata": {},
      "execution_count": 26,
      "outputs": [
        {
          "name": "stdout",
          "text": "r --> 15\ns --> 30\n",
          "output_type": "stream"
        }
      ]
    },
    {
      "cell_type": "markdown",
      "source": "Pero no devuelve ningún resultado que se pueda utilizar en otras operaciones, como sí lo hacen las funciones propiamente dichas.",
      "metadata": {}
    },
    {
      "cell_type": "markdown",
      "source": "A este tipo de funciones que no devuelven nada a veces se las llama \"procedimientos\" (*procedure*). Su misión es hacer cualquier tipo de tarea útil como imprimir resultados, dibujar gráficas, preparar variables auxiliares, etc.",
      "metadata": {}
    },
    {
      "cell_type": "markdown",
      "source": "### None",
      "metadata": {
        "tags": []
      }
    },
    {
      "cell_type": "markdown",
      "source": "Si la función acaba sin encontrar ningún `return`, devuelve el valor `None`, que se utiliza en Python para indicar que una variable no está definida. Este valor no se imprime en los notebooks y para verlo hay que usar `print`.",
      "metadata": {}
    },
    {
      "cell_type": "code",
      "source": "def f(x):\n    return 2*x\n\ndef g(x):\n    print(2*x)",
      "metadata": {
        "trusted": true
      },
      "execution_count": 27,
      "outputs": []
    },
    {
      "cell_type": "markdown",
      "source": "Las funciones `f` y `g` parecen iguales:",
      "metadata": {}
    },
    {
      "cell_type": "code",
      "source": "f(7)",
      "metadata": {
        "trusted": true
      },
      "execution_count": 28,
      "outputs": [
        {
          "execution_count": 28,
          "output_type": "execute_result",
          "data": {
            "text/plain": "14"
          },
          "metadata": {}
        }
      ]
    },
    {
      "cell_type": "code",
      "source": "g(7)",
      "metadata": {
        "trusted": true
      },
      "execution_count": 29,
      "outputs": [
        {
          "name": "stdout",
          "text": "14\n",
          "output_type": "stream"
        }
      ]
    },
    {
      "cell_type": "markdown",
      "source": "Pero son completamente distintas:",
      "metadata": {}
    },
    {
      "cell_type": "code",
      "source": "5+f(2)",
      "metadata": {
        "trusted": true
      },
      "execution_count": 30,
      "outputs": [
        {
          "execution_count": 30,
          "output_type": "execute_result",
          "data": {
            "text/plain": "9"
          },
          "metadata": {}
        }
      ]
    },
    {
      "cell_type": "code",
      "source": "5+g(2)",
      "metadata": {
        "trusted": true
      },
      "execution_count": 31,
      "outputs": [
        {
          "name": "stdout",
          "text": "4\n",
          "output_type": "stream"
        },
        {
          "ename": "<class 'TypeError'>",
          "evalue": "unsupported operand type(s) for +: 'int' and 'NoneType'",
          "traceback": [
            "\u001b[0;31m---------------------------------------------------------------------------\u001b[0m",
            "\u001b[0;31mTypeError\u001b[0m                                 Traceback (most recent call last)",
            "Cell \u001b[0;32mIn[31], line 1\u001b[0m\n\u001b[0;32m----> 1\u001b[0m \u001b[38;5;241;43m5\u001b[39;49m\u001b[38;5;241;43m+\u001b[39;49m\u001b[43mg\u001b[49m\u001b[43m(\u001b[49m\u001b[38;5;241;43m2\u001b[39;49m\u001b[43m)\u001b[49m\n",
            "\u001b[0;31mTypeError\u001b[0m: unsupported operand type(s) for +: 'int' and 'NoneType'"
          ],
          "output_type": "error"
        }
      ]
    },
    {
      "cell_type": "markdown",
      "source": "El procedimiento `g` no es una función. Hace un trabajo (imprimir) pero no devuelve ningún resultado, o, en otras palabras, su valor no está definido y produce un error al aparecer como argumento de una operación de suma.",
      "metadata": {}
    },
    {
      "cell_type": "markdown",
      "source": "### Variables locales y visibilidad",
      "metadata": {
        "heading_collapsed": true
      }
    },
    {
      "cell_type": "markdown",
      "source": "Cuando definimos un nombre dentro del cuerpo de una función se crea una \"variable local\" que solo es visible \"desde dentro\" de la función. Además, se oculta otra posible definición de ese nombre en otras partes del código. Al principio de cada llamada las variables locales se crean y al final se destruyen. ",
      "metadata": {}
    },
    {
      "cell_type": "code",
      "source": "a = 5\n\nb = 8\n\ndef f(x):\n    b = a+x\n    print(b)\n\nf(1)\nprint(b)",
      "metadata": {},
      "execution_count": 32,
      "outputs": [
        {
          "name": "stdout",
          "text": "6\n8\n",
          "output_type": "stream"
        }
      ]
    },
    {
      "cell_type": "markdown",
      "source": "Si queremos redefinir un nombre global tenemos que indicarlo con la palabra clave `global`:",
      "metadata": {}
    },
    {
      "cell_type": "code",
      "source": "a = 5\n\nb = 8\n\ndef f(x):\n    global b\n    b = a+x\n    print(b)\n\nf(1)\nprint(b)",
      "metadata": {},
      "execution_count": 33,
      "outputs": [
        {
          "name": "stdout",
          "text": "6\n6\n",
          "output_type": "stream"
        }
      ]
    },
    {
      "cell_type": "markdown",
      "source": "(Sin embargo, una función puede modificar elementos de una lista global sin necesidad de usar `global`, debido a que es un objeto mutable.) ",
      "metadata": {}
    },
    {
      "cell_type": "markdown",
      "source": "Decimos que una función es **pura** si no modifica ningún dato global y se limita a calcular un resultado que solo depende de sus argumentos. Se recomienda un estilo de programación basado en crear funciones puras que resuelvan tareas sencillas, independientes, que se puedan combinar para resolver diferentes problemas.",
      "metadata": {}
    },
    {
      "cell_type": "markdown",
      "source": "### Documentación",
      "metadata": {
        "heading_collapsed": true
      }
    },
    {
      "cell_type": "markdown",
      "source": "Es muy recomendable añadir a las funciones un mensaje de ayuda.",
      "metadata": {}
    },
    {
      "cell_type": "code",
      "source": "# ? sum\nhelp(sum)",
      "metadata": {},
      "execution_count": 34,
      "outputs": [
        {
          "name": "stdout",
          "text": "Help on built-in function sum in module builtins:\n\nsum(iterable, /, start=0)\n    Return the sum of a 'start' value (default: 0) plus an iterable of numbers\n    \n    When the iterable is empty, return the start value.\n    This function is intended specifically for use with numeric values and may\n    reject non-numeric types.\n\n",
          "output_type": "stream"
        }
      ]
    },
    {
      "cell_type": "code",
      "source": "def fun(n):\n    \"\"\"Calcula el triple de su argumento.\"\"\"\n    return 3*n",
      "metadata": {},
      "execution_count": 35,
      "outputs": []
    },
    {
      "cell_type": "code",
      "source": "help(fun)",
      "metadata": {},
      "execution_count": 36,
      "outputs": [
        {
          "name": "stdout",
          "text": "Help on function fun in module __main__:\n\nfun(n)\n    Calcula el triple de su argumento.\n\n",
          "output_type": "stream"
        }
      ]
    },
    {
      "cell_type": "markdown",
      "source": "Se recomienda seguir unas [normas de estilo](https://www.python.org/dev/peps/pep-0257/) para escribir buenas *docstrings*.",
      "metadata": {}
    },
    {
      "cell_type": "markdown",
      "source": "### Funciones anónimas *",
      "metadata": {
        "heading_collapsed": true
      }
    },
    {
      "cell_type": "markdown",
      "source": "Hay ocasiones en las que necesitamos una función sencilla una sola vez en el programa, por lo que resulta incómodo escribir una definición completa. En estos casos se suelen usar $\\lambda$ *functions*. Su nombre es su definición (!).",
      "metadata": {}
    },
    {
      "cell_type": "code",
      "source": "f = lambda x: 2*x+5",
      "metadata": {},
      "execution_count": 37,
      "outputs": []
    },
    {
      "cell_type": "code",
      "source": "f(5)",
      "metadata": {},
      "execution_count": 38,
      "outputs": [
        {
          "execution_count": 38,
          "output_type": "execute_result",
          "data": {
            "text/plain": "15"
          },
          "metadata": {}
        }
      ]
    },
    {
      "cell_type": "code",
      "source": "(lambda x: 2*x+5)(5)",
      "metadata": {},
      "execution_count": 39,
      "outputs": [
        {
          "execution_count": 39,
          "output_type": "execute_result",
          "data": {
            "text/plain": "15"
          },
          "metadata": {}
        }
      ]
    },
    {
      "cell_type": "code",
      "source": "list(filter(lambda x: x%2 == 0, range(10)))",
      "metadata": {},
      "execution_count": 40,
      "outputs": [
        {
          "execution_count": 40,
          "output_type": "execute_result",
          "data": {
            "text/plain": "[0, 2, 4, 6, 8]"
          },
          "metadata": {}
        }
      ]
    },
    {
      "cell_type": "markdown",
      "source": "No son muy necesarias en lenguajes como Python que tienen *list comprehensions*. El cuerpo de la función solo admite una expresión y no es necesario poner `return`.",
      "metadata": {}
    },
    {
      "cell_type": "markdown",
      "source": "### Funcionales *",
      "metadata": {
        "heading_collapsed": true
      }
    },
    {
      "cell_type": "markdown",
      "source": "Las funciones son objetos informáticos con los que podemos operar igual que con otros tipos de dato: pueden ser argumento y resultado de otras funciones. Esto es muy común en matemáticas: por ejemplo, la derivación y la integración indefinida de funciones son operaciones que transforman una función en otra.",
      "metadata": {}
    },
    {
      "cell_type": "code",
      "source": "def mkfun(a):\n    def g(x):\n        return x + a\n    return g\n\np = mkfun(5)\n\nq = mkfun(10)\n\np(3), q(3)",
      "metadata": {},
      "execution_count": 41,
      "outputs": [
        {
          "execution_count": 41,
          "output_type": "execute_result",
          "data": {
            "text/plain": "(8, 13)"
          },
          "metadata": {}
        }
      ]
    },
    {
      "cell_type": "markdown",
      "source": "### Anotaciones *",
      "metadata": {
        "heading_collapsed": true
      }
    },
    {
      "cell_type": "markdown",
      "source": "Para dejar claro el tipo los argumentos y del resultado, Python admite escribir la \"cabeza\" de la definición con anotaciones de tipo:",
      "metadata": {}
    },
    {
      "cell_type": "code",
      "source": "def fact(n: int) -> int:\n    p = 1\n    for k in range(1,n+1):\n        p *= k\n    return p",
      "metadata": {},
      "execution_count": 42,
      "outputs": []
    },
    {
      "cell_type": "code",
      "source": "fact(5)",
      "metadata": {},
      "execution_count": 43,
      "outputs": [
        {
          "execution_count": 43,
          "output_type": "execute_result",
          "data": {
            "text/plain": "120"
          },
          "metadata": {}
        }
      ]
    },
    {
      "cell_type": "markdown",
      "source": "Pero Python **no** comprueba antes de ejecutar el código que los tipos son correctos. (Aunque hay herramientas no oficiales que sí lo hacen.)",
      "metadata": {}
    },
    {
      "cell_type": "markdown",
      "source": "### Ejercicios",
      "metadata": {
        "heading_collapsed": true
      }
    },
    {
      "cell_type": "markdown",
      "source": "- Escribe funciones para realizar conversiones de temperatura. Por ejemplo: `cel2fahr`, `kelvin2cel`, etc. y genera con ellas tablas de conversión.\n\n\n- Escribe una función para calcular el período de un péndulo de longitud $l$ (para oscilaciones pequeñas).\n\n\n- Modifica la función anterior para que acepte también la amplitud máxima como un argumento opcional.\n\n\n\n- Escribe una función para calcular el área de un triángulo a partir de las longitudes de sus lados ([fórmula de Heron](https://en.wikipedia.org/wiki/Heron%27s_formula)).\n\n\n- Define la función factorial y apoyándote en ella define una función para calcular los [coeficientes binomiales](https://en.wikipedia.org/wiki/Binomial_coefficient).\n\n\n- Escribe una función para calcular la distancia entre dos puntos de $\\mathbb R ^2$ (representados mediante 2-tuplas).\n\n\n- Escribe una función para calcular el área de un triángulo a partir de las coordenadas de sus vértices (representadas mediante 2-tuplas).\n\n\n\n\n- Escribe funciones para calcular el máximo común divisor de dos números a) por fuerza bruta y b) mediante divisiones sucesivas.\n\n\n\n- Escribe una función que reciba una fracción (expresada como una tupla de dos enteros) y devuelva la fracción irreducible equivalente.\n\n\n- Escribe una función que sume todos los divisores de un número.\n\n\n- Escribe una función que construya una lista con todos los divisores de un número.\n\n\n- Escribe una función para determinar si un número es primo.\n\n\n- Los primeros valores de la función $n^2+n+41$ para $n=0,1,2,\\ldots$ son primos: 41, 43, 47, 53,... ¿Cuál es el primer $n$ que produce un número compuesto?\n\n\n- Encuentra el [número perfecto](https://en.wikipedia.org/wiki/Perfect_number) más grande que puedas.\n\n\n- Escribe una función para calcular el número de pasos que da la secuencia [Collatz](https://en.wikipedia.org/wiki/Collatz_conjecture) partiendo del argumento $n$.\n\n\n- Escribe una función para construir una lista con la secuencia [Collatz](https://en.wikipedia.org/wiki/Collatz_conjecture) que empieza en el argumento $n$.",
      "metadata": {}
    }
  ]
}
