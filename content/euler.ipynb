{
 "cells": [
  {
   "cell_type": "markdown",
   "metadata": {
    "editable": true,
    "slideshow": {
     "slide_type": ""
    },
    "tags": []
   },
   "source": [
    "# Integración numérica"
   ]
  },
  {
   "cell_type": "markdown",
   "metadata": {},
   "source": [
    "Las leyes de evolución de muchos sistemas se expresan mediante  [ecuaciones diferenciales](https://en.wikipedia.org/wiki/Differential_equation).  Aparecen en todos los campos de la física y se estudiarán en profundidad en otras asignaturas: las ecuaciones de Newton, Lagrange y Hamilton en mecánica clásica, las ecuaciones de Maxwell en electromagnetismo, la ecuación de Schrödinger en mecánica cuántica, etc.\n",
    "\n",
    "Estas ecuaciones expresan ciertas propiedades matemáticas que tiene que cumplir la solución del problema, pero no la solución propiamente dicha, que no siempre es fácil de encontrar de forma analítica.\n",
    "Por ejemplo, si un cuerpo sufre una fuerza constante tenemos un sencillo movimiento uniformemente acelerado, pero si la fuerza depende de la posición (como ocurre en la órbita de un satélite) se producirá un fenómeno interesante: la trayectoria dependerá de las aceleraciones sufridas, que dependen a su vez de la trayectoria.\n"
   ]
  },
  {
   "cell_type": "markdown",
   "metadata": {},
   "source": [
    "Un caso sencillo es el de un cuerpo sujeto a un muelle ([oscilador armónico](https://en.wikipedia.org/wiki/Harmonic_oscillator)). La fuerza es proporcional al desplazamiento: $F=-k\\,x$, por lo que la trayectoria es la solución de $m x''(t) = - k\\, x(t)$. Usando la [notación de Newton](https://en.wikipedia.org/wiki/Notation_for_differentiation#Newton.27s_notation), que utiliza puntos encima de las variables para indicar las derivadas respecto al tiempo, la ecuación se expresa más brevemente como $\\,{m \\ddot x = - k\\, x}$. \n",
    "Otro ejemplo es la [desintegración radioactiva](https://en.wikipedia.org/wiki/Radioactive_decay#Universal_law_of_radioactive_decay), donde la cantidad de sustancia cumple $\\,\\dot x = - \\lambda x$. \n",
    "\n",
    "Estas ecuaciones tan simples se pueden resolver por inspección, recordando las derivadas de las funciones seno, coseno y exponencial. En cambio, las ecuaciones diferenciales que aparecen en situaciones más complejas son muy difíciles, o imposibles, de resolver analíticamente. Pero no todo está perdido: mediante cálculo numérico se pueden conseguir soluciones numéricas muy precisas. En este capítulo presentaremos las herramientas informáticas disponibles para esta tarea."
   ]
  },
  {
   "cell_type": "markdown",
   "metadata": {},
   "source": [
    "Hay una gran diferencia entre una solución analítica como $x(t)=A \\sin(\\omega t)$ y una solución numérica como la siguiente:\n",
    "\n",
    "    t     x(t)\n",
    "    -----------\n",
    "    0.0   2.00\n",
    "    0.1   1.97\n",
    "    0.2   1.84\n",
    "    ...   ....\n",
    "    \n",
    "Las soluciones analíticas son generales, válidas para diferentes valores de los parámetros y sus propiedades pueden estudiarse mediante razonamiento matemático.\n",
    "\n",
    "Las soluciones numéricas solo pueden construirse con valores definidos de los parámetros y con unas condiciones iniciales dadas. Sirven para contestar a la pregunta \"¿qué pasaría en este caso concreto?\"  Afortunadamente los ordenadores pueden simular muchas situaciones diferentes en un tiempo razonable, lo que permite resolver problemas de gran complejidad. Pero siempre es imprescindible comprobar la validez física de los resultados: las herramientas computacionales y el análisis matemático son métodos complementarios."
   ]
  },
  {
   "cell_type": "markdown",
   "metadata": {},
   "source": [
    "## odeint"
   ]
  },
  {
   "cell_type": "markdown",
   "metadata": {},
   "source": [
    "La herramienta  [odeint](https://docs.scipy.org/doc/scipy-0.18.1/reference/generated/scipy.integrate.odeint.html) proporcionada por el módulo `scipy.integrate` sirve para resolver una gran variedad de problemas de integración numérica. Esta herramienta es capaz de calcular con gran eficiencia y precisión los valores numéricos $f_k=f(t_k)$ de una función matemática desconocida $f(t)$ en una secuencia de puntos deseados $t_k$, a partir de una función informática capaz de calcular los valores numéricos de la derivada $f'(t)$ en cualquier $t$.\n",
    "\n",
    "`odeint` tiene tres argumentos:\n",
    "\n",
    "1. Una función informática que calcula el valor de la **derivada** en cada instante.\n",
    "\n",
    "1. El **valor inicial** de la función.\n",
    "\n",
    "1. Un vector con los **instantes de tiempo** en los que deseamos obtener la solución.\n",
    "\n",
    "\n",
    "El resultado de la integración es una secuencia de valores, no una expresión matemática simbólica.\n",
    "\n",
    "El método es muy general:\n",
    "\n",
    "\n",
    "- La función informática que debemos escribir para calcular la derivada tiene dos argumentos: la variable independiente y la propia función. Esto permite resolver tanto integrales ordinarias como ecuaciones diferenciales.\n",
    "\n",
    "\n",
    "- La función matemática objetivo puede tener varias componentes, lo que permite resolver sistemas de ecuaciones diferenciales.\n",
    "\n",
    "\n",
    "- Las ecuaciones pueden involucrar derivadas superiores a la primera, pero entonces hay que introducir variables auxiliares para reducir la ecuación a un sistema de orden 1.\n",
    "\n",
    "En otras palabras, `odeint` resuelve ecuaciones **vectoriales** de **primer** orden. Cada ecuación concreta que deseemos resolver debe reescribirse, con las variables auxiliares que sean precisas, de la siguiente forma:\n",
    "\n",
    "$$\\dot{ \\vec f} = \\operatorname{deriv}(\\vec f, t)$$"
   ]
  },
  {
   "cell_type": "markdown",
   "metadata": {},
   "source": [
    "Veamos algunos ejemplos."
   ]
  },
  {
   "cell_type": "code",
   "execution_count": null,
   "metadata": {},
   "outputs": [],
   "source": [
    "from scipy.integrate import odeint\n",
    "\n",
    "import numpy as np\n",
    "import matplotlib.pyplot as plt"
   ]
  },
  {
   "cell_type": "markdown",
   "metadata": {},
   "source": [
    "### Caso 1"
   ]
  },
  {
   "cell_type": "markdown",
   "metadata": {},
   "source": [
    "El caso más simple ocurre cuando a derivada de la función desconocida solo depende de la variable independiente. Por ejemplo:\n",
    "\n",
    "$$ f'(t) = \\sin(t) \\;\\;\\;\\;\\;\\; f(0)=7$$\n"
   ]
  },
  {
   "cell_type": "code",
   "execution_count": null,
   "metadata": {},
   "outputs": [],
   "source": [
    "# derivada\n",
    "def deriv(_, t):\n",
    "    df = np.sin(t)\n",
    "    return df\n",
    "\n",
    "# valor inicial\n",
    "f0 = 7\n",
    "\n",
    "# tiempos de integración\n",
    "t = np.linspace(0, 2*2*np.pi, 30)\n",
    "\n",
    "# calculamos la integral\n",
    "f = odeint( deriv, f0, t )"
   ]
  },
  {
   "cell_type": "markdown",
   "metadata": {},
   "source": [
    "El resultado es la secuencia de valores numéricos de la función en los instantes deseados."
   ]
  },
  {
   "cell_type": "code",
   "execution_count": null,
   "metadata": {},
   "outputs": [],
   "source": [
    "f"
   ]
  },
  {
   "cell_type": "code",
   "execution_count": null,
   "metadata": {},
   "outputs": [],
   "source": [
    "plt.plot(t,f,'.',color='red')\n",
    "plt.xlabel('t'); plt.ylabel('f');"
   ]
  },
  {
   "cell_type": "markdown",
   "metadata": {},
   "source": [
    "La solución analítica de esta integral es inmediata: $f(t) = -\\cos(t) + C$, donde la constante se deduce del valor inicial.  Podemos superponerla para comprobar que la integración numérica consigue un resultado muy preciso:"
   ]
  },
  {
   "cell_type": "code",
   "execution_count": null,
   "metadata": {},
   "outputs": [],
   "source": [
    "tc = np.linspace(0, 2*2*np.pi, 300)\n",
    "fc = -np.cos(tc) + 8\n",
    "\n",
    "plt.plot(tc, fc, color='gray', ls='dashed', label='real')\n",
    "plt.plot(t,f,'o',color='red', label='numérica')\n",
    "plt.legend(); plt.xlabel('t'); plt.ylabel('f');"
   ]
  },
  {
   "cell_type": "markdown",
   "metadata": {},
   "source": [
    "En este ejemplo hemos elegido una discretización con pocos puntos para hacer énfasis en que el resultado de la integración numérica es una simple secuencia de números y para comparar gráficamente con la solución teórica. Pero la precisión del resultado no depende de la densidad de muestreo solicitada: odeint trabaja internamente con la densidad de muestreo adecuada teniendo en cuenta la suavidad de la derivada.\n",
    "\n",
    "En problemas más complejos la solución teórica no se conocerá y normalmente usaremos una discretización más densa para mostrar la solución numérica con una curva continua.\n",
    "\n",
    "En [scipy.integrate](https://docs.scipy.org/doc/scipy/reference/integrate.html) hay otras funciones de integración pero en muchos casos `odeint` obtiene buenos resultados."
   ]
  },
  {
   "cell_type": "markdown",
   "metadata": {},
   "source": [
    "### Caso 2"
   ]
  },
  {
   "cell_type": "markdown",
   "metadata": {},
   "source": [
    "La derivada de la función desconocida depende de la propia función. Por ejemplo:\n",
    "\n",
    "$$f'(t) = - K \\; f(t) \\;\\;\\;\\;\\;\\; K=0.95,\\;\\;f(0)=5$$\n",
    "\n",
    "Este problema es una ecuación diferencial propiamente dicha."
   ]
  },
  {
   "cell_type": "code",
   "execution_count": null,
   "metadata": {},
   "outputs": [],
   "source": [
    "def deriv(f, _):\n",
    "    df = -K*f\n",
    "    return df\n",
    "\n",
    "K = 0.95\n",
    "\n",
    "f0 = 5\n",
    "\n",
    "t = np.linspace(0, 5, 30)\n",
    "\n",
    "f = odeint(deriv, f0, t )\n",
    "\n",
    "plt.plot(t,f,'.',color='red')\n",
    "plt.xlabel('t'); plt.ylabel('f');"
   ]
  },
  {
   "cell_type": "markdown",
   "metadata": {},
   "source": [
    "En este problema la solución también se puede obtener de forma analítica: $f(t) = f(0) e^{-Kt}$. La integración numérica es de nuevo muy precisa."
   ]
  },
  {
   "cell_type": "code",
   "execution_count": null,
   "metadata": {},
   "outputs": [],
   "source": [
    "def deriv(f, _):\n",
    "    df = -K*f\n",
    "    return df\n",
    "\n",
    "K = 0.95\n",
    "\n",
    "f0 = 5\n",
    "\n",
    "t = np.linspace(0, 5, 20)\n",
    "\n",
    "f = odeint(deriv, f0, t )\n",
    "\n",
    "\n",
    "tc = np.linspace(0, 5, 300)\n",
    "fc = f0*np.exp(-K*tc)\n",
    "\n",
    "plt.plot(tc, fc, color='gray', label='real', ls='dashed')\n",
    "plt.plot(t,f,'o',color='red', label='numérica')\n",
    "plt.legend(); plt.xlabel('t'); plt.ylabel('f');"
   ]
  },
  {
   "cell_type": "markdown",
   "metadata": {},
   "source": [
    "### Caso 3"
   ]
  },
  {
   "cell_type": "markdown",
   "metadata": {},
   "source": [
    "La función `odeint` también resuelve sistemas de ecuaciones. En este caso la función desconocida tendrá varias componentes."
   ]
  },
  {
   "cell_type": "markdown",
   "metadata": {
    "editable": true,
    "slideshow": {
     "slide_type": ""
    },
    "tags": []
   },
   "source": [
    "Las [ecuaciones de Lotka-Volterra](https://en.wikipedia.org/wiki/Lotka%E2%80%93Volterra_equations) (depredador-presa) son un modelo sencillo de la interacción de dos especies.\n",
    "\n",
    "\\begin{align*}x'(t)&=\\alpha\\, x(t)-\\beta\\, x(t) \\,y(t),\\\\y'(t)&=\\delta\\, x(t)\\,y(t)-\\gamma\\, y(t)\\end{align*}\n",
    "\n",
    "\n",
    "Las incógnitas son las funciones $x(t)$ e $y(t)$, cuyas derivadas dependen de estas dos funciones. El sistema se puede expresar de forma más compacta, sobreentendiendo la dependencia de $t$:\n",
    "\n",
    "\\begin{align*}\\dot x&=\\alpha x-\\beta xy, \\\\ \\dot y&=\\delta x y-\\gamma y\\end{align*}\n",
    "\n",
    "\n",
    "La presa $x$ tiene alimento indefinido y crece siempre con factor $\\alpha$, mientras que el predador $y$ va muriendo con factor $\\gamma$. Los términos cruzados reflejan el interacción entre ambos, que dan lugar a crecimiento del depredador con factor $\\delta$ y la desaparición de la presa con factor $\\beta$.\n"
   ]
  },
  {
   "cell_type": "code",
   "execution_count": null,
   "metadata": {},
   "outputs": [],
   "source": [
    "import numpy as np\n",
    "import matplotlib.pyplot as plt\n",
    "from scipy.integrate import odeint"
   ]
  },
  {
   "cell_type": "code",
   "execution_count": null,
   "metadata": {},
   "outputs": [],
   "source": [
    "def deriv(f,t):\n",
    "    x,y = f\n",
    "    dx = a*x - b*x*y\n",
    "    dy = d*x*y -g*y\n",
    "    return dx,dy\n",
    "\n",
    "a = 1.1\n",
    "b = 0.4\n",
    "d = 0.1\n",
    "g = 0.4\n",
    "\n",
    "x0 = 10\n",
    "y0 = 10\n",
    "\n",
    "t = np.linspace(0, 50, 300)\n",
    "\n",
    "f = odeint(deriv, [x0,y0], t )\n",
    "\n",
    "x,y = f.T\n",
    "\n",
    "plt.plot(t,x,label='presa')\n",
    "plt.plot(t,y,label='predador')\n",
    "plt.legend(); plt.xlabel('tiempo'); plt.ylabel('población');\n",
    "plt.show()\n",
    "plt.plot(x,y); plt.xlabel('presa'); plt.ylabel('predador');"
   ]
  },
  {
   "cell_type": "markdown",
   "metadata": {},
   "source": [
    "### Caso 4"
   ]
  },
  {
   "cell_type": "markdown",
   "metadata": {},
   "source": [
    "Cuando la ecuación contiene derivadas superiores a la primera se reescribe como un sistema con variables auxiliares para reducirlo a orden uno. Por ejemplo, si tenemos que resolver la ecuación de una oscilación amortiguada:\n",
    "\n",
    "$$\\ddot{x}+0.1\\dot{x}+0.95x=0$$\n",
    "\n",
    "para $x(0)=10$, $\\dot{x}(0)=0, t\\in[0,20]$, lo expresamos con la variable axiliar $v = \\dot x$ como:\n",
    "\n",
    "\n",
    "$$ \\begin{aligned}\n",
    "\\dot x &= v \\\\\n",
    "\\dot v &= -0.1 v - 0.95 x\n",
    "\\end{aligned}$$\n"
   ]
  },
  {
   "cell_type": "markdown",
   "metadata": {},
   "source": [
    "Lo único que tenemos que hacer es escribir el código Python que calcula las derivadas. Su estructura es muy parecida en todos los problemas: extraemos las variables de estado con nombres más intuitivos, calculamos las derivadas que correspondan (algunas suelen venir directamente en el vector de estado) y las devolvemos en el orden correcto."
   ]
  },
  {
   "cell_type": "code",
   "execution_count": null,
   "metadata": {},
   "outputs": [],
   "source": [
    "def deriv(s,t):\n",
    "    x,v = s\n",
    "    a = -0.95*x-0.1*v\n",
    "    dx = v\n",
    "    dv = a\n",
    "    return dx, dv"
   ]
  },
  {
   "cell_type": "markdown",
   "metadata": {},
   "source": [
    "Finalmente, llamamos al integrador `odeint` con la función `deriv`, el estado inicial, y un array de tiempos (variable independiente) en los que deseamos obtener la solución. No hay que preocuparse de elegir un intervalo de integración adecuado. Se elige internamente de forma automática, independientemente del vector de tiempos donde pedimos el resultado."
   ]
  },
  {
   "cell_type": "code",
   "execution_count": null,
   "metadata": {},
   "outputs": [],
   "source": [
    "from scipy.integrate import odeint\n",
    "\n",
    "t = np.linspace(0,20,300)\n",
    "r = odeint(deriv,[10,0],t)\n",
    "\n",
    "r[:5]"
   ]
  },
  {
   "cell_type": "markdown",
   "metadata": {},
   "source": [
    "El resultado es un array 2D cuyas filas son los valores de $s(t)$ correspondientes a cada $t$. Para hacer una gráfica de la evolución de cada variable extraemos las columnas:"
   ]
  },
  {
   "cell_type": "code",
   "execution_count": null,
   "metadata": {},
   "outputs": [],
   "source": [
    "plt.plot(t,r[:,0],label='posición')\n",
    "plt.plot(t,r[:,1],label='velocidad');\n",
    "plt.legend(); plt.xlabel('t');"
   ]
  },
  {
   "cell_type": "markdown",
   "metadata": {},
   "source": [
    "En vez de acceder cada vez a las columnas del resultado es más cómodo ponerles nombres. Esto se puede hacer fácilmente transponiendo la matriz:"
   ]
  },
  {
   "cell_type": "code",
   "execution_count": null,
   "metadata": {},
   "outputs": [],
   "source": [
    "x,v = r.T"
   ]
  },
  {
   "cell_type": "code",
   "execution_count": null,
   "metadata": {},
   "outputs": [],
   "source": [
    "plt.figure(figsize=(6,6)); plt.title('diagrama de fases');\n",
    "plt.plot(x,v); plt.xlabel('x'); plt.ylabel('v');"
   ]
  },
  {
   "cell_type": "markdown",
   "metadata": {},
   "source": [
    "### Caso 5"
   ]
  },
  {
   "cell_type": "markdown",
   "metadata": {},
   "source": [
    "En general la derivada puede depender tanto de la función como de la variable independiente. Por ejemplo, la siguiente ecuación describe una oscilación forzada. "
   ]
  },
  {
   "cell_type": "markdown",
   "metadata": {},
   "source": [
    "Pendiente."
   ]
  },
  {
   "cell_type": "markdown",
   "metadata": {},
   "source": [
    "### Tiro parabólico con fricción"
   ]
  },
  {
   "cell_type": "markdown",
   "metadata": {},
   "source": [
    "La trayectoria (en 2D) de un cuerpo sometido a la fuerza de la gravedad y a la resistencia del aire, que aproximamos de forma muy simplificada como una fuerza proporcional a la velocidad, verifica las siguientes ecuaciones:\n",
    "\n",
    "$$\\begin{aligned}\n",
    "\\ddot x &= -\\phi \\dot x\\\\\n",
    "\\ddot y &= -\\phi \\dot y - g\n",
    "\\end{aligned}$$"
   ]
  },
  {
   "cell_type": "markdown",
   "metadata": {},
   "source": [
    "Son dos ecuaciones de segundo orden que tenemos que reescribir como un sistema de cuatro ecuaciones de primer orden."
   ]
  },
  {
   "cell_type": "code",
   "execution_count": null,
   "metadata": {},
   "outputs": [],
   "source": [
    "deg = np.pi/180\n",
    "\n",
    "# condición inicial\n",
    "v = 2\n",
    "a = 60*deg\n",
    "\n",
    "vx0 = v*np.cos(a)\n",
    "vy0 = v*np.sin(a)\n",
    "\n",
    "# parámetros físicos\n",
    "f = 15\n",
    "g = -9.8\n",
    "\n",
    "# muestreo deseado de la solución\n",
    "dt = 0.01\n",
    "t = np.arange(0,5,dt)\n",
    "\n",
    "def deriv(s,t):\n",
    "    x,y,vx,vy = s\n",
    "    ax =   - f*vx\n",
    "    ay = g - f*vy\n",
    "    return vx,vy,ax,ay\n",
    "\n",
    "x,y,vx,vy = odeint( deriv, (0,0,vx0,vy0) ,t ).T\n",
    "\n",
    "# seleccionamos el tramo de solución por encima del suelo\n",
    "ok = y >= 0\n",
    "\n",
    "plt.figure(figsize=(6,6))\n",
    "plt.plot(x[ok],y[ok],'o-'); plt.grid();\n",
    "plt.xlabel('x'); plt.ylabel('y'); plt.axis('equal');"
   ]
  },
  {
   "cell_type": "markdown",
   "metadata": {},
   "source": [
    "### Órbita Kepleriana"
   ]
  },
  {
   "cell_type": "markdown",
   "metadata": {},
   "source": [
    "El ejemplo anterior puede adaptarse fácilmente para calcular la órbita de un satélite. En función del [standard gravitational parameter](https://en.wikipedia.org/wiki/Standard_gravitational_parameter) $\\mu=GM$ la ecuación del movimiento es\n",
    "\n",
    "$$\\ddot {\\vec r} = - \\frac{\\mu}{||\\vec r ||^2} \\frac{\\vec r}{||\\vec r ||}$$\n",
    "\n",
    "Vamos a resolver un caso ficticio para comprobar el código."
   ]
  },
  {
   "cell_type": "code",
   "execution_count": null,
   "metadata": {
    "hide_input": false
   },
   "outputs": [],
   "source": [
    "from scipy.integrate import odeint\n",
    "\n",
    "mu = 1  # GM\n",
    "\n",
    "def deriv(z,t):\n",
    "    x,y,vx,vy = z\n",
    "    d = (x**2 + y**2)**(1/2)\n",
    "    ax = -mu*x/d**3\n",
    "    ay = -mu*y/d**3\n",
    "    return vx,vy,ax,ay\n",
    "\n",
    "t = np.arange(0,30,0.5)\n",
    "\n",
    "x,y,vx,vy = odeint( deriv, [4,0,0.2,0.3], t ).T\n",
    "\n",
    "plt.figure(figsize=(6,6))\n",
    "plt.plot(x,y,'.-');\n",
    "plt.plot([0],[0],'.',markersize=20)\n",
    "plt.axis('equal');"
   ]
  },
  {
   "cell_type": "markdown",
   "metadata": {},
   "source": [
    "Como ejercicio, intenta simular una órbita parecida a la de la luna. Sitúa la posición inicial a 384Mm y la velocidad inicial 1Km/s. El parámetro gravitacional de la Tierra es $\\mu = GM =  3.986 \\times 10^{14} (m^3/s^2)$. Con esos datos completará una órbita en 26 días aproximadamente; puedes aumentar ligeramente la velocidad para que el período se aproxime más a la realidad (27.3 días). También se puede deducir la velocidad y el radio de una órbita circular que tenga el período deseado, y comprobar que la trayectoria obtenida con esos valores  es la esperada."
   ]
  },
  {
   "cell_type": "markdown",
   "metadata": {},
   "source": [
    "### Caso de estudio: periódo de un péndulo"
   ]
  },
  {
   "cell_type": "markdown",
   "metadata": {},
   "source": [
    "[péndulo]: https://en.wikipedia.org/wiki/Pendulum_(mathematics)\n",
    "\n",
    "La ecuación del movimiento de un [péndulo][péndulo] simple es:\n",
    "\n",
    "$$\\ddot \\theta= - \\frac{g}{l} \\sin(\\theta)$$\n",
    "\n",
    "donde $\\theta$ es el ángulo de desplazamiento, $g$ es la aceleración de la gravedad y $l$ la longitud. (Esta ecuación se deduce de la ley de Newton para movimiento rotacional: $\\tau = I \\ddot \\theta$. En este caso el torque es $\\tau = l\\; m g \\sin(\\theta)$ y el momento de inercia es $I=ml^2$.)\n",
    "\n",
    "Para oscilaciones pequeñas $\\sin(\\theta) \\simeq \\theta$, por lo que la ecuación se reduce a la del movimiento armónico simple $\\ddot\\theta + \\omega^2 \\theta =0$, cuya solución es del tipo $\\sin(\\omega t)$, de donde se deduce que el período de oscilación es\n",
    "\n",
    "$$T_0 = 2\\pi\\sqrt{\\frac{l}{g}}$$\n",
    "\n",
    "Si las oscilaciones son más grandes la aproximación deja de ser válida y el período tiene una expresión más complicada, en función de la amplitud máxima $\\theta_m$:\n",
    "\n",
    "$$ T \\simeq T_0\\left(1 + \\frac{1}{16}\\theta_m^2 + \\frac{11}{3072}\\theta_m^4 + \\ldots \\right)$$\n",
    "\n",
    "Mediante la integración de la ecuación exacta podemos observar la solución real y comprobar la validez de esta fórmula."
   ]
  },
  {
   "cell_type": "code",
   "execution_count": null,
   "metadata": {
    "tags": []
   },
   "outputs": [],
   "source": [
    "from scipy.integrate import odeint\n",
    "\n",
    "t = np.linspace(0,10,1000)\n",
    "\n",
    "g = 10\n",
    "l =  1\n",
    "\n",
    "P = 2* np.pi * np.sqrt(l/g)\n",
    "\n",
    "x0 = np.radians(80)\n",
    "\n",
    "teor = x0*np.cos(2*np.pi*t/P)\n",
    "\n",
    "P2 = P*(1+1/16*x0**2 + 11/3072*x0**4)\n",
    "\n",
    "print(f'Período teórico amplitud pequeña:    {P:.3f}')\n",
    "print(f'Período teórico amplitud grande:     {P2:.3f}')\n",
    "\n",
    "def deriv(z,t):\n",
    "    x,v = z\n",
    "    dx = v\n",
    "    dv = -g/l * np.sin(x)\n",
    "    return dx,dv\n",
    "\n",
    "\n",
    "x,v = odeint( deriv, [x0, 0], t ).T\n",
    "\n",
    "plt.plot(t,x,label='simulación')\n",
    "plt.plot(t,teor,label='osc. pequeña',ls='dotted',color='gray');\n",
    "plt.legend(loc=(0.95,0.7)); plt.xlabel('t'); plt.ylabel('amplitud');\n",
    "\n",
    "# Para estimar el período seleccionamos la zona\n",
    "# donde debe caer el primer pico y vemos a qué\n",
    "# tiempo corresponde\n",
    "tbus = (t>1) & (t < 3)\n",
    "\n",
    "kmax = np.argmax(x[tbus])\n",
    "P3 = t[tbus][kmax]\n",
    "\n",
    "print(f'Período observado en la simulación:  {P3:.3f}')"
   ]
  },
  {
   "cell_type": "markdown",
   "metadata": {},
   "source": [
    "## Método de Euler"
   ]
  },
  {
   "cell_type": "markdown",
   "metadata": {},
   "source": [
    "El [método de Euler](https://en.wikipedia.org/wiki/Euler_method) sirve para resolver numéricamente ecuaciones diferenciales mediante una aproximación sencilla.\n",
    "\n",
    "Cuando el incremento $h = t _ {k+1} - t _ k$  es \"pequeño\", la derivada se puede aproximar como:\n",
    "\n",
    "$$f'(t_k) \\simeq \\frac{\\Delta f}{\\Delta t} = \\frac{f(t _ {k+1})-f(t _ k)}{t _ {k+1} - t _ k} = \\frac{f_ {k+1}-f_ k}{h} $$\n",
    "\n",
    "Despejando $f_{k+1}$ tenemos:\n",
    "\n",
    "\n",
    "$$ f_ {k+1} = f_ k + h\\; f'(t_k)  $$\n",
    "\n",
    "La ecuación diferencial concreta nos dirá cómo calcular el valor de la derivada, por lo que si conocemos el valor de la función en un punto podemos obtener una aproximación a su valor en el punto siguiente.\n",
    "\n",
    "La función se irá construyendo en posiciones discretas partiendo de un valor inicial dado $f_0 = f(t_0)$.\n",
    "El intervalo $h = \\Delta t$ debe elegirse de un tamaño suficientemente pequeño para que la derivada de la función sea aproximadamente constante entre muestras."
   ]
  },
  {
   "cell_type": "markdown",
   "metadata": {},
   "source": [
    "Por ejemplo, si deseamos resolver la ecuación diferencial\n",
    "\n",
    "$$ \\dot x = -0.95 x$$\n",
    "\n",
    "con condición inicial $x(0)=5$ hacemos lo siguiente:"
   ]
  },
  {
   "cell_type": "code",
   "execution_count": null,
   "metadata": {},
   "outputs": [],
   "source": [
    "x = 5\n",
    "Δt = 0.01\n",
    "\n",
    "for _ in range(10):\n",
    "    x += Δt * (-0.95)*x\n",
    "    print(x)"
   ]
  },
  {
   "cell_type": "markdown",
   "metadata": {},
   "source": [
    "Gráficamente:"
   ]
  },
  {
   "cell_type": "code",
   "execution_count": null,
   "metadata": {},
   "outputs": [],
   "source": [
    "import numpy as np\n",
    "import matplotlib.pyplot as plt"
   ]
  },
  {
   "cell_type": "code",
   "execution_count": null,
   "metadata": {},
   "outputs": [],
   "source": [
    "x = 5\n",
    "Δt = 0.05\n",
    "t = 0\n",
    "\n",
    "for _ in range(70):\n",
    "    x += Δt* (-0.95)*x\n",
    "    t += Δt\n",
    "    plt.plot([t],[x],'.',color='black',markersize=3);\n",
    "\n",
    "plt.xlabel('t'); plt.ylabel('x(t)');"
   ]
  },
  {
   "cell_type": "markdown",
   "metadata": {},
   "source": [
    "Este método requiere intervalos de integración muy pequeños para que no se acumule demasiado error, por lo que solo se utiliza en simulaciones que no necesiten mucha precisión."
   ]
  },
  {
   "cell_type": "markdown",
   "metadata": {},
   "source": [
    "## Ecuación de onda"
   ]
  },
  {
   "attachments": {},
   "cell_type": "markdown",
   "metadata": {},
   "source": [
    "El caso más simple es la ecuación escalar unidimensional ([wikipedia](https://en.wikipedia.org/wiki/Wave_equation)):\n",
    "\n",
    "$$\\frac{\\partial f^2(x,t)}{\\partial t^2} = c^2 \\; \\frac{\\partial f^2(x,t)}{\\partial x^2} $$\n",
    "\n",
    "Discretizamos la ecuación con una aproximación muy simple a las derivadas:\n",
    "\n",
    "$$f[k,j] \\equiv f(k \\Delta x, j \\Delta t)$$\n",
    "\n",
    "\n",
    "\n",
    "$$\\frac{\\partial f^2(x,t)}{\\partial x^2}  \\simeq \\frac{\\frac{f[k+1,j]-f[k,j]}{\\Delta x}-\\frac{f[k,j]-f[k-1,j]}{\\Delta x}}{\\Delta x} = \\frac{f[k+1,j] -2f[k,j] + f[k-1,j]}{(\\Delta x)^2} \\equiv L$$\n",
    "\n",
    "$$v[k,j] \\equiv \\frac{\\partial f}{\\partial t}(k \\Delta x, j \\Delta t) \\simeq \\frac{f[k,j+1]-f[k,j]}{\\Delta t}$$\n",
    "\n",
    "$$\\frac{\\partial^2 f}{\\partial t^2}(k \\Delta x, j \\Delta t) \\simeq \\frac{v[k,j+1]-v[k,j]}{\\Delta t} $$ \n",
    "\n",
    "Partiendo de unos valores iniciales de posición $f[k,0]$ y velocidad $v[k,0]$ podemos calcular la velocidad y posición instantes sucesivos:\n",
    "\n",
    "$$v[k,j+1] = v[k,j] + \\Delta t\\; c^2 L$$\n",
    "\n",
    "$$f[k,j+1] = f[k,j] + \\Delta t\\; v[k,j] $$"
   ]
  },
  {
   "cell_type": "code",
   "execution_count": null,
   "metadata": {},
   "outputs": [],
   "source": [
    "x = np.linspace(0,1,500)\n",
    "\n",
    "def Lap(g, h):\n",
    "    return np.concatenate(([0], (g[2:]+g[:-2]-2*g[1:-1])/h**2, [0]))\n",
    "\n",
    "from matplotlib import animation\n",
    "from IPython.display import HTML\n",
    "\n",
    "def wave_animation(f0):\n",
    "    fig, ax = plt.subplots(figsize=(7,3))\n",
    "    ax.set_xlim((  -0.05, 1.05)); plt.xlabel('x')\n",
    "    ax.set_ylim(( -1.05, 1.05)); plt.ylabel('f')\n",
    "    ax.set_axis_off()\n",
    "    [line] = ax.plot([],[])\n",
    "    ax.plot([0,1],[0,0],'.',color='black',markersize=11)\n",
    "    plt.close();\n",
    "\n",
    "    dx = x[1]-x[0]\n",
    "    dt = 0.01\n",
    "    c2 = 0.001\n",
    "    f = f0\n",
    "    v = 0\n",
    "\n",
    "    def animate(t):\n",
    "        nonlocal f, v\n",
    "\n",
    "        for _ in range(20):\n",
    "            v = v + c2*Lap(f,dx) * dt\n",
    "            f = f + v*dt\n",
    "\n",
    "        line.set_data(x,f)\n",
    "        return ()\n",
    "\n",
    "    return animation.FuncAnimation(fig, animate, init_func=lambda:[], frames=10*30+15, interval=1000/30, blit=True)"
   ]
  },
  {
   "cell_type": "code",
   "execution_count": null,
   "metadata": {},
   "outputs": [],
   "source": [
    "ani = wave_animation( np.exp(-0.5*((x-0.2)/0.04)**2) )\n",
    "HTML(ani.to_jshtml())"
   ]
  },
  {
   "cell_type": "code",
   "execution_count": null,
   "metadata": {},
   "outputs": [],
   "source": [
    "ani = wave_animation( np.sin(np.pi*x) )\n",
    "HTML(ani.to_jshtml())"
   ]
  },
  {
   "cell_type": "code",
   "execution_count": null,
   "metadata": {},
   "outputs": [],
   "source": [
    "ani = wave_animation( np.sin(5*np.pi*x) )\n",
    "HTML(ani.to_jshtml())"
   ]
  },
  {
   "cell_type": "markdown",
   "metadata": {},
   "source": [
    "El procedimiento de integración que hemos utilizado es muy impreciso y fallará en situaciones más complejas."
   ]
  },
  {
   "cell_type": "markdown",
   "metadata": {},
   "source": [
    "## ecuación del calor *"
   ]
  },
  {
   "cell_type": "markdown",
   "metadata": {},
   "source": [
    "Pendiente."
   ]
  }
 ],
 "metadata": {
  "hide_input": false,
  "kernelspec": {
   "display_name": "Python 3 (ipykernel)",
   "language": "python",
   "name": "python3"
  },
  "language_info": {
   "codemirror_mode": {
    "name": "ipython",
    "version": 3
   },
   "file_extension": ".py",
   "mimetype": "text/x-python",
   "name": "python",
   "nbconvert_exporter": "python",
   "pygments_lexer": "ipython3",
   "version": "3.12.0"
  },
  "varInspector": {
   "cols": {
    "lenName": 16,
    "lenType": 16,
    "lenVar": 40
   },
   "kernels_config": {
    "python": {
     "delete_cmd_postfix": "",
     "delete_cmd_prefix": "del ",
     "library": "var_list.py",
     "varRefreshCmd": "print(var_dic_list())"
    },
    "r": {
     "delete_cmd_postfix": ") ",
     "delete_cmd_prefix": "rm(",
     "library": "var_list.r",
     "varRefreshCmd": "cat(var_dic_list()) "
    }
   },
   "types_to_exclude": [
    "module",
    "function",
    "builtin_function_or_method",
    "instance",
    "_Feature"
   ],
   "window_display": false
  }
 },
 "nbformat": 4,
 "nbformat_minor": 4
}
