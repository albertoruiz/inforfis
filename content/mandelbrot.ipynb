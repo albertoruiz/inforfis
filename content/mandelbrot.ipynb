{
 "cells": [
  {
   "cell_type": "markdown",
   "metadata": {},
   "source": [
    "# Procesos iterativos"
   ]
  },
  {
   "cell_type": "markdown",
   "metadata": {},
   "source": [
    "En este capítulo vamos a explorar algunos procesos iterativos que presentan un comportamiento interesante. Nos servirań como excusa para repasar los bucles y las operaciones con arrays."
   ]
  },
  {
   "cell_type": "code",
   "execution_count": null,
   "metadata": {},
   "outputs": [],
   "source": [
    "import numpy as np\n",
    "import matplotlib.pyplot as plt"
   ]
  },
  {
   "cell_type": "markdown",
   "metadata": {},
   "source": [
    "## Método de Newton"
   ]
  },
  {
   "cell_type": "markdown",
   "metadata": {},
   "source": [
    "En la introducción del curso mostramos un método iterativo para calcular la raíz cuadrada. Se basaba en una idea intuitiva que funcionaba muy bien (hacer la media entre dos estimaciones). Pero cuando intentamos extenderla para calcular, por ejemplo, la raíz cúbica, el método converge mucho más lentamente."
   ]
  },
  {
   "cell_type": "code",
   "execution_count": null,
   "metadata": {},
   "outputs": [],
   "source": [
    "N = 27\n",
    "x = 1\n",
    "\n",
    "for _ in range(10):\n",
    "    x = (x + N/x**2)/2\n",
    "    print(x)"
   ]
  },
  {
   "cell_type": "markdown",
   "metadata": {},
   "source": [
    "El [método de Newton](https://en.wikipedia.org/wiki/Newton%27s_method) nos dice cuál es la iteración óptima para resolver cualquier ecuación de la forma $f(x)=0$:\n",
    "\n",
    "$$ x_{k+1} \\leftarrow x_k - \\frac{f(x)}{f'(x)}$$\n",
    "\n",
    "La justificación es muy sencilla: en cada paso se encuentra la solución exacta a una aproximación lineal a $f(x)$. En la página de wikipedia hay una [animación](https://en.wikipedia.org/wiki/Newton%27s_method#Description) que lo explica muy bien.\n",
    "\n",
    "Si la ecuación a resolver es $x^2 = N$, entonces $f(x) = x^2-N$ y $f'(x)=2x$, la expresión anterior es $x_{k+1} = (x_k + N/x_k)/2$. El método intuitivo era realmente el método de Newton.\n",
    "\n",
    "Para la raíz cúbica tenemos $f(x) = x^3-N$ y $f'(x)=3x^2$, lo que da lugar a la regla $x_{k+1} \\leftarrow (2 x_k + N/x_k^2 )/3$. Comprobamos que converge rápidamente:"
   ]
  },
  {
   "cell_type": "code",
   "execution_count": null,
   "metadata": {},
   "outputs": [],
   "source": [
    "N = 27\n",
    "x = 1\n",
    "\n",
    "for _ in range(10):\n",
    "    x = (2*x + N/x**2)/3\n",
    "    print(x)"
   ]
  },
  {
   "cell_type": "markdown",
   "metadata": {},
   "source": [
    "Veamos otro ejemplo: resolvamos la ecuación de Kepler \n",
    "\n",
    "$$x - b \\sin(x)=a$$\n",
    "\n",
    "para $b=0.3$ y $a=0.4$."
   ]
  },
  {
   "cell_type": "code",
   "execution_count": null,
   "metadata": {},
   "outputs": [],
   "source": [
    "a = 0.4\n",
    "b = 0.3\n",
    "\n",
    "def f(x):\n",
    "    return x - b*np.sin(x) - a\n",
    "\n",
    "def df(x):\n",
    "    return 1 - b*np.cos(x)\n",
    "\n",
    "x = 0.2\n",
    "\n",
    "for _ in range(5):\n",
    "    x = x - f(x)/df(x)\n",
    "    print(x)"
   ]
  },
  {
   "cell_type": "markdown",
   "metadata": {},
   "source": [
    "La convergencia es muy rápida. Si en vez de aplicar el método de Newton hacemos una iteración \"ingenua\" obtenida al despejar una $x$ de la ecuación también funciona pero mucho más lentamente."
   ]
  },
  {
   "cell_type": "code",
   "execution_count": null,
   "metadata": {},
   "outputs": [],
   "source": [
    "x = 0.2\n",
    "\n",
    "for _ in range(10):\n",
    "    x = a + b*np.sin(x)\n",
    "    print(x)"
   ]
  },
  {
   "cell_type": "markdown",
   "metadata": {},
   "source": [
    "Si la ecuación a resolver es complicada es conveniente usar funciones de derivación simbólica o numérica, para no tener que hacerlo a mano. Las herramientas de cálculo científico tienen funciones especializadas para esta tarea. En un capítulo posterior veremos las que proporciona Python."
   ]
  },
  {
   "cell_type": "markdown",
   "metadata": {},
   "source": [
    "## Mandelbrot"
   ]
  },
  {
   "cell_type": "markdown",
   "metadata": {},
   "source": [
    "Una cuestión importante en los métodos interativos es determinar los valores iniciales que consiguen una secuencia convergente."
   ]
  },
  {
   "cell_type": "markdown",
   "metadata": {},
   "source": [
    "Consideremos una iteración muy simple como la siguiente:\n",
    "\n",
    "$$z_{k+1} = z_k^2 + C$$\n",
    "\n",
    "donde $z_0 =0$, para diferentes valores de C."
   ]
  },
  {
   "cell_type": "code",
   "execution_count": null,
   "metadata": {},
   "outputs": [],
   "source": [
    "C = 0.2\n",
    "\n",
    "z = 0\n",
    "for _ in range(10):\n",
    "    z = z**2 + C\n",
    "    print(z)"
   ]
  },
  {
   "cell_type": "code",
   "execution_count": null,
   "metadata": {},
   "outputs": [],
   "source": [
    "C = 1.3\n",
    "\n",
    "z = 0\n",
    "for _ in range(10):\n",
    "    z = z**2 + C\n",
    "    print(z)"
   ]
  },
  {
   "cell_type": "markdown",
   "metadata": {},
   "source": [
    "Con $C=0.2$ parece que la secuencia puede converger, o al menos no diverge, pero con $C=1.3$, claramente sí diverge."
   ]
  },
  {
   "cell_type": "markdown",
   "metadata": {},
   "source": [
    "No hay ningún problema en usar números complejos. De nuevo, dependiendo del valor de C la secuencia puede o no divergir."
   ]
  },
  {
   "cell_type": "code",
   "execution_count": null,
   "metadata": {},
   "outputs": [],
   "source": [
    "C = 0.2 + 0.3j\n",
    "\n",
    "z = 0\n",
    "for _ in range(10):\n",
    "    z = z**2 + C\n",
    "    print(z)"
   ]
  },
  {
   "cell_type": "code",
   "execution_count": null,
   "metadata": {},
   "outputs": [],
   "source": [
    "C = 0.6 - 0.7j\n",
    "\n",
    "z = 0\n",
    "for _ in range(10):\n",
    "    z = z**2 + C\n",
    "    print(z)"
   ]
  },
  {
   "cell_type": "markdown",
   "metadata": {},
   "source": [
    "El [conjunto de Mandelbrot](https://en.wikipedia.org/wiki/Mandelbrot_set) es el conjunto números complejos $C$ para los que la iteración $z\\leftarrow z^2+C$ no diverge."
   ]
  },
  {
   "cell_type": "markdown",
   "metadata": {},
   "source": [
    "Podemos programarlo de la siguiente forma. Para un número razonable de iteraciones, si en algún momento $|z| > 2$ seguro que va a divergir, por lo que inmediatamente el resultado es falso y termina la función. Si se completa el bucle es probable que el valor de $C$ de partida esté dentro del conjunto."
   ]
  },
  {
   "cell_type": "code",
   "execution_count": null,
   "metadata": {},
   "outputs": [],
   "source": [
    "def mandel(c):\n",
    "    z = 0\n",
    "    for _ in range(30):\n",
    "        z = z**2+c\n",
    "        if abs(z) > 2:\n",
    "            return False\n",
    "    return True"
   ]
  },
  {
   "cell_type": "code",
   "execution_count": null,
   "metadata": {},
   "outputs": [],
   "source": [
    "mandel(-0.5+0.2j)"
   ]
  },
  {
   "cell_type": "code",
   "execution_count": null,
   "metadata": {},
   "outputs": [],
   "source": [
    "mandel(0.3+0.8j)"
   ]
  },
  {
   "cell_type": "markdown",
   "metadata": {},
   "source": [
    "Para representarlo gráficamente evaluamos la función para todos los posibles valores de C en una región rectangular, con la resolución deseada. La función `imshow` permite representar matrices como imágenes, con diferentes \"paletas\" de color."
   ]
  },
  {
   "cell_type": "code",
   "execution_count": null,
   "metadata": {},
   "outputs": [],
   "source": [
    "plt.imshow( [[mandel(x + y*1j) for x in np.linspace(-1.5,0.5,100)] for y in np.linspace(-1,1,100)]);"
   ]
  },
  {
   "cell_type": "markdown",
   "metadata": {},
   "source": [
    "Queda más bonito si la gráfica muestra con diferentes colores el número de pasos realizados. De esta forma se observa lo cerca que está cada punto al conjunto de Mandelbrot."
   ]
  },
  {
   "cell_type": "code",
   "execution_count": null,
   "metadata": {},
   "outputs": [],
   "source": [
    "def mandel(c):\n",
    "    z = 0\n",
    "    for k in range(30):\n",
    "        z = z**2+c\n",
    "        if abs(z) > 2:\n",
    "            break\n",
    "    return k"
   ]
  },
  {
   "cell_type": "code",
   "execution_count": null,
   "metadata": {},
   "outputs": [],
   "source": [
    "mandel(0.5)"
   ]
  },
  {
   "cell_type": "code",
   "execution_count": null,
   "metadata": {},
   "outputs": [],
   "source": [
    "mandel(-0.2+0.3j)"
   ]
  },
  {
   "cell_type": "code",
   "execution_count": null,
   "metadata": {},
   "outputs": [],
   "source": [
    "plt.imshow( [[mandel(x + y*1j) for x in np.linspace(-1.5,0.5,100)] for y in np.linspace(-1,1,100)]);"
   ]
  },
  {
   "cell_type": "markdown",
   "metadata": {},
   "source": [
    "Si queremos una imagen de mayor resolución el tiempo de cálculo empieza a ser apreciable.\n",
    "\n",
    "Para que el cómputo sea más eficiente, en vez de usar las operaciones normales de Python que operan sobre números individuales es preferible usar operaciones aritméticas sobre arrays de `numpy`. Realizaremos cada paso de iteración para todos los C \"a la vez\"."
   ]
  },
  {
   "cell_type": "markdown",
   "metadata": {},
   "source": [
    "Para crear una matriz con todos los valores de C podemos hacer lo siguiente. Definimos el rango de valores que queremos visualizar en cada eje (centrado en la posición deseada y con un cierto ancho D) y luego formamos un array a partir de una lista de listas."
   ]
  },
  {
   "cell_type": "code",
   "execution_count": null,
   "metadata": {},
   "outputs": [],
   "source": [
    "n = 1000\n",
    "\n",
    "centro = -0.5; D=1\n",
    "#c = -0.5+0.6j; D = 0.2\n",
    "\n",
    "rx = np.linspace(centro.real-D,centro.real+D,n)\n",
    "ry = np.linspace(centro.imag-D,centro.imag+D,n)[::-1]"
   ]
  },
  {
   "cell_type": "code",
   "execution_count": null,
   "metadata": {},
   "outputs": [],
   "source": [
    "%%time\n",
    "\n",
    "C = np.array([[x+y*1j for x in rx] for y in ry])"
   ]
  },
  {
   "cell_type": "markdown",
   "metadata": {},
   "source": [
    "La operación es muy lenta. La lista de listas contiene un millón del elementos que hay que crear uno por uno. Es mucho más rápido fabricar la matriz C de forma directa usando la función `meshgrid`, que explicamos más adelante (o combinando una matriz fila y una matriz columna, aprovechando el *automatic broadcasting*)."
   ]
  },
  {
   "cell_type": "code",
   "execution_count": null,
   "metadata": {},
   "outputs": [],
   "source": [
    "n = 1000\n",
    "\n",
    "centro = -0.5; D=1\n",
    "#c = -0.5+0.6j; D = 0.2\n",
    "\n",
    "rx = np.linspace(centro.real-D,centro.real+D,n)\n",
    "ry = np.linspace(centro.imag-D,centro.imag+D,n)[::-1]"
   ]
  },
  {
   "cell_type": "code",
   "execution_count": null,
   "metadata": {},
   "outputs": [],
   "source": [
    "x,y = np.meshgrid(rx,ry)"
   ]
  },
  {
   "cell_type": "code",
   "execution_count": null,
   "metadata": {},
   "outputs": [],
   "source": [
    "C = x + y*1j"
   ]
  },
  {
   "cell_type": "markdown",
   "metadata": {},
   "source": [
    "Ahora podemos aplicar la iteración a todos los puntos de partida y mostrar los que no divergen."
   ]
  },
  {
   "cell_type": "code",
   "execution_count": null,
   "metadata": {},
   "outputs": [],
   "source": [
    "Z = np.zeros([n,n])\n",
    "\n",
    "for k in range(30):\n",
    "    Z = Z**2 + C\n",
    "\n",
    "plt.figure(figsize=(10,10))\n",
    "plt.imshow( abs(Z)<2, 'gray'); plt.axis('off');"
   ]
  },
  {
   "cell_type": "markdown",
   "metadata": {},
   "source": [
    "Algunas versiones de numpy producen avisos (\"warnings\") indicando que se ha producido un \"overflow\" en algunos elementos. Son magnitudes mayores que la capacidad del tipo `float`. Para evitarlo usaremos una \"máscara\" S (una matriz de valores lógicos), que indicará los elementos que se mantienen acotados. Esto nos permitirá también fabricar fácilmente el gráfico con colores según el número de iteraciones. Para ello usaremos una matriz N que irá contando en cada posición los pasos realizados. Observa que las operaciones de iteración en Z y de incremento de N se efectúan solo en las posiciones donde la máscara S es verdadera."
   ]
  },
  {
   "cell_type": "code",
   "execution_count": null,
   "metadata": {},
   "outputs": [],
   "source": [
    "Z = np.zeros([n,n],complex)\n",
    "N = np.zeros([n,n])\n",
    "\n",
    "for k in range(30):\n",
    "    S = abs(Z) < 2\n",
    "    Z[S] = (Z**2 + C)[S]\n",
    "    N[S] += 1\n",
    "\n",
    "plt.figure(figsize=(10,10))\n",
    "plt.imshow(N, 'coolwarm', extent=[rx[0],rx[-1],ry[-1],ry[0]]);\n",
    "plt.title('conjunto de Mandelbrot'); plt.xlabel('real'); plt.ylabel('imag');"
   ]
  },
  {
   "cell_type": "markdown",
   "metadata": {},
   "source": [
    "Un ejercicio interesante es definir una función que crea la imagen del conjunto de mandelbrot en una posición y zoom deseados y usarla para hacer una animación."
   ]
  },
  {
   "cell_type": "markdown",
   "metadata": {},
   "source": [
    "## Cuencas de atracción"
   ]
  },
  {
   "cell_type": "markdown",
   "metadata": {},
   "source": [
    "Más arriba hemos resuelto $x^3=N$ en el dominio real y hemos visto que el método de Newton converge rápidamente a la solución. Resulta interesante investigar los puntos de partida que convergen a cada una de las soluciones de la sencilla ecuación $z^3=1$ en el dominio complejo."
   ]
  },
  {
   "cell_type": "markdown",
   "metadata": {},
   "source": [
    "Las soluciones se reparten en el círculo unidad:"
   ]
  },
  {
   "cell_type": "code",
   "execution_count": null,
   "metadata": {},
   "outputs": [],
   "source": [
    "z1 = np.exp(1j * 0*2*np.pi/3)\n",
    "z2 = np.exp(1j * 1*2*np.pi/3)\n",
    "z3 = np.exp(1j * 2*2*np.pi/3)\n",
    "print(z1,z2,z3)"
   ]
  },
  {
   "cell_type": "markdown",
   "metadata": {},
   "source": [
    "Podría pensarse que el metodo de Newton converge a la solución más próxima al punto de partida. Comprobémoslo. Generamos una matriz con una malla de puntos de partida para aplicar el método con todos los elementos a la vez usando operaciones sobre arrays."
   ]
  },
  {
   "cell_type": "code",
   "execution_count": null,
   "metadata": {},
   "outputs": [],
   "source": [
    "n = 1000\n",
    "r = np.linspace(-1,1,n)\n",
    "x0,y0 = np.meshgrid(r,r)\n",
    "z0 = x0+y0*1j"
   ]
  },
  {
   "cell_type": "code",
   "execution_count": null,
   "metadata": {},
   "outputs": [],
   "source": [
    "def cube(z):\n",
    "    return z**3-1\n",
    "\n",
    "def dcube(z):\n",
    "    return 3*z**2"
   ]
  },
  {
   "cell_type": "code",
   "execution_count": null,
   "metadata": {},
   "outputs": [],
   "source": [
    "#%%time\n",
    "\n",
    "Z = z0\n",
    "\n",
    "for k in range(10):\n",
    "    Z = Z - cube(Z)/dcube(Z)"
   ]
  },
  {
   "cell_type": "markdown",
   "metadata": {},
   "source": [
    "Para dibujar la cuenca fabricamos máscaras que indican los elementos que al final de la iteración están más cerca de cada raíz. Estas máscaras nos permiten asignar colores (con la codificación RGB, Red Green Blue) a la matriz mapa, para mostrar las diferentes regiones con `imshow`."
   ]
  },
  {
   "cell_type": "code",
   "execution_count": null,
   "metadata": {},
   "outputs": [],
   "source": [
    "eps = 1e-3\n",
    "\n",
    "m1 = abs(Z-z1) < eps\n",
    "m2 = abs(Z-z2) < eps\n",
    "m3 = abs(Z-z3) < eps\n",
    "\n",
    "mapa = np.zeros([n,n,3])\n",
    "\n",
    "mapa[m1] = (1,0,0)\n",
    "mapa[m2] = (0,1,0)\n",
    "mapa[m3] = (0,0,1)\n",
    "\n",
    "plt.figure(figsize=(10,10))\n",
    "plt.imshow(mapa);"
   ]
  },
  {
   "cell_type": "markdown",
   "metadata": {},
   "source": [
    "Las cuencas de convergencia a cada solución tienen una frontera muy compleja ([Newton fractal](https://en.wikipedia.org/wiki/Newton_fractal))."
   ]
  },
  {
   "cell_type": "code",
   "execution_count": null,
   "metadata": {},
   "outputs": [],
   "source": [
    "plt.figure(figsize=(10,10))\n",
    "plt.imshow(~(m1 | m2 | m3), 'gray');"
   ]
  },
  {
   "cell_type": "markdown",
   "metadata": {},
   "source": [
    "Aquí hay un interesante [blog post](https://web.archive.org/web/20230201164602/http://www.investigacionyciencia.es/blogs/matematicas/33/posts/derivadas-y-fractales-de-newton-11288) sobre este tema."
   ]
  },
  {
   "cell_type": "markdown",
   "metadata": {},
   "source": [
    "## meshgrid *"
   ]
  },
  {
   "cell_type": "markdown",
   "metadata": {},
   "source": [
    "Considera el producto cartesiano de dos contenedores:"
   ]
  },
  {
   "cell_type": "code",
   "execution_count": null,
   "metadata": {},
   "outputs": [],
   "source": [
    "[(x,y) for x in [1,2,3,4] for y in [10,20,30] ]"
   ]
  },
  {
   "cell_type": "markdown",
   "metadata": {},
   "source": [
    "Podemos expresarlo como una lista de listas, similar a una matriz."
   ]
  },
  {
   "cell_type": "code",
   "execution_count": null,
   "metadata": {},
   "outputs": [],
   "source": [
    "[[(x,y) for x in [1,2,3,4]] for y in [10,20,30] ]"
   ]
  },
  {
   "cell_type": "markdown",
   "metadata": {},
   "source": [
    "La función `meshgrid` de `numpy` fabrica un producto cartesiano de forma muy eficiente, pero nos da los elementos por separado:"
   ]
  },
  {
   "cell_type": "code",
   "execution_count": null,
   "metadata": {},
   "outputs": [],
   "source": [
    "x,y = np.meshgrid([1,2,3,4],[10,20,30])"
   ]
  },
  {
   "cell_type": "code",
   "execution_count": null,
   "metadata": {},
   "outputs": [],
   "source": [
    "x"
   ]
  },
  {
   "cell_type": "code",
   "execution_count": null,
   "metadata": {},
   "outputs": [],
   "source": [
    "y"
   ]
  },
  {
   "cell_type": "markdown",
   "metadata": {},
   "source": [
    "Esto tiene múltiples aplicaciones. Permite dibujar superficies 3D, o, como hemos visto más arriba, preparar un conjunto de valores C para el conjunto de Mandelbrot o de valores iniciales para el método de Newton."
   ]
  },
  {
   "cell_type": "code",
   "execution_count": null,
   "metadata": {},
   "outputs": [],
   "source": [
    "x+y*1j"
   ]
  },
  {
   "cell_type": "markdown",
   "metadata": {},
   "source": [
    "Otra forma de conseguir el mismo resultado es combinar una matriz fila y una matriz columna, aprovechando el *automatic broadcasting*"
   ]
  },
  {
   "cell_type": "code",
   "execution_count": null,
   "metadata": {},
   "outputs": [],
   "source": [
    "x = np.array([[1,2,3,4]])\n",
    "y = np.array([[10,20,30]]).T\n",
    "\n",
    "x + y*1j"
   ]
  },
  {
   "cell_type": "markdown",
   "metadata": {},
   "source": [
    "## Autómata celular"
   ]
  },
  {
   "cell_type": "markdown",
   "metadata": {},
   "source": [
    "Un proceso iterativo que se hizo muy famoso es el [Game of Life](https://en.wikipedia.org/wiki/Conway%27s_Game_of_Life).\n",
    "Se trata de un conjunto de células dispuestas en una parrilla bidimensional, cada una de las cuales se encuentra en cada momento en un estado \"vivo\" o \"muerto\". El tiempo avanza en pasos discretos y en cada instante una célula puede nacer, continuar viviendo, o morir, dependiendo del número de células vivas que hay en su entorno. Los parámetros típicos que producen un comportamiento interesante son los siguientes: una célula nace en un sitio si en su entorno hay 3 vecinos; una célula muere si en su entorno hay menos de 2 (está muy sola) o más de 3 vecinos (no hay alimento para todas). "
   ]
  },
  {
   "cell_type": "markdown",
   "metadata": {},
   "source": [
    "La implementación tradicional es la siguiente, basada en 4 bucles anidados. El estado siguiente se irá guardando en un array auxiliar `r`. Para evitar que los bordes del mundo sean posiciones especiales, vamos a trabajar con un mundo ilimitado \"toroidal\" o cíclico que se cierra sobre sí mismo. Esto se programa muy fácilmente tomando el resto de la división de las coordenadas entre el número de celdas en cada dimensión."
   ]
  },
  {
   "cell_type": "code",
   "execution_count": null,
   "metadata": {},
   "outputs": [],
   "source": [
    "import numpy as np\n",
    "\n",
    "s1 = 2; s2 = 3\n",
    "n1 = 3; n2 = 3\n",
    "\n",
    "def life(w):\n",
    "    n,m = w.shape\n",
    "    r = np.empty_like(w)\n",
    "    for i in range(n):\n",
    "        for j in range(m):\n",
    "            v = 0\n",
    "            for k in [-1,0,1]:\n",
    "                for l in [-1,0,1]:\n",
    "                    if w[(i+k)%n, (j+l)%n]:\n",
    "                        v += 1\n",
    "            if w[i,j]:\n",
    "                v -= 1\n",
    "                r[i,j] = s1 <= v <= s2\n",
    "            else:\n",
    "                r[i,j] = n1 <= v <= n2\n",
    "    return r"
   ]
  },
  {
   "cell_type": "code",
   "execution_count": null,
   "metadata": {},
   "outputs": [],
   "source": [
    "n = 10\n",
    "x = 1*(np.random.rand(n,n) > 0.6);\n",
    "\n",
    "plt.figure(figsize=(10,5))\n",
    "plt.subplot(1,2,1)\n",
    "plt.imshow(x, 'gray'); plt.title('instante actual')\n",
    "plt.subplot(1,2,2)\n",
    "plt.imshow(life(x),'gray'); plt.title('instante siguiente');"
   ]
  },
  {
   "cell_type": "markdown",
   "metadata": {},
   "source": [
    "Creamos una animación partiendo de una configuración aleatoria, pero borrando la zona superior izquierda para meter un \"glider\"."
   ]
  },
  {
   "cell_type": "code",
   "execution_count": null,
   "metadata": {},
   "outputs": [],
   "source": [
    "import matplotlib.pyplot as plt\n",
    "from matplotlib import animation, rc\n",
    "rc('animation', html='html5')\n",
    "from IPython.display import HTML"
   ]
  },
  {
   "cell_type": "code",
   "execution_count": null,
   "metadata": {},
   "outputs": [],
   "source": [
    "n = 50\n",
    "x = 1*(np.random.rand(n,n) > 0.6);\n",
    "\n",
    "x[:25,:25] = 0\n",
    "x[5:8,5:8] = [[0,1,0],\n",
    "              [0,0,1],\n",
    "              [1,1,1]]\n",
    "\n",
    "\n",
    "fig, ax = plt.subplots(figsize=(5,5))\n",
    "plt.close();\n",
    "\n",
    "img = ax.imshow(1-x,'gray')\n",
    "\n",
    "def animate(k):\n",
    "    global x\n",
    "    img.set_data(1-x)\n",
    "    x = life(x)\n",
    "    return [img]\n",
    "\n",
    "fps=10\n",
    "T = 5\n",
    "ani = animation.FuncAnimation(fig, animate, init_func=lambda:[], frames=T*fps, interval=1000/fps, blit=True, repeat=False)\n",
    "HTML(ani.to_jshtml())"
   ]
  },
  {
   "cell_type": "markdown",
   "metadata": {},
   "source": [
    "Es curioso que una regla tan sencilla dé lugar a configuraciones de células con comportamientos no triviales (osciladores, estructuras caminantes, cañones que disparan proyectiles, etc.). De hecho, es posible simular cualquier computación con un autómata celular."
   ]
  },
  {
   "cell_type": "markdown",
   "metadata": {},
   "source": [
    "En lenguajes \"compilados\" como Fortran o C una definición como la anterior sería muy eficiente. Pero en lenguajes \"interpretados\" como Python o R es mucho mejor evitar los bucles explícitos y utilizar operaciones sobre arrays en bloque que están optimizadas."
   ]
  },
  {
   "cell_type": "markdown",
   "metadata": {},
   "source": [
    "En un \"mundo\" más grande de $400^2$ celdas la definición anterior necesita aproximadamente 1s para calcular un paso de evolución (depende del ordenador)."
   ]
  },
  {
   "cell_type": "code",
   "execution_count": null,
   "metadata": {},
   "outputs": [],
   "source": [
    "n = 400\n",
    "x = 1*(np.random.rand(n,n) > 0.6);"
   ]
  },
  {
   "cell_type": "code",
   "execution_count": null,
   "metadata": {},
   "outputs": [],
   "source": [
    "%%time\n",
    "\n",
    "for _ in range(10):\n",
    "    x = life(x)"
   ]
  },
  {
   "cell_type": "markdown",
   "metadata": {},
   "source": [
    "Una implementación alternativa con operaciones de `numpy` es la siguiente. La idea es calcular los vecinos creando un array 3D con los 8 desplazamientos en las dos direcciones de modo que sumando los elementos a lo largo del eje adecuado conseguimos el número de vecinos de cada celda. Finalmente creamos el resultado con operaciones lógicas elemento a elemento."
   ]
  },
  {
   "cell_type": "code",
   "execution_count": null,
   "metadata": {},
   "outputs": [],
   "source": [
    "def vecinos(w):\n",
    "    return np.array([np.roll(np.roll(w,k,axis=1),l,axis=0)\n",
    "                     for k in [-1,0,1] \n",
    "                     for l in [-1,0,1] if (k,l) != (0,0) ]\n",
    "                   ).sum(axis=0)\n",
    "\n",
    "def life_a(w):\n",
    "    v = vecinos(w)\n",
    "    return np.where(w, (s1 <=v)&(v<=s2) , (n1<=v)&(v<=n2) )"
   ]
  },
  {
   "cell_type": "markdown",
   "metadata": {},
   "source": [
    "Comprobamos que esta definición es equivalente a la anterior:"
   ]
  },
  {
   "cell_type": "code",
   "execution_count": null,
   "metadata": {},
   "outputs": [],
   "source": [
    "np.all(life(x) == life_a(x))"
   ]
  },
  {
   "cell_type": "markdown",
   "metadata": {},
   "source": [
    "Pero es más de 200 veces más rápida."
   ]
  },
  {
   "cell_type": "code",
   "execution_count": null,
   "metadata": {},
   "outputs": [],
   "source": [
    "%%time\n",
    "\n",
    "for _ in range(10*200):\n",
    "    x = life_a(x)"
   ]
  }
 ],
 "metadata": {
  "hide_input": false,
  "kernelspec": {
   "display_name": "Python 3 (ipykernel)",
   "language": "python",
   "name": "python3"
  },
  "language_info": {
   "codemirror_mode": {
    "name": "ipython",
    "version": 3
   },
   "file_extension": ".py",
   "mimetype": "text/x-python",
   "name": "python",
   "nbconvert_exporter": "python",
   "pygments_lexer": "ipython3",
   "version": "3.11.5"
  },
  "varInspector": {
   "cols": {
    "lenName": 16,
    "lenType": 16,
    "lenVar": 40
   },
   "kernels_config": {
    "python": {
     "delete_cmd_postfix": "",
     "delete_cmd_prefix": "del ",
     "library": "var_list.py",
     "varRefreshCmd": "print(var_dic_list())"
    },
    "r": {
     "delete_cmd_postfix": ") ",
     "delete_cmd_prefix": "rm(",
     "library": "var_list.r",
     "varRefreshCmd": "cat(var_dic_list()) "
    }
   },
   "types_to_exclude": [
    "module",
    "function",
    "builtin_function_or_method",
    "instance",
    "_Feature"
   ],
   "window_display": false
  }
 },
 "nbformat": 4,
 "nbformat_minor": 4
}
