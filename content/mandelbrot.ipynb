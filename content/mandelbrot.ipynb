{
  "metadata": {
    "hide_input": false,
    "varInspector": {
      "cols": {
        "lenName": 16,
        "lenType": 16,
        "lenVar": 40
      },
      "kernels_config": {
        "python": {
          "delete_cmd_postfix": "",
          "delete_cmd_prefix": "del ",
          "library": "var_list.py",
          "varRefreshCmd": "print(var_dic_list())"
        },
        "r": {
          "delete_cmd_postfix": ") ",
          "delete_cmd_prefix": "rm(",
          "library": "var_list.r",
          "varRefreshCmd": "cat(var_dic_list()) "
        }
      },
      "types_to_exclude": [
        "module",
        "function",
        "builtin_function_or_method",
        "instance",
        "_Feature"
      ],
      "window_display": false
    },
    "kernelspec": {
      "name": "python",
      "display_name": "Python (Pyodide)",
      "language": "python"
    },
    "language_info": {
      "codemirror_mode": {
        "name": "python",
        "version": 3
      },
      "file_extension": ".py",
      "mimetype": "text/x-python",
      "name": "python",
      "nbconvert_exporter": "python",
      "pygments_lexer": "ipython3",
      "version": "3.8"
    }
  },
  "nbformat_minor": 4,
  "nbformat": 4,
  "cells": [
    {
      "cell_type": "markdown",
      "source": "<p style=\"background:#eeeeee\">\nInformática - 1º de Física\n<br>\n<strong>Introducción a la Programación</strong>\n</p>",
      "metadata": {}
    },
    {
      "cell_type": "markdown",
      "source": "## Procesos iterativos",
      "metadata": {}
    },
    {
      "cell_type": "markdown",
      "source": "En este capítulo vamos a explorar algunos procesos iterativos que presentan un comportamiento interesante. Nos servirań como excusa para repasar los bucles y las operaciones con arrays.",
      "metadata": {}
    },
    {
      "cell_type": "markdown",
      "source": "### Módulos necesarios",
      "metadata": {}
    },
    {
      "cell_type": "code",
      "source": "import numpy as np\nimport matplotlib.pyplot as plt",
      "metadata": {
        "trusted": true
      },
      "execution_count": null,
      "outputs": []
    },
    {
      "cell_type": "markdown",
      "source": "### Método de Newton",
      "metadata": {}
    },
    {
      "cell_type": "markdown",
      "source": "En la introducción del curso mostramos un método iterativo para calcular la raíz cuadrada. Se basaba en una idea intuitiva que funcionaba muy bien (hacer la media entre dos estimaciones). Pero cuando intentamos extenderla para calcular, por ejemplo, la raíz cúbica, el método converge mucho más lentamente.",
      "metadata": {}
    },
    {
      "cell_type": "code",
      "source": "N = 27\nx = 1\n\nfor _ in range(10):\n    x = (x + N/x**2)/2\n    print(x)",
      "metadata": {
        "trusted": true
      },
      "execution_count": null,
      "outputs": []
    },
    {
      "cell_type": "markdown",
      "source": "El [método de Newton](https://en.wikipedia.org/wiki/Newton%27s_method) nos dice cuál es la iteración óptima para resolver cualquier ecuación de la forma $f(x)=0$:\n\n$$ x_{k+1} \\leftarrow x_k - \\frac{f(x)}{f'(x)}$$\n\nLa justificación es muy sencilla: en cada paso se encuentra la solución exacta a una aproximación lineal a $f(x)$. En la página de wikipedia hay una [animación](https://en.wikipedia.org/wiki/Newton%27s_method#Description) que lo explica muy bien.\n\nSi la ecuación a resolver es $x^2 = N$, entonces $f(x) = x^2-N$ y $f'(x)=2x$, la expresión anterior es $x_{k+1} = (x_k + N/x_k)/2$. El método intuitivo era realmente el método de Newton.\n\nPara la raíz cúbica tenemos $f(x) = x^3-N$ y $f'(x)=3x^2$, lo que da lugar a la regla $x_{k+1} \\leftarrow (2 x_k + N/x_k^2 )/3$. Comprobamos que converge rápidamente:",
      "metadata": {}
    },
    {
      "cell_type": "code",
      "source": "N = 27\nx = 1\n\nfor _ in range(10):\n    x = (2*x + N/x**2)/3\n    print(x)",
      "metadata": {
        "trusted": true
      },
      "execution_count": null,
      "outputs": []
    },
    {
      "cell_type": "markdown",
      "source": "Veamos otro ejemplo: resolvamos la ecuación de Kepler \n\n$$x - b \\sin(x)=a$$\n\npara $b=0.3$ y $a=0.4$.",
      "metadata": {}
    },
    {
      "cell_type": "code",
      "source": "a = 0.4\nb = 0.3\n\ndef f(x):\n    return x - b*np.sin(x) - a\n\ndef df(x):\n    return 1 - b*np.cos(x)\n\nx = 0.2\n\nfor _ in range(5):\n    x = x - f(x)/df(x)\n    print(x)",
      "metadata": {
        "trusted": true
      },
      "execution_count": null,
      "outputs": []
    },
    {
      "cell_type": "markdown",
      "source": "La convergencia es muy rápida. Si en vez de aplicar el método de Newton hacemos una iteración \"ingenua\" obtenida al despejar una $x$ de la ecuación también funciona pero mucho más lentamente.",
      "metadata": {}
    },
    {
      "cell_type": "code",
      "source": "x = 0.2\n\nfor _ in range(10):\n    x = a + b*np.sin(x)\n    print(x)",
      "metadata": {
        "trusted": true
      },
      "execution_count": null,
      "outputs": []
    },
    {
      "cell_type": "markdown",
      "source": "Si la ecuación a resolver es complicada es conveniente usar funciones de derivación simbólica o numérica, para no tener que hacerlo a mano. Las herramientas de cálculo científico tienen funciones especializadas para esta tarea. En un capítulo posterior veremos las que proporciona Python.",
      "metadata": {}
    },
    {
      "cell_type": "markdown",
      "source": "### Mandelbrot",
      "metadata": {}
    },
    {
      "cell_type": "markdown",
      "source": "Una cuestión importante en los métodos interativos es determinar los valores iniciales que consiguen una secuencia convergente.",
      "metadata": {}
    },
    {
      "cell_type": "markdown",
      "source": "Consideremos una iteración muy simple como la siguiente:\n\n$$z_{k+1} = z_k^2 + C$$\n\ndonde $z_0 =0$, para diferentes valores de C.",
      "metadata": {}
    },
    {
      "cell_type": "code",
      "source": "C = 0.2\n\nz = 0\nfor _ in range(10):\n    z = z**2 + C\n    print(z)",
      "metadata": {
        "trusted": true
      },
      "execution_count": null,
      "outputs": []
    },
    {
      "cell_type": "code",
      "source": "C = 1.3\n\nz = 0\nfor _ in range(10):\n    z = z**2 + C\n    print(z)",
      "metadata": {
        "trusted": true
      },
      "execution_count": null,
      "outputs": []
    },
    {
      "cell_type": "markdown",
      "source": "Con $C=0.2$ parece que la secuencia puede converger, o al menos no diverge, pero con $C=1.3$, claramente sí diverge.",
      "metadata": {}
    },
    {
      "cell_type": "markdown",
      "source": "No hay ningún problema en usar números complejos. De nuevo, dependiendo del valor de C la secuencia puede o no divergir.",
      "metadata": {}
    },
    {
      "cell_type": "code",
      "source": "C = 0.2 + 0.3j\n\nz = 0\nfor _ in range(10):\n    z = z**2 + C\n    print(z)",
      "metadata": {
        "trusted": true
      },
      "execution_count": null,
      "outputs": []
    },
    {
      "cell_type": "code",
      "source": "C = 0.6 - 0.7j\n\nz = 0\nfor _ in range(10):\n    z = z**2 + C\n    print(z)",
      "metadata": {
        "trusted": true
      },
      "execution_count": null,
      "outputs": []
    },
    {
      "cell_type": "markdown",
      "source": "El [conjunto de Mandelbrot](https://en.wikipedia.org/wiki/Mandelbrot_set) es el conjunto números complejos $C$ para los que la iteración $z\\leftarrow z^2+C$ no diverge.",
      "metadata": {}
    },
    {
      "cell_type": "markdown",
      "source": "Podemos programarlo de la siguiente forma. Para un número razonable de iteraciones, si en algún momento $|z| > 2$ seguro que va a divergir, por lo que inmediatamente el resultado es falso y termina la función. Si se completa el bucle es probable que el valor de $C$ de partida esté dentro del conjunto.",
      "metadata": {}
    },
    {
      "cell_type": "code",
      "source": "def mandel(c):\n    z = 0\n    for _ in range(30):\n        z = z**2+c\n        if abs(z) > 2:\n            return False\n    return True",
      "metadata": {
        "trusted": true
      },
      "execution_count": null,
      "outputs": []
    },
    {
      "cell_type": "code",
      "source": "mandel(-0.5+0.2j)",
      "metadata": {
        "trusted": true
      },
      "execution_count": null,
      "outputs": []
    },
    {
      "cell_type": "code",
      "source": "mandel(0.3+0.8j)",
      "metadata": {
        "trusted": true
      },
      "execution_count": null,
      "outputs": []
    },
    {
      "cell_type": "markdown",
      "source": "Para representarlo gráficamente evaluamos la función para todos los posibles valores de C en una región rectangular, con la resolución deseada. La función `imshow` permite representar matrices como imágenes, con diferentes \"paletas\" de color.",
      "metadata": {}
    },
    {
      "cell_type": "code",
      "source": "plt.imshow( [[mandel(x + y*1j) for x in np.linspace(-1.5,0.5,100)] for y in np.linspace(-1,1,100)]);",
      "metadata": {
        "trusted": true
      },
      "execution_count": null,
      "outputs": []
    },
    {
      "cell_type": "markdown",
      "source": "Queda más bonito si la gráfica muestra con diferentes colores el número de pasos realizados. De esta forma se observa lo cerca que está cada punto al conjunto de Mandelbrot.",
      "metadata": {}
    },
    {
      "cell_type": "code",
      "source": "def mandel(c):\n    z = 0\n    for k in range(30):\n        z = z**2+c\n        if abs(z) > 2:\n            break\n    return k",
      "metadata": {
        "trusted": true
      },
      "execution_count": null,
      "outputs": []
    },
    {
      "cell_type": "code",
      "source": "mandel(0.5)",
      "metadata": {
        "trusted": true
      },
      "execution_count": null,
      "outputs": []
    },
    {
      "cell_type": "code",
      "source": "mandel(-0.2+0.3j)",
      "metadata": {
        "trusted": true
      },
      "execution_count": null,
      "outputs": []
    },
    {
      "cell_type": "code",
      "source": "plt.imshow( [[mandel(x + y*1j) for x in np.linspace(-1.5,0.5,100)] for y in np.linspace(-1,1,100)]);",
      "metadata": {
        "trusted": true
      },
      "execution_count": null,
      "outputs": []
    },
    {
      "cell_type": "markdown",
      "source": "Si queremos una imagen de mayor resolución el tiempo de cálculo empieza a ser apreciable.\n\nPara que el cómputo sea más eficiente, en vez de usar las operaciones normales de Python que operan sobre números individuales es preferible usar operaciones aritméticas sobre arrays de `numpy`. Realizaremos cada paso de iteración para todos los C \"a la vez\".",
      "metadata": {}
    },
    {
      "cell_type": "markdown",
      "source": "Para crear una matriz con todos los valores de C podemos hacer lo siguiente. Definimos el rango de valores que queremos visualizar en cada eje (centrado en la posición deseada y con un cierto ancho D) y luego formamos un array a partir de una lista de listas.",
      "metadata": {}
    },
    {
      "cell_type": "code",
      "source": "n = 1000\n\ncentro = -0.5; D=1\n#c = -0.5+0.6j; D = 0.2\n\nrx = np.linspace(centro.real-D,centro.real+D,n)\nry = np.linspace(centro.imag-D,centro.imag+D,n)[::-1]",
      "metadata": {
        "trusted": true
      },
      "execution_count": null,
      "outputs": []
    },
    {
      "cell_type": "code",
      "source": "%%time\n\nC = np.array([[x+y*1j for x in rx] for y in ry])",
      "metadata": {
        "trusted": true
      },
      "execution_count": null,
      "outputs": []
    },
    {
      "cell_type": "markdown",
      "source": "La operación es muy lenta. La lista de listas contiene un millón del elementos que hay que crear uno por uno. Es mucho más rápido fabricar la matriz C de forma directa usando la función `meshgrid`, que explicamos más adelante (o combinando una matriz fila y una matriz columna, aprovechando el *automatic broadcasting*).",
      "metadata": {}
    },
    {
      "cell_type": "code",
      "source": "n = 1000\n\ncentro = -0.5; D=1\n#c = -0.5+0.6j; D = 0.2\n\nrx = np.linspace(centro.real-D,centro.real+D,n)\nry = np.linspace(centro.imag-D,centro.imag+D,n)[::-1]",
      "metadata": {
        "trusted": true
      },
      "execution_count": null,
      "outputs": []
    },
    {
      "cell_type": "code",
      "source": "x,y = np.meshgrid(rx,ry)",
      "metadata": {
        "trusted": true
      },
      "execution_count": null,
      "outputs": []
    },
    {
      "cell_type": "code",
      "source": "C = x + y*1j",
      "metadata": {
        "trusted": true
      },
      "execution_count": null,
      "outputs": []
    },
    {
      "cell_type": "markdown",
      "source": "Ahora podemos aplicar la iteración a todos los puntos de partida y mostrar los que no divergen.",
      "metadata": {}
    },
    {
      "cell_type": "code",
      "source": "Z = np.zeros([n,n])\n\nfor k in range(30):\n    Z = Z**2 + C\n\nplt.figure(figsize=(10,10))\nplt.imshow( abs(Z)<2, 'gray'); plt.axis('off');",
      "metadata": {
        "trusted": true
      },
      "execution_count": null,
      "outputs": []
    },
    {
      "cell_type": "markdown",
      "source": "Algunas versiones de numpy producen avisos (\"warnings\") indicando que se ha producido un \"overflow\" en algunos elementos. Son magnitudes mayores que la capacidad del tipo `float`. Para evitarlo usaremos una \"máscara\" S (una matriz de valores lógicos), que indicará los elementos que se mantienen acotados. Esto nos permitirá también fabricar fácilmente el gráfico con colores según el número de iteraciones. Para ello usaremos una matriz N que irá contando en cada posición los pasos realizados. Observa que las operaciones de iteración en Z y de incremento de N se efectúan solo en las posiciones donde la máscara S es verdadera.",
      "metadata": {}
    },
    {
      "cell_type": "code",
      "source": "Z = np.zeros([n,n],complex)\nN = np.zeros([n,n])\n\nfor k in range(30):\n    S = abs(Z) < 2\n    Z[S] = (Z**2 + C)[S]\n    N[S] += 1\n\nplt.figure(figsize=(10,10))\nplt.imshow(N, 'coolwarm', extent=[rx[0],rx[-1],ry[-1],ry[0]]);\nplt.title('conjunto de Mandelbrot'); plt.xlabel('real'); plt.ylabel('imag');",
      "metadata": {
        "trusted": true
      },
      "execution_count": null,
      "outputs": []
    },
    {
      "cell_type": "markdown",
      "source": "Un ejercicio interesante es definir una función que crea la imagen del conjunto de mandelbrot en una posición y zoom deseados y usarla para hacer una animación.",
      "metadata": {}
    },
    {
      "cell_type": "markdown",
      "source": "### Cuencas de atracción",
      "metadata": {}
    },
    {
      "cell_type": "markdown",
      "source": "Más arriba hemos resuelto $x^3=N$ en el dominio real y hemos visto que el método de Newton converge rápidamente a la solución. Resulta interesante investigar los puntos de partida que convergen a cada una de las soluciones de la sencilla ecuación $z^3=1$ en el dominio complejo.",
      "metadata": {}
    },
    {
      "cell_type": "markdown",
      "source": "Las soluciones se reparten en el círculo unidad:",
      "metadata": {}
    },
    {
      "cell_type": "code",
      "source": "z1 = np.exp(1j * 0*2*np.pi/3)\nz2 = np.exp(1j * 1*2*np.pi/3)\nz3 = np.exp(1j * 2*2*np.pi/3)\nprint(z1,z2,z3)",
      "metadata": {
        "trusted": true
      },
      "execution_count": null,
      "outputs": []
    },
    {
      "cell_type": "markdown",
      "source": "Podría pensarse que el metodo de Newton converge a la solución más próxima al punto de partida. Comprobémoslo. Generamos una matriz con una malla de puntos de partida para aplicar el método con todos los elementos a la vez usando operaciones sobre arrays.",
      "metadata": {}
    },
    {
      "cell_type": "code",
      "source": "n = 1000\nr = np.linspace(-1,1,n)\nx0,y0 = np.meshgrid(r,r)\nz0 = x0+y0*1j",
      "metadata": {
        "trusted": true
      },
      "execution_count": null,
      "outputs": []
    },
    {
      "cell_type": "code",
      "source": "def cube(z):\n    return z**3-1\n\ndef dcube(z):\n    return 3*z**2",
      "metadata": {
        "trusted": true
      },
      "execution_count": null,
      "outputs": []
    },
    {
      "cell_type": "code",
      "source": "#%%time\n\nZ = z0\n\nfor k in range(10):\n    Z = Z - cube(Z)/dcube(Z)",
      "metadata": {
        "trusted": true
      },
      "execution_count": null,
      "outputs": []
    },
    {
      "cell_type": "markdown",
      "source": "Para dibujar la cuenca fabricamos máscaras que indican los elementos que al final de la iteración están más cerca de cada raíz. Estas máscaras nos permiten asignar colores (con la codificación RGB, Red Green Blue) a la matriz mapa, para mostrar las diferentes regiones con `imshow`.",
      "metadata": {}
    },
    {
      "cell_type": "code",
      "source": "eps = 1e-3\n\nm1 = abs(Z-z1) < eps\nm2 = abs(Z-z2) < eps\nm3 = abs(Z-z3) < eps\n\nmapa = np.zeros([n,n,3])\n\nmapa[m1] = (1,0,0)\nmapa[m2] = (0,1,0)\nmapa[m3] = (0,0,1)\n\nplt.figure(figsize=(10,10))\nplt.imshow(mapa);",
      "metadata": {
        "trusted": true
      },
      "execution_count": null,
      "outputs": []
    },
    {
      "cell_type": "markdown",
      "source": "Las cuencas de convergencia a cada solución tienen una frontera muy compleja ([Newton fractal](https://en.wikipedia.org/wiki/Newton_fractal)).",
      "metadata": {}
    },
    {
      "cell_type": "code",
      "source": "plt.figure(figsize=(10,10))\nplt.imshow(~(m1 | m2 | m3), 'gray');",
      "metadata": {
        "trusted": true
      },
      "execution_count": null,
      "outputs": []
    },
    {
      "cell_type": "markdown",
      "source": "Aquí hay un interesante [blog post](https://web.archive.org/web/20230201164602/http://www.investigacionyciencia.es/blogs/matematicas/33/posts/derivadas-y-fractales-de-newton-11288) sobre este tema.",
      "metadata": {}
    },
    {
      "cell_type": "markdown",
      "source": "### meshgrid *",
      "metadata": {}
    },
    {
      "cell_type": "markdown",
      "source": "Considera el producto cartesiano de dos contenedores:",
      "metadata": {}
    },
    {
      "cell_type": "code",
      "source": "[(x,y) for x in [1,2,3,4] for y in [10,20,30] ]",
      "metadata": {
        "trusted": true
      },
      "execution_count": null,
      "outputs": []
    },
    {
      "cell_type": "markdown",
      "source": "Podemos expresarlo como una lista de listas, similar a una matriz.",
      "metadata": {}
    },
    {
      "cell_type": "code",
      "source": "[[(x,y) for x in [1,2,3,4]] for y in [10,20,30] ]",
      "metadata": {
        "trusted": true
      },
      "execution_count": null,
      "outputs": []
    },
    {
      "cell_type": "markdown",
      "source": "La función `meshgrid` de `numpy` fabrica un producto cartesiano de forma muy eficiente, pero nos da los elementos por separado:",
      "metadata": {}
    },
    {
      "cell_type": "code",
      "source": "x,y = np.meshgrid([1,2,3,4],[10,20,30])",
      "metadata": {
        "trusted": true
      },
      "execution_count": null,
      "outputs": []
    },
    {
      "cell_type": "code",
      "source": "x",
      "metadata": {
        "trusted": true
      },
      "execution_count": null,
      "outputs": []
    },
    {
      "cell_type": "code",
      "source": "y",
      "metadata": {
        "trusted": true
      },
      "execution_count": null,
      "outputs": []
    },
    {
      "cell_type": "markdown",
      "source": "Esto tiene múltiples aplicaciones. Permite dibujar superficies 3D, o, como hemos visto más arriba, preparar un conjunto de valores C para el conjunto de Mandelbrot o de valores iniciales para el método de Newton.",
      "metadata": {}
    },
    {
      "cell_type": "code",
      "source": "x+y*1j",
      "metadata": {
        "trusted": true
      },
      "execution_count": null,
      "outputs": []
    },
    {
      "cell_type": "markdown",
      "source": "Otra forma de conseguir el mismo resultado es combinar una matriz fila y una matriz columna, aprovechando el *automatic broadcasting*",
      "metadata": {}
    },
    {
      "cell_type": "code",
      "source": "x = np.array([[1,2,3,4]])\ny = np.array([[10,20,30]]).T\n\nx + y*1j",
      "metadata": {
        "trusted": true
      },
      "execution_count": null,
      "outputs": []
    },
    {
      "cell_type": "markdown",
      "source": "### Autómata celular",
      "metadata": {}
    },
    {
      "cell_type": "markdown",
      "source": "Un proceso iterativo que se hizo muy famoso es el [Game of Life](https://en.wikipedia.org/wiki/Conway%27s_Game_of_Life).\nSe trata de un conjunto de células dispuestas en una parrilla bidimensional, cada una de las cuales se encuentra en cada momento en un estado \"vivo\" o \"muerto\". El tiempo avanza en pasos discretos y en cada instante una célula puede nacer, continuar viviendo, o morir, dependiendo del número de células vivas que hay en su entorno. Los parámetros típicos que producen un comportamiento interesante son los siguientes: una célula nace en un sitio si en su entorno hay 3 vecinos; una célula muere si en su entorno hay menos de 2 (está muy sola) o más de 3 vecinos (no hay alimento para todas). ",
      "metadata": {}
    },
    {
      "cell_type": "markdown",
      "source": "La implementación tradicional es la siguiente, basada en 4 bucles anidados. El estado siguiente se irá guardando en un array auxiliar `r`. Para evitar que los bordes del mundo sean posiciones especiales, vamos a trabajar con un mundo ilimitado \"toroidal\" o cíclico que se cierra sobre sí mismo. Esto se programa muy fácilmente tomando el resto de la división de las coordenadas entre el número de celdas en cada dimensión.",
      "metadata": {}
    },
    {
      "cell_type": "code",
      "source": "import numpy as np\n\ns1 = 2; s2 = 3\nn1 = 3; n2 = 3\n\ndef life(w):\n    n,m = w.shape\n    r = np.empty_like(w)\n    for i in range(n):\n        for j in range(m):\n            v = 0\n            for k in [-1,0,1]:\n                for l in [-1,0,1]:\n                    if w[(i+k)%n, (j+l)%n]:\n                        v += 1\n            if w[i,j]:\n                v -= 1\n                r[i,j] = s1 <= v <= s2\n            else:\n                r[i,j] = n1 <= v <= n2\n    return r",
      "metadata": {
        "trusted": true
      },
      "execution_count": null,
      "outputs": []
    },
    {
      "cell_type": "code",
      "source": "n = 10\nx = 1*(np.random.rand(n,n) > 0.6);\n\nplt.figure(figsize=(10,5))\nplt.subplot(1,2,1)\nplt.imshow(x, 'gray'); plt.title('instante actual')\nplt.subplot(1,2,2)\nplt.imshow(life(x),'gray'); plt.title('instante siguiente');",
      "metadata": {
        "trusted": true
      },
      "execution_count": null,
      "outputs": []
    },
    {
      "cell_type": "markdown",
      "source": "Creamos una animación partiendo de una configuración aleatoria, pero borrando la zona superior izquierda para meter un \"glider\".",
      "metadata": {}
    },
    {
      "cell_type": "code",
      "source": "import matplotlib.pyplot as plt\nfrom matplotlib import animation, rc\nrc('animation', html='html5')\nfrom IPython.display import HTML",
      "metadata": {
        "trusted": true
      },
      "execution_count": null,
      "outputs": []
    },
    {
      "cell_type": "code",
      "source": "n = 50\nx = 1*(np.random.rand(n,n) > 0.6);\n\nx[:25,:25] = 0\nx[5:8,5:8] = [[0,1,0],\n              [0,0,1],\n              [1,1,1]]\n\n\nfig, ax = plt.subplots(figsize=(5,5))\nplt.close();\n\nimg = ax.imshow(1-x,'gray')\n\ndef animate(k):\n    global x\n    img.set_data(1-x)\n    x = life(x)\n    return [img]\n\nfps=10\nT = 5\nani = animation.FuncAnimation(fig, animate, init_func=lambda:[], frames=T*fps, interval=1000/fps, blit=True, repeat=False)\nHTML(ani.to_jshtml())",
      "metadata": {
        "trusted": true
      },
      "execution_count": null,
      "outputs": []
    },
    {
      "cell_type": "markdown",
      "source": "Es curioso que una regla tan sencilla dé lugar a configuraciones de células con comportamientos no triviales (osciladores, estructuras caminantes, cañones que disparan proyectiles, etc.). De hecho, es posible simular cualquier computación con un autómata celular.",
      "metadata": {}
    },
    {
      "cell_type": "markdown",
      "source": "En lenguajes \"compilados\" como Fortran o C una definición como la anterior sería muy eficiente. Pero en lenguajes \"interpretados\" como Python o R es mucho mejor evitar los bucles explícitos y utilizar operaciones sobre arrays en bloque que están optimizadas.",
      "metadata": {}
    },
    {
      "cell_type": "markdown",
      "source": "En un \"mundo\" más grande de $400^2$ celdas la definición anterior necesita aproximadamente 1s para calcular un paso de evolución (depende del ordenador).",
      "metadata": {}
    },
    {
      "cell_type": "code",
      "source": "n = 400\nx = 1*(np.random.rand(n,n) > 0.6);",
      "metadata": {
        "trusted": true
      },
      "execution_count": null,
      "outputs": []
    },
    {
      "cell_type": "code",
      "source": "%%time\n\nfor _ in range(10):\n    x = life(x)",
      "metadata": {
        "trusted": true
      },
      "execution_count": null,
      "outputs": []
    },
    {
      "cell_type": "markdown",
      "source": "Una implementación alternativa con operaciones de `numpy` es la siguiente. La idea es calcular los vecinos creando un array 3D con los 8 desplazamientos en las dos direcciones de modo que sumando los elementos a lo largo del eje adecuado conseguimos el número de vecinos de cada celda. Finalmente creamos el resultado con operaciones lógicas elemento a elemento.",
      "metadata": {}
    },
    {
      "cell_type": "code",
      "source": "def vecinos(w):\n    return np.array([np.roll(np.roll(w,k,axis=1),l,axis=0)\n                     for k in [-1,0,1] \n                     for l in [-1,0,1] if (k,l) != (0,0) ]\n                   ).sum(axis=0)\n\ndef life_a(w):\n    v = vecinos(w)\n    return np.where(w, (s1 <=v)&(v<=s2) , (n1<=v)&(v<=n2) )",
      "metadata": {
        "trusted": true
      },
      "execution_count": null,
      "outputs": []
    },
    {
      "cell_type": "markdown",
      "source": "Comprobamos que esta definición es equivalente a la anterior:",
      "metadata": {}
    },
    {
      "cell_type": "code",
      "source": "np.all(life(x) == life_a(x))",
      "metadata": {
        "trusted": true
      },
      "execution_count": null,
      "outputs": []
    },
    {
      "cell_type": "markdown",
      "source": "Pero es más de 200 veces más rápida.",
      "metadata": {}
    },
    {
      "cell_type": "code",
      "source": "%%time\n\nfor _ in range(10*200):\n    x = life_a(x)",
      "metadata": {
        "trusted": true
      },
      "execution_count": null,
      "outputs": []
    }
  ]
}