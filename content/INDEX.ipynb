{
  "metadata": {
    "language_info": {
      "name": ""
    },
    "kernelspec": {
      "name": "python",
      "display_name": "Python (Pyodide)",
      "language": "python"
    }
  },
  "nbformat_minor": 4,
  "nbformat": 4,
  "cells": [
    {
      "cell_type": "markdown",
      "source": "<img src=\"graph/escudoUM.png\" width=\"120px\" style=\"display: inline-block; margin: 10px;\">\n\n<big><strong>Grado en Física</strong> - Universidad de Murcia</big>\n\n# Informática\n\nProf. [**_Alberto Ruiz García_**](http://dis.um.es/~alberto)",
      "metadata": {}
    },
    {
      "cell_type": "markdown",
      "source": "## Introducción a la programación\n\n\n- [Tema 0](inforfis.ipynb). Presentación\n\n- [Tema 1](intro.ipynb). Evaluación de expresiones\n\n- [Tema 2](control.ipynb). Control\n\n- [Tema 3](contenedores.ipynb). Contenedores\n\n- [Tema 4](funciones.ipynb). Funciones\n\n- [Tema 5](numpy.ipynb). Arrays\n\n- [Tema 6](matplotlib.ipynb). Gráficas\n\n- [Tema 7](recursion.ipynb). Definiciones recursivas",
      "metadata": {}
    },
    {
      "cell_type": "markdown",
      "source": "## Ejercicios\n\n- [Guión de prácticas](practicas.ipynb)\n\n- [Ejercicios resueltos](ejercicios.ipynb)",
      "metadata": {}
    },
    {
      "cell_type": "markdown",
      "source": "## Para saber más\n\n- [Cálculo numérico](scipy.ipynb)\n\n- [Integración numérica](euler.ipynb)\n\n- [Procesos iterativos](mandelbrot.ipynb)\n\n- [Caos determinista](chaos.ipynb)\n\n- [Cálculo simbólico](sympy.ipynb)\n\n- [Análisis de datos](pandas.ipynb)\n\n- [Magnitudes físicas](uncertainties.ipynb)\n\n\n- [Introducción a R](https://mybinder.org/v2/gh/albertoruiz/inforfis/R?filepath=notebooks/index.ipynb)\n\n- [Introducción a Fortran](fortran.ipynb)",
      "metadata": {}
    }
  ]
}