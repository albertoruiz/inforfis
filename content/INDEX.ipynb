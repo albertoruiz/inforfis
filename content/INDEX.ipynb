{
  "metadata": {
    "hide_input": false,
    "varInspector": {
      "cols": {
        "lenName": 16,
        "lenType": 16,
        "lenVar": 40
      },
      "kernels_config": {
        "python": {
          "delete_cmd_postfix": "",
          "delete_cmd_prefix": "del ",
          "library": "var_list.py",
          "varRefreshCmd": "print(var_dic_list())"
        },
        "r": {
          "delete_cmd_postfix": ") ",
          "delete_cmd_prefix": "rm(",
          "library": "var_list.r",
          "varRefreshCmd": "cat(var_dic_list()) "
        }
      },
      "types_to_exclude": [
        "module",
        "function",
        "builtin_function_or_method",
        "instance",
        "_Feature"
      ],
      "window_display": false
    },
    "kernelspec": {
      "name": "python",
      "display_name": "Python (Pyodide)",
      "language": "python"
    },
    "language_info": {
      "codemirror_mode": {
        "name": "python",
        "version": 3
      },
      "file_extension": ".py",
      "mimetype": "text/x-python",
      "name": "python",
      "nbconvert_exporter": "python",
      "pygments_lexer": "ipython3",
      "version": "3.8"
    }
  },
  "nbformat_minor": 4,
  "nbformat": 4,
  "cells": [
    {
      "cell_type": "markdown",
      "source": "<img src=\"graph/escudoUM.png\" width=\"120px\" style=\"display: inline-block; margin: 10px;\">\n\n\n<big><strong>Grado en Física</strong> - Universidad de Murcia</big>\n\n\n# Informática\n\n\nProf. [**_Alberto Ruiz García_**](http://dis.um.es/~alberto)",
      "metadata": {}
    },
    {
      "cell_type": "markdown",
      "source": "## Introducción a la programación\n\n\n- [Tema 0](inforfis.ipynb). Presentación\n- [Tema 1](intro.ipynb). Evaluación de expresiones\n- [Tema 2](control.ipynb). Control\n- [Tema 3](contenedores.ipynb). Contenedores\n- [Tema 4](funciones.ipynb). Funciones\n- [Tema 5](numpy.ipynb). Arrays\n- [Tema 6](matplotlib.ipynb). Gráficas\n- [Tema 7](recursion.ipynb). Definiciones recursivas",
      "metadata": {}
    },
    {
      "cell_type": "markdown",
      "source": "## Ejercicios\n\n- [Guión de prácticas](practicas.ipynb)\n- [Ejercicios resueltos](ejercicios.ipynb)",
      "metadata": {}
    },
    {
      "cell_type": "markdown",
      "source": "## Para saber más\n\n- [Cálculo numérico](scipy.ipynb)\n- [Integración numérica](euler.ipynb)\n- [Procesos iterativos](mandelbrot.ipynb)\n- [Caos determinista](chaos.ipynb)\n- [Cálculo simbólico](sympy.ipynb)\n- [Análisis de datos](pandas.ipynb)\n- [Magnitudes físicas](uncertainties.ipynb)\n- [Introducción a R](https://mybinder.org/v2/gh/albertoruiz/inforfis/R?filepath=notebooks/index.ipynb)",
      "metadata": {}
    }
  ]
}