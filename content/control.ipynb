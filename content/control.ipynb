{
  "metadata": {
    "hide_input": false,
    "varInspector": {
      "cols": {
        "lenName": 16,
        "lenType": 16,
        "lenVar": 40
      },
      "kernels_config": {
        "python": {
          "delete_cmd_postfix": "",
          "delete_cmd_prefix": "del ",
          "library": "var_list.py",
          "varRefreshCmd": "print(var_dic_list())"
        },
        "r": {
          "delete_cmd_postfix": ") ",
          "delete_cmd_prefix": "rm(",
          "library": "var_list.r",
          "varRefreshCmd": "cat(var_dic_list()) "
        }
      },
      "types_to_exclude": [
        "module",
        "function",
        "builtin_function_or_method",
        "instance",
        "_Feature"
      ],
      "window_display": false
    },
    "kernelspec": {
      "name": "python",
      "display_name": "Python (Pyodide)",
      "language": "python"
    },
    "language_info": {
      "codemirror_mode": {
        "name": "python",
        "version": 3
      },
      "file_extension": ".py",
      "mimetype": "text/x-python",
      "name": "python",
      "nbconvert_exporter": "python",
      "pygments_lexer": "ipython3",
      "version": "3.8"
    }
  },
  "nbformat_minor": 4,
  "nbformat": 4,
  "cells": [
    {
      "cell_type": "markdown",
      "source": "<p style=\"background:#f4f4f4; padding:5px; margin-left:-5px;margin-bottom:0px\">\nInformática - 1º de Física\n<br>\n<strong>Introducción a la Programación</strong>\n</p>",
      "metadata": {}
    },
    {
      "cell_type": "markdown",
      "source": "## Tema 2. Instrucciones de control",
      "metadata": {}
    },
    {
      "cell_type": "markdown",
      "source": "### Motivación",
      "metadata": {}
    },
    {
      "cell_type": "markdown",
      "source": "En el tema anterior hemos aprendido a programar el cálculo de operaciones numéricas usando signos del teclado que tratan de imitar el lenguaje matemático tradicional. El aspecto que tiene el código no es muy atractivo pero cumple con su cometido de definir con precisión las operaciones deseadas.",
      "metadata": {}
    },
    {
      "cell_type": "markdown",
      "source": "Además, hay dos características importantes que permiten una forma rudimentaria de programación:\n\n- Podemos escribir una secuencia de instrucciones, tan larga como queramos, para que se efectúen una detrás de otra.\n\n- Se pueden redefinir los nombres (o dicho de otra manera, reasignar nuevos valores a las variables).\n\nCon esto ya podríamos resolver problemas sencillos como p. ej. extraer una raíz cuadrada mediante aproximaciones sucesivas. Copiando y pegando líneas podemos escribir algo como:",
      "metadata": {}
    },
    {
      "cell_type": "code",
      "source": "n = 121\n\nx = 3\nx = (x + n/x)/2\nx = (x + n/x)/2\nx = (x + n/x)/2\nx = (x + n/x)/2\nx = (x + n/x)/2\nx = (x + n/x)/2\nx = (x + n/x)/2\nx = (x + n/x)/2\nx = (x + n/x)/2\nx = (x + n/x)/2\nx = (x + n/x)/2\nx = (x + n/x)/2\nx = (x + n/x)/2\nx = (x + n/x)/2\n\nx",
      "metadata": {},
      "execution_count": 1,
      "outputs": [
        {
          "execution_count": 1,
          "output_type": "execute_result",
          "data": {
            "text/plain": "11.0"
          },
          "metadata": {}
        }
      ]
    },
    {
      "cell_type": "markdown",
      "source": "El resultado es exacto. Sin embargo, el código anterior tiene varios inconvenientes: uno muy importante es que el número de refinamientos que hay que hacer depende de $n$ y del valor inicial de $x$. Seguramente aquí sobran repeticiones (se puede añadir un `print(x)` después de cada paso para ver el progreso del cómputo) pero en otros casos podrían faltar.\n\nLo peor de todo es que el código tiene una pinta horrible.  Aunque nunca hayamos visto nada de programación una repetición literal de instrucciones como la anterior causa una malísima impresión. Imagina un problema que necesite miles de pasos para alcanzar una solución aceptable.",
      "metadata": {}
    },
    {
      "cell_type": "markdown",
      "source": "### Control de flujo",
      "metadata": {}
    },
    {
      "cell_type": "markdown",
      "source": "Los lenguajes de programación tienen **construcciones de control** para especificar cuántas veces o en qué condiciones hay que efectuar un cierto grupo de instrucciones. Hay varios tipos, que podemos estructurar así:\n\n- selección (`if`)\n    \n- repetición\n\n    - general (`while`)\n    \n    - bucle   (`for`)\n    ",
      "metadata": {}
    },
    {
      "cell_type": "markdown",
      "source": "En primer lugar vamos a explicar brevemente su funcionamiento y luego las emplearemos para expresar mejor el cálculo anterior. Usaremos la palabra **bloque** para indicar una secuencia cualquiera de instrucciones.",
      "metadata": {}
    },
    {
      "cell_type": "markdown",
      "source": "La sentencia `if` efectúa un bloque u otro dependiendo de una condición lógica:\n",
      "metadata": {}
    },
    {
      "cell_type": "code",
      "source": "if 5*7 > 40:\n    print('qué bien')\nelse:\n    print('mala suerte')\n    print('adiós')",
      "metadata": {},
      "execution_count": 2,
      "outputs": [
        {
          "name": "stdout",
          "text": "mala suerte\nadiós\n",
          "output_type": "stream"
        }
      ]
    },
    {
      "cell_type": "markdown",
      "source": "La sentencia `while` sirve para repetir un bloque mientras se cumple una condición lógica. Como ejemplo sencillo, el siguiente código va duplicando un número sucesivas veces mientras sea menor que 100.",
      "metadata": {}
    },
    {
      "cell_type": "code",
      "source": "z = 1\n\nwhile z < 100:\n    z = 2*z\n\nz",
      "metadata": {},
      "execution_count": 3,
      "outputs": [
        {
          "execution_count": 3,
          "output_type": "execute_result",
          "data": {
            "text/plain": "128"
          },
          "metadata": {}
        }
      ]
    },
    {
      "cell_type": "markdown",
      "source": "El ordenador \"no sabe\" el número de repeticiones que se van a realizar. Si el bloque está mal programado es posible que nunca deje de cumplirse la condición y el ordenador se quede \"colgado\". (Si esto ocurre se puede interrumpir el proceso en la opción de menú \"Kernel->Interrupt\".)",
      "metadata": {}
    },
    {
      "cell_type": "markdown",
      "source": "Finalmente, la sentencia `for` sirve para repetir un bloque recorriendo un conjunto de valores. Es uno de los conceptos más importantes en programación, conocido  como _iteración_ o _bucle_.  ",
      "metadata": {}
    },
    {
      "cell_type": "code",
      "source": "for x in [5, 11, 27]:\n    print( 2*x+5 )",
      "metadata": {},
      "execution_count": 4,
      "outputs": [
        {
          "name": "stdout",
          "text": "15\n27\n59\n",
          "output_type": "stream"
        }
      ]
    },
    {
      "cell_type": "markdown",
      "source": "Muchas veces los bucles recorren secuencias de enteros:",
      "metadata": {}
    },
    {
      "cell_type": "code",
      "source": "for k in range(4):\n    print('hola', k)",
      "metadata": {},
      "execution_count": 5,
      "outputs": [
        {
          "name": "stdout",
          "text": "hola 0\nhola 1\nhola 2\nhola 3\n",
          "output_type": "stream"
        }
      ]
    },
    {
      "cell_type": "markdown",
      "source": "Hay que elegir un nombre (cualquiera, aunque se suele usar `k`, `j` , etc.) para el llamado \"índice del bucle\", que irá tomando valores sucesivos en cada una de las repeticiones.\n\nEn Python y muchos otros lenguajes de programación se empieza a contar por cero. Aunque parezca extraño esto tiene [algunas ventajas](https://en.wikipedia.org/wiki/Zero-based_numbering) para trabajar con subíndices.",
      "metadata": {}
    },
    {
      "cell_type": "markdown",
      "source": "En las construcciones de control:\n\n- es obligatorio poner `:` al final la sentencia.\n    \n- los bloques deben escribirse a partir de la línea siguiente, dejando 4 espacios de separación (que puedes conseguir con la tecla Tab).\n\n- Los bloques pueden contener a su vez otras construcciones de control, formando una estructura de múltiples niveles.\n\n- En cualquier momento podemos terminar de forma anticipada los bucles `for` y `while` mediante una sentencia `break`.",
      "metadata": {}
    },
    {
      "cell_type": "markdown",
      "source": "### Secuencias numéricas",
      "metadata": {}
    },
    {
      "cell_type": "markdown",
      "source": "Para construir secuencias de enteros se utiliza `range`. Para construir secuencias de números reales se utiliza `np.arange` y `np.linspace`. Estas secuencias se pueden recorrer con bucles `for` o utilizarlas para otros fines.",
      "metadata": {}
    },
    {
      "cell_type": "code",
      "source": "list(range(5))",
      "metadata": {},
      "execution_count": 6,
      "outputs": [
        {
          "execution_count": 6,
          "output_type": "execute_result",
          "data": {
            "text/plain": "[0, 1, 2, 3, 4]"
          },
          "metadata": {}
        }
      ]
    },
    {
      "cell_type": "code",
      "source": "list(range(2,10,3))",
      "metadata": {},
      "execution_count": 7,
      "outputs": [
        {
          "execution_count": 7,
          "output_type": "execute_result",
          "data": {
            "text/plain": "[2, 5, 8]"
          },
          "metadata": {}
        }
      ]
    },
    {
      "cell_type": "code",
      "source": "import numpy as np",
      "metadata": {},
      "execution_count": 8,
      "outputs": []
    },
    {
      "cell_type": "code",
      "source": "np.arange(5)",
      "metadata": {},
      "execution_count": 9,
      "outputs": [
        {
          "execution_count": 9,
          "output_type": "execute_result",
          "data": {
            "text/plain": "array([0, 1, 2, 3, 4])"
          },
          "metadata": {}
        }
      ]
    },
    {
      "cell_type": "code",
      "source": "np.arange(1,5,0.5)",
      "metadata": {},
      "execution_count": 10,
      "outputs": [
        {
          "execution_count": 10,
          "output_type": "execute_result",
          "data": {
            "text/plain": "array([1. , 1.5, 2. , 2.5, 3. , 3.5, 4. , 4.5])"
          },
          "metadata": {}
        }
      ]
    },
    {
      "cell_type": "code",
      "source": "np.linspace(0,1,11)",
      "metadata": {},
      "execution_count": 11,
      "outputs": [
        {
          "execution_count": 11,
          "output_type": "execute_result",
          "data": {
            "text/plain": "array([0. , 0.1, 0.2, 0.3, 0.4, 0.5, 0.6, 0.7, 0.8, 0.9, 1. ])"
          },
          "metadata": {}
        }
      ]
    },
    {
      "cell_type": "markdown",
      "source": "### Caso de estudio",
      "metadata": {}
    },
    {
      "cell_type": "markdown",
      "source": "Veamos ahora algunas formas de calcular la raíz cuadrada por aproximaciones sucesivas usando estas herramientas. La primera idea es simplemente refinar la aproximacion un número fijo de veces:",
      "metadata": {}
    },
    {
      "cell_type": "code",
      "source": "n   = 121   # queremos extraer la raíz cuadrada de este número\nx   = 3     # partimos de un valor cualquiera\nrep = 5     # número de pasos\n\nfor _ in range(rep):\n    x = (x + n/x)/2\n\nx",
      "metadata": {},
      "execution_count": 12,
      "outputs": [
        {
          "execution_count": 12,
          "output_type": "execute_result",
          "data": {
            "text/plain": "11.000000367455819"
          },
          "metadata": {}
        }
      ]
    },
    {
      "cell_type": "markdown",
      "source": "(Hemos llamado `_` al índice del bucle indicando con ello que no lo vamos a usar. )\n\nSi queremos observar la evolución de las aproximaciones añadimos un `print` dentro del bloque que se repite. En este caso sí usamos el índice, que llamamos por ejemplo `k`:",
      "metadata": {}
    },
    {
      "cell_type": "code",
      "source": "n   = 300\nx   = 3\nrep = 6\n\nfor k in range(rep):\n    print(f'paso {k}: x = {x}')\n    x = (x + n/x)/2\n\nprint('\\nSolución:', x)",
      "metadata": {},
      "execution_count": 13,
      "outputs": [
        {
          "name": "stdout",
          "text": "paso 0: x = 3\npaso 1: x = 51.5\npaso 2: x = 28.6626213592233\npaso 3: x = 19.56460731776899\npaso 4: x = 17.4492093914502\npaso 5: x = 17.320982711195377\n\nSolución: 17.320508082191836\n",
          "output_type": "stream"
        }
      ]
    },
    {
      "cell_type": "markdown",
      "source": "<p style='margin-left:2cm; color:#555'><small>\n\nPara que quede más bonito hemos usado una cadena con formato, que sirve para insertar valores numéricos dentro de una cadena de caracteres en los \"huecos\" indicados con `{}`. El código `\\n` significa pasar al renglón siguiente.\n\n</small></p>",
      "metadata": {}
    },
    {
      "cell_type": "markdown",
      "source": "Los dos últimos pasos tienen 5 cifras significativas iguales. No está mal, pero el proceso debe continuar unos cuantos pasos más si queremos que todos los decimales disponibles en el tipo `float` sean correctos.\n\nUn bucle `for` no es lo ideal para este problema porque en principio desconocemos el número de iteraciones adecuado. Podríamos poner un número muy grande para asegurar un resultado aceptable pero no tiene mucho sentido hacer trabajo innecesario. \nLo ideal es refinar la solución hasta conseguir la precisión deseada. Esto puede conseguirse fácilmente mediante la sentencia `while`. Una primera idea podría ser la siguiente:",
      "metadata": {}
    },
    {
      "cell_type": "code",
      "source": "n   = 121\nx   = 3\n\nwhile x**2 != n:\n    print(x)\n    x = (x + n/x)/2\n\nx",
      "metadata": {},
      "execution_count": 14,
      "outputs": [
        {
          "name": "stdout",
          "text": "3\n21.666666666666668\n13.625641025641027\n11.25297858583519\n11.00284361000081\n11.000000367455819\n11.000000000000007\n",
          "output_type": "stream"
        },
        {
          "execution_count": 14,
          "output_type": "execute_result",
          "data": {
            "text/plain": "11.0"
          },
          "metadata": {}
        }
      ]
    },
    {
      "cell_type": "markdown",
      "source": "El resultado es exacto (al menos en este caso) y el proceso iterativo termina cuando conseguimos la solución. Este código es un buen ejemplo del uso de `while`, pero desde el punto de vista del cálculo numérico tiene varios problemas:\n\n- Hemos puesto una condición de igualdad estricta para detener la repetición. Esto es muy arriesgado al trabajar con números reales aproximados. Por ejemplo, si repetimos el proceso con $n=300$ el ordenador se quedará colgado: llega un momento en el que las aproximaciones se estabilizan en `17.32050807568877`, cuyo cuadrado es `299.99999999999994`.\n\n- La condición de parada establecida es, directamente, encontrar la solución, no que el proceso iterativo deje de progresar. Es mejor realizar la iteración hasta que la aproximación converja y luego verificar que es una solución correcta.",
      "metadata": {}
    },
    {
      "cell_type": "markdown",
      "source": "Una versión mejorada es la siguiente. Haremos una repetición infinita con una condición de terminación `break` en medio del bloque. Para poder comparar una aproximación con la siguiente necesitamos dos variables: `x` es la anterior, y `xs` la nueva.",
      "metadata": {}
    },
    {
      "cell_type": "code",
      "source": "n   = 300\nx   = 3\neps = 1E-6\n\nwhile True:\n    print(x)\n    xs = (x + n/x)/2\n    if abs(xs-x) < eps:\n        break\n    x = xs\n\nprint()\nprint(xs)\nprint(xs**2)",
      "metadata": {},
      "execution_count": 15,
      "outputs": [
        {
          "name": "stdout",
          "text": "3\n51.5\n28.6626213592233\n19.56460731776899\n17.4492093914502\n17.320982711195377\n17.320508082191836\n\n17.32050807568877\n299.99999999999994\n",
          "output_type": "stream"
        }
      ]
    },
    {
      "cell_type": "markdown",
      "source": "Observa que hay dos errores en juego: el error en la solución y el error en la condición que se debe cumplir.",
      "metadata": {}
    },
    {
      "cell_type": "markdown",
      "source": "En muchos procesos iterativos es conveniente poner también un límite en el número de pasos.",
      "metadata": {}
    },
    {
      "cell_type": "markdown",
      "source": "### Bucle acumulador",
      "metadata": {}
    },
    {
      "cell_type": "markdown",
      "source": "Veamos algún ejemplo más de bucle `for`. Intenta adivinar lo que va a ocurrir al evaluar las siguientes celdas sin mirar más adelante:",
      "metadata": {}
    },
    {
      "cell_type": "code",
      "source": "for k in range(100):\n    print(k,'al cuadrado es',k**2)",
      "metadata": {},
      "execution_count": null,
      "outputs": []
    },
    {
      "cell_type": "markdown",
      "source": "La anterior no tiene ningún misterio, simplemente se muestran muchos mensajes consecutivos sin ningún otro \"efecto secundario\". El siguiente caso no es tan inmediato:",
      "metadata": {}
    },
    {
      "cell_type": "code",
      "source": "b = 1\nfor k in range(10):\n    b = b*3\nb",
      "metadata": {},
      "execution_count": 17,
      "outputs": [
        {
          "execution_count": 17,
          "output_type": "execute_result",
          "data": {
            "text/plain": "59049"
          },
          "metadata": {}
        }
      ]
    },
    {
      "cell_type": "markdown",
      "source": "Redefinir `b` usando su valor anterior hace que sea difícil analizar lo que va a ocurrir. Afortunadamente este caso es muy simple. Podemos \"desenrollar el bucle\" mentalmente y darnos cuenta de que b va a ir valiendo sucesivamente:\n\n    1\n    1*3\n    1*3*3\n    1*3*3*3\n    ...\n    1*3*3*... 10 veces ... *3",
      "metadata": {}
    },
    {
      "cell_type": "markdown",
      "source": "Este tipo de operación es tan frecuente en programación que se inventaron operadores especiales como `+=` , `*=`, etc. para modificar variables.",
      "metadata": {}
    },
    {
      "cell_type": "code",
      "source": "b = 1\nfor k in range(10):\n    b *= 3\nb",
      "metadata": {},
      "execution_count": 18,
      "outputs": [
        {
          "execution_count": 18,
          "output_type": "execute_result",
          "data": {
            "text/plain": "59049"
          },
          "metadata": {}
        }
      ]
    },
    {
      "cell_type": "markdown",
      "source": "En la página [pythontutor](http://pythontutor.com/live.html#mode=edit) hay una herramienta interactiva para observar la evolución de un programa paso a paso. Es muy instructivo probarla con el trozo de código anterior.",
      "metadata": {}
    },
    {
      "cell_type": "markdown",
      "source": "Esta estructura de programación es muy común y permite expresar operaciones como sumas o productos del tipo\n\n$$\\sum_{k=a}^b f(k)$$\n\nSiempre se hace igual: se usa una variable de acumulación que inicialmente vale 0 (ó 1 si es un producto, o en general el elemento neutro de la operación \"acumuladora\"), y mediante un bucle se van añadiendo términos:\n\n    s = 0\n    for k in range(a,b+1):\n        s += f(k)",
      "metadata": {}
    },
    {
      "cell_type": "markdown",
      "source": "Propondremos algún ejercicio para practicar esta idea, aunque pronto veremos una forma más elegante de abordar este tipo de problemas.",
      "metadata": {}
    },
    {
      "cell_type": "markdown",
      "source": "### Ejercicios",
      "metadata": {}
    },
    {
      "cell_type": "markdown",
      "source": "- Modifica la resolución de la ecuación de segundo grado para comprobar si tiene soluciones reales.\n\n\n- Haz una tabla de conversión de grados Fahrenheit a Celsius, de $32F$ hasta $212F$.\n\n\n\n- Escribe un programa que imprima todos los divisores propios de un número.\n\n\n\n- Calcula mentalmente la secuencia de números que imprimirá el siguiente código (el orden es importante):\n\n        for i in range(5):\n            for j in range(5):\n                print(i+10*j)\n            \n\n- Imprime las tablas de multiplicar.\n\n\n- Comprueba en unos cuantos casos que la suma de los $n$ primeros números impares es igual a $n^2$. Por ejemplo:\n\n        1+3+5     = 3*3 = 9\n        1+3+5+7+9 = 5*5 = 25\n        ...\n\n $$ \\sum_{k=0}^{n-1} (2k+1) = \\sum_{k=1}^n (2k-1) = n^2 $$\n\n\n- Calcula $7! = 7\\times6 \\times \\ldots \\times 2 \\times 1$ mediante un bucle.\n\n\n- Escribe un programa para calcular:\n\n $$\\sum_{k=10}^{30} (2k^3-k^2+5k)$$\n\n\n- Calcula numéricamente la probabilidad de que en un grupo de $n$ personas al menos dos de ellas cumplan años el mismo día ([Birthday problem](https://en.wikipedia.org/wiki/Birthday_problem)). (Problema explicado en la asignatura de Métodos Matemáticos I).\n\n\n- Compara el factorial exacto con la [aproximación de Stirling](https://en.wikipedia.org/wiki/Stirling%27s_approximation) para $10!$, $20!$, ... $100!$.\n\n\n- Escribe un programa para calcular el máximo común divisor de dos números mediante el algoritmo de [divisiones sucesivas](https://en.wikipedia.org/wiki/Euclidean_algorithm#Euclidean_division).\n\n\n\n- Escribe un programa que calcule la raíz cúbica de un número mediante aproximaciones sucesivas. Intenta hacerlo modificando el método usado para la raíz cuadrada. Echa un vistazo al [método de Newton](https://en.wikipedia.org/wiki/Newton%27s_method).",
      "metadata": {}
    }
  ]
}
