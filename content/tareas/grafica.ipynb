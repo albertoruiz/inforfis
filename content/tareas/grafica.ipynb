{
 "cells": [
  {
   "cell_type": "markdown",
   "metadata": {},
   "source": [
    "# Gráfica paso a paso"
   ]
  },
  {
   "cell_type": "markdown",
   "metadata": {},
   "source": [
    "# Función matemática"
   ]
  },
  {
   "cell_type": "markdown",
   "metadata": {},
   "source": [
    "Dada $p$, la probabilidad de un suceso, la función\n",
    "\n",
    "$$P(p,n) = 1 - (1-p)^n$$\n",
    "\n",
    "obtiene la probabilidad de que el suceso ocurra al menos una vez en $n$ repeticiones independientes del experimento."
   ]
  },
  {
   "cell_type": "markdown",
   "metadata": {},
   "source": [
    "## Función informática"
   ]
  },
  {
   "cell_type": "markdown",
   "metadata": {},
   "source": [
    "La definimos y comprobamos su funcionamiento."
   ]
  },
  {
   "cell_type": "code",
   "execution_count": null,
   "metadata": {},
   "outputs": [],
   "source": [
    "import numpy as np"
   ]
  },
  {
   "cell_type": "code",
   "execution_count": null,
   "metadata": {},
   "outputs": [],
   "source": [
    "def suerte(p,n):\n",
    "    return 1-(1-p)**n"
   ]
  },
  {
   "cell_type": "code",
   "execution_count": null,
   "metadata": {},
   "outputs": [],
   "source": [
    "suerte(0.1, 5)"
   ]
  },
  {
   "cell_type": "code",
   "execution_count": null,
   "metadata": {},
   "outputs": [],
   "source": [
    "n = np.arange(10)"
   ]
  },
  {
   "cell_type": "code",
   "execution_count": null,
   "metadata": {},
   "outputs": [],
   "source": [
    "suerte(0.1, n)"
   ]
  },
  {
   "cell_type": "markdown",
   "metadata": {},
   "source": [
    "## Gráfica"
   ]
  },
  {
   "cell_type": "code",
   "execution_count": null,
   "metadata": {},
   "outputs": [],
   "source": [
    "import matplotlib.pyplot as plt"
   ]
  },
  {
   "cell_type": "code",
   "execution_count": null,
   "metadata": {},
   "outputs": [],
   "source": [
    "p = 0.15\n",
    "n = np.arange(1,15+1)\n",
    "f = suerte(p,n)"
   ]
  },
  {
   "cell_type": "markdown",
   "metadata": {},
   "source": [
    "### Solo el eje y"
   ]
  },
  {
   "cell_type": "markdown",
   "metadata": {},
   "source": [
    "Si no ponemos las coordenadas x la gráfica usa el índice de cada dato (0,1,2...)."
   ]
  },
  {
   "cell_type": "code",
   "execution_count": null,
   "metadata": {},
   "outputs": [],
   "source": [
    "plt.plot(f,'.-');"
   ]
  },
  {
   "cell_type": "markdown",
   "metadata": {},
   "source": [
    "### Indicando el valor real del eje x"
   ]
  },
  {
   "cell_type": "markdown",
   "metadata": {},
   "source": [
    "En este ejemplo las coordenadas x son también enteros consecutivos, pero empiezan en 1."
   ]
  },
  {
   "cell_type": "code",
   "execution_count": null,
   "metadata": {},
   "outputs": [],
   "source": [
    "plt.plot(n, f,'.-',lw=1);"
   ]
  },
  {
   "cell_type": "markdown",
   "metadata": {},
   "source": [
    "### Formato gráfico"
   ]
  },
  {
   "cell_type": "markdown",
   "metadata": {},
   "source": [
    "El formato por defecto (png) dibuja los marcadores descentrados. Para mayor calidad elegimos gráficos [svg](https://en.wikipedia.org/wiki/Scalable_Vector_Graphics):"
   ]
  },
  {
   "cell_type": "code",
   "execution_count": null,
   "metadata": {},
   "outputs": [],
   "source": [
    "import matplotlib_inline.backend_inline\n",
    "matplotlib_inline.backend_inline.set_matplotlib_formats('svg')\n",
    "\n",
    "# Cambiamos también el tamaño por omisión de las figuras\n",
    "plt.rc('figure', figsize=(5,3))"
   ]
  },
  {
   "cell_type": "code",
   "execution_count": null,
   "metadata": {},
   "outputs": [],
   "source": [
    "plt.plot(n,f,'.-');"
   ]
  },
  {
   "cell_type": "markdown",
   "metadata": {},
   "source": [
    "### Ajustamos los intervalos de representación"
   ]
  },
  {
   "cell_type": "code",
   "execution_count": null,
   "metadata": {},
   "outputs": [],
   "source": [
    "plt.plot(n, f,'.-',lw=1);\n",
    "\n",
    "plt.ylim(0,1);\n",
    "plt.xlim(0-0.5, max(n)+0.5);"
   ]
  },
  {
   "cell_type": "markdown",
   "metadata": {},
   "source": [
    "### Ponemos los \"ticks\" que nos gustan en los ejes"
   ]
  },
  {
   "cell_type": "code",
   "execution_count": null,
   "metadata": {},
   "outputs": [],
   "source": [
    "plt.plot(n, f,'.-',lw=1);\n",
    "plt.ylim(0,1);\n",
    "plt.xlim(0-0.5, max(n)+0.5);\n",
    "\n",
    "plt.xticks(n);\n",
    "plt.yticks(np.linspace(0,1,11));"
   ]
  },
  {
   "cell_type": "markdown",
   "metadata": {},
   "source": [
    "### Cambiamos el tamaño y las proporciones de la figura"
   ]
  },
  {
   "cell_type": "code",
   "execution_count": null,
   "metadata": {},
   "outputs": [],
   "source": [
    "plt.figure(figsize=(5,5))\n",
    "\n",
    "plt.plot(n, f,'.-',lw=1);\n",
    "plt.ylim(0,1);\n",
    "plt.xlim(0-0.5,max(n)+0.5);\n",
    "plt.xticks(n);\n",
    "plt.yticks(np.linspace(0,1,11));"
   ]
  },
  {
   "cell_type": "markdown",
   "metadata": {},
   "source": [
    "### Etiquetamos los ejes y añadimos un grid"
   ]
  },
  {
   "cell_type": "code",
   "execution_count": null,
   "metadata": {},
   "outputs": [],
   "source": [
    "plt.figure(figsize=(5,5))\n",
    "plt.plot(n, f);\n",
    "plt.plot(n, f,'.',markersize=15,color='red');\n",
    "plt.ylim(-0.05,1.05);\n",
    "plt.xlim(0-0.5,max(n)+0.5);\n",
    "plt.xticks(n);\n",
    "plt.yticks(np.linspace(0,1,11));\n",
    "\n",
    "plt.grid(ls='dotted')\n",
    "#plt.tight_layout()\n",
    "plt.title('Tentar a la suerte');\n",
    "plt.xlabel('n')\n",
    "plt.ylabel('P(n)');"
   ]
  },
  {
   "cell_type": "markdown",
   "metadata": {},
   "source": [
    "### Añadimos leyenda, texto y guardamos en formato pdf"
   ]
  },
  {
   "cell_type": "code",
   "execution_count": null,
   "metadata": {},
   "outputs": [],
   "source": [
    "plt.figure(figsize=(5,5))\n",
    "plt.plot(n, f,'.-',lw=1, markersize=10, label='prob');\n",
    "plt.ylim(0,1);\n",
    "plt.xlim(0-0.5,max(n)+0.5);\n",
    "plt.xticks(n);\n",
    "plt.yticks(np.linspace(0,1,11));\n",
    "plt.grid(ls='dotted')\n",
    "plt.title('Tentar a la suerte');\n",
    "plt.xlabel('n')\n",
    "plt.ylabel('P(n)');\n",
    "\n",
    "plt.text(1,0.8,f'p={p}',fontsize=12);\n",
    "plt.legend()\n",
    "plt.savefig('suerte.pdf')"
   ]
  }
 ],
 "metadata": {
  "kernelspec": {
   "display_name": "Python 3 (ipykernel)",
   "language": "python",
   "name": "python3"
  },
  "language_info": {
   "codemirror_mode": {
    "name": "ipython",
    "version": 3
   },
   "file_extension": ".py",
   "mimetype": "text/x-python",
   "name": "python",
   "nbconvert_exporter": "python",
   "pygments_lexer": "ipython3",
   "version": "3.11.9"
  }
 },
 "nbformat": 4,
 "nbformat_minor": 4
}
