{
  "metadata": {
    "kernelspec": {
      "name": "python",
      "display_name": "Python (Pyodide)",
      "language": "python"
    },
    "language_info": {
      "codemirror_mode": {
        "name": "python",
        "version": 3
      },
      "file_extension": ".py",
      "mimetype": "text/x-python",
      "name": "python",
      "nbconvert_exporter": "python",
      "pygments_lexer": "ipython3",
      "version": "3.8"
    }
  },
  "nbformat_minor": 4,
  "nbformat": 4,
  "cells": [
    {
      "cell_type": "markdown",
      "source": "# Gráfica paso a paso",
      "metadata": {}
    },
    {
      "cell_type": "markdown",
      "source": "## Función matemática",
      "metadata": {}
    },
    {
      "cell_type": "markdown",
      "source": "Dada $p$, la probabilidad de un suceso, la función\n\n$$P(p,n) = 1 - (1-p)^n$$\n\nobtiene la probabilidad de que el suceso ocurra al menos una vez en $n$ repeticiones independientes del experimento.",
      "metadata": {}
    },
    {
      "cell_type": "markdown",
      "source": "## Función informática",
      "metadata": {}
    },
    {
      "cell_type": "markdown",
      "source": "La definimos y comprobamos su funcionamiento.",
      "metadata": {}
    },
    {
      "cell_type": "code",
      "source": "import numpy as np",
      "metadata": {
        "trusted": true
      },
      "execution_count": null,
      "outputs": []
    },
    {
      "cell_type": "code",
      "source": "def suerte(p,n):\n    return 1-(1-p)**n",
      "metadata": {
        "trusted": true
      },
      "execution_count": null,
      "outputs": []
    },
    {
      "cell_type": "code",
      "source": "suerte(0.1, 5)",
      "metadata": {
        "trusted": true
      },
      "execution_count": null,
      "outputs": []
    },
    {
      "cell_type": "code",
      "source": "n = np.arange(10)",
      "metadata": {
        "trusted": true
      },
      "execution_count": null,
      "outputs": []
    },
    {
      "cell_type": "code",
      "source": "suerte(0.1, n)",
      "metadata": {
        "trusted": true
      },
      "execution_count": null,
      "outputs": []
    },
    {
      "cell_type": "markdown",
      "source": "## Gráfica",
      "metadata": {}
    },
    {
      "cell_type": "code",
      "source": "import matplotlib.pyplot as plt",
      "metadata": {
        "trusted": true
      },
      "execution_count": null,
      "outputs": []
    },
    {
      "cell_type": "code",
      "source": "p = 0.15\nn = np.arange(1,15+1)\nf = suerte(p,n)",
      "metadata": {
        "trusted": true
      },
      "execution_count": null,
      "outputs": []
    },
    {
      "cell_type": "markdown",
      "source": "### Solo el eje y",
      "metadata": {}
    },
    {
      "cell_type": "markdown",
      "source": "Si no ponemos las coordenadas x la gráfica usa el índice de cada dato (0,1,2...).",
      "metadata": {}
    },
    {
      "cell_type": "code",
      "source": "plt.plot(f,'.-');",
      "metadata": {
        "trusted": true
      },
      "execution_count": null,
      "outputs": []
    },
    {
      "cell_type": "markdown",
      "source": "### Indicando el valor real del eje x",
      "metadata": {}
    },
    {
      "cell_type": "markdown",
      "source": "En este ejemplo las coordenadas x son también enteros consecutivos, pero empiezan en 1.",
      "metadata": {}
    },
    {
      "cell_type": "code",
      "source": "plt.plot(n, f,'.-',lw=1);",
      "metadata": {
        "trusted": true
      },
      "execution_count": null,
      "outputs": []
    },
    {
      "cell_type": "markdown",
      "source": "### Formato gráfico",
      "metadata": {}
    },
    {
      "cell_type": "markdown",
      "source": "El formato por defecto (png) dibuja los marcadores descentrados. Para mayor calidad elegimos gráficos [svg](https://en.wikipedia.org/wiki/Scalable_Vector_Graphics):",
      "metadata": {}
    },
    {
      "cell_type": "code",
      "source": "import matplotlib_inline.backend_inline\nmatplotlib_inline.backend_inline.set_matplotlib_formats('svg')\n\n# Cambiamos también el tamaño por omisión de las figuras\nplt.rc('figure', figsize=(5,3))",
      "metadata": {
        "trusted": true
      },
      "execution_count": null,
      "outputs": []
    },
    {
      "cell_type": "code",
      "source": "plt.plot(n,f,'.-');",
      "metadata": {
        "trusted": true
      },
      "execution_count": null,
      "outputs": []
    },
    {
      "cell_type": "markdown",
      "source": "### Ajustamos los intervalos de representación",
      "metadata": {}
    },
    {
      "cell_type": "code",
      "source": "plt.plot(n, f,'.-',lw=1);\n\nplt.ylim(0,1);\nplt.xlim(0-0.5, max(n)+0.5);",
      "metadata": {
        "trusted": true
      },
      "execution_count": null,
      "outputs": []
    },
    {
      "cell_type": "markdown",
      "source": "### Ponemos los \"ticks\" que nos gustan en los ejes",
      "metadata": {}
    },
    {
      "cell_type": "code",
      "source": "plt.plot(n, f,'.-',lw=1);\nplt.ylim(0,1);\nplt.xlim(0-0.5, max(n)+0.5);\n\nplt.xticks(n);\nplt.yticks(np.linspace(0,1,11));",
      "metadata": {
        "trusted": true
      },
      "execution_count": null,
      "outputs": []
    },
    {
      "cell_type": "markdown",
      "source": "### Cambiamos el tamaño y las proporciones de la figura",
      "metadata": {}
    },
    {
      "cell_type": "code",
      "source": "plt.figure(figsize=(5,5))\n\nplt.plot(n, f,'.-',lw=1);\nplt.ylim(0,1);\nplt.xlim(0-0.5,max(n)+0.5);\nplt.xticks(n);\nplt.yticks(np.linspace(0,1,11));",
      "metadata": {
        "trusted": true
      },
      "execution_count": null,
      "outputs": []
    },
    {
      "cell_type": "markdown",
      "source": "### Etiquetamos los ejes y añadimos un grid",
      "metadata": {}
    },
    {
      "cell_type": "code",
      "source": "plt.figure(figsize=(5,5))\nplt.plot(n, f);\nplt.plot(n, f,'.',markersize=15,color='red');\nplt.ylim(-0.05,1.05);\nplt.xlim(0-0.5,max(n)+0.5);\nplt.xticks(n);\nplt.yticks(np.linspace(0,1,11));\n\nplt.grid(ls='dotted')\n#plt.tight_layout()\nplt.title('Tentar a la suerte');\nplt.xlabel('n')\nplt.ylabel('P(n)');",
      "metadata": {
        "trusted": true
      },
      "execution_count": null,
      "outputs": []
    },
    {
      "cell_type": "markdown",
      "source": "### Añadimos leyenda, texto y guardamos en formato pdf",
      "metadata": {}
    },
    {
      "cell_type": "code",
      "source": "plt.figure(figsize=(5,5))\nplt.plot(n, f,'.-',lw=1, markersize=10, label='prob');\nplt.ylim(0,1);\nplt.xlim(0-0.5,max(n)+0.5);\nplt.xticks(n);\nplt.yticks(np.linspace(0,1,11));\nplt.grid(ls='dotted')\nplt.title('Tentar a la suerte');\nplt.xlabel('n')\nplt.ylabel('P(n)');\n\nplt.text(1,0.8,f'p={p}',fontsize=12);\nplt.legend()\nplt.savefig('suerte.pdf')",
      "metadata": {
        "trusted": true
      },
      "execution_count": null,
      "outputs": []
    }
  ]
}