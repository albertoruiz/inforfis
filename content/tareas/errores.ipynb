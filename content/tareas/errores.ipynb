{
  "metadata": {
    "hide_input": false,
    "varInspector": {
      "cols": {
        "lenName": 16,
        "lenType": 16,
        "lenVar": 40
      },
      "kernels_config": {
        "python": {
          "delete_cmd_postfix": "",
          "delete_cmd_prefix": "del ",
          "library": "var_list.py",
          "varRefreshCmd": "print(var_dic_list())"
        },
        "r": {
          "delete_cmd_postfix": ") ",
          "delete_cmd_prefix": "rm(",
          "library": "var_list.r",
          "varRefreshCmd": "cat(var_dic_list()) "
        }
      },
      "types_to_exclude": [
        "module",
        "function",
        "builtin_function_or_method",
        "instance",
        "_Feature"
      ],
      "window_display": false
    },
    "kernelspec": {
      "name": "python",
      "display_name": "Python (Pyodide)",
      "language": "python"
    },
    "language_info": {
      "codemirror_mode": {
        "name": "python",
        "version": 3
      },
      "file_extension": ".py",
      "mimetype": "text/x-python",
      "name": "python",
      "nbconvert_exporter": "python",
      "pygments_lexer": "ipython3",
      "version": "3.8"
    }
  },
  "nbformat_minor": 4,
  "nbformat": 4,
  "cells": [
    {
      "cell_type": "markdown",
      "source": "## Errores típicos",
      "metadata": {}
    },
    {
      "cell_type": "markdown",
      "source": "### En la preparación del documento",
      "metadata": {}
    },
    {
      "cell_type": "markdown",
      "source": "Olvidamos poner nuestro nombre al principio del notebook.",
      "metadata": {}
    },
    {
      "cell_type": "markdown",
      "source": "Salvamos el notebook sin la extensión `.ipynb`. (Sin esa extensión luego jupyter no lo reconocerá.)",
      "metadata": {}
    },
    {
      "cell_type": "markdown",
      "source": "Entregamos el notebook sin evaluar. (Cuando esté terminado es conveniente pinchar en `Run -> Restart Kernel and Run All Cells` antes de guardarlo con `File->Save Notebook` (`CTRL-S`). Si estás trabajando con jupyterlite también tienes que hacer `File->Download`.)",
      "metadata": {}
    },
    {
      "cell_type": "markdown",
      "source": "Al subir la tarea se queda como borrador en el aula virtual. (Para que la entrega sea real hay que confirmar varias veces en la página web.)",
      "metadata": {}
    },
    {
      "cell_type": "markdown",
      "source": "Escribimos texto libre (markdown) en una celda de código y al evaluarla da sintax error.",
      "metadata": {}
    },
    {
      "cell_type": "markdown",
      "source": "Escribimos las mismas instrucciones que un compañero. (Por supuesto, se pueden comentar ideas con otros estudiantes, es la mejor forma de aprender. Pero no sirve de nada entregar algo que no hemos elaborado de forma autónoma. Se aprende de los errores.)",
      "metadata": {}
    },
    {
      "cell_type": "markdown",
      "source": "### En la definición de funciones",
      "metadata": {}
    },
    {
      "cell_type": "markdown",
      "source": "Olvidamos la instrucción `return` al definir una función. (Si pones `print` se muestra el resultado pero no se puede utilizar en otros cálculos.)",
      "metadata": {}
    },
    {
      "cell_type": "markdown",
      "source": "Definimos la función pero no probamos su funcionamiento con diferentes argumentos.",
      "metadata": {}
    },
    {
      "cell_type": "markdown",
      "source": "Definimos la misma función varias veces, cada vez que la utilizamos.",
      "metadata": {}
    },
    {
      "cell_type": "markdown",
      "source": "Definimos la función con un nombre inventado por nosotros pero la invocamos con otro (por ejemplo, el nombre que puso el profesor).",
      "metadata": {}
    },
    {
      "cell_type": "markdown",
      "source": "Definimos una función pero luego no la usamos, sino que repetimos varias veces la operación completa.",
      "metadata": {}
    }
  ]
}