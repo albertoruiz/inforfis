{
 "cells": [
  {
   "cell_type": "markdown",
   "metadata": {},
   "source": [
    "# Caso de estudio: función Q\n",
    "\n",
    "El objetivo de este notebook es repasar algunas operaciones con arrays, especialmente `np.meshgrid`. Para ello, trabajaremos sobre el siguiente problema:"
   ]
  },
  {
   "cell_type": "markdown",
   "metadata": {},
   "source": [
    "Dados unos datos $D = \\{d_1, d_2, \\ldots d_n\\} $ define función\n",
    "\n",
    "$$ Q(x,D) = \\sum_{k=1}^n (x-d_k)^2 $$\n",
    "\n",
    "que es la suma de diferencias al cuadrado entre el argumento $x$ y los datos $D$, y calcula el valor de $x$ donde se alcanza el mínimo de $Q$."
   ]
  },
  {
   "cell_type": "markdown",
   "metadata": {},
   "source": [
    "## Exploración del problema"
   ]
  },
  {
   "cell_type": "markdown",
   "metadata": {},
   "source": [
    "En primer lugar importamos los paquetes habituales:"
   ]
  },
  {
   "cell_type": "code",
   "execution_count": null,
   "metadata": {},
   "outputs": [],
   "source": [
    "import numpy as np\n",
    "import matplotlib.pyplot as plt\n",
    "plt.rc('figure', figsize=(5,3))"
   ]
  },
  {
   "cell_type": "markdown",
   "metadata": {},
   "source": [
    "Para hacer gráficas con `plt.plot` definimos un array de valores que recorren el intervalo de interés de la variable."
   ]
  },
  {
   "cell_type": "code",
   "execution_count": null,
   "metadata": {},
   "outputs": [],
   "source": [
    "X = np.linspace(-4,18,100)"
   ]
  },
  {
   "cell_type": "markdown",
   "metadata": {},
   "source": [
    "Supongamos que los datos son $D = \\{3,7,8\\}$."
   ]
  },
  {
   "cell_type": "markdown",
   "metadata": {},
   "source": [
    "Para cada dato concreto el término correspondiente del sumatorio es una parábola:"
   ]
  },
  {
   "cell_type": "code",
   "execution_count": null,
   "metadata": {},
   "outputs": [],
   "source": [
    "d = 3\n",
    "\n",
    "plt.plot(X, (X-d)**2 );"
   ]
  },
  {
   "cell_type": "markdown",
   "metadata": {},
   "source": [
    "Observa que la expresión `(X-3)**2` es un array, se calculan automáticamente todos los valores correspondientes al vector `X`."
   ]
  },
  {
   "cell_type": "markdown",
   "metadata": {},
   "source": [
    "Podemos dibujar varios términos del sumatorio, que son diferentes parábolas centradas en cada dato:"
   ]
  },
  {
   "cell_type": "code",
   "execution_count": null,
   "metadata": {},
   "outputs": [],
   "source": [
    "plt.plot(X, (X-3)**2 )\n",
    "plt.plot(X, (X-7)**2 )\n",
    "plt.plot(X, (X-8)**2 );"
   ]
  },
  {
   "cell_type": "markdown",
   "metadata": {},
   "source": [
    "La suma de parábolas es también una parábola:"
   ]
  },
  {
   "cell_type": "code",
   "execution_count": null,
   "metadata": {},
   "outputs": [],
   "source": [
    "plt.plot(X, (X-3)**2 + (X-7)**2 + (X-8)**2 );"
   ]
  },
  {
   "cell_type": "markdown",
   "metadata": {},
   "source": [
    "Obtenemos el mismo resultado con un bucle implícito:"
   ]
  },
  {
   "cell_type": "code",
   "execution_count": null,
   "metadata": {},
   "outputs": [],
   "source": [
    "plt.plot(X, sum([ (X-d)**2 for d in [3,7,8]]) );"
   ]
  },
  {
   "cell_type": "markdown",
   "metadata": {},
   "source": [
    "## Definición de la función "
   ]
  },
  {
   "cell_type": "markdown",
   "metadata": {},
   "source": [
    "Lo expresamos en forma de función. Tiene dos argumentos, uno de ellos es el conjunto de datos, claramente un array, y el otro el número real $x$ donde se evalúa la función. También queremos que $x$ pueda ser un array, para poder evaluar directamente la función en un conjunto de elementos del dominio como en las gráficas anteriores.\n",
    "\n",
    "Son dos argumentos de tipo array, pero son dos variables independientes, los elementos no van emparejados, sino que se combinan todos con todos, por lo que lo más práctico es utilizar `meshgrid` (explicado en las diapositivas de clase):"
   ]
  },
  {
   "cell_type": "code",
   "execution_count": null,
   "metadata": {},
   "outputs": [],
   "source": [
    "def Q(xs, datos):\n",
    "    x,d = np.meshgrid(xs,datos)\n",
    "    return np.sum( (x-d)**2, axis=0 )"
   ]
  },
  {
   "cell_type": "code",
   "execution_count": null,
   "metadata": {},
   "outputs": [],
   "source": [
    "D = [1,3,10,12,13]\n",
    "\n",
    "plt.plot( X, Q(X, D) );"
   ]
  },
  {
   "cell_type": "code",
   "execution_count": null,
   "metadata": {},
   "outputs": [],
   "source": [
    "Q(2, D)"
   ]
  },
  {
   "cell_type": "code",
   "execution_count": null,
   "metadata": {},
   "outputs": [],
   "source": [
    "Q( np.array( [1,2,3]), D )"
   ]
  },
  {
   "cell_type": "markdown",
   "metadata": {},
   "source": [
    "## Minimización (método aproximado)"
   ]
  },
  {
   "cell_type": "markdown",
   "metadata": {},
   "source": [
    "La segunda parte del problema consiste en obtener $\\DeclareMathOperator*{\\argminA}{arg\\,min} \\argminA_x Q(x,D)$.\n",
    "\n",
    "Una primera forma aproximada de hacerlo es aplicar operaciones básicas de arrays a las secuencias de valores `X` y`Q(x,D)` que hemos usado para dibujar. La posición donde se alcanza el mínimo es:"
   ]
  },
  {
   "cell_type": "code",
   "execution_count": null,
   "metadata": {},
   "outputs": [],
   "source": [
    "k = np.argmin( Q(X,D) )\n",
    "k"
   ]
  },
  {
   "cell_type": "markdown",
   "metadata": {},
   "source": [
    "El valor de $x$ correspondiente a esa posición es:"
   ]
  },
  {
   "cell_type": "code",
   "execution_count": null,
   "metadata": {},
   "outputs": [],
   "source": [
    "X[k]"
   ]
  },
  {
   "cell_type": "markdown",
   "metadata": {},
   "source": [
    "Con lo que quedaría resuelto el problema."
   ]
  },
  {
   "cell_type": "markdown",
   "metadata": {},
   "source": [
    "Es inmediato calcular también el valor de la función en el mínimo:"
   ]
  },
  {
   "cell_type": "code",
   "execution_count": null,
   "metadata": {},
   "outputs": [],
   "source": [
    "Q( X[k], D )"
   ]
  },
  {
   "cell_type": "markdown",
   "metadata": {},
   "source": [
    "O también"
   ]
  },
  {
   "cell_type": "code",
   "execution_count": null,
   "metadata": {},
   "outputs": [],
   "source": [
    "Q(X, D)[k]"
   ]
  },
  {
   "cell_type": "markdown",
   "metadata": {},
   "source": [
    "Las dos expresiones anteriores son equivalentes. Explícalo."
   ]
  },
  {
   "cell_type": "markdown",
   "metadata": {},
   "source": [
    "Este método no es muy bueno, ya que solo se tienen en cuenta los elementos discretos del array `X` generado por `np.linspace`. Para encontrar así el mínimo con precisión se necesita un muestreo muy denso del dominio, lo que aumenta el tiempo de cómputo y el espacio de almacenamiento. Esto puede llegar a ser prohibitivo en problemas de varias variables."
   ]
  },
  {
   "cell_type": "markdown",
   "metadata": {},
   "source": [
    "## Minimización (método preciso)"
   ]
  },
  {
   "cell_type": "markdown",
   "metadata": {},
   "source": [
    "Es mejor utilizar `minimize`:"
   ]
  },
  {
   "cell_type": "code",
   "execution_count": null,
   "metadata": {},
   "outputs": [],
   "source": [
    "from scipy.optimize import minimize"
   ]
  },
  {
   "cell_type": "markdown",
   "metadata": {},
   "source": [
    "Solo necesitamos indicar la función a minimizar, el punto de partida y los posible argumentos adicionales:"
   ]
  },
  {
   "cell_type": "code",
   "execution_count": null,
   "metadata": {},
   "outputs": [],
   "source": [
    "#              función a minimizar (su primer argumento)                 \n",
    "#              |  punto de partida\n",
    "#              |  |       argumentos extra de la función a minimizar\n",
    "#              |  |       |\n",
    "#              V  V       V \n",
    "sol = minimize(Q, 0, args=D)\n",
    "sol"
   ]
  },
  {
   "cell_type": "code",
   "execution_count": null,
   "metadata": {},
   "outputs": [],
   "source": [
    "sol['x']"
   ]
  },
  {
   "cell_type": "markdown",
   "metadata": {},
   "source": [
    "Sabemos que la media de los datos es el valor que produce menor error cuadrático. Por tanto la solución exacta es:"
   ]
  },
  {
   "cell_type": "code",
   "execution_count": null,
   "metadata": {},
   "outputs": [],
   "source": [
    "np.mean(D)"
   ]
  },
  {
   "cell_type": "markdown",
   "metadata": {},
   "source": [
    "Los mensajes impresos nos informan de que el algoritmo de minimización (una variante del método de Newton) ha realizado solo 12 evaluaciones de la función (`nfev`) y consigue un error relativo menor que $10^{-8}$."
   ]
  },
  {
   "cell_type": "markdown",
   "metadata": {},
   "source": [
    "## Simplificación"
   ]
  },
  {
   "cell_type": "markdown",
   "metadata": {},
   "source": [
    "Manipulando la suma de cuadrados como se explicó en clase podemos expresar la función de forma mucho más simple, donde se ve directamente que el mínimo se obtiene en el valor medio de los datos:"
   ]
  },
  {
   "cell_type": "code",
   "execution_count": null,
   "metadata": {},
   "outputs": [],
   "source": [
    "def Qm(x, datos):\n",
    "    mx  = np.mean(datos)\n",
    "    var = np.var(datos)\n",
    "    n = len(datos)\n",
    "    return n*(x-mx)**2  + n*var"
   ]
  },
  {
   "cell_type": "code",
   "execution_count": null,
   "metadata": {},
   "outputs": [],
   "source": [
    "Qm( 3, [3,4,5,6])"
   ]
  },
  {
   "cell_type": "code",
   "execution_count": null,
   "metadata": {},
   "outputs": [],
   "source": [
    "Qm( np.array([3,8,10]) , [123,44,57,60])"
   ]
  }
 ],
 "metadata": {
  "hide_input": false,
  "kernelspec": {
   "display_name": "Python 3 (ipykernel)",
   "language": "python",
   "name": "python3"
  },
  "language_info": {
   "codemirror_mode": {
    "name": "ipython",
    "version": 3
   },
   "file_extension": ".py",
   "mimetype": "text/x-python",
   "name": "python",
   "nbconvert_exporter": "python",
   "pygments_lexer": "ipython3",
   "version": "3.11.9"
  },
  "varInspector": {
   "cols": {
    "lenName": 16,
    "lenType": 16,
    "lenVar": 40
   },
   "kernels_config": {
    "python": {
     "delete_cmd_postfix": "",
     "delete_cmd_prefix": "del ",
     "library": "var_list.py",
     "varRefreshCmd": "print(var_dic_list())"
    },
    "r": {
     "delete_cmd_postfix": ") ",
     "delete_cmd_prefix": "rm(",
     "library": "var_list.r",
     "varRefreshCmd": "cat(var_dic_list()) "
    }
   },
   "types_to_exclude": [
    "module",
    "function",
    "builtin_function_or_method",
    "instance",
    "_Feature"
   ],
   "window_display": false
  }
 },
 "nbformat": 4,
 "nbformat_minor": 4
}
