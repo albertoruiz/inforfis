{
  "metadata": {
    "hide_input": false,
    "varInspector": {
      "cols": {
        "lenName": 16,
        "lenType": 16,
        "lenVar": 40
      },
      "kernels_config": {
        "python": {
          "delete_cmd_postfix": "",
          "delete_cmd_prefix": "del ",
          "library": "var_list.py",
          "varRefreshCmd": "print(var_dic_list())"
        },
        "r": {
          "delete_cmd_postfix": ") ",
          "delete_cmd_prefix": "rm(",
          "library": "var_list.r",
          "varRefreshCmd": "cat(var_dic_list()) "
        }
      },
      "types_to_exclude": [
        "module",
        "function",
        "builtin_function_or_method",
        "instance",
        "_Feature"
      ],
      "window_display": false
    },
    "kernelspec": {
      "name": "python",
      "display_name": "Python (Pyodide)",
      "language": "python"
    },
    "language_info": {
      "codemirror_mode": {
        "name": "python",
        "version": 3
      },
      "file_extension": ".py",
      "mimetype": "text/x-python",
      "name": "python",
      "nbconvert_exporter": "python",
      "pygments_lexer": "ipython3",
      "version": "3.8"
    }
  },
  "nbformat_minor": 4,
  "nbformat": 4,
  "cells": [
    {
      "cell_type": "markdown",
      "source": "# Caso de estudio: función Q\n\nEl objetivo de este notebook es repasar algunas operaciones con arrays, especialmente `np.meshgrid`. Para ello, trabajaremos sobre el siguiente problema:",
      "metadata": {}
    },
    {
      "cell_type": "markdown",
      "source": "Dados unos datos $D = \\{d_1, d_2, \\ldots d_n\\} $ define función\n\n$$ Q(x,D) = \\sum_{k=1}^n (x-d_k)^2 $$\n\nque es la suma de diferencias al cuadrado entre el argumento $x$ y los datos $D$, y calcula el valor de $x$ donde se alcanza el mínimo de $Q$.",
      "metadata": {}
    },
    {
      "cell_type": "markdown",
      "source": "### Exploración del problema",
      "metadata": {}
    },
    {
      "cell_type": "markdown",
      "source": "En primer lugar importamos los paquetes habituales:",
      "metadata": {}
    },
    {
      "cell_type": "code",
      "source": "import numpy as np\nimport matplotlib.pyplot as plt\nplt.rc('figure', figsize=(5,3))",
      "metadata": {
        "trusted": true
      },
      "execution_count": null,
      "outputs": []
    },
    {
      "cell_type": "markdown",
      "source": "Para hacer gráficas con `plt.plot` definimos un array de valores que recorren el intervalo de interés de la variable.",
      "metadata": {}
    },
    {
      "cell_type": "code",
      "source": "X = np.linspace(-4,18,100)",
      "metadata": {
        "trusted": true
      },
      "execution_count": null,
      "outputs": []
    },
    {
      "cell_type": "markdown",
      "source": "Supongamos que los datos son $D = \\{3,7,8\\}$.",
      "metadata": {}
    },
    {
      "cell_type": "markdown",
      "source": "Para cada dato concreto el término correspondiente del sumatorio es una parábola:",
      "metadata": {}
    },
    {
      "cell_type": "code",
      "source": "d = 3\n\nplt.plot(X, (X-d)**2 );",
      "metadata": {
        "trusted": true
      },
      "execution_count": null,
      "outputs": []
    },
    {
      "cell_type": "markdown",
      "source": "Observa que la expresión `(X-3)**2` es un array, se calculan automáticamente todos los valores correspondientes al vector `X`.",
      "metadata": {}
    },
    {
      "cell_type": "markdown",
      "source": "Podemos dibujar varios términos del sumatorio, que son diferentes parábolas centradas en cada dato:",
      "metadata": {}
    },
    {
      "cell_type": "code",
      "source": "plt.plot(X, (X-3)**2 )\nplt.plot(X, (X-7)**2 )\nplt.plot(X, (X-8)**2 );",
      "metadata": {
        "trusted": true
      },
      "execution_count": null,
      "outputs": []
    },
    {
      "cell_type": "markdown",
      "source": "La suma de parábolas es también una parábola:",
      "metadata": {}
    },
    {
      "cell_type": "code",
      "source": "plt.plot(X, (X-3)**2 + (X-7)**2 + (X-8)**2 );",
      "metadata": {
        "trusted": true
      },
      "execution_count": null,
      "outputs": []
    },
    {
      "cell_type": "markdown",
      "source": "Obtenemos el mismo resultado con un bucle implícito:",
      "metadata": {}
    },
    {
      "cell_type": "code",
      "source": "plt.plot(X, sum([ (X-d)**2 for d in [3,7,8]]) );",
      "metadata": {
        "trusted": true
      },
      "execution_count": null,
      "outputs": []
    },
    {
      "cell_type": "markdown",
      "source": "### Definición de la función ",
      "metadata": {}
    },
    {
      "cell_type": "markdown",
      "source": "Lo expresamos en forma de función. Tiene dos argumentos, uno de ellos es el conjunto de datos, claramente un array, y el otro el número real $x$ donde se evalúa la función. También queremos que $x$ pueda ser un array, para poder evaluar directamente la función en un conjunto de elementos del dominio como en las gráficas anteriores.\n\nSon dos argumentos de tipo array, pero son dos variables independientes, los elementos no van emparejados, sino que se combinan todos con todos, por lo que lo más práctico es utilizar `meshgrid` (explicado en las diapositivas de clase):",
      "metadata": {}
    },
    {
      "cell_type": "code",
      "source": "def Q(xs, datos):\n    x,d = np.meshgrid(xs,datos)\n    return np.sum( (x-d)**2, axis=0 )",
      "metadata": {
        "trusted": true
      },
      "execution_count": null,
      "outputs": []
    },
    {
      "cell_type": "code",
      "source": "D = [1,3,10,12,13]\n\nplt.plot( X, Q(X, D) );",
      "metadata": {
        "trusted": true
      },
      "execution_count": null,
      "outputs": []
    },
    {
      "cell_type": "code",
      "source": "Q(2, D)",
      "metadata": {
        "trusted": true
      },
      "execution_count": null,
      "outputs": []
    },
    {
      "cell_type": "code",
      "source": "Q( np.array( [1,2,3]), D )",
      "metadata": {
        "trusted": true
      },
      "execution_count": null,
      "outputs": []
    },
    {
      "cell_type": "markdown",
      "source": "### Minimización (método aproximado)",
      "metadata": {}
    },
    {
      "cell_type": "markdown",
      "source": "La segunda parte del problema consiste en obtener $\\DeclareMathOperator*{\\argminA}{arg\\,min} \\argminA_x Q(x,D)$.\n\nUna primera forma aproximada de hacerlo es aplicar operaciones básicas de arrays a las secuencias de valores `X` y`Q(x,D)` que hemos usado para dibujar. La posición donde se alcanza el mínimo es:",
      "metadata": {}
    },
    {
      "cell_type": "code",
      "source": "k = np.argmin( Q(X,D) )\nk",
      "metadata": {
        "trusted": true
      },
      "execution_count": null,
      "outputs": []
    },
    {
      "cell_type": "markdown",
      "source": "El valor de $x$ correspondiente a esa posición es:",
      "metadata": {}
    },
    {
      "cell_type": "code",
      "source": "X[k]",
      "metadata": {
        "trusted": true
      },
      "execution_count": null,
      "outputs": []
    },
    {
      "cell_type": "markdown",
      "source": "Con lo que quedaría resuelto el problema.",
      "metadata": {}
    },
    {
      "cell_type": "markdown",
      "source": "Es inmediato calcular también el valor de la función en el mínimo:",
      "metadata": {}
    },
    {
      "cell_type": "code",
      "source": "Q( X[k], D )",
      "metadata": {
        "trusted": true
      },
      "execution_count": null,
      "outputs": []
    },
    {
      "cell_type": "markdown",
      "source": "O también",
      "metadata": {}
    },
    {
      "cell_type": "code",
      "source": "Q(X, D)[k]",
      "metadata": {
        "trusted": true
      },
      "execution_count": null,
      "outputs": []
    },
    {
      "cell_type": "markdown",
      "source": "Las dos expresiones anteriores son equivalentes. Explícalo.",
      "metadata": {}
    },
    {
      "cell_type": "markdown",
      "source": "Este método no es muy bueno, ya que solo se tienen en cuenta los elementos discretos del array `X` generado por `np.linspace`. Para encontrar así el mínimo con precisión se necesita un muestreo muy denso del dominio, lo que aumenta el tiempo de cómputo y el espacio de almacenamiento. Esto puede llegar a ser prohibitivo en problemas de varias variables.",
      "metadata": {}
    },
    {
      "cell_type": "markdown",
      "source": "### Minimización (método preciso)",
      "metadata": {}
    },
    {
      "cell_type": "markdown",
      "source": "Es mejor utilizar `minimize`:",
      "metadata": {}
    },
    {
      "cell_type": "code",
      "source": "from scipy.optimize import minimize",
      "metadata": {
        "trusted": true
      },
      "execution_count": null,
      "outputs": []
    },
    {
      "cell_type": "markdown",
      "source": "Solo necesitamos indicar la función a minimizar, el punto de partida y los posible argumentos adicionales:",
      "metadata": {}
    },
    {
      "cell_type": "code",
      "source": "#              función a minimizar (su primer argumento)                 \n#              |  punto de partida\n#              |  |       argumentos extra de la función a minimizar\n#              |  |       |\n#              V  V       V \nsol = minimize(Q, 0, args=D)\nsol",
      "metadata": {
        "trusted": true
      },
      "execution_count": null,
      "outputs": []
    },
    {
      "cell_type": "code",
      "source": "sol['x']",
      "metadata": {
        "trusted": true
      },
      "execution_count": null,
      "outputs": []
    },
    {
      "cell_type": "markdown",
      "source": "Sabemos que la media de los datos es el valor que produce menor error cuadrático. Por tanto la solución exacta es:",
      "metadata": {}
    },
    {
      "cell_type": "code",
      "source": "np.mean(D)",
      "metadata": {
        "trusted": true
      },
      "execution_count": null,
      "outputs": []
    },
    {
      "cell_type": "markdown",
      "source": "Los mensajes impresos nos informan de que el algoritmo de minimización (una variante del método de Newton) ha realizado solo 12 evaluaciones de la función (`nfev`) y consigue un error relativo menor que $10^{-8}$.",
      "metadata": {}
    },
    {
      "cell_type": "markdown",
      "source": "### Simplificación",
      "metadata": {}
    },
    {
      "cell_type": "markdown",
      "source": "Manipulando la suma de cuadrados como se explicó en clase podemos expresar la función de forma mucho más simple, donde se ve directamente que el mínimo se obtiene en el valor medio de los datos:",
      "metadata": {}
    },
    {
      "cell_type": "code",
      "source": "def Qm(x, datos):\n    mx  = np.mean(datos)\n    var = np.var(datos)\n    n = len(datos)\n    return n*(x-mx)**2  + n*var",
      "metadata": {
        "trusted": true
      },
      "execution_count": null,
      "outputs": []
    },
    {
      "cell_type": "code",
      "source": "Qm( 3, [3,4,5,6])",
      "metadata": {
        "trusted": true
      },
      "execution_count": null,
      "outputs": []
    },
    {
      "cell_type": "code",
      "source": "Qm( np.array([3,8,10]) , [123,44,57,60])",
      "metadata": {
        "trusted": true
      },
      "execution_count": null,
      "outputs": []
    }
  ]
}