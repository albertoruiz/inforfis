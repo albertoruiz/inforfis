{
  "metadata": {
    "hide_input": false,
    "varInspector": {
      "cols": {
        "lenName": 16,
        "lenType": 16,
        "lenVar": 40
      },
      "kernels_config": {
        "python": {
          "delete_cmd_postfix": "",
          "delete_cmd_prefix": "del ",
          "library": "var_list.py",
          "varRefreshCmd": "print(var_dic_list())"
        },
        "r": {
          "delete_cmd_postfix": ") ",
          "delete_cmd_prefix": "rm(",
          "library": "var_list.r",
          "varRefreshCmd": "cat(var_dic_list()) "
        }
      },
      "types_to_exclude": [
        "module",
        "function",
        "builtin_function_or_method",
        "instance",
        "_Feature"
      ],
      "window_display": false
    },
    "kernelspec": {
      "name": "python",
      "display_name": "Python (Pyodide)",
      "language": "python"
    },
    "language_info": {
      "codemirror_mode": {
        "name": "python",
        "version": 3
      },
      "file_extension": ".py",
      "mimetype": "text/x-python",
      "name": "python",
      "nbconvert_exporter": "python",
      "pygments_lexer": "ipython3",
      "version": "3.8"
    }
  },
  "nbformat_minor": 4,
  "nbformat": 4,
  "cells": [
    {
      "cell_type": "markdown",
      "source": "Nombre:\n\nFecha:\n\n---",
      "metadata": {}
    },
    {
      "cell_type": "markdown",
      "source": "# Tarea 7",
      "metadata": {
        "tags": []
      }
    },
    {
      "cell_type": "markdown",
      "source": "Antes de empezar explica brevemente las principales dificultades que estás encontrando en esta asignatura.",
      "metadata": {}
    },
    {
      "cell_type": "markdown",
      "source": "Resuelve los siguientes ejercicios, usando únicamente los conceptos explicados en clase hasta ahora. (Si lo prefieres, en esta sesión puedes hacer alguno de los ejercicios pendientes de sesiones anteriores.)",
      "metadata": {}
    },
    {
      "cell_type": "markdown",
      "source": "## Raíz de polinomio",
      "metadata": {}
    },
    {
      "cell_type": "markdown",
      "source": "Encuentra las raíces del polinomio $p(x)=x^7-x^3+4$.",
      "metadata": {}
    },
    {
      "cell_type": "markdown",
      "source": "## Integral definida",
      "metadata": {}
    },
    {
      "cell_type": "markdown",
      "source": "Calcula\n$$\\int_{-1}^{1} \\cos(x^5) dx$$",
      "metadata": {}
    },
    {
      "cell_type": "markdown",
      "source": "## Ecuaciones no lineales",
      "metadata": {}
    },
    {
      "cell_type": "markdown",
      "source": "Resuelve el siguiente sistema de ecuaciones no lineales:\n$$\n\\begin{align*}\n\\sin(x) &= y^2\\\\\n\\cos(y) &= z^2\\\\\n\\tan(z) &= \\sin(y)+\\cos(x)\n\\end{align*}\n$$",
      "metadata": {}
    },
    {
      "cell_type": "markdown",
      "source": "## $3n+1$",
      "metadata": {}
    },
    {
      "cell_type": "markdown",
      "source": "Escribe una función para construir una lista con la secuencia [Collatz](https://en.wikipedia.org/wiki/Collatz_conjecture). Por ejemplo:\n\n`collatz(17) --> [17, 52, 26, 13, 40, 20, 10, 5, 16, 8, 4, 2, 1]`\n\nIntenta hacerlo mediante una definición recursiva. Encuentra el $n<1000$ que produce la secuencia más larga.",
      "metadata": {}
    },
    {
      "cell_type": "markdown",
      "source": "## Nichomacus",
      "metadata": {}
    },
    {
      "cell_type": "markdown",
      "source": "Comprueba el [teorema de Nichomacus](https://en.wikipedia.org/wiki/Squared_triangular_number) para unos cuantos valores de $n$:\n\n $$1^3 + 2^3 + 3^3 + \\ldots + n^3 = (1+2+3+\\ldots+n)^2 $$\n",
      "metadata": {}
    },
    {
      "cell_type": "markdown",
      "source": "## Progresión",
      "metadata": {}
    },
    {
      "cell_type": "markdown",
      "source": "Define una función para determinar si una lista de enteros es el comienzo de una progresión geométrica. P. ej.:\n\n    pg( [17,8,11] )      --->  False\n    pg( [5,20,80] )      --->  True\n    pg( [3,15,30,60] )   --->  False",
      "metadata": {}
    },
    {
      "cell_type": "markdown",
      "source": "## Basel",
      "metadata": {}
    },
    {
      "cell_type": "markdown",
      "source": "[Euler demostró](https://en.wikipedia.org/wiki/Basel_problem) que\n$$\\sum_{k=1}^\\infty \\frac{1}{k^2} = \\frac{\\pi^2}{6} = 1.64493 \\ldots$$\nComprueba que las sumas parciales se van aproximando al valor real, e intenta determinar cuántos términos son  necesarios para conseguir una diferencia absoluta menor que 0.001.",
      "metadata": {}
    },
    {
      "cell_type": "markdown",
      "source": "## Cambio",
      "metadata": {}
    },
    {
      "cell_type": "markdown",
      "source": "Escribe una función `separa(d)` para expresar una determinada cantidad `d` con billetes y monedas de euro (considera solo los valores 50, 20, 10, 5, 2, 1). Por ejemplo:\n\n    separa(5)  --> [5]\n    separa(18) --> [10,5,2,1]\n    separa(49) --> [20,20,5,2,2]",
      "metadata": {}
    },
    {
      "cell_type": "markdown",
      "source": "## Órbita",
      "metadata": {}
    },
    {
      "cell_type": "markdown",
      "source": "Simula una órbita parecida a la de la luna. Sitúa la posición inicial a 384Mm y la velocidad inicial 1Km/s. El parámetro gravitacional de la Tierra es $\\mu = GM =  3.986 \\times 10^{14} (m^3/s^2)$. Con esos datos completará una órbita en 26 días aproximadamente; puedes aumentar ligeramente la velocidad para que el período se aproxime más a la realidad (27.3 días). También se puede deducir analíticamente la velocidad y el radio de una órbita circular que tenga el período deseado, y comprobar que la trayectoria obtenida con esos valores  es la esperada.",
      "metadata": {}
    },
    {
      "cell_type": "markdown",
      "source": "## Árbol",
      "metadata": {}
    },
    {
      "cell_type": "markdown",
      "source": "Añade perturbaciones aleatorias y otras modificaciones al árbol recursivo para conseguir un aspecto más natural.",
      "metadata": {}
    },
    {
      "cell_type": "markdown",
      "source": "## Copo de nieve",
      "metadata": {}
    },
    {
      "cell_type": "markdown",
      "source": "Dibuja un copo de nieve de Koch.",
      "metadata": {}
    },
    {
      "cell_type": "markdown",
      "source": "## Caja con barrera",
      "metadata": {}
    },
    {
      "cell_type": "markdown",
      "source": "Crea una animación [parecida a ésta](https://robot.inf.um.es/material/inforfis/graph/caja.mp4), situando una barrera dentro de una caja llena de partículas.",
      "metadata": {}
    },
    {
      "cell_type": "markdown",
      "source": "## Máximo común divisor",
      "metadata": {}
    },
    {
      "cell_type": "markdown",
      "source": "Escribe funciones para calcular el máximo común divisor de dos números a) por fuerza bruta, b) mediante divisiones sucesivas (iterativamente) c) mediante divisiones sucesivas (recursivamente).",
      "metadata": {}
    },
    {
      "cell_type": "markdown",
      "source": "## Divisores",
      "metadata": {}
    },
    {
      "cell_type": "markdown",
      "source": "Escribe una función que construya una lista con todos los divisores propios de un número y apóyate en ella para definir funciones que determinen a) si un número es primo b) si un número es [perfecto](https://en.wikipedia.org/wiki/Perfect_number).",
      "metadata": {}
    },
    {
      "cell_type": "markdown",
      "source": "## Fórmula de primos falsa",
      "metadata": {}
    },
    {
      "cell_type": "markdown",
      "source": "Los primeros valores de la función $n^2+n+41$ para $n=0,1,2,\\ldots$ son primos: 41, 43, 47, 53,... ¿Cuál es el primer $n$ que produce un número compuesto?",
      "metadata": {}
    },
    {
      "cell_type": "markdown",
      "source": "## Números perfectos",
      "metadata": {}
    },
    {
      "cell_type": "markdown",
      "source": "Encuentra el [número perfecto](https://en.wikipedia.org/wiki/Perfect_number) más grande que puedas.",
      "metadata": {}
    },
    {
      "cell_type": "markdown",
      "source": "## Función Q",
      "metadata": {}
    },
    {
      "cell_type": "markdown",
      "source": "Encuentra el valor de $x$ que minimiza la función\n$$Q(x) = \\sum_k (x - d_k)^2$$\n    donde $d$ = [1,3,10,12].",
      "metadata": {}
    }
  ]
}