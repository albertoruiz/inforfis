{
  "metadata": {
    "hide_input": false,
    "varInspector": {
      "cols": {
        "lenName": 16,
        "lenType": 16,
        "lenVar": 40
      },
      "kernels_config": {
        "python": {
          "delete_cmd_postfix": "",
          "delete_cmd_prefix": "del ",
          "library": "var_list.py",
          "varRefreshCmd": "print(var_dic_list())"
        },
        "r": {
          "delete_cmd_postfix": ") ",
          "delete_cmd_prefix": "rm(",
          "library": "var_list.r",
          "varRefreshCmd": "cat(var_dic_list()) "
        }
      },
      "types_to_exclude": [
        "module",
        "function",
        "builtin_function_or_method",
        "instance",
        "_Feature"
      ],
      "window_display": false
    },
    "widgets": {
      "application/vnd.jupyter.widget-state+json": {
        "version_major": 2,
        "version_minor": 0,
        "state": {}
      }
    },
    "kernelspec": {
      "name": "python",
      "display_name": "Python (Pyodide)",
      "language": "python"
    },
    "language_info": {
      "codemirror_mode": {
        "name": "python",
        "version": 3
      },
      "file_extension": ".py",
      "mimetype": "text/x-python",
      "name": "python",
      "nbconvert_exporter": "python",
      "pygments_lexer": "ipython3",
      "version": "3.8"
    }
  },
  "nbformat_minor": 4,
  "nbformat": 4,
  "cells": [
    {
      "cell_type": "markdown",
      "source": "Nombre:\n\nFecha:\n\n---",
      "metadata": {}
    },
    {
      "cell_type": "markdown",
      "source": "# Tarea 2",
      "metadata": {}
    },
    {
      "cell_type": "markdown",
      "source": "### Calculadora",
      "metadata": {}
    },
    {
      "cell_type": "markdown",
      "source": "Comprueba que sabes hacer en Python las operaciones normales de una calculadora.",
      "metadata": {}
    },
    {
      "cell_type": "markdown",
      "source": "### Razón Áurea",
      "metadata": {}
    },
    {
      "cell_type": "markdown",
      "source": "La [razón áurea](https://en.wikipedia.org/wiki/Golden_ratio) (*golden ratio*) es el número\n\n $$g = \\frac{1+\\sqrt{5}}{2} $$\n\n Calcula $g$ y comprueba si el valor obtenido verifica exactamente la ecuación \n\n $$\\frac{g+1}{g} = g$$",
      "metadata": {}
    },
    {
      "cell_type": "markdown",
      "source": "### Conversión de grados",
      "metadata": {}
    },
    {
      "cell_type": "markdown",
      "source": "Escribe una expresión para transformar grados [Fahrenheit](https://en.wikipedia.org/wiki/Fahrenheit) en centígrados y comprueba su funcionamiento con unos cuantos valores.\n\n $$C = \\frac{F-32}{1.8}$$\n\n (No te preocupes por ahora por la entrada de datos. Puedes almacenar directamente el valor de interés en una variable)",
      "metadata": {}
    },
    {
      "cell_type": "markdown",
      "source": "### Ecuación de segundo grado",
      "metadata": {}
    },
    {
      "cell_type": "markdown",
      "source": "Escribe expresiones para calcular las dos soluciones de una ecuación de segundo grado y comprueba su funcionamiento en unos cuantos casos de prueba.",
      "metadata": {}
    },
    {
      "cell_type": "markdown",
      "source": "### Identidad de Euler",
      "metadata": {}
    },
    {
      "cell_type": "markdown",
      "source": "Utiliza las operaciones numéricas de tipo `complex` para comprobar que\n\n $$e^{i\\pi}+1=0$$",
      "metadata": {}
    },
    {
      "cell_type": "markdown",
      "source": "### Período del péndulo",
      "metadata": {}
    },
    {
      "cell_type": "markdown",
      "source": "Expresa en Python la fórmula del período de un péndulo de longitud $l$ (para el caso de oscilaciones pequeñas) y evalúala para $l=1m$ y $l=5cm$ .\n\n $$ T_0 = 2\\pi \\sqrt{\\frac{l}{g}} $$\n\nEn general, si la amplitud de las oscilaciones es $\\phi$, el período puede aproximarse mediante: \n \n $$ T \\simeq T_0\\left(1 + \\frac{1}{16}\\phi^2 + \\frac{11}{3072}\\phi^4  \\right)$$\n\nCompara el tamaño de la corrección para oscilaciones de $\\phi=10$ y $\\phi=30$ grados.\n ",
      "metadata": {}
    },
    {
      "cell_type": "markdown",
      "source": "### Aritmética de secuencias",
      "metadata": {}
    },
    {
      "cell_type": "markdown",
      "source": "Comprueba el funcionamiento de algunas operaciones simples sobre secuencias.",
      "metadata": {}
    },
    {
      "cell_type": "markdown",
      "source": "### Sumatorio",
      "metadata": {}
    },
    {
      "cell_type": "markdown",
      "source": "Calcula \n\n$$\\sum_{k=5}^{22}\\left(2k^3-5k^2+3 \\right)$$",
      "metadata": {}
    },
    {
      "cell_type": "markdown",
      "source": "### Estadísticos sencillos",
      "metadata": {}
    },
    {
      "cell_type": "markdown",
      "source": "Calcula la media, mediana y desviación estándar de los datos almacenados el en archivo [`datos/numbers.txt`](datos/numbers.txt).",
      "metadata": {}
    }
  ]
}