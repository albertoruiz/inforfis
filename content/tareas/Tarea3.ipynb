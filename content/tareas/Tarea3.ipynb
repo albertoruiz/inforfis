{
 "cells": [
  {
   "cell_type": "markdown",
   "metadata": {},
   "source": [
    "# Tarea 3"
   ]
  },
  {
   "cell_type": "markdown",
   "metadata": {},
   "source": [
    "Nombre:\n",
    "\n",
    "Fecha:\n",
    "\n",
    "---"
   ]
  },
  {
   "cell_type": "markdown",
   "metadata": {},
   "source": [
    "Resuelve los siguientes ejercicios usando únicamente los conceptos explicados en clase hasta ahora."
   ]
  },
  {
   "cell_type": "markdown",
   "metadata": {},
   "source": [
    "## Suma de cuadrados"
   ]
  },
  {
   "cell_type": "markdown",
   "metadata": {},
   "source": [
    "Define la función\n",
    "\n",
    "$$ S(n) = \\sum_{k=0}^n k^2 $$\n",
    "\n",
    "y comprueba para varios valores de $n$ la identidad $S(n) = n(n+1)(2n+1)/6$."
   ]
  },
  {
   "cell_type": "markdown",
   "metadata": {},
   "source": [
    "## Factorial"
   ]
  },
  {
   "cell_type": "markdown",
   "metadata": {},
   "source": [
    "Define la función factorial:\n",
    "\n",
    "$$n! = \\prod_{k=1}^{n} k $$\n",
    "\n",
    "y apoyándote en ella define una función para calcular los [coeficientes binomiales](https://en.wikipedia.org/wiki/Binomial_coefficient)."
   ]
  },
  {
   "cell_type": "markdown",
   "metadata": {},
   "source": [
    "## Péndulo"
   ]
  },
  {
   "cell_type": "markdown",
   "metadata": {},
   "source": [
    "El período de un péndulo de longitud $l$ para el caso de oscilaciones pequeñas es:\n",
    "\n",
    "$$ T_0 = 2\\pi \\sqrt{\\frac{l}{g}} $$\n",
    "\n",
    "En general, si la amplitud de las oscilaciones es $\\phi$, el período puede aproximarse mediante: \n",
    " \n",
    "$$ T \\simeq T_0\\left(1 + \\frac{1}{16}\\phi^2 + \\frac{11}{3072}\\phi^4  \\right)$$"
   ]
  },
  {
   "cell_type": "markdown",
   "metadata": {},
   "source": [
    "Define una función que calcule el período de un péndulo de longitud $l$ (metros) y amplitud $\\phi$ (grados). Usa variables locales para almacenar  $T_0$ y la corrección. \n",
    "\n",
    "Prueba su funcionamiento con dos valores de $l$ y dos de $\\phi$ (total 4 pruebas)."
   ]
  },
  {
   "cell_type": "markdown",
   "metadata": {},
   "source": [
    "## Herón"
   ]
  },
  {
   "cell_type": "markdown",
   "metadata": {},
   "source": [
    "Escribe una función para calcular el área de un triángulo **a partir de las longitudes de sus lados** ([fórmula de Herón](https://en.wikipedia.org/wiki/Heron%27s_formula)). Muestra su funcionamiento en varios casos de prueba. ¿Qué ocurre cuando las longitudes dadas no forman un triángulo?"
   ]
  },
  {
   "cell_type": "markdown",
   "metadata": {},
   "source": [
    "## Birthday problem"
   ]
  },
  {
   "cell_type": "markdown",
   "metadata": {},
   "source": [
    "Escribe una función para calcular la probabilidad de que en un grupo de $n$ personas escogidas al azar al menos dos de ellas cumplan años el mismo día ([Birthday problem](https://en.wikipedia.org/wiki/Birthday_problem))."
   ]
  },
  {
   "cell_type": "markdown",
   "metadata": {},
   "source": [
    "## Función de error"
   ]
  },
  {
   "cell_type": "markdown",
   "metadata": {},
   "source": [
    "Define la función\n",
    "\n",
    "$$\\Phi(t) = \\frac{1}{\\sqrt{2\\pi}}\\int_{0}^t e^{-\\frac{1}{2}x^2} dx$$\n",
    "\n",
    "aproximando la integral mediante la regla del trapecio con $n$ tramos. Compara el resultado que obtienes para $\\Phi(0.46)$ con su valor real."
   ]
  }
 ],
 "metadata": {
  "hide_input": false,
  "kernelspec": {
   "display_name": "Python 3 (ipykernel)",
   "language": "python",
   "name": "python3"
  },
  "language_info": {
   "codemirror_mode": {
    "name": "ipython",
    "version": 3
   },
   "file_extension": ".py",
   "mimetype": "text/x-python",
   "name": "python",
   "nbconvert_exporter": "python",
   "pygments_lexer": "ipython3",
   "version": "3.11.5"
  },
  "varInspector": {
   "cols": {
    "lenName": 16,
    "lenType": 16,
    "lenVar": 40
   },
   "kernels_config": {
    "python": {
     "delete_cmd_postfix": "",
     "delete_cmd_prefix": "del ",
     "library": "var_list.py",
     "varRefreshCmd": "print(var_dic_list())"
    },
    "r": {
     "delete_cmd_postfix": ") ",
     "delete_cmd_prefix": "rm(",
     "library": "var_list.r",
     "varRefreshCmd": "cat(var_dic_list()) "
    }
   },
   "types_to_exclude": [
    "module",
    "function",
    "builtin_function_or_method",
    "instance",
    "_Feature"
   ],
   "window_display": false
  }
 },
 "nbformat": 4,
 "nbformat_minor": 4
}
