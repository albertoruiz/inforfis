{
  "metadata": {
    "hide_input": false,
    "varInspector": {
      "cols": {
        "lenName": 16,
        "lenType": 16,
        "lenVar": 40
      },
      "kernels_config": {
        "python": {
          "delete_cmd_postfix": "",
          "delete_cmd_prefix": "del ",
          "library": "var_list.py",
          "varRefreshCmd": "print(var_dic_list())"
        },
        "r": {
          "delete_cmd_postfix": ") ",
          "delete_cmd_prefix": "rm(",
          "library": "var_list.r",
          "varRefreshCmd": "cat(var_dic_list()) "
        }
      },
      "types_to_exclude": [
        "module",
        "function",
        "builtin_function_or_method",
        "instance",
        "_Feature"
      ],
      "window_display": false
    },
    "kernelspec": {
      "name": "python",
      "display_name": "Python (Pyodide)",
      "language": "python"
    },
    "language_info": {
      "codemirror_mode": {
        "name": "python",
        "version": 3
      },
      "file_extension": ".py",
      "mimetype": "text/x-python",
      "name": "python",
      "nbconvert_exporter": "python",
      "pygments_lexer": "ipython3",
      "version": "3.8"
    }
  },
  "nbformat_minor": 4,
  "nbformat": 4,
  "cells": [
    {
      "cell_type": "markdown",
      "source": "## Repaso",
      "metadata": {}
    },
    {
      "cell_type": "markdown",
      "source": "Recuerda que la instrucción `for` sirve para repetir operaciones recorriendo los elementos de una secuencia:",
      "metadata": {}
    },
    {
      "cell_type": "code",
      "source": "import numpy as np",
      "metadata": {
        "trusted": true
      },
      "execution_count": 1,
      "outputs": []
    },
    {
      "cell_type": "code",
      "source": "for k in np.arange(10):\n    b = k**2\n    print(k, '   ', b)",
      "metadata": {
        "trusted": true
      },
      "execution_count": 2,
      "outputs": [
        {
          "name": "stdout",
          "text": "0     0\n1     1\n2     4\n3     9\n4     16\n5     25\n6     36\n7     49\n8     64\n9     81\n",
          "output_type": "stream"
        }
      ]
    },
    {
      "cell_type": "code",
      "source": "for x in np.linspace(0, 1, 11):\n    print(x)",
      "metadata": {
        "trusted": true
      },
      "execution_count": 3,
      "outputs": [
        {
          "name": "stdout",
          "text": "0.0\n0.1\n0.2\n0.30000000000000004\n0.4\n0.5\n0.6000000000000001\n0.7000000000000001\n0.8\n0.9\n1.0\n",
          "output_type": "stream"
        }
      ]
    },
    {
      "cell_type": "markdown",
      "source": "`break` interrumpe la repetición:",
      "metadata": {}
    },
    {
      "cell_type": "code",
      "source": "for x in np.linspace(0, 1, 11):\n    print(x)\n    if x > 0.5:\n        break",
      "metadata": {
        "trusted": true
      },
      "execution_count": 4,
      "outputs": [
        {
          "name": "stdout",
          "text": "0.0\n0.1\n0.2\n0.30000000000000004\n0.4\n0.5\n0.6000000000000001\n",
          "output_type": "stream"
        }
      ]
    },
    {
      "cell_type": "markdown",
      "source": "Se pueden \"repetir las repeticiones\" (*bucles anidados*):",
      "metadata": {}
    },
    {
      "cell_type": "code",
      "source": "for i in range(5):\n    for j in range(3):\n        print(i, j, i+j)",
      "metadata": {
        "trusted": true
      },
      "execution_count": 5,
      "outputs": [
        {
          "name": "stdout",
          "text": "0 0 0\n0 1 1\n0 2 2\n1 0 1\n1 1 2\n1 2 3\n2 0 2\n2 1 3\n2 2 4\n3 0 3\n3 1 4\n3 2 5\n4 0 4\n4 1 5\n4 2 6\n",
          "output_type": "stream"
        }
      ]
    },
    {
      "cell_type": "markdown",
      "source": "Podemos calcular un sumatorio operando directamente con secuencias de números:",
      "metadata": {}
    },
    {
      "cell_type": "code",
      "source": "K = np.arange(15)\n\nnp.sum(K**2)",
      "metadata": {
        "trusted": true
      },
      "execution_count": 6,
      "outputs": [
        {
          "execution_count": 6,
          "output_type": "execute_result",
          "data": {
            "text/plain": "1015"
          },
          "metadata": {}
        }
      ]
    },
    {
      "cell_type": "markdown",
      "source": "O utilizando un bucle `for` para acumular paso a paso cada uno de los términos:",
      "metadata": {}
    },
    {
      "cell_type": "code",
      "source": "s = 0\nfor k in np.arange(15):\n    s = s + k**2\ns",
      "metadata": {
        "trusted": true
      },
      "execution_count": 7,
      "outputs": [
        {
          "execution_count": 7,
          "output_type": "execute_result",
          "data": {
            "text/plain": "1015"
          },
          "metadata": {}
        }
      ]
    }
  ]
}