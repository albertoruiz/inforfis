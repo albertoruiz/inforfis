{
  "metadata": {
    "hide_input": false,
    "varInspector": {
      "cols": {
        "lenName": 16,
        "lenType": 16,
        "lenVar": 40
      },
      "kernels_config": {
        "python": {
          "delete_cmd_postfix": "",
          "delete_cmd_prefix": "del ",
          "library": "var_list.py",
          "varRefreshCmd": "print(var_dic_list())"
        },
        "r": {
          "delete_cmd_postfix": ") ",
          "delete_cmd_prefix": "rm(",
          "library": "var_list.r",
          "varRefreshCmd": "cat(var_dic_list()) "
        }
      },
      "types_to_exclude": [
        "module",
        "function",
        "builtin_function_or_method",
        "instance",
        "_Feature"
      ],
      "window_display": false
    },
    "kernelspec": {
      "name": "python",
      "display_name": "Python (Pyodide)",
      "language": "python"
    },
    "language_info": {
      "codemirror_mode": {
        "name": "python",
        "version": 3
      },
      "file_extension": ".py",
      "mimetype": "text/x-python",
      "name": "python",
      "nbconvert_exporter": "python",
      "pygments_lexer": "ipython3",
      "version": "3.8"
    }
  },
  "nbformat_minor": 4,
  "nbformat": 4,
  "cells": [
    {
      "cell_type": "markdown",
      "source": "# Tarea 1",
      "metadata": {}
    },
    {
      "cell_type": "markdown",
      "source": "## Manejo básico del notebook\n\nLos notebooks **jupyter** son documentos interactivos que se muestran en el navegador de internet. Contienen dos tipos de \"celdas\": texto y código.\n\nLas celdas de código se escriben en un lenguaje de programación (en este caso Python) y cuando las ejecutamos se muestran los resultados de los cálculos.\n\nLas celdas de texto se escriben en \"Markdown\". Es un formato muy simple de \"texto plano\" que admite ciertos convenios para poner títulos, **negrita**, _cursiva_, etc. También se pueden añadir ecuaciones y otros elementos típicos de las páginas web como fotos, vídeos, enlaces a otras páginas, etc.\n\nPara practicar, debéis preparar un sencillo notebook con vuestro nombre, una o dos operaciones matemáticas de prueba y un breve texto libre que explique por qué habéis elegido estudiar Física.\n\nNo olvidéis guardar frecuentemente el trabajo realizado con la opción Save o CTRL-S.\n\nEs conveniente poner al documento un nombre descriptivo, sin caracteres especiales ni espacios. El notebook realizado es un archivo con extensión *.ipynb*, que solo se puede abrir correctamente con jupyter.\n\nDebéis subir el notebook realizado a la tarea que encontraréis abierta en el aula virtual.",
      "metadata": {}
    }
  ]
}