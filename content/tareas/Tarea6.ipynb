{
  "metadata": {
    "hide_input": false,
    "varInspector": {
      "cols": {
        "lenName": 16,
        "lenType": 16,
        "lenVar": 40
      },
      "kernels_config": {
        "python": {
          "delete_cmd_postfix": "",
          "delete_cmd_prefix": "del ",
          "library": "var_list.py",
          "varRefreshCmd": "print(var_dic_list())"
        },
        "r": {
          "delete_cmd_postfix": ") ",
          "delete_cmd_prefix": "rm(",
          "library": "var_list.r",
          "varRefreshCmd": "cat(var_dic_list()) "
        }
      },
      "types_to_exclude": [
        "module",
        "function",
        "builtin_function_or_method",
        "instance",
        "_Feature"
      ],
      "window_display": false
    },
    "kernelspec": {
      "name": "python",
      "display_name": "Python (Pyodide)",
      "language": "python"
    },
    "language_info": {
      "codemirror_mode": {
        "name": "python",
        "version": 3
      },
      "file_extension": ".py",
      "mimetype": "text/x-python",
      "name": "python",
      "nbconvert_exporter": "python",
      "pygments_lexer": "ipython3",
      "version": "3.8"
    }
  },
  "nbformat_minor": 4,
  "nbformat": 4,
  "cells": [
    {
      "cell_type": "markdown",
      "source": "Nombre:\n\nFecha:\n\n---",
      "metadata": {}
    },
    {
      "cell_type": "markdown",
      "source": "# Tarea 6",
      "metadata": {
        "tags": []
      }
    },
    {
      "cell_type": "markdown",
      "source": "Estudia detenidamente el capítulo de arrays (notebook [numpy.ipynb](numpy.ipynb)). (Los apartados con asterisco pueden saltarse en una primera lectura.) En [este notebook](dist.ipynb) se hay otro breve repaso.",
      "metadata": {}
    },
    {
      "cell_type": "markdown",
      "source": "Resuelve los siguientes ejercicios, usando únicamente los conceptos explicados en clase hasta ahora.",
      "metadata": {}
    },
    {
      "cell_type": "code",
      "source": "import numpy as np",
      "metadata": {
        "trusted": true
      },
      "execution_count": null,
      "outputs": []
    },
    {
      "cell_type": "markdown",
      "source": "## Sistema de ecuaciones",
      "metadata": {}
    },
    {
      "cell_type": "markdown",
      "source": "Resuelve el sistema:\n\n$$ \n\\begin{align*}\nx + 2y + 5z + 4w&= 24\\\\\ny-z  &= 1 \\\\\n2x+2y &= 6 \\\\\n-x+2y+3w &= 15\n\\end{align*}\n$$",
      "metadata": {}
    },
    {
      "cell_type": "markdown",
      "source": "## Lectura de archivo",
      "metadata": {}
    },
    {
      "cell_type": "markdown",
      "source": "Resuelve el sistema de ecuaciones lineales $Ax=b$ cuya matriz de coeficientes $A$ y vector $b$ están almacenados en un fichero de texto plano situado en  http://robot.inf.um.es/material/datos-SL.txt que puedes leer con `np.loadtxt`. En este fichero hay un array de dimensiones 10x11.  Las 10 primeras columnas contienen los elementos de $A$ y la última columna es $b$.",
      "metadata": {}
    },
    {
      "cell_type": "markdown",
      "source": "## Letra del DNI",
      "metadata": {}
    },
    {
      "cell_type": "markdown",
      "source": "Define una función para calcular la letra del DNI ([aquí explican la forma de hacerlo](http://www.cespedes.org/dni2nif/)).",
      "metadata": {}
    },
    {
      "cell_type": "markdown",
      "source": "## Desviación típica",
      "metadata": {}
    },
    {
      "cell_type": "markdown",
      "source": "Escribe una función para calcular la desviación típica de un conjunto de números apoyándote en `np.mean`. Debe responder lo mismo que `np.std`.",
      "metadata": {}
    },
    {
      "cell_type": "markdown",
      "source": "## Segundo mayor",
      "metadata": {}
    },
    {
      "cell_type": "markdown",
      "source": "Define una función que encuentre el segundo mayor elemento de un array de enteros. (Por ejemplo, si llamamos `segun` a la función pedida, y `x = np.array( [1, 3, 2, 10, -5, 8, 3] )`, entonces `segun(x)` debe responder `8`.",
      "metadata": {}
    },
    {
      "cell_type": "markdown",
      "source": "## Hubble",
      "metadata": {}
    },
    {
      "cell_type": "markdown",
      "source": "A partir de los datos experimentales contenidos en `datos/hubble.txt` calcula el valor medio de redshift de las observaciones con velocidad < 5000 Km/s. (El archivo está en la subcarpeta datos de estos apuntes y la forma de leer estos datos está explicada en el notebook [numpy.ipynb](../numpy.ipnb).)",
      "metadata": {}
    },
    {
      "cell_type": "markdown",
      "source": "## Extracción de columnas",
      "metadata": {}
    },
    {
      "cell_type": "markdown",
      "source": "Escribe una función que admita un array 2D $m$ y un escalar $s$ y extraiga las columnas de $m$ cuya suma sea mayor que un cierto $s$ dado.",
      "metadata": {}
    },
    {
      "cell_type": "markdown",
      "source": "## Histograma vs Densidad",
      "metadata": {}
    },
    {
      "cell_type": "markdown",
      "source": "Genera $n$ números aleatorios normales y compara gráficamente su histograma con la densidad de probabilidad real.",
      "metadata": {}
    },
    {
      "cell_type": "markdown",
      "source": "## Teorema del Límite Central",
      "metadata": {}
    },
    {
      "cell_type": "markdown",
      "source": "Simula el lanzamiento de 5 dados mil veces, y comprueba gráficamente que la distribución de resultados de la puntuación total es aproximadamente normal.",
      "metadata": {}
    },
    {
      "cell_type": "markdown",
      "source": "## Newton-Pepys",
      "metadata": {}
    },
    {
      "cell_type": "markdown",
      "source": "Determina mediante simulación qué suceso es más probable: **a)** obtener al menos un seis al lanzar 6 dados, **b)** obtener al menos 2 seises al lanzar 12 dados. **c)** obtener al menos 3 seises al lanzar 18 dados. ([Problema de Newton-Pepys](https://en.wikipedia.org/wiki/Newton%E2%80%93Pepys_problem).)",
      "metadata": {}
    },
    {
      "cell_type": "markdown",
      "source": "## Distancia",
      "metadata": {}
    },
    {
      "cell_type": "markdown",
      "source": "Escribe una función para calcular la distancia entre dos puntos de $\\mathbb R^n$.",
      "metadata": {}
    },
    {
      "cell_type": "markdown",
      "source": "## Área de triángulo",
      "metadata": {}
    },
    {
      "cell_type": "markdown",
      "source": "Escribe una función para calcular el área de un triángulo **a partir de las coordenadas de sus vértices**. Puedes apoyarte en el ejercicio *Herón* de una tarea anterior.",
      "metadata": {}
    },
    {
      "cell_type": "markdown",
      "source": "## Producto vectorial",
      "metadata": {}
    },
    {
      "cell_type": "markdown",
      "source": "Escribe una función para calcular el [producto vectorial](http://en.wikipedia.org/wiki/Cross_product) de dos vectores de $\\mathbb R^3$.",
      "metadata": {}
    },
    {
      "cell_type": "markdown",
      "source": "## Recta por dos puntos",
      "metadata": {}
    },
    {
      "cell_type": "markdown",
      "source": "Escribe una función para calcular los coeficientes $l=(a,b,c)$, de la ecuación de la recta $ax+by+c=0$ que pasa por dos puntos $P=(x_1,y_1)$, $Q=(x_2,y_2)$ dados.",
      "metadata": {}
    },
    {
      "cell_type": "markdown",
      "source": "## Intersección de rectas",
      "metadata": {}
    },
    {
      "cell_type": "markdown",
      "source": "Escribe una función para calcular el punto de intersección de dos rectas con coeficientes $l=(a,b,c)$ y  $l'=(a',b',c')$.",
      "metadata": {}
    },
    {
      "cell_type": "markdown",
      "source": "## Ordenación",
      "metadata": {}
    },
    {
      "cell_type": "markdown",
      "source": "Escribe una función para ordenar un array de enteros de menor a mayor.",
      "metadata": {}
    },
    {
      "cell_type": "markdown",
      "source": "## Producto de polinomios\n\nUn polinomio $p(x)$ de grado $n$ se puede representar mediante un vector de coeficientes de dimensión $n+1$. Escribe funciones para: **a)** calcular (los coeficientes de) la derivada del polinomio. **b)** calcular (los coeficientes de) la integral del polinomio. **c)** evaluar un polinomio en un valor concreto de $x$. **d)** multiplicar dos polinomios.",
      "metadata": {}
    }
  ]
}