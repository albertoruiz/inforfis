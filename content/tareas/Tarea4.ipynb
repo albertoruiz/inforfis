{
  "metadata": {
    "hide_input": false,
    "varInspector": {
      "cols": {
        "lenName": 16,
        "lenType": 16,
        "lenVar": 40
      },
      "kernels_config": {
        "python": {
          "delete_cmd_postfix": "",
          "delete_cmd_prefix": "del ",
          "library": "var_list.py",
          "varRefreshCmd": "print(var_dic_list())"
        },
        "r": {
          "delete_cmd_postfix": ") ",
          "delete_cmd_prefix": "rm(",
          "library": "var_list.r",
          "varRefreshCmd": "cat(var_dic_list()) "
        }
      },
      "types_to_exclude": [
        "module",
        "function",
        "builtin_function_or_method",
        "instance",
        "_Feature"
      ],
      "window_display": false
    },
    "kernelspec": {
      "name": "python",
      "display_name": "Python (Pyodide)",
      "language": "python"
    },
    "language_info": {
      "codemirror_mode": {
        "name": "python",
        "version": 3
      },
      "file_extension": ".py",
      "mimetype": "text/x-python",
      "name": "python",
      "nbconvert_exporter": "python",
      "pygments_lexer": "ipython3",
      "version": "3.8"
    }
  },
  "nbformat_minor": 4,
  "nbformat": 4,
  "cells": [
    {
      "cell_type": "markdown",
      "source": "Nombre:\n\nFecha:\n\n---",
      "metadata": {}
    },
    {
      "cell_type": "markdown",
      "source": "# Tarea 4",
      "metadata": {
        "tags": []
      }
    },
    {
      "cell_type": "markdown",
      "source": "Resuelve los siguientes ejercicios usando únicamente los conceptos explicados en clase hasta ahora.",
      "metadata": {}
    },
    {
      "cell_type": "markdown",
      "source": "Antes de empezar puedes echar un vistazo a varios [ejemplos de repaso](repaso.ipynb) y a algunos [errores típicos](errores.ipynb).",
      "metadata": {}
    },
    {
      "cell_type": "markdown",
      "source": "## Conversión de unidades de temperatura",
      "metadata": {}
    },
    {
      "cell_type": "markdown",
      "source": "Haz una tabla de conversión de grados Fahrenheit a Celsius, de $32F$ hasta $212F$.",
      "metadata": {}
    },
    {
      "cell_type": "code",
      "source": "# el resultado debe ser parecido a esto:",
      "metadata": {
        "trusted": true
      },
      "execution_count": 8,
      "outputs": [
        {
          "name": "stdout",
          "text": " 20 F ... -6.67 ºC\n 30 F ... -1.11 ºC\n 40 F ...  4.44 ºC\n 50 F ... 10.00 ºC\n 60 F ... 15.56 ºC\n 70 F ... 21.11 ºC\n 80 F ... 26.67 ºC\n 90 F ... 32.22 ºC\n100 F ... 37.78 ºC\n110 F ... 43.33 ºC\n120 F ... 48.89 ºC\n",
          "output_type": "stream"
        }
      ]
    },
    {
      "cell_type": "markdown",
      "source": "## Bucle doble",
      "metadata": {}
    },
    {
      "cell_type": "markdown",
      "source": "Calcula mentalmente la secuencia de números que imprimirá el siguiente código (el orden es importante), y luego compruébalo:\n\n\n        for i in range(5):\n            for j in range(5):\n                print(i+10*j)",
      "metadata": {}
    },
    {
      "cell_type": "markdown",
      "source": "## Tablas",
      "metadata": {}
    },
    {
      "cell_type": "markdown",
      "source": "Imprime las tablas de multiplicar.",
      "metadata": {}
    },
    {
      "cell_type": "code",
      "source": "# el resultado debe ser parecido a esto:",
      "metadata": {
        "trusted": true
      },
      "execution_count": 11,
      "outputs": [
        {
          "name": "stdout",
          "text": "Tabla del 1\n------------\n1 x  1 =  1\n1 x  2 =  2\n1 x  3 =  3\n1 x  4 =  4\n1 x  5 =  5\n1 x  6 =  6\n1 x  7 =  7\n1 x  8 =  8\n1 x  9 =  9\n1 x 10 = 10\n\nTabla del 2\n------------\n2 x  1 =  2\n2 x  2 =  4\n2 x  3 =  6\n2 x  4 =  8\n2 x  5 = 10\n2 x  6 = 12\n2 x  7 = 14\n2 x  8 = 16\n2 x  9 = 18\n2 x 10 = 20\n\nTabla del 3\n------------\n3 x  1 =  3\n3 x  2 =  6\n3 x  3 =  9\n3 x  4 = 12\n3 x  5 = 15\n3 x  6 = 18\n3 x  7 = 21\n3 x  8 = 24\n3 x  9 = 27\n3 x 10 = 30\n\nTabla del 4\n------------\n4 x  1 =  4\n4 x  2 =  8\n4 x  3 = 12\n4 x  4 = 16\n4 x  5 = 20\n4 x  6 = 24\n4 x  7 = 28\n4 x  8 = 32\n4 x  9 = 36\n4 x 10 = 40\n\nTabla del 5\n------------\n5 x  1 =  5\n5 x  2 = 10\n5 x  3 = 15\n5 x  4 = 20\n5 x  5 = 25\n5 x  6 = 30\n5 x  7 = 35\n5 x  8 = 40\n5 x  9 = 45\n5 x 10 = 50\n\nTabla del 6\n------------\n6 x  1 =  6\n6 x  2 = 12\n6 x  3 = 18\n6 x  4 = 24\n6 x  5 = 30\n6 x  6 = 36\n6 x  7 = 42\n6 x  8 = 48\n6 x  9 = 54\n6 x 10 = 60\n\nTabla del 7\n------------\n7 x  1 =  7\n7 x  2 = 14\n7 x  3 = 21\n7 x  4 = 28\n7 x  5 = 35\n7 x  6 = 42\n7 x  7 = 49\n7 x  8 = 56\n7 x  9 = 63\n7 x 10 = 70\n\nTabla del 8\n------------\n8 x  1 =  8\n8 x  2 = 16\n8 x  3 = 24\n8 x  4 = 32\n8 x  5 = 40\n8 x  6 = 48\n8 x  7 = 56\n8 x  8 = 64\n8 x  9 = 72\n8 x 10 = 80\n\nTabla del 9\n------------\n9 x  1 =  9\n9 x  2 = 18\n9 x  3 = 27\n9 x  4 = 36\n9 x  5 = 45\n9 x  6 = 54\n9 x  7 = 63\n9 x  8 = 72\n9 x  9 = 81\n9 x 10 = 90\n\nTabla del 10\n------------\n10 x  1 = 10\n10 x  2 = 20\n10 x  3 = 30\n10 x  4 = 40\n10 x  5 = 50\n10 x  6 = 60\n10 x  7 = 70\n10 x  8 = 80\n10 x  9 = 90\n10 x 10 = 100\n\n",
          "output_type": "stream"
        }
      ]
    },
    {
      "cell_type": "markdown",
      "source": "Para que print no pase a la línea siguiente:",
      "metadata": {}
    },
    {
      "cell_type": "code",
      "source": "print('Hola', end=' ')\nprint('Alberto')",
      "metadata": {
        "trusted": true
      },
      "execution_count": 8,
      "outputs": [
        {
          "name": "stdout",
          "text": "Hola Alberto\n",
          "output_type": "stream"
        }
      ]
    },
    {
      "cell_type": "markdown",
      "source": "Haz una tabla de multiplicar compacta:",
      "metadata": {}
    },
    {
      "cell_type": "code",
      "source": "# el resultado debe ser parecido a esto:",
      "metadata": {
        "trusted": true
      },
      "execution_count": 32,
      "outputs": [
        {
          "name": "stdout",
          "text": "   1   2   3   4   5   6   7   8   9  10  11\n   2   4   6   8  10  12  14  16  18  20  22\n   3   6   9  12  15  18  21  24  27  30  33\n   4   8  12  16  20  24  28  32  36  40  44\n   5  10  15  20  25  30  35  40  45  50  55\n   6  12  18  24  30  36  42  48  54  60  66\n   7  14  21  28  35  42  49  56  63  70  77\n   8  16  24  32  40  48  56  64  72  80  88\n   9  18  27  36  45  54  63  72  81  90  99\n  10  20  30  40  50  60  70  80  90 100 110\n",
          "output_type": "stream"
        }
      ]
    },
    {
      "cell_type": "markdown",
      "source": "## Divisores",
      "metadata": {}
    },
    {
      "cell_type": "markdown",
      "source": "Utiliza un bucle for para encontrar todos los divisores propios de un número.",
      "metadata": {}
    },
    {
      "cell_type": "code",
      "source": "# para probarlo con varios números puedes definir una función \n# que solo haga print y no tenga return\n# pero lo mejor sería definir una función que devuelva\n# los divisores en una lista usando return, como hemos visto en clase.",
      "metadata": {
        "trusted": true
      },
      "execution_count": 12,
      "outputs": []
    },
    {
      "cell_type": "code",
      "source": "divis(12)",
      "metadata": {
        "trusted": true
      },
      "execution_count": 13,
      "outputs": [
        {
          "name": "stdout",
          "text": "2\n3\n4\n6\n",
          "output_type": "stream"
        }
      ]
    },
    {
      "cell_type": "code",
      "source": "divis(13)",
      "metadata": {
        "trusted": true
      },
      "execution_count": 14,
      "outputs": []
    },
    {
      "cell_type": "code",
      "source": "divis(68)",
      "metadata": {
        "trusted": true
      },
      "execution_count": 15,
      "outputs": [
        {
          "name": "stdout",
          "text": "2\n4\n17\n34\n",
          "output_type": "stream"
        }
      ]
    },
    {
      "cell_type": "markdown",
      "source": "## Método de Newton",
      "metadata": {}
    },
    {
      "cell_type": "markdown",
      "source": "Resuelve con el método de Newton la ecuación\n\n$$ M = x - \\varepsilon \\sin(x)$$\n\npara $M=\\frac{3}{4}\\pi$ ,  $\\varepsilon=0.8$, partiendo de $x_0=1.5$.",
      "metadata": {}
    },
    {
      "cell_type": "code",
      "source": "# el resultado debe ser parecido a esto:",
      "metadata": {
        "trusted": true
      },
      "execution_count": 16,
      "outputs": [
        {
          "name": "stdout",
          "text": "k    x\n-------------------\n0    1.5\n1    3.2534158647832037\n2    2.70383829778897\n3    2.6988987941739078\n4    2.6988963844580747\n5    2.6988963844574974\n6    2.6988963844574974\n\nLa solución es aproximadamente: 2.6988963844574974\n",
          "output_type": "stream"
        }
      ]
    },
    {
      "cell_type": "markdown",
      "source": "## Tripletas",
      "metadata": {}
    },
    {
      "cell_type": "markdown",
      "source": "Genera unas cuantas **tripletas pitagóricas** de números naturales $(a,b,c)$ tales que $a^2+b^2=c^2$.",
      "metadata": {}
    },
    {
      "cell_type": "code",
      "source": "# el resultado debe ser parecido a esto:",
      "metadata": {
        "trusted": true
      },
      "execution_count": 21,
      "outputs": [
        {
          "name": "stdout",
          "text": "(3, 4, 5)\n(5, 12, 13)\n(6, 8, 10)\n(7, 24, 25)\n(8, 15, 17)\n(9, 12, 15)\n(9, 40, 41)\n(10, 24, 26)\n(12, 16, 20)\n(12, 35, 37)\n(15, 20, 25)\n(15, 36, 39)\n(16, 30, 34)\n(18, 24, 30)\n(20, 21, 29)\n(21, 28, 35)\n(24, 32, 40)\n(27, 36, 45)\n",
          "output_type": "stream"
        }
      ]
    }
  ]
}