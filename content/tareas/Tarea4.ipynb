{
 "cells": [
  {
   "cell_type": "markdown",
   "metadata": {},
   "source": [
    "Nombre:\n",
    "\n",
    "Fecha:\n",
    "\n",
    "---"
   ]
  },
  {
   "cell_type": "markdown",
   "metadata": {
    "tags": []
   },
   "source": [
    "# Tarea 4"
   ]
  },
  {
   "cell_type": "markdown",
   "metadata": {},
   "source": [
    "Resuelve los siguientes ejercicios usando únicamente los conceptos explicados en clase hasta ahora."
   ]
  },
  {
   "cell_type": "markdown",
   "metadata": {},
   "source": [
    "Antes de empezar puedes echar un vistazo a varios [ejemplos de repaso](repaso.ipynb) y a algunos [errores típicos](errores.ipynb)."
   ]
  },
  {
   "cell_type": "markdown",
   "metadata": {},
   "source": [
    "## Conversión de unidades de temperatura"
   ]
  },
  {
   "cell_type": "markdown",
   "metadata": {},
   "source": [
    "Haz una tabla de conversión de grados Fahrenheit a Celsius, desde $20F$ hasta $120F$, saltando de 10 en 10."
   ]
  },
  {
   "cell_type": "markdown",
   "metadata": {},
   "source": [
    "## Bucle doble"
   ]
  },
  {
   "cell_type": "markdown",
   "metadata": {},
   "source": [
    "Calcula mentalmente la secuencia de números que imprimirá el siguiente código (el orden es importante), y luego compruébalo:\n",
    "\n",
    "\n",
    "        for i in range(5):\n",
    "            for j in range(5):\n",
    "                print(i+10*j)"
   ]
  },
  {
   "cell_type": "markdown",
   "metadata": {},
   "source": [
    "## Tablas"
   ]
  },
  {
   "cell_type": "markdown",
   "metadata": {},
   "source": [
    "Imprime las tablas de multiplicar con un formato parecido al siguiente:\n",
    "\n",
    "    Tabla del 3\n",
    "    ------------\n",
    "    3 x  1 =  3\n",
    "    3 x  2 =  6\n",
    "    3 x  3 =  9\n",
    "    3 x  4 = 12\n",
    "    3 x  5 = 15\n",
    "    3 x  6 = 18\n",
    "    3 x  7 = 21\n",
    "    3 x  8 = 24\n",
    "    3 x  9 = 27\n",
    "    3 x 10 = 30"
   ]
  },
  {
   "cell_type": "markdown",
   "metadata": {},
   "source": [
    "Para que print no pase a la línea siguiente:"
   ]
  },
  {
   "cell_type": "code",
   "execution_count": 8,
   "metadata": {},
   "outputs": [
    {
     "name": "stdout",
     "output_type": "stream",
     "text": [
      "Hola Alberto\n"
     ]
    }
   ],
   "source": [
    "print('Hola', end=' ')\n",
    "print('Alberto')"
   ]
  },
  {
   "cell_type": "markdown",
   "metadata": {},
   "source": [
    "Haz una tabla de multiplicar compacta:\n",
    "\n",
    "     1   2   3   4   5   6\n",
    "     2   4   6   8  10  12\n",
    "     3   6   9  12  15  18\n",
    "     4   8  12  16  20  24"
   ]
  },
  {
   "cell_type": "markdown",
   "metadata": {},
   "source": [
    "## Divisores"
   ]
  },
  {
   "cell_type": "markdown",
   "metadata": {},
   "source": [
    "Utiliza un bucle for para encontrar todos los divisores propios de un número."
   ]
  },
  {
   "cell_type": "markdown",
   "metadata": {},
   "source": [
    "## Método de Newton"
   ]
  },
  {
   "cell_type": "markdown",
   "metadata": {},
   "source": [
    "Resuelve con el método de Newton la ecuación\n",
    "\n",
    "$$ M = x - \\varepsilon \\sin(x)$$\n",
    "\n",
    "para $M=\\frac{3}{4}\\pi$ ,  $\\varepsilon=0.8$, partiendo de $x_0=1.5$."
   ]
  },
  {
   "cell_type": "markdown",
   "metadata": {},
   "source": [
    "## Tripletas"
   ]
  },
  {
   "cell_type": "markdown",
   "metadata": {
    "editable": true,
    "slideshow": {
     "slide_type": ""
    },
    "tags": []
   },
   "source": [
    "Genera unas cuantas **tripletas pitagóricas** de números naturales $(a,b,c)$ tales que $a^2+b^2=c^2$."
   ]
  }
 ],
 "metadata": {
  "hide_input": false,
  "kernelspec": {
   "display_name": "Python 3 (ipykernel)",
   "language": "python",
   "name": "python3"
  },
  "language_info": {
   "codemirror_mode": {
    "name": "ipython",
    "version": 3
   },
   "file_extension": ".py",
   "mimetype": "text/x-python",
   "name": "python",
   "nbconvert_exporter": "python",
   "pygments_lexer": "ipython3",
   "version": "3.12.0"
  },
  "varInspector": {
   "cols": {
    "lenName": 16,
    "lenType": 16,
    "lenVar": 40
   },
   "kernels_config": {
    "python": {
     "delete_cmd_postfix": "",
     "delete_cmd_prefix": "del ",
     "library": "var_list.py",
     "varRefreshCmd": "print(var_dic_list())"
    },
    "r": {
     "delete_cmd_postfix": ") ",
     "delete_cmd_prefix": "rm(",
     "library": "var_list.r",
     "varRefreshCmd": "cat(var_dic_list()) "
    }
   },
   "types_to_exclude": [
    "module",
    "function",
    "builtin_function_or_method",
    "instance",
    "_Feature"
   ],
   "window_display": false
  }
 },
 "nbformat": 4,
 "nbformat_minor": 4
}
