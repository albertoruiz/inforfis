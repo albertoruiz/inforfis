{
  "metadata": {
    "hide_input": false,
    "varInspector": {
      "cols": {
        "lenName": 16,
        "lenType": 16,
        "lenVar": 40
      },
      "kernels_config": {
        "python": {
          "delete_cmd_postfix": "",
          "delete_cmd_prefix": "del ",
          "library": "var_list.py",
          "varRefreshCmd": "print(var_dic_list())"
        },
        "r": {
          "delete_cmd_postfix": ") ",
          "delete_cmd_prefix": "rm(",
          "library": "var_list.r",
          "varRefreshCmd": "cat(var_dic_list()) "
        }
      },
      "types_to_exclude": [
        "module",
        "function",
        "builtin_function_or_method",
        "instance",
        "_Feature"
      ],
      "window_display": false
    },
    "kernelspec": {
      "name": "python",
      "display_name": "Python (Pyodide)",
      "language": "python"
    },
    "language_info": {
      "codemirror_mode": {
        "name": "python",
        "version": 3
      },
      "file_extension": ".py",
      "mimetype": "text/x-python",
      "name": "python",
      "nbconvert_exporter": "python",
      "pygments_lexer": "ipython3",
      "version": "3.8"
    }
  },
  "nbformat_minor": 4,
  "nbformat": 4,
  "cells": [
    {
      "cell_type": "markdown",
      "source": "# Repaso y motivación de arrays",
      "metadata": {}
    },
    {
      "cell_type": "markdown",
      "source": "**Ejercicio**. Define una función para calcular la distancia entre dos puntos de $\\mathbb R ^2$ (representados mediante 2-tuplas).",
      "metadata": {}
    },
    {
      "cell_type": "code",
      "source": "import numpy as np",
      "metadata": {
        "trusted": true
      },
      "execution_count": null,
      "outputs": []
    },
    {
      "cell_type": "markdown",
      "source": "La siguiente solución no responde del todo a la pregunta, porque las coordenadas de los puntos son argumentos individuales.",
      "metadata": {}
    },
    {
      "cell_type": "code",
      "source": "def dist_c(px, py, qx, qy):\n    return np.sqrt( (px-qx)**2 + (py-qy)**2 )",
      "metadata": {
        "trusted": true
      },
      "execution_count": null,
      "outputs": []
    },
    {
      "cell_type": "code",
      "source": "dist_c(1, 2, 3, 3)",
      "metadata": {
        "trusted": true
      },
      "execution_count": null,
      "outputs": []
    },
    {
      "cell_type": "markdown",
      "source": "Lo que queremos es guardar los puntos cada uno con su nombre:",
      "metadata": {}
    },
    {
      "cell_type": "code",
      "source": "u = (1, 2)\nv = (3, 3)",
      "metadata": {
        "trusted": true
      },
      "execution_count": null,
      "outputs": []
    },
    {
      "cell_type": "code",
      "source": "def dist2(P, Q):\n    return np.sqrt( (P[0]-Q[0])**2 + (P[1]-Q[1])**2 )",
      "metadata": {
        "trusted": true
      },
      "execution_count": null,
      "outputs": []
    },
    {
      "cell_type": "code",
      "source": "dist2(u, v)",
      "metadata": {
        "trusted": true
      },
      "execution_count": null,
      "outputs": []
    },
    {
      "cell_type": "markdown",
      "source": "En la definción hemos expresado la suma explícitamente, indexando los componentes. Otra forma de hacerlo es desestructurando los argumentos:",
      "metadata": {}
    },
    {
      "cell_type": "code",
      "source": "def dist2_b(P, Q):\n    px, py = P\n    qx, qy = Q\n    return np.sqrt( (px-qx)**2 + (py-qy)**2)",
      "metadata": {
        "trusted": true
      },
      "execution_count": null,
      "outputs": []
    },
    {
      "cell_type": "code",
      "source": "dist2_b(u,v)",
      "metadata": {
        "trusted": true
      },
      "execution_count": null,
      "outputs": []
    },
    {
      "cell_type": "markdown",
      "source": "El ejercicio podría darse ya por terminado.\n\nPero las definiciones anteriores son muy poco generales. Si las invocamos con puntos 3D el resultado es incorrecto pero no da error:",
      "metadata": {}
    },
    {
      "cell_type": "code",
      "source": "r = (2, 5, 3)\ns = (0, -2, 7)",
      "metadata": {
        "trusted": true
      },
      "execution_count": null,
      "outputs": []
    },
    {
      "cell_type": "code",
      "source": "dist2(r, s)",
      "metadata": {
        "trusted": true
      },
      "execution_count": null,
      "outputs": []
    },
    {
      "cell_type": "markdown",
      "source": "Podríamos definir una distancia para puntos 3D:",
      "metadata": {}
    },
    {
      "cell_type": "code",
      "source": "def dist3(P, Q):\n    return np.sqrt( (P[0]-Q[0])**2 + (P[1]-Q[1])**2 + (P[2]-Q[2])**2)",
      "metadata": {
        "trusted": true
      },
      "execution_count": null,
      "outputs": []
    },
    {
      "cell_type": "code",
      "source": "dist3(s, r)",
      "metadata": {
        "trusted": true
      },
      "execution_count": null,
      "outputs": []
    },
    {
      "cell_type": "markdown",
      "source": "Por supuesto, esta última función no admite puntos 2D.",
      "metadata": {}
    },
    {
      "cell_type": "code",
      "source": "# si descomentas la línea siguiente y ejecutas, dará un error \"tuple index out of range\"\n# dist3(u,v)",
      "metadata": {
        "trusted": true
      },
      "execution_count": null,
      "outputs": []
    },
    {
      "cell_type": "markdown",
      "source": "Es mejor definir una función que admita puntos de cualquier dimensión. Por ejemplo, con un bucle acumulador:",
      "metadata": {}
    },
    {
      "cell_type": "code",
      "source": "def dist_l(P, Q):\n    s = 0\n    for k in range(len(P)):\n        s += (P[k]-Q[k])**2\n    return np.sqrt(s)",
      "metadata": {
        "trusted": true
      },
      "execution_count": null,
      "outputs": []
    },
    {
      "cell_type": "code",
      "source": "dist_l(u, v)",
      "metadata": {
        "trusted": true
      },
      "execution_count": null,
      "outputs": []
    },
    {
      "cell_type": "code",
      "source": "dist_l(r, s)",
      "metadata": {
        "trusted": true
      },
      "execution_count": null,
      "outputs": []
    },
    {
      "cell_type": "markdown",
      "source": "O con un bucle implícito (*list comprehension*):",
      "metadata": {}
    },
    {
      "cell_type": "code",
      "source": "def dist_lc(P, Q):\n    return np.sqrt( sum ( [(P[k]-Q[k])**2 for k in range(len(P))] ) )",
      "metadata": {
        "trusted": true
      },
      "execution_count": null,
      "outputs": []
    },
    {
      "cell_type": "code",
      "source": "dist_lc(u, v)",
      "metadata": {
        "trusted": true
      },
      "execution_count": null,
      "outputs": []
    },
    {
      "cell_type": "code",
      "source": "dist_lc(r, s)",
      "metadata": {
        "trusted": true
      },
      "execution_count": null,
      "outputs": []
    },
    {
      "cell_type": "markdown",
      "source": "Esto mismo puede expresarse de forma más clara mediante el emparejamiento de contenedores con la función `zip`:",
      "metadata": {}
    },
    {
      "cell_type": "code",
      "source": "def dist_z(P, Q):\n    return np.sqrt( sum ( [(a-b)**2 for a,b in zip(P,Q)] ) )",
      "metadata": {
        "trusted": true
      },
      "execution_count": null,
      "outputs": []
    },
    {
      "cell_type": "code",
      "source": "dist_z(u, v)",
      "metadata": {
        "trusted": true
      },
      "execution_count": null,
      "outputs": []
    },
    {
      "cell_type": "code",
      "source": "dist_z(r, s)",
      "metadata": {
        "trusted": true
      },
      "execution_count": null,
      "outputs": []
    },
    {
      "cell_type": "markdown",
      "source": "Como los arrays son contenedores, las funciones anteriores pueden trabajar con ellos:",
      "metadata": {}
    },
    {
      "cell_type": "code",
      "source": "u = np.array( [1,2] )\nv = np.array( [3,2] )\n\nr = np.array( [2,5,3] )\ns = np.array( [0,-2,7] )",
      "metadata": {
        "trusted": true
      },
      "execution_count": null,
      "outputs": []
    },
    {
      "cell_type": "code",
      "source": "dist_z(r, s), dist_z(u, v)",
      "metadata": {
        "trusted": true
      },
      "execution_count": null,
      "outputs": []
    },
    {
      "cell_type": "markdown",
      "source": "Los arrays permiten una definición más simple todavía, aprovechando que con ellos las operaciones matemáticas se efectúan automáticamente elemento a elemento. Por ejemplo:",
      "metadata": {}
    },
    {
      "cell_type": "code",
      "source": "2*r-3*s",
      "metadata": {
        "trusted": true
      },
      "execution_count": null,
      "outputs": []
    },
    {
      "cell_type": "code",
      "source": "r**2",
      "metadata": {
        "trusted": true
      },
      "execution_count": null,
      "outputs": []
    },
    {
      "cell_type": "markdown",
      "source": "De modo que podemos escribir:",
      "metadata": {}
    },
    {
      "cell_type": "code",
      "source": "def dist(P, Q):\n    return np.sqrt( np.sum( (P-Q)**2 ) )",
      "metadata": {
        "trusted": true
      },
      "execution_count": null,
      "outputs": []
    },
    {
      "cell_type": "code",
      "source": "dist(r, s), dist(u, v)",
      "metadata": {
        "trusted": true
      },
      "execution_count": null,
      "outputs": []
    },
    {
      "cell_type": "markdown",
      "source": "Esto funciona en cualquier dimensión:",
      "metadata": {}
    },
    {
      "cell_type": "code",
      "source": "x = np.array([1, 2, 3, 4])\ny = np.array([0, 2, 3, 5])\n\ndist(x ,y)",
      "metadata": {
        "trusted": true
      },
      "execution_count": null,
      "outputs": []
    },
    {
      "cell_type": "markdown",
      "source": "Y se puede simplificar mucho más usando las herramientas de álgebra lineal que proporciona numpy:",
      "metadata": {}
    },
    {
      "cell_type": "code",
      "source": "def dist_n(P, Q):\n    return np.linalg.norm(P-Q)",
      "metadata": {
        "trusted": true
      },
      "execution_count": null,
      "outputs": []
    },
    {
      "cell_type": "code",
      "source": "dist_n(x, y)",
      "metadata": {
        "trusted": true
      },
      "execution_count": null,
      "outputs": []
    },
    {
      "cell_type": "markdown",
      "source": "Como ejemplo final poemos definir nosotros mismos el módulo de un vector usando las herramientas básicas de manejo de arrays:",
      "metadata": {}
    },
    {
      "cell_type": "code",
      "source": "def modul(P):\n    return np.sqrt( np.sum( P**2 ) )",
      "metadata": {
        "trusted": true
      },
      "execution_count": null,
      "outputs": []
    },
    {
      "cell_type": "code",
      "source": "modul(x-y)",
      "metadata": {
        "trusted": true
      },
      "execution_count": null,
      "outputs": []
    },
    {
      "cell_type": "markdown",
      "source": "Lo más elegante es usar `dot`:",
      "metadata": {}
    },
    {
      "cell_type": "code",
      "source": "def modul_d(P):\n    return np.sqrt( P @ P )",
      "metadata": {
        "trusted": true
      },
      "execution_count": null,
      "outputs": []
    },
    {
      "cell_type": "code",
      "source": "modul_d(x-y)",
      "metadata": {
        "trusted": true
      },
      "execution_count": null,
      "outputs": []
    }
  ]
}