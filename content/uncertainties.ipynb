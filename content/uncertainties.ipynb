{
 "cells": [
  {
   "cell_type": "markdown",
   "metadata": {},
   "source": [
    "# Magnitudes Físicas"
   ]
  },
  {
   "cell_type": "markdown",
   "metadata": {},
   "source": [
    "## Incertidumbre"
   ]
  },
  {
   "cell_type": "markdown",
   "metadata": {},
   "source": [
    "El módulo [uncertainties](http://pythonhosted.org/uncertainties/) automatiza la propagación de errores:"
   ]
  },
  {
   "cell_type": "code",
   "execution_count": null,
   "metadata": {},
   "outputs": [],
   "source": [
    "from uncertainties import ufloat"
   ]
  },
  {
   "cell_type": "code",
   "execution_count": null,
   "metadata": {},
   "outputs": [],
   "source": [
    "x = ufloat(1.345387, 0.004)"
   ]
  },
  {
   "cell_type": "code",
   "execution_count": null,
   "metadata": {},
   "outputs": [],
   "source": [
    "x"
   ]
  },
  {
   "cell_type": "code",
   "execution_count": null,
   "metadata": {},
   "outputs": [],
   "source": [
    "5*x**2 + 1"
   ]
  },
  {
   "cell_type": "markdown",
   "metadata": {},
   "source": [
    "Definimos funciones para mostrar 2 cifras significativas en la incertidumbre, siguiendo las recomendaciones establecidas."
   ]
  },
  {
   "cell_type": "code",
   "execution_count": null,
   "metadata": {},
   "outputs": [],
   "source": [
    "def pretty(x):\n",
    "    print('{:.2uS}'.format(x))\n",
    "\n",
    "def prettyl(x):\n",
    "    print('{:.2uP}'.format(x))"
   ]
  },
  {
   "cell_type": "code",
   "execution_count": null,
   "metadata": {},
   "outputs": [],
   "source": [
    "prettyl( x )"
   ]
  },
  {
   "cell_type": "code",
   "execution_count": null,
   "metadata": {},
   "outputs": [],
   "source": [
    "pretty( x )"
   ]
  },
  {
   "cell_type": "code",
   "execution_count": null,
   "metadata": {},
   "outputs": [],
   "source": [
    "pretty( 5*x**2 +1 )"
   ]
  },
  {
   "cell_type": "markdown",
   "metadata": {},
   "source": [
    "Este módulo tiene en cuenta la covarianza entre variables para manejar correctamente sus posibles dependencias. En el siguiente ejemplo `y` y `z` son aparentemente iguales, en magnitud e incertidumbre, pero se comportan de forma distinta al operar con `x`. Aquí `y` es independiente de `x`, mientras que `z` es una fracción de la misma magnitud `x`."
   ]
  },
  {
   "cell_type": "code",
   "execution_count": null,
   "metadata": {},
   "outputs": [],
   "source": [
    "x = ufloat(2, 0.02)\n",
    "y = ufloat(1, 0.01)\n",
    "z = x/2\n",
    "\n",
    "prettyl(x)\n",
    "prettyl(y)\n",
    "prettyl(z)\n",
    "prettyl( x + y )\n",
    "prettyl( x - y )\n",
    "prettyl( x + z )\n",
    "prettyl( x - z )"
   ]
  },
  {
   "cell_type": "markdown",
   "metadata": {},
   "source": [
    "La incertidumbre se puede introducir de forma más bonita con la siguiente función auxiliar:"
   ]
  },
  {
   "cell_type": "code",
   "execution_count": null,
   "metadata": {},
   "outputs": [],
   "source": [
    "# Python admite símbolos unicode\n",
    "\n",
    "# Ctrl-May-U + 025b + espacio\n",
    "def ɛ(v):\n",
    "    return v*ufloat(0,1)"
   ]
  },
  {
   "cell_type": "markdown",
   "metadata": {},
   "source": [
    "Sirve para \"añadir\" un error o incertidumbre absoluta a una magnitud."
   ]
  },
  {
   "cell_type": "code",
   "execution_count": null,
   "metadata": {},
   "outputs": [],
   "source": [
    "x = 1.345387 + ɛ(0.004)\n",
    "\n",
    "pretty( x )"
   ]
  },
  {
   "cell_type": "code",
   "execution_count": null,
   "metadata": {},
   "outputs": [],
   "source": [
    "pretty( x**2 )"
   ]
  },
  {
   "cell_type": "markdown",
   "metadata": {},
   "source": [
    "Cada magnitud debe tener su propio ɛ para que los errores sean independientes."
   ]
  },
  {
   "cell_type": "markdown",
   "metadata": {},
   "source": [
    "Es más práctico usar la siguiente función, que crea cómodamente valores con un error relativo expresado en %."
   ]
  },
  {
   "cell_type": "code",
   "execution_count": null,
   "metadata": {},
   "outputs": [],
   "source": [
    "def mag(v,ep):\n",
    "    return v * (1 + ɛ(ep/100))"
   ]
  },
  {
   "cell_type": "code",
   "execution_count": null,
   "metadata": {},
   "outputs": [],
   "source": [
    "mag(25,3)"
   ]
  },
  {
   "cell_type": "code",
   "execution_count": null,
   "metadata": {},
   "outputs": [],
   "source": [
    "# otro símbolo útil\n",
    "\n",
    "import numpy as np\n",
    "\n",
    "# 03c0\n",
    "π = np.pi"
   ]
  },
  {
   "cell_type": "code",
   "execution_count": null,
   "metadata": {},
   "outputs": [],
   "source": [
    "r = mag(5 , 2)\n",
    "\n",
    "pretty( π * r**2 )"
   ]
  },
  {
   "cell_type": "markdown",
   "metadata": {},
   "source": [
    "Un pequeño inconveniente es que las funciones matemáticas hay que importarlas del módulo `uncertainties`."
   ]
  },
  {
   "cell_type": "code",
   "execution_count": null,
   "metadata": {},
   "outputs": [],
   "source": [
    "from uncertainties.umath import sqrt\n",
    "\n",
    "pretty( sqrt (1.345387 + ɛ(0.004)) )"
   ]
  },
  {
   "cell_type": "markdown",
   "metadata": {},
   "source": [
    "Por suerte los operadores funcionan automáticamente."
   ]
  },
  {
   "cell_type": "code",
   "execution_count": null,
   "metadata": {},
   "outputs": [],
   "source": [
    "pretty( (1.345387 + ɛ(0.004))**(1/2) )"
   ]
  },
  {
   "cell_type": "markdown",
   "metadata": {},
   "source": [
    "## Unidades físicas"
   ]
  },
  {
   "cell_type": "markdown",
   "metadata": {},
   "source": [
    "Hay [varios paquetes](https://socialcompare.com/en/comparison/python-units-quantities-packages-383avix4) para manejar magnitudes físicas, una posibilidad es [pint](http://pint.readthedocs.io/en/0.8/tutorial.html)."
   ]
  },
  {
   "cell_type": "code",
   "execution_count": null,
   "metadata": {},
   "outputs": [],
   "source": [
    "# (necesario solo en jupyterlite)\n",
    "import sys\n",
    "if 'pyodide' in sys.modules:\n",
    "    %pip install pint"
   ]
  },
  {
   "cell_type": "code",
   "execution_count": null,
   "metadata": {},
   "outputs": [],
   "source": [
    "from pint import UnitRegistry\n",
    "u = UnitRegistry()"
   ]
  },
  {
   "cell_type": "code",
   "execution_count": null,
   "metadata": {},
   "outputs": [],
   "source": [
    "(3*u.meter / (2*u.millisecond)).to(u.kilometer/u.hour)"
   ]
  },
  {
   "cell_type": "markdown",
   "metadata": {},
   "source": [
    "Podemos combinar de forma natural las unidades físicas y la incertidumbre:"
   ]
  },
  {
   "cell_type": "code",
   "execution_count": null,
   "metadata": {},
   "outputs": [],
   "source": [
    "2*u.kilogram + ɛ(3*u.gram)"
   ]
  },
  {
   "cell_type": "code",
   "execution_count": null,
   "metadata": {},
   "outputs": [],
   "source": [
    "mag( 2*u.meter/u.sec , 5)"
   ]
  },
  {
   "cell_type": "markdown",
   "metadata": {},
   "source": [
    "Como ejemplo, definimos una función normal y corriente de Python para calcular la energía cinética de un cuerpo."
   ]
  },
  {
   "cell_type": "code",
   "execution_count": null,
   "metadata": {},
   "outputs": [],
   "source": [
    "def kin(m,v):\n",
    "    return 1/2*m*v**2"
   ]
  },
  {
   "cell_type": "code",
   "execution_count": null,
   "metadata": {},
   "outputs": [],
   "source": [
    "kin(2,3)"
   ]
  },
  {
   "cell_type": "markdown",
   "metadata": {},
   "source": [
    "Y la evaluamos con magnitudes con unidades físicas e incertidumbre."
   ]
  },
  {
   "cell_type": "code",
   "execution_count": null,
   "metadata": {},
   "outputs": [],
   "source": [
    "m = 2*u.kilogram + ɛ(3*u.gram)\n",
    "\n",
    "v = mag( 3*u.kilometer/u.hour , 5 )\n",
    "\n",
    "Ec = kin(m, v)\n",
    "\n",
    "pretty(Ec)"
   ]
  },
  {
   "cell_type": "markdown",
   "metadata": {},
   "source": [
    "El resultado se puede expresar en cualquier otra unidad:"
   ]
  },
  {
   "cell_type": "code",
   "execution_count": null,
   "metadata": {},
   "outputs": [],
   "source": [
    "pretty(Ec.to(u.joule))"
   ]
  },
  {
   "cell_type": "code",
   "execution_count": null,
   "metadata": {},
   "outputs": [],
   "source": [
    "pretty(Ec.to(u.calorie))"
   ]
  },
  {
   "cell_type": "code",
   "execution_count": null,
   "metadata": {},
   "outputs": [],
   "source": [
    "pretty(Ec.to(u.kilowatt*u.hour))"
   ]
  },
  {
   "cell_type": "code",
   "execution_count": null,
   "metadata": {},
   "outputs": [],
   "source": [
    "pretty(Ec.to(u.electron_volt))"
   ]
  },
  {
   "cell_type": "markdown",
   "metadata": {},
   "source": [
    "## Caso de estudio: péndulo de [Kater](https://en.wikipedia.org/wiki/Kater%27s_pendulum)"
   ]
  },
  {
   "cell_type": "markdown",
   "metadata": {},
   "source": [
    "$$g = \\frac{8\\pi^2}{\\frac{T_1^2+T_2^2}{H}+\\frac{T_1^2-T_2^2}{h_1 -h_2}}$$"
   ]
  },
  {
   "cell_type": "code",
   "execution_count": null,
   "metadata": {},
   "outputs": [],
   "source": [
    "def estimag(T1,T2,H,h1):\n",
    "    h2 = H-h1\n",
    "    return 8*π**2/((T1**2+T2**2)/H + (T1**2-T2**2)/(h1-h2))"
   ]
  },
  {
   "cell_type": "code",
   "execution_count": null,
   "metadata": {},
   "outputs": [],
   "source": [
    "estimag(2*u.sec, 2.003*u.sec, 1*u.meter, 0.7*u.meter)"
   ]
  },
  {
   "cell_type": "code",
   "execution_count": null,
   "metadata": {},
   "outputs": [],
   "source": [
    "g = estimag(2*u.sec + ɛ(20/400*u.centisec), 2.003*u.sec, 1*u.meter, 0.7*u.meter)\n",
    "pretty(g)"
   ]
  },
  {
   "cell_type": "code",
   "execution_count": null,
   "metadata": {},
   "outputs": [],
   "source": [
    "g = estimag(2    *u.sec + ɛ(20/400*u.centisec),\n",
    "            2.003*u.sec + ɛ(20/400*u.centisec),\n",
    "            1*u.meter,\n",
    "            0.7*u.meter + ɛ(0*u.millimeter) )\n",
    "pretty(g)"
   ]
  },
  {
   "cell_type": "code",
   "execution_count": null,
   "metadata": {},
   "outputs": [],
   "source": [
    "g = estimag(2    *u.sec + ɛ(20/400*u.centisec),\n",
    "            2.003*u.sec + ɛ(20/400*u.centisec),\n",
    "            1*u.meter,\n",
    "            0.7*u.meter + ɛ(10*u.millimeter) )\n",
    "pretty(g)"
   ]
  },
  {
   "cell_type": "markdown",
   "metadata": {},
   "source": [
    "## Constantes físicas"
   ]
  },
  {
   "cell_type": "markdown",
   "metadata": {},
   "source": [
    "Están disponibles en el módulo [scipy.constants](https://docs.scipy.org/doc/scipy-0.19.0/reference/constants.html)."
   ]
  },
  {
   "cell_type": "code",
   "execution_count": null,
   "metadata": {},
   "outputs": [],
   "source": [
    "import scipy.constants as const"
   ]
  },
  {
   "cell_type": "code",
   "execution_count": null,
   "metadata": {},
   "outputs": [],
   "source": [
    "const.Planck"
   ]
  },
  {
   "cell_type": "code",
   "execution_count": null,
   "metadata": {},
   "outputs": [],
   "source": [
    "const.physical_constants['deuteron mass']"
   ]
  },
  {
   "cell_type": "markdown",
   "metadata": {},
   "source": [
    "Podemos convertirlas al formato anterior, con incertidumbre y unidades:"
   ]
  },
  {
   "cell_type": "code",
   "execution_count": null,
   "metadata": {},
   "outputs": [],
   "source": [
    "def konst(name):\n",
    "    v,unit,i = const.physical_constants[name]\n",
    "    return ufloat(v,i) * u.parse_expression(unit)"
   ]
  },
  {
   "cell_type": "code",
   "execution_count": null,
   "metadata": {},
   "outputs": [],
   "source": [
    "pretty(konst('electron mass'))"
   ]
  },
  {
   "cell_type": "code",
   "execution_count": null,
   "metadata": {},
   "outputs": [],
   "source": [
    "pretty(konst('Boltzmann constant'))"
   ]
  },
  {
   "cell_type": "code",
   "execution_count": null,
   "metadata": {},
   "outputs": [],
   "source": [
    "const.epsilon_0"
   ]
  },
  {
   "cell_type": "code",
   "execution_count": null,
   "metadata": {},
   "outputs": [],
   "source": [
    "pretty(konst('electric constant'))"
   ]
  },
  {
   "cell_type": "code",
   "execution_count": null,
   "metadata": {},
   "outputs": [],
   "source": [
    "const.find('avog')"
   ]
  },
  {
   "cell_type": "code",
   "execution_count": null,
   "metadata": {},
   "outputs": [],
   "source": [
    "pretty(konst(_[0]))"
   ]
  },
  {
   "cell_type": "code",
   "execution_count": null,
   "metadata": {},
   "outputs": [],
   "source": [
    "const.find('lig')"
   ]
  },
  {
   "cell_type": "code",
   "execution_count": null,
   "metadata": {},
   "outputs": [],
   "source": [
    "pretty(konst(_[0]).to(u.cm / u.nanosec))"
   ]
  },
  {
   "cell_type": "markdown",
   "metadata": {},
   "source": [
    "## Caso de estudio: fuerza eléctrica en átomo de H."
   ]
  },
  {
   "cell_type": "markdown",
   "metadata": {},
   "source": [
    "$$F = \\frac{1}{4\\pi\\epsilon_0}\\frac{q Q}{r^2}$$"
   ]
  },
  {
   "cell_type": "code",
   "execution_count": null,
   "metadata": {},
   "outputs": [],
   "source": [
    "r = konst('Bohr radius')\n",
    "pretty(r.to(u.angstrom))\n",
    "\n",
    "e = konst('elementary charge')\n",
    "pretty(e)\n",
    "\n",
    "eps_0 = konst('electric constant')\n",
    "pretty(eps_0)\n",
    "\n",
    "F = 1/4/π/eps_0 * e * e / r**2\n",
    "\n",
    "pretty(F)\n",
    "pretty(F.to(u.newton))"
   ]
  },
  {
   "cell_type": "markdown",
   "metadata": {},
   "source": [
    "Velocidad clásica en la órbita:\n",
    "\n",
    "$$ F = \\frac{m v^2}{r} $$ \n",
    "\n",
    "$$ v = \\sqrt{\\frac{r F}{m}} $$"
   ]
  },
  {
   "cell_type": "code",
   "execution_count": null,
   "metadata": {},
   "outputs": [],
   "source": [
    "me = konst('electron mass')\n",
    "\n",
    "v = (r*F/me)**(1/2)\n",
    "pretty(v.to(u.km/u.hour))\n",
    "pretty(v.to_base_units())\n",
    "\n",
    "c = konst('speed of light in vacuum')\n",
    "pretty((v/c).to_base_units())"
   ]
  },
  {
   "cell_type": "code",
   "execution_count": null,
   "metadata": {},
   "outputs": [],
   "source": [
    "v.error_components()"
   ]
  },
  {
   "cell_type": "markdown",
   "metadata": {},
   "source": [
    "$$ v = \\sqrt{\\frac{r \\frac{1}{4\\pi\\epsilon_0}\\frac{q Q}{r^2}}{m}} = \\sqrt{\\frac{q Q}{4\\pi\\epsilon_0 m r}} $$"
   ]
  },
  {
   "cell_type": "code",
   "execution_count": null,
   "metadata": {},
   "outputs": [],
   "source": [
    "v = (e * e / 4/π/eps_0 / me/ r)**(1/2)\n",
    "pretty((v/c).to_base_units())"
   ]
  },
  {
   "cell_type": "code",
   "execution_count": null,
   "metadata": {},
   "outputs": [],
   "source": [
    "v.error_components()"
   ]
  },
  {
   "cell_type": "code",
   "execution_count": null,
   "metadata": {},
   "outputs": [],
   "source": [
    "eqm = abs(konst('electron charge to mass quotient'))\n",
    "\n",
    "pretty(eqm)\n",
    "pretty(e / me)"
   ]
  },
  {
   "cell_type": "code",
   "execution_count": null,
   "metadata": {},
   "outputs": [],
   "source": [
    "v = (eqm * e / 4/π/eps_0 / r)**(1/2)\n",
    "pretty((v/c).to_base_units())"
   ]
  },
  {
   "cell_type": "markdown",
   "metadata": {},
   "source": [
    "## Caso de estudio: comparación con Monte-Carlo."
   ]
  },
  {
   "cell_type": "code",
   "execution_count": null,
   "metadata": {},
   "outputs": [],
   "source": [
    "er_F = 0.05; er_M = 0.03; er_m = 0.01; er_d = .05\n",
    "mu_F = 1e-8;\n",
    "mu_M = 3;\n",
    "mu_m = 0.05;\n",
    "mu_d = 0.032;\n",
    "\n",
    "F = mag(mu_F,100*er_F)\n",
    "M = mag(mu_M,100*er_M)\n",
    "m = mag(mu_m,100*er_m)\n",
    "d = mag(mu_d,100*er_d)"
   ]
  },
  {
   "cell_type": "code",
   "execution_count": null,
   "metadata": {},
   "outputs": [],
   "source": [
    "pretty(F)\n",
    "pretty(M)\n",
    "pretty(m)\n",
    "pretty(d)"
   ]
  },
  {
   "cell_type": "code",
   "execution_count": null,
   "metadata": {},
   "outputs": [],
   "source": [
    "G = d**2 * F / ( M * m )\n",
    "\n",
    "pretty(G)\n",
    "prettyl(G)"
   ]
  },
  {
   "cell_type": "markdown",
   "metadata": {},
   "source": [
    "Consistente con Monte-Carlo:"
   ]
  },
  {
   "cell_type": "code",
   "execution_count": null,
   "metadata": {},
   "outputs": [],
   "source": [
    "import numpy as np\n",
    "import matplotlib.pyplot as plt\n",
    "\n",
    "%matplotlib inline"
   ]
  },
  {
   "cell_type": "code",
   "execution_count": null,
   "metadata": {},
   "outputs": [],
   "source": [
    "sigma_F = er_F * mu_F\n",
    "sigma_M = er_M * mu_M\n",
    "sigma_m = er_m * mu_m\n",
    "sigma_d = er_d * mu_d\n",
    "\n",
    "N = 100000\n",
    "F = mu_F + sigma_F * np.random.randn( N )\n",
    "M = mu_M + sigma_M * np.random.randn( N )\n",
    "m = mu_m + sigma_m * np.random.randn( N )\n",
    "d = mu_d + sigma_d * np.random.randn( N )\n",
    "\n",
    "G = d**2 * F / ( M * m )\n",
    "\n",
    "plt.hist( G, 40, density = 1 );"
   ]
  },
  {
   "cell_type": "code",
   "execution_count": null,
   "metadata": {},
   "outputs": [],
   "source": [
    "np.mean(G)"
   ]
  },
  {
   "cell_type": "code",
   "execution_count": null,
   "metadata": {},
   "outputs": [],
   "source": [
    "np.std(G)"
   ]
  },
  {
   "cell_type": "markdown",
   "metadata": {},
   "source": [
    "## Caso de estudio: período de una órbita"
   ]
  },
  {
   "cell_type": "code",
   "execution_count": null,
   "metadata": {},
   "outputs": [],
   "source": [
    "# Agrupamos aquí las utilidades de este tema\n",
    "\n",
    "import numpy as np\n",
    "\n",
    "from pint import UnitRegistry\n",
    "u = UnitRegistry()\n",
    "\n",
    "from uncertainties import ufloat\n",
    "\n",
    "def pretty(x):\n",
    "    print('{:.2uS}'.format(x))\n",
    "\n",
    "def prettyl(x):\n",
    "    print('{:.2uP}'.format(x))\n",
    "\n",
    "def ɛ(v):\n",
    "    return v*ufloat(0,1)\n",
    "\n",
    "def mag(v,ep):\n",
    "    return v * (1 + ɛ(ep/100))"
   ]
  },
  {
   "cell_type": "markdown",
   "metadata": {},
   "source": [
    "Partiendo de la distancia y la velocidad en un instante calculamos el período de la órbita propagando la incertidumbre. Usamos datos parecidos a los de la órbita de la Luna."
   ]
  },
  {
   "cell_type": "markdown",
   "metadata": {},
   "source": [
    "Velocidad:"
   ]
  },
  {
   "cell_type": "code",
   "execution_count": null,
   "metadata": {},
   "outputs": [],
   "source": [
    "v = mag(1 * u.kilometer / u.second, 3)\n",
    "pretty(v)"
   ]
  },
  {
   "cell_type": "markdown",
   "metadata": {},
   "source": [
    "Distancia:"
   ]
  },
  {
   "cell_type": "code",
   "execution_count": null,
   "metadata": {},
   "outputs": [],
   "source": [
    "r = mag(384000 * u.kilometer, 1)\n",
    "pretty(r)"
   ]
  },
  {
   "cell_type": "markdown",
   "metadata": {},
   "source": [
    "Parámetro gravitacional de La Tierra."
   ]
  },
  {
   "cell_type": "code",
   "execution_count": null,
   "metadata": {},
   "outputs": [],
   "source": [
    "# GM Tierra\n",
    "mu = 3.986E14 *u.meter**3 / u.second**2"
   ]
  },
  {
   "cell_type": "markdown",
   "metadata": {},
   "source": [
    "Energía de la órbita:"
   ]
  },
  {
   "cell_type": "code",
   "execution_count": null,
   "metadata": {},
   "outputs": [],
   "source": [
    "e = v**2/2 - mu/r\n",
    "\n",
    "print(e)\n",
    "pretty(e.to(u.joule/u.kilogram))"
   ]
  },
  {
   "cell_type": "markdown",
   "metadata": {},
   "source": [
    "Semieje mayor:"
   ]
  },
  {
   "cell_type": "code",
   "execution_count": null,
   "metadata": {},
   "outputs": [],
   "source": [
    "a = -mu/2/e\n",
    "\n",
    "print(a)\n",
    "pretty(a.to(u.meter))"
   ]
  },
  {
   "cell_type": "markdown",
   "metadata": {},
   "source": [
    "Período:"
   ]
  },
  {
   "cell_type": "code",
   "execution_count": null,
   "metadata": {},
   "outputs": [],
   "source": [
    "T = 2*np.pi*(a**3/mu)**(1/2)\n",
    "\n",
    "print(T)\n",
    "prettyl(T.to(u.day))\n",
    "print(f'{100*T.std_dev / T.nominal_value:.0f}%')"
   ]
  },
  {
   "cell_type": "markdown",
   "metadata": {},
   "source": [
    "El error en la velocidad se amplifica bastante."
   ]
  }
 ],
 "metadata": {
  "hide_input": false,
  "kernelspec": {
   "display_name": "Python 3 (ipykernel)",
   "language": "python",
   "name": "python3"
  },
  "language_info": {
   "codemirror_mode": {
    "name": "ipython",
    "version": 3
   },
   "file_extension": ".py",
   "mimetype": "text/x-python",
   "name": "python",
   "nbconvert_exporter": "python",
   "pygments_lexer": "ipython3",
   "version": "3.11.11"
  },
  "varInspector": {
   "cols": {
    "lenName": 16,
    "lenType": 16,
    "lenVar": 40
   },
   "kernels_config": {
    "python": {
     "delete_cmd_postfix": "",
     "delete_cmd_prefix": "del ",
     "library": "var_list.py",
     "varRefreshCmd": "print(var_dic_list())"
    },
    "r": {
     "delete_cmd_postfix": ") ",
     "delete_cmd_prefix": "rm(",
     "library": "var_list.r",
     "varRefreshCmd": "cat(var_dic_list()) "
    }
   },
   "types_to_exclude": [
    "module",
    "function",
    "builtin_function_or_method",
    "instance",
    "_Feature"
   ],
   "window_display": false
  },
  "widgets": {
   "application/vnd.jupyter.widget-state+json": {
    "state": {},
    "version_major": 2,
    "version_minor": 0
   }
  }
 },
 "nbformat": 4,
 "nbformat_minor": 4
}
