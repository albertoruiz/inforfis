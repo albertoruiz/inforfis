{
  "metadata": {
    "hide_input": false,
    "varInspector": {
      "cols": {
        "lenName": 16,
        "lenType": 16,
        "lenVar": 40
      },
      "kernels_config": {
        "python": {
          "delete_cmd_postfix": "",
          "delete_cmd_prefix": "del ",
          "library": "var_list.py",
          "varRefreshCmd": "print(var_dic_list())"
        },
        "r": {
          "delete_cmd_postfix": ") ",
          "delete_cmd_prefix": "rm(",
          "library": "var_list.r",
          "varRefreshCmd": "cat(var_dic_list()) "
        }
      },
      "types_to_exclude": [
        "module",
        "function",
        "builtin_function_or_method",
        "instance",
        "_Feature"
      ],
      "window_display": false
    },
    "widgets": {
      "application/vnd.jupyter.widget-state+json": {
        "version_major": 2,
        "version_minor": 0,
        "state": {}
      }
    },
    "kernelspec": {
      "name": "python",
      "display_name": "Python (Pyodide)",
      "language": "python"
    },
    "language_info": {
      "codemirror_mode": {
        "name": "python",
        "version": 3
      },
      "file_extension": ".py",
      "mimetype": "text/x-python",
      "name": "python",
      "nbconvert_exporter": "python",
      "pygments_lexer": "ipython3",
      "version": "3.8"
    }
  },
  "nbformat_minor": 4,
  "nbformat": 4,
  "cells": [
    {
      "cell_type": "markdown",
      "source": "<p style=\"background:#eeeeee\">\nInformática - 1º de Física\n<br>\n<strong>Introducción a la Programación</strong>\n</p>",
      "metadata": {}
    },
    {
      "cell_type": "markdown",
      "source": "## Magnitudes Físicas",
      "metadata": {}
    },
    {
      "cell_type": "markdown",
      "source": "### Incertidumbre",
      "metadata": {}
    },
    {
      "cell_type": "markdown",
      "source": "El módulo [uncertainties](http://pythonhosted.org/uncertainties/) automatiza la propagación de errores:",
      "metadata": {}
    },
    {
      "cell_type": "code",
      "source": "from uncertainties import ufloat",
      "metadata": {},
      "execution_count": 1,
      "outputs": []
    },
    {
      "cell_type": "code",
      "source": "x = ufloat(1.345387, 0.004)",
      "metadata": {},
      "execution_count": 2,
      "outputs": []
    },
    {
      "cell_type": "code",
      "source": "x",
      "metadata": {},
      "execution_count": 3,
      "outputs": [
        {
          "execution_count": 3,
          "output_type": "execute_result",
          "data": {
            "text/plain": "1.345387+/-0.004"
          },
          "metadata": {}
        }
      ]
    },
    {
      "cell_type": "code",
      "source": "5*x**2 + 1",
      "metadata": {},
      "execution_count": 4,
      "outputs": [
        {
          "execution_count": 4,
          "output_type": "execute_result",
          "data": {
            "text/plain": "10.050330898845+/-0.053815480000000006"
          },
          "metadata": {}
        }
      ]
    },
    {
      "cell_type": "markdown",
      "source": "Definimos funciones para mostrar 2 cifras significativas en la incertidumbre, siguiendo las recomendaciones establecidas.",
      "metadata": {}
    },
    {
      "cell_type": "code",
      "source": "def pretty(x):\n    print('{:.2uS}'.format(x))\n    \ndef prettyl(x):\n    print('{:.2uP}'.format(x))",
      "metadata": {},
      "execution_count": 5,
      "outputs": []
    },
    {
      "cell_type": "code",
      "source": "prettyl( x )",
      "metadata": {},
      "execution_count": 6,
      "outputs": [
        {
          "name": "stdout",
          "text": "1.3454±0.0040\n",
          "output_type": "stream"
        }
      ]
    },
    {
      "cell_type": "code",
      "source": "pretty( x )",
      "metadata": {},
      "execution_count": 7,
      "outputs": [
        {
          "name": "stdout",
          "text": "1.3454(40)\n",
          "output_type": "stream"
        }
      ]
    },
    {
      "cell_type": "code",
      "source": "pretty( 5*x**2 +1 )",
      "metadata": {},
      "execution_count": 8,
      "outputs": [
        {
          "name": "stdout",
          "text": "10.050(54)\n",
          "output_type": "stream"
        }
      ]
    },
    {
      "cell_type": "markdown",
      "source": "Este módulo tiene en cuenta la covarianza entre variables para manejar correctamente sus posibles dependencias. En el siguiente ejemplo `y` y `z` son aparentemente iguales, en magnitud e incertidumbre, pero se comportan de forma distinta al operar con `x`. Aquí `y` es independiente de `x`, mientras que `z` es una fracción de la misma magnitud `x`.",
      "metadata": {}
    },
    {
      "cell_type": "code",
      "source": "x = ufloat(2, 0.02)\ny = ufloat(1, 0.01)\nz = x/2\n\nprettyl(x)\nprettyl(y)\nprettyl(z)\nprettyl( x + y )\nprettyl( x - y )\nprettyl( x + z )\nprettyl( x - z )",
      "metadata": {},
      "execution_count": 9,
      "outputs": [
        {
          "name": "stdout",
          "text": "2.000±0.020\n1.000±0.010\n1.000±0.010\n3.000±0.022\n1.000±0.022\n3.000±0.030\n1.000±0.010\n",
          "output_type": "stream"
        }
      ]
    },
    {
      "cell_type": "markdown",
      "source": "La incertidumbre se puede introducir de forma más bonita con la siguiente función auxiliar:",
      "metadata": {}
    },
    {
      "cell_type": "code",
      "source": "# Python admite símbolos unicode\n\n# Ctrl-May-U + 025b + espacio\ndef ɛ(v):\n    return v*ufloat(0,1)",
      "metadata": {},
      "execution_count": 10,
      "outputs": []
    },
    {
      "cell_type": "markdown",
      "source": "Sirve para \"añadir\" un error o incertidumbre absoluta a una magnitud.",
      "metadata": {}
    },
    {
      "cell_type": "code",
      "source": "x = 1.345387 + ɛ(0.004)\n\npretty( x )",
      "metadata": {},
      "execution_count": 11,
      "outputs": [
        {
          "name": "stdout",
          "text": "1.3454(40)\n",
          "output_type": "stream"
        }
      ]
    },
    {
      "cell_type": "code",
      "source": "pretty( x**2 )",
      "metadata": {},
      "execution_count": 12,
      "outputs": [
        {
          "name": "stdout",
          "text": "1.810(11)\n",
          "output_type": "stream"
        }
      ]
    },
    {
      "cell_type": "markdown",
      "source": "Cada magnitud debe tener su propio ɛ para que los errores sean independientes.",
      "metadata": {}
    },
    {
      "cell_type": "markdown",
      "source": "Es más práctico usar la siguiente función, que crea cómodamente valores con un error relativo expresado en %.",
      "metadata": {}
    },
    {
      "cell_type": "code",
      "source": "def mag(v,ep):\n    return v * (1 + ɛ(ep/100))",
      "metadata": {},
      "execution_count": 13,
      "outputs": []
    },
    {
      "cell_type": "code",
      "source": "mag(25,3)",
      "metadata": {},
      "execution_count": 14,
      "outputs": [
        {
          "execution_count": 14,
          "output_type": "execute_result",
          "data": {
            "text/plain": "25.0+/-0.75"
          },
          "metadata": {}
        }
      ]
    },
    {
      "cell_type": "code",
      "source": "# otro símbolo útil\n\nimport numpy as np\n\n# 03c0\nπ = np.pi",
      "metadata": {},
      "execution_count": 15,
      "outputs": []
    },
    {
      "cell_type": "code",
      "source": "r = mag(5 , 2)\n\npretty( π * r**2 )",
      "metadata": {},
      "execution_count": 16,
      "outputs": [
        {
          "name": "stdout",
          "text": "78.5(3.1)\n",
          "output_type": "stream"
        }
      ]
    },
    {
      "cell_type": "markdown",
      "source": "Un pequeño inconveniente es que las funciones matemáticas hay que importarlas del módulo `uncertainties`.",
      "metadata": {}
    },
    {
      "cell_type": "code",
      "source": "from uncertainties.umath import sqrt\n\npretty( sqrt (1.345387 + ɛ(0.004)) )",
      "metadata": {},
      "execution_count": 17,
      "outputs": [
        {
          "name": "stdout",
          "text": "1.1599(17)\n",
          "output_type": "stream"
        }
      ]
    },
    {
      "cell_type": "markdown",
      "source": "Por suerte los operadores funcionan automáticamente.",
      "metadata": {}
    },
    {
      "cell_type": "code",
      "source": "pretty( (1.345387 + ɛ(0.004))**(1/2) )",
      "metadata": {},
      "execution_count": 18,
      "outputs": [
        {
          "name": "stdout",
          "text": "1.1599(17)\n",
          "output_type": "stream"
        }
      ]
    },
    {
      "cell_type": "markdown",
      "source": "### Unidades físicas",
      "metadata": {}
    },
    {
      "cell_type": "markdown",
      "source": "Hay [varios paquetes](https://socialcompare.com/en/comparison/python-units-quantities-packages-383avix4) para manejar magnitudes físicas, una posibilidad es [pint](http://pint.readthedocs.io/en/0.8/tutorial.html).",
      "metadata": {}
    },
    {
      "cell_type": "code",
      "source": "# (necesario solo en jupyterlite)\nimport sys\nif 'pyodide' in sys.modules:\n    %pip install pint",
      "metadata": {},
      "execution_count": 19,
      "outputs": []
    },
    {
      "cell_type": "code",
      "source": "from pint import UnitRegistry\nu = UnitRegistry()",
      "metadata": {},
      "execution_count": 20,
      "outputs": []
    },
    {
      "cell_type": "code",
      "source": "(3*u.meter / (2*u.millisecond)).to(u.kilometer/u.hour)",
      "metadata": {},
      "execution_count": 21,
      "outputs": [
        {
          "execution_count": 21,
          "output_type": "execute_result",
          "data": {
            "text/plain": "5400.0 <Unit('kilometer / hour')>",
            "text/html": "5400.0 kilometer/hour",
            "text/latex": "$5400.0\\ \\frac{\\mathrm{kilometer}}{\\mathrm{hour}}$"
          },
          "metadata": {}
        }
      ]
    },
    {
      "cell_type": "markdown",
      "source": "Podemos combinar de forma natural las unidades físicas y la incertidumbre:",
      "metadata": {}
    },
    {
      "cell_type": "code",
      "source": "2*u.kilogram + ɛ(3*u.gram)",
      "metadata": {},
      "execution_count": 22,
      "outputs": [
        {
          "execution_count": 22,
          "output_type": "execute_result",
          "data": {
            "text/plain": "2.0+/-0.003 <Unit('kilogram')>",
            "text/html": "2.0000+/-0.0030 kilogram",
            "text/latex": "$2.0000+/-0.0030\\ \\mathrm{kilogram}$"
          },
          "metadata": {}
        }
      ]
    },
    {
      "cell_type": "code",
      "source": "mag( 2*u.meter/u.sec , 5)",
      "metadata": {},
      "execution_count": 23,
      "outputs": [
        {
          "execution_count": 23,
          "output_type": "execute_result",
          "data": {
            "text/plain": "2.0+/-0.1 <Unit('meter / second')>",
            "text/html": "2.00+/-0.10 meter/second",
            "text/latex": "$2.00+/-0.10\\ \\frac{\\mathrm{meter}}{\\mathrm{second}}$"
          },
          "metadata": {}
        }
      ]
    },
    {
      "cell_type": "markdown",
      "source": "Como ejemplo, definimos una función normal y corriente de Python para calcular la energía cinética de un cuerpo.",
      "metadata": {}
    },
    {
      "cell_type": "code",
      "source": "def kin(m,v):\n    return 1/2*m*v**2",
      "metadata": {},
      "execution_count": 24,
      "outputs": []
    },
    {
      "cell_type": "code",
      "source": "kin(2,3)",
      "metadata": {},
      "execution_count": 25,
      "outputs": [
        {
          "execution_count": 25,
          "output_type": "execute_result",
          "data": {
            "text/plain": "9.0"
          },
          "metadata": {}
        }
      ]
    },
    {
      "cell_type": "markdown",
      "source": "Y la evaluamos con magnitudes con unidades físicas e incertidumbre.",
      "metadata": {}
    },
    {
      "cell_type": "code",
      "source": "m = 2*u.kilogram + ɛ(3*u.gram)\n\nv = mag( 3*u.kilometer/u.hour , 5 )\n\nEc = kin(m, v)\n\npretty(Ec)",
      "metadata": {},
      "execution_count": 26,
      "outputs": [
        {
          "name": "stdout",
          "text": "9.00(90) kilogram * kilometer ** 2 / hour ** 2\n",
          "output_type": "stream"
        }
      ]
    },
    {
      "cell_type": "markdown",
      "source": "El resultado se puede expresar en cualquier otra unidad:",
      "metadata": {}
    },
    {
      "cell_type": "code",
      "source": "pretty(Ec.to(u.joule))",
      "metadata": {},
      "execution_count": 27,
      "outputs": [
        {
          "name": "stdout",
          "text": "0.694(69) joule\n",
          "output_type": "stream"
        }
      ]
    },
    {
      "cell_type": "code",
      "source": "pretty(Ec.to(u.calorie))",
      "metadata": {},
      "execution_count": 28,
      "outputs": [
        {
          "name": "stdout",
          "text": "0.166(17) calorie\n",
          "output_type": "stream"
        }
      ]
    },
    {
      "cell_type": "code",
      "source": "pretty(Ec.to(u.kilowatt*u.hour))",
      "metadata": {},
      "execution_count": 29,
      "outputs": [
        {
          "name": "stdout",
          "text": "1.93(19)e-07 hour * kilowatt\n",
          "output_type": "stream"
        }
      ]
    },
    {
      "cell_type": "code",
      "source": "pretty(Ec.to(u.electron_volt))",
      "metadata": {},
      "execution_count": 30,
      "outputs": [
        {
          "name": "stdout",
          "text": "4.33(43)e+18 electron_volt\n",
          "output_type": "stream"
        }
      ]
    },
    {
      "cell_type": "markdown",
      "source": "### Caso de estudio: péndulo de [Kater](https://en.wikipedia.org/wiki/Kater%27s_pendulum)",
      "metadata": {}
    },
    {
      "cell_type": "markdown",
      "source": "$$g = \\frac{8\\pi^2}{\\frac{T_1^2+T_2^2}{H}+\\frac{T_1^2-T_2^2}{h_1 -h_2}}$$",
      "metadata": {}
    },
    {
      "cell_type": "code",
      "source": "def estimag(T1,T2,H,h1):\n    h2 = H-h1\n    return 8*π**2/((T1**2+T2**2)/H + (T1**2-T2**2)/(h1-h2))",
      "metadata": {},
      "execution_count": 31,
      "outputs": []
    },
    {
      "cell_type": "code",
      "source": "estimag(2*u.sec, 2.003*u.sec, 1*u.meter, 0.7*u.meter)",
      "metadata": {},
      "execution_count": 32,
      "outputs": [
        {
          "execution_count": 32,
          "output_type": "execute_result",
          "data": {
            "text/plain": "9.89187781872531 <Unit('meter / second ** 2')>",
            "text/html": "9.89187781872531 meter/second<sup>2</sup>",
            "text/latex": "$9.89187781872531\\ \\frac{\\mathrm{meter}}{\\mathrm{second}^{2}}$"
          },
          "metadata": {}
        }
      ]
    },
    {
      "cell_type": "code",
      "source": "g = estimag(2*u.sec + ɛ(20/400*u.centisec), 2.003*u.sec, 1*u.meter, 0.7*u.meter)\npretty(g)",
      "metadata": {},
      "execution_count": 33,
      "outputs": [
        {
          "name": "stdout",
          "text": "9.8919(87) meter / second ** 2\n",
          "output_type": "stream"
        }
      ]
    },
    {
      "cell_type": "code",
      "source": "g = estimag(2    *u.sec + ɛ(20/400*u.centisec),\n            2.003*u.sec + ɛ(20/400*u.centisec),\n            1*u.meter,\n            0.7*u.meter + ɛ(0*u.millimeter) )\npretty(g)",
      "metadata": {},
      "execution_count": 34,
      "outputs": [
        {
          "name": "stdout",
          "text": "9.8919(94) meter / second ** 2\n",
          "output_type": "stream"
        }
      ]
    },
    {
      "cell_type": "code",
      "source": "g = estimag(2    *u.sec + ɛ(20/400*u.centisec),\n            2.003*u.sec + ɛ(20/400*u.centisec),\n            1*u.meter,\n            0.7*u.meter + ɛ(10*u.millimeter) )\npretty(g)",
      "metadata": {},
      "execution_count": 35,
      "outputs": [
        {
          "name": "stdout",
          "text": "9.8919(96) meter / second ** 2\n",
          "output_type": "stream"
        }
      ]
    },
    {
      "cell_type": "markdown",
      "source": "### Constantes físicas",
      "metadata": {}
    },
    {
      "cell_type": "markdown",
      "source": "Están disponibles en el módulo [scipy.constants](https://docs.scipy.org/doc/scipy-0.19.0/reference/constants.html).",
      "metadata": {}
    },
    {
      "cell_type": "code",
      "source": "import scipy.constants as const",
      "metadata": {},
      "execution_count": 36,
      "outputs": []
    },
    {
      "cell_type": "code",
      "source": "const.Planck",
      "metadata": {},
      "execution_count": 37,
      "outputs": [
        {
          "execution_count": 37,
          "output_type": "execute_result",
          "data": {
            "text/plain": "6.62607015e-34"
          },
          "metadata": {}
        }
      ]
    },
    {
      "cell_type": "code",
      "source": "const.physical_constants['deuteron mass']",
      "metadata": {},
      "execution_count": 38,
      "outputs": [
        {
          "execution_count": 38,
          "output_type": "execute_result",
          "data": {
            "text/plain": "(3.3435837724e-27, 'kg', 1e-36)"
          },
          "metadata": {}
        }
      ]
    },
    {
      "cell_type": "markdown",
      "source": "Podemos convertirlas al formato anterior, con incertidumbre y unidades:",
      "metadata": {}
    },
    {
      "cell_type": "code",
      "source": "def konst(name):\n    v,unit,i = const.physical_constants[name]\n    return ufloat(v,i) * u.parse_expression(unit)",
      "metadata": {},
      "execution_count": 39,
      "outputs": []
    },
    {
      "cell_type": "code",
      "source": "pretty(konst('electron mass'))",
      "metadata": {},
      "execution_count": 40,
      "outputs": [
        {
          "name": "stdout",
          "text": "9.1093837015(28)e-31 kilogram\n",
          "output_type": "stream"
        }
      ]
    },
    {
      "cell_type": "code",
      "source": "pretty(konst('Boltzmann constant'))",
      "metadata": {},
      "execution_count": 41,
      "outputs": [
        {
          "name": "stdout",
          "text": "1.3806490000000002(0)e-23 joule / kelvin\n",
          "output_type": "stream"
        }
      ]
    },
    {
      "cell_type": "code",
      "source": "const.epsilon_0",
      "metadata": {},
      "execution_count": 42,
      "outputs": [
        {
          "execution_count": 42,
          "output_type": "execute_result",
          "data": {
            "text/plain": "8.8541878128e-12"
          },
          "metadata": {}
        }
      ]
    },
    {
      "cell_type": "code",
      "source": "pretty(konst('electric constant'))",
      "metadata": {},
      "execution_count": 43,
      "outputs": [
        {
          "name": "stdout",
          "text": "8.8541878128(13)e-12 farad / meter\n",
          "output_type": "stream"
        }
      ]
    },
    {
      "cell_type": "code",
      "source": "const.find('avog')",
      "metadata": {},
      "execution_count": 44,
      "outputs": [
        {
          "execution_count": 44,
          "output_type": "execute_result",
          "data": {
            "text/plain": "['Avogadro constant']"
          },
          "metadata": {}
        }
      ]
    },
    {
      "cell_type": "code",
      "source": "pretty(konst(_[0]))",
      "metadata": {},
      "execution_count": 45,
      "outputs": [
        {
          "name": "stdout",
          "text": "6.022140759999999(0)e+23 / mole\n",
          "output_type": "stream"
        }
      ]
    },
    {
      "cell_type": "code",
      "source": "const.find('lig')",
      "metadata": {},
      "execution_count": 46,
      "outputs": [
        {
          "execution_count": 46,
          "output_type": "execute_result",
          "data": {
            "text/plain": "['speed of light in vacuum']"
          },
          "metadata": {}
        }
      ]
    },
    {
      "cell_type": "code",
      "source": "pretty(konst(_[0]).to(u.cm / u.nanosec))",
      "metadata": {},
      "execution_count": 47,
      "outputs": [
        {
          "name": "stdout",
          "text": "29.9792458(0) centimeter / nanosecond\n",
          "output_type": "stream"
        }
      ]
    },
    {
      "cell_type": "markdown",
      "source": "### Caso de estudio: fuerza eléctrica en átomo de H.",
      "metadata": {}
    },
    {
      "cell_type": "markdown",
      "source": "$$F = \\frac{1}{4\\pi\\epsilon_0}\\frac{q Q}{r^2}$$",
      "metadata": {}
    },
    {
      "cell_type": "code",
      "source": "r = konst('Bohr radius')\npretty(r.to(u.angstrom))\n\ne = konst('elementary charge')\npretty(e)\n\neps_0 = konst('electric constant')\npretty(eps_0)\n\nF = 1/4/π/eps_0 * e * e / r**2\n\npretty(F)\npretty(F.to(u.newton))",
      "metadata": {},
      "execution_count": 48,
      "outputs": [
        {
          "name": "stdout",
          "text": "0.529177210903(80) angstrom\n1.6021766339999999(0)e-19 coulomb\n8.8541878128(13)e-12 farad / meter\n8.2387234982(28)e-08 coulomb ** 2 / farad / meter\n8.2387234982(28)e-08 newton\n",
          "output_type": "stream"
        }
      ]
    },
    {
      "cell_type": "markdown",
      "source": "Velocidad clásica en la órbita:\n\n$$ F = \\frac{m v^2}{r} $$ \n\n$$ v = \\sqrt{\\frac{r F}{m}} $$",
      "metadata": {}
    },
    {
      "cell_type": "code",
      "source": "me = konst('electron mass')\n\nv = (r*F/me)**(1/2)\npretty(v.to(u.km/u.hour))\npretty(v.to_base_units())\n\nc = konst('speed of light in vacuum')\npretty((v/c).to_base_units())",
      "metadata": {},
      "execution_count": 49,
      "outputs": [
        {
          "name": "stdout",
          "text": "7875688.5491(15) kilometer / hour\n2187691.26364(41) meter / second\n0.0072973525693(14) dimensionless\n",
          "output_type": "stream"
        }
      ]
    },
    {
      "cell_type": "code",
      "source": "v.error_components()",
      "metadata": {},
      "execution_count": 50,
      "outputs": [
        {
          "execution_count": 50,
          "output_type": "execute_result",
          "data": {
            "text/plain": "{9.1093837015e-31+/-2.8e-40: 0.00033622118350286025,\n 5.29177210903e-11+/-8e-21: 0.00016536549334085862,\n 1.602176634e-19+/-0: 0,\n 8.8541878128e-12+/-1.3e-21: 0.00016060189273511358}"
          },
          "metadata": {}
        }
      ]
    },
    {
      "cell_type": "markdown",
      "source": "$$ v = \\sqrt{\\frac{r \\frac{1}{4\\pi\\epsilon_0}\\frac{q Q}{r^2}}{m}} = \\sqrt{\\frac{q Q}{4\\pi\\epsilon_0 m r}} $$",
      "metadata": {}
    },
    {
      "cell_type": "code",
      "source": "v = (e * e / 4/π/eps_0 / me/ r)**(1/2)\npretty((v/c).to_base_units())",
      "metadata": {},
      "execution_count": 51,
      "outputs": [
        {
          "name": "stdout",
          "text": "0.0072973525693(14) dimensionless\n",
          "output_type": "stream"
        }
      ]
    },
    {
      "cell_type": "code",
      "source": "v.error_components()",
      "metadata": {},
      "execution_count": 52,
      "outputs": [
        {
          "execution_count": 52,
          "output_type": "execute_result",
          "data": {
            "text/plain": "{5.29177210903e-11+/-8e-21: 0.0001653654933408586,\n 9.1093837015e-31+/-2.8e-40: 0.00033622118350286025,\n 8.8541878128e-12+/-1.3e-21: 0.00016060189273511358,\n 1.602176634e-19+/-0: 0}"
          },
          "metadata": {}
        }
      ]
    },
    {
      "cell_type": "code",
      "source": "eqm = abs(konst('electron charge to mass quotient'))\n\npretty(eqm)\npretty(e / me)",
      "metadata": {},
      "execution_count": 53,
      "outputs": [
        {
          "name": "stdout",
          "text": "175882001076(53) coulomb / kilogram\n175882001077(54) coulomb / kilogram\n",
          "output_type": "stream"
        }
      ]
    },
    {
      "cell_type": "code",
      "source": "v = (eqm * e / 4/π/eps_0 / r)**(1/2)\npretty((v/c).to_base_units())",
      "metadata": {},
      "execution_count": 54,
      "outputs": [
        {
          "name": "stdout",
          "text": "0.0072973525693(13) dimensionless\n",
          "output_type": "stream"
        }
      ]
    },
    {
      "cell_type": "markdown",
      "source": "### Caso de estudio: comparación con Monte-Carlo.",
      "metadata": {}
    },
    {
      "cell_type": "code",
      "source": "er_F = 0.05; er_M = 0.03; er_m = 0.01; er_d = .05\nmu_F = 1e-8;\nmu_M = 3;\nmu_m = 0.05;\nmu_d = 0.032;\n\nF = mag(mu_F,100*er_F)\nM = mag(mu_M,100*er_M)\nm = mag(mu_m,100*er_m)\nd = mag(mu_d,100*er_d)",
      "metadata": {},
      "execution_count": 55,
      "outputs": []
    },
    {
      "cell_type": "code",
      "source": "pretty(F)\npretty(M)\npretty(m)\npretty(d)",
      "metadata": {},
      "execution_count": 56,
      "outputs": [
        {
          "name": "stdout",
          "text": "1.000(50)e-08\n3.000(90)\n0.05000(50)\n0.0320(16)\n",
          "output_type": "stream"
        }
      ]
    },
    {
      "cell_type": "code",
      "source": "G = d**2 * F / ( M * m )\n\npretty(G)\nprettyl(G)",
      "metadata": {},
      "execution_count": 57,
      "outputs": [
        {
          "name": "stdout",
          "text": "6.83(79)e-11\n(6.83±0.79)×10⁻¹¹\n",
          "output_type": "stream"
        }
      ]
    },
    {
      "cell_type": "markdown",
      "source": "Consistente con Monte-Carlo:",
      "metadata": {}
    },
    {
      "cell_type": "code",
      "source": "import numpy as np\nimport matplotlib.pyplot as plt\n\n%matplotlib inline",
      "metadata": {},
      "execution_count": 58,
      "outputs": []
    },
    {
      "cell_type": "code",
      "source": "sigma_F = er_F * mu_F\nsigma_M = er_M * mu_M\nsigma_m = er_m * mu_m\nsigma_d = er_d * mu_d\n\nN = 100000\nF = mu_F + sigma_F * np.random.randn( N )\nM = mu_M + sigma_M * np.random.randn( N )\nm = mu_m + sigma_m * np.random.randn( N )\nd = mu_d + sigma_d * np.random.randn( N )\n\nG = d**2 * F / ( M * m )\n\nplt.hist( G, 40, density = 1 );",
      "metadata": {},
      "execution_count": 59,
      "outputs": [
        {
          "output_type": "display_data",
          "data": {
            "text/plain": "<Figure size 640x480 with 1 Axes>",
            "image/png": "[encoded data removed]"
          },
          "metadata": {}
        }
      ]
    },
    {
      "cell_type": "code",
      "source": "np.mean(G)",
      "metadata": {},
      "execution_count": 60,
      "outputs": [
        {
          "execution_count": 60,
          "output_type": "execute_result",
          "data": {
            "text/plain": "6.850048028253596e-11"
          },
          "metadata": {}
        }
      ]
    },
    {
      "cell_type": "code",
      "source": "np.std(G)",
      "metadata": {},
      "execution_count": 61,
      "outputs": [
        {
          "execution_count": 61,
          "output_type": "execute_result",
          "data": {
            "text/plain": "7.972748862813758e-12"
          },
          "metadata": {}
        }
      ]
    },
    {
      "cell_type": "markdown",
      "source": "### Caso de estudio: período de una órbita",
      "metadata": {}
    },
    {
      "cell_type": "code",
      "source": "# Agrupamos aquí las utilidades de este tema\n\nimport numpy as np\n\nfrom pint import UnitRegistry\nu = UnitRegistry()\n\nfrom uncertainties import ufloat\n\ndef pretty(x):\n    print('{:.2uS}'.format(x))\n    \ndef prettyl(x):\n    print('{:.2uP}'.format(x))\n\ndef ɛ(v):\n    return v*ufloat(0,1)\n\ndef mag(v,ep):\n    return v * (1 + ɛ(ep/100))",
      "metadata": {},
      "execution_count": 62,
      "outputs": []
    },
    {
      "cell_type": "markdown",
      "source": "Partiendo de la distancia y la velocidad en un instante calculamos el período de la órbita propagando la incertidumbre. Usamos datos parecidos a los de la órbita de la Luna.",
      "metadata": {}
    },
    {
      "cell_type": "markdown",
      "source": "Velocidad:",
      "metadata": {}
    },
    {
      "cell_type": "code",
      "source": "v = mag(1 * u.kilometer / u.second, 3)\npretty(v)",
      "metadata": {},
      "execution_count": 63,
      "outputs": [
        {
          "name": "stdout",
          "text": "1.000(30) kilometer / second\n",
          "output_type": "stream"
        }
      ]
    },
    {
      "cell_type": "markdown",
      "source": "Distancia:",
      "metadata": {}
    },
    {
      "cell_type": "code",
      "source": "r = mag(384000 * u.kilometer, 1)\npretty(r)",
      "metadata": {},
      "execution_count": 64,
      "outputs": [
        {
          "name": "stdout",
          "text": "3.840(38)e+05 kilometer\n",
          "output_type": "stream"
        }
      ]
    },
    {
      "cell_type": "markdown",
      "source": "Parámetro gravitacional de La Tierra.",
      "metadata": {}
    },
    {
      "cell_type": "code",
      "source": "# GM Tierra\nmu = 3.986E14 *u.meter**3 / u.second**2",
      "metadata": {},
      "execution_count": 65,
      "outputs": []
    },
    {
      "cell_type": "markdown",
      "source": "Energía de la órbita:",
      "metadata": {}
    },
    {
      "cell_type": "code",
      "source": "e = v**2/2 - mu/r\n\nprint(e)\npretty(e.to(u.joule/u.kilogram))",
      "metadata": {},
      "execution_count": 66,
      "outputs": [
        {
          "name": "stdout",
          "text": "-0.538+/-0.032 kilometer ** 2 / second ** 2\n-5.38(32)e+05 joule / kilogram\n",
          "output_type": "stream"
        }
      ]
    },
    {
      "cell_type": "markdown",
      "source": "Semieje mayor:",
      "metadata": {}
    },
    {
      "cell_type": "code",
      "source": "a = -mu/2/e\n\nprint(a)\npretty(a.to(u.meter))",
      "metadata": {},
      "execution_count": 67,
      "outputs": [
        {
          "name": "stdout",
          "text": "(3.70+/-0.22)e+14 meter ** 3 / kilometer ** 2\n3.70(22)e+08 meter\n",
          "output_type": "stream"
        }
      ]
    },
    {
      "cell_type": "markdown",
      "source": "Período:",
      "metadata": {}
    },
    {
      "cell_type": "code",
      "source": "T = 2*np.pi*(a**3/mu)**(1/2)\n\nprint(T)\nprettyl(T.to(u.day))\nprint(f'{100*T.std_dev / T.nominal_value:.0f}%')",
      "metadata": {},
      "execution_count": 68,
      "outputs": [
        {
          "name": "stdout",
          "text": "(2.24+/-0.20)e+15 meter ** 3 * second / kilometer ** 3\n26.0+/-2.3 day\n9%\n",
          "output_type": "stream"
        }
      ]
    },
    {
      "cell_type": "markdown",
      "source": "El error en la velocidad se amplifica bastante.",
      "metadata": {}
    }
  ]
}
