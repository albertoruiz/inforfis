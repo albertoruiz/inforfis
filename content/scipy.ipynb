{
 "cells": [
  {
   "cell_type": "markdown",
   "metadata": {},
   "source": [
    "# Cálculo numérico"
   ]
  },
  {
   "cell_type": "markdown",
   "metadata": {},
   "source": [
    "En este capítulo presentamos brevemente algunas herramientas de cálculo numérico disponibles en [scipy](https://www.scipy.org/)."
   ]
  },
  {
   "cell_type": "markdown",
   "metadata": {},
   "source": [
    "## Raíces de polinomios"
   ]
  },
  {
   "cell_type": "markdown",
   "metadata": {},
   "source": [
    "En el tema dedicado a los *arrays* vimos algunas funciones de álgebra lineal numérica, entre las que destaca el solucionador de sistemas de ecuaciones lineales.\n",
    "\n",
    "Las ecuaciones no lineales son en general más complicadas de resolver porque normalmente requieren aproximaciones sucesivas. Sin embargo, las raíces de polinomios son un caso especial que puede resolverse [de forma directa](https://en.wikipedia.org/wiki/Companion_matrix). Para ello se utiliza la función `roots`, que calcula las raíces de un polinomio expresado mediante la lista de sus coeficientes en orden decreciente."
   ]
  },
  {
   "cell_type": "code",
   "execution_count": null,
   "metadata": {},
   "outputs": [],
   "source": [
    "import numpy as np\n",
    "import matplotlib.pyplot as plt"
   ]
  },
  {
   "cell_type": "markdown",
   "metadata": {},
   "source": [
    "Por ejemplo, para resolver la ecuación"
   ]
  },
  {
   "cell_type": "markdown",
   "metadata": {},
   "source": [
    "$$x^4=16$$"
   ]
  },
  {
   "cell_type": "markdown",
   "metadata": {},
   "source": [
    "la expresamos como un polinomio $p(x) = x^4- 16 = (1,0,0,0,-16) \\cdot (x^4, x^3, x^2, x^1, x^0) = 0$."
   ]
  },
  {
   "cell_type": "code",
   "execution_count": null,
   "metadata": {},
   "outputs": [],
   "source": [
    "np.roots([1,0,0,0,-16])"
   ]
  },
  {
   "cell_type": "markdown",
   "metadata": {},
   "source": [
    "Salvo ruido numérico, las soluciones obtenidas son $\\pm2, \\pm2i$."
   ]
  },
  {
   "cell_type": "markdown",
   "metadata": {},
   "source": [
    "Otro ejemplo: resuelve"
   ]
  },
  {
   "cell_type": "markdown",
   "metadata": {},
   "source": [
    "$$ x^3 -2 x^2 + 5x + 6 = 0$$"
   ]
  },
  {
   "cell_type": "code",
   "execution_count": null,
   "metadata": {},
   "outputs": [],
   "source": [
    "np.roots([1,-2,-5,6])"
   ]
  },
  {
   "cell_type": "markdown",
   "metadata": {},
   "source": [
    "## Solución numérica de ecuaciones no lineales"
   ]
  },
  {
   "cell_type": "markdown",
   "metadata": {},
   "source": [
    "Para resolver una ecuación cualquiera $f(x)=0$ tenemos que definir la función $f$ en Python de la forma usual y llamar a `fsolve` con un punto de partida."
   ]
  },
  {
   "cell_type": "code",
   "execution_count": null,
   "metadata": {},
   "outputs": [],
   "source": [
    "from scipy.optimize import fsolve"
   ]
  },
  {
   "cell_type": "markdown",
   "metadata": {},
   "source": [
    "Resuelve\n",
    "\n",
    "$$sin(x)+cos(2x)=0$$"
   ]
  },
  {
   "cell_type": "code",
   "execution_count": null,
   "metadata": {},
   "outputs": [],
   "source": [
    "def f(x):\n",
    "    return np.sin(x) + np.cos(2*x)\n",
    "\n",
    "fsolve(f, 0)"
   ]
  },
  {
   "cell_type": "markdown",
   "metadata": {},
   "source": [
    "Para hacer pruebas rápidas podemos definir sobre la marcha una función anónima."
   ]
  },
  {
   "cell_type": "code",
   "execution_count": null,
   "metadata": {},
   "outputs": [],
   "source": [
    "fsolve(lambda x: np.sin(x) + np.cos(2*x), 0)"
   ]
  },
  {
   "cell_type": "markdown",
   "metadata": {},
   "source": [
    "Otro ejemplo: resuelve la ecuación de Kepler $x - b \\sin(x)=a$ para $b=0.3$ y $a=0.4$."
   ]
  },
  {
   "cell_type": "code",
   "execution_count": null,
   "metadata": {},
   "outputs": [],
   "source": [
    "a = 0.4\n",
    "b = 0.3\n",
    "\n",
    "def f(x):\n",
    "    return x - b*np.sin(x) - a\n",
    "\n",
    "fsolve(f,0.2)"
   ]
  },
  {
   "cell_type": "markdown",
   "metadata": {},
   "source": [
    "Las funciones matemáticas se pueden importar de `math`, de `scipy` o de `numpy`."
   ]
  },
  {
   "cell_type": "markdown",
   "metadata": {},
   "source": [
    "El resolvedor `fsolve` admite sistemas de ecuaciones no lineales $\\vec f(\\vec x)=\\vec 0$. El proceso es el mismo: se define la función vectorial $f$ que describe el sistema de ecuaciones y se da un punto de partida para las incógnitas."
   ]
  },
  {
   "cell_type": "markdown",
   "metadata": {},
   "source": [
    "Resuelve\n",
    "\n",
    "$$\n",
    "\\begin{align*}\n",
    "x^2 - 3y &= 10\\\\\n",
    "sin(x)+y &= 5\n",
    "\\end{align*}\n",
    "$$"
   ]
  },
  {
   "cell_type": "code",
   "execution_count": null,
   "metadata": {
    "tags": []
   },
   "outputs": [],
   "source": [
    "def fun(z):\n",
    "    x,y = z\n",
    "    return [ x**2 - 3*y - 10\n",
    "           , np.sin(x) + y - 5]\n",
    "\n",
    "fsolve(fun,[0.1,-0.1])"
   ]
  },
  {
   "cell_type": "markdown",
   "metadata": {},
   "source": [
    "Las ecuaciones no lineales pueden tener varias soluciones. La que encuentra `fsolve` depende del punto de partida.  "
   ]
  },
  {
   "cell_type": "markdown",
   "metadata": {},
   "source": [
    "## Minimización"
   ]
  },
  {
   "cell_type": "markdown",
   "metadata": {},
   "source": [
    "Un problema muy común es encontrar el mínimo de una cierta función de varias variables:\n",
    "$\\DeclareMathOperator*{\\argmin}{argmin}\n",
    "\\argmin_{\\vec x}f(\\vec x)$. Para ello usamos `minimize`, que admite la función a minimizar y un punto de partida."
   ]
  },
  {
   "cell_type": "code",
   "execution_count": null,
   "metadata": {},
   "outputs": [],
   "source": [
    "from scipy.optimize import minimize"
   ]
  },
  {
   "cell_type": "markdown",
   "metadata": {},
   "source": [
    "Encuentra $(x,y)$ que minimiza $(x-1)^2 + (y-2)^2-x+3y$"
   ]
  },
  {
   "cell_type": "code",
   "execution_count": null,
   "metadata": {},
   "outputs": [],
   "source": [
    "def fun(z):\n",
    "    x,y = z\n",
    "    return (x-1)**2 + (y-2)**2 - x + 3*y\n",
    "\n",
    "minimize(fun,[0.1,-0.1])"
   ]
  },
  {
   "cell_type": "markdown",
   "metadata": {},
   "source": [
    "El resultado es un diccionario con información útil sobre el proceso de optimización."
   ]
  },
  {
   "cell_type": "markdown",
   "metadata": {},
   "source": [
    "Como este problema es solo de dos variables podemos ver en 3D la función y la posición del mínimo."
   ]
  },
  {
   "cell_type": "code",
   "execution_count": null,
   "metadata": {},
   "outputs": [],
   "source": [
    "from mpl_toolkits.mplot3d import Axes3D\n",
    "from matplotlib import cm\n",
    "\n",
    "r = np.linspace(0,2,30)\n",
    "x,y = np.meshgrid(r,r)\n",
    "\n",
    "fig = plt.figure()\n",
    "ax = fig.add_subplot(111, projection='3d')\n",
    "\n",
    "z = fun((x,y))\n",
    "\n",
    "ax.plot_surface(x,y,z, cmap=cm.coolwarm, linewidth=0.5, rstride=2, cstride=2);\n",
    "\n",
    "r = minimize(fun,[0.1,-0.1])\n",
    "\n",
    "xo,yo  = r['x']\n",
    "\n",
    "ax.plot3D([xo,xo],[yo,yo],[0,fun((xo,yo))],'.-');"
   ]
  },
  {
   "cell_type": "markdown",
   "metadata": {},
   "source": [
    "La función anterior es cuadrática y tiene un único mínimo local. Si la función tiene varios mínimos locales la solución dependerá del punto de partida:"
   ]
  },
  {
   "cell_type": "code",
   "execution_count": null,
   "metadata": {},
   "outputs": [],
   "source": [
    "def fun(z):\n",
    "    x,y = z\n",
    "    return np.cos(y)/(1+x**2)\n",
    "\n",
    "minimize(fun,[0.1,0.1])"
   ]
  },
  {
   "cell_type": "markdown",
   "metadata": {},
   "source": [
    "El mínimo encontrado es $(0,\\pi)$, pero si cambiamos ligeramente el punto de partida encontramos otro:"
   ]
  },
  {
   "cell_type": "code",
   "execution_count": null,
   "metadata": {},
   "outputs": [],
   "source": [
    "from mpl_toolkits.mplot3d import Axes3D\n",
    "from matplotlib import cm\n",
    "\n",
    "r = np.linspace(-5,5,100)\n",
    "x,y = np.meshgrid(r,r)\n",
    "\n",
    "fig = plt.figure(figsize=(8,6))\n",
    "ax = fig.add_subplot(111, projection='3d')\n",
    "\n",
    "z = fun((x,y))\n",
    "\n",
    "ax.plot_surface(x,y,z, cmap=cm.coolwarm, linewidth=0.5, rstride=2, cstride=2);\n",
    "\n",
    "r = minimize(fun,[0.1,-0.1])\n",
    "\n",
    "xo,yo  = r['x']\n",
    "\n",
    "ax.plot3D([xo,xo],[yo,yo],[0,fun((xo,yo))],'.-');\n",
    "ax.set_xlabel('x'); ax.set_ylabel('y'); ax.set_zlabel('f(x,y)');"
   ]
  },
  {
   "cell_type": "markdown",
   "metadata": {},
   "source": [
    "## Derivación numérica"
   ]
  },
  {
   "cell_type": "markdown",
   "metadata": {},
   "source": [
    "A veces deseamos calcular la derivada de una función cuya expresión analítica se desconoce o es muy complicada, pero que podemos evaluar porque la tenemos en forma de código. Una posibilidad es calcular una aproximación numérica. Para ello usaremos el paquete \n",
    "[numdifftools](https://media.readthedocs.org/pdf/numdifftools/latest/numdifftools.pdf)."
   ]
  },
  {
   "cell_type": "code",
   "execution_count": null,
   "metadata": {},
   "outputs": [],
   "source": [
    "# !pip install numdifftools\n",
    "\n",
    "import sys\n",
    "if 'pyodide' in sys.modules:\n",
    "    %pip install numdifftools"
   ]
  },
  {
   "cell_type": "markdown",
   "metadata": {},
   "source": [
    "Veamos un ejemplo. Calcula una aproximación numérica para $f'(2)$ cuando \n",
    "\n",
    "$$f(x) = \\sin(2x)*\\exp(\\cos(x))$$"
   ]
  },
  {
   "cell_type": "code",
   "execution_count": null,
   "metadata": {},
   "outputs": [],
   "source": [
    "from numpy import sin,cos, exp\n",
    "\n",
    "def f(x):\n",
    "    return np.sin(2*x)*np.exp(np.cos(x))"
   ]
  },
  {
   "cell_type": "markdown",
   "metadata": {},
   "source": [
    "El valor real es:"
   ]
  },
  {
   "cell_type": "code",
   "execution_count": null,
   "metadata": {},
   "outputs": [],
   "source": [
    "(lambda x: (-np.sin(x)*np.sin(2*x) + 2*np.cos(2*x))*np.exp(np.cos(x)))(2)"
   ]
  },
  {
   "cell_type": "code",
   "execution_count": null,
   "metadata": {},
   "outputs": [],
   "source": [
    "import numdifftools as nd\n",
    "\n",
    "df = nd.Derivative(f)\n",
    "\n",
    "df(2)"
   ]
  },
  {
   "cell_type": "code",
   "execution_count": null,
   "metadata": {},
   "outputs": [],
   "source": [
    "df = nd.Derivative(f, full_output=True, order=4)\n",
    "df(2)"
   ]
  },
  {
   "cell_type": "markdown",
   "metadata": {},
   "source": [
    "## Integración numérica"
   ]
  },
  {
   "cell_type": "markdown",
   "metadata": {},
   "source": [
    "Para calcular integrales definidas usamos `quad`."
   ]
  },
  {
   "cell_type": "code",
   "execution_count": null,
   "metadata": {},
   "outputs": [],
   "source": [
    "from scipy.integrate import quad"
   ]
  },
  {
   "cell_type": "markdown",
   "metadata": {},
   "source": [
    "Calcula una aproximación numérica a la integral definida\n",
    "\n",
    "$$\\int_0^1 \\frac{4}{1+x^2}dx$$"
   ]
  },
  {
   "cell_type": "code",
   "execution_count": null,
   "metadata": {},
   "outputs": [],
   "source": [
    "quad(lambda x: 4/(1+x**2),0,1)"
   ]
  },
  {
   "cell_type": "markdown",
   "metadata": {},
   "source": [
    "Devuelve el resultado y el error estimado."
   ]
  },
  {
   "cell_type": "markdown",
   "metadata": {},
   "source": [
    "## Ecuaciones diferenciales"
   ]
  },
  {
   "cell_type": "markdown",
   "metadata": {},
   "source": [
    "Hemos dedicado otro tema a la solución numérica de ecuaciones diferenciales. Aquí simplemente recordamos la forma de usar `odeint` con el ejemplo de un oscilador armónico con amortiguamiento."
   ]
  },
  {
   "cell_type": "markdown",
   "metadata": {},
   "source": [
    "Resuelve\n",
    "\n",
    "$$\\ddot{x}+0.95x+0.1\\dot{x}=0$$\n",
    "\n",
    "para $x(0)=10$, $\\dot{x}(0)=0, t\\in[0,20]$"
   ]
  },
  {
   "cell_type": "code",
   "execution_count": null,
   "metadata": {},
   "outputs": [],
   "source": [
    "from scipy.integrate import odeint\n",
    "\n",
    "def zdot(z,t):\n",
    "    x,v = z\n",
    "    return [v,-0.95*x-0.1*v]\n",
    "\n",
    "t = np.linspace(0,20,1000)\n",
    "x,v = odeint(zdot,[10,0],t).T\n",
    "plt.plot(t,x,t,v);"
   ]
  },
  {
   "cell_type": "code",
   "execution_count": null,
   "metadata": {},
   "outputs": [],
   "source": [
    "plt.plot(x,v);\n",
    "plt.axis('equal');"
   ]
  }
 ],
 "metadata": {
  "hide_input": false,
  "kernelspec": {
   "display_name": "Python 3 (ipykernel)",
   "language": "python",
   "name": "python3"
  },
  "language_info": {
   "codemirror_mode": {
    "name": "ipython",
    "version": 3
   },
   "file_extension": ".py",
   "mimetype": "text/x-python",
   "name": "python",
   "nbconvert_exporter": "python",
   "pygments_lexer": "ipython3",
   "version": "3.11.9"
  },
  "varInspector": {
   "cols": {
    "lenName": 16,
    "lenType": 16,
    "lenVar": 40
   },
   "kernels_config": {
    "python": {
     "delete_cmd_postfix": "",
     "delete_cmd_prefix": "del ",
     "library": "var_list.py",
     "varRefreshCmd": "print(var_dic_list())"
    },
    "r": {
     "delete_cmd_postfix": ") ",
     "delete_cmd_prefix": "rm(",
     "library": "var_list.r",
     "varRefreshCmd": "cat(var_dic_list()) "
    }
   },
   "position": {
    "height": "335px",
    "left": "1076.67px",
    "right": "71px",
    "top": "110px",
    "width": "319px"
   },
   "types_to_exclude": [
    "module",
    "function",
    "builtin_function_or_method",
    "instance",
    "_Feature"
   ],
   "window_display": false
  }
 },
 "nbformat": 4,
 "nbformat_minor": 4
}
