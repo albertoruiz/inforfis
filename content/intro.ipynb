{
  "metadata": {
    "language_info": {
      "codemirror_mode": {
        "name": "python",
        "version": 3
      },
      "file_extension": ".py",
      "mimetype": "text/x-python",
      "name": "python",
      "nbconvert_exporter": "python",
      "pygments_lexer": "ipython3",
      "version": "3.8"
    },
    "kernelspec": {
      "name": "python",
      "display_name": "Python (Pyodide)",
      "language": "python"
    }
  },
  "nbformat_minor": 4,
  "nbformat": 4,
  "cells": [
    {
      "cell_type": "markdown",
      "source": "<p style=\"background:#eeeeee\">\nInformática - 1º de Física\n<br>\n<strong>Introducción a la Programación</strong>\n</p>",
      "metadata": {}
    },
    {
      "cell_type": "markdown",
      "source": "## Tema 1. Primeros pasos",
      "metadata": {
        "tags": []
      }
    },
    {
      "cell_type": "markdown",
      "source": "El punto de partida es instalar en nuestro ordenador el lenguaje de programación que vamos a utilizar y algunas herramientas auxiliares. Una vez hecho esto, existen diferentes formas de trabajar:\n\n- Editor y terminal.\n\n- IDE (entorno integrado de programación).\n\n- Notebook interactivo.\n\nEn su momento haremos ejercicios para familiarizarnos con las dos primeras pero la mayoría de las explicaciones las haremos utilizando los *jupyter notebooks*. De esta manera podemos crear documentos de referencia con todo lo que vamos aprendiendo.\n\nA partir de aquí suponemos que conocemos los comandos de edición básicos de los notebooks, que se explican en la primera clase de prácticas.\n\nSe recomienda crear una carpeta en tu ordenador para guardar todos los documentos que se vayan creando en la asignatura.",
      "metadata": {}
    },
    {
      "cell_type": "markdown",
      "source": "### Aritmética elemental",
      "metadata": {}
    },
    {
      "cell_type": "markdown",
      "source": "Igual que una calculadora, un ordenador es capaz de hacer operaciones aritméticas:",
      "metadata": {}
    },
    {
      "cell_type": "code",
      "source": "3+2",
      "metadata": {
        "trusted": true
      },
      "execution_count": 1,
      "outputs": [
        {
          "execution_count": 1,
          "output_type": "execute_result",
          "data": {
            "text/plain": "5"
          },
          "metadata": {}
        }
      ]
    },
    {
      "cell_type": "markdown",
      "source": "Los símbolos de las operaciones son más o menos intuitivos: `+`, `-`, `*`, `/`, y la precedencia es la usual en matemáticas.",
      "metadata": {}
    },
    {
      "cell_type": "code",
      "source": "2 + 3 * 5",
      "metadata": {
        "trusted": true
      },
      "execution_count": 2,
      "outputs": [
        {
          "execution_count": 2,
          "output_type": "execute_result",
          "data": {
            "text/plain": "17"
          },
          "metadata": {}
        }
      ]
    },
    {
      "cell_type": "markdown",
      "source": "Los espacios no influyen. Usamos paréntesis para agrupar de la forma deseada:",
      "metadata": {}
    },
    {
      "cell_type": "code",
      "source": "(2+3) *  5-4",
      "metadata": {
        "trusted": true
      },
      "execution_count": 3,
      "outputs": [
        {
          "execution_count": 3,
          "output_type": "execute_result",
          "data": {
            "text/plain": "21"
          },
          "metadata": {}
        }
      ]
    },
    {
      "cell_type": "markdown",
      "source": "La potencia se expresa con el símbolo `**`.",
      "metadata": {}
    },
    {
      "cell_type": "code",
      "source": "2**10",
      "metadata": {
        "trusted": true
      },
      "execution_count": 4,
      "outputs": [
        {
          "execution_count": 4,
          "output_type": "execute_result",
          "data": {
            "text/plain": "1024"
          },
          "metadata": {}
        }
      ]
    },
    {
      "cell_type": "markdown",
      "source": "En programación es muy importante distinguir entre números enteros y números reales. Los enteros son matemáticamente exactos, mientras que los reales son aproximaciones con una cantidad finita de decimales.",
      "metadata": {}
    },
    {
      "cell_type": "code",
      "source": "2**(1/2)",
      "metadata": {
        "trusted": true
      },
      "execution_count": 5,
      "outputs": [
        {
          "execution_count": 5,
          "output_type": "execute_result",
          "data": {
            "text/plain": "1.4142135623730951"
          },
          "metadata": {}
        }
      ]
    },
    {
      "cell_type": "markdown",
      "source": "En algunos lenguajes los enteros tienen un tamaño limitado, como ocurre en las calculadoras. Pero en Python los enteros pueden ser de cualquier tamaño. El único límite es la memoria disponible en el ordenador.",
      "metadata": {}
    },
    {
      "cell_type": "code",
      "source": "13**200",
      "metadata": {
        "trusted": true
      },
      "execution_count": 6,
      "outputs": [
        {
          "execution_count": 6,
          "output_type": "execute_result",
          "data": {
            "text/plain": "6147102592468651336192412089282069174074558674790952240521262267958019995940288912789820651282318338938794713404346722691907328564818184457431599939243408750167870757463938171866175799570066146915175087199725900885179188001"
          },
          "metadata": {}
        }
      ]
    },
    {
      "cell_type": "markdown",
      "source": "El símbolo de división `/` se refiere a la división real:",
      "metadata": {}
    },
    {
      "cell_type": "code",
      "source": "10 / 2",
      "metadata": {
        "trusted": true
      },
      "execution_count": 7,
      "outputs": [
        {
          "execution_count": 7,
          "output_type": "execute_result",
          "data": {
            "text/plain": "5.0"
          },
          "metadata": {}
        }
      ]
    },
    {
      "cell_type": "code",
      "source": "11 / 2",
      "metadata": {
        "trusted": true
      },
      "execution_count": 8,
      "outputs": [
        {
          "execution_count": 8,
          "output_type": "execute_result",
          "data": {
            "text/plain": "5.5"
          },
          "metadata": {}
        }
      ]
    },
    {
      "cell_type": "markdown",
      "source": "El cociente y el resto de la división entera utilizan respectívamente los símbolos `//` y `%`: ",
      "metadata": {}
    },
    {
      "cell_type": "code",
      "source": "11 // 2",
      "metadata": {
        "trusted": true
      },
      "execution_count": 9,
      "outputs": [
        {
          "execution_count": 9,
          "output_type": "execute_result",
          "data": {
            "text/plain": "5"
          },
          "metadata": {}
        }
      ]
    },
    {
      "cell_type": "code",
      "source": "11 % 2",
      "metadata": {
        "trusted": true
      },
      "execution_count": 10,
      "outputs": [
        {
          "execution_count": 10,
          "output_type": "execute_result",
          "data": {
            "text/plain": "1"
          },
          "metadata": {}
        }
      ]
    },
    {
      "cell_type": "code",
      "source": "abs( 5.0 - 8 )",
      "metadata": {
        "trusted": true
      },
      "execution_count": 11,
      "outputs": [
        {
          "execution_count": 11,
          "output_type": "execute_result",
          "data": {
            "text/plain": "3.0"
          },
          "metadata": {}
        }
      ]
    },
    {
      "cell_type": "markdown",
      "source": "Los números reales que se utilizan normalmente son aproximaciones de \"coma flotante\" de \"doble precisión\" (64bits) que tienen 15 decimales y un exponente hasta $\\pm 308$.\n\nLa notación científica $a\\times 10^b$ se indica con la letra `e`.",
      "metadata": {}
    },
    {
      "cell_type": "code",
      "source": "2.5e3",
      "metadata": {
        "trusted": true
      },
      "execution_count": 12,
      "outputs": [
        {
          "execution_count": 12,
          "output_type": "execute_result",
          "data": {
            "text/plain": "2500.0"
          },
          "metadata": {}
        }
      ]
    },
    {
      "cell_type": "code",
      "source": "1e-2",
      "metadata": {
        "trusted": true
      },
      "execution_count": 13,
      "outputs": [
        {
          "execution_count": 13,
          "output_type": "execute_result",
          "data": {
            "text/plain": "0.01"
          },
          "metadata": {}
        }
      ]
    },
    {
      "cell_type": "code",
      "source": "2.37e18 ** 5.1",
      "metadata": {
        "trusted": true
      },
      "execution_count": 14,
      "outputs": [
        {
          "execution_count": 14,
          "output_type": "execute_result",
          "data": {
            "text/plain": "5.143000477600881e+93"
          },
          "metadata": {}
        }
      ]
    },
    {
      "cell_type": "markdown",
      "source": "Debido a que los números reales tienen un número fijo de decimales las operaciones suelen producir errores de redondeo:",
      "metadata": {}
    },
    {
      "cell_type": "code",
      "source": "10/3",
      "metadata": {
        "trusted": true
      },
      "execution_count": 15,
      "outputs": [
        {
          "execution_count": 15,
          "output_type": "execute_result",
          "data": {
            "text/plain": "3.3333333333333335"
          },
          "metadata": {}
        }
      ]
    },
    {
      "cell_type": "code",
      "source": "0.1 + 0.2",
      "metadata": {
        "trusted": true
      },
      "execution_count": 16,
      "outputs": [
        {
          "execution_count": 16,
          "output_type": "execute_result",
          "data": {
            "text/plain": "0.30000000000000004"
          },
          "metadata": {}
        }
      ]
    },
    {
      "cell_type": "markdown",
      "source": "### Bibliotecas de funciones",
      "metadata": {}
    },
    {
      "cell_type": "markdown",
      "source": "El lenguaje Python posee un número enorme de funciones y operaciones disponibles que están organizadas en una gran biblioteca estructurada por \"módulos\". Por ejemplo, las funciones matemáticas (trigonométricas, logaritmos, etc.) están en el módulo `numpy`.\n\nPara utilizar funciones de un módulo debemos \"importarlas\" (hacerlas visibles) con una instrucción como la siguiente:",
      "metadata": {}
    },
    {
      "cell_type": "code",
      "source": "import numpy as np",
      "metadata": {
        "trusted": true
      },
      "execution_count": 17,
      "outputs": []
    },
    {
      "cell_type": "code",
      "source": "np.sin(np.pi/6)",
      "metadata": {
        "trusted": true
      },
      "execution_count": 18,
      "outputs": [
        {
          "execution_count": 18,
          "output_type": "execute_result",
          "data": {
            "text/plain": "0.49999999999999994"
          },
          "metadata": {}
        }
      ]
    },
    {
      "cell_type": "code",
      "source": "np.cos(0)",
      "metadata": {
        "trusted": true
      },
      "execution_count": 19,
      "outputs": [
        {
          "execution_count": 19,
          "output_type": "execute_result",
          "data": {
            "text/plain": "1.0"
          },
          "metadata": {}
        }
      ]
    },
    {
      "cell_type": "code",
      "source": "np.log(10)",
      "metadata": {
        "trusted": true
      },
      "execution_count": 20,
      "outputs": [
        {
          "execution_count": 20,
          "output_type": "execute_result",
          "data": {
            "text/plain": "2.302585092994046"
          },
          "metadata": {}
        }
      ]
    },
    {
      "cell_type": "markdown",
      "source": "Es muy conveniente estar familiarizado con las funciones disponibles en los módulos relacionados con nuestro ámbito de aplicación (principalmente `numpy`, `scipy`, `matplotlib` y `pandas`). No hay que aprender nada de memoria sino tener a mano la documentación, que está disponible online  (p. ej. [aquí tenemos](\nhttps://docs.python.org/3/library/math.html) las funciones disponibles en `math`) y localmente con la función `help`. En el menú \"Help\" del notebook hay enlaces a los módulos más importantes. En cualquier caso una búsqueda en google nos lleva rápidamente a la función deseada.",
      "metadata": {}
    },
    {
      "cell_type": "markdown",
      "source": "Con lo visto hasta ahora podemos usar el lenguaje Python como una calculadora. A partir de aquí iremos introduciendo la capacidad de programar las operaciones. ",
      "metadata": {}
    },
    {
      "cell_type": "markdown",
      "source": "### Secuencia de instrucciones",
      "metadata": {}
    },
    {
      "cell_type": "markdown",
      "source": "Python evalúa una detrás de otra todas las expresiones que encuentra. Pero el notebook solo muestra el resultado de la última que aparece en la celda:",
      "metadata": {}
    },
    {
      "cell_type": "code",
      "source": "1 + 1\n\n2 + 3\n\n5 * 2",
      "metadata": {
        "trusted": true
      },
      "execution_count": 21,
      "outputs": [
        {
          "execution_count": 21,
          "output_type": "execute_result",
          "data": {
            "text/plain": "10"
          },
          "metadata": {}
        }
      ]
    },
    {
      "cell_type": "markdown",
      "source": "Si queremos ver todos los resultados utilizamos la función `print`:",
      "metadata": {}
    },
    {
      "cell_type": "code",
      "source": "print(1 + 1)\n\nprint(2 + 3)\n\nprint(5 * 2)",
      "metadata": {
        "trusted": true
      },
      "execution_count": 22,
      "outputs": [
        {
          "name": "stdout",
          "text": "2\n5\n10\n",
          "output_type": "stream"
        }
      ]
    },
    {
      "cell_type": "markdown",
      "source": "### Nombres",
      "metadata": {}
    },
    {
      "cell_type": "markdown",
      "source": "Un aspecto fundamental en la programación consiste en ponerle nombres a los números y otros tipos de datos con los que estamos trabajando. Para ello, Python (y la mayoría de lenguajes) usa el símbolo `=`. Por ejemplo, si hacemos lo siguiente",
      "metadata": {}
    },
    {
      "cell_type": "code",
      "source": "a = 5\n\nz = 1/2 + 3*a",
      "metadata": {
        "trusted": true
      },
      "execution_count": 23,
      "outputs": []
    },
    {
      "cell_type": "markdown",
      "source": "entonces los nombres `a` y `z` queda definidos con los siguientes valores:",
      "metadata": {}
    },
    {
      "cell_type": "code",
      "source": "a",
      "metadata": {
        "trusted": true
      },
      "execution_count": 24,
      "outputs": [
        {
          "execution_count": 24,
          "output_type": "execute_result",
          "data": {
            "text/plain": "5"
          },
          "metadata": {}
        }
      ]
    },
    {
      "cell_type": "code",
      "source": "z",
      "metadata": {
        "trusted": true
      },
      "execution_count": 25,
      "outputs": [
        {
          "execution_count": 25,
          "output_type": "execute_result",
          "data": {
            "text/plain": "15.5"
          },
          "metadata": {}
        }
      ]
    },
    {
      "cell_type": "markdown",
      "source": "La elección del signo `=` no es muy afortunada, ya que esta acción no tiene mucho que ver con el concepto de igualdad matemática. (Otros lenguajes usan signos más intuitivos como `<-` o `:=` para esta operación.)\n\nCuando veamos expresiones como `z = 1/2 + 3*a`  no tenemos que pensar en ningún momento en ecuaciones matemáticas. Nada más lejos de la realidad. Simplemente se da un nombre al **resultado** de evaluar la expresión. Podríamos decir que estamos \"definiendo\" un nombre, pero este término también puede inducir a confusión, ya que el nombre queda asignado al valor final de la expresión, y no a la expresión en sí. Cada vez que aparezca `z` en el programa se sustituirá automáticamente por `15.5`. No se sustituye por `1/2 + 3*a`. \n\nEste matiz es importante debido a que los nombres se pueden redefinir. Observa la siguiente secuencia de definiciones:",
      "metadata": {}
    },
    {
      "cell_type": "code",
      "source": "a = 5\n\nb = 2*a\n\na = 7\n\nb",
      "metadata": {
        "trusted": true
      },
      "execution_count": 26,
      "outputs": [
        {
          "execution_count": 26,
          "output_type": "execute_result",
          "data": {
            "text/plain": "10"
          },
          "metadata": {}
        }
      ]
    },
    {
      "cell_type": "markdown",
      "source": "Recuerda que las expresiones se evalúan una detrás de otra. La última de ellas, `b` tiene el valor `10` a pesar de que se ha definido como `b = 2*a` y que justo antes se ha redefinido `a` como `a=7`. El cambio en un nombre no afecta a los demás que dependen de él. No se recalcula nada. ",
      "metadata": {}
    },
    {
      "cell_type": "markdown",
      "source": "Más adelante explicaremos cómo hacer verdaderas definiciones en las que unos símbolos dependen de otros. Por el momento podemos pensar en la idea de almacenar en memoria un dato que podemos recuperar cómodamente mediante un nombre.",
      "metadata": {}
    },
    {
      "cell_type": "markdown",
      "source": "En algunos lenguajes se dice que hemos \"almacenado un valor en una variable\", o que hemos \"asignado un valor\". Tampoco es lo ideal porque la palabra \"variable\" puede inducir a confusión con las variables matemáticas. (Y no causa buena impresión almacenar constantes como por ejemplo el número $\\pi$ dentro variables...)",
      "metadata": {}
    },
    {
      "cell_type": "markdown",
      "source": "No hay ningún problema en redefinir una variable usando su valor anterior. Esto puede dar lugar a expresiones aparentemente absurdas como:",
      "metadata": {}
    },
    {
      "cell_type": "code",
      "source": "b = b + 5",
      "metadata": {
        "trusted": true
      },
      "execution_count": 27,
      "outputs": []
    },
    {
      "cell_type": "markdown",
      "source": "Simplemente tenemos que recordar que lo anterior no es una ecuación sino una **redefinición**, cuyo efecto es sustituir del valor de `b`, que antes era `10`, por `15`. ",
      "metadata": {}
    },
    {
      "cell_type": "markdown",
      "source": "Esta operación se puede abreviar como `b += 5`.",
      "metadata": {}
    },
    {
      "cell_type": "markdown",
      "source": "Cuando se redefine un nombre el valor que tenía previamente se olvida de forma irrecuperable.",
      "metadata": {}
    },
    {
      "cell_type": "markdown",
      "source": "Para hacer una definición el nombre (cualquier palabra que empiece por una letra) se pone a la izquierda del signo `=` y a la derecha se pone la expresión deseada, donde pueden aparecer nombres previamente definidos. Por tanto, lo siguiente es incorrecto:",
      "metadata": {}
    },
    {
      "cell_type": "code",
      "source": "1 + 1 = c",
      "metadata": {
        "trusted": true
      },
      "execution_count": 28,
      "outputs": [
        {
          "ename": "<class 'SyntaxError'>",
          "evalue": "cannot assign to expression here. Maybe you meant '==' instead of '='? (<ipython-input-28-bfcb07cbd8e2>, line 1)",
          "traceback": [
            "\u001b[0;36m  Cell \u001b[0;32mIn[28], line 1\u001b[0;36m\u001b[0m\n\u001b[0;31m    1 + 1 = c\u001b[0m\n\u001b[0m    ^\u001b[0m\n\u001b[0;31mSyntaxError\u001b[0m\u001b[0;31m:\u001b[0m cannot assign to expression here. Maybe you meant '==' instead of '='?\n"
          ],
          "output_type": "error"
        }
      ]
    },
    {
      "cell_type": "code",
      "source": "c = 3*x + 5",
      "metadata": {
        "trusted": true
      },
      "execution_count": 29,
      "outputs": [
        {
          "ename": "<class 'NameError'>",
          "evalue": "name 'x' is not defined",
          "traceback": [
            "\u001b[0;31m---------------------------------------------------------------------------\u001b[0m",
            "\u001b[0;31mNameError\u001b[0m                                 Traceback (most recent call last)",
            "Cell \u001b[0;32mIn[29], line 1\u001b[0m\n\u001b[0;32m----> 1\u001b[0m c \u001b[38;5;241m=\u001b[39m \u001b[38;5;241m3\u001b[39m\u001b[38;5;241m*\u001b[39m\u001b[43mx\u001b[49m \u001b[38;5;241m+\u001b[39m \u001b[38;5;241m5\u001b[39m\n",
            "\u001b[0;31mNameError\u001b[0m: name 'x' is not defined"
          ],
          "output_type": "error"
        }
      ]
    },
    {
      "cell_type": "markdown",
      "source": "Es conveniente elegir nombres descriptivos o abreviaturas para indicar el papel que juega cada dato en el programa.",
      "metadata": {}
    },
    {
      "cell_type": "code",
      "source": "masa = 10\nvelocidad_inicial = 8.5\npos = 5\n\nα  = np.pi/4",
      "metadata": {
        "trusted": true
      },
      "execution_count": 30,
      "outputs": []
    },
    {
      "cell_type": "markdown",
      "source": "Es una cuestión de gusto personal, pero siempre se recomienda la claridad y la sencillez.",
      "metadata": {}
    },
    {
      "cell_type": "markdown",
      "source": "### Estado de la computación",
      "metadata": {}
    },
    {
      "cell_type": "markdown",
      "source": "Cuando el ordenador \"ejecuta\" un programa (o Python evalúa celdas de código) ocurre lo siguiente:\n\n- En todo momento existe un *estado* de la computación, que es simplemente un conjunto de datos con sus correspondientes nombres (inicialmente vacío).\n\n- Algunas instrucciones cambian elementos del estado. Otras no, aunque sí actúan sobre el \"mundo exterior\" (por ejemplo, mostrando algo en la pantalla). El efecto producido por una instrucción depende del estado anterior.\n\nUna computación es la secuencia de estados producida por las sucesivas instrucciones del programa. El *resultado* de la computación es el estado final.",
      "metadata": {}
    },
    {
      "cell_type": "markdown",
      "source": "Por ejemplo:",
      "metadata": {}
    },
    {
      "cell_type": "code",
      "source": "# Instrucción       Estado\n                #   {}\na = 5\n                #   { a:5 }\nb = 2*a\n                #   { a:5 , b:10 }\nprint(b)\n                #   { a:5 , b:10 }\na = 7\n                #   { a:7 , b:10 }\nb += 2\n                #   { a:7 , b:12 }\na+b\n                #   { a:7 , b:12 }\na-b\n                #   { a:7 , b:12 }",
      "metadata": {
        "trusted": true
      },
      "execution_count": 31,
      "outputs": [
        {
          "name": "stdout",
          "text": "10\n",
          "output_type": "stream"
        },
        {
          "execution_count": 31,
          "output_type": "execute_result",
          "data": {
            "text/plain": "-5"
          },
          "metadata": {}
        }
      ]
    },
    {
      "cell_type": "markdown",
      "source": "La instrucción `print` de la línea 7 escribe `10` en la pantalla (o notebook). La línea 13 realiza una operación pero no tiene ningún efecto observable. El resultado se descarta. La línea 15 sí imprime el resultado `-5` por ser la última (esto es un convenio de los notebooks para ahorrar la instrucción `print`).",
      "metadata": {}
    },
    {
      "cell_type": "markdown",
      "source": "Los herramientas de programación suelen tener una ventana para mostrar en todo momento el valor de las variables definidas. En los jupyter notebooks esto se consigue con la extensión \"variable inspector\".",
      "metadata": {}
    },
    {
      "cell_type": "markdown",
      "source": "### Tipos de datos",
      "metadata": {}
    },
    {
      "cell_type": "markdown",
      "source": "Un concepto esencial en programación es el de **tipo** de un dato. Intuitivamente, podemos pensar en un conjunto de valores posibles. Un buen ejemplo son los tipos numéricos, que tratan de imitar a los conjuntos matemáticos usuales $\\mathbb Z$, $\\mathbb Q$, $\\mathbb R$, $\\mathbb C$, etc.",
      "metadata": {}
    },
    {
      "cell_type": "markdown",
      "source": "Hasta el momento hemos visto datos enteros (tipo `int`) y reales (tipo `float`) pero los ordenadores pueden \ntrabajar con muchos otros tipos de información. La función `type` sirve para consultar de qué tipo es un dato:",
      "metadata": {}
    },
    {
      "cell_type": "code",
      "source": "type(17)",
      "metadata": {
        "trusted": true
      },
      "execution_count": 32,
      "outputs": [
        {
          "execution_count": 32,
          "output_type": "execute_result",
          "data": {
            "text/plain": "int"
          },
          "metadata": {}
        }
      ]
    },
    {
      "cell_type": "code",
      "source": "b = -2/3\n\ntype(b)",
      "metadata": {
        "trusted": true
      },
      "execution_count": 33,
      "outputs": [
        {
          "execution_count": 33,
          "output_type": "execute_result",
          "data": {
            "text/plain": "float"
          },
          "metadata": {}
        }
      ]
    },
    {
      "cell_type": "code",
      "source": "type(2+3j)",
      "metadata": {
        "tags": [],
        "trusted": true
      },
      "execution_count": 34,
      "outputs": [
        {
          "execution_count": 34,
          "output_type": "execute_result",
          "data": {
            "text/plain": "complex"
          },
          "metadata": {}
        }
      ]
    },
    {
      "cell_type": "code",
      "source": "type('hola')",
      "metadata": {
        "trusted": true
      },
      "execution_count": 35,
      "outputs": [
        {
          "execution_count": 35,
          "output_type": "execute_result",
          "data": {
            "text/plain": "str"
          },
          "metadata": {}
        }
      ]
    },
    {
      "cell_type": "markdown",
      "source": "### Redondeo",
      "metadata": {}
    },
    {
      "cell_type": "code",
      "source": "round(3.6)",
      "metadata": {
        "trusted": true
      },
      "execution_count": 36,
      "outputs": [
        {
          "execution_count": 36,
          "output_type": "execute_result",
          "data": {
            "text/plain": "4"
          },
          "metadata": {}
        }
      ]
    },
    {
      "cell_type": "code",
      "source": "round( 2**0.5, 3 )",
      "metadata": {
        "trusted": true
      },
      "execution_count": 37,
      "outputs": [
        {
          "execution_count": 37,
          "output_type": "execute_result",
          "data": {
            "text/plain": "1.414"
          },
          "metadata": {}
        }
      ]
    },
    {
      "cell_type": "code",
      "source": "np.ceil(3.2)",
      "metadata": {
        "trusted": true
      },
      "execution_count": 38,
      "outputs": [
        {
          "execution_count": 38,
          "output_type": "execute_result",
          "data": {
            "text/plain": "4.0"
          },
          "metadata": {}
        }
      ]
    },
    {
      "cell_type": "code",
      "source": "np.floor(3.9)",
      "metadata": {
        "trusted": true
      },
      "execution_count": 39,
      "outputs": [
        {
          "execution_count": 39,
          "output_type": "execute_result",
          "data": {
            "text/plain": "3.0"
          },
          "metadata": {}
        }
      ]
    },
    {
      "cell_type": "code",
      "source": "np.sign(-2.7)",
      "metadata": {
        "trusted": true
      },
      "execution_count": 40,
      "outputs": [
        {
          "execution_count": 40,
          "output_type": "execute_result",
          "data": {
            "text/plain": "-1.0"
          },
          "metadata": {}
        }
      ]
    },
    {
      "cell_type": "markdown",
      "source": "### Grados y radianes",
      "metadata": {}
    },
    {
      "cell_type": "code",
      "source": "np.degrees(np.pi/2)",
      "metadata": {
        "trusted": true
      },
      "execution_count": 41,
      "outputs": [
        {
          "execution_count": 41,
          "output_type": "execute_result",
          "data": {
            "text/plain": "90.0"
          },
          "metadata": {}
        }
      ]
    },
    {
      "cell_type": "code",
      "source": "np.sin(np.radians(30))",
      "metadata": {
        "trusted": true
      },
      "execution_count": 42,
      "outputs": [
        {
          "execution_count": 42,
          "output_type": "execute_result",
          "data": {
            "text/plain": "0.49999999999999994"
          },
          "metadata": {}
        }
      ]
    },
    {
      "cell_type": "markdown",
      "source": "### Números complejos",
      "metadata": {}
    },
    {
      "cell_type": "markdown",
      "source": "Las constantes imaginarias se introducen añadiendo la letra `j`:",
      "metadata": {}
    },
    {
      "cell_type": "code",
      "source": "3j ** 2",
      "metadata": {
        "trusted": true
      },
      "execution_count": 43,
      "outputs": [
        {
          "execution_count": 43,
          "output_type": "execute_result",
          "data": {
            "text/plain": "(-9+0j)"
          },
          "metadata": {}
        }
      ]
    },
    {
      "cell_type": "code",
      "source": "a = 2+3j\n\nnp.cos(a)",
      "metadata": {
        "trusted": true
      },
      "execution_count": 44,
      "outputs": [
        {
          "execution_count": 44,
          "output_type": "execute_result",
          "data": {
            "text/plain": "(-4.189625690968807-9.109227893755337j)"
          },
          "metadata": {}
        }
      ]
    },
    {
      "cell_type": "code",
      "source": "np.cos(a)**2 + np.sin(a)**2",
      "metadata": {
        "trusted": true
      },
      "execution_count": 45,
      "outputs": [
        {
          "execution_count": 45,
          "output_type": "execute_result",
          "data": {
            "text/plain": "(1-1.4210854715202004e-14j)"
          },
          "metadata": {}
        }
      ]
    },
    {
      "cell_type": "code",
      "source": "np.sqrt(-25)",
      "metadata": {
        "trusted": true
      },
      "execution_count": 46,
      "outputs": [
        {
          "execution_count": 46,
          "output_type": "execute_result",
          "data": {
            "text/plain": "nan"
          },
          "metadata": {}
        }
      ]
    },
    {
      "cell_type": "code",
      "source": "np.sqrt(-25+0j)",
      "metadata": {
        "trusted": true
      },
      "execution_count": 47,
      "outputs": [
        {
          "execution_count": 47,
          "output_type": "execute_result",
          "data": {
            "text/plain": "5j"
          },
          "metadata": {}
        }
      ]
    },
    {
      "cell_type": "code",
      "source": "np.sqrt(complex(-25))",
      "metadata": {
        "trusted": true
      },
      "execution_count": 48,
      "outputs": [
        {
          "execution_count": 48,
          "output_type": "execute_result",
          "data": {
            "text/plain": "5j"
          },
          "metadata": {}
        }
      ]
    },
    {
      "cell_type": "markdown",
      "source": "### Secuencias (*arrays*) de números",
      "metadata": {
        "tags": []
      }
    },
    {
      "cell_type": "markdown",
      "source": "Muchas operaciones matemáticas se pueden efectuar automáticamente con secuencias de números.",
      "metadata": {}
    },
    {
      "cell_type": "code",
      "source": "np.array([3, 5, -2, 8])",
      "metadata": {
        "trusted": true
      },
      "execution_count": 49,
      "outputs": [
        {
          "execution_count": 49,
          "output_type": "execute_result",
          "data": {
            "text/plain": "array([ 3,  5, -2,  8])"
          },
          "metadata": {}
        }
      ]
    },
    {
      "cell_type": "code",
      "source": "np.linspace(1, 5, 9)",
      "metadata": {
        "trusted": true
      },
      "execution_count": 50,
      "outputs": [
        {
          "execution_count": 50,
          "output_type": "execute_result",
          "data": {
            "text/plain": "array([1. , 1.5, 2. , 2.5, 3. , 3.5, 4. , 4.5, 5. ])"
          },
          "metadata": {}
        }
      ]
    },
    {
      "cell_type": "code",
      "source": "np.arange(7)",
      "metadata": {
        "trusted": true
      },
      "execution_count": 51,
      "outputs": [
        {
          "execution_count": 51,
          "output_type": "execute_result",
          "data": {
            "text/plain": "array([0, 1, 2, 3, 4, 5, 6])"
          },
          "metadata": {}
        }
      ]
    },
    {
      "cell_type": "code",
      "source": "np.arange(2, 8, 0.4)",
      "metadata": {
        "trusted": true
      },
      "execution_count": 52,
      "outputs": [
        {
          "execution_count": 52,
          "output_type": "execute_result",
          "data": {
            "text/plain": "array([2. , 2.4, 2.8, 3.2, 3.6, 4. , 4.4, 4.8, 5.2, 5.6, 6. , 6.4, 6.8,\n       7.2, 7.6])"
          },
          "metadata": {}
        }
      ]
    },
    {
      "cell_type": "code",
      "source": "np.random.rand(20)",
      "metadata": {
        "trusted": true
      },
      "execution_count": 53,
      "outputs": [
        {
          "execution_count": 53,
          "output_type": "execute_result",
          "data": {
            "text/plain": "array([0.83171625, 0.73327653, 0.13234097, 0.44831189, 0.0663959 ,\n       0.13034724, 0.7107223 , 0.60878669, 0.4843882 , 0.87403732,\n       0.75462843, 0.54220399, 0.51453889, 0.1868563 , 0.01444807,\n       0.54618392, 0.30454023, 0.19871984, 0.92394029, 0.44429383])"
          },
          "metadata": {}
        }
      ]
    },
    {
      "cell_type": "code",
      "source": "k = np.arange(10)\nk**2",
      "metadata": {
        "trusted": true
      },
      "execution_count": 54,
      "outputs": [
        {
          "execution_count": 54,
          "output_type": "execute_result",
          "data": {
            "text/plain": "array([ 0,  1,  4,  9, 16, 25, 36, 49, 64, 81])"
          },
          "metadata": {}
        }
      ]
    },
    {
      "cell_type": "code",
      "source": "np.sum(k)",
      "metadata": {
        "trusted": true
      },
      "execution_count": 55,
      "outputs": [
        {
          "execution_count": 55,
          "output_type": "execute_result",
          "data": {
            "text/plain": "45"
          },
          "metadata": {}
        }
      ]
    },
    {
      "cell_type": "markdown",
      "source": "### Operaciones lógicas",
      "metadata": {}
    },
    {
      "cell_type": "markdown",
      "source": " `>`, `<`, `>=`, `<=`, `==`, `!=`, `and`, `or`, `not`.",
      "metadata": {}
    },
    {
      "cell_type": "markdown",
      "source": "Un tipo de datos esencial en programación es el tipo `bool` (lógico), que solo puede tomar dos valores: `True` o `False`. Aparece como resultado de operaciones de comparación. Por ejemplo:",
      "metadata": {}
    },
    {
      "cell_type": "code",
      "source": "3 < 10",
      "metadata": {
        "trusted": true
      },
      "execution_count": 56,
      "outputs": [
        {
          "execution_count": 56,
          "output_type": "execute_result",
          "data": {
            "text/plain": "True"
          },
          "metadata": {}
        }
      ]
    },
    {
      "cell_type": "code",
      "source": "type(1 > 2)",
      "metadata": {
        "trusted": true
      },
      "execution_count": 57,
      "outputs": [
        {
          "execution_count": 57,
          "output_type": "execute_result",
          "data": {
            "text/plain": "bool"
          },
          "metadata": {}
        }
      ]
    },
    {
      "cell_type": "code",
      "source": "b - 3 == 8 + 7",
      "metadata": {
        "trusted": true
      },
      "execution_count": 58,
      "outputs": [
        {
          "execution_count": 58,
          "output_type": "execute_result",
          "data": {
            "text/plain": "False"
          },
          "metadata": {}
        }
      ]
    },
    {
      "cell_type": "markdown",
      "source": "Las operaciones de comparación se expresan con símbolos más o menos autoexplicativos: `>`, `<`, `>=`, `<=`, `==`, `!=` y, como veremos, se usan para tomar decisiones en los programas. Dados dos números comprueban si la condición es cierta o no.\n\nObserva que el símbolo `==` que se usa para comprobar si dos números son iguales se escribe con dos signos de igual seguidos para distinguirlo del operador `=` de asignación.\n\nA pesar de su aspecto, las operaciones de comparación no establecen una relación matemática entre las variables. La sentencia anterior no define una ecuación que el ordenador tenga que resolver. Es simplemente una expresión que se evalúa y produce un resultado que en este caso no es numérico sino lógico (verdadero o falso).",
      "metadata": {}
    },
    {
      "cell_type": "markdown",
      "source": "Los valores lógicos se pueden combinar mediante las conectivas `and`, `or`, `not` de la lógica proposicional. Por ejemplo:",
      "metadata": {}
    },
    {
      "cell_type": "code",
      "source": "3 < 4 or 2+2 == 5",
      "metadata": {
        "trusted": true
      },
      "execution_count": 59,
      "outputs": [
        {
          "execution_count": 59,
          "output_type": "execute_result",
          "data": {
            "text/plain": "True"
          },
          "metadata": {}
        }
      ]
    },
    {
      "cell_type": "code",
      "source": "b == 13 and (b < 0 or not 2+2==5)",
      "metadata": {
        "trusted": true
      },
      "execution_count": 60,
      "outputs": [
        {
          "execution_count": 60,
          "output_type": "execute_result",
          "data": {
            "text/plain": "False"
          },
          "metadata": {}
        }
      ]
    },
    {
      "cell_type": "markdown",
      "source": "La precedencia de los operadores lógicos es la usual: primero se evalúan las comparaciones, a continuación `not`, después `and` y finalmente `or`.",
      "metadata": {}
    },
    {
      "cell_type": "code",
      "source": "not True and False or True",
      "metadata": {
        "trusted": true
      },
      "execution_count": 61,
      "outputs": [
        {
          "execution_count": 61,
          "output_type": "execute_result",
          "data": {
            "text/plain": "True"
          },
          "metadata": {}
        }
      ]
    },
    {
      "cell_type": "code",
      "source": "not (True and (False or True))",
      "metadata": {
        "trusted": true
      },
      "execution_count": 62,
      "outputs": [
        {
          "execution_count": 62,
          "output_type": "execute_result",
          "data": {
            "text/plain": "False"
          },
          "metadata": {}
        }
      ]
    },
    {
      "cell_type": "markdown",
      "source": "Finalmente, es importante señalar que nunca se deben hacer comparaciones de igualdad exacta con números de tipo `float` aunque lo permita el lenguaje:",
      "metadata": {}
    },
    {
      "cell_type": "code",
      "source": "0.2 + 0.5 == 0.7",
      "metadata": {
        "trusted": true
      },
      "execution_count": 63,
      "outputs": [
        {
          "execution_count": 63,
          "output_type": "execute_result",
          "data": {
            "text/plain": "True"
          },
          "metadata": {}
        }
      ]
    },
    {
      "cell_type": "code",
      "source": "0.2 + 0.1 == 0.3",
      "metadata": {
        "trusted": true
      },
      "execution_count": 64,
      "outputs": [
        {
          "execution_count": 64,
          "output_type": "execute_result",
          "data": {
            "text/plain": "False"
          },
          "metadata": {}
        }
      ]
    },
    {
      "cell_type": "markdown",
      "source": "Este último resultado inesperado (y erróneo) se debe al carácter aproximado de los números reales informáticos y a la imposibilidad de representar exactamente muchos números racionales en la base de numeración binaria utilizada internamente.\nComo veremos después, la comparación de números reales debe hacerse estableciendo una tolerancia sobre su diferencia absoluta o relativa, según convenga.\n\nEl procesador opera con los números de coma flotante de una forma muy razonable, con un compromiso entre precisión y velocidad adecuado para la mayoría de las aplicaciones. Pero olvidar la naturaleza aproximada de la computación numérica puede conducir a errores en el programa que se manifiestan cuando menos te lo esperas.\n\n\n",
      "metadata": {}
    },
    {
      "cell_type": "markdown",
      "source": "### Cadenas de caracteres",
      "metadata": {}
    },
    {
      "cell_type": "markdown",
      "source": "Otro tipo de datos importante es la cadena de caracteres (`str`). Se trata simplemente de una secuencia de letras, números o cualquier otro símbolo. Es un texto entre comillas que en principio no tiene ningún significado para el ordenador. En las aplicaciones científicas se usa normalmente para mostrar mensajes al usuario humano, o para introducir información a los programas. ",
      "metadata": {}
    },
    {
      "cell_type": "code",
      "source": "nombre = \"Alberto\"\n\nsaludo = 'Hola ' + nombre\n\nsaludo",
      "metadata": {
        "trusted": true
      },
      "execution_count": 65,
      "outputs": [
        {
          "execution_count": 65,
          "output_type": "execute_result",
          "data": {
            "text/plain": "'Hola Alberto'"
          },
          "metadata": {}
        }
      ]
    },
    {
      "cell_type": "markdown",
      "source": "(Por comodidad algunas operaciones distintas como la suma de números y la concatenación de cadenas se representan con el mismo símbolo.)",
      "metadata": {}
    },
    {
      "cell_type": "markdown",
      "source": "Las *F-strings* permiten insertar expresiones y mostrarlas con el formato deseado:",
      "metadata": {}
    },
    {
      "cell_type": "code",
      "source": "print(F'Hola {nombre}, 2+3={2+3} y el número pi es aproximadamente π = {np.pi:.4f}')",
      "metadata": {
        "trusted": true
      },
      "execution_count": 66,
      "outputs": [
        {
          "name": "stdout",
          "text": "Hola Alberto, 2+3=5 y el número pi es aproximadamente π = 3.1416\n",
          "output_type": "stream"
        }
      ]
    },
    {
      "cell_type": "markdown",
      "source": "Más adelante veremos algunas operaciones útiles para manipular cadenas pero en este curso nos centraremos principalmente en operaciones numéricas.",
      "metadata": {}
    },
    {
      "cell_type": "markdown",
      "source": "Finalmente, vamos a presentar brevemente algunos tipos numéricos especializados para hacernos una idea de las herramientas disponibles para la computación científica.",
      "metadata": {}
    },
    {
      "cell_type": "markdown",
      "source": "Los apartados marcados con asterisco pueden omitirse en una primera lectura.",
      "metadata": {}
    },
    {
      "cell_type": "markdown",
      "source": "### Racionales *",
      "metadata": {}
    },
    {
      "cell_type": "markdown",
      "source": "El módulo [fractions](https://docs.python.org/3.6/library/fractions.html) proporciona números racionales exactos. Son útiles en teoría de números pero no se utilizan mucho en ciencias experimentales.",
      "metadata": {}
    },
    {
      "cell_type": "code",
      "source": "from fractions import Fraction",
      "metadata": {
        "trusted": true
      },
      "execution_count": 67,
      "outputs": []
    },
    {
      "cell_type": "code",
      "source": "x = Fraction(13,1001)",
      "metadata": {
        "trusted": true
      },
      "execution_count": 68,
      "outputs": []
    },
    {
      "cell_type": "code",
      "source": "x",
      "metadata": {
        "trusted": true
      },
      "execution_count": 69,
      "outputs": [
        {
          "execution_count": 69,
          "output_type": "execute_result",
          "data": {
            "text/plain": "Fraction(1, 77)"
          },
          "metadata": {}
        }
      ]
    },
    {
      "cell_type": "code",
      "source": "Fraction(7,8)**17 + x",
      "metadata": {
        "trusted": true
      },
      "execution_count": 70,
      "outputs": [
        {
          "execution_count": 70,
          "output_type": "execute_result",
          "data": {
            "text/plain": "Fraction(20164349390700187, 173388585653764096)"
          },
          "metadata": {}
        }
      ]
    },
    {
      "cell_type": "markdown",
      "source": "### Precisión arbitraria *",
      "metadata": {}
    },
    {
      "cell_type": "markdown",
      "source": "La aritmética de coma flotante con precisión arbitraria se puede conseguir (entre otros) con el módulo [mpmath](http://mpmath.org/). Esto permite elegir el número de decimales deseado en los cálculos.",
      "metadata": {}
    },
    {
      "cell_type": "code",
      "source": "from mpmath import mp\nmp.dps = 100\n\n(1+mp.sqrt(5))/2",
      "metadata": {
        "trusted": true
      },
      "execution_count": 71,
      "outputs": [
        {
          "execution_count": 71,
          "output_type": "execute_result",
          "data": {
            "text/plain": "mpf('1.618033988749894848204586834365638117720309179805762862135448622705260462818902449707207204189391137492')"
          },
          "metadata": {}
        }
      ]
    },
    {
      "cell_type": "markdown",
      "source": "La función `mp.mpf` construye números de este tipo para usarlos en la artimética normal. Pero hay que tener cuidado. Observa la diferencia:",
      "metadata": {}
    },
    {
      "cell_type": "code",
      "source": "mp.mpf(1/3)",
      "metadata": {
        "trusted": true
      },
      "execution_count": 72,
      "outputs": [
        {
          "execution_count": 72,
          "output_type": "execute_result",
          "data": {
            "text/plain": "mpf('0.333333333333333314829616256247390992939472198486328125')"
          },
          "metadata": {}
        }
      ]
    },
    {
      "cell_type": "code",
      "source": "mp.mpf(1)/3",
      "metadata": {
        "trusted": true
      },
      "execution_count": 73,
      "outputs": [
        {
          "execution_count": 73,
          "output_type": "execute_result",
          "data": {
            "text/plain": "mpf('0.3333333333333333333333333333333333333333333333333333333333333333333333333333333333333333333333333333345')"
          },
          "metadata": {}
        }
      ]
    },
    {
      "cell_type": "markdown",
      "source": "En ciencias experimentales no necesitamos normalmente una precisión tan enorme. Además, estos números no llevan la cuenta del número de dígitos exactos que van quedando después de cada operación. ",
      "metadata": {}
    },
    {
      "cell_type": "markdown",
      "source": "### Magnitudes físicas *",
      "metadata": {}
    },
    {
      "cell_type": "markdown",
      "source": "El módulo [uncertainties](http://pythonhosted.org/uncertainties/) automatiza la propagación de errores. Las magnitudes físicas se pueden manejar mediante [pint](http://pint.readthedocs.io/en/0.8/tutorial.html). Estas herramientas son muy útiles para analizar datos de los laboratorios de física. Más adelante veremos algunos ejemplos de uso.",
      "metadata": {}
    },
    {
      "cell_type": "markdown",
      "source": "### Ejercicios",
      "metadata": {
        "tags": []
      }
    },
    {
      "cell_type": "markdown",
      "source": "Ver la [Tarea 2](Tarea2.ipynb).",
      "metadata": {}
    }
  ]
}