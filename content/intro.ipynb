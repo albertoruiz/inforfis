{
 "cells": [
  {
   "cell_type": "markdown",
   "metadata": {
    "tags": []
   },
   "source": [
    "# Primeros pasos"
   ]
  },
  {
   "cell_type": "markdown",
   "metadata": {},
   "source": [
    "El punto de partida es instalar en nuestro ordenador el lenguaje de programación que vamos a utilizar y algunas herramientas auxiliares. Una vez hecho esto, existen diferentes formas de trabajar:\n",
    "\n",
    "- Editor y terminal.\n",
    "\n",
    "- IDE (entorno integrado de programación).\n",
    "\n",
    "- Notebook interactivo.\n",
    "\n",
    "En su momento haremos ejercicios para familiarizarnos con las dos primeras pero la mayoría de las explicaciones las haremos utilizando los *jupyter notebooks*. De esta manera podemos crear documentos de referencia con todo lo que vamos aprendiendo.\n",
    "\n",
    "A partir de aquí suponemos que conocemos los comandos de edición básicos de los notebooks, que se explican en la primera clase de prácticas.\n",
    "\n",
    "Se recomienda crear una carpeta en tu ordenador para guardar todos los documentos que se vayan creando en la asignatura."
   ]
  },
  {
   "cell_type": "markdown",
   "metadata": {},
   "source": [
    "## Aritmética elemental"
   ]
  },
  {
   "cell_type": "markdown",
   "metadata": {},
   "source": [
    "Igual que una calculadora, un ordenador es capaz de hacer operaciones aritméticas:"
   ]
  },
  {
   "cell_type": "code",
   "execution_count": null,
   "metadata": {},
   "outputs": [],
   "source": [
    "3+2"
   ]
  },
  {
   "cell_type": "markdown",
   "metadata": {},
   "source": [
    "Los símbolos de las operaciones son más o menos intuitivos: `+`, `-`, `*`, `/`, y la precedencia es la usual en matemáticas."
   ]
  },
  {
   "cell_type": "code",
   "execution_count": null,
   "metadata": {},
   "outputs": [],
   "source": [
    "2 + 3 * 5"
   ]
  },
  {
   "cell_type": "markdown",
   "metadata": {},
   "source": [
    "Los espacios no influyen. Usamos paréntesis para agrupar de la forma deseada:"
   ]
  },
  {
   "cell_type": "code",
   "execution_count": null,
   "metadata": {},
   "outputs": [],
   "source": [
    "(2+3) *  5-4"
   ]
  },
  {
   "cell_type": "markdown",
   "metadata": {},
   "source": [
    "La potencia se expresa con el símbolo `**`."
   ]
  },
  {
   "cell_type": "code",
   "execution_count": null,
   "metadata": {},
   "outputs": [],
   "source": [
    "2**10"
   ]
  },
  {
   "cell_type": "markdown",
   "metadata": {},
   "source": [
    "En programación es muy importante distinguir entre números enteros y números reales. Los enteros son matemáticamente exactos, mientras que los reales son aproximaciones con una cantidad finita de decimales."
   ]
  },
  {
   "cell_type": "code",
   "execution_count": null,
   "metadata": {},
   "outputs": [],
   "source": [
    "2**(1/2)"
   ]
  },
  {
   "cell_type": "markdown",
   "metadata": {},
   "source": [
    "En algunos lenguajes los enteros tienen un tamaño limitado, como ocurre en las calculadoras. Pero en Python los enteros pueden ser de cualquier tamaño. El único límite es la memoria disponible en el ordenador."
   ]
  },
  {
   "cell_type": "code",
   "execution_count": null,
   "metadata": {},
   "outputs": [],
   "source": [
    "13**200"
   ]
  },
  {
   "cell_type": "markdown",
   "metadata": {},
   "source": [
    "El símbolo de división `/` se refiere a la división real:"
   ]
  },
  {
   "cell_type": "code",
   "execution_count": null,
   "metadata": {},
   "outputs": [],
   "source": [
    "10 / 2"
   ]
  },
  {
   "cell_type": "code",
   "execution_count": null,
   "metadata": {},
   "outputs": [],
   "source": [
    "11 / 2"
   ]
  },
  {
   "cell_type": "markdown",
   "metadata": {},
   "source": [
    "El cociente y el resto de la división entera utilizan respectívamente los símbolos `//` y `%`: "
   ]
  },
  {
   "cell_type": "code",
   "execution_count": null,
   "metadata": {},
   "outputs": [],
   "source": [
    "11 // 2"
   ]
  },
  {
   "cell_type": "code",
   "execution_count": null,
   "metadata": {},
   "outputs": [],
   "source": [
    "11 % 2"
   ]
  },
  {
   "cell_type": "code",
   "execution_count": null,
   "metadata": {},
   "outputs": [],
   "source": [
    "abs( 5.0 - 8 )"
   ]
  },
  {
   "cell_type": "markdown",
   "metadata": {},
   "source": [
    "Los números reales que se utilizan normalmente son aproximaciones de \"coma flotante\" de \"doble precisión\" (64bits) que tienen 15 decimales y un exponente hasta $\\pm 308$.\n",
    "\n",
    "La notación científica $a\\times 10^b$ se indica con la letra `e`."
   ]
  },
  {
   "cell_type": "code",
   "execution_count": null,
   "metadata": {},
   "outputs": [],
   "source": [
    "2.5e3"
   ]
  },
  {
   "cell_type": "code",
   "execution_count": null,
   "metadata": {},
   "outputs": [],
   "source": [
    "1e-2"
   ]
  },
  {
   "cell_type": "code",
   "execution_count": null,
   "metadata": {},
   "outputs": [],
   "source": [
    "2.37e18 ** 5.1"
   ]
  },
  {
   "cell_type": "markdown",
   "metadata": {},
   "source": [
    "Debido a que los números reales tienen un número fijo de decimales las operaciones suelen producir errores de redondeo:"
   ]
  },
  {
   "cell_type": "code",
   "execution_count": null,
   "metadata": {},
   "outputs": [],
   "source": [
    "10/3"
   ]
  },
  {
   "cell_type": "code",
   "execution_count": null,
   "metadata": {},
   "outputs": [],
   "source": [
    "0.1 + 0.2"
   ]
  },
  {
   "cell_type": "markdown",
   "metadata": {},
   "source": [
    "### Bibliotecas de funciones"
   ]
  },
  {
   "cell_type": "markdown",
   "metadata": {},
   "source": [
    "El lenguaje Python posee un número enorme de funciones y operaciones disponibles que están organizadas en una gran biblioteca estructurada por \"módulos\". Por ejemplo, las funciones matemáticas (trigonométricas, logaritmos, etc.) están en el módulo `numpy`.\n",
    "\n",
    "Para utilizar funciones de un módulo debemos \"importarlas\" (hacerlas visibles) con una instrucción como la siguiente:"
   ]
  },
  {
   "cell_type": "code",
   "execution_count": null,
   "metadata": {},
   "outputs": [],
   "source": [
    "import numpy as np"
   ]
  },
  {
   "cell_type": "code",
   "execution_count": null,
   "metadata": {},
   "outputs": [],
   "source": [
    "np.sin(np.pi/6)"
   ]
  },
  {
   "cell_type": "code",
   "execution_count": null,
   "metadata": {},
   "outputs": [],
   "source": [
    "np.cos(0)"
   ]
  },
  {
   "cell_type": "code",
   "execution_count": null,
   "metadata": {},
   "outputs": [],
   "source": [
    "np.log(10)"
   ]
  },
  {
   "cell_type": "markdown",
   "metadata": {},
   "source": [
    "Es muy conveniente estar familiarizado con las funciones disponibles en los módulos relacionados con nuestro ámbito de aplicación (principalmente `numpy`, `scipy`, `matplotlib` y `pandas`). No hay que aprender nada de memoria sino tener a mano la documentación, que está disponible online  (p. ej. [aquí tenemos](\n",
    "https://docs.python.org/3/library/math.html) las funciones disponibles en `math`) y localmente con la función `help`. En el menú \"Help\" del notebook hay enlaces a los módulos más importantes. En cualquier caso una búsqueda en google nos lleva rápidamente a la función deseada."
   ]
  },
  {
   "cell_type": "markdown",
   "metadata": {},
   "source": [
    "Con lo visto hasta ahora podemos usar el lenguaje Python como una calculadora. A partir de aquí iremos introduciendo la capacidad de programar las operaciones. "
   ]
  },
  {
   "cell_type": "markdown",
   "metadata": {},
   "source": [
    "## Secuencia de instrucciones"
   ]
  },
  {
   "cell_type": "markdown",
   "metadata": {},
   "source": [
    "Python evalúa una detrás de otra todas las expresiones que encuentra. Pero el notebook solo muestra el resultado de la última que aparece en la celda:"
   ]
  },
  {
   "cell_type": "code",
   "execution_count": null,
   "metadata": {},
   "outputs": [],
   "source": [
    "1 + 1\n",
    "\n",
    "2 + 3\n",
    "\n",
    "5 * 2"
   ]
  },
  {
   "cell_type": "markdown",
   "metadata": {},
   "source": [
    "Si queremos ver todos los resultados utilizamos la función `print`:"
   ]
  },
  {
   "cell_type": "code",
   "execution_count": null,
   "metadata": {},
   "outputs": [],
   "source": [
    "print(1 + 1)\n",
    "\n",
    "print(2 + 3)\n",
    "\n",
    "print(5 * 2)"
   ]
  },
  {
   "cell_type": "markdown",
   "metadata": {},
   "source": [
    "## Nombres"
   ]
  },
  {
   "cell_type": "markdown",
   "metadata": {},
   "source": [
    "Un aspecto fundamental en la programación consiste en ponerle nombres a los números y otros tipos de datos con los que estamos trabajando. Para ello, Python (y la mayoría de lenguajes) usa el símbolo `=`. Por ejemplo, si hacemos lo siguiente"
   ]
  },
  {
   "cell_type": "code",
   "execution_count": null,
   "metadata": {},
   "outputs": [],
   "source": [
    "a = 5\n",
    "\n",
    "z = 1/2 + 3*a"
   ]
  },
  {
   "cell_type": "markdown",
   "metadata": {},
   "source": [
    "entonces los nombres `a` y `z` queda definidos con los siguientes valores:"
   ]
  },
  {
   "cell_type": "code",
   "execution_count": null,
   "metadata": {},
   "outputs": [],
   "source": [
    "a"
   ]
  },
  {
   "cell_type": "code",
   "execution_count": null,
   "metadata": {},
   "outputs": [],
   "source": [
    "z"
   ]
  },
  {
   "cell_type": "markdown",
   "metadata": {},
   "source": [
    "La elección del signo `=` no es muy afortunada, ya que esta acción no tiene mucho que ver con el concepto de igualdad matemática. (Otros lenguajes usan signos más intuitivos como `<-` o `:=` para esta operación.)\n",
    "\n",
    "Cuando veamos expresiones como `z = 1/2 + 3*a`  no tenemos que pensar en ningún momento en ecuaciones matemáticas. Nada más lejos de la realidad. Simplemente se da un nombre al **resultado** de evaluar la expresión. Podríamos decir que estamos \"definiendo\" un nombre, pero este término también puede inducir a confusión, ya que el nombre queda asignado al valor final de la expresión, y no a la expresión en sí. Cada vez que aparezca `z` en el programa se sustituirá automáticamente por `15.5`. No se sustituye por `1/2 + 3*a`. \n",
    "\n",
    "Este matiz es importante debido a que los nombres se pueden redefinir. Observa la siguiente secuencia de definiciones:"
   ]
  },
  {
   "cell_type": "code",
   "execution_count": null,
   "metadata": {},
   "outputs": [],
   "source": [
    "a = 5\n",
    "\n",
    "b = 2*a\n",
    "\n",
    "a = 7\n",
    "\n",
    "b"
   ]
  },
  {
   "cell_type": "markdown",
   "metadata": {},
   "source": [
    "Recuerda que las expresiones se evalúan una detrás de otra. La última de ellas, `b` tiene el valor `10` a pesar de que se ha definido como `b = 2*a` y que justo antes se ha redefinido `a` como `a=7`. El cambio en un nombre no afecta a los demás que dependen de él. No se recalcula nada. "
   ]
  },
  {
   "cell_type": "markdown",
   "metadata": {},
   "source": [
    "Más adelante explicaremos cómo hacer verdaderas definiciones en las que unos símbolos dependen de otros. Por el momento podemos pensar en la idea de almacenar en memoria un dato que podemos recuperar cómodamente mediante un nombre."
   ]
  },
  {
   "cell_type": "markdown",
   "metadata": {},
   "source": [
    "En algunos lenguajes se dice que hemos \"almacenado un valor en una variable\", o que hemos \"asignado un valor\". Tampoco es lo ideal porque la palabra \"variable\" puede inducir a confusión con las variables matemáticas. (Y no causa buena impresión almacenar constantes como por ejemplo el número $\\pi$ dentro variables...)"
   ]
  },
  {
   "cell_type": "markdown",
   "metadata": {},
   "source": [
    "No hay ningún problema en redefinir una variable usando su valor anterior. Esto puede dar lugar a expresiones aparentemente absurdas como:"
   ]
  },
  {
   "cell_type": "code",
   "execution_count": null,
   "metadata": {},
   "outputs": [],
   "source": [
    "b = b + 5"
   ]
  },
  {
   "cell_type": "markdown",
   "metadata": {},
   "source": [
    "Simplemente tenemos que recordar que lo anterior no es una ecuación sino una **redefinición**, cuyo efecto es sustituir del valor de `b`, que antes era `10`, por `15`. "
   ]
  },
  {
   "cell_type": "markdown",
   "metadata": {},
   "source": [
    "Esta operación se puede abreviar como `b += 5`."
   ]
  },
  {
   "cell_type": "markdown",
   "metadata": {},
   "source": [
    "Cuando se redefine un nombre el valor que tenía previamente se olvida de forma irrecuperable."
   ]
  },
  {
   "cell_type": "markdown",
   "metadata": {},
   "source": [
    "Para hacer una definición el nombre (cualquier palabra que empiece por una letra) se pone a la izquierda del signo `=` y a la derecha se pone la expresión deseada, donde pueden aparecer nombres previamente definidos. Por tanto, lo siguiente es incorrecto:"
   ]
  },
  {
   "cell_type": "code",
   "execution_count": null,
   "metadata": {},
   "outputs": [],
   "source": [
    "# descomenta la línea siguiente para ver el error\n",
    "# 1 + 1 = c"
   ]
  },
  {
   "cell_type": "code",
   "execution_count": null,
   "metadata": {},
   "outputs": [],
   "source": [
    "# descomenta la línea siguiente para ver el error\n",
    "# c = 3*x + 5"
   ]
  },
  {
   "cell_type": "markdown",
   "metadata": {},
   "source": [
    "Es conveniente elegir nombres descriptivos o abreviaturas para indicar el papel que juega cada dato en el programa."
   ]
  },
  {
   "cell_type": "code",
   "execution_count": null,
   "metadata": {},
   "outputs": [],
   "source": [
    "masa = 10\n",
    "velocidad_inicial = 8.5\n",
    "pos = 5\n",
    "\n",
    "α  = np.pi/4"
   ]
  },
  {
   "cell_type": "markdown",
   "metadata": {},
   "source": [
    "Es una cuestión de gusto personal, pero siempre se recomienda la claridad y la sencillez."
   ]
  },
  {
   "cell_type": "markdown",
   "metadata": {},
   "source": [
    "## Estado de la computación"
   ]
  },
  {
   "cell_type": "markdown",
   "metadata": {},
   "source": [
    "Cuando el ordenador \"ejecuta\" un programa (o Python evalúa celdas de código) ocurre lo siguiente:\n",
    "\n",
    "- En todo momento existe un *estado* de la computación, que es simplemente un conjunto de datos con sus correspondientes nombres (inicialmente vacío).\n",
    "\n",
    "- Algunas instrucciones cambian elementos del estado. Otras no, aunque sí actúan sobre el \"mundo exterior\" (por ejemplo, mostrando algo en la pantalla). El efecto producido por una instrucción depende del estado anterior.\n",
    "\n",
    "Una computación es la secuencia de estados producida por las sucesivas instrucciones del programa. El *resultado* de la computación es el estado final."
   ]
  },
  {
   "cell_type": "markdown",
   "metadata": {},
   "source": [
    "Por ejemplo:"
   ]
  },
  {
   "cell_type": "code",
   "execution_count": null,
   "metadata": {},
   "outputs": [],
   "source": [
    "# Instrucción       Estado\n",
    "                #   {}\n",
    "a = 5\n",
    "                #   { a:5 }\n",
    "b = 2*a\n",
    "                #   { a:5 , b:10 }\n",
    "print(b)\n",
    "                #   { a:5 , b:10 }\n",
    "a = 7\n",
    "                #   { a:7 , b:10 }\n",
    "b += 2\n",
    "                #   { a:7 , b:12 }\n",
    "a+b\n",
    "                #   { a:7 , b:12 }\n",
    "a-b\n",
    "                #   { a:7 , b:12 }"
   ]
  },
  {
   "cell_type": "markdown",
   "metadata": {},
   "source": [
    "La instrucción `print` de la línea 7 escribe `10` en la pantalla (o notebook). La línea 13 realiza una operación pero no tiene ningún efecto observable. El resultado se descarta. La línea 15 sí imprime el resultado `-5` por ser la última (esto es un convenio de los notebooks para ahorrar la instrucción `print`)."
   ]
  },
  {
   "cell_type": "markdown",
   "metadata": {},
   "source": [
    "Los herramientas de programación suelen tener una ventana para mostrar en todo momento el valor de las variables definidas. En los jupyter notebooks esto se consigue con la extensión \"variable inspector\"."
   ]
  },
  {
   "cell_type": "markdown",
   "metadata": {},
   "source": [
    "## Tipos de datos"
   ]
  },
  {
   "cell_type": "markdown",
   "metadata": {},
   "source": [
    "Un concepto esencial en programación es el de **tipo** de un dato. Intuitivamente, podemos pensar en un conjunto de valores posibles. Un buen ejemplo son los tipos numéricos, que tratan de imitar a los conjuntos matemáticos usuales $\\mathbb Z$, $\\mathbb Q$, $\\mathbb R$, $\\mathbb C$, etc."
   ]
  },
  {
   "cell_type": "markdown",
   "metadata": {},
   "source": [
    "Hasta el momento hemos visto datos enteros (tipo `int`) y reales (tipo `float`) pero los ordenadores pueden \n",
    "trabajar con muchos otros tipos de información. La función `type` sirve para consultar de qué tipo es un dato:"
   ]
  },
  {
   "cell_type": "code",
   "execution_count": null,
   "metadata": {},
   "outputs": [],
   "source": [
    "type(17)"
   ]
  },
  {
   "cell_type": "code",
   "execution_count": null,
   "metadata": {},
   "outputs": [],
   "source": [
    "b = -2/3\n",
    "\n",
    "type(b)"
   ]
  },
  {
   "cell_type": "code",
   "execution_count": null,
   "metadata": {
    "tags": []
   },
   "outputs": [],
   "source": [
    "type(2+3j)"
   ]
  },
  {
   "cell_type": "code",
   "execution_count": null,
   "metadata": {},
   "outputs": [],
   "source": [
    "type('hola')"
   ]
  },
  {
   "cell_type": "markdown",
   "metadata": {},
   "source": [
    "## Redondeo"
   ]
  },
  {
   "cell_type": "code",
   "execution_count": null,
   "metadata": {},
   "outputs": [],
   "source": [
    "round(3.6)"
   ]
  },
  {
   "cell_type": "code",
   "execution_count": null,
   "metadata": {},
   "outputs": [],
   "source": [
    "round( 2**0.5, 3 )"
   ]
  },
  {
   "cell_type": "code",
   "execution_count": null,
   "metadata": {},
   "outputs": [],
   "source": [
    "np.ceil(3.2)"
   ]
  },
  {
   "cell_type": "code",
   "execution_count": null,
   "metadata": {},
   "outputs": [],
   "source": [
    "np.floor(3.9)"
   ]
  },
  {
   "cell_type": "code",
   "execution_count": null,
   "metadata": {},
   "outputs": [],
   "source": [
    "np.sign(-2.7)"
   ]
  },
  {
   "cell_type": "markdown",
   "metadata": {},
   "source": [
    "## Grados y radianes"
   ]
  },
  {
   "cell_type": "code",
   "execution_count": null,
   "metadata": {},
   "outputs": [],
   "source": [
    "np.degrees(np.pi/2)"
   ]
  },
  {
   "cell_type": "code",
   "execution_count": null,
   "metadata": {},
   "outputs": [],
   "source": [
    "np.sin(np.radians(30))"
   ]
  },
  {
   "cell_type": "markdown",
   "metadata": {},
   "source": [
    "## Números complejos"
   ]
  },
  {
   "cell_type": "markdown",
   "metadata": {},
   "source": [
    "Las constantes imaginarias se introducen añadiendo la letra `j`:"
   ]
  },
  {
   "cell_type": "code",
   "execution_count": null,
   "metadata": {},
   "outputs": [],
   "source": [
    "3j ** 2"
   ]
  },
  {
   "cell_type": "code",
   "execution_count": null,
   "metadata": {},
   "outputs": [],
   "source": [
    "a = 2+3j\n",
    "\n",
    "np.cos(a)"
   ]
  },
  {
   "cell_type": "code",
   "execution_count": null,
   "metadata": {},
   "outputs": [],
   "source": [
    "np.cos(a)**2 + np.sin(a)**2"
   ]
  },
  {
   "cell_type": "code",
   "execution_count": null,
   "metadata": {},
   "outputs": [],
   "source": [
    "np.sqrt(-25)"
   ]
  },
  {
   "cell_type": "code",
   "execution_count": null,
   "metadata": {},
   "outputs": [],
   "source": [
    "np.sqrt(-25+0j)"
   ]
  },
  {
   "cell_type": "code",
   "execution_count": null,
   "metadata": {},
   "outputs": [],
   "source": [
    "np.sqrt(complex(-25))"
   ]
  },
  {
   "cell_type": "markdown",
   "metadata": {
    "tags": []
   },
   "source": [
    "## Secuencias (*arrays*) de números"
   ]
  },
  {
   "cell_type": "markdown",
   "metadata": {},
   "source": [
    "Muchas operaciones matemáticas se pueden efectuar automáticamente con secuencias de números."
   ]
  },
  {
   "cell_type": "code",
   "execution_count": null,
   "metadata": {},
   "outputs": [],
   "source": [
    "np.array([3, 5, -2, 8])"
   ]
  },
  {
   "cell_type": "code",
   "execution_count": null,
   "metadata": {},
   "outputs": [],
   "source": [
    "np.linspace(1, 5, 9)"
   ]
  },
  {
   "cell_type": "code",
   "execution_count": null,
   "metadata": {},
   "outputs": [],
   "source": [
    "np.arange(7)"
   ]
  },
  {
   "cell_type": "code",
   "execution_count": null,
   "metadata": {},
   "outputs": [],
   "source": [
    "np.arange(2, 8, 0.4)"
   ]
  },
  {
   "cell_type": "code",
   "execution_count": null,
   "metadata": {},
   "outputs": [],
   "source": [
    "np.random.rand(20)"
   ]
  },
  {
   "cell_type": "code",
   "execution_count": null,
   "metadata": {},
   "outputs": [],
   "source": [
    "k = np.arange(10)\n",
    "k**2"
   ]
  },
  {
   "cell_type": "code",
   "execution_count": null,
   "metadata": {},
   "outputs": [],
   "source": [
    "np.sum(k)"
   ]
  },
  {
   "cell_type": "markdown",
   "metadata": {},
   "source": [
    "## Operaciones lógicas"
   ]
  },
  {
   "cell_type": "markdown",
   "metadata": {},
   "source": [
    " `>`, `<`, `>=`, `<=`, `==`, `!=`, `and`, `or`, `not`."
   ]
  },
  {
   "cell_type": "markdown",
   "metadata": {},
   "source": [
    "Un tipo de datos esencial en programación es el tipo `bool` (lógico), que solo puede tomar dos valores: `True` o `False`. Aparece como resultado de operaciones de comparación. Por ejemplo:"
   ]
  },
  {
   "cell_type": "code",
   "execution_count": null,
   "metadata": {},
   "outputs": [],
   "source": [
    "3 < 10"
   ]
  },
  {
   "cell_type": "code",
   "execution_count": null,
   "metadata": {},
   "outputs": [],
   "source": [
    "type(1 > 2)"
   ]
  },
  {
   "cell_type": "code",
   "execution_count": null,
   "metadata": {},
   "outputs": [],
   "source": [
    "b - 3 == 8 + 7"
   ]
  },
  {
   "cell_type": "markdown",
   "metadata": {},
   "source": [
    "Las operaciones de comparación se expresan con símbolos más o menos autoexplicativos: `>`, `<`, `>=`, `<=`, `==`, `!=` y, como veremos, se usan para tomar decisiones en los programas. Dados dos números comprueban si la condición es cierta o no.\n",
    "\n",
    "Observa que el símbolo `==` que se usa para comprobar si dos números son iguales se escribe con dos signos de igual seguidos para distinguirlo del operador `=` de asignación.\n",
    "\n",
    "A pesar de su aspecto, las operaciones de comparación no establecen una relación matemática entre las variables. La sentencia anterior no define una ecuación que el ordenador tenga que resolver. Es simplemente una expresión que se evalúa y produce un resultado que en este caso no es numérico sino lógico (verdadero o falso)."
   ]
  },
  {
   "cell_type": "markdown",
   "metadata": {},
   "source": [
    "Los valores lógicos se pueden combinar mediante las conectivas `and`, `or`, `not` de la lógica proposicional. Por ejemplo:"
   ]
  },
  {
   "cell_type": "code",
   "execution_count": null,
   "metadata": {},
   "outputs": [],
   "source": [
    "3 < 4 or 2+2 == 5"
   ]
  },
  {
   "cell_type": "code",
   "execution_count": null,
   "metadata": {},
   "outputs": [],
   "source": [
    "b == 13 and (b < 0 or not 2+2==5)"
   ]
  },
  {
   "cell_type": "markdown",
   "metadata": {},
   "source": [
    "La precedencia de los operadores lógicos es la usual: primero se evalúan las comparaciones, a continuación `not`, después `and` y finalmente `or`."
   ]
  },
  {
   "cell_type": "code",
   "execution_count": null,
   "metadata": {},
   "outputs": [],
   "source": [
    "not True and False or True"
   ]
  },
  {
   "cell_type": "code",
   "execution_count": null,
   "metadata": {},
   "outputs": [],
   "source": [
    "not (True and (False or True))"
   ]
  },
  {
   "cell_type": "markdown",
   "metadata": {},
   "source": [
    "Finalmente, es importante señalar que nunca se deben hacer comparaciones de igualdad exacta con números de tipo `float` aunque lo permita el lenguaje:"
   ]
  },
  {
   "cell_type": "code",
   "execution_count": null,
   "metadata": {},
   "outputs": [],
   "source": [
    "0.2 + 0.5 == 0.7"
   ]
  },
  {
   "cell_type": "code",
   "execution_count": null,
   "metadata": {},
   "outputs": [],
   "source": [
    "0.2 + 0.1 == 0.3"
   ]
  },
  {
   "cell_type": "markdown",
   "metadata": {},
   "source": [
    "Este último resultado inesperado (y erróneo) se debe al carácter aproximado de los números reales informáticos y a la imposibilidad de representar exactamente muchos números racionales en la base de numeración binaria utilizada internamente.\n",
    "Como veremos después, la comparación de números reales debe hacerse estableciendo una tolerancia sobre su diferencia absoluta o relativa, según convenga.\n",
    "\n",
    "El procesador opera con los números de coma flotante de una forma muy razonable, con un compromiso entre precisión y velocidad adecuado para la mayoría de las aplicaciones. Pero olvidar la naturaleza aproximada de la computación numérica puede conducir a errores en el programa que se manifiestan cuando menos te lo esperas.\n",
    "\n",
    "\n"
   ]
  },
  {
   "cell_type": "markdown",
   "metadata": {},
   "source": [
    "## Cadenas de caracteres"
   ]
  },
  {
   "cell_type": "markdown",
   "metadata": {},
   "source": [
    "Otro tipo de datos importante es la cadena de caracteres (`str`). Se trata simplemente de una secuencia de letras, números o cualquier otro símbolo. Es un texto entre comillas que en principio no tiene ningún significado para el ordenador. En las aplicaciones científicas se usa normalmente para mostrar mensajes al usuario humano, o para introducir información a los programas. "
   ]
  },
  {
   "cell_type": "code",
   "execution_count": null,
   "metadata": {},
   "outputs": [],
   "source": [
    "nombre = \"Alberto\"\n",
    "\n",
    "saludo = 'Hola ' + nombre\n",
    "\n",
    "saludo"
   ]
  },
  {
   "cell_type": "markdown",
   "metadata": {},
   "source": [
    "(Por comodidad algunas operaciones distintas como la suma de números y la concatenación de cadenas se representan con el mismo símbolo.)"
   ]
  },
  {
   "cell_type": "markdown",
   "metadata": {},
   "source": [
    "Las *F-strings* permiten insertar expresiones y mostrarlas con el formato deseado:"
   ]
  },
  {
   "cell_type": "code",
   "execution_count": null,
   "metadata": {},
   "outputs": [],
   "source": [
    "print(F'Hola {nombre}, 2+3={2+3} y el número pi es aproximadamente π = {np.pi:.4f}')"
   ]
  },
  {
   "cell_type": "markdown",
   "metadata": {},
   "source": [
    "Más adelante veremos algunas operaciones útiles para manipular cadenas pero en este curso nos centraremos principalmente en operaciones numéricas."
   ]
  },
  {
   "cell_type": "markdown",
   "metadata": {},
   "source": [
    "Finalmente, vamos a presentar brevemente algunos tipos numéricos especializados para hacernos una idea de las herramientas disponibles para la computación científica."
   ]
  },
  {
   "cell_type": "markdown",
   "metadata": {},
   "source": [
    "Los apartados marcados con asterisco pueden omitirse en una primera lectura."
   ]
  },
  {
   "cell_type": "markdown",
   "metadata": {},
   "source": [
    "## Racionales *"
   ]
  },
  {
   "cell_type": "markdown",
   "metadata": {},
   "source": [
    "El módulo [fractions](https://docs.python.org/3.6/library/fractions.html) proporciona números racionales exactos. Son útiles en teoría de números pero no se utilizan mucho en ciencias experimentales."
   ]
  },
  {
   "cell_type": "code",
   "execution_count": null,
   "metadata": {},
   "outputs": [],
   "source": [
    "from fractions import Fraction"
   ]
  },
  {
   "cell_type": "code",
   "execution_count": null,
   "metadata": {},
   "outputs": [],
   "source": [
    "x = Fraction(13,1001)"
   ]
  },
  {
   "cell_type": "code",
   "execution_count": null,
   "metadata": {},
   "outputs": [],
   "source": [
    "x"
   ]
  },
  {
   "cell_type": "code",
   "execution_count": null,
   "metadata": {},
   "outputs": [],
   "source": [
    "Fraction(7,8)**17 + x"
   ]
  },
  {
   "cell_type": "markdown",
   "metadata": {},
   "source": [
    "## Precisión arbitraria *"
   ]
  },
  {
   "cell_type": "markdown",
   "metadata": {},
   "source": [
    "La aritmética de coma flotante con precisión arbitraria se puede conseguir (entre otros) con el módulo [mpmath](http://mpmath.org/). Esto permite elegir el número de decimales deseado en los cálculos."
   ]
  },
  {
   "cell_type": "code",
   "execution_count": null,
   "metadata": {},
   "outputs": [],
   "source": [
    "from mpmath import mp\n",
    "mp.dps = 100\n",
    "\n",
    "(1+mp.sqrt(5))/2"
   ]
  },
  {
   "cell_type": "markdown",
   "metadata": {},
   "source": [
    "La función `mp.mpf` construye números de este tipo para usarlos en la artimética normal. Pero hay que tener cuidado. Observa la diferencia:"
   ]
  },
  {
   "cell_type": "code",
   "execution_count": null,
   "metadata": {},
   "outputs": [],
   "source": [
    "mp.mpf(1/3)"
   ]
  },
  {
   "cell_type": "code",
   "execution_count": null,
   "metadata": {},
   "outputs": [],
   "source": [
    "mp.mpf(1)/3"
   ]
  },
  {
   "cell_type": "markdown",
   "metadata": {},
   "source": [
    "En ciencias experimentales no necesitamos normalmente una precisión tan enorme. Además, estos números no llevan la cuenta del número de dígitos exactos que van quedando después de cada operación. "
   ]
  },
  {
   "cell_type": "markdown",
   "metadata": {},
   "source": [
    "## Magnitudes físicas *"
   ]
  },
  {
   "cell_type": "markdown",
   "metadata": {},
   "source": [
    "El módulo [uncertainties](http://pythonhosted.org/uncertainties/) automatiza la propagación de errores. Las magnitudes físicas se pueden manejar mediante [pint](http://pint.readthedocs.io/en/0.8/tutorial.html). Estas herramientas son muy útiles para analizar datos de los laboratorios de física. Más adelante veremos algunos ejemplos de uso."
   ]
  },
  {
   "cell_type": "markdown",
   "metadata": {
    "tags": []
   },
   "source": [
    "## Ejercicios"
   ]
  },
  {
   "cell_type": "markdown",
   "metadata": {},
   "source": [
    "Ver la [Tarea 2](Tarea2.ipynb)."
   ]
  }
 ],
 "metadata": {
  "kernelspec": {
   "display_name": "Python 3 (ipykernel)",
   "language": "python",
   "name": "python3"
  },
  "language_info": {
   "codemirror_mode": {
    "name": "ipython",
    "version": 3
   },
   "file_extension": ".py",
   "mimetype": "text/x-python",
   "name": "python",
   "nbconvert_exporter": "python",
   "pygments_lexer": "ipython3",
   "version": "3.11.5"
  }
 },
 "nbformat": 4,
 "nbformat_minor": 4
}
