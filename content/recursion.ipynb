{
 "cells": [
  {
   "cell_type": "markdown",
   "metadata": {},
   "source": [
    "# Definiciones Recursivas"
   ]
  },
  {
   "cell_type": "markdown",
   "metadata": {},
   "source": [
    "[recu]: https://en.wikipedia.org/wiki/Recursion_(computer_science)\n",
    "\n",
    "En informática se dice que una función es [recursiva][recu] cuando ella misma aparece en su propia definición. Para que no se produzca un círculo vicioso que meta al programa en un bucle infinito debe exisitir un **caso base** no recursivo. Muchas funciones matemáticas y procesos computacionales se expresan de forma natural de esta forma."
   ]
  },
  {
   "cell_type": "markdown",
   "metadata": {},
   "source": [
    "## Factorial"
   ]
  },
  {
   "cell_type": "markdown",
   "metadata": {},
   "source": [
    "El ejemplo obligatorio es la función factorial: $n!=1\\times 2  \\times 3 \\times \\ldots \\times n$. Sabemos definirla de forma \"iterativa\" con un bucle, pero también podemos transcribir directamente la definición matemática recursiva:\n",
    "\n",
    "$$ n ! = \\begin{cases}\n",
    "            1   & \\text{si } n=0 \\\\\n",
    "            n\\, (n-1)!   & \\text{si } n > 0 \\\\\n",
    "         \\end{cases} $$\n"
   ]
  },
  {
   "cell_type": "code",
   "execution_count": null,
   "metadata": {},
   "outputs": [],
   "source": [
    "def fact(n):\n",
    "    if n == 0:\n",
    "        return 1\n",
    "    else:\n",
    "        return n*fact(n-1)\n",
    "\n",
    "fact(5), fact(8)"
   ]
  },
  {
   "cell_type": "markdown",
   "metadata": {},
   "source": [
    "El proceso que realiza el ordenador es más o menos el siguiente:\n",
    "\n",
    "    fact(5) = \n",
    "    = 5 * fact(4) =\n",
    "    = 5 * 4 * fact(3) =\n",
    "    = 5 * 4 * 3 * fact(2) = \n",
    "    = 5 * 4 * 3 * 2 * fact(1) = \n",
    "    = 5 * 4 * 3 * 2 * 1 * fact(0) = \n",
    "    = 5 * 4 * 3 * 2 * 1 * 1 =\n",
    "    = 5 * 4 * 3 * 2 * 1 =\n",
    "    = 5 * 4 * 3 * 2 =\n",
    "    = 5 * 4 * 6 =\n",
    "    = 5 * 24 =\n",
    "    = 120"
   ]
  },
  {
   "cell_type": "markdown",
   "metadata": {},
   "source": [
    "Todos los cálculos intermedios y operaciones que quedan pendientes se realizan de forma automática."
   ]
  },
  {
   "cell_type": "markdown",
   "metadata": {},
   "source": [
    "Pero hay que tener cuidado con el número que pasamos como argumento: si es negativo o no es entero la función nunca llegará al caso base y se meterá en un bucle infinito. Una buena práctica es comprobar que los argumentos a una función son válidos. Para ello es útil la sentencia `assert`."
   ]
  },
  {
   "cell_type": "code",
   "execution_count": null,
   "metadata": {},
   "outputs": [],
   "source": [
    "def fact(n):\n",
    "    assert type(n) == int, \"fact requiere un argumento entero\"\n",
    "    assert n>=0,           \"fact requiere un argumento no negativo\"\n",
    "    if n > 0:\n",
    "        return n*fact(n-1)\n",
    "    return 1\n",
    "\n",
    "fact(5)  # prueba argumentos ilegales como -3 o 2.6"
   ]
  },
  {
   "cell_type": "markdown",
   "metadata": {},
   "source": [
    "Existe una forma alternativa de expresar condiciones `if-else` como un operador:"
   ]
  },
  {
   "cell_type": "code",
   "execution_count": null,
   "metadata": {},
   "outputs": [],
   "source": [
    "3 * (5 if 2>3 else 7) + 2"
   ]
  },
  {
   "cell_type": "markdown",
   "metadata": {},
   "source": [
    "Esta sintaxis, unida a las funciones anónimas, que no necesitan `return`, permite una definición muy compacta del factorial."
   ]
  },
  {
   "cell_type": "code",
   "execution_count": null,
   "metadata": {},
   "outputs": [],
   "source": [
    "fact = lambda n: n*fact(n-1) if n>0 else 1\n",
    "\n",
    "fact(5)"
   ]
  },
  {
   "cell_type": "markdown",
   "metadata": {},
   "source": [
    "## Fibonacci"
   ]
  },
  {
   "cell_type": "markdown",
   "metadata": {},
   "source": [
    "La [sucesión de Fibonacci](https://en.wikipedia.org/wiki/Fibonacci_number) tiene gran interés ya que aparece en los sitios más inesperados. Se define así:\n",
    "\n",
    "\n",
    "$$\\begin{aligned}\n",
    "F_0 &= 0\\\\\n",
    "F_1 &= 1 \\\\\n",
    "F_n &= F_{n-1} + F_{n-2}\n",
    "\\end{aligned}$$\n",
    "\n",
    "Cada término es la suma de los dos anteriores: $0,1,1,2,3,5,8,13,21,...$ "
   ]
  },
  {
   "cell_type": "markdown",
   "metadata": {},
   "source": [
    "La definición informática es inmediata:"
   ]
  },
  {
   "cell_type": "code",
   "execution_count": null,
   "metadata": {},
   "outputs": [],
   "source": [
    "def fibo(n):\n",
    "    if n==0:\n",
    "        return 0\n",
    "    if n==1:\n",
    "        return 1\n",
    "    return fibo(n-1) + fibo(n-2)\n",
    "\n",
    "fibo(6)"
   ]
  },
  {
   "cell_type": "markdown",
   "metadata": {},
   "source": [
    "Desafortunadamente, la doble recursión de esta función la hace muy ineficiente, ya que se repiten muchos cálculos."
   ]
  },
  {
   "cell_type": "code",
   "execution_count": null,
   "metadata": {},
   "outputs": [],
   "source": [
    "%%time\n",
    "\n",
    "fibo(30)"
   ]
  },
  {
   "cell_type": "markdown",
   "metadata": {},
   "source": [
    "En este caso se realizan del orden de $2^{28}$ llamadas recursivas. Esto puede comprobarse añadiendo un contador (o, mucho mejor, ejecutando la función en una celda con el comando mágico `%%prun`)."
   ]
  },
  {
   "cell_type": "code",
   "execution_count": null,
   "metadata": {},
   "outputs": [],
   "source": [
    "def fibo(n):\n",
    "    global tot\n",
    "    if n==0:\n",
    "        return 0\n",
    "    if n==1:\n",
    "        return 1\n",
    "    tot += 2\n",
    "    return fibo(n-1) + fibo(n-2)\n",
    "\n",
    "tot=0\n",
    "\n",
    "fibo(30),tot"
   ]
  },
  {
   "cell_type": "markdown",
   "metadata": {},
   "source": [
    "Este rendimiento tan pobre es inaceptable en cualquier aplicación realista. Hay varias alternativas: una es programar la función de forma iterativa, usando dos variables que contienen los dos últimos elementos de la secuencia calculados hasta ese momento. Es un ejercicio muy recomendable. Esta idea se puede escribir también de forma recursiva, como se muestra en el [ejercicio resuelto FG](ejercicios.ipynb#FG)."
   ]
  },
  {
   "cell_type": "markdown",
   "metadata": {},
   "source": [
    "Otra posibilidad es usar un \"decorador\" de Python que añade automáticamente a cualquier función una memoria de los resultados que ya ha calculado ([memoization](https://en.wikipedia.org/wiki/Memoization))."
   ]
  },
  {
   "cell_type": "code",
   "execution_count": null,
   "metadata": {
    "tags": []
   },
   "outputs": [],
   "source": [
    "from functools import lru_cache\n",
    "\n",
    "@lru_cache()\n",
    "def fibo(n):\n",
    "    if n==0:\n",
    "        return 0\n",
    "    if n==1:\n",
    "        return 1\n",
    "    return fibo(n-1) + fibo(n-2)"
   ]
  },
  {
   "cell_type": "code",
   "execution_count": null,
   "metadata": {},
   "outputs": [],
   "source": [
    "%%time\n",
    "\n",
    "fibo(50)"
   ]
  },
  {
   "cell_type": "markdown",
   "metadata": {},
   "source": [
    "## Bisección"
   ]
  },
  {
   "cell_type": "markdown",
   "metadata": {},
   "source": [
    "El método de la bisección es una forma recursiva de resolver una ecuación de la forma $h(x)=0$, partiendo el intervalo de búsqueda por la mitad y buscando en el trozo donde la función cambia de signo. Terminamos cuando el intervalo es menor que la precisión deseada."
   ]
  },
  {
   "cell_type": "markdown",
   "metadata": {},
   "source": [
    "La definición admite como parámetro la función que constituye la ecuación, además de los extremos del intervalo de búsqueda y la precisión."
   ]
  },
  {
   "cell_type": "code",
   "execution_count": null,
   "metadata": {},
   "outputs": [],
   "source": [
    "def bisección(h,a,b,eps):\n",
    "    c = (a+b)/2\n",
    "    d = b-a\n",
    "    if d < eps:\n",
    "        return c\n",
    "    if h(a)*h(c)<0:\n",
    "        return bisección(h,a,c,eps)\n",
    "    else:\n",
    "        return bisección(h,c,b,eps)"
   ]
  },
  {
   "cell_type": "markdown",
   "metadata": {},
   "source": [
    "Como ejemplo, resolvamos la ecuación de Kepler \n",
    "\n",
    "$$x - b \\sin(x)=a$$\n",
    "\n",
    "para $b=0.3$ y $a=0.4$."
   ]
  },
  {
   "cell_type": "markdown",
   "metadata": {},
   "source": [
    "A ojo se ve que la solución es algo menor de 0.6"
   ]
  },
  {
   "cell_type": "code",
   "execution_count": null,
   "metadata": {},
   "outputs": [],
   "source": [
    "import numpy as np\n",
    "import matplotlib.pyplot as plt\n",
    "\n",
    "\n",
    "b = 0.3\n",
    "a = 0.4\n",
    "\n",
    "def f(x):\n",
    "    return x-b*np.sin(x)-a\n",
    "\n",
    "x = np.linspace(0,np.pi/2,100)\n",
    "\n",
    "plt.plot(x,f(x)); plt.grid();"
   ]
  },
  {
   "cell_type": "code",
   "execution_count": null,
   "metadata": {},
   "outputs": [],
   "source": [
    "bisección(f,0,np.pi/2,1E-8)"
   ]
  },
  {
   "cell_type": "markdown",
   "metadata": {},
   "source": [
    "Otro ejemplo: encuentra una solución de $\\cos(x)=x^2$."
   ]
  },
  {
   "cell_type": "code",
   "execution_count": null,
   "metadata": {},
   "outputs": [],
   "source": [
    "from math import cos\n",
    "\n",
    "bisección(lambda x: cos(x)-x**2, 0,3, 1e-8)"
   ]
  },
  {
   "cell_type": "markdown",
   "metadata": {},
   "source": [
    "Este método es mucho más eficiente que recorrer todo el intervalo de búsqueda discretizado con la precisión deseada para buscar el valor que produce el resultado más próximo a cero. En cada paso el error se divide por la mitad."
   ]
  },
  {
   "cell_type": "markdown",
   "metadata": {},
   "source": [
    "## Árbol"
   ]
  },
  {
   "cell_type": "markdown",
   "metadata": {},
   "source": [
    "Muchas estructuras naturales tienen una configuración repetitiva, \"autosimilar\". Podemos recrearlas informáticamente con programas recursivos."
   ]
  },
  {
   "cell_type": "code",
   "execution_count": null,
   "metadata": {},
   "outputs": [],
   "source": [
    "import numpy as np\n",
    "import matplotlib.pyplot as plt"
   ]
  },
  {
   "cell_type": "markdown",
   "metadata": {},
   "source": [
    "Por ejemplo, para crear una estructura ramificada parecida a un árbol hacemos lo siguiente: una rama se reduce a una hoja en el caso base, o se desarrolla como un tronco y dos ramas. La única complicación es calcular los puntos de partida y llegada de las subramas."
   ]
  },
  {
   "cell_type": "code",
   "execution_count": null,
   "metadata": {},
   "outputs": [],
   "source": [
    "def rama(P,Q,n):\n",
    "    x1,y1 = P\n",
    "    x2,y2 = Q\n",
    "    if n>0:\n",
    "        dx,dy = D = Q-P\n",
    "        M = xm,ym = P + 0.3*D\n",
    "        plt.plot([x1,xm],[y1,ym],'black')\n",
    "        R = 0.4*np.array([dy,-dx])\n",
    "        rama(M,Q+R,n-1)\n",
    "        rama(M,Q-R,n-1)\n",
    "\n",
    "plt.figure(figsize=(6,6))\n",
    "rama(np.array([0,0]),[0,1],4)\n",
    "plt.axis('equal');"
   ]
  },
  {
   "cell_type": "markdown",
   "metadata": {},
   "source": [
    "El aspecto final depende de las longitudes y ángulos de la \"Y\" en que se transforma cada segmento."
   ]
  },
  {
   "cell_type": "markdown",
   "metadata": {},
   "source": [
    "Podemos adornarlo un poco:"
   ]
  },
  {
   "cell_type": "code",
   "execution_count": null,
   "metadata": {},
   "outputs": [],
   "source": [
    "def rama(P,Q,n):\n",
    "    x1,y1 = P\n",
    "    x2,y2 = Q\n",
    "    if n<=0:\n",
    "        plt.plot([x1,x2],[y1,y2],'green',lw=5,alpha=0.2)\n",
    "    else:\n",
    "        dx,dy = D = Q-P\n",
    "        M = xm,ym = P + 0.4*D\n",
    "        plt.plot([x1,xm],[y1,ym],'brown',lw=n)\n",
    "        R = 0.3*np.array([dy,-dx])\n",
    "        rama(M,Q+R,n-1)\n",
    "        rama(M,Q-R,n-1)\n",
    "\n",
    "\n",
    "plt.figure(figsize=(6,6))\n",
    "rama(np.array([0,0]),[0,1],8)\n",
    "plt.axis('equal');"
   ]
  },
  {
   "cell_type": "markdown",
   "metadata": {},
   "source": [
    "De nuevo se trata de una doble recursión, por lo que el tiempo de cálculo crece de forma exponencial con el nivel de detalle."
   ]
  },
  {
   "cell_type": "markdown",
   "metadata": {},
   "source": [
    "Añadiendo perturbaciones aleatorias se puede conseguir un aspecto más natural. Intenta conseguir algo parecido a esto:\n",
    "\n",
    "![tree](graph/tree.png)"
   ]
  },
  {
   "cell_type": "markdown",
   "metadata": {},
   "source": [
    "Hay muchos otros objetos recursivos que se pueden programar fácilmente. Como ejercicio puedes dibujar un [copo de nieve de Koch](https://en.wikipedia.org/wiki/Koch_snowflake). \n"
   ]
  },
  {
   "cell_type": "markdown",
   "metadata": {},
   "source": [
    "## Programación dinámica *"
   ]
  },
  {
   "cell_type": "markdown",
   "metadata": {},
   "source": [
    "En computación, el término \"[programación dinámica](https://en.wikipedia.org/wiki/Dynamic_programming)\" se refiere a los métodos de solución recursivos con *memoization* de resultados. \n",
    "\n",
    "Ya hemos visto un ejemplo muy sencillo de esto en la sucesión de Fibonacci. Aunque la solución recursiva directa tiene complejidad exponencial, simplemente almacenando en una tabla los elementos ya calculados el coste se vuelve lineal."
   ]
  },
  {
   "cell_type": "markdown",
   "metadata": {},
   "source": [
    "Otro ejemplo interesante es el del \"problema del cambio\" que aparece en el [libro de Sannemo](https://www.csc.kth.se/~jsannemo/slask/main.pdf). Se trata de expresar una cantidad con el menor número de monedas de valores dados. Si los valores son, por ejemplo {1,2,5,10}, un método óptimo es ir reduciendo la cantidad siempre con la moneda de mayor valor posible: P. ej.: 19=10+5+2+2.\n",
    "\n",
    "Pero si los valores posibles son D={1,6,7}, entonces esta estrategia falla: 12=7+1+1+1+1+1 es mucho peor que 12=6+6.\n",
    "\n",
    "Para resolver el problema en este tipo de casos es necesario calcular el coste que supone usar cada moneda, resolviendo el problema para la candidad restante, y elegir la mejor. Esto implica consultar la solución de muchos subproblemas, lo que daría lugar a un coste exponencial a menos que se vayan almacenando en algún tipo de tabla. Como hemos visto, Python permite añadir memoization cómodamente a las funciones."
   ]
  },
  {
   "cell_type": "code",
   "execution_count": null,
   "metadata": {},
   "outputs": [],
   "source": [
    "D = [1,6,7]\n",
    "\n",
    "# change devuelve el número de monedas y una lista con las monedas utilizadas\n",
    "def change(t):\n",
    "    if t==0:\n",
    "        return 0, []\n",
    "    # probamos a reducir el problema con todas las monedas\n",
    "    pos = [ (change(t-d),d) for d in D if t>=d ]\n",
    "    # elegimos la de menor tamaño\n",
    "    (n,l),s = min(pos)\n",
    "    # formamos la solución completa con la moneda elegida\n",
    "    return 1+n, l+[s]"
   ]
  },
  {
   "cell_type": "code",
   "execution_count": null,
   "metadata": {},
   "outputs": [],
   "source": [
    "change(50)"
   ]
  },
  {
   "cell_type": "markdown",
   "metadata": {},
   "source": [
    "Repetimos exactamente la misma definición, añadiendo memoization."
   ]
  },
  {
   "cell_type": "code",
   "execution_count": null,
   "metadata": {},
   "outputs": [],
   "source": [
    "from functools import lru_cache\n",
    "\n",
    "D = [1,6,7]\n",
    "\n",
    "@lru_cache(maxsize=None)\n",
    "def change(t):\n",
    "    if t==0:\n",
    "        return 0, []\n",
    "    pos = [ (change(t-d),d) for d in D if t>=d ]\n",
    "    (n,l),s = min(pos)\n",
    "    return 1+n, l+[s]"
   ]
  },
  {
   "cell_type": "code",
   "execution_count": null,
   "metadata": {},
   "outputs": [],
   "source": [
    "change(100)"
   ]
  }
 ],
 "metadata": {
  "hide_input": false,
  "kernelspec": {
   "display_name": "Python 3 (ipykernel)",
   "language": "python",
   "name": "python3"
  },
  "language_info": {
   "codemirror_mode": {
    "name": "ipython",
    "version": 3
   },
   "file_extension": ".py",
   "mimetype": "text/x-python",
   "name": "python",
   "nbconvert_exporter": "python",
   "pygments_lexer": "ipython3",
   "version": "3.11.5"
  },
  "varInspector": {
   "cols": {
    "lenName": 16,
    "lenType": 16,
    "lenVar": 40
   },
   "kernels_config": {
    "python": {
     "delete_cmd_postfix": "",
     "delete_cmd_prefix": "del ",
     "library": "var_list.py",
     "varRefreshCmd": "print(var_dic_list())"
    },
    "r": {
     "delete_cmd_postfix": ") ",
     "delete_cmd_prefix": "rm(",
     "library": "var_list.r",
     "varRefreshCmd": "cat(var_dic_list()) "
    }
   },
   "types_to_exclude": [
    "module",
    "function",
    "builtin_function_or_method",
    "instance",
    "_Feature"
   ],
   "window_display": false
  }
 },
 "nbformat": 4,
 "nbformat_minor": 4
}
