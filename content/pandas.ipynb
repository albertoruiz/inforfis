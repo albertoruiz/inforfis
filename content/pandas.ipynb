{
 "cells": [
  {
   "cell_type": "markdown",
   "metadata": {},
   "source": [
    "# Análisis de datos"
   ]
  },
  {
   "cell_type": "markdown",
   "metadata": {},
   "source": [
    "En este capítulo mostraremos varios ejemplos de manipulación de datos usando `numpy` y `pandas`. No es necesario aprender nada de memoria. Lo importante es entender el tipo de procesos que podemos hacer usando estas herramientas y tener a mano una colección de ejemplos típicos para adaptarlos a nuestras necesidades."
   ]
  },
  {
   "cell_type": "markdown",
   "metadata": {},
   "source": [
    "## Números pseudoaleatorios y estadística elemental"
   ]
  },
  {
   "cell_type": "code",
   "execution_count": null,
   "metadata": {},
   "outputs": [],
   "source": [
    "import numpy as np\n",
    "import matplotlib.pyplot as plt\n",
    "plt.rc('figure',figsize=(5,3))"
   ]
  },
  {
   "cell_type": "markdown",
   "metadata": {},
   "source": [
    "Simulamos el lanzamiendo de 1000 dados. Queremos comprobar que los 6 resultados son igualmente probables."
   ]
  },
  {
   "cell_type": "code",
   "execution_count": null,
   "metadata": {},
   "outputs": [],
   "source": [
    "dados = np.random.randint(1,6+1,1000)"
   ]
  },
  {
   "cell_type": "code",
   "execution_count": null,
   "metadata": {},
   "outputs": [],
   "source": [
    "dados"
   ]
  },
  {
   "cell_type": "markdown",
   "metadata": {},
   "source": [
    "El histograma de resultados debe mostrar una distribución aproximadamente uniforme."
   ]
  },
  {
   "cell_type": "code",
   "execution_count": null,
   "metadata": {},
   "outputs": [],
   "source": [
    "plt.hist(dados)"
   ]
  },
  {
   "cell_type": "markdown",
   "metadata": {},
   "source": [
    "Las opciones por omisión no son adecuadas para este problema, quedan cajas vacías. Normalmente es conveniente especificar los extremos de las cajas (\"bins\"), para que el histograma quede mejor:"
   ]
  },
  {
   "cell_type": "code",
   "execution_count": null,
   "metadata": {},
   "outputs": [],
   "source": [
    "plt.hist(dados,bins=np.arange(0.5,7),edgecolor='black');"
   ]
  },
  {
   "cell_type": "markdown",
   "metadata": {},
   "source": [
    "Simulemos ahora 100 lanzamientos de 3 dados. Para ello generamos una matriz $100 \\times 3$  de enteros pseudoaleatorios entre 1 y 6."
   ]
  },
  {
   "cell_type": "code",
   "execution_count": null,
   "metadata": {},
   "outputs": [],
   "source": [
    "dados = np.random.randint(1,6+1,(100,3))\n",
    "dados[:10]"
   ]
  },
  {
   "cell_type": "markdown",
   "metadata": {},
   "source": [
    "Para calcular la puntuación total en cada tirada sumamos los elementos de la matriz a lo largo de las filas:"
   ]
  },
  {
   "cell_type": "code",
   "execution_count": null,
   "metadata": {},
   "outputs": [],
   "source": [
    "s = np.sum(dados,axis=1)\n",
    "s"
   ]
  },
  {
   "cell_type": "markdown",
   "metadata": {},
   "source": [
    "El histograma de resultados ya no es uniforme, empieza a parecerse a una normal."
   ]
  },
  {
   "cell_type": "code",
   "execution_count": null,
   "metadata": {},
   "outputs": [],
   "source": [
    "plt.hist(s,bins=np.arange(2.5,19), edgecolor='black');"
   ]
  },
  {
   "cell_type": "markdown",
   "metadata": {},
   "source": [
    "La distribución acumulada empírica es otra forma de ver el tipo de aleatoriedad de unos datos. Se consigue simplemente ordenando la muestra."
   ]
  },
  {
   "cell_type": "code",
   "execution_count": null,
   "metadata": {},
   "outputs": [],
   "source": [
    "plt.plot(sorted(s),np.arange(len(s))/len(s));"
   ]
  },
  {
   "cell_type": "markdown",
   "metadata": {},
   "source": [
    "Generemos ahora 100 números pseudo-aleatorios normalmente distribuidos con media 2 y desviación típica 3."
   ]
  },
  {
   "cell_type": "code",
   "execution_count": null,
   "metadata": {},
   "outputs": [],
   "source": [
    "r = 2+3*np.random.randn(100)\n",
    "\n",
    "plt.hist(r,10);"
   ]
  },
  {
   "cell_type": "markdown",
   "metadata": {},
   "source": [
    "Podemos compararar el histograma y distribución acumulada empírica de estos datos con la densidad y la distribución acumulada teóricas, que tomamos del módulo `scipy.stats`."
   ]
  },
  {
   "cell_type": "code",
   "execution_count": null,
   "metadata": {},
   "outputs": [],
   "source": [
    "from scipy.stats import norm\n",
    "\n",
    "x = np.linspace(-5,10,100)\n",
    "\n",
    "plt.figure(figsize=(10,3))\n",
    "plt.subplot(1,2,1)\n",
    "plt.hist(r,10,density=True,edgecolor='black');\n",
    "plt.plot(x,norm.pdf(x,2,3));\n",
    "\n",
    "plt.subplot(1,2,2)\n",
    "plt.plot(np.sort(r),np.arange(1,101)/100);\n",
    "plt.plot(x,norm.cdf(x,2,3));"
   ]
  },
  {
   "cell_type": "markdown",
   "metadata": {},
   "source": [
    "`numpy` proporciona varias funciones estadísticas. Se pueden expresar como propiedades del array o como funciones normales. Elige la forma que más te guste:"
   ]
  },
  {
   "cell_type": "code",
   "execution_count": null,
   "metadata": {},
   "outputs": [],
   "source": [
    "r.mean()"
   ]
  },
  {
   "cell_type": "code",
   "execution_count": null,
   "metadata": {
    "tags": []
   },
   "outputs": [],
   "source": [
    "np.mean(r)"
   ]
  },
  {
   "cell_type": "code",
   "execution_count": null,
   "metadata": {},
   "outputs": [],
   "source": [
    "r.max()"
   ]
  },
  {
   "cell_type": "code",
   "execution_count": null,
   "metadata": {},
   "outputs": [],
   "source": [
    "min(r)"
   ]
  },
  {
   "cell_type": "code",
   "execution_count": null,
   "metadata": {},
   "outputs": [],
   "source": [
    "r.std()"
   ]
  },
  {
   "cell_type": "code",
   "execution_count": null,
   "metadata": {},
   "outputs": [],
   "source": [
    "np.median(r)"
   ]
  },
  {
   "cell_type": "markdown",
   "metadata": {},
   "source": [
    "Finalmente, supongamos que queremos saber cómo se transforma una distribución uniforme entre cero y uno con la función $f(x)=x^2$. La densidad de probabilidad resultante se puede obtener de forma analítica, pero también podemos visualizar el resultado fácilmente aplicando la función a una muestra aleatoria."
   ]
  },
  {
   "cell_type": "code",
   "execution_count": null,
   "metadata": {},
   "outputs": [],
   "source": [
    "x = np.random.rand(10000)\n",
    "plt.hist(x,np.linspace(0,1,20));"
   ]
  },
  {
   "cell_type": "code",
   "execution_count": null,
   "metadata": {},
   "outputs": [],
   "source": [
    "y = x**2\n",
    "plt.hist(y, np.linspace(0,1,20));"
   ]
  },
  {
   "cell_type": "markdown",
   "metadata": {},
   "source": [
    "## Lectura desde archivo"
   ]
  },
  {
   "cell_type": "markdown",
   "metadata": {},
   "source": [
    "El módulo `pandas` proporciona el tipo \"dataframe\", muy utilizado en análisis de datos. Permite leer conjuntos de datos almacenados en archivos que pueden estar incluso en una máquina remota."
   ]
  },
  {
   "cell_type": "markdown",
   "metadata": {},
   "source": [
    "El siguiente archivo contiene datos astronómicos tomados de https://ned.ipac.caltech.edu/."
   ]
  },
  {
   "cell_type": "code",
   "execution_count": null,
   "metadata": {},
   "outputs": [],
   "source": [
    "import pandas as pd"
   ]
  },
  {
   "cell_type": "code",
   "execution_count": null,
   "metadata": {},
   "outputs": [],
   "source": [
    "# Si estamos en jupyterlite lo leemos de la carpeta local datos, y si no de una máquina remota.\n",
    "\n",
    "try:\n",
    "    df = pd.read_table('https://robot.inf.um.es/material/data/ConstanteHubbleDatos-1.txt', sep='\\s+', comment='#')\n",
    "except:\n",
    "    df = pd.read_table('datos/hubble.txt', sep='\\s+', comment='#')    \n",
    "\n",
    "df"
   ]
  },
  {
   "cell_type": "markdown",
   "metadata": {},
   "source": [
    "Un experimento interesante es ajustar un modelo lineal a un conjunto de observaciones. Definimos una función auxiliar para dibujar cómo queda una recta cualquiera:"
   ]
  },
  {
   "cell_type": "code",
   "execution_count": null,
   "metadata": {},
   "outputs": [],
   "source": [
    "# extraemos las columnas de las variables que nos interesan\n",
    "x = df.Magnitud.values\n",
    "y = df['V(km/s)'].values\n",
    "n = len(x)\n",
    "\n",
    "# dibuja una recta con coeficientes a,b entre x1 y x2\n",
    "def abline(a,b,x1,x2):\n",
    "    x = np.linspace(x1,x2,10)\n",
    "    plt.plot(x,a*x+b)\n",
    "\n",
    "\n",
    "def fun(a = 1200, b=0):\n",
    "    plt.figure(figsize=(5,5))\n",
    "    plt.plot(x,y,'.',markersize=10)\n",
    "    plt.grid(); plt.xlabel('Magnitud'); plt.ylabel('velocity'); \n",
    "    plt.title('Redshift data');\n",
    "    abline(a, b, 0,20)\n",
    "    plt.axis([11,20,-10000,40000])"
   ]
  },
  {
   "cell_type": "markdown",
   "metadata": {},
   "source": [
    "Por ejemplo:"
   ]
  },
  {
   "cell_type": "code",
   "execution_count": null,
   "metadata": {},
   "outputs": [],
   "source": [
    "fun(1100,500)"
   ]
  },
  {
   "cell_type": "markdown",
   "metadata": {},
   "source": [
    "Por supuesto, tiene más sentido encontrar automáticamente la \"recta de regresión\", que minimiza el error cuadrático. Lo vamos a hacer con el módulo `scikit-learn`."
   ]
  },
  {
   "cell_type": "code",
   "execution_count": null,
   "metadata": {},
   "outputs": [],
   "source": [
    "# !pip install scikit-learn\n",
    "\n",
    "from sklearn import linear_model"
   ]
  },
  {
   "cell_type": "code",
   "execution_count": null,
   "metadata": {},
   "outputs": [],
   "source": [
    "model = linear_model.LinearRegression()\n",
    "model.fit(x.reshape(n,1),y.reshape(n,1))  # hace falta convertir los vectores en matrices"
   ]
  },
  {
   "cell_type": "code",
   "execution_count": null,
   "metadata": {},
   "outputs": [],
   "source": [
    "model.coef_"
   ]
  },
  {
   "cell_type": "code",
   "execution_count": null,
   "metadata": {},
   "outputs": [],
   "source": [
    "model.intercept_"
   ]
  },
  {
   "cell_type": "code",
   "execution_count": null,
   "metadata": {},
   "outputs": [],
   "source": [
    "fun(model.coef_[0][0], model.intercept_[0])"
   ]
  },
  {
   "cell_type": "markdown",
   "metadata": {},
   "source": [
    "Habría que evaluar la calidad del modelo obtenido sobre muestras independientes para ver si tiene sentido usarlo para predecir casos futuros."
   ]
  },
  {
   "cell_type": "markdown",
   "metadata": {},
   "source": [
    "## Ciudades"
   ]
  },
  {
   "cell_type": "markdown",
   "metadata": {},
   "source": [
    "El módulo pandas puede leer hojas de cálculo de Excel. Como ejemplo vamos a hacer unos cuantos experimentos con las ciudades de España."
   ]
  },
  {
   "cell_type": "code",
   "execution_count": null,
   "metadata": {},
   "outputs": [],
   "source": [
    "# (obsoleto, 2010)\n",
    "# https://www.businessintelligence.info/varios/longitud-latitud-pueblos-espana.html\n",
    "\n",
    "try: \n",
    "    # !pip install xlrd\n",
    "    df = pd.read_excel('https://robot.inf.um.es/material/data/listado-longitud-latitud-municipios-espana.xls',skiprows=2)\n",
    "except:\n",
    "    %pip install xlrd\n",
    "    df = pd.read_excel('datos/municipios.xls',skiprows=2)\n",
    "\n",
    "df.head()"
   ]
  },
  {
   "cell_type": "markdown",
   "metadata": {},
   "source": [
    "Tenemos un \"dataframe\" (tabla de datos) con los más de 8000 municipios. Podemos seleccionar los casos (filas) que cumplan una condición, y los atributos deseados (columnas). Finalmente podemos ordenar por cualquier criterio."
   ]
  },
  {
   "cell_type": "code",
   "execution_count": null,
   "metadata": {},
   "outputs": [],
   "source": [
    "df[df.Habitantes > 200000][['Población','Habitantes']].sort_values(by='Habitantes', ascending=False)"
   ]
  },
  {
   "cell_type": "markdown",
   "metadata": {},
   "source": [
    "Como primer ejemplo vamos a dibujar la posición de las ciudades más grandes."
   ]
  },
  {
   "cell_type": "code",
   "execution_count": null,
   "metadata": {},
   "outputs": [],
   "source": [
    "sel = df[(df.Habitantes > 250000) & (df.Comunidad != 'Canarias')]\n",
    "\n",
    "x   = sel.Longitud.values\n",
    "y   = sel.Latitud.values\n",
    "pob = sel.Población.values"
   ]
  },
  {
   "cell_type": "code",
   "execution_count": null,
   "metadata": {},
   "outputs": [],
   "source": [
    "plt.figure(figsize=(6,6))\n",
    "plt.plot(x,y,'.',markersize=15)\n",
    "for k in range(len(pob)):\n",
    "    plt.text(x[k]+0.2,y[k],pob[k],fontsize=10)\n",
    "plt.xlabel('longitud'); plt.ylabel('latitud');"
   ]
  },
  {
   "cell_type": "markdown",
   "metadata": {},
   "source": [
    "Ten en cuenta que las coordenadas esféricas representadas en un plano producen una deformación."
   ]
  },
  {
   "cell_type": "markdown",
   "metadata": {},
   "source": [
    "## Ciudades más alejadas"
   ]
  },
  {
   "cell_type": "markdown",
   "metadata": {},
   "source": [
    "¿Cuál es la pareja de ciudades españolas  más alejadas entre sí, dentro de la península? (Podemos considerar solo las más grandes, con más de 10K habitantes por ejemplo.)"
   ]
  },
  {
   "cell_type": "markdown",
   "metadata": {},
   "source": [
    "Para resolver este problema necesitamos dos cosas:\n",
    "\n",
    "- una función que convierta posiciones GPS en puntos sobre la superficie terrestre (suponemos una esfera y altitud común) para calcular la distancia correctamente.\n",
    "\n",
    "\n",
    "- hacer un bucle doble para calcular las distancias entre todas las parejas de ciudades. "
   ]
  },
  {
   "cell_type": "markdown",
   "metadata": {},
   "source": [
    "En primer lugar vamos a crear una función auxiliar para extraer las coordenadas gps de una ciudad dada."
   ]
  },
  {
   "cell_type": "code",
   "execution_count": null,
   "metadata": {},
   "outputs": [],
   "source": [
    "df[df.Población=='Toledo']"
   ]
  },
  {
   "cell_type": "code",
   "execution_count": null,
   "metadata": {},
   "outputs": [],
   "source": [
    "df[df.Población=='Toledo'][['Latitud','Longitud']].iloc[0]"
   ]
  },
  {
   "cell_type": "markdown",
   "metadata": {},
   "source": [
    "Viendo cómo funciona la selección de filas y columnas y tras unas cuantas pruebas, elegimos esa definición:"
   ]
  },
  {
   "cell_type": "code",
   "execution_count": null,
   "metadata": {},
   "outputs": [],
   "source": [
    "def gps(ciudad):\n",
    "    return np.array(df[df.Población==ciudad][['Latitud','Longitud']].iloc[0])\n",
    "\n",
    "gps('Toledo')"
   ]
  },
  {
   "cell_type": "markdown",
   "metadata": {},
   "source": [
    "Para calcular la distancia entre dos puntos gps convertimos las coordenadas esféricas a vectores 3D cartesianos y luego vemos el ángulo que forman."
   ]
  },
  {
   "cell_type": "code",
   "execution_count": null,
   "metadata": {},
   "outputs": [],
   "source": [
    "def tovec(p):\n",
    "    la,lo = np.radians(p)\n",
    "    z = np.sin(la)\n",
    "    x = np.cos(la) * np.cos(lo)\n",
    "    y = np.cos(la) * np.sin(lo)\n",
    "    return np.array([x,y,z])\n",
    "\n",
    "RT = 6371\n",
    "\n",
    "def geodist(p,q):\n",
    "    v1 = tovec(p)\n",
    "    v2 = tovec(q)\n",
    "    x = v1 @ v2\n",
    "    if abs(x) > 1:\n",
    "        return 0\n",
    "    a = np.arccos(x)\n",
    "    return RT*a\n",
    "\n",
    "\n",
    "geodist(gps('Murcia'),gps('Cartagena'))"
   ]
  },
  {
   "cell_type": "markdown",
   "metadata": {},
   "source": [
    "Ya estamos en condiciones de encontrar al máxima distancia. Primero \"filtramos\" las ciudades, quitando las que están fuera de la península o son pequeñas."
   ]
  },
  {
   "cell_type": "code",
   "execution_count": null,
   "metadata": {},
   "outputs": [],
   "source": [
    "# OJO, hay errores en la hoja excel en las coordenadas gps de algún pueblo pequeño.\n",
    "sel = df[  (df.Comunidad !='Canarias') \n",
    "         & (df.Comunidad != 'Islas Baleares') \n",
    "         & (df.Comunidad != 'Ceuta y Melilla') \n",
    "         & (df.Habitantes>10000)]\n",
    "\n",
    "n = len(sel)\n",
    "print(n)\n",
    "pob = sel.Población.values\n",
    "x   = sel.Latitud.values\n",
    "y   = sel.Longitud.values\n",
    "r = np.array([x,y]).T\n",
    "r[:3]"
   ]
  },
  {
   "cell_type": "markdown",
   "metadata": {},
   "source": [
    "Hemos juntado x e y en una matriz r, de modo que r[k] nos da las coordenadas gps de la ciudad k-esima."
   ]
  },
  {
   "cell_type": "markdown",
   "metadata": {},
   "source": [
    "Creamos una lista de tuplas con todos los pares de ciudades y sus distancias."
   ]
  },
  {
   "cell_type": "code",
   "execution_count": null,
   "metadata": {},
   "outputs": [],
   "source": [
    "dists = [ (geodist(r[k], r[j]), pob[k], pob[j])\n",
    "            for k in range(n)\n",
    "            for j in range(n)\n",
    "            if k>j ]"
   ]
  },
  {
   "cell_type": "code",
   "execution_count": null,
   "metadata": {},
   "outputs": [],
   "source": [
    "dists[:5]"
   ]
  },
  {
   "cell_type": "markdown",
   "metadata": {},
   "source": [
    "Y finalmente ordenamos la lista de tuplas. La ordenación de objetos que no son simples números se hace atendiendo a su primer elemento."
   ]
  },
  {
   "cell_type": "code",
   "execution_count": null,
   "metadata": {},
   "outputs": [],
   "source": [
    "sorted(dists,reverse=True)[:10]"
   ]
  },
  {
   "cell_type": "markdown",
   "metadata": {},
   "source": [
    "Podemos resolver el mismo problema con otra selección de ciudades:"
   ]
  },
  {
   "cell_type": "code",
   "execution_count": null,
   "metadata": {},
   "outputs": [],
   "source": [
    "sel = df[(df.Comunidad =='Murcia')]\n",
    "\n",
    "n = len(sel)\n",
    "print(n)\n",
    "pob = sel.Población.values\n",
    "x   = sel.Latitud.values\n",
    "y   = sel.Longitud.values\n",
    "r = np.array([x,y]).T\n",
    "\n",
    "dists = [ (geodist(r[k], r[j]), pob[k], pob[j])\n",
    "            for k in range(n)\n",
    "            for j in range(n)\n",
    "            if k>j ]"
   ]
  },
  {
   "cell_type": "code",
   "execution_count": null,
   "metadata": {},
   "outputs": [],
   "source": [
    "sorted(dists,reverse=True)[:10]"
   ]
  },
  {
   "cell_type": "markdown",
   "metadata": {},
   "source": [
    "Nota: es posible calcular una matriz de distancias entre parejas de puntos usando `numpy`, lo que es mucho más eficiente que el bucle doble explícito de Python. Pero no merece la pena complicar el ejercicio."
   ]
  },
  {
   "cell_type": "markdown",
   "metadata": {},
   "source": [
    "## Zipf's law"
   ]
  },
  {
   "cell_type": "markdown",
   "metadata": {},
   "source": [
    "Aprovechando que tenemos el número de habitantes de las ciudades vamos a mostrar su histograma:"
   ]
  },
  {
   "cell_type": "code",
   "execution_count": null,
   "metadata": {},
   "outputs": [],
   "source": [
    "plt.figure(figsize=(10,3))\n",
    "plt.hist(df[(df.Habitantes>100)].Habitantes,log=True,bins=30);"
   ]
  },
  {
   "cell_type": "markdown",
   "metadata": {},
   "source": [
    "Tiene una forma muy característica, completamente distinta de las distribuciones normales (con forma de campana) que se observan en otro tipo de procesos aleatorios. El histograma en escala logarítmica parece que se comporta mejor:"
   ]
  },
  {
   "cell_type": "code",
   "execution_count": null,
   "metadata": {},
   "outputs": [],
   "source": [
    "plt.figure(figsize=(10,3))\n",
    "plt.hist(df[(df.Habitantes>100)].Habitantes,log=True,bins=np.logspace(1, 7, 50));plt.xscale('log');"
   ]
  },
  {
   "cell_type": "markdown",
   "metadata": {},
   "source": [
    "Pero lo que realmente es indicativo es la distribución acumulada empírica:"
   ]
  },
  {
   "cell_type": "code",
   "execution_count": null,
   "metadata": {},
   "outputs": [],
   "source": [
    "plt.figure(figsize=(10,3))\n",
    "x = sorted(np.array(df[df.Habitantes>100].Habitantes))\n",
    "k = np.arange(len(x))/len(x)\n",
    "plt.plot(x,k); plt.xlim(-1000,10000);"
   ]
  },
  {
   "cell_type": "markdown",
   "metadata": {},
   "source": [
    "Tiene toda la pinta de ser una distribución \"scale free\" o  \"[power law](https://en.wikipedia.org/wiki/Power_law)\". Si mostramos en escalas logarítmicas el tamaño de cada ciudad frente a su número de orden obtenemos una dependencia esencialmente lineal, cuya pendiente es el parámetro característico de la distribución."
   ]
  },
  {
   "cell_type": "code",
   "execution_count": null,
   "metadata": {},
   "outputs": [],
   "source": [
    "dfs = df[df.Habitantes>1000].sort_values('Habitantes',ascending=False)\n",
    "\n",
    "names = list(dfs.Población)\n",
    "x = list(dfs.Habitantes)\n",
    "plt.figure(figsize=(12,6))\n",
    "plt.plot(1+np.arange(len(x)), x ,'.-',lw=1,markersize=5);\n",
    "for k in range(20):\n",
    "    plt.text(1+k,x[k],names[k],rotation=45,horizontalalignment='left',verticalalignment='bottom',fontsize=8)\n",
    "plt.xscale('log'); plt.yscale('log');"
   ]
  },
  {
   "cell_type": "markdown",
   "metadata": {},
   "source": [
    "Lo mismo ocurre en un subconjunto (al menos en un cierto rango de tamaños)."
   ]
  },
  {
   "cell_type": "code",
   "execution_count": null,
   "metadata": {},
   "outputs": [],
   "source": [
    "dfs = df[df.Comunidad=='Murcia'].sort_values('Habitantes',ascending=False)\n",
    "\n",
    "names = list(dfs.Población)\n",
    "x = list(dfs.Habitantes)\n",
    "plt.figure(figsize=(12,6))\n",
    "plt.plot(1+np.arange(len(x)), x ,'.-',lw=1,markersize=5);\n",
    "for k in range(len(x)):\n",
    "    plt.text(1+k,x[k],names[k],rotation=45,horizontalalignment='left',verticalalignment='bottom',fontsize=8)\n",
    "plt.xscale('log'); plt.yscale('log');"
   ]
  },
  {
   "cell_type": "markdown",
   "metadata": {},
   "source": [
    "Este tipo de distribución se observa en muchos otros fenómenos. Por ejemplo, en la frecuencia de las palabras de un idioma:"
   ]
  },
  {
   "cell_type": "code",
   "execution_count": null,
   "metadata": {},
   "outputs": [],
   "source": [
    "#https://en.wiktionary.org/wiki/User:Matthias_Buchmeier/Spanish_frequency_list-1-5000\n",
    "data = open('datos/palabras.txt').read().split(' ')\n",
    "freqs = np.array(data[0::2]).astype(float)\n",
    "words = data[1::2]\n",
    "\n",
    "ks = np.arange(1,1+len(freqs))"
   ]
  },
  {
   "cell_type": "code",
   "execution_count": null,
   "metadata": {},
   "outputs": [],
   "source": [
    "plt.figure(figsize=(12,4))\n",
    "plt.plot(ks,freqs,'.-');\n",
    "for k in range(25):\n",
    "    plt.text(1+k,freqs[k],words[k],rotation=45,horizontalalignment='left',verticalalignment='bottom',fontsize=8)\n",
    "plt.xscale('log'); plt.yscale('log');"
   ]
  }
 ],
 "metadata": {
  "hide_input": false,
  "kernelspec": {
   "display_name": "Python 3 (ipykernel)",
   "language": "python",
   "name": "python3"
  },
  "language_info": {
   "codemirror_mode": {
    "name": "ipython",
    "version": 3
   },
   "file_extension": ".py",
   "mimetype": "text/x-python",
   "name": "python",
   "nbconvert_exporter": "python",
   "pygments_lexer": "ipython3",
   "version": "3.11.5"
  },
  "varInspector": {
   "cols": {
    "lenName": 16,
    "lenType": 16,
    "lenVar": 40
   },
   "kernels_config": {
    "python": {
     "delete_cmd_postfix": "",
     "delete_cmd_prefix": "del ",
     "library": "var_list.py",
     "varRefreshCmd": "print(var_dic_list())"
    },
    "r": {
     "delete_cmd_postfix": ") ",
     "delete_cmd_prefix": "rm(",
     "library": "var_list.r",
     "varRefreshCmd": "cat(var_dic_list()) "
    }
   },
   "types_to_exclude": [
    "module",
    "function",
    "builtin_function_or_method",
    "instance",
    "_Feature"
   ],
   "window_display": false
  }
 },
 "nbformat": 4,
 "nbformat_minor": 4
}
