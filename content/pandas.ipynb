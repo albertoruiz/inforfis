{
  "metadata": {
    "hide_input": false,
    "varInspector": {
      "cols": {
        "lenName": 16,
        "lenType": 16,
        "lenVar": 40
      },
      "kernels_config": {
        "python": {
          "delete_cmd_postfix": "",
          "delete_cmd_prefix": "del ",
          "library": "var_list.py",
          "varRefreshCmd": "print(var_dic_list())"
        },
        "r": {
          "delete_cmd_postfix": ") ",
          "delete_cmd_prefix": "rm(",
          "library": "var_list.r",
          "varRefreshCmd": "cat(var_dic_list()) "
        }
      },
      "types_to_exclude": [
        "module",
        "function",
        "builtin_function_or_method",
        "instance",
        "_Feature"
      ],
      "window_display": false
    },
    "kernelspec": {
      "name": "python",
      "display_name": "Python (Pyodide)",
      "language": "python"
    },
    "language_info": {
      "codemirror_mode": {
        "name": "python",
        "version": 3
      },
      "file_extension": ".py",
      "mimetype": "text/x-python",
      "name": "python",
      "nbconvert_exporter": "python",
      "pygments_lexer": "ipython3",
      "version": "3.8"
    }
  },
  "nbformat_minor": 4,
  "nbformat": 4,
  "cells": [
    {
      "cell_type": "markdown",
      "source": "<p style=\"background:#f4f4f4; padding:5px; margin-left:-5px;margin-bottom:0px\">\nInformática - 1º de Física\n<br>\n<strong>Introducción a la Programación</strong>\n</p>",
      "metadata": {}
    },
    {
      "cell_type": "markdown",
      "source": "## Análisis de datos",
      "metadata": {}
    },
    {
      "cell_type": "markdown",
      "source": "En este capítulo mostraremos varios ejemplos de manipulación de datos usando `numpy` y `pandas`. No es necesario aprender nada de memoria. Lo importante es entender el tipo de procesos que podemos hacer usando estas herramientas y tener a mano una colección de ejemplos típicos para adaptarlos a nuestras necesidades.",
      "metadata": {}
    },
    {
      "cell_type": "markdown",
      "source": "### Números pseudoaleatorios y estadística elemental",
      "metadata": {}
    },
    {
      "cell_type": "code",
      "source": "import numpy as np\nimport matplotlib.pyplot as plt\nplt.rc('figure',figsize=(5,3))",
      "metadata": {
        "trusted": true
      },
      "execution_count": null,
      "outputs": []
    },
    {
      "cell_type": "markdown",
      "source": "Simulamos el lanzamiendo de 1000 dados. Queremos comprobar que los 6 resultados son igualmente probables.",
      "metadata": {}
    },
    {
      "cell_type": "code",
      "source": "dados = np.random.randint(1,6+1,1000)",
      "metadata": {
        "trusted": true
      },
      "execution_count": null,
      "outputs": []
    },
    {
      "cell_type": "code",
      "source": "dados",
      "metadata": {
        "trusted": true
      },
      "execution_count": null,
      "outputs": []
    },
    {
      "cell_type": "markdown",
      "source": "El histograma de resultados debe mostrar una distribución aproximadamente uniforme.",
      "metadata": {}
    },
    {
      "cell_type": "code",
      "source": "plt.hist(dados)",
      "metadata": {
        "trusted": true
      },
      "execution_count": null,
      "outputs": []
    },
    {
      "cell_type": "markdown",
      "source": "Las opciones por omisión no son adecuadas para este problema, quedan cajas vacías. Normalmente es conveniente especificar los extremos de las cajas (\"bins\"), para que el histograma quede mejor:",
      "metadata": {}
    },
    {
      "cell_type": "code",
      "source": "plt.hist(dados,bins=np.arange(0.5,7),edgecolor='black');",
      "metadata": {
        "trusted": true
      },
      "execution_count": null,
      "outputs": []
    },
    {
      "cell_type": "markdown",
      "source": "Simulemos ahora 100 lanzamientos de 3 dados. Para ello generamos una matriz $100 \\times 3$  de enteros pseudoaleatorios entre 1 y 6.",
      "metadata": {}
    },
    {
      "cell_type": "code",
      "source": "dados = np.random.randint(1,6+1,(100,3))\ndados[:10]",
      "metadata": {
        "trusted": true
      },
      "execution_count": null,
      "outputs": []
    },
    {
      "cell_type": "markdown",
      "source": "Para calcular la puntuación total en cada tirada sumamos los elementos de la matriz a lo largo de las filas:",
      "metadata": {}
    },
    {
      "cell_type": "code",
      "source": "s = np.sum(dados,axis=1)\ns",
      "metadata": {
        "trusted": true
      },
      "execution_count": null,
      "outputs": []
    },
    {
      "cell_type": "markdown",
      "source": "El histograma de resultados ya no es uniforme, empieza a parecerse a una normal.",
      "metadata": {}
    },
    {
      "cell_type": "code",
      "source": "plt.hist(s,bins=np.arange(2.5,19), edgecolor='black');",
      "metadata": {
        "trusted": true
      },
      "execution_count": null,
      "outputs": []
    },
    {
      "cell_type": "markdown",
      "source": "La distribución acumulada empírica es otra forma de ver el tipo de aleatoriedad de unos datos. Se consigue simplemente ordenando la muestra.",
      "metadata": {}
    },
    {
      "cell_type": "code",
      "source": "plt.plot(sorted(s),np.arange(len(s))/len(s));",
      "metadata": {
        "trusted": true
      },
      "execution_count": null,
      "outputs": []
    },
    {
      "cell_type": "markdown",
      "source": "Generemos ahora 100 números pseudo-aleatorios normalmente distribuidos con media 2 y desviación típica 3.",
      "metadata": {}
    },
    {
      "cell_type": "code",
      "source": "r = 2+3*np.random.randn(100)\n\nplt.hist(r,10);",
      "metadata": {
        "trusted": true
      },
      "execution_count": null,
      "outputs": []
    },
    {
      "cell_type": "markdown",
      "source": "Podemos compararar el histograma y distribución acumulada empírica de estos datos con la densidad y la distribución acumulada teóricas, que tomamos del módulo `scipy.stats`.",
      "metadata": {}
    },
    {
      "cell_type": "code",
      "source": "from scipy.stats import norm\n\nx = np.linspace(-5,10,100)\n\nplt.figure(figsize=(10,3))\nplt.subplot(1,2,1)\nplt.hist(r,10,density=True,edgecolor='black');\nplt.plot(x,norm.pdf(x,2,3));\n\nplt.subplot(1,2,2)\nplt.plot(np.sort(r),np.arange(1,101)/100);\nplt.plot(x,norm.cdf(x,2,3));",
      "metadata": {
        "trusted": true
      },
      "execution_count": null,
      "outputs": []
    },
    {
      "cell_type": "markdown",
      "source": "`numpy` proporciona varias funciones estadísticas. Se pueden expresar como propiedades del array o como funciones normales. Elige la forma que más te guste:",
      "metadata": {}
    },
    {
      "cell_type": "code",
      "source": "r.mean()",
      "metadata": {
        "trusted": true
      },
      "execution_count": null,
      "outputs": []
    },
    {
      "cell_type": "code",
      "source": "np.mean(r)",
      "metadata": {
        "tags": [],
        "trusted": true
      },
      "execution_count": null,
      "outputs": []
    },
    {
      "cell_type": "code",
      "source": "r.max()",
      "metadata": {
        "trusted": true
      },
      "execution_count": null,
      "outputs": []
    },
    {
      "cell_type": "code",
      "source": "min(r)",
      "metadata": {
        "trusted": true
      },
      "execution_count": null,
      "outputs": []
    },
    {
      "cell_type": "code",
      "source": "r.std()",
      "metadata": {
        "trusted": true
      },
      "execution_count": null,
      "outputs": []
    },
    {
      "cell_type": "code",
      "source": "np.median(r)",
      "metadata": {
        "trusted": true
      },
      "execution_count": null,
      "outputs": []
    },
    {
      "cell_type": "markdown",
      "source": "Finalmente, supongamos que queremos saber cómo se transforma una distribución uniforme entre cero y uno con la función $f(x)=x^2$. La densidad de probabilidad resultante se puede obtener de forma analítica, pero también podemos visualizar el resultado fácilmente aplicando la función a una muestra aleatoria.",
      "metadata": {}
    },
    {
      "cell_type": "code",
      "source": "x = np.random.rand(10000)\nplt.hist(x,np.linspace(0,1,20));",
      "metadata": {
        "trusted": true
      },
      "execution_count": null,
      "outputs": []
    },
    {
      "cell_type": "code",
      "source": "y = x**2\nplt.hist(y, np.linspace(0,1,20));",
      "metadata": {
        "trusted": true
      },
      "execution_count": null,
      "outputs": []
    },
    {
      "cell_type": "markdown",
      "source": "### Lectura desde archivo",
      "metadata": {}
    },
    {
      "cell_type": "markdown",
      "source": "El módulo `pandas` proporciona el tipo \"dataframe\", muy utilizado en análisis de datos. Permite leer conjuntos de datos almacenados en archivos que pueden estar incluso en una máquina remota.",
      "metadata": {}
    },
    {
      "cell_type": "markdown",
      "source": "El siguiente archivo contiene datos astronómicos tomados de https://ned.ipac.caltech.edu/.",
      "metadata": {}
    },
    {
      "cell_type": "code",
      "source": "import pandas as pd",
      "metadata": {
        "trusted": true
      },
      "execution_count": null,
      "outputs": []
    },
    {
      "cell_type": "code",
      "source": "# Si estamos en jupyterlite lo leemos de la carpeta local datos, y si no de una máquina remota.\n\ntry:\n    df = pd.read_table('https://robot.inf.um.es/material/data/ConstanteHubbleDatos-1.txt', sep='\\s+', comment='#')\nexcept:\n    df = pd.read_table('datos/hubble.txt', sep='\\s+', comment='#')    \n\ndf",
      "metadata": {
        "trusted": true
      },
      "execution_count": null,
      "outputs": []
    },
    {
      "cell_type": "markdown",
      "source": "Un experimento interesante es ajustar un modelo lineal a un conjunto de observaciones. Definimos una función auxiliar para dibujar cómo queda una recta cualquiera:",
      "metadata": {}
    },
    {
      "cell_type": "code",
      "source": "# extraemos las columnas de las variables que nos interesan\nx = df.Magnitud.values\ny = df['V(km/s)'].values\nn = len(x)\n\n# dibuja una recta con coeficientes a,b entre x1 y x2\ndef abline(a,b,x1,x2):\n    x = np.linspace(x1,x2,10)\n    plt.plot(x,a*x+b)\n\n\ndef fun(a = 1200, b=0):\n    plt.figure(figsize=(5,5))\n    plt.plot(x,y,'.',markersize=10)\n    plt.grid(); plt.xlabel('Magnitud'); plt.ylabel('velocity'); \n    plt.title('Redshift data');\n    abline(a, b, 0,20)\n    plt.axis([11,20,-10000,40000])",
      "metadata": {
        "trusted": true
      },
      "execution_count": null,
      "outputs": []
    },
    {
      "cell_type": "markdown",
      "source": "Por ejemplo:",
      "metadata": {}
    },
    {
      "cell_type": "code",
      "source": "fun(1100,500)",
      "metadata": {
        "trusted": true
      },
      "execution_count": null,
      "outputs": []
    },
    {
      "cell_type": "markdown",
      "source": "Por supuesto, tiene más sentido encontrar automáticamente la \"recta de regresión\", que minimiza el error cuadrático. Lo vamos a hacer con el módulo `scikit-learn`.",
      "metadata": {}
    },
    {
      "cell_type": "code",
      "source": "# !pip install scikit-learn\n\nfrom sklearn import linear_model",
      "metadata": {
        "trusted": true
      },
      "execution_count": null,
      "outputs": []
    },
    {
      "cell_type": "code",
      "source": "model = linear_model.LinearRegression()\nmodel.fit(x.reshape(n,1),y.reshape(n,1))  # hace falta convertir los vectores en matrices",
      "metadata": {
        "trusted": true
      },
      "execution_count": null,
      "outputs": []
    },
    {
      "cell_type": "code",
      "source": "model.coef_",
      "metadata": {
        "trusted": true
      },
      "execution_count": null,
      "outputs": []
    },
    {
      "cell_type": "code",
      "source": "model.intercept_",
      "metadata": {
        "trusted": true
      },
      "execution_count": null,
      "outputs": []
    },
    {
      "cell_type": "code",
      "source": "fun(model.coef_[0][0], model.intercept_[0])",
      "metadata": {
        "trusted": true
      },
      "execution_count": null,
      "outputs": []
    },
    {
      "cell_type": "markdown",
      "source": "Habría que evaluar la calidad del modelo obtenido sobre muestras independientes para ver si tiene sentido usarlo para predecir casos futuros.",
      "metadata": {}
    },
    {
      "cell_type": "markdown",
      "source": "### Ciudades",
      "metadata": {}
    },
    {
      "cell_type": "markdown",
      "source": "El módulo pandas puede leer hojas de cálculo de Excel. Como ejemplo vamos a hacer unos cuantos experimentos con las ciudades de España.",
      "metadata": {}
    },
    {
      "cell_type": "code",
      "source": "# (obsoleto, 2010)\n# https://www.businessintelligence.info/varios/longitud-latitud-pueblos-espana.html\n\ntry: \n    # !pip install xlrd\n    df = pd.read_excel('https://robot.inf.um.es/material/data/listado-longitud-latitud-municipios-espana.xls',skiprows=2)\nexcept:\n    %pip install xlrd\n    df = pd.read_excel('datos/municipios.xls',skiprows=2)\n\ndf.head()",
      "metadata": {
        "trusted": true
      },
      "execution_count": null,
      "outputs": []
    },
    {
      "cell_type": "markdown",
      "source": "Tenemos un \"dataframe\" (tabla de datos) con los más de 8000 municipios. Podemos seleccionar los casos (filas) que cumplan una condición, y los atributos deseados (columnas). Finalmente podemos ordenar por cualquier criterio.",
      "metadata": {}
    },
    {
      "cell_type": "code",
      "source": "df[df.Habitantes > 200000][['Población','Habitantes']].sort_values(by='Habitantes', ascending=False)",
      "metadata": {
        "trusted": true
      },
      "execution_count": null,
      "outputs": []
    },
    {
      "cell_type": "markdown",
      "source": "Como primer ejemplo vamos a dibujar la posición de las ciudades más grandes.",
      "metadata": {}
    },
    {
      "cell_type": "code",
      "source": "sel = df[(df.Habitantes > 250000) & (df.Comunidad != 'Canarias')]\n\nx   = sel.Longitud.values\ny   = sel.Latitud.values\npob = sel.Población.values",
      "metadata": {
        "trusted": true
      },
      "execution_count": null,
      "outputs": []
    },
    {
      "cell_type": "code",
      "source": "plt.figure(figsize=(6,6))\nplt.plot(x,y,'.',markersize=15)\nfor k in range(len(pob)):\n    plt.text(x[k]+0.2,y[k],pob[k],fontsize=10)\nplt.xlabel('longitud'); plt.ylabel('latitud');",
      "metadata": {
        "trusted": true
      },
      "execution_count": null,
      "outputs": []
    },
    {
      "cell_type": "markdown",
      "source": "Ten en cuenta que las coordenadas esféricas representadas en un plano producen una deformación.",
      "metadata": {}
    },
    {
      "cell_type": "markdown",
      "source": "### Ciudades más alejadas",
      "metadata": {}
    },
    {
      "cell_type": "markdown",
      "source": "¿Cuál es la pareja de ciudades españolas  más alejadas entre sí, dentro de la península? (Podemos considerar solo las más grandes, con más de 10K habitantes por ejemplo.)",
      "metadata": {}
    },
    {
      "cell_type": "markdown",
      "source": "Para resolver este problema necesitamos dos cosas:\n\n- una función que convierta posiciones GPS en puntos sobre la superficie terrestre (suponemos una esfera y altitud común) para calcular la distancia correctamente.\n\n\n- hacer un bucle doble para calcular las distancias entre todas las parejas de ciudades. ",
      "metadata": {}
    },
    {
      "cell_type": "markdown",
      "source": "En primer lugar vamos a crear una función auxiliar para extraer las coordenadas gps de una ciudad dada.",
      "metadata": {}
    },
    {
      "cell_type": "code",
      "source": "df[df.Población=='Toledo']",
      "metadata": {
        "trusted": true
      },
      "execution_count": null,
      "outputs": []
    },
    {
      "cell_type": "code",
      "source": "df[df.Población=='Toledo'][['Latitud','Longitud']].iloc[0]",
      "metadata": {
        "trusted": true
      },
      "execution_count": null,
      "outputs": []
    },
    {
      "cell_type": "markdown",
      "source": "Viendo cómo funciona la selección de filas y columnas y tras unas cuantas pruebas, elegimos esa definición:",
      "metadata": {}
    },
    {
      "cell_type": "code",
      "source": "def gps(ciudad):\n    return np.array(df[df.Población==ciudad][['Latitud','Longitud']].iloc[0])\n\ngps('Toledo')",
      "metadata": {
        "trusted": true
      },
      "execution_count": null,
      "outputs": []
    },
    {
      "cell_type": "markdown",
      "source": "Para calcular la distancia entre dos puntos gps convertimos las coordenadas esféricas a vectores 3D cartesianos y luego vemos el ángulo que forman.",
      "metadata": {}
    },
    {
      "cell_type": "code",
      "source": "def tovec(p):\n    la,lo = np.radians(p)\n    z = np.sin(la)\n    x = np.cos(la) * np.cos(lo)\n    y = np.cos(la) * np.sin(lo)\n    return np.array([x,y,z])\n\nRT = 6371\n\ndef geodist(p,q):\n    v1 = tovec(p)\n    v2 = tovec(q)\n    x = v1 @ v2\n    if abs(x) > 1:\n        return 0\n    a = np.arccos(x)\n    return RT*a\n\n\ngeodist(gps('Murcia'),gps('Cartagena'))",
      "metadata": {
        "trusted": true
      },
      "execution_count": null,
      "outputs": []
    },
    {
      "cell_type": "markdown",
      "source": "Ya estamos en condiciones de encontrar al máxima distancia. Primero \"filtramos\" las ciudades, quitando las que están fuera de la península o son pequeñas.",
      "metadata": {}
    },
    {
      "cell_type": "code",
      "source": "# OJO, hay errores en la hoja excel en las coordenadas gps de algún pueblo pequeño.\nsel = df[  (df.Comunidad !='Canarias') \n         & (df.Comunidad != 'Islas Baleares') \n         & (df.Comunidad != 'Ceuta y Melilla') \n         & (df.Habitantes>10000)]\n\nn = len(sel)\nprint(n)\npob = sel.Población.values\nx   = sel.Latitud.values\ny   = sel.Longitud.values\nr = np.array([x,y]).T\nr[:3]",
      "metadata": {
        "trusted": true
      },
      "execution_count": null,
      "outputs": []
    },
    {
      "cell_type": "markdown",
      "source": "Hemos juntado x e y en una matriz r, de modo que r[k] nos da las coordenadas gps de la ciudad k-esima.",
      "metadata": {}
    },
    {
      "cell_type": "markdown",
      "source": "Creamos una lista de tuplas con todos los pares de ciudades y sus distancias.",
      "metadata": {}
    },
    {
      "cell_type": "code",
      "source": "dists = [ (geodist(r[k], r[j]), pob[k], pob[j])\n            for k in range(n)\n            for j in range(n)\n            if k>j ]",
      "metadata": {
        "trusted": true
      },
      "execution_count": null,
      "outputs": []
    },
    {
      "cell_type": "code",
      "source": "dists[:5]",
      "metadata": {
        "trusted": true
      },
      "execution_count": null,
      "outputs": []
    },
    {
      "cell_type": "markdown",
      "source": "Y finalmente ordenamos la lista de tuplas. La ordenación de objetos que no son simples números se hace atendiendo a su primer elemento.",
      "metadata": {}
    },
    {
      "cell_type": "code",
      "source": "sorted(dists,reverse=True)[:10]",
      "metadata": {
        "trusted": true
      },
      "execution_count": null,
      "outputs": []
    },
    {
      "cell_type": "markdown",
      "source": "Podemos resolver el mismo problema con otra selección de ciudades:",
      "metadata": {}
    },
    {
      "cell_type": "code",
      "source": "sel = df[(df.Comunidad =='Murcia')]\n\nn = len(sel)\nprint(n)\npob = sel.Población.values\nx   = sel.Latitud.values\ny   = sel.Longitud.values\nr = np.array([x,y]).T\n\ndists = [ (geodist(r[k], r[j]), pob[k], pob[j])\n            for k in range(n)\n            for j in range(n)\n            if k>j ]",
      "metadata": {
        "trusted": true
      },
      "execution_count": null,
      "outputs": []
    },
    {
      "cell_type": "code",
      "source": "sorted(dists,reverse=True)[:10]",
      "metadata": {
        "trusted": true
      },
      "execution_count": null,
      "outputs": []
    },
    {
      "cell_type": "markdown",
      "source": "Nota: es posible calcular una matriz de distancias entre parejas de puntos usando `numpy`, lo que es mucho más eficiente que el bucle doble explícito de Python. Pero no merece la pena complicar el ejercicio.",
      "metadata": {}
    },
    {
      "cell_type": "markdown",
      "source": "### Zipf's law",
      "metadata": {}
    },
    {
      "cell_type": "markdown",
      "source": "Aprovechando que tenemos el número de habitantes de las ciudades vamos a mostrar su histograma:",
      "metadata": {}
    },
    {
      "cell_type": "code",
      "source": "plt.figure(figsize=(10,3))\nplt.hist(df[(df.Habitantes>100)].Habitantes,log=True,bins=30);",
      "metadata": {
        "trusted": true
      },
      "execution_count": null,
      "outputs": []
    },
    {
      "cell_type": "markdown",
      "source": "Tiene una forma muy característica, completamente distinta de las distribuciones normales (con forma de campana) que se observan en otro tipo de procesos aleatorios. El histograma en escala logarítmica parece que se comporta mejor:",
      "metadata": {}
    },
    {
      "cell_type": "code",
      "source": "plt.figure(figsize=(10,3))\nplt.hist(df[(df.Habitantes>100)].Habitantes,log=True,bins=np.logspace(1, 7, 50));plt.xscale('log');",
      "metadata": {
        "trusted": true
      },
      "execution_count": null,
      "outputs": []
    },
    {
      "cell_type": "markdown",
      "source": "Pero lo que realmente es indicativo es la distribución acumulada empírica:",
      "metadata": {}
    },
    {
      "cell_type": "code",
      "source": "plt.figure(figsize=(10,3))\nx = sorted(np.array(df[df.Habitantes>100].Habitantes))\nk = np.arange(len(x))/len(x)\nplt.plot(x,k); plt.xlim(-1000,10000);",
      "metadata": {
        "trusted": true
      },
      "execution_count": null,
      "outputs": []
    },
    {
      "cell_type": "markdown",
      "source": "Tiene toda la pinta de ser una distribución \"scale free\" o  \"[power law](https://en.wikipedia.org/wiki/Power_law)\". Si mostramos en escalas logarítmicas el tamaño de cada ciudad frente a su número de orden obtenemos una dependencia esencialmente lineal, cuya pendiente es el parámetro característico de la distribución.",
      "metadata": {}
    },
    {
      "cell_type": "code",
      "source": "dfs = df[df.Habitantes>1000].sort_values('Habitantes',ascending=False)\n\nnames = list(dfs.Población)\nx = list(dfs.Habitantes)\nplt.figure(figsize=(12,6))\nplt.plot(1+np.arange(len(x)), x ,'.-',lw=1,markersize=5);\nfor k in range(20):\n    plt.text(1+k,x[k],names[k],rotation=45,horizontalalignment='left',verticalalignment='bottom',fontsize=8)\nplt.xscale('log'); plt.yscale('log');",
      "metadata": {
        "trusted": true
      },
      "execution_count": null,
      "outputs": []
    },
    {
      "cell_type": "markdown",
      "source": "Lo mismo ocurre en un subconjunto (al menos en un cierto rango de tamaños).",
      "metadata": {}
    },
    {
      "cell_type": "code",
      "source": "dfs = df[df.Comunidad=='Murcia'].sort_values('Habitantes',ascending=False)\n\nnames = list(dfs.Población)\nx = list(dfs.Habitantes)\nplt.figure(figsize=(12,6))\nplt.plot(1+np.arange(len(x)), x ,'.-',lw=1,markersize=5);\nfor k in range(len(x)):\n    plt.text(1+k,x[k],names[k],rotation=45,horizontalalignment='left',verticalalignment='bottom',fontsize=8)\nplt.xscale('log'); plt.yscale('log');",
      "metadata": {
        "trusted": true
      },
      "execution_count": null,
      "outputs": []
    },
    {
      "cell_type": "markdown",
      "source": "Este tipo de distribución se observa en muchos otros fenómenos. Por ejemplo, en la frecuencia de las palabras de un idioma:",
      "metadata": {}
    },
    {
      "cell_type": "code",
      "source": "#https://en.wiktionary.org/wiki/User:Matthias_Buchmeier/Spanish_frequency_list-1-5000\ndata = open('datos/palabras.txt').read().split(' ')\nfreqs = np.array(data[0::2]).astype(float)\nwords = data[1::2]\n\nks = np.arange(1,1+len(freqs))",
      "metadata": {
        "trusted": true
      },
      "execution_count": null,
      "outputs": []
    },
    {
      "cell_type": "code",
      "source": "plt.figure(figsize=(12,4))\nplt.plot(ks,freqs,'.-');\nfor k in range(25):\n    plt.text(1+k,freqs[k],words[k],rotation=45,horizontalalignment='left',verticalalignment='bottom',fontsize=8)\nplt.xscale('log'); plt.yscale('log');",
      "metadata": {
        "trusted": true
      },
      "execution_count": null,
      "outputs": []
    }
  ]
}