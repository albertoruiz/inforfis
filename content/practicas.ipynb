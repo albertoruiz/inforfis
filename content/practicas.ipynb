{
  "metadata": {
    "hide_input": false,
    "varInspector": {
      "cols": {
        "lenName": 16,
        "lenType": 16,
        "lenVar": 40
      },
      "kernels_config": {
        "python": {
          "delete_cmd_postfix": "",
          "delete_cmd_prefix": "del ",
          "library": "var_list.py",
          "varRefreshCmd": "print(var_dic_list())"
        },
        "r": {
          "delete_cmd_postfix": ") ",
          "delete_cmd_prefix": "rm(",
          "library": "var_list.r",
          "varRefreshCmd": "cat(var_dic_list()) "
        }
      },
      "types_to_exclude": [
        "module",
        "function",
        "builtin_function_or_method",
        "instance",
        "_Feature"
      ],
      "window_display": false
    },
    "widgets": {
      "application/vnd.jupyter.widget-state+json": {
        "version_major": 2,
        "version_minor": 0,
        "state": {}
      }
    },
    "kernelspec": {
      "name": "python",
      "display_name": "Python (Pyodide)",
      "language": "python"
    },
    "language_info": {
      "codemirror_mode": {
        "name": "python",
        "version": 3
      },
      "file_extension": ".py",
      "mimetype": "text/x-python",
      "name": "python",
      "nbconvert_exporter": "python",
      "pygments_lexer": "ipython3",
      "version": "3.8"
    }
  },
  "nbformat_minor": 4,
  "nbformat": 4,
  "cells": [
    {
      "cell_type": "markdown",
      "source": "<p style=\"background:#f4f4f4; padding:5px; margin-left:-5px;margin-bottom:0px\">\nInformática - 1º de Física\n<br>\n<strong>Introducción a la Programación</strong>\n</p>",
      "metadata": {}
    },
    {
      "cell_type": "markdown",
      "source": "# Guion de prácticas",
      "metadata": {
        "tags": []
      }
    },
    {
      "cell_type": "markdown",
      "source": "## [Tarea 1](tareas/Tarea1.ipynb)",
      "metadata": {}
    },
    {
      "cell_type": "markdown",
      "source": "## [Tarea 2](tareas/Tarea2.ipynb)",
      "metadata": {}
    },
    {
      "cell_type": "markdown",
      "source": "## [Tarea 3](tareas/Tarea3.ipynb)",
      "metadata": {}
    },
    {
      "cell_type": "markdown",
      "source": "## [Tarea 4](tareas/Tarea4.ipynb)",
      "metadata": {}
    }
  ]
}