{
  "metadata": {
    "hide_input": false,
    "varInspector": {
      "cols": {
        "lenName": 16,
        "lenType": 16,
        "lenVar": 40
      },
      "kernels_config": {
        "python": {
          "delete_cmd_postfix": "",
          "delete_cmd_prefix": "del ",
          "library": "var_list.py",
          "varRefreshCmd": "print(var_dic_list())"
        },
        "r": {
          "delete_cmd_postfix": ") ",
          "delete_cmd_prefix": "rm(",
          "library": "var_list.r",
          "varRefreshCmd": "cat(var_dic_list()) "
        }
      },
      "types_to_exclude": [
        "module",
        "function",
        "builtin_function_or_method",
        "instance",
        "_Feature"
      ],
      "window_display": false
    },
    "kernelspec": {
      "name": "python",
      "display_name": "Python (Pyodide)",
      "language": "python"
    },
    "language_info": {
      "codemirror_mode": {
        "name": "python",
        "version": 3
      },
      "file_extension": ".py",
      "mimetype": "text/x-python",
      "name": "python",
      "nbconvert_exporter": "python",
      "pygments_lexer": "ipython3",
      "version": "3.8"
    }
  },
  "nbformat_minor": 4,
  "nbformat": 4,
  "cells": [
    {
      "cell_type": "markdown",
      "source": "<p style=\"background:#eeeeee\">\nInformática - 1º de Física\n<br>\n<strong>Introducción a la Programación</strong>\n</p>",
      "metadata": {}
    },
    {
      "cell_type": "markdown",
      "source": "# Partículas en una caja",
      "metadata": {}
    },
    {
      "cell_type": "markdown",
      "source": "## Método de Euler",
      "metadata": {}
    },
    {
      "cell_type": "markdown",
      "source": "Para simular sistemas en los que casi todo el tiempo los objetos se mueven a velocidad constante, o donde interesa estudiar el comportamiento global sin preocuparnos mucho de los detalles, no es necesario un integrador preciso y podemos usar el sencillo método de Euler:\n\n$$ v = \\frac{dr}{dt} \\simeq \\frac{\\Delta r}{\\Delta t} $$\n\nPara un $\\Delta t$ pequeño:\n\n$$r_{k+1} = r_{k} + v_k \\Delta t $$\n\nGráficamente:",
      "metadata": {}
    },
    {
      "cell_type": "markdown",
      "source": "\n<img src=\"graph/euler1.png\" width='50%'>\n\n\n\n\nSi la velocidad es constante el objeto seguirá una trayectoria recta. Si hay aceleración, el método de Euler se aplica en dos pasos: uno para actualizar la velocidad y otro para la posición.\n\n\n<img src=\"graph/euler2.png\" width='50%'>\n\n\n\\begin{aligned}\nv_{k+1} &= v_{k} + a_k \\Delta t \\\\\nr_{k+1} &= r_{k} + v_{k+1} \\Delta t \n\\end{aligned}\n\nMarcamos en rojo la velocidad para indicar que es la ya corregida por la aceleración en ese paso.",
      "metadata": {}
    },
    {
      "cell_type": "markdown",
      "source": "Vamos a ver algunas simulaciones mediante esta técnica mostrando el resultado mediante animaciones.",
      "metadata": {}
    },
    {
      "cell_type": "code",
      "source": "import numpy as np\nimport matplotlib.pyplot as plt\n\nfrom matplotlib import animation, rc\nrc('animation', html='html5')\nfrom IPython.display import HTML",
      "metadata": {
        "trusted": true
      },
      "execution_count": null,
      "outputs": []
    },
    {
      "cell_type": "markdown",
      "source": "## Movimiento uniforme",
      "metadata": {}
    },
    {
      "cell_type": "markdown",
      "source": "Partícula en movimiento uniforme",
      "metadata": {}
    },
    {
      "cell_type": "code",
      "source": "# preparamos el gráfico\nfig, ax = plt.subplots(figsize=(6,6))\nax.set_xlim(( 0,1 )); plt.xlabel('x')\nax.set_ylim(( 0, 1)); plt.ylabel('y')\n[punto] = ax.plot([],[],'.',color='black',markersize=20)\nplt.close();\n\n# condiciones iniciales\nr = np.array([0.2, 0.2])\nv = np.array([0.003, 0.007])\n\n# intervalo de integración\ndt = 1\n\ndef animate(k):\n    global r, v\n\n    # simulación física\n    r = r + v * dt\n\n    # nuevo fotograma\n    punto.set_data(r[0],r[1])\n    return ()\n\nani = animation.FuncAnimation(fig, animate, init_func=lambda:[],frames=5*30, interval=1000/30, blit=True)\nHTML(ani.to_jshtml())",
      "metadata": {
        "trusted": true
      },
      "execution_count": null,
      "outputs": []
    },
    {
      "cell_type": "markdown",
      "source": "## Aceleración",
      "metadata": {}
    },
    {
      "cell_type": "markdown",
      "source": "Partícula con aceleración",
      "metadata": {}
    },
    {
      "cell_type": "code",
      "source": "# preparamos el gráfico\nfig, ax = plt.subplots(figsize=(6,6))\nax.set_xlim(( 0,1 )); plt.xlabel('x')\nax.set_ylim(( 0, 1)); plt.ylabel('y')\n[punto] = ax.plot([],[],'.',color='black',markersize=20)\nplt.close();\n\n# condiciones iniciales\nr = np.array([0.2, 0.2])\nv = np.array([0.006, 0.02])\n\n# intervalo de integración\ndt = 1\n\ndef animate(k):\n    global r, v\n\n    # simulación física\n    a = np.array([0, -0.0005])\n\n    v += a * dt\n    r += v * dt\n\n    # nuevo fotograma\n    punto.set_data(r[0],r[1])\n    return ()\n\nani = animation.FuncAnimation(fig, animate, init_func=lambda:[],frames=5*30, interval=1000/30, blit=True)\nHTML(ani.to_jshtml())",
      "metadata": {
        "trusted": true
      },
      "execution_count": null,
      "outputs": []
    },
    {
      "cell_type": "markdown",
      "source": "## Rebote",
      "metadata": {}
    },
    {
      "cell_type": "markdown",
      "source": "Rebote contra el suelo. Cuando la partícula se sale de los límites hay simular el rebote, lo que implica deshacer el movimiento y cambiar el sentido de la velocidad.",
      "metadata": {}
    },
    {
      "cell_type": "code",
      "source": "# preparamos el gráfico\nfig, ax = plt.subplots(figsize=(6,6))\nax.set_xlim(( 0,1 )); plt.xlabel('x')\nax.set_ylim(( 0, 1)); plt.ylabel('y')\n[punto] = ax.plot([],[],'.',color='black',markersize=20)\nplt.close();\n\n# condiciones iniciales\nr = np.array([0.2, 0.2])\nv = np.array([0.006, 0.02])\n\n# intervalo de integración\ndt = 1\n\ndef animate(k):\n    global r, v\n\n    # simulación física\n\n    a = np.array([0, -0.0005])\n\n    v += a * dt\n    r += v * dt\n\n    if r[1] < 0:\n        r[1] = r[1] - 2*v[1]*dt\n        v[1] = -v[1]\n\n    # nuevo fotograma\n    punto.set_data(r[0],r[1])\n    return ()\n\nani = animation.FuncAnimation(fig, animate, init_func=lambda:[],frames=5*30, interval=1000/30, blit=True)\nHTML(ani.to_jshtml())",
      "metadata": {
        "trusted": true
      },
      "execution_count": null,
      "outputs": []
    },
    {
      "cell_type": "markdown",
      "source": "Para hacer la animación en \"tiempo real\" hay que ajustar las constantes físicas y usar un $\\Delta t$ que corresponda a los frames por segundo con los que se genera el vídeo.",
      "metadata": {}
    },
    {
      "cell_type": "markdown",
      "source": "Añadimos un \"rastro\" para observar mejor la trayectoria de la partícula.",
      "metadata": {}
    },
    {
      "cell_type": "code",
      "source": "# preparamos el gráfico\nfig, ax = plt.subplots(figsize=(6,6))\nax.set_xlim(( 0,1 )); plt.xlabel('x')\nax.set_ylim(( 0, 1)); plt.ylabel('y')\n[rastro] = ax.plot([],[],'-',color='gray')\n[punto] = ax.plot([],[],'.',color='black',markersize=20)\nplt.close();\n\nfrom collections import deque\n\nrs = deque(maxlen=20)\n\n# condiciones iniciales\nr = np.array([0.2, 0.2])\nv = np.array([0.006, 0.02])\n\n# intervalo de integración\ndt = 1\n\ndef animate(k):\n    global r, v\n\n    a = np.array([0, -0.0005])\n\n    v += a * dt\n    r += v * dt\n\n    if r[1] < 0:\n        r[1] = r[1] - 2*v[1]*dt\n        v[1] = -v[1]\n\n    rs.append(r.copy()) # ojo\n\n    # nuevo fotograma\n    punto.set_data(r[0],r[1])\n    rastro.set_data(*np.array(rs).T)\n\n    return ()\n\nani = animation.FuncAnimation(fig, animate, init_func=lambda:[],frames=5*30, interval=1000/30, blit=True)\nHTML(ani.to_jshtml())",
      "metadata": {
        "trusted": true
      },
      "execution_count": null,
      "outputs": []
    },
    {
      "cell_type": "markdown",
      "source": "## Múltiples partículas",
      "metadata": {}
    },
    {
      "cell_type": "markdown",
      "source": "La simulación de múltiples partículas es prácticamente automática usando arrays.",
      "metadata": {}
    },
    {
      "cell_type": "code",
      "source": "fig, ax = plt.subplots(figsize=(6,6))\nax.set_xlim(( 0,1 )); plt.xlabel('x')\nax.set_ylim(( 0, 1)); plt.ylabel('y')\n[puntos] = ax.plot([],[],'.',color='black',markersize=8)\nplt.close();\n\n\nn = 1000\n\n# posiciones y velocidades iniciales\nr = 0.2 + 0.3  * np.random.rand(n,2)\nv = 0.01 * np.random.randn(n,2)\n\ndt = 1\n\ndef animate(k):\n    global r, v\n\n    r += v * dt\n\n    puntos.set_data(r[:,0],r[:,1])\n    return ()\n\nani = animation.FuncAnimation(fig, animate, init_func=lambda:[],frames=5*30, interval=1000/30, blit=True)\nHTML(ani.to_jshtml())",
      "metadata": {
        "trusted": true
      },
      "execution_count": null,
      "outputs": []
    },
    {
      "cell_type": "markdown",
      "source": "## Máscara",
      "metadata": {}
    },
    {
      "cell_type": "markdown",
      "source": "En el siguiente ejemplo simulamos rebotes contra las paredes de la caja. Gracias a `numpy`, en vez de buscar explícitamente con `if` y `for` las partículas que se salen de los límites podemos usar una \"máscara\" (un array de condiciones lógicas) `reb` que indicará las componentes de velocidad que deben cambiar de sentido. Esto se realiza mediante la sencilla expresión `reb = (r > 1) |  (r < 0)`, cuyo resultado es un array $n\\times2$ de condiciones lógicas que indican la partícula - coordenada que sufre un rebote. Este array se puede usar como índice de `r` y `v` para modificar solo los elementos deseados.",
      "metadata": {}
    },
    {
      "cell_type": "code",
      "source": "fig, ax = plt.subplots(figsize=(6,6))\nax.set_xlim(( 0,1 )); plt.xlabel('x')\nax.set_ylim(( 0, 1)); plt.ylabel('y')\n[puntos] = ax.plot([],[],'.',color='black',markersize=8)\nplt.close();\n\n\nn = 1000\n\nr = 0.2 + 0.3  * np.random.rand(n,2)\nv = 0.01 * np.random.randn(n,2)\n\ndt = 1\n\ndef animate(k):\n    global r, v\n\n    r += v * dt\n\n    reb = (r > 1) |  (r < 0)\n    r[reb] -= 2*v[reb]*dt\n    v[reb] = -v[reb]\n\n    puntos.set_data(*r.T)\n    return ()\n\nani = animation.FuncAnimation(fig, animate, init_func=lambda:[], frames=5*30, interval=1000/30, blit=True)\nHTML(ani.to_jshtml())",
      "metadata": {
        "trusted": true
      },
      "execution_count": null,
      "outputs": []
    },
    {
      "cell_type": "markdown",
      "source": "## Resultado final",
      "metadata": {}
    },
    {
      "cell_type": "markdown",
      "source": "Finalmente, con una modificación muy simple podemos simular la aceleración de la gravedad y choques inelásticos contra las paredes. En este caso usamos `scatter` para poder establecer cómodamente colores distintos en cada partícula.",
      "metadata": {}
    },
    {
      "cell_type": "code",
      "source": "n = 100\n\nfig, ax = plt.subplots(figsize=(6,6))\nax.set_xlim(( 0,1 )); plt.xlabel('x')\nax.set_ylim(( 0, 1)); plt.ylabel('y')\npuntos = ax.scatter(np.arange(n),np.arange(n), s=80, alpha=0.8, c = np.random.random((n, 3)))\nplt.close();\n\n\nr = 0.4 + 0.3  * np.random.rand(n,2)\nv = 0.01 * np.random.randn(n,2)\n\na = np.array([ 0, -0.001 ])\n\ndt = 1\n\ndef animate(k):\n    global r, v\n\n    v += a * dt\n    r += v * dt\n\n    reb = (r > 1) |  (r < 0)\n    r[reb] -= 2*v[reb]*dt\n    v[reb] *= -0.8\n\n    puntos.set_offsets(r)\n    return ()\n\nani = animation.FuncAnimation(fig, animate, init_func=lambda:[], frames=10*30, interval=1000/30, blit=True)\nHTML(ani.to_jshtml())",
      "metadata": {
        "trusted": true
      },
      "execution_count": null,
      "outputs": []
    },
    {
      "cell_type": "markdown",
      "source": "Las simulaciones anteriores no son exactas porque el rebote no se produce exactamente contra la pared, sino a una pequeña distancia, pero para observar el efecto global no merece la pena complicarlo. ",
      "metadata": {}
    },
    {
      "cell_type": "markdown",
      "source": "## Ejercicios",
      "metadata": {}
    },
    {
      "cell_type": "markdown",
      "source": "Como ejercicio, intenta reproducir [este vídeo](https://robot.inf.um.es/material/inforfis/graph/caja.mp4), en el que se muestra lo que ocurre cuando situamos una barrera dentro de la caja.",
      "metadata": {}
    },
    {
      "cell_type": "markdown",
      "source": "Para simular [choques entre partículas](https://robot.inf.um.es/material/inforfis/graph/billar.mp4) es necesario determinar en cada momento las parejas de partículas que entrarían en colisión y para cada una de ellas cambiar la velocidad en la componente perpendicular al plano tangente, conservando energía y momento. En un capítulo posterior se muestran varias simulaciones basadas en esta idea.",
      "metadata": {}
    }
  ]
}